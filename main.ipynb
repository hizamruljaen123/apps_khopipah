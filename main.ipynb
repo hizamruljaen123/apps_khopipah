{
 "cells": [
  {
   "cell_type": "code",
   "execution_count": 15,
   "metadata": {},
   "outputs": [
    {
     "data": {
      "text/html": [
       "<div>\n",
       "<style scoped>\n",
       "    .dataframe tbody tr th:only-of-type {\n",
       "        vertical-align: middle;\n",
       "    }\n",
       "\n",
       "    .dataframe tbody tr th {\n",
       "        vertical-align: top;\n",
       "    }\n",
       "\n",
       "    .dataframe thead th {\n",
       "        text-align: right;\n",
       "    }\n",
       "</style>\n",
       "<table border=\"1\" class=\"dataframe\">\n",
       "  <thead>\n",
       "    <tr style=\"text-align: right;\">\n",
       "      <th></th>\n",
       "      <th>Kecamatan</th>\n",
       "      <th>Tahun</th>\n",
       "      <th>Jumlah Kecelakaan</th>\n",
       "      <th>Jumlah Meninggal</th>\n",
       "      <th>Jumlah Luka Berat</th>\n",
       "      <th>Jumlah Luka Ringan</th>\n",
       "      <th>Kondisi Jalan</th>\n",
       "      <th>Cuaca</th>\n",
       "      <th>Waktu Kecelakaan</th>\n",
       "      <th>Jumlah Kendaraan</th>\n",
       "      <th>Kecepatan Rata-rata</th>\n",
       "    </tr>\n",
       "  </thead>\n",
       "  <tbody>\n",
       "    <tr>\n",
       "      <th>0</th>\n",
       "      <td>Batang Onang</td>\n",
       "      <td>2019</td>\n",
       "      <td>93</td>\n",
       "      <td>3</td>\n",
       "      <td>17</td>\n",
       "      <td>19</td>\n",
       "      <td>Sedang</td>\n",
       "      <td>Hujan</td>\n",
       "      <td>Pagi</td>\n",
       "      <td>411</td>\n",
       "      <td>46</td>\n",
       "    </tr>\n",
       "    <tr>\n",
       "      <th>1</th>\n",
       "      <td>Batang Onang</td>\n",
       "      <td>2020</td>\n",
       "      <td>196</td>\n",
       "      <td>6</td>\n",
       "      <td>15</td>\n",
       "      <td>27</td>\n",
       "      <td>Baik</td>\n",
       "      <td>Berawan</td>\n",
       "      <td>Pagi</td>\n",
       "      <td>251</td>\n",
       "      <td>42</td>\n",
       "    </tr>\n",
       "    <tr>\n",
       "      <th>2</th>\n",
       "      <td>Batang Onang</td>\n",
       "      <td>2021</td>\n",
       "      <td>82</td>\n",
       "      <td>7</td>\n",
       "      <td>16</td>\n",
       "      <td>13</td>\n",
       "      <td>Sedang</td>\n",
       "      <td>Berawan</td>\n",
       "      <td>Siang</td>\n",
       "      <td>272</td>\n",
       "      <td>46</td>\n",
       "    </tr>\n",
       "    <tr>\n",
       "      <th>3</th>\n",
       "      <td>Batang Onang</td>\n",
       "      <td>2022</td>\n",
       "      <td>199</td>\n",
       "      <td>5</td>\n",
       "      <td>12</td>\n",
       "      <td>42</td>\n",
       "      <td>Sedang</td>\n",
       "      <td>Berawan</td>\n",
       "      <td>Pagi</td>\n",
       "      <td>312</td>\n",
       "      <td>64</td>\n",
       "    </tr>\n",
       "    <tr>\n",
       "      <th>4</th>\n",
       "      <td>Batang Onang</td>\n",
       "      <td>2023</td>\n",
       "      <td>183</td>\n",
       "      <td>7</td>\n",
       "      <td>12</td>\n",
       "      <td>40</td>\n",
       "      <td>Baik</td>\n",
       "      <td>Hujan</td>\n",
       "      <td>Pagi</td>\n",
       "      <td>207</td>\n",
       "      <td>60</td>\n",
       "    </tr>\n",
       "    <tr>\n",
       "      <th>5</th>\n",
       "      <td>Dolok</td>\n",
       "      <td>2019</td>\n",
       "      <td>103</td>\n",
       "      <td>3</td>\n",
       "      <td>15</td>\n",
       "      <td>33</td>\n",
       "      <td>Buruk</td>\n",
       "      <td>Berawan</td>\n",
       "      <td>Malam</td>\n",
       "      <td>343</td>\n",
       "      <td>43</td>\n",
       "    </tr>\n",
       "    <tr>\n",
       "      <th>6</th>\n",
       "      <td>Dolok</td>\n",
       "      <td>2020</td>\n",
       "      <td>103</td>\n",
       "      <td>3</td>\n",
       "      <td>12</td>\n",
       "      <td>47</td>\n",
       "      <td>Sedang</td>\n",
       "      <td>Cerah</td>\n",
       "      <td>Pagi</td>\n",
       "      <td>193</td>\n",
       "      <td>58</td>\n",
       "    </tr>\n",
       "    <tr>\n",
       "      <th>7</th>\n",
       "      <td>Dolok</td>\n",
       "      <td>2021</td>\n",
       "      <td>104</td>\n",
       "      <td>2</td>\n",
       "      <td>17</td>\n",
       "      <td>41</td>\n",
       "      <td>Sedang</td>\n",
       "      <td>Hujan</td>\n",
       "      <td>Malam</td>\n",
       "      <td>223</td>\n",
       "      <td>66</td>\n",
       "    </tr>\n",
       "    <tr>\n",
       "      <th>8</th>\n",
       "      <td>Dolok</td>\n",
       "      <td>2022</td>\n",
       "      <td>78</td>\n",
       "      <td>6</td>\n",
       "      <td>18</td>\n",
       "      <td>27</td>\n",
       "      <td>Baik</td>\n",
       "      <td>Cerah</td>\n",
       "      <td>Pagi</td>\n",
       "      <td>499</td>\n",
       "      <td>73</td>\n",
       "    </tr>\n",
       "    <tr>\n",
       "      <th>9</th>\n",
       "      <td>Dolok</td>\n",
       "      <td>2023</td>\n",
       "      <td>199</td>\n",
       "      <td>2</td>\n",
       "      <td>10</td>\n",
       "      <td>29</td>\n",
       "      <td>Buruk</td>\n",
       "      <td>Berawan</td>\n",
       "      <td>Siang</td>\n",
       "      <td>444</td>\n",
       "      <td>40</td>\n",
       "    </tr>\n",
       "    <tr>\n",
       "      <th>10</th>\n",
       "      <td>Dolok Sigompulon</td>\n",
       "      <td>2019</td>\n",
       "      <td>56</td>\n",
       "      <td>4</td>\n",
       "      <td>12</td>\n",
       "      <td>26</td>\n",
       "      <td>Baik</td>\n",
       "      <td>Berawan</td>\n",
       "      <td>Pagi</td>\n",
       "      <td>162</td>\n",
       "      <td>55</td>\n",
       "    </tr>\n",
       "    <tr>\n",
       "      <th>11</th>\n",
       "      <td>Dolok Sigompulon</td>\n",
       "      <td>2020</td>\n",
       "      <td>140</td>\n",
       "      <td>1</td>\n",
       "      <td>13</td>\n",
       "      <td>43</td>\n",
       "      <td>Sedang</td>\n",
       "      <td>Cerah</td>\n",
       "      <td>Pagi</td>\n",
       "      <td>194</td>\n",
       "      <td>67</td>\n",
       "    </tr>\n",
       "    <tr>\n",
       "      <th>12</th>\n",
       "      <td>Dolok Sigompulon</td>\n",
       "      <td>2021</td>\n",
       "      <td>76</td>\n",
       "      <td>1</td>\n",
       "      <td>13</td>\n",
       "      <td>15</td>\n",
       "      <td>Buruk</td>\n",
       "      <td>Hujan</td>\n",
       "      <td>Siang</td>\n",
       "      <td>334</td>\n",
       "      <td>66</td>\n",
       "    </tr>\n",
       "    <tr>\n",
       "      <th>13</th>\n",
       "      <td>Dolok Sigompulon</td>\n",
       "      <td>2022</td>\n",
       "      <td>177</td>\n",
       "      <td>5</td>\n",
       "      <td>4</td>\n",
       "      <td>11</td>\n",
       "      <td>Sedang</td>\n",
       "      <td>Berawan</td>\n",
       "      <td>Pagi</td>\n",
       "      <td>284</td>\n",
       "      <td>62</td>\n",
       "    </tr>\n",
       "    <tr>\n",
       "      <th>14</th>\n",
       "      <td>Dolok Sigompulon</td>\n",
       "      <td>2023</td>\n",
       "      <td>71</td>\n",
       "      <td>3</td>\n",
       "      <td>14</td>\n",
       "      <td>47</td>\n",
       "      <td>Sedang</td>\n",
       "      <td>Hujan</td>\n",
       "      <td>Pagi</td>\n",
       "      <td>171</td>\n",
       "      <td>41</td>\n",
       "    </tr>\n",
       "    <tr>\n",
       "      <th>15</th>\n",
       "      <td>Halongonan</td>\n",
       "      <td>2019</td>\n",
       "      <td>91</td>\n",
       "      <td>7</td>\n",
       "      <td>6</td>\n",
       "      <td>11</td>\n",
       "      <td>Baik</td>\n",
       "      <td>Cerah</td>\n",
       "      <td>Siang</td>\n",
       "      <td>121</td>\n",
       "      <td>48</td>\n",
       "    </tr>\n",
       "    <tr>\n",
       "      <th>16</th>\n",
       "      <td>Halongonan</td>\n",
       "      <td>2020</td>\n",
       "      <td>91</td>\n",
       "      <td>8</td>\n",
       "      <td>1</td>\n",
       "      <td>40</td>\n",
       "      <td>Baik</td>\n",
       "      <td>Berawan</td>\n",
       "      <td>Malam</td>\n",
       "      <td>125</td>\n",
       "      <td>64</td>\n",
       "    </tr>\n",
       "    <tr>\n",
       "      <th>17</th>\n",
       "      <td>Halongonan</td>\n",
       "      <td>2021</td>\n",
       "      <td>117</td>\n",
       "      <td>7</td>\n",
       "      <td>19</td>\n",
       "      <td>14</td>\n",
       "      <td>Buruk</td>\n",
       "      <td>Berawan</td>\n",
       "      <td>Pagi</td>\n",
       "      <td>207</td>\n",
       "      <td>46</td>\n",
       "    </tr>\n",
       "    <tr>\n",
       "      <th>18</th>\n",
       "      <td>Halongonan</td>\n",
       "      <td>2022</td>\n",
       "      <td>117</td>\n",
       "      <td>5</td>\n",
       "      <td>12</td>\n",
       "      <td>39</td>\n",
       "      <td>Buruk</td>\n",
       "      <td>Hujan</td>\n",
       "      <td>Malam</td>\n",
       "      <td>273</td>\n",
       "      <td>51</td>\n",
       "    </tr>\n",
       "    <tr>\n",
       "      <th>19</th>\n",
       "      <td>Halongonan</td>\n",
       "      <td>2023</td>\n",
       "      <td>151</td>\n",
       "      <td>6</td>\n",
       "      <td>14</td>\n",
       "      <td>46</td>\n",
       "      <td>Baik</td>\n",
       "      <td>Cerah</td>\n",
       "      <td>Siang</td>\n",
       "      <td>190</td>\n",
       "      <td>67</td>\n",
       "    </tr>\n",
       "    <tr>\n",
       "      <th>20</th>\n",
       "      <td>Halongonan Timur</td>\n",
       "      <td>2019</td>\n",
       "      <td>127</td>\n",
       "      <td>7</td>\n",
       "      <td>8</td>\n",
       "      <td>34</td>\n",
       "      <td>Baik</td>\n",
       "      <td>Cerah</td>\n",
       "      <td>Siang</td>\n",
       "      <td>387</td>\n",
       "      <td>64</td>\n",
       "    </tr>\n",
       "    <tr>\n",
       "      <th>21</th>\n",
       "      <td>Halongonan Timur</td>\n",
       "      <td>2020</td>\n",
       "      <td>124</td>\n",
       "      <td>1</td>\n",
       "      <td>1</td>\n",
       "      <td>17</td>\n",
       "      <td>Baik</td>\n",
       "      <td>Hujan</td>\n",
       "      <td>Pagi</td>\n",
       "      <td>206</td>\n",
       "      <td>66</td>\n",
       "    </tr>\n",
       "    <tr>\n",
       "      <th>22</th>\n",
       "      <td>Halongonan Timur</td>\n",
       "      <td>2021</td>\n",
       "      <td>152</td>\n",
       "      <td>3</td>\n",
       "      <td>18</td>\n",
       "      <td>24</td>\n",
       "      <td>Baik</td>\n",
       "      <td>Cerah</td>\n",
       "      <td>Pagi</td>\n",
       "      <td>360</td>\n",
       "      <td>54</td>\n",
       "    </tr>\n",
       "    <tr>\n",
       "      <th>23</th>\n",
       "      <td>Halongonan Timur</td>\n",
       "      <td>2022</td>\n",
       "      <td>127</td>\n",
       "      <td>4</td>\n",
       "      <td>16</td>\n",
       "      <td>43</td>\n",
       "      <td>Sedang</td>\n",
       "      <td>Hujan</td>\n",
       "      <td>Siang</td>\n",
       "      <td>120</td>\n",
       "      <td>40</td>\n",
       "    </tr>\n",
       "    <tr>\n",
       "      <th>24</th>\n",
       "      <td>Halongonan Timur</td>\n",
       "      <td>2023</td>\n",
       "      <td>62</td>\n",
       "      <td>8</td>\n",
       "      <td>18</td>\n",
       "      <td>21</td>\n",
       "      <td>Baik</td>\n",
       "      <td>Hujan</td>\n",
       "      <td>Pagi</td>\n",
       "      <td>179</td>\n",
       "      <td>70</td>\n",
       "    </tr>\n",
       "    <tr>\n",
       "      <th>25</th>\n",
       "      <td>Hulu Sihapas</td>\n",
       "      <td>2019</td>\n",
       "      <td>165</td>\n",
       "      <td>4</td>\n",
       "      <td>19</td>\n",
       "      <td>41</td>\n",
       "      <td>Baik</td>\n",
       "      <td>Berawan</td>\n",
       "      <td>Pagi</td>\n",
       "      <td>299</td>\n",
       "      <td>52</td>\n",
       "    </tr>\n",
       "    <tr>\n",
       "      <th>26</th>\n",
       "      <td>Hulu Sihapas</td>\n",
       "      <td>2020</td>\n",
       "      <td>90</td>\n",
       "      <td>2</td>\n",
       "      <td>19</td>\n",
       "      <td>46</td>\n",
       "      <td>Baik</td>\n",
       "      <td>Cerah</td>\n",
       "      <td>Siang</td>\n",
       "      <td>149</td>\n",
       "      <td>48</td>\n",
       "    </tr>\n",
       "    <tr>\n",
       "      <th>27</th>\n",
       "      <td>Hulu Sihapas</td>\n",
       "      <td>2021</td>\n",
       "      <td>150</td>\n",
       "      <td>2</td>\n",
       "      <td>13</td>\n",
       "      <td>26</td>\n",
       "      <td>Baik</td>\n",
       "      <td>Berawan</td>\n",
       "      <td>Malam</td>\n",
       "      <td>452</td>\n",
       "      <td>55</td>\n",
       "    </tr>\n",
       "    <tr>\n",
       "      <th>28</th>\n",
       "      <td>Hulu Sihapas</td>\n",
       "      <td>2022</td>\n",
       "      <td>109</td>\n",
       "      <td>7</td>\n",
       "      <td>9</td>\n",
       "      <td>24</td>\n",
       "      <td>Baik</td>\n",
       "      <td>Hujan</td>\n",
       "      <td>Pagi</td>\n",
       "      <td>241</td>\n",
       "      <td>41</td>\n",
       "    </tr>\n",
       "    <tr>\n",
       "      <th>29</th>\n",
       "      <td>Hulu Sihapas</td>\n",
       "      <td>2023</td>\n",
       "      <td>74</td>\n",
       "      <td>5</td>\n",
       "      <td>1</td>\n",
       "      <td>28</td>\n",
       "      <td>Buruk</td>\n",
       "      <td>Cerah</td>\n",
       "      <td>Siang</td>\n",
       "      <td>436</td>\n",
       "      <td>55</td>\n",
       "    </tr>\n",
       "    <tr>\n",
       "      <th>30</th>\n",
       "      <td>Padang Bolak</td>\n",
       "      <td>2019</td>\n",
       "      <td>169</td>\n",
       "      <td>3</td>\n",
       "      <td>12</td>\n",
       "      <td>26</td>\n",
       "      <td>Buruk</td>\n",
       "      <td>Hujan</td>\n",
       "      <td>Pagi</td>\n",
       "      <td>245</td>\n",
       "      <td>59</td>\n",
       "    </tr>\n",
       "    <tr>\n",
       "      <th>31</th>\n",
       "      <td>Padang Bolak</td>\n",
       "      <td>2020</td>\n",
       "      <td>90</td>\n",
       "      <td>3</td>\n",
       "      <td>13</td>\n",
       "      <td>13</td>\n",
       "      <td>Buruk</td>\n",
       "      <td>Cerah</td>\n",
       "      <td>Siang</td>\n",
       "      <td>187</td>\n",
       "      <td>79</td>\n",
       "    </tr>\n",
       "    <tr>\n",
       "      <th>32</th>\n",
       "      <td>Padang Bolak</td>\n",
       "      <td>2021</td>\n",
       "      <td>63</td>\n",
       "      <td>7</td>\n",
       "      <td>19</td>\n",
       "      <td>31</td>\n",
       "      <td>Baik</td>\n",
       "      <td>Berawan</td>\n",
       "      <td>Malam</td>\n",
       "      <td>456</td>\n",
       "      <td>61</td>\n",
       "    </tr>\n",
       "    <tr>\n",
       "      <th>33</th>\n",
       "      <td>Padang Bolak</td>\n",
       "      <td>2022</td>\n",
       "      <td>131</td>\n",
       "      <td>2</td>\n",
       "      <td>19</td>\n",
       "      <td>12</td>\n",
       "      <td>Buruk</td>\n",
       "      <td>Berawan</td>\n",
       "      <td>Siang</td>\n",
       "      <td>372</td>\n",
       "      <td>62</td>\n",
       "    </tr>\n",
       "    <tr>\n",
       "      <th>34</th>\n",
       "      <td>Padang Bolak</td>\n",
       "      <td>2023</td>\n",
       "      <td>60</td>\n",
       "      <td>8</td>\n",
       "      <td>8</td>\n",
       "      <td>31</td>\n",
       "      <td>Sedang</td>\n",
       "      <td>Hujan</td>\n",
       "      <td>Pagi</td>\n",
       "      <td>370</td>\n",
       "      <td>74</td>\n",
       "    </tr>\n",
       "    <tr>\n",
       "      <th>35</th>\n",
       "      <td>Padang Bolak Julu</td>\n",
       "      <td>2019</td>\n",
       "      <td>92</td>\n",
       "      <td>8</td>\n",
       "      <td>17</td>\n",
       "      <td>17</td>\n",
       "      <td>Buruk</td>\n",
       "      <td>Cerah</td>\n",
       "      <td>Siang</td>\n",
       "      <td>252</td>\n",
       "      <td>78</td>\n",
       "    </tr>\n",
       "    <tr>\n",
       "      <th>36</th>\n",
       "      <td>Padang Bolak Julu</td>\n",
       "      <td>2020</td>\n",
       "      <td>155</td>\n",
       "      <td>9</td>\n",
       "      <td>17</td>\n",
       "      <td>44</td>\n",
       "      <td>Baik</td>\n",
       "      <td>Cerah</td>\n",
       "      <td>Siang</td>\n",
       "      <td>215</td>\n",
       "      <td>59</td>\n",
       "    </tr>\n",
       "    <tr>\n",
       "      <th>37</th>\n",
       "      <td>Padang Bolak Julu</td>\n",
       "      <td>2021</td>\n",
       "      <td>78</td>\n",
       "      <td>6</td>\n",
       "      <td>4</td>\n",
       "      <td>23</td>\n",
       "      <td>Sedang</td>\n",
       "      <td>Hujan</td>\n",
       "      <td>Siang</td>\n",
       "      <td>175</td>\n",
       "      <td>58</td>\n",
       "    </tr>\n",
       "    <tr>\n",
       "      <th>38</th>\n",
       "      <td>Padang Bolak Julu</td>\n",
       "      <td>2022</td>\n",
       "      <td>100</td>\n",
       "      <td>2</td>\n",
       "      <td>8</td>\n",
       "      <td>25</td>\n",
       "      <td>Baik</td>\n",
       "      <td>Berawan</td>\n",
       "      <td>Malam</td>\n",
       "      <td>344</td>\n",
       "      <td>61</td>\n",
       "    </tr>\n",
       "    <tr>\n",
       "      <th>39</th>\n",
       "      <td>Padang Bolak Julu</td>\n",
       "      <td>2023</td>\n",
       "      <td>197</td>\n",
       "      <td>9</td>\n",
       "      <td>14</td>\n",
       "      <td>34</td>\n",
       "      <td>Baik</td>\n",
       "      <td>Cerah</td>\n",
       "      <td>Siang</td>\n",
       "      <td>347</td>\n",
       "      <td>76</td>\n",
       "    </tr>\n",
       "    <tr>\n",
       "      <th>40</th>\n",
       "      <td>Padang Bolak Tenggara</td>\n",
       "      <td>2019</td>\n",
       "      <td>124</td>\n",
       "      <td>8</td>\n",
       "      <td>12</td>\n",
       "      <td>49</td>\n",
       "      <td>Baik</td>\n",
       "      <td>Cerah</td>\n",
       "      <td>Malam</td>\n",
       "      <td>356</td>\n",
       "      <td>47</td>\n",
       "    </tr>\n",
       "    <tr>\n",
       "      <th>41</th>\n",
       "      <td>Padang Bolak Tenggara</td>\n",
       "      <td>2020</td>\n",
       "      <td>77</td>\n",
       "      <td>1</td>\n",
       "      <td>10</td>\n",
       "      <td>41</td>\n",
       "      <td>Baik</td>\n",
       "      <td>Cerah</td>\n",
       "      <td>Pagi</td>\n",
       "      <td>386</td>\n",
       "      <td>74</td>\n",
       "    </tr>\n",
       "    <tr>\n",
       "      <th>42</th>\n",
       "      <td>Padang Bolak Tenggara</td>\n",
       "      <td>2021</td>\n",
       "      <td>136</td>\n",
       "      <td>6</td>\n",
       "      <td>2</td>\n",
       "      <td>35</td>\n",
       "      <td>Sedang</td>\n",
       "      <td>Berawan</td>\n",
       "      <td>Pagi</td>\n",
       "      <td>100</td>\n",
       "      <td>70</td>\n",
       "    </tr>\n",
       "    <tr>\n",
       "      <th>43</th>\n",
       "      <td>Padang Bolak Tenggara</td>\n",
       "      <td>2022</td>\n",
       "      <td>78</td>\n",
       "      <td>9</td>\n",
       "      <td>6</td>\n",
       "      <td>42</td>\n",
       "      <td>Baik</td>\n",
       "      <td>Hujan</td>\n",
       "      <td>Pagi</td>\n",
       "      <td>215</td>\n",
       "      <td>60</td>\n",
       "    </tr>\n",
       "    <tr>\n",
       "      <th>44</th>\n",
       "      <td>Padang Bolak Tenggara</td>\n",
       "      <td>2023</td>\n",
       "      <td>161</td>\n",
       "      <td>5</td>\n",
       "      <td>10</td>\n",
       "      <td>37</td>\n",
       "      <td>Buruk</td>\n",
       "      <td>Hujan</td>\n",
       "      <td>Siang</td>\n",
       "      <td>415</td>\n",
       "      <td>67</td>\n",
       "    </tr>\n",
       "    <tr>\n",
       "      <th>45</th>\n",
       "      <td>Portibi</td>\n",
       "      <td>2019</td>\n",
       "      <td>153</td>\n",
       "      <td>8</td>\n",
       "      <td>10</td>\n",
       "      <td>45</td>\n",
       "      <td>Baik</td>\n",
       "      <td>Cerah</td>\n",
       "      <td>Pagi</td>\n",
       "      <td>208</td>\n",
       "      <td>59</td>\n",
       "    </tr>\n",
       "    <tr>\n",
       "      <th>46</th>\n",
       "      <td>Portibi</td>\n",
       "      <td>2020</td>\n",
       "      <td>182</td>\n",
       "      <td>8</td>\n",
       "      <td>9</td>\n",
       "      <td>39</td>\n",
       "      <td>Sedang</td>\n",
       "      <td>Hujan</td>\n",
       "      <td>Pagi</td>\n",
       "      <td>177</td>\n",
       "      <td>44</td>\n",
       "    </tr>\n",
       "    <tr>\n",
       "      <th>47</th>\n",
       "      <td>Portibi</td>\n",
       "      <td>2021</td>\n",
       "      <td>137</td>\n",
       "      <td>4</td>\n",
       "      <td>13</td>\n",
       "      <td>32</td>\n",
       "      <td>Buruk</td>\n",
       "      <td>Hujan</td>\n",
       "      <td>Pagi</td>\n",
       "      <td>288</td>\n",
       "      <td>77</td>\n",
       "    </tr>\n",
       "    <tr>\n",
       "      <th>48</th>\n",
       "      <td>Portibi</td>\n",
       "      <td>2022</td>\n",
       "      <td>69</td>\n",
       "      <td>7</td>\n",
       "      <td>7</td>\n",
       "      <td>26</td>\n",
       "      <td>Sedang</td>\n",
       "      <td>Berawan</td>\n",
       "      <td>Siang</td>\n",
       "      <td>235</td>\n",
       "      <td>46</td>\n",
       "    </tr>\n",
       "    <tr>\n",
       "      <th>49</th>\n",
       "      <td>Portibi</td>\n",
       "      <td>2023</td>\n",
       "      <td>99</td>\n",
       "      <td>5</td>\n",
       "      <td>16</td>\n",
       "      <td>46</td>\n",
       "      <td>Baik</td>\n",
       "      <td>Cerah</td>\n",
       "      <td>Siang</td>\n",
       "      <td>470</td>\n",
       "      <td>79</td>\n",
       "    </tr>\n",
       "    <tr>\n",
       "      <th>50</th>\n",
       "      <td>Simangambat</td>\n",
       "      <td>2019</td>\n",
       "      <td>55</td>\n",
       "      <td>3</td>\n",
       "      <td>16</td>\n",
       "      <td>42</td>\n",
       "      <td>Buruk</td>\n",
       "      <td>Cerah</td>\n",
       "      <td>Pagi</td>\n",
       "      <td>234</td>\n",
       "      <td>62</td>\n",
       "    </tr>\n",
       "    <tr>\n",
       "      <th>51</th>\n",
       "      <td>Simangambat</td>\n",
       "      <td>2020</td>\n",
       "      <td>80</td>\n",
       "      <td>3</td>\n",
       "      <td>9</td>\n",
       "      <td>42</td>\n",
       "      <td>Sedang</td>\n",
       "      <td>Berawan</td>\n",
       "      <td>Pagi</td>\n",
       "      <td>316</td>\n",
       "      <td>74</td>\n",
       "    </tr>\n",
       "    <tr>\n",
       "      <th>52</th>\n",
       "      <td>Simangambat</td>\n",
       "      <td>2021</td>\n",
       "      <td>55</td>\n",
       "      <td>2</td>\n",
       "      <td>14</td>\n",
       "      <td>38</td>\n",
       "      <td>Baik</td>\n",
       "      <td>Berawan</td>\n",
       "      <td>Siang</td>\n",
       "      <td>217</td>\n",
       "      <td>73</td>\n",
       "    </tr>\n",
       "    <tr>\n",
       "      <th>53</th>\n",
       "      <td>Simangambat</td>\n",
       "      <td>2022</td>\n",
       "      <td>176</td>\n",
       "      <td>8</td>\n",
       "      <td>3</td>\n",
       "      <td>22</td>\n",
       "      <td>Sedang</td>\n",
       "      <td>Hujan</td>\n",
       "      <td>Siang</td>\n",
       "      <td>391</td>\n",
       "      <td>69</td>\n",
       "    </tr>\n",
       "    <tr>\n",
       "      <th>54</th>\n",
       "      <td>Simangambat</td>\n",
       "      <td>2023</td>\n",
       "      <td>169</td>\n",
       "      <td>2</td>\n",
       "      <td>7</td>\n",
       "      <td>14</td>\n",
       "      <td>Baik</td>\n",
       "      <td>Hujan</td>\n",
       "      <td>Malam</td>\n",
       "      <td>148</td>\n",
       "      <td>73</td>\n",
       "    </tr>\n",
       "    <tr>\n",
       "      <th>55</th>\n",
       "      <td>Ujung Batu</td>\n",
       "      <td>2019</td>\n",
       "      <td>70</td>\n",
       "      <td>9</td>\n",
       "      <td>10</td>\n",
       "      <td>10</td>\n",
       "      <td>Buruk</td>\n",
       "      <td>Hujan</td>\n",
       "      <td>Pagi</td>\n",
       "      <td>142</td>\n",
       "      <td>45</td>\n",
       "    </tr>\n",
       "    <tr>\n",
       "      <th>56</th>\n",
       "      <td>Ujung Batu</td>\n",
       "      <td>2020</td>\n",
       "      <td>182</td>\n",
       "      <td>4</td>\n",
       "      <td>1</td>\n",
       "      <td>33</td>\n",
       "      <td>Buruk</td>\n",
       "      <td>Cerah</td>\n",
       "      <td>Siang</td>\n",
       "      <td>484</td>\n",
       "      <td>43</td>\n",
       "    </tr>\n",
       "    <tr>\n",
       "      <th>57</th>\n",
       "      <td>Ujung Batu</td>\n",
       "      <td>2021</td>\n",
       "      <td>76</td>\n",
       "      <td>8</td>\n",
       "      <td>14</td>\n",
       "      <td>46</td>\n",
       "      <td>Sedang</td>\n",
       "      <td>Berawan</td>\n",
       "      <td>Malam</td>\n",
       "      <td>348</td>\n",
       "      <td>46</td>\n",
       "    </tr>\n",
       "    <tr>\n",
       "      <th>58</th>\n",
       "      <td>Ujung Batu</td>\n",
       "      <td>2022</td>\n",
       "      <td>90</td>\n",
       "      <td>1</td>\n",
       "      <td>12</td>\n",
       "      <td>25</td>\n",
       "      <td>Buruk</td>\n",
       "      <td>Hujan</td>\n",
       "      <td>Malam</td>\n",
       "      <td>484</td>\n",
       "      <td>72</td>\n",
       "    </tr>\n",
       "    <tr>\n",
       "      <th>59</th>\n",
       "      <td>Ujung Batu</td>\n",
       "      <td>2023</td>\n",
       "      <td>102</td>\n",
       "      <td>2</td>\n",
       "      <td>15</td>\n",
       "      <td>20</td>\n",
       "      <td>Sedang</td>\n",
       "      <td>Berawan</td>\n",
       "      <td>Siang</td>\n",
       "      <td>321</td>\n",
       "      <td>41</td>\n",
       "    </tr>\n",
       "  </tbody>\n",
       "</table>\n",
       "</div>"
      ],
      "text/plain": [
       "                Kecamatan  Tahun  Jumlah Kecelakaan  Jumlah Meninggal  \\\n",
       "0            Batang Onang   2019                 93                 3   \n",
       "1            Batang Onang   2020                196                 6   \n",
       "2            Batang Onang   2021                 82                 7   \n",
       "3            Batang Onang   2022                199                 5   \n",
       "4            Batang Onang   2023                183                 7   \n",
       "5                   Dolok   2019                103                 3   \n",
       "6                   Dolok   2020                103                 3   \n",
       "7                   Dolok   2021                104                 2   \n",
       "8                   Dolok   2022                 78                 6   \n",
       "9                   Dolok   2023                199                 2   \n",
       "10       Dolok Sigompulon   2019                 56                 4   \n",
       "11       Dolok Sigompulon   2020                140                 1   \n",
       "12       Dolok Sigompulon   2021                 76                 1   \n",
       "13       Dolok Sigompulon   2022                177                 5   \n",
       "14       Dolok Sigompulon   2023                 71                 3   \n",
       "15             Halongonan   2019                 91                 7   \n",
       "16             Halongonan   2020                 91                 8   \n",
       "17             Halongonan   2021                117                 7   \n",
       "18             Halongonan   2022                117                 5   \n",
       "19             Halongonan   2023                151                 6   \n",
       "20       Halongonan Timur   2019                127                 7   \n",
       "21       Halongonan Timur   2020                124                 1   \n",
       "22       Halongonan Timur   2021                152                 3   \n",
       "23       Halongonan Timur   2022                127                 4   \n",
       "24       Halongonan Timur   2023                 62                 8   \n",
       "25           Hulu Sihapas   2019                165                 4   \n",
       "26           Hulu Sihapas   2020                 90                 2   \n",
       "27           Hulu Sihapas   2021                150                 2   \n",
       "28           Hulu Sihapas   2022                109                 7   \n",
       "29           Hulu Sihapas   2023                 74                 5   \n",
       "30           Padang Bolak   2019                169                 3   \n",
       "31           Padang Bolak   2020                 90                 3   \n",
       "32           Padang Bolak   2021                 63                 7   \n",
       "33           Padang Bolak   2022                131                 2   \n",
       "34           Padang Bolak   2023                 60                 8   \n",
       "35      Padang Bolak Julu   2019                 92                 8   \n",
       "36      Padang Bolak Julu   2020                155                 9   \n",
       "37      Padang Bolak Julu   2021                 78                 6   \n",
       "38      Padang Bolak Julu   2022                100                 2   \n",
       "39      Padang Bolak Julu   2023                197                 9   \n",
       "40  Padang Bolak Tenggara   2019                124                 8   \n",
       "41  Padang Bolak Tenggara   2020                 77                 1   \n",
       "42  Padang Bolak Tenggara   2021                136                 6   \n",
       "43  Padang Bolak Tenggara   2022                 78                 9   \n",
       "44  Padang Bolak Tenggara   2023                161                 5   \n",
       "45                Portibi   2019                153                 8   \n",
       "46                Portibi   2020                182                 8   \n",
       "47                Portibi   2021                137                 4   \n",
       "48                Portibi   2022                 69                 7   \n",
       "49                Portibi   2023                 99                 5   \n",
       "50            Simangambat   2019                 55                 3   \n",
       "51            Simangambat   2020                 80                 3   \n",
       "52            Simangambat   2021                 55                 2   \n",
       "53            Simangambat   2022                176                 8   \n",
       "54            Simangambat   2023                169                 2   \n",
       "55             Ujung Batu   2019                 70                 9   \n",
       "56             Ujung Batu   2020                182                 4   \n",
       "57             Ujung Batu   2021                 76                 8   \n",
       "58             Ujung Batu   2022                 90                 1   \n",
       "59             Ujung Batu   2023                102                 2   \n",
       "\n",
       "    Jumlah Luka Berat  Jumlah Luka Ringan Kondisi Jalan    Cuaca  \\\n",
       "0                  17                  19        Sedang    Hujan   \n",
       "1                  15                  27          Baik  Berawan   \n",
       "2                  16                  13        Sedang  Berawan   \n",
       "3                  12                  42        Sedang  Berawan   \n",
       "4                  12                  40          Baik    Hujan   \n",
       "5                  15                  33         Buruk  Berawan   \n",
       "6                  12                  47        Sedang    Cerah   \n",
       "7                  17                  41        Sedang    Hujan   \n",
       "8                  18                  27          Baik    Cerah   \n",
       "9                  10                  29         Buruk  Berawan   \n",
       "10                 12                  26          Baik  Berawan   \n",
       "11                 13                  43        Sedang    Cerah   \n",
       "12                 13                  15         Buruk    Hujan   \n",
       "13                  4                  11        Sedang  Berawan   \n",
       "14                 14                  47        Sedang    Hujan   \n",
       "15                  6                  11          Baik    Cerah   \n",
       "16                  1                  40          Baik  Berawan   \n",
       "17                 19                  14         Buruk  Berawan   \n",
       "18                 12                  39         Buruk    Hujan   \n",
       "19                 14                  46          Baik    Cerah   \n",
       "20                  8                  34          Baik    Cerah   \n",
       "21                  1                  17          Baik    Hujan   \n",
       "22                 18                  24          Baik    Cerah   \n",
       "23                 16                  43        Sedang    Hujan   \n",
       "24                 18                  21          Baik    Hujan   \n",
       "25                 19                  41          Baik  Berawan   \n",
       "26                 19                  46          Baik    Cerah   \n",
       "27                 13                  26          Baik  Berawan   \n",
       "28                  9                  24          Baik    Hujan   \n",
       "29                  1                  28         Buruk    Cerah   \n",
       "30                 12                  26         Buruk    Hujan   \n",
       "31                 13                  13         Buruk    Cerah   \n",
       "32                 19                  31          Baik  Berawan   \n",
       "33                 19                  12         Buruk  Berawan   \n",
       "34                  8                  31        Sedang    Hujan   \n",
       "35                 17                  17         Buruk    Cerah   \n",
       "36                 17                  44          Baik    Cerah   \n",
       "37                  4                  23        Sedang    Hujan   \n",
       "38                  8                  25          Baik  Berawan   \n",
       "39                 14                  34          Baik    Cerah   \n",
       "40                 12                  49          Baik    Cerah   \n",
       "41                 10                  41          Baik    Cerah   \n",
       "42                  2                  35        Sedang  Berawan   \n",
       "43                  6                  42          Baik    Hujan   \n",
       "44                 10                  37         Buruk    Hujan   \n",
       "45                 10                  45          Baik    Cerah   \n",
       "46                  9                  39        Sedang    Hujan   \n",
       "47                 13                  32         Buruk    Hujan   \n",
       "48                  7                  26        Sedang  Berawan   \n",
       "49                 16                  46          Baik    Cerah   \n",
       "50                 16                  42         Buruk    Cerah   \n",
       "51                  9                  42        Sedang  Berawan   \n",
       "52                 14                  38          Baik  Berawan   \n",
       "53                  3                  22        Sedang    Hujan   \n",
       "54                  7                  14          Baik    Hujan   \n",
       "55                 10                  10         Buruk    Hujan   \n",
       "56                  1                  33         Buruk    Cerah   \n",
       "57                 14                  46        Sedang  Berawan   \n",
       "58                 12                  25         Buruk    Hujan   \n",
       "59                 15                  20        Sedang  Berawan   \n",
       "\n",
       "   Waktu Kecelakaan  Jumlah Kendaraan  Kecepatan Rata-rata  \n",
       "0              Pagi               411                   46  \n",
       "1              Pagi               251                   42  \n",
       "2             Siang               272                   46  \n",
       "3              Pagi               312                   64  \n",
       "4              Pagi               207                   60  \n",
       "5             Malam               343                   43  \n",
       "6              Pagi               193                   58  \n",
       "7             Malam               223                   66  \n",
       "8              Pagi               499                   73  \n",
       "9             Siang               444                   40  \n",
       "10             Pagi               162                   55  \n",
       "11             Pagi               194                   67  \n",
       "12            Siang               334                   66  \n",
       "13             Pagi               284                   62  \n",
       "14             Pagi               171                   41  \n",
       "15            Siang               121                   48  \n",
       "16            Malam               125                   64  \n",
       "17             Pagi               207                   46  \n",
       "18            Malam               273                   51  \n",
       "19            Siang               190                   67  \n",
       "20            Siang               387                   64  \n",
       "21             Pagi               206                   66  \n",
       "22             Pagi               360                   54  \n",
       "23            Siang               120                   40  \n",
       "24             Pagi               179                   70  \n",
       "25             Pagi               299                   52  \n",
       "26            Siang               149                   48  \n",
       "27            Malam               452                   55  \n",
       "28             Pagi               241                   41  \n",
       "29            Siang               436                   55  \n",
       "30             Pagi               245                   59  \n",
       "31            Siang               187                   79  \n",
       "32            Malam               456                   61  \n",
       "33            Siang               372                   62  \n",
       "34             Pagi               370                   74  \n",
       "35            Siang               252                   78  \n",
       "36            Siang               215                   59  \n",
       "37            Siang               175                   58  \n",
       "38            Malam               344                   61  \n",
       "39            Siang               347                   76  \n",
       "40            Malam               356                   47  \n",
       "41             Pagi               386                   74  \n",
       "42             Pagi               100                   70  \n",
       "43             Pagi               215                   60  \n",
       "44            Siang               415                   67  \n",
       "45             Pagi               208                   59  \n",
       "46             Pagi               177                   44  \n",
       "47             Pagi               288                   77  \n",
       "48            Siang               235                   46  \n",
       "49            Siang               470                   79  \n",
       "50             Pagi               234                   62  \n",
       "51             Pagi               316                   74  \n",
       "52            Siang               217                   73  \n",
       "53            Siang               391                   69  \n",
       "54            Malam               148                   73  \n",
       "55             Pagi               142                   45  \n",
       "56            Siang               484                   43  \n",
       "57            Malam               348                   46  \n",
       "58            Malam               484                   72  \n",
       "59            Siang               321                   41  "
      ]
     },
     "execution_count": 15,
     "metadata": {},
     "output_type": "execute_result"
    }
   ],
   "source": [
    "# Bagian 1: Memuat Data dari File Excel\n",
    "\n",
    "import pandas as pd\n",
    "\n",
    "# Memuat data dari file Excel\n",
    "file_path = 'Data_Kecelakaan_Padang_Lawas_Utara.xlsx'\n",
    "df = pd.read_excel(file_path)\n",
    "\n",
    "# Menampilkan beberapa baris pertama dari data\n",
    "df\n"
   ]
  },
  {
   "cell_type": "code",
   "execution_count": 16,
   "metadata": {},
   "outputs": [
    {
     "name": "stderr",
     "output_type": "stream",
     "text": [
      "c:\\Users\\User\\anaconda3\\Lib\\site-packages\\sklearn\\cluster\\_kmeans.py:1412: FutureWarning:\n",
      "\n",
      "The default value of `n_init` will change from 10 to 'auto' in 1.4. Set the value of `n_init` explicitly to suppress the warning\n",
      "\n",
      "c:\\Users\\User\\anaconda3\\Lib\\site-packages\\sklearn\\cluster\\_kmeans.py:1436: UserWarning:\n",
      "\n",
      "KMeans is known to have a memory leak on Windows with MKL, when there are less chunks than available threads. You can avoid it by setting the environment variable OMP_NUM_THREADS=1.\n",
      "\n"
     ]
    },
    {
     "data": {
      "text/html": [
       "<div>\n",
       "<style scoped>\n",
       "    .dataframe tbody tr th:only-of-type {\n",
       "        vertical-align: middle;\n",
       "    }\n",
       "\n",
       "    .dataframe tbody tr th {\n",
       "        vertical-align: top;\n",
       "    }\n",
       "\n",
       "    .dataframe thead th {\n",
       "        text-align: right;\n",
       "    }\n",
       "</style>\n",
       "<table border=\"1\" class=\"dataframe\">\n",
       "  <thead>\n",
       "    <tr style=\"text-align: right;\">\n",
       "      <th></th>\n",
       "      <th>Kecamatan</th>\n",
       "      <th>Tahun</th>\n",
       "      <th>Jumlah Kecelakaan</th>\n",
       "      <th>Jumlah Meninggal</th>\n",
       "      <th>Jumlah Luka Berat</th>\n",
       "      <th>Jumlah Luka Ringan</th>\n",
       "      <th>Kondisi Jalan</th>\n",
       "      <th>Cuaca</th>\n",
       "      <th>Waktu Kecelakaan</th>\n",
       "      <th>Jumlah Kendaraan</th>\n",
       "      <th>Kecepatan Rata-rata</th>\n",
       "      <th>Cluster</th>\n",
       "    </tr>\n",
       "  </thead>\n",
       "  <tbody>\n",
       "    <tr>\n",
       "      <th>0</th>\n",
       "      <td>Batang Onang</td>\n",
       "      <td>2019</td>\n",
       "      <td>93</td>\n",
       "      <td>3</td>\n",
       "      <td>17</td>\n",
       "      <td>19</td>\n",
       "      <td>Sedang</td>\n",
       "      <td>Hujan</td>\n",
       "      <td>Pagi</td>\n",
       "      <td>411</td>\n",
       "      <td>46</td>\n",
       "      <td>3</td>\n",
       "    </tr>\n",
       "    <tr>\n",
       "      <th>1</th>\n",
       "      <td>Batang Onang</td>\n",
       "      <td>2020</td>\n",
       "      <td>196</td>\n",
       "      <td>6</td>\n",
       "      <td>15</td>\n",
       "      <td>27</td>\n",
       "      <td>Baik</td>\n",
       "      <td>Berawan</td>\n",
       "      <td>Pagi</td>\n",
       "      <td>251</td>\n",
       "      <td>42</td>\n",
       "      <td>0</td>\n",
       "    </tr>\n",
       "    <tr>\n",
       "      <th>2</th>\n",
       "      <td>Batang Onang</td>\n",
       "      <td>2021</td>\n",
       "      <td>82</td>\n",
       "      <td>7</td>\n",
       "      <td>16</td>\n",
       "      <td>13</td>\n",
       "      <td>Sedang</td>\n",
       "      <td>Berawan</td>\n",
       "      <td>Siang</td>\n",
       "      <td>272</td>\n",
       "      <td>46</td>\n",
       "      <td>3</td>\n",
       "    </tr>\n",
       "    <tr>\n",
       "      <th>3</th>\n",
       "      <td>Batang Onang</td>\n",
       "      <td>2022</td>\n",
       "      <td>199</td>\n",
       "      <td>5</td>\n",
       "      <td>12</td>\n",
       "      <td>42</td>\n",
       "      <td>Sedang</td>\n",
       "      <td>Berawan</td>\n",
       "      <td>Pagi</td>\n",
       "      <td>312</td>\n",
       "      <td>64</td>\n",
       "      <td>0</td>\n",
       "    </tr>\n",
       "    <tr>\n",
       "      <th>4</th>\n",
       "      <td>Batang Onang</td>\n",
       "      <td>2023</td>\n",
       "      <td>183</td>\n",
       "      <td>7</td>\n",
       "      <td>12</td>\n",
       "      <td>40</td>\n",
       "      <td>Baik</td>\n",
       "      <td>Hujan</td>\n",
       "      <td>Pagi</td>\n",
       "      <td>207</td>\n",
       "      <td>60</td>\n",
       "      <td>0</td>\n",
       "    </tr>\n",
       "    <tr>\n",
       "      <th>5</th>\n",
       "      <td>Dolok</td>\n",
       "      <td>2019</td>\n",
       "      <td>103</td>\n",
       "      <td>3</td>\n",
       "      <td>15</td>\n",
       "      <td>33</td>\n",
       "      <td>Buruk</td>\n",
       "      <td>Berawan</td>\n",
       "      <td>Malam</td>\n",
       "      <td>343</td>\n",
       "      <td>43</td>\n",
       "      <td>1</td>\n",
       "    </tr>\n",
       "    <tr>\n",
       "      <th>6</th>\n",
       "      <td>Dolok</td>\n",
       "      <td>2020</td>\n",
       "      <td>103</td>\n",
       "      <td>3</td>\n",
       "      <td>12</td>\n",
       "      <td>47</td>\n",
       "      <td>Sedang</td>\n",
       "      <td>Cerah</td>\n",
       "      <td>Pagi</td>\n",
       "      <td>193</td>\n",
       "      <td>58</td>\n",
       "      <td>1</td>\n",
       "    </tr>\n",
       "    <tr>\n",
       "      <th>7</th>\n",
       "      <td>Dolok</td>\n",
       "      <td>2021</td>\n",
       "      <td>104</td>\n",
       "      <td>2</td>\n",
       "      <td>17</td>\n",
       "      <td>41</td>\n",
       "      <td>Sedang</td>\n",
       "      <td>Hujan</td>\n",
       "      <td>Malam</td>\n",
       "      <td>223</td>\n",
       "      <td>66</td>\n",
       "      <td>1</td>\n",
       "    </tr>\n",
       "    <tr>\n",
       "      <th>8</th>\n",
       "      <td>Dolok</td>\n",
       "      <td>2022</td>\n",
       "      <td>78</td>\n",
       "      <td>6</td>\n",
       "      <td>18</td>\n",
       "      <td>27</td>\n",
       "      <td>Baik</td>\n",
       "      <td>Cerah</td>\n",
       "      <td>Pagi</td>\n",
       "      <td>499</td>\n",
       "      <td>73</td>\n",
       "      <td>3</td>\n",
       "    </tr>\n",
       "    <tr>\n",
       "      <th>9</th>\n",
       "      <td>Dolok</td>\n",
       "      <td>2023</td>\n",
       "      <td>199</td>\n",
       "      <td>2</td>\n",
       "      <td>10</td>\n",
       "      <td>29</td>\n",
       "      <td>Buruk</td>\n",
       "      <td>Berawan</td>\n",
       "      <td>Siang</td>\n",
       "      <td>444</td>\n",
       "      <td>40</td>\n",
       "      <td>0</td>\n",
       "    </tr>\n",
       "    <tr>\n",
       "      <th>10</th>\n",
       "      <td>Dolok Sigompulon</td>\n",
       "      <td>2019</td>\n",
       "      <td>56</td>\n",
       "      <td>4</td>\n",
       "      <td>12</td>\n",
       "      <td>26</td>\n",
       "      <td>Baik</td>\n",
       "      <td>Berawan</td>\n",
       "      <td>Pagi</td>\n",
       "      <td>162</td>\n",
       "      <td>55</td>\n",
       "      <td>3</td>\n",
       "    </tr>\n",
       "    <tr>\n",
       "      <th>11</th>\n",
       "      <td>Dolok Sigompulon</td>\n",
       "      <td>2020</td>\n",
       "      <td>140</td>\n",
       "      <td>1</td>\n",
       "      <td>13</td>\n",
       "      <td>43</td>\n",
       "      <td>Sedang</td>\n",
       "      <td>Cerah</td>\n",
       "      <td>Pagi</td>\n",
       "      <td>194</td>\n",
       "      <td>67</td>\n",
       "      <td>1</td>\n",
       "    </tr>\n",
       "    <tr>\n",
       "      <th>12</th>\n",
       "      <td>Dolok Sigompulon</td>\n",
       "      <td>2021</td>\n",
       "      <td>76</td>\n",
       "      <td>1</td>\n",
       "      <td>13</td>\n",
       "      <td>15</td>\n",
       "      <td>Buruk</td>\n",
       "      <td>Hujan</td>\n",
       "      <td>Siang</td>\n",
       "      <td>334</td>\n",
       "      <td>66</td>\n",
       "      <td>3</td>\n",
       "    </tr>\n",
       "    <tr>\n",
       "      <th>13</th>\n",
       "      <td>Dolok Sigompulon</td>\n",
       "      <td>2022</td>\n",
       "      <td>177</td>\n",
       "      <td>5</td>\n",
       "      <td>4</td>\n",
       "      <td>11</td>\n",
       "      <td>Sedang</td>\n",
       "      <td>Berawan</td>\n",
       "      <td>Pagi</td>\n",
       "      <td>284</td>\n",
       "      <td>62</td>\n",
       "      <td>2</td>\n",
       "    </tr>\n",
       "    <tr>\n",
       "      <th>14</th>\n",
       "      <td>Dolok Sigompulon</td>\n",
       "      <td>2023</td>\n",
       "      <td>71</td>\n",
       "      <td>3</td>\n",
       "      <td>14</td>\n",
       "      <td>47</td>\n",
       "      <td>Sedang</td>\n",
       "      <td>Hujan</td>\n",
       "      <td>Pagi</td>\n",
       "      <td>171</td>\n",
       "      <td>41</td>\n",
       "      <td>1</td>\n",
       "    </tr>\n",
       "    <tr>\n",
       "      <th>15</th>\n",
       "      <td>Halongonan</td>\n",
       "      <td>2019</td>\n",
       "      <td>91</td>\n",
       "      <td>7</td>\n",
       "      <td>6</td>\n",
       "      <td>11</td>\n",
       "      <td>Baik</td>\n",
       "      <td>Cerah</td>\n",
       "      <td>Siang</td>\n",
       "      <td>121</td>\n",
       "      <td>48</td>\n",
       "      <td>2</td>\n",
       "    </tr>\n",
       "    <tr>\n",
       "      <th>16</th>\n",
       "      <td>Halongonan</td>\n",
       "      <td>2020</td>\n",
       "      <td>91</td>\n",
       "      <td>8</td>\n",
       "      <td>1</td>\n",
       "      <td>40</td>\n",
       "      <td>Baik</td>\n",
       "      <td>Berawan</td>\n",
       "      <td>Malam</td>\n",
       "      <td>125</td>\n",
       "      <td>64</td>\n",
       "      <td>2</td>\n",
       "    </tr>\n",
       "    <tr>\n",
       "      <th>17</th>\n",
       "      <td>Halongonan</td>\n",
       "      <td>2021</td>\n",
       "      <td>117</td>\n",
       "      <td>7</td>\n",
       "      <td>19</td>\n",
       "      <td>14</td>\n",
       "      <td>Buruk</td>\n",
       "      <td>Berawan</td>\n",
       "      <td>Pagi</td>\n",
       "      <td>207</td>\n",
       "      <td>46</td>\n",
       "      <td>3</td>\n",
       "    </tr>\n",
       "    <tr>\n",
       "      <th>18</th>\n",
       "      <td>Halongonan</td>\n",
       "      <td>2022</td>\n",
       "      <td>117</td>\n",
       "      <td>5</td>\n",
       "      <td>12</td>\n",
       "      <td>39</td>\n",
       "      <td>Buruk</td>\n",
       "      <td>Hujan</td>\n",
       "      <td>Malam</td>\n",
       "      <td>273</td>\n",
       "      <td>51</td>\n",
       "      <td>1</td>\n",
       "    </tr>\n",
       "    <tr>\n",
       "      <th>19</th>\n",
       "      <td>Halongonan</td>\n",
       "      <td>2023</td>\n",
       "      <td>151</td>\n",
       "      <td>6</td>\n",
       "      <td>14</td>\n",
       "      <td>46</td>\n",
       "      <td>Baik</td>\n",
       "      <td>Cerah</td>\n",
       "      <td>Siang</td>\n",
       "      <td>190</td>\n",
       "      <td>67</td>\n",
       "      <td>0</td>\n",
       "    </tr>\n",
       "    <tr>\n",
       "      <th>20</th>\n",
       "      <td>Halongonan Timur</td>\n",
       "      <td>2019</td>\n",
       "      <td>127</td>\n",
       "      <td>7</td>\n",
       "      <td>8</td>\n",
       "      <td>34</td>\n",
       "      <td>Baik</td>\n",
       "      <td>Cerah</td>\n",
       "      <td>Siang</td>\n",
       "      <td>387</td>\n",
       "      <td>64</td>\n",
       "      <td>2</td>\n",
       "    </tr>\n",
       "    <tr>\n",
       "      <th>21</th>\n",
       "      <td>Halongonan Timur</td>\n",
       "      <td>2020</td>\n",
       "      <td>124</td>\n",
       "      <td>1</td>\n",
       "      <td>1</td>\n",
       "      <td>17</td>\n",
       "      <td>Baik</td>\n",
       "      <td>Hujan</td>\n",
       "      <td>Pagi</td>\n",
       "      <td>206</td>\n",
       "      <td>66</td>\n",
       "      <td>2</td>\n",
       "    </tr>\n",
       "    <tr>\n",
       "      <th>22</th>\n",
       "      <td>Halongonan Timur</td>\n",
       "      <td>2021</td>\n",
       "      <td>152</td>\n",
       "      <td>3</td>\n",
       "      <td>18</td>\n",
       "      <td>24</td>\n",
       "      <td>Baik</td>\n",
       "      <td>Cerah</td>\n",
       "      <td>Pagi</td>\n",
       "      <td>360</td>\n",
       "      <td>54</td>\n",
       "      <td>0</td>\n",
       "    </tr>\n",
       "    <tr>\n",
       "      <th>23</th>\n",
       "      <td>Halongonan Timur</td>\n",
       "      <td>2022</td>\n",
       "      <td>127</td>\n",
       "      <td>4</td>\n",
       "      <td>16</td>\n",
       "      <td>43</td>\n",
       "      <td>Sedang</td>\n",
       "      <td>Hujan</td>\n",
       "      <td>Siang</td>\n",
       "      <td>120</td>\n",
       "      <td>40</td>\n",
       "      <td>1</td>\n",
       "    </tr>\n",
       "    <tr>\n",
       "      <th>24</th>\n",
       "      <td>Halongonan Timur</td>\n",
       "      <td>2023</td>\n",
       "      <td>62</td>\n",
       "      <td>8</td>\n",
       "      <td>18</td>\n",
       "      <td>21</td>\n",
       "      <td>Baik</td>\n",
       "      <td>Hujan</td>\n",
       "      <td>Pagi</td>\n",
       "      <td>179</td>\n",
       "      <td>70</td>\n",
       "      <td>3</td>\n",
       "    </tr>\n",
       "    <tr>\n",
       "      <th>25</th>\n",
       "      <td>Hulu Sihapas</td>\n",
       "      <td>2019</td>\n",
       "      <td>165</td>\n",
       "      <td>4</td>\n",
       "      <td>19</td>\n",
       "      <td>41</td>\n",
       "      <td>Baik</td>\n",
       "      <td>Berawan</td>\n",
       "      <td>Pagi</td>\n",
       "      <td>299</td>\n",
       "      <td>52</td>\n",
       "      <td>0</td>\n",
       "    </tr>\n",
       "    <tr>\n",
       "      <th>26</th>\n",
       "      <td>Hulu Sihapas</td>\n",
       "      <td>2020</td>\n",
       "      <td>90</td>\n",
       "      <td>2</td>\n",
       "      <td>19</td>\n",
       "      <td>46</td>\n",
       "      <td>Baik</td>\n",
       "      <td>Cerah</td>\n",
       "      <td>Siang</td>\n",
       "      <td>149</td>\n",
       "      <td>48</td>\n",
       "      <td>1</td>\n",
       "    </tr>\n",
       "    <tr>\n",
       "      <th>27</th>\n",
       "      <td>Hulu Sihapas</td>\n",
       "      <td>2021</td>\n",
       "      <td>150</td>\n",
       "      <td>2</td>\n",
       "      <td>13</td>\n",
       "      <td>26</td>\n",
       "      <td>Baik</td>\n",
       "      <td>Berawan</td>\n",
       "      <td>Malam</td>\n",
       "      <td>452</td>\n",
       "      <td>55</td>\n",
       "      <td>0</td>\n",
       "    </tr>\n",
       "    <tr>\n",
       "      <th>28</th>\n",
       "      <td>Hulu Sihapas</td>\n",
       "      <td>2022</td>\n",
       "      <td>109</td>\n",
       "      <td>7</td>\n",
       "      <td>9</td>\n",
       "      <td>24</td>\n",
       "      <td>Baik</td>\n",
       "      <td>Hujan</td>\n",
       "      <td>Pagi</td>\n",
       "      <td>241</td>\n",
       "      <td>41</td>\n",
       "      <td>2</td>\n",
       "    </tr>\n",
       "    <tr>\n",
       "      <th>29</th>\n",
       "      <td>Hulu Sihapas</td>\n",
       "      <td>2023</td>\n",
       "      <td>74</td>\n",
       "      <td>5</td>\n",
       "      <td>1</td>\n",
       "      <td>28</td>\n",
       "      <td>Buruk</td>\n",
       "      <td>Cerah</td>\n",
       "      <td>Siang</td>\n",
       "      <td>436</td>\n",
       "      <td>55</td>\n",
       "      <td>2</td>\n",
       "    </tr>\n",
       "    <tr>\n",
       "      <th>30</th>\n",
       "      <td>Padang Bolak</td>\n",
       "      <td>2019</td>\n",
       "      <td>169</td>\n",
       "      <td>3</td>\n",
       "      <td>12</td>\n",
       "      <td>26</td>\n",
       "      <td>Buruk</td>\n",
       "      <td>Hujan</td>\n",
       "      <td>Pagi</td>\n",
       "      <td>245</td>\n",
       "      <td>59</td>\n",
       "      <td>0</td>\n",
       "    </tr>\n",
       "    <tr>\n",
       "      <th>31</th>\n",
       "      <td>Padang Bolak</td>\n",
       "      <td>2020</td>\n",
       "      <td>90</td>\n",
       "      <td>3</td>\n",
       "      <td>13</td>\n",
       "      <td>13</td>\n",
       "      <td>Buruk</td>\n",
       "      <td>Cerah</td>\n",
       "      <td>Siang</td>\n",
       "      <td>187</td>\n",
       "      <td>79</td>\n",
       "      <td>3</td>\n",
       "    </tr>\n",
       "    <tr>\n",
       "      <th>32</th>\n",
       "      <td>Padang Bolak</td>\n",
       "      <td>2021</td>\n",
       "      <td>63</td>\n",
       "      <td>7</td>\n",
       "      <td>19</td>\n",
       "      <td>31</td>\n",
       "      <td>Baik</td>\n",
       "      <td>Berawan</td>\n",
       "      <td>Malam</td>\n",
       "      <td>456</td>\n",
       "      <td>61</td>\n",
       "      <td>3</td>\n",
       "    </tr>\n",
       "    <tr>\n",
       "      <th>33</th>\n",
       "      <td>Padang Bolak</td>\n",
       "      <td>2022</td>\n",
       "      <td>131</td>\n",
       "      <td>2</td>\n",
       "      <td>19</td>\n",
       "      <td>12</td>\n",
       "      <td>Buruk</td>\n",
       "      <td>Berawan</td>\n",
       "      <td>Siang</td>\n",
       "      <td>372</td>\n",
       "      <td>62</td>\n",
       "      <td>3</td>\n",
       "    </tr>\n",
       "    <tr>\n",
       "      <th>34</th>\n",
       "      <td>Padang Bolak</td>\n",
       "      <td>2023</td>\n",
       "      <td>60</td>\n",
       "      <td>8</td>\n",
       "      <td>8</td>\n",
       "      <td>31</td>\n",
       "      <td>Sedang</td>\n",
       "      <td>Hujan</td>\n",
       "      <td>Pagi</td>\n",
       "      <td>370</td>\n",
       "      <td>74</td>\n",
       "      <td>2</td>\n",
       "    </tr>\n",
       "    <tr>\n",
       "      <th>35</th>\n",
       "      <td>Padang Bolak Julu</td>\n",
       "      <td>2019</td>\n",
       "      <td>92</td>\n",
       "      <td>8</td>\n",
       "      <td>17</td>\n",
       "      <td>17</td>\n",
       "      <td>Buruk</td>\n",
       "      <td>Cerah</td>\n",
       "      <td>Siang</td>\n",
       "      <td>252</td>\n",
       "      <td>78</td>\n",
       "      <td>3</td>\n",
       "    </tr>\n",
       "    <tr>\n",
       "      <th>36</th>\n",
       "      <td>Padang Bolak Julu</td>\n",
       "      <td>2020</td>\n",
       "      <td>155</td>\n",
       "      <td>9</td>\n",
       "      <td>17</td>\n",
       "      <td>44</td>\n",
       "      <td>Baik</td>\n",
       "      <td>Cerah</td>\n",
       "      <td>Siang</td>\n",
       "      <td>215</td>\n",
       "      <td>59</td>\n",
       "      <td>0</td>\n",
       "    </tr>\n",
       "    <tr>\n",
       "      <th>37</th>\n",
       "      <td>Padang Bolak Julu</td>\n",
       "      <td>2021</td>\n",
       "      <td>78</td>\n",
       "      <td>6</td>\n",
       "      <td>4</td>\n",
       "      <td>23</td>\n",
       "      <td>Sedang</td>\n",
       "      <td>Hujan</td>\n",
       "      <td>Siang</td>\n",
       "      <td>175</td>\n",
       "      <td>58</td>\n",
       "      <td>2</td>\n",
       "    </tr>\n",
       "    <tr>\n",
       "      <th>38</th>\n",
       "      <td>Padang Bolak Julu</td>\n",
       "      <td>2022</td>\n",
       "      <td>100</td>\n",
       "      <td>2</td>\n",
       "      <td>8</td>\n",
       "      <td>25</td>\n",
       "      <td>Baik</td>\n",
       "      <td>Berawan</td>\n",
       "      <td>Malam</td>\n",
       "      <td>344</td>\n",
       "      <td>61</td>\n",
       "      <td>2</td>\n",
       "    </tr>\n",
       "    <tr>\n",
       "      <th>39</th>\n",
       "      <td>Padang Bolak Julu</td>\n",
       "      <td>2023</td>\n",
       "      <td>197</td>\n",
       "      <td>9</td>\n",
       "      <td>14</td>\n",
       "      <td>34</td>\n",
       "      <td>Baik</td>\n",
       "      <td>Cerah</td>\n",
       "      <td>Siang</td>\n",
       "      <td>347</td>\n",
       "      <td>76</td>\n",
       "      <td>0</td>\n",
       "    </tr>\n",
       "    <tr>\n",
       "      <th>40</th>\n",
       "      <td>Padang Bolak Tenggara</td>\n",
       "      <td>2019</td>\n",
       "      <td>124</td>\n",
       "      <td>8</td>\n",
       "      <td>12</td>\n",
       "      <td>49</td>\n",
       "      <td>Baik</td>\n",
       "      <td>Cerah</td>\n",
       "      <td>Malam</td>\n",
       "      <td>356</td>\n",
       "      <td>47</td>\n",
       "      <td>0</td>\n",
       "    </tr>\n",
       "    <tr>\n",
       "      <th>41</th>\n",
       "      <td>Padang Bolak Tenggara</td>\n",
       "      <td>2020</td>\n",
       "      <td>77</td>\n",
       "      <td>1</td>\n",
       "      <td>10</td>\n",
       "      <td>41</td>\n",
       "      <td>Baik</td>\n",
       "      <td>Cerah</td>\n",
       "      <td>Pagi</td>\n",
       "      <td>386</td>\n",
       "      <td>74</td>\n",
       "      <td>1</td>\n",
       "    </tr>\n",
       "    <tr>\n",
       "      <th>42</th>\n",
       "      <td>Padang Bolak Tenggara</td>\n",
       "      <td>2021</td>\n",
       "      <td>136</td>\n",
       "      <td>6</td>\n",
       "      <td>2</td>\n",
       "      <td>35</td>\n",
       "      <td>Sedang</td>\n",
       "      <td>Berawan</td>\n",
       "      <td>Pagi</td>\n",
       "      <td>100</td>\n",
       "      <td>70</td>\n",
       "      <td>2</td>\n",
       "    </tr>\n",
       "    <tr>\n",
       "      <th>43</th>\n",
       "      <td>Padang Bolak Tenggara</td>\n",
       "      <td>2022</td>\n",
       "      <td>78</td>\n",
       "      <td>9</td>\n",
       "      <td>6</td>\n",
       "      <td>42</td>\n",
       "      <td>Baik</td>\n",
       "      <td>Hujan</td>\n",
       "      <td>Pagi</td>\n",
       "      <td>215</td>\n",
       "      <td>60</td>\n",
       "      <td>2</td>\n",
       "    </tr>\n",
       "    <tr>\n",
       "      <th>44</th>\n",
       "      <td>Padang Bolak Tenggara</td>\n",
       "      <td>2023</td>\n",
       "      <td>161</td>\n",
       "      <td>5</td>\n",
       "      <td>10</td>\n",
       "      <td>37</td>\n",
       "      <td>Buruk</td>\n",
       "      <td>Hujan</td>\n",
       "      <td>Siang</td>\n",
       "      <td>415</td>\n",
       "      <td>67</td>\n",
       "      <td>0</td>\n",
       "    </tr>\n",
       "    <tr>\n",
       "      <th>45</th>\n",
       "      <td>Portibi</td>\n",
       "      <td>2019</td>\n",
       "      <td>153</td>\n",
       "      <td>8</td>\n",
       "      <td>10</td>\n",
       "      <td>45</td>\n",
       "      <td>Baik</td>\n",
       "      <td>Cerah</td>\n",
       "      <td>Pagi</td>\n",
       "      <td>208</td>\n",
       "      <td>59</td>\n",
       "      <td>0</td>\n",
       "    </tr>\n",
       "    <tr>\n",
       "      <th>46</th>\n",
       "      <td>Portibi</td>\n",
       "      <td>2020</td>\n",
       "      <td>182</td>\n",
       "      <td>8</td>\n",
       "      <td>9</td>\n",
       "      <td>39</td>\n",
       "      <td>Sedang</td>\n",
       "      <td>Hujan</td>\n",
       "      <td>Pagi</td>\n",
       "      <td>177</td>\n",
       "      <td>44</td>\n",
       "      <td>0</td>\n",
       "    </tr>\n",
       "    <tr>\n",
       "      <th>47</th>\n",
       "      <td>Portibi</td>\n",
       "      <td>2021</td>\n",
       "      <td>137</td>\n",
       "      <td>4</td>\n",
       "      <td>13</td>\n",
       "      <td>32</td>\n",
       "      <td>Buruk</td>\n",
       "      <td>Hujan</td>\n",
       "      <td>Pagi</td>\n",
       "      <td>288</td>\n",
       "      <td>77</td>\n",
       "      <td>0</td>\n",
       "    </tr>\n",
       "    <tr>\n",
       "      <th>48</th>\n",
       "      <td>Portibi</td>\n",
       "      <td>2022</td>\n",
       "      <td>69</td>\n",
       "      <td>7</td>\n",
       "      <td>7</td>\n",
       "      <td>26</td>\n",
       "      <td>Sedang</td>\n",
       "      <td>Berawan</td>\n",
       "      <td>Siang</td>\n",
       "      <td>235</td>\n",
       "      <td>46</td>\n",
       "      <td>2</td>\n",
       "    </tr>\n",
       "    <tr>\n",
       "      <th>49</th>\n",
       "      <td>Portibi</td>\n",
       "      <td>2023</td>\n",
       "      <td>99</td>\n",
       "      <td>5</td>\n",
       "      <td>16</td>\n",
       "      <td>46</td>\n",
       "      <td>Baik</td>\n",
       "      <td>Cerah</td>\n",
       "      <td>Siang</td>\n",
       "      <td>470</td>\n",
       "      <td>79</td>\n",
       "      <td>1</td>\n",
       "    </tr>\n",
       "    <tr>\n",
       "      <th>50</th>\n",
       "      <td>Simangambat</td>\n",
       "      <td>2019</td>\n",
       "      <td>55</td>\n",
       "      <td>3</td>\n",
       "      <td>16</td>\n",
       "      <td>42</td>\n",
       "      <td>Buruk</td>\n",
       "      <td>Cerah</td>\n",
       "      <td>Pagi</td>\n",
       "      <td>234</td>\n",
       "      <td>62</td>\n",
       "      <td>1</td>\n",
       "    </tr>\n",
       "    <tr>\n",
       "      <th>51</th>\n",
       "      <td>Simangambat</td>\n",
       "      <td>2020</td>\n",
       "      <td>80</td>\n",
       "      <td>3</td>\n",
       "      <td>9</td>\n",
       "      <td>42</td>\n",
       "      <td>Sedang</td>\n",
       "      <td>Berawan</td>\n",
       "      <td>Pagi</td>\n",
       "      <td>316</td>\n",
       "      <td>74</td>\n",
       "      <td>1</td>\n",
       "    </tr>\n",
       "    <tr>\n",
       "      <th>52</th>\n",
       "      <td>Simangambat</td>\n",
       "      <td>2021</td>\n",
       "      <td>55</td>\n",
       "      <td>2</td>\n",
       "      <td>14</td>\n",
       "      <td>38</td>\n",
       "      <td>Baik</td>\n",
       "      <td>Berawan</td>\n",
       "      <td>Siang</td>\n",
       "      <td>217</td>\n",
       "      <td>73</td>\n",
       "      <td>1</td>\n",
       "    </tr>\n",
       "    <tr>\n",
       "      <th>53</th>\n",
       "      <td>Simangambat</td>\n",
       "      <td>2022</td>\n",
       "      <td>176</td>\n",
       "      <td>8</td>\n",
       "      <td>3</td>\n",
       "      <td>22</td>\n",
       "      <td>Sedang</td>\n",
       "      <td>Hujan</td>\n",
       "      <td>Siang</td>\n",
       "      <td>391</td>\n",
       "      <td>69</td>\n",
       "      <td>2</td>\n",
       "    </tr>\n",
       "    <tr>\n",
       "      <th>54</th>\n",
       "      <td>Simangambat</td>\n",
       "      <td>2023</td>\n",
       "      <td>169</td>\n",
       "      <td>2</td>\n",
       "      <td>7</td>\n",
       "      <td>14</td>\n",
       "      <td>Baik</td>\n",
       "      <td>Hujan</td>\n",
       "      <td>Malam</td>\n",
       "      <td>148</td>\n",
       "      <td>73</td>\n",
       "      <td>2</td>\n",
       "    </tr>\n",
       "    <tr>\n",
       "      <th>55</th>\n",
       "      <td>Ujung Batu</td>\n",
       "      <td>2019</td>\n",
       "      <td>70</td>\n",
       "      <td>9</td>\n",
       "      <td>10</td>\n",
       "      <td>10</td>\n",
       "      <td>Buruk</td>\n",
       "      <td>Hujan</td>\n",
       "      <td>Pagi</td>\n",
       "      <td>142</td>\n",
       "      <td>45</td>\n",
       "      <td>3</td>\n",
       "    </tr>\n",
       "    <tr>\n",
       "      <th>56</th>\n",
       "      <td>Ujung Batu</td>\n",
       "      <td>2020</td>\n",
       "      <td>182</td>\n",
       "      <td>4</td>\n",
       "      <td>1</td>\n",
       "      <td>33</td>\n",
       "      <td>Buruk</td>\n",
       "      <td>Cerah</td>\n",
       "      <td>Siang</td>\n",
       "      <td>484</td>\n",
       "      <td>43</td>\n",
       "      <td>2</td>\n",
       "    </tr>\n",
       "    <tr>\n",
       "      <th>57</th>\n",
       "      <td>Ujung Batu</td>\n",
       "      <td>2021</td>\n",
       "      <td>76</td>\n",
       "      <td>8</td>\n",
       "      <td>14</td>\n",
       "      <td>46</td>\n",
       "      <td>Sedang</td>\n",
       "      <td>Berawan</td>\n",
       "      <td>Malam</td>\n",
       "      <td>348</td>\n",
       "      <td>46</td>\n",
       "      <td>1</td>\n",
       "    </tr>\n",
       "    <tr>\n",
       "      <th>58</th>\n",
       "      <td>Ujung Batu</td>\n",
       "      <td>2022</td>\n",
       "      <td>90</td>\n",
       "      <td>1</td>\n",
       "      <td>12</td>\n",
       "      <td>25</td>\n",
       "      <td>Buruk</td>\n",
       "      <td>Hujan</td>\n",
       "      <td>Malam</td>\n",
       "      <td>484</td>\n",
       "      <td>72</td>\n",
       "      <td>1</td>\n",
       "    </tr>\n",
       "    <tr>\n",
       "      <th>59</th>\n",
       "      <td>Ujung Batu</td>\n",
       "      <td>2023</td>\n",
       "      <td>102</td>\n",
       "      <td>2</td>\n",
       "      <td>15</td>\n",
       "      <td>20</td>\n",
       "      <td>Sedang</td>\n",
       "      <td>Berawan</td>\n",
       "      <td>Siang</td>\n",
       "      <td>321</td>\n",
       "      <td>41</td>\n",
       "      <td>3</td>\n",
       "    </tr>\n",
       "  </tbody>\n",
       "</table>\n",
       "</div>"
      ],
      "text/plain": [
       "                Kecamatan  Tahun  Jumlah Kecelakaan  Jumlah Meninggal  \\\n",
       "0            Batang Onang   2019                 93                 3   \n",
       "1            Batang Onang   2020                196                 6   \n",
       "2            Batang Onang   2021                 82                 7   \n",
       "3            Batang Onang   2022                199                 5   \n",
       "4            Batang Onang   2023                183                 7   \n",
       "5                   Dolok   2019                103                 3   \n",
       "6                   Dolok   2020                103                 3   \n",
       "7                   Dolok   2021                104                 2   \n",
       "8                   Dolok   2022                 78                 6   \n",
       "9                   Dolok   2023                199                 2   \n",
       "10       Dolok Sigompulon   2019                 56                 4   \n",
       "11       Dolok Sigompulon   2020                140                 1   \n",
       "12       Dolok Sigompulon   2021                 76                 1   \n",
       "13       Dolok Sigompulon   2022                177                 5   \n",
       "14       Dolok Sigompulon   2023                 71                 3   \n",
       "15             Halongonan   2019                 91                 7   \n",
       "16             Halongonan   2020                 91                 8   \n",
       "17             Halongonan   2021                117                 7   \n",
       "18             Halongonan   2022                117                 5   \n",
       "19             Halongonan   2023                151                 6   \n",
       "20       Halongonan Timur   2019                127                 7   \n",
       "21       Halongonan Timur   2020                124                 1   \n",
       "22       Halongonan Timur   2021                152                 3   \n",
       "23       Halongonan Timur   2022                127                 4   \n",
       "24       Halongonan Timur   2023                 62                 8   \n",
       "25           Hulu Sihapas   2019                165                 4   \n",
       "26           Hulu Sihapas   2020                 90                 2   \n",
       "27           Hulu Sihapas   2021                150                 2   \n",
       "28           Hulu Sihapas   2022                109                 7   \n",
       "29           Hulu Sihapas   2023                 74                 5   \n",
       "30           Padang Bolak   2019                169                 3   \n",
       "31           Padang Bolak   2020                 90                 3   \n",
       "32           Padang Bolak   2021                 63                 7   \n",
       "33           Padang Bolak   2022                131                 2   \n",
       "34           Padang Bolak   2023                 60                 8   \n",
       "35      Padang Bolak Julu   2019                 92                 8   \n",
       "36      Padang Bolak Julu   2020                155                 9   \n",
       "37      Padang Bolak Julu   2021                 78                 6   \n",
       "38      Padang Bolak Julu   2022                100                 2   \n",
       "39      Padang Bolak Julu   2023                197                 9   \n",
       "40  Padang Bolak Tenggara   2019                124                 8   \n",
       "41  Padang Bolak Tenggara   2020                 77                 1   \n",
       "42  Padang Bolak Tenggara   2021                136                 6   \n",
       "43  Padang Bolak Tenggara   2022                 78                 9   \n",
       "44  Padang Bolak Tenggara   2023                161                 5   \n",
       "45                Portibi   2019                153                 8   \n",
       "46                Portibi   2020                182                 8   \n",
       "47                Portibi   2021                137                 4   \n",
       "48                Portibi   2022                 69                 7   \n",
       "49                Portibi   2023                 99                 5   \n",
       "50            Simangambat   2019                 55                 3   \n",
       "51            Simangambat   2020                 80                 3   \n",
       "52            Simangambat   2021                 55                 2   \n",
       "53            Simangambat   2022                176                 8   \n",
       "54            Simangambat   2023                169                 2   \n",
       "55             Ujung Batu   2019                 70                 9   \n",
       "56             Ujung Batu   2020                182                 4   \n",
       "57             Ujung Batu   2021                 76                 8   \n",
       "58             Ujung Batu   2022                 90                 1   \n",
       "59             Ujung Batu   2023                102                 2   \n",
       "\n",
       "    Jumlah Luka Berat  Jumlah Luka Ringan Kondisi Jalan    Cuaca  \\\n",
       "0                  17                  19        Sedang    Hujan   \n",
       "1                  15                  27          Baik  Berawan   \n",
       "2                  16                  13        Sedang  Berawan   \n",
       "3                  12                  42        Sedang  Berawan   \n",
       "4                  12                  40          Baik    Hujan   \n",
       "5                  15                  33         Buruk  Berawan   \n",
       "6                  12                  47        Sedang    Cerah   \n",
       "7                  17                  41        Sedang    Hujan   \n",
       "8                  18                  27          Baik    Cerah   \n",
       "9                  10                  29         Buruk  Berawan   \n",
       "10                 12                  26          Baik  Berawan   \n",
       "11                 13                  43        Sedang    Cerah   \n",
       "12                 13                  15         Buruk    Hujan   \n",
       "13                  4                  11        Sedang  Berawan   \n",
       "14                 14                  47        Sedang    Hujan   \n",
       "15                  6                  11          Baik    Cerah   \n",
       "16                  1                  40          Baik  Berawan   \n",
       "17                 19                  14         Buruk  Berawan   \n",
       "18                 12                  39         Buruk    Hujan   \n",
       "19                 14                  46          Baik    Cerah   \n",
       "20                  8                  34          Baik    Cerah   \n",
       "21                  1                  17          Baik    Hujan   \n",
       "22                 18                  24          Baik    Cerah   \n",
       "23                 16                  43        Sedang    Hujan   \n",
       "24                 18                  21          Baik    Hujan   \n",
       "25                 19                  41          Baik  Berawan   \n",
       "26                 19                  46          Baik    Cerah   \n",
       "27                 13                  26          Baik  Berawan   \n",
       "28                  9                  24          Baik    Hujan   \n",
       "29                  1                  28         Buruk    Cerah   \n",
       "30                 12                  26         Buruk    Hujan   \n",
       "31                 13                  13         Buruk    Cerah   \n",
       "32                 19                  31          Baik  Berawan   \n",
       "33                 19                  12         Buruk  Berawan   \n",
       "34                  8                  31        Sedang    Hujan   \n",
       "35                 17                  17         Buruk    Cerah   \n",
       "36                 17                  44          Baik    Cerah   \n",
       "37                  4                  23        Sedang    Hujan   \n",
       "38                  8                  25          Baik  Berawan   \n",
       "39                 14                  34          Baik    Cerah   \n",
       "40                 12                  49          Baik    Cerah   \n",
       "41                 10                  41          Baik    Cerah   \n",
       "42                  2                  35        Sedang  Berawan   \n",
       "43                  6                  42          Baik    Hujan   \n",
       "44                 10                  37         Buruk    Hujan   \n",
       "45                 10                  45          Baik    Cerah   \n",
       "46                  9                  39        Sedang    Hujan   \n",
       "47                 13                  32         Buruk    Hujan   \n",
       "48                  7                  26        Sedang  Berawan   \n",
       "49                 16                  46          Baik    Cerah   \n",
       "50                 16                  42         Buruk    Cerah   \n",
       "51                  9                  42        Sedang  Berawan   \n",
       "52                 14                  38          Baik  Berawan   \n",
       "53                  3                  22        Sedang    Hujan   \n",
       "54                  7                  14          Baik    Hujan   \n",
       "55                 10                  10         Buruk    Hujan   \n",
       "56                  1                  33         Buruk    Cerah   \n",
       "57                 14                  46        Sedang  Berawan   \n",
       "58                 12                  25         Buruk    Hujan   \n",
       "59                 15                  20        Sedang  Berawan   \n",
       "\n",
       "   Waktu Kecelakaan  Jumlah Kendaraan  Kecepatan Rata-rata  Cluster  \n",
       "0              Pagi               411                   46        3  \n",
       "1              Pagi               251                   42        0  \n",
       "2             Siang               272                   46        3  \n",
       "3              Pagi               312                   64        0  \n",
       "4              Pagi               207                   60        0  \n",
       "5             Malam               343                   43        1  \n",
       "6              Pagi               193                   58        1  \n",
       "7             Malam               223                   66        1  \n",
       "8              Pagi               499                   73        3  \n",
       "9             Siang               444                   40        0  \n",
       "10             Pagi               162                   55        3  \n",
       "11             Pagi               194                   67        1  \n",
       "12            Siang               334                   66        3  \n",
       "13             Pagi               284                   62        2  \n",
       "14             Pagi               171                   41        1  \n",
       "15            Siang               121                   48        2  \n",
       "16            Malam               125                   64        2  \n",
       "17             Pagi               207                   46        3  \n",
       "18            Malam               273                   51        1  \n",
       "19            Siang               190                   67        0  \n",
       "20            Siang               387                   64        2  \n",
       "21             Pagi               206                   66        2  \n",
       "22             Pagi               360                   54        0  \n",
       "23            Siang               120                   40        1  \n",
       "24             Pagi               179                   70        3  \n",
       "25             Pagi               299                   52        0  \n",
       "26            Siang               149                   48        1  \n",
       "27            Malam               452                   55        0  \n",
       "28             Pagi               241                   41        2  \n",
       "29            Siang               436                   55        2  \n",
       "30             Pagi               245                   59        0  \n",
       "31            Siang               187                   79        3  \n",
       "32            Malam               456                   61        3  \n",
       "33            Siang               372                   62        3  \n",
       "34             Pagi               370                   74        2  \n",
       "35            Siang               252                   78        3  \n",
       "36            Siang               215                   59        0  \n",
       "37            Siang               175                   58        2  \n",
       "38            Malam               344                   61        2  \n",
       "39            Siang               347                   76        0  \n",
       "40            Malam               356                   47        0  \n",
       "41             Pagi               386                   74        1  \n",
       "42             Pagi               100                   70        2  \n",
       "43             Pagi               215                   60        2  \n",
       "44            Siang               415                   67        0  \n",
       "45             Pagi               208                   59        0  \n",
       "46             Pagi               177                   44        0  \n",
       "47             Pagi               288                   77        0  \n",
       "48            Siang               235                   46        2  \n",
       "49            Siang               470                   79        1  \n",
       "50             Pagi               234                   62        1  \n",
       "51             Pagi               316                   74        1  \n",
       "52            Siang               217                   73        1  \n",
       "53            Siang               391                   69        2  \n",
       "54            Malam               148                   73        2  \n",
       "55             Pagi               142                   45        3  \n",
       "56            Siang               484                   43        2  \n",
       "57            Malam               348                   46        1  \n",
       "58            Malam               484                   72        1  \n",
       "59            Siang               321                   41        3  "
      ]
     },
     "execution_count": 16,
     "metadata": {},
     "output_type": "execute_result"
    }
   ],
   "source": [
    "# Bagian 2: Normalisasi Data dan Penerapan Algoritma K-Means\n",
    "\n",
    "from sklearn.cluster import KMeans\n",
    "from sklearn.preprocessing import StandardScaler\n",
    "\n",
    "# Pilih fitur yang relevan untuk clustering\n",
    "features = [\"Jumlah Kecelakaan\", \"Jumlah Meninggal\", \"Jumlah Luka Berat\", \"Jumlah Luka Ringan\"]\n",
    "X = df[features]\n",
    "\n",
    "# Normalisasi data\n",
    "scaler = StandardScaler()\n",
    "X_scaled = scaler.fit_transform(X)\n",
    "\n",
    "# Tentukan jumlah klaster\n",
    "k = 4  # untuk Aman, Berpotensi Rawan, Rawan, Sangat Rawan\n",
    "\n",
    "# Terapkan K-Means clustering\n",
    "kmeans = KMeans(n_clusters=k, random_state=42)\n",
    "kmeans.fit(X_scaled)\n",
    "df['Cluster'] = kmeans.labels_\n",
    "\n",
    "# Display the first few rows of the resulting data with clusters\n",
    "df\n"
   ]
  },
  {
   "cell_type": "code",
   "execution_count": 17,
   "metadata": {},
   "outputs": [
    {
     "data": {
      "text/html": [
       "<div>\n",
       "<style scoped>\n",
       "    .dataframe tbody tr th:only-of-type {\n",
       "        vertical-align: middle;\n",
       "    }\n",
       "\n",
       "    .dataframe tbody tr th {\n",
       "        vertical-align: top;\n",
       "    }\n",
       "\n",
       "    .dataframe thead th {\n",
       "        text-align: right;\n",
       "    }\n",
       "</style>\n",
       "<table border=\"1\" class=\"dataframe\">\n",
       "  <thead>\n",
       "    <tr style=\"text-align: right;\">\n",
       "      <th></th>\n",
       "      <th>Kecamatan</th>\n",
       "      <th>Tahun</th>\n",
       "      <th>Jumlah Kecelakaan</th>\n",
       "      <th>Jumlah Meninggal</th>\n",
       "      <th>Jumlah Luka Berat</th>\n",
       "      <th>Jumlah Luka Ringan</th>\n",
       "      <th>Kondisi Jalan</th>\n",
       "      <th>Cuaca</th>\n",
       "      <th>Waktu Kecelakaan</th>\n",
       "      <th>Jumlah Kendaraan</th>\n",
       "      <th>Kecepatan Rata-rata</th>\n",
       "      <th>Cluster</th>\n",
       "      <th>Tingkat Kerawanan</th>\n",
       "    </tr>\n",
       "  </thead>\n",
       "  <tbody>\n",
       "    <tr>\n",
       "      <th>0</th>\n",
       "      <td>Batang Onang</td>\n",
       "      <td>2019</td>\n",
       "      <td>93</td>\n",
       "      <td>3</td>\n",
       "      <td>17</td>\n",
       "      <td>19</td>\n",
       "      <td>Sedang</td>\n",
       "      <td>Hujan</td>\n",
       "      <td>Pagi</td>\n",
       "      <td>411</td>\n",
       "      <td>46</td>\n",
       "      <td>3</td>\n",
       "      <td>Sangat Rawan</td>\n",
       "    </tr>\n",
       "    <tr>\n",
       "      <th>1</th>\n",
       "      <td>Batang Onang</td>\n",
       "      <td>2020</td>\n",
       "      <td>196</td>\n",
       "      <td>6</td>\n",
       "      <td>15</td>\n",
       "      <td>27</td>\n",
       "      <td>Baik</td>\n",
       "      <td>Berawan</td>\n",
       "      <td>Pagi</td>\n",
       "      <td>251</td>\n",
       "      <td>42</td>\n",
       "      <td>0</td>\n",
       "      <td>Aman</td>\n",
       "    </tr>\n",
       "    <tr>\n",
       "      <th>2</th>\n",
       "      <td>Batang Onang</td>\n",
       "      <td>2021</td>\n",
       "      <td>82</td>\n",
       "      <td>7</td>\n",
       "      <td>16</td>\n",
       "      <td>13</td>\n",
       "      <td>Sedang</td>\n",
       "      <td>Berawan</td>\n",
       "      <td>Siang</td>\n",
       "      <td>272</td>\n",
       "      <td>46</td>\n",
       "      <td>3</td>\n",
       "      <td>Sangat Rawan</td>\n",
       "    </tr>\n",
       "    <tr>\n",
       "      <th>3</th>\n",
       "      <td>Batang Onang</td>\n",
       "      <td>2022</td>\n",
       "      <td>199</td>\n",
       "      <td>5</td>\n",
       "      <td>12</td>\n",
       "      <td>42</td>\n",
       "      <td>Sedang</td>\n",
       "      <td>Berawan</td>\n",
       "      <td>Pagi</td>\n",
       "      <td>312</td>\n",
       "      <td>64</td>\n",
       "      <td>0</td>\n",
       "      <td>Aman</td>\n",
       "    </tr>\n",
       "    <tr>\n",
       "      <th>4</th>\n",
       "      <td>Batang Onang</td>\n",
       "      <td>2023</td>\n",
       "      <td>183</td>\n",
       "      <td>7</td>\n",
       "      <td>12</td>\n",
       "      <td>40</td>\n",
       "      <td>Baik</td>\n",
       "      <td>Hujan</td>\n",
       "      <td>Pagi</td>\n",
       "      <td>207</td>\n",
       "      <td>60</td>\n",
       "      <td>0</td>\n",
       "      <td>Aman</td>\n",
       "    </tr>\n",
       "    <tr>\n",
       "      <th>5</th>\n",
       "      <td>Dolok</td>\n",
       "      <td>2019</td>\n",
       "      <td>103</td>\n",
       "      <td>3</td>\n",
       "      <td>15</td>\n",
       "      <td>33</td>\n",
       "      <td>Buruk</td>\n",
       "      <td>Berawan</td>\n",
       "      <td>Malam</td>\n",
       "      <td>343</td>\n",
       "      <td>43</td>\n",
       "      <td>1</td>\n",
       "      <td>Berpotensi Rawan</td>\n",
       "    </tr>\n",
       "    <tr>\n",
       "      <th>6</th>\n",
       "      <td>Dolok</td>\n",
       "      <td>2020</td>\n",
       "      <td>103</td>\n",
       "      <td>3</td>\n",
       "      <td>12</td>\n",
       "      <td>47</td>\n",
       "      <td>Sedang</td>\n",
       "      <td>Cerah</td>\n",
       "      <td>Pagi</td>\n",
       "      <td>193</td>\n",
       "      <td>58</td>\n",
       "      <td>1</td>\n",
       "      <td>Berpotensi Rawan</td>\n",
       "    </tr>\n",
       "    <tr>\n",
       "      <th>7</th>\n",
       "      <td>Dolok</td>\n",
       "      <td>2021</td>\n",
       "      <td>104</td>\n",
       "      <td>2</td>\n",
       "      <td>17</td>\n",
       "      <td>41</td>\n",
       "      <td>Sedang</td>\n",
       "      <td>Hujan</td>\n",
       "      <td>Malam</td>\n",
       "      <td>223</td>\n",
       "      <td>66</td>\n",
       "      <td>1</td>\n",
       "      <td>Berpotensi Rawan</td>\n",
       "    </tr>\n",
       "    <tr>\n",
       "      <th>8</th>\n",
       "      <td>Dolok</td>\n",
       "      <td>2022</td>\n",
       "      <td>78</td>\n",
       "      <td>6</td>\n",
       "      <td>18</td>\n",
       "      <td>27</td>\n",
       "      <td>Baik</td>\n",
       "      <td>Cerah</td>\n",
       "      <td>Pagi</td>\n",
       "      <td>499</td>\n",
       "      <td>73</td>\n",
       "      <td>3</td>\n",
       "      <td>Sangat Rawan</td>\n",
       "    </tr>\n",
       "    <tr>\n",
       "      <th>9</th>\n",
       "      <td>Dolok</td>\n",
       "      <td>2023</td>\n",
       "      <td>199</td>\n",
       "      <td>2</td>\n",
       "      <td>10</td>\n",
       "      <td>29</td>\n",
       "      <td>Buruk</td>\n",
       "      <td>Berawan</td>\n",
       "      <td>Siang</td>\n",
       "      <td>444</td>\n",
       "      <td>40</td>\n",
       "      <td>0</td>\n",
       "      <td>Aman</td>\n",
       "    </tr>\n",
       "    <tr>\n",
       "      <th>10</th>\n",
       "      <td>Dolok Sigompulon</td>\n",
       "      <td>2019</td>\n",
       "      <td>56</td>\n",
       "      <td>4</td>\n",
       "      <td>12</td>\n",
       "      <td>26</td>\n",
       "      <td>Baik</td>\n",
       "      <td>Berawan</td>\n",
       "      <td>Pagi</td>\n",
       "      <td>162</td>\n",
       "      <td>55</td>\n",
       "      <td>3</td>\n",
       "      <td>Sangat Rawan</td>\n",
       "    </tr>\n",
       "    <tr>\n",
       "      <th>11</th>\n",
       "      <td>Dolok Sigompulon</td>\n",
       "      <td>2020</td>\n",
       "      <td>140</td>\n",
       "      <td>1</td>\n",
       "      <td>13</td>\n",
       "      <td>43</td>\n",
       "      <td>Sedang</td>\n",
       "      <td>Cerah</td>\n",
       "      <td>Pagi</td>\n",
       "      <td>194</td>\n",
       "      <td>67</td>\n",
       "      <td>1</td>\n",
       "      <td>Berpotensi Rawan</td>\n",
       "    </tr>\n",
       "    <tr>\n",
       "      <th>12</th>\n",
       "      <td>Dolok Sigompulon</td>\n",
       "      <td>2021</td>\n",
       "      <td>76</td>\n",
       "      <td>1</td>\n",
       "      <td>13</td>\n",
       "      <td>15</td>\n",
       "      <td>Buruk</td>\n",
       "      <td>Hujan</td>\n",
       "      <td>Siang</td>\n",
       "      <td>334</td>\n",
       "      <td>66</td>\n",
       "      <td>3</td>\n",
       "      <td>Sangat Rawan</td>\n",
       "    </tr>\n",
       "    <tr>\n",
       "      <th>13</th>\n",
       "      <td>Dolok Sigompulon</td>\n",
       "      <td>2022</td>\n",
       "      <td>177</td>\n",
       "      <td>5</td>\n",
       "      <td>4</td>\n",
       "      <td>11</td>\n",
       "      <td>Sedang</td>\n",
       "      <td>Berawan</td>\n",
       "      <td>Pagi</td>\n",
       "      <td>284</td>\n",
       "      <td>62</td>\n",
       "      <td>2</td>\n",
       "      <td>Rawan</td>\n",
       "    </tr>\n",
       "    <tr>\n",
       "      <th>14</th>\n",
       "      <td>Dolok Sigompulon</td>\n",
       "      <td>2023</td>\n",
       "      <td>71</td>\n",
       "      <td>3</td>\n",
       "      <td>14</td>\n",
       "      <td>47</td>\n",
       "      <td>Sedang</td>\n",
       "      <td>Hujan</td>\n",
       "      <td>Pagi</td>\n",
       "      <td>171</td>\n",
       "      <td>41</td>\n",
       "      <td>1</td>\n",
       "      <td>Berpotensi Rawan</td>\n",
       "    </tr>\n",
       "    <tr>\n",
       "      <th>15</th>\n",
       "      <td>Halongonan</td>\n",
       "      <td>2019</td>\n",
       "      <td>91</td>\n",
       "      <td>7</td>\n",
       "      <td>6</td>\n",
       "      <td>11</td>\n",
       "      <td>Baik</td>\n",
       "      <td>Cerah</td>\n",
       "      <td>Siang</td>\n",
       "      <td>121</td>\n",
       "      <td>48</td>\n",
       "      <td>2</td>\n",
       "      <td>Rawan</td>\n",
       "    </tr>\n",
       "    <tr>\n",
       "      <th>16</th>\n",
       "      <td>Halongonan</td>\n",
       "      <td>2020</td>\n",
       "      <td>91</td>\n",
       "      <td>8</td>\n",
       "      <td>1</td>\n",
       "      <td>40</td>\n",
       "      <td>Baik</td>\n",
       "      <td>Berawan</td>\n",
       "      <td>Malam</td>\n",
       "      <td>125</td>\n",
       "      <td>64</td>\n",
       "      <td>2</td>\n",
       "      <td>Rawan</td>\n",
       "    </tr>\n",
       "    <tr>\n",
       "      <th>17</th>\n",
       "      <td>Halongonan</td>\n",
       "      <td>2021</td>\n",
       "      <td>117</td>\n",
       "      <td>7</td>\n",
       "      <td>19</td>\n",
       "      <td>14</td>\n",
       "      <td>Buruk</td>\n",
       "      <td>Berawan</td>\n",
       "      <td>Pagi</td>\n",
       "      <td>207</td>\n",
       "      <td>46</td>\n",
       "      <td>3</td>\n",
       "      <td>Sangat Rawan</td>\n",
       "    </tr>\n",
       "    <tr>\n",
       "      <th>18</th>\n",
       "      <td>Halongonan</td>\n",
       "      <td>2022</td>\n",
       "      <td>117</td>\n",
       "      <td>5</td>\n",
       "      <td>12</td>\n",
       "      <td>39</td>\n",
       "      <td>Buruk</td>\n",
       "      <td>Hujan</td>\n",
       "      <td>Malam</td>\n",
       "      <td>273</td>\n",
       "      <td>51</td>\n",
       "      <td>1</td>\n",
       "      <td>Berpotensi Rawan</td>\n",
       "    </tr>\n",
       "    <tr>\n",
       "      <th>19</th>\n",
       "      <td>Halongonan</td>\n",
       "      <td>2023</td>\n",
       "      <td>151</td>\n",
       "      <td>6</td>\n",
       "      <td>14</td>\n",
       "      <td>46</td>\n",
       "      <td>Baik</td>\n",
       "      <td>Cerah</td>\n",
       "      <td>Siang</td>\n",
       "      <td>190</td>\n",
       "      <td>67</td>\n",
       "      <td>0</td>\n",
       "      <td>Aman</td>\n",
       "    </tr>\n",
       "    <tr>\n",
       "      <th>20</th>\n",
       "      <td>Halongonan Timur</td>\n",
       "      <td>2019</td>\n",
       "      <td>127</td>\n",
       "      <td>7</td>\n",
       "      <td>8</td>\n",
       "      <td>34</td>\n",
       "      <td>Baik</td>\n",
       "      <td>Cerah</td>\n",
       "      <td>Siang</td>\n",
       "      <td>387</td>\n",
       "      <td>64</td>\n",
       "      <td>2</td>\n",
       "      <td>Rawan</td>\n",
       "    </tr>\n",
       "    <tr>\n",
       "      <th>21</th>\n",
       "      <td>Halongonan Timur</td>\n",
       "      <td>2020</td>\n",
       "      <td>124</td>\n",
       "      <td>1</td>\n",
       "      <td>1</td>\n",
       "      <td>17</td>\n",
       "      <td>Baik</td>\n",
       "      <td>Hujan</td>\n",
       "      <td>Pagi</td>\n",
       "      <td>206</td>\n",
       "      <td>66</td>\n",
       "      <td>2</td>\n",
       "      <td>Rawan</td>\n",
       "    </tr>\n",
       "    <tr>\n",
       "      <th>22</th>\n",
       "      <td>Halongonan Timur</td>\n",
       "      <td>2021</td>\n",
       "      <td>152</td>\n",
       "      <td>3</td>\n",
       "      <td>18</td>\n",
       "      <td>24</td>\n",
       "      <td>Baik</td>\n",
       "      <td>Cerah</td>\n",
       "      <td>Pagi</td>\n",
       "      <td>360</td>\n",
       "      <td>54</td>\n",
       "      <td>0</td>\n",
       "      <td>Aman</td>\n",
       "    </tr>\n",
       "    <tr>\n",
       "      <th>23</th>\n",
       "      <td>Halongonan Timur</td>\n",
       "      <td>2022</td>\n",
       "      <td>127</td>\n",
       "      <td>4</td>\n",
       "      <td>16</td>\n",
       "      <td>43</td>\n",
       "      <td>Sedang</td>\n",
       "      <td>Hujan</td>\n",
       "      <td>Siang</td>\n",
       "      <td>120</td>\n",
       "      <td>40</td>\n",
       "      <td>1</td>\n",
       "      <td>Berpotensi Rawan</td>\n",
       "    </tr>\n",
       "    <tr>\n",
       "      <th>24</th>\n",
       "      <td>Halongonan Timur</td>\n",
       "      <td>2023</td>\n",
       "      <td>62</td>\n",
       "      <td>8</td>\n",
       "      <td>18</td>\n",
       "      <td>21</td>\n",
       "      <td>Baik</td>\n",
       "      <td>Hujan</td>\n",
       "      <td>Pagi</td>\n",
       "      <td>179</td>\n",
       "      <td>70</td>\n",
       "      <td>3</td>\n",
       "      <td>Sangat Rawan</td>\n",
       "    </tr>\n",
       "    <tr>\n",
       "      <th>25</th>\n",
       "      <td>Hulu Sihapas</td>\n",
       "      <td>2019</td>\n",
       "      <td>165</td>\n",
       "      <td>4</td>\n",
       "      <td>19</td>\n",
       "      <td>41</td>\n",
       "      <td>Baik</td>\n",
       "      <td>Berawan</td>\n",
       "      <td>Pagi</td>\n",
       "      <td>299</td>\n",
       "      <td>52</td>\n",
       "      <td>0</td>\n",
       "      <td>Aman</td>\n",
       "    </tr>\n",
       "    <tr>\n",
       "      <th>26</th>\n",
       "      <td>Hulu Sihapas</td>\n",
       "      <td>2020</td>\n",
       "      <td>90</td>\n",
       "      <td>2</td>\n",
       "      <td>19</td>\n",
       "      <td>46</td>\n",
       "      <td>Baik</td>\n",
       "      <td>Cerah</td>\n",
       "      <td>Siang</td>\n",
       "      <td>149</td>\n",
       "      <td>48</td>\n",
       "      <td>1</td>\n",
       "      <td>Berpotensi Rawan</td>\n",
       "    </tr>\n",
       "    <tr>\n",
       "      <th>27</th>\n",
       "      <td>Hulu Sihapas</td>\n",
       "      <td>2021</td>\n",
       "      <td>150</td>\n",
       "      <td>2</td>\n",
       "      <td>13</td>\n",
       "      <td>26</td>\n",
       "      <td>Baik</td>\n",
       "      <td>Berawan</td>\n",
       "      <td>Malam</td>\n",
       "      <td>452</td>\n",
       "      <td>55</td>\n",
       "      <td>0</td>\n",
       "      <td>Aman</td>\n",
       "    </tr>\n",
       "    <tr>\n",
       "      <th>28</th>\n",
       "      <td>Hulu Sihapas</td>\n",
       "      <td>2022</td>\n",
       "      <td>109</td>\n",
       "      <td>7</td>\n",
       "      <td>9</td>\n",
       "      <td>24</td>\n",
       "      <td>Baik</td>\n",
       "      <td>Hujan</td>\n",
       "      <td>Pagi</td>\n",
       "      <td>241</td>\n",
       "      <td>41</td>\n",
       "      <td>2</td>\n",
       "      <td>Rawan</td>\n",
       "    </tr>\n",
       "    <tr>\n",
       "      <th>29</th>\n",
       "      <td>Hulu Sihapas</td>\n",
       "      <td>2023</td>\n",
       "      <td>74</td>\n",
       "      <td>5</td>\n",
       "      <td>1</td>\n",
       "      <td>28</td>\n",
       "      <td>Buruk</td>\n",
       "      <td>Cerah</td>\n",
       "      <td>Siang</td>\n",
       "      <td>436</td>\n",
       "      <td>55</td>\n",
       "      <td>2</td>\n",
       "      <td>Rawan</td>\n",
       "    </tr>\n",
       "    <tr>\n",
       "      <th>30</th>\n",
       "      <td>Padang Bolak</td>\n",
       "      <td>2019</td>\n",
       "      <td>169</td>\n",
       "      <td>3</td>\n",
       "      <td>12</td>\n",
       "      <td>26</td>\n",
       "      <td>Buruk</td>\n",
       "      <td>Hujan</td>\n",
       "      <td>Pagi</td>\n",
       "      <td>245</td>\n",
       "      <td>59</td>\n",
       "      <td>0</td>\n",
       "      <td>Aman</td>\n",
       "    </tr>\n",
       "    <tr>\n",
       "      <th>31</th>\n",
       "      <td>Padang Bolak</td>\n",
       "      <td>2020</td>\n",
       "      <td>90</td>\n",
       "      <td>3</td>\n",
       "      <td>13</td>\n",
       "      <td>13</td>\n",
       "      <td>Buruk</td>\n",
       "      <td>Cerah</td>\n",
       "      <td>Siang</td>\n",
       "      <td>187</td>\n",
       "      <td>79</td>\n",
       "      <td>3</td>\n",
       "      <td>Sangat Rawan</td>\n",
       "    </tr>\n",
       "    <tr>\n",
       "      <th>32</th>\n",
       "      <td>Padang Bolak</td>\n",
       "      <td>2021</td>\n",
       "      <td>63</td>\n",
       "      <td>7</td>\n",
       "      <td>19</td>\n",
       "      <td>31</td>\n",
       "      <td>Baik</td>\n",
       "      <td>Berawan</td>\n",
       "      <td>Malam</td>\n",
       "      <td>456</td>\n",
       "      <td>61</td>\n",
       "      <td>3</td>\n",
       "      <td>Sangat Rawan</td>\n",
       "    </tr>\n",
       "    <tr>\n",
       "      <th>33</th>\n",
       "      <td>Padang Bolak</td>\n",
       "      <td>2022</td>\n",
       "      <td>131</td>\n",
       "      <td>2</td>\n",
       "      <td>19</td>\n",
       "      <td>12</td>\n",
       "      <td>Buruk</td>\n",
       "      <td>Berawan</td>\n",
       "      <td>Siang</td>\n",
       "      <td>372</td>\n",
       "      <td>62</td>\n",
       "      <td>3</td>\n",
       "      <td>Sangat Rawan</td>\n",
       "    </tr>\n",
       "    <tr>\n",
       "      <th>34</th>\n",
       "      <td>Padang Bolak</td>\n",
       "      <td>2023</td>\n",
       "      <td>60</td>\n",
       "      <td>8</td>\n",
       "      <td>8</td>\n",
       "      <td>31</td>\n",
       "      <td>Sedang</td>\n",
       "      <td>Hujan</td>\n",
       "      <td>Pagi</td>\n",
       "      <td>370</td>\n",
       "      <td>74</td>\n",
       "      <td>2</td>\n",
       "      <td>Rawan</td>\n",
       "    </tr>\n",
       "    <tr>\n",
       "      <th>35</th>\n",
       "      <td>Padang Bolak Julu</td>\n",
       "      <td>2019</td>\n",
       "      <td>92</td>\n",
       "      <td>8</td>\n",
       "      <td>17</td>\n",
       "      <td>17</td>\n",
       "      <td>Buruk</td>\n",
       "      <td>Cerah</td>\n",
       "      <td>Siang</td>\n",
       "      <td>252</td>\n",
       "      <td>78</td>\n",
       "      <td>3</td>\n",
       "      <td>Sangat Rawan</td>\n",
       "    </tr>\n",
       "    <tr>\n",
       "      <th>36</th>\n",
       "      <td>Padang Bolak Julu</td>\n",
       "      <td>2020</td>\n",
       "      <td>155</td>\n",
       "      <td>9</td>\n",
       "      <td>17</td>\n",
       "      <td>44</td>\n",
       "      <td>Baik</td>\n",
       "      <td>Cerah</td>\n",
       "      <td>Siang</td>\n",
       "      <td>215</td>\n",
       "      <td>59</td>\n",
       "      <td>0</td>\n",
       "      <td>Aman</td>\n",
       "    </tr>\n",
       "    <tr>\n",
       "      <th>37</th>\n",
       "      <td>Padang Bolak Julu</td>\n",
       "      <td>2021</td>\n",
       "      <td>78</td>\n",
       "      <td>6</td>\n",
       "      <td>4</td>\n",
       "      <td>23</td>\n",
       "      <td>Sedang</td>\n",
       "      <td>Hujan</td>\n",
       "      <td>Siang</td>\n",
       "      <td>175</td>\n",
       "      <td>58</td>\n",
       "      <td>2</td>\n",
       "      <td>Rawan</td>\n",
       "    </tr>\n",
       "    <tr>\n",
       "      <th>38</th>\n",
       "      <td>Padang Bolak Julu</td>\n",
       "      <td>2022</td>\n",
       "      <td>100</td>\n",
       "      <td>2</td>\n",
       "      <td>8</td>\n",
       "      <td>25</td>\n",
       "      <td>Baik</td>\n",
       "      <td>Berawan</td>\n",
       "      <td>Malam</td>\n",
       "      <td>344</td>\n",
       "      <td>61</td>\n",
       "      <td>2</td>\n",
       "      <td>Rawan</td>\n",
       "    </tr>\n",
       "    <tr>\n",
       "      <th>39</th>\n",
       "      <td>Padang Bolak Julu</td>\n",
       "      <td>2023</td>\n",
       "      <td>197</td>\n",
       "      <td>9</td>\n",
       "      <td>14</td>\n",
       "      <td>34</td>\n",
       "      <td>Baik</td>\n",
       "      <td>Cerah</td>\n",
       "      <td>Siang</td>\n",
       "      <td>347</td>\n",
       "      <td>76</td>\n",
       "      <td>0</td>\n",
       "      <td>Aman</td>\n",
       "    </tr>\n",
       "    <tr>\n",
       "      <th>40</th>\n",
       "      <td>Padang Bolak Tenggara</td>\n",
       "      <td>2019</td>\n",
       "      <td>124</td>\n",
       "      <td>8</td>\n",
       "      <td>12</td>\n",
       "      <td>49</td>\n",
       "      <td>Baik</td>\n",
       "      <td>Cerah</td>\n",
       "      <td>Malam</td>\n",
       "      <td>356</td>\n",
       "      <td>47</td>\n",
       "      <td>0</td>\n",
       "      <td>Aman</td>\n",
       "    </tr>\n",
       "    <tr>\n",
       "      <th>41</th>\n",
       "      <td>Padang Bolak Tenggara</td>\n",
       "      <td>2020</td>\n",
       "      <td>77</td>\n",
       "      <td>1</td>\n",
       "      <td>10</td>\n",
       "      <td>41</td>\n",
       "      <td>Baik</td>\n",
       "      <td>Cerah</td>\n",
       "      <td>Pagi</td>\n",
       "      <td>386</td>\n",
       "      <td>74</td>\n",
       "      <td>1</td>\n",
       "      <td>Berpotensi Rawan</td>\n",
       "    </tr>\n",
       "    <tr>\n",
       "      <th>42</th>\n",
       "      <td>Padang Bolak Tenggara</td>\n",
       "      <td>2021</td>\n",
       "      <td>136</td>\n",
       "      <td>6</td>\n",
       "      <td>2</td>\n",
       "      <td>35</td>\n",
       "      <td>Sedang</td>\n",
       "      <td>Berawan</td>\n",
       "      <td>Pagi</td>\n",
       "      <td>100</td>\n",
       "      <td>70</td>\n",
       "      <td>2</td>\n",
       "      <td>Rawan</td>\n",
       "    </tr>\n",
       "    <tr>\n",
       "      <th>43</th>\n",
       "      <td>Padang Bolak Tenggara</td>\n",
       "      <td>2022</td>\n",
       "      <td>78</td>\n",
       "      <td>9</td>\n",
       "      <td>6</td>\n",
       "      <td>42</td>\n",
       "      <td>Baik</td>\n",
       "      <td>Hujan</td>\n",
       "      <td>Pagi</td>\n",
       "      <td>215</td>\n",
       "      <td>60</td>\n",
       "      <td>2</td>\n",
       "      <td>Rawan</td>\n",
       "    </tr>\n",
       "    <tr>\n",
       "      <th>44</th>\n",
       "      <td>Padang Bolak Tenggara</td>\n",
       "      <td>2023</td>\n",
       "      <td>161</td>\n",
       "      <td>5</td>\n",
       "      <td>10</td>\n",
       "      <td>37</td>\n",
       "      <td>Buruk</td>\n",
       "      <td>Hujan</td>\n",
       "      <td>Siang</td>\n",
       "      <td>415</td>\n",
       "      <td>67</td>\n",
       "      <td>0</td>\n",
       "      <td>Aman</td>\n",
       "    </tr>\n",
       "    <tr>\n",
       "      <th>45</th>\n",
       "      <td>Portibi</td>\n",
       "      <td>2019</td>\n",
       "      <td>153</td>\n",
       "      <td>8</td>\n",
       "      <td>10</td>\n",
       "      <td>45</td>\n",
       "      <td>Baik</td>\n",
       "      <td>Cerah</td>\n",
       "      <td>Pagi</td>\n",
       "      <td>208</td>\n",
       "      <td>59</td>\n",
       "      <td>0</td>\n",
       "      <td>Aman</td>\n",
       "    </tr>\n",
       "    <tr>\n",
       "      <th>46</th>\n",
       "      <td>Portibi</td>\n",
       "      <td>2020</td>\n",
       "      <td>182</td>\n",
       "      <td>8</td>\n",
       "      <td>9</td>\n",
       "      <td>39</td>\n",
       "      <td>Sedang</td>\n",
       "      <td>Hujan</td>\n",
       "      <td>Pagi</td>\n",
       "      <td>177</td>\n",
       "      <td>44</td>\n",
       "      <td>0</td>\n",
       "      <td>Aman</td>\n",
       "    </tr>\n",
       "    <tr>\n",
       "      <th>47</th>\n",
       "      <td>Portibi</td>\n",
       "      <td>2021</td>\n",
       "      <td>137</td>\n",
       "      <td>4</td>\n",
       "      <td>13</td>\n",
       "      <td>32</td>\n",
       "      <td>Buruk</td>\n",
       "      <td>Hujan</td>\n",
       "      <td>Pagi</td>\n",
       "      <td>288</td>\n",
       "      <td>77</td>\n",
       "      <td>0</td>\n",
       "      <td>Aman</td>\n",
       "    </tr>\n",
       "    <tr>\n",
       "      <th>48</th>\n",
       "      <td>Portibi</td>\n",
       "      <td>2022</td>\n",
       "      <td>69</td>\n",
       "      <td>7</td>\n",
       "      <td>7</td>\n",
       "      <td>26</td>\n",
       "      <td>Sedang</td>\n",
       "      <td>Berawan</td>\n",
       "      <td>Siang</td>\n",
       "      <td>235</td>\n",
       "      <td>46</td>\n",
       "      <td>2</td>\n",
       "      <td>Rawan</td>\n",
       "    </tr>\n",
       "    <tr>\n",
       "      <th>49</th>\n",
       "      <td>Portibi</td>\n",
       "      <td>2023</td>\n",
       "      <td>99</td>\n",
       "      <td>5</td>\n",
       "      <td>16</td>\n",
       "      <td>46</td>\n",
       "      <td>Baik</td>\n",
       "      <td>Cerah</td>\n",
       "      <td>Siang</td>\n",
       "      <td>470</td>\n",
       "      <td>79</td>\n",
       "      <td>1</td>\n",
       "      <td>Berpotensi Rawan</td>\n",
       "    </tr>\n",
       "    <tr>\n",
       "      <th>50</th>\n",
       "      <td>Simangambat</td>\n",
       "      <td>2019</td>\n",
       "      <td>55</td>\n",
       "      <td>3</td>\n",
       "      <td>16</td>\n",
       "      <td>42</td>\n",
       "      <td>Buruk</td>\n",
       "      <td>Cerah</td>\n",
       "      <td>Pagi</td>\n",
       "      <td>234</td>\n",
       "      <td>62</td>\n",
       "      <td>1</td>\n",
       "      <td>Berpotensi Rawan</td>\n",
       "    </tr>\n",
       "    <tr>\n",
       "      <th>51</th>\n",
       "      <td>Simangambat</td>\n",
       "      <td>2020</td>\n",
       "      <td>80</td>\n",
       "      <td>3</td>\n",
       "      <td>9</td>\n",
       "      <td>42</td>\n",
       "      <td>Sedang</td>\n",
       "      <td>Berawan</td>\n",
       "      <td>Pagi</td>\n",
       "      <td>316</td>\n",
       "      <td>74</td>\n",
       "      <td>1</td>\n",
       "      <td>Berpotensi Rawan</td>\n",
       "    </tr>\n",
       "    <tr>\n",
       "      <th>52</th>\n",
       "      <td>Simangambat</td>\n",
       "      <td>2021</td>\n",
       "      <td>55</td>\n",
       "      <td>2</td>\n",
       "      <td>14</td>\n",
       "      <td>38</td>\n",
       "      <td>Baik</td>\n",
       "      <td>Berawan</td>\n",
       "      <td>Siang</td>\n",
       "      <td>217</td>\n",
       "      <td>73</td>\n",
       "      <td>1</td>\n",
       "      <td>Berpotensi Rawan</td>\n",
       "    </tr>\n",
       "    <tr>\n",
       "      <th>53</th>\n",
       "      <td>Simangambat</td>\n",
       "      <td>2022</td>\n",
       "      <td>176</td>\n",
       "      <td>8</td>\n",
       "      <td>3</td>\n",
       "      <td>22</td>\n",
       "      <td>Sedang</td>\n",
       "      <td>Hujan</td>\n",
       "      <td>Siang</td>\n",
       "      <td>391</td>\n",
       "      <td>69</td>\n",
       "      <td>2</td>\n",
       "      <td>Rawan</td>\n",
       "    </tr>\n",
       "    <tr>\n",
       "      <th>54</th>\n",
       "      <td>Simangambat</td>\n",
       "      <td>2023</td>\n",
       "      <td>169</td>\n",
       "      <td>2</td>\n",
       "      <td>7</td>\n",
       "      <td>14</td>\n",
       "      <td>Baik</td>\n",
       "      <td>Hujan</td>\n",
       "      <td>Malam</td>\n",
       "      <td>148</td>\n",
       "      <td>73</td>\n",
       "      <td>2</td>\n",
       "      <td>Rawan</td>\n",
       "    </tr>\n",
       "    <tr>\n",
       "      <th>55</th>\n",
       "      <td>Ujung Batu</td>\n",
       "      <td>2019</td>\n",
       "      <td>70</td>\n",
       "      <td>9</td>\n",
       "      <td>10</td>\n",
       "      <td>10</td>\n",
       "      <td>Buruk</td>\n",
       "      <td>Hujan</td>\n",
       "      <td>Pagi</td>\n",
       "      <td>142</td>\n",
       "      <td>45</td>\n",
       "      <td>3</td>\n",
       "      <td>Sangat Rawan</td>\n",
       "    </tr>\n",
       "    <tr>\n",
       "      <th>56</th>\n",
       "      <td>Ujung Batu</td>\n",
       "      <td>2020</td>\n",
       "      <td>182</td>\n",
       "      <td>4</td>\n",
       "      <td>1</td>\n",
       "      <td>33</td>\n",
       "      <td>Buruk</td>\n",
       "      <td>Cerah</td>\n",
       "      <td>Siang</td>\n",
       "      <td>484</td>\n",
       "      <td>43</td>\n",
       "      <td>2</td>\n",
       "      <td>Rawan</td>\n",
       "    </tr>\n",
       "    <tr>\n",
       "      <th>57</th>\n",
       "      <td>Ujung Batu</td>\n",
       "      <td>2021</td>\n",
       "      <td>76</td>\n",
       "      <td>8</td>\n",
       "      <td>14</td>\n",
       "      <td>46</td>\n",
       "      <td>Sedang</td>\n",
       "      <td>Berawan</td>\n",
       "      <td>Malam</td>\n",
       "      <td>348</td>\n",
       "      <td>46</td>\n",
       "      <td>1</td>\n",
       "      <td>Berpotensi Rawan</td>\n",
       "    </tr>\n",
       "    <tr>\n",
       "      <th>58</th>\n",
       "      <td>Ujung Batu</td>\n",
       "      <td>2022</td>\n",
       "      <td>90</td>\n",
       "      <td>1</td>\n",
       "      <td>12</td>\n",
       "      <td>25</td>\n",
       "      <td>Buruk</td>\n",
       "      <td>Hujan</td>\n",
       "      <td>Malam</td>\n",
       "      <td>484</td>\n",
       "      <td>72</td>\n",
       "      <td>1</td>\n",
       "      <td>Berpotensi Rawan</td>\n",
       "    </tr>\n",
       "    <tr>\n",
       "      <th>59</th>\n",
       "      <td>Ujung Batu</td>\n",
       "      <td>2023</td>\n",
       "      <td>102</td>\n",
       "      <td>2</td>\n",
       "      <td>15</td>\n",
       "      <td>20</td>\n",
       "      <td>Sedang</td>\n",
       "      <td>Berawan</td>\n",
       "      <td>Siang</td>\n",
       "      <td>321</td>\n",
       "      <td>41</td>\n",
       "      <td>3</td>\n",
       "      <td>Sangat Rawan</td>\n",
       "    </tr>\n",
       "  </tbody>\n",
       "</table>\n",
       "</div>"
      ],
      "text/plain": [
       "                Kecamatan  Tahun  Jumlah Kecelakaan  Jumlah Meninggal  \\\n",
       "0            Batang Onang   2019                 93                 3   \n",
       "1            Batang Onang   2020                196                 6   \n",
       "2            Batang Onang   2021                 82                 7   \n",
       "3            Batang Onang   2022                199                 5   \n",
       "4            Batang Onang   2023                183                 7   \n",
       "5                   Dolok   2019                103                 3   \n",
       "6                   Dolok   2020                103                 3   \n",
       "7                   Dolok   2021                104                 2   \n",
       "8                   Dolok   2022                 78                 6   \n",
       "9                   Dolok   2023                199                 2   \n",
       "10       Dolok Sigompulon   2019                 56                 4   \n",
       "11       Dolok Sigompulon   2020                140                 1   \n",
       "12       Dolok Sigompulon   2021                 76                 1   \n",
       "13       Dolok Sigompulon   2022                177                 5   \n",
       "14       Dolok Sigompulon   2023                 71                 3   \n",
       "15             Halongonan   2019                 91                 7   \n",
       "16             Halongonan   2020                 91                 8   \n",
       "17             Halongonan   2021                117                 7   \n",
       "18             Halongonan   2022                117                 5   \n",
       "19             Halongonan   2023                151                 6   \n",
       "20       Halongonan Timur   2019                127                 7   \n",
       "21       Halongonan Timur   2020                124                 1   \n",
       "22       Halongonan Timur   2021                152                 3   \n",
       "23       Halongonan Timur   2022                127                 4   \n",
       "24       Halongonan Timur   2023                 62                 8   \n",
       "25           Hulu Sihapas   2019                165                 4   \n",
       "26           Hulu Sihapas   2020                 90                 2   \n",
       "27           Hulu Sihapas   2021                150                 2   \n",
       "28           Hulu Sihapas   2022                109                 7   \n",
       "29           Hulu Sihapas   2023                 74                 5   \n",
       "30           Padang Bolak   2019                169                 3   \n",
       "31           Padang Bolak   2020                 90                 3   \n",
       "32           Padang Bolak   2021                 63                 7   \n",
       "33           Padang Bolak   2022                131                 2   \n",
       "34           Padang Bolak   2023                 60                 8   \n",
       "35      Padang Bolak Julu   2019                 92                 8   \n",
       "36      Padang Bolak Julu   2020                155                 9   \n",
       "37      Padang Bolak Julu   2021                 78                 6   \n",
       "38      Padang Bolak Julu   2022                100                 2   \n",
       "39      Padang Bolak Julu   2023                197                 9   \n",
       "40  Padang Bolak Tenggara   2019                124                 8   \n",
       "41  Padang Bolak Tenggara   2020                 77                 1   \n",
       "42  Padang Bolak Tenggara   2021                136                 6   \n",
       "43  Padang Bolak Tenggara   2022                 78                 9   \n",
       "44  Padang Bolak Tenggara   2023                161                 5   \n",
       "45                Portibi   2019                153                 8   \n",
       "46                Portibi   2020                182                 8   \n",
       "47                Portibi   2021                137                 4   \n",
       "48                Portibi   2022                 69                 7   \n",
       "49                Portibi   2023                 99                 5   \n",
       "50            Simangambat   2019                 55                 3   \n",
       "51            Simangambat   2020                 80                 3   \n",
       "52            Simangambat   2021                 55                 2   \n",
       "53            Simangambat   2022                176                 8   \n",
       "54            Simangambat   2023                169                 2   \n",
       "55             Ujung Batu   2019                 70                 9   \n",
       "56             Ujung Batu   2020                182                 4   \n",
       "57             Ujung Batu   2021                 76                 8   \n",
       "58             Ujung Batu   2022                 90                 1   \n",
       "59             Ujung Batu   2023                102                 2   \n",
       "\n",
       "    Jumlah Luka Berat  Jumlah Luka Ringan Kondisi Jalan    Cuaca  \\\n",
       "0                  17                  19        Sedang    Hujan   \n",
       "1                  15                  27          Baik  Berawan   \n",
       "2                  16                  13        Sedang  Berawan   \n",
       "3                  12                  42        Sedang  Berawan   \n",
       "4                  12                  40          Baik    Hujan   \n",
       "5                  15                  33         Buruk  Berawan   \n",
       "6                  12                  47        Sedang    Cerah   \n",
       "7                  17                  41        Sedang    Hujan   \n",
       "8                  18                  27          Baik    Cerah   \n",
       "9                  10                  29         Buruk  Berawan   \n",
       "10                 12                  26          Baik  Berawan   \n",
       "11                 13                  43        Sedang    Cerah   \n",
       "12                 13                  15         Buruk    Hujan   \n",
       "13                  4                  11        Sedang  Berawan   \n",
       "14                 14                  47        Sedang    Hujan   \n",
       "15                  6                  11          Baik    Cerah   \n",
       "16                  1                  40          Baik  Berawan   \n",
       "17                 19                  14         Buruk  Berawan   \n",
       "18                 12                  39         Buruk    Hujan   \n",
       "19                 14                  46          Baik    Cerah   \n",
       "20                  8                  34          Baik    Cerah   \n",
       "21                  1                  17          Baik    Hujan   \n",
       "22                 18                  24          Baik    Cerah   \n",
       "23                 16                  43        Sedang    Hujan   \n",
       "24                 18                  21          Baik    Hujan   \n",
       "25                 19                  41          Baik  Berawan   \n",
       "26                 19                  46          Baik    Cerah   \n",
       "27                 13                  26          Baik  Berawan   \n",
       "28                  9                  24          Baik    Hujan   \n",
       "29                  1                  28         Buruk    Cerah   \n",
       "30                 12                  26         Buruk    Hujan   \n",
       "31                 13                  13         Buruk    Cerah   \n",
       "32                 19                  31          Baik  Berawan   \n",
       "33                 19                  12         Buruk  Berawan   \n",
       "34                  8                  31        Sedang    Hujan   \n",
       "35                 17                  17         Buruk    Cerah   \n",
       "36                 17                  44          Baik    Cerah   \n",
       "37                  4                  23        Sedang    Hujan   \n",
       "38                  8                  25          Baik  Berawan   \n",
       "39                 14                  34          Baik    Cerah   \n",
       "40                 12                  49          Baik    Cerah   \n",
       "41                 10                  41          Baik    Cerah   \n",
       "42                  2                  35        Sedang  Berawan   \n",
       "43                  6                  42          Baik    Hujan   \n",
       "44                 10                  37         Buruk    Hujan   \n",
       "45                 10                  45          Baik    Cerah   \n",
       "46                  9                  39        Sedang    Hujan   \n",
       "47                 13                  32         Buruk    Hujan   \n",
       "48                  7                  26        Sedang  Berawan   \n",
       "49                 16                  46          Baik    Cerah   \n",
       "50                 16                  42         Buruk    Cerah   \n",
       "51                  9                  42        Sedang  Berawan   \n",
       "52                 14                  38          Baik  Berawan   \n",
       "53                  3                  22        Sedang    Hujan   \n",
       "54                  7                  14          Baik    Hujan   \n",
       "55                 10                  10         Buruk    Hujan   \n",
       "56                  1                  33         Buruk    Cerah   \n",
       "57                 14                  46        Sedang  Berawan   \n",
       "58                 12                  25         Buruk    Hujan   \n",
       "59                 15                  20        Sedang  Berawan   \n",
       "\n",
       "   Waktu Kecelakaan  Jumlah Kendaraan  Kecepatan Rata-rata  Cluster  \\\n",
       "0              Pagi               411                   46        3   \n",
       "1              Pagi               251                   42        0   \n",
       "2             Siang               272                   46        3   \n",
       "3              Pagi               312                   64        0   \n",
       "4              Pagi               207                   60        0   \n",
       "5             Malam               343                   43        1   \n",
       "6              Pagi               193                   58        1   \n",
       "7             Malam               223                   66        1   \n",
       "8              Pagi               499                   73        3   \n",
       "9             Siang               444                   40        0   \n",
       "10             Pagi               162                   55        3   \n",
       "11             Pagi               194                   67        1   \n",
       "12            Siang               334                   66        3   \n",
       "13             Pagi               284                   62        2   \n",
       "14             Pagi               171                   41        1   \n",
       "15            Siang               121                   48        2   \n",
       "16            Malam               125                   64        2   \n",
       "17             Pagi               207                   46        3   \n",
       "18            Malam               273                   51        1   \n",
       "19            Siang               190                   67        0   \n",
       "20            Siang               387                   64        2   \n",
       "21             Pagi               206                   66        2   \n",
       "22             Pagi               360                   54        0   \n",
       "23            Siang               120                   40        1   \n",
       "24             Pagi               179                   70        3   \n",
       "25             Pagi               299                   52        0   \n",
       "26            Siang               149                   48        1   \n",
       "27            Malam               452                   55        0   \n",
       "28             Pagi               241                   41        2   \n",
       "29            Siang               436                   55        2   \n",
       "30             Pagi               245                   59        0   \n",
       "31            Siang               187                   79        3   \n",
       "32            Malam               456                   61        3   \n",
       "33            Siang               372                   62        3   \n",
       "34             Pagi               370                   74        2   \n",
       "35            Siang               252                   78        3   \n",
       "36            Siang               215                   59        0   \n",
       "37            Siang               175                   58        2   \n",
       "38            Malam               344                   61        2   \n",
       "39            Siang               347                   76        0   \n",
       "40            Malam               356                   47        0   \n",
       "41             Pagi               386                   74        1   \n",
       "42             Pagi               100                   70        2   \n",
       "43             Pagi               215                   60        2   \n",
       "44            Siang               415                   67        0   \n",
       "45             Pagi               208                   59        0   \n",
       "46             Pagi               177                   44        0   \n",
       "47             Pagi               288                   77        0   \n",
       "48            Siang               235                   46        2   \n",
       "49            Siang               470                   79        1   \n",
       "50             Pagi               234                   62        1   \n",
       "51             Pagi               316                   74        1   \n",
       "52            Siang               217                   73        1   \n",
       "53            Siang               391                   69        2   \n",
       "54            Malam               148                   73        2   \n",
       "55             Pagi               142                   45        3   \n",
       "56            Siang               484                   43        2   \n",
       "57            Malam               348                   46        1   \n",
       "58            Malam               484                   72        1   \n",
       "59            Siang               321                   41        3   \n",
       "\n",
       "   Tingkat Kerawanan  \n",
       "0       Sangat Rawan  \n",
       "1               Aman  \n",
       "2       Sangat Rawan  \n",
       "3               Aman  \n",
       "4               Aman  \n",
       "5   Berpotensi Rawan  \n",
       "6   Berpotensi Rawan  \n",
       "7   Berpotensi Rawan  \n",
       "8       Sangat Rawan  \n",
       "9               Aman  \n",
       "10      Sangat Rawan  \n",
       "11  Berpotensi Rawan  \n",
       "12      Sangat Rawan  \n",
       "13             Rawan  \n",
       "14  Berpotensi Rawan  \n",
       "15             Rawan  \n",
       "16             Rawan  \n",
       "17      Sangat Rawan  \n",
       "18  Berpotensi Rawan  \n",
       "19              Aman  \n",
       "20             Rawan  \n",
       "21             Rawan  \n",
       "22              Aman  \n",
       "23  Berpotensi Rawan  \n",
       "24      Sangat Rawan  \n",
       "25              Aman  \n",
       "26  Berpotensi Rawan  \n",
       "27              Aman  \n",
       "28             Rawan  \n",
       "29             Rawan  \n",
       "30              Aman  \n",
       "31      Sangat Rawan  \n",
       "32      Sangat Rawan  \n",
       "33      Sangat Rawan  \n",
       "34             Rawan  \n",
       "35      Sangat Rawan  \n",
       "36              Aman  \n",
       "37             Rawan  \n",
       "38             Rawan  \n",
       "39              Aman  \n",
       "40              Aman  \n",
       "41  Berpotensi Rawan  \n",
       "42             Rawan  \n",
       "43             Rawan  \n",
       "44              Aman  \n",
       "45              Aman  \n",
       "46              Aman  \n",
       "47              Aman  \n",
       "48             Rawan  \n",
       "49  Berpotensi Rawan  \n",
       "50  Berpotensi Rawan  \n",
       "51  Berpotensi Rawan  \n",
       "52  Berpotensi Rawan  \n",
       "53             Rawan  \n",
       "54             Rawan  \n",
       "55      Sangat Rawan  \n",
       "56             Rawan  \n",
       "57  Berpotensi Rawan  \n",
       "58  Berpotensi Rawan  \n",
       "59      Sangat Rawan  "
      ]
     },
     "execution_count": 17,
     "metadata": {},
     "output_type": "execute_result"
    }
   ],
   "source": [
    "# Bagian 3: Memetakan Klaster ke Tingkat Kerawanan\n",
    "\n",
    "# Map the clusters to the risk levels\n",
    "cluster_map = {\n",
    "    0: \"Aman\",\n",
    "    1: \"Berpotensi Rawan\",\n",
    "    2: \"Rawan\",\n",
    "    3: \"Sangat Rawan\"\n",
    "}\n",
    "\n",
    "df['Tingkat Kerawanan'] = df['Cluster'].map(cluster_map)\n",
    "\n",
    "# Display the first few rows of the resulting data with risk levels\n",
    "df\n"
   ]
  },
  {
   "cell_type": "code",
   "execution_count": 18,
   "metadata": {},
   "outputs": [
    {
     "data": {
      "text/plain": [
       "'Hasil_Klastering_Kecelakaan_Padang_Lawas_Utara.xlsx'"
      ]
     },
     "execution_count": 18,
     "metadata": {},
     "output_type": "execute_result"
    }
   ],
   "source": [
    "# Bagian 4: Menyimpan Hasil ke File Excel\n",
    "\n",
    "# Menyimpan hasil ke file Excel baru\n",
    "output_path = 'Hasil_Klastering_Kecelakaan_Padang_Lawas_Utara.xlsx'\n",
    "df.to_excel(output_path, index=False)\n",
    "\n",
    "# Menampilkan jalur ke file yang telah disimpan\n",
    "output_path\n"
   ]
  },
  {
   "cell_type": "code",
   "execution_count": 19,
   "metadata": {},
   "outputs": [
    {
     "name": "stdout",
     "output_type": "stream",
     "text": [
      "Purity keseluruhan: 0.35\n",
      "Cluster  0  1  2  3\n",
      "row_0              \n",
      "0        1  3  4  4\n",
      "1        4  3  4  1\n",
      "2        6  5  2  4\n",
      "3        5  4  6  4\n",
      "Purity Klaster 0: 0.38\n",
      "Purity Klaster 1: 0.33\n",
      "Purity Klaster 2: 0.38\n",
      "Purity Klaster 3: 0.31\n"
     ]
    }
   ],
   "source": [
    "import numpy as np\n",
    "\n",
    "def calculate_purity(y_true, y_pred):\n",
    "    contingency_matrix = pd.crosstab(y_true, y_pred)\n",
    "    return np.sum(np.amax(contingency_matrix.values, axis=0)) / np.sum(contingency_matrix.values)\n",
    "\n",
    "np.random.seed(42)\n",
    "true_labels = np.random.randint(0, 4, size=len(df))\n",
    "\n",
    "# Hitung purity keseluruhan\n",
    "purity = calculate_purity(true_labels, df['Cluster'])\n",
    "print(f\"Purity keseluruhan: {purity:.2f}\")\n",
    "\n",
    "# Menampilkan matriks kontingensi sebagai tabel untuk evaluasi lebih lanjut\n",
    "contingency_matrix = pd.crosstab(true_labels, df['Cluster'])\n",
    "print(contingency_matrix)\n",
    "\n",
    "# Menghitung purity untuk setiap klaster\n",
    "def calculate_purity_per_cluster(contingency_matrix):\n",
    "    purity_per_cluster = {}\n",
    "    for cluster in contingency_matrix.columns:\n",
    "        max_value = contingency_matrix[cluster].max()\n",
    "        total = contingency_matrix[cluster].sum()\n",
    "        purity_per_cluster[cluster] = max_value / total if total > 0 else 0\n",
    "    return purity_per_cluster\n",
    "\n",
    "# Menghitung purity per klaster\n",
    "purity_per_cluster = calculate_purity_per_cluster(contingency_matrix)\n",
    "\n",
    "# Menampilkan purity per klaster\n",
    "for cluster, purity in purity_per_cluster.items():\n",
    "    print(f\"Purity Klaster {cluster}: {purity:.2f}\")"
   ]
  },
  {
   "cell_type": "code",
   "execution_count": 20,
   "metadata": {},
   "outputs": [
    {
     "data": {
      "image/png": "[encoded data removed]",
      "text/plain": [
       "<Figure size 1000x800 with 1 Axes>"
      ]
     },
     "metadata": {},
     "output_type": "display_data"
    },
    {
     "data": {
      "text/html": [
       "<div>\n",
       "<style scoped>\n",
       "    .dataframe tbody tr th:only-of-type {\n",
       "        vertical-align: middle;\n",
       "    }\n",
       "\n",
       "    .dataframe tbody tr th {\n",
       "        vertical-align: top;\n",
       "    }\n",
       "\n",
       "    .dataframe thead th {\n",
       "        text-align: right;\n",
       "    }\n",
       "</style>\n",
       "<table border=\"1\" class=\"dataframe\">\n",
       "  <thead>\n",
       "    <tr style=\"text-align: right;\">\n",
       "      <th></th>\n",
       "      <th>Kecamatan</th>\n",
       "      <th>Tahun</th>\n",
       "      <th>Cluster</th>\n",
       "      <th>Label</th>\n",
       "    </tr>\n",
       "  </thead>\n",
       "  <tbody>\n",
       "    <tr>\n",
       "      <th>0</th>\n",
       "      <td>Batang Onang</td>\n",
       "      <td>2019</td>\n",
       "      <td>0</td>\n",
       "      <td>Aman</td>\n",
       "    </tr>\n",
       "    <tr>\n",
       "      <th>1</th>\n",
       "      <td>Batang Onang</td>\n",
       "      <td>2020</td>\n",
       "      <td>2</td>\n",
       "      <td>Rawan</td>\n",
       "    </tr>\n",
       "    <tr>\n",
       "      <th>2</th>\n",
       "      <td>Batang Onang</td>\n",
       "      <td>2021</td>\n",
       "      <td>0</td>\n",
       "      <td>Aman</td>\n",
       "    </tr>\n",
       "    <tr>\n",
       "      <th>3</th>\n",
       "      <td>Batang Onang</td>\n",
       "      <td>2022</td>\n",
       "      <td>2</td>\n",
       "      <td>Rawan</td>\n",
       "    </tr>\n",
       "    <tr>\n",
       "      <th>4</th>\n",
       "      <td>Batang Onang</td>\n",
       "      <td>2023</td>\n",
       "      <td>2</td>\n",
       "      <td>Rawan</td>\n",
       "    </tr>\n",
       "    <tr>\n",
       "      <th>5</th>\n",
       "      <td>Dolok</td>\n",
       "      <td>2019</td>\n",
       "      <td>1</td>\n",
       "      <td>Berpotensi Rawan</td>\n",
       "    </tr>\n",
       "    <tr>\n",
       "      <th>6</th>\n",
       "      <td>Dolok</td>\n",
       "      <td>2020</td>\n",
       "      <td>1</td>\n",
       "      <td>Berpotensi Rawan</td>\n",
       "    </tr>\n",
       "    <tr>\n",
       "      <th>7</th>\n",
       "      <td>Dolok</td>\n",
       "      <td>2021</td>\n",
       "      <td>1</td>\n",
       "      <td>Berpotensi Rawan</td>\n",
       "    </tr>\n",
       "    <tr>\n",
       "      <th>8</th>\n",
       "      <td>Dolok</td>\n",
       "      <td>2022</td>\n",
       "      <td>0</td>\n",
       "      <td>Aman</td>\n",
       "    </tr>\n",
       "    <tr>\n",
       "      <th>9</th>\n",
       "      <td>Dolok</td>\n",
       "      <td>2023</td>\n",
       "      <td>2</td>\n",
       "      <td>Rawan</td>\n",
       "    </tr>\n",
       "  </tbody>\n",
       "</table>\n",
       "</div>"
      ],
      "text/plain": [
       "      Kecamatan  Tahun  Cluster             Label\n",
       "0  Batang Onang   2019        0              Aman\n",
       "1  Batang Onang   2020        2             Rawan\n",
       "2  Batang Onang   2021        0              Aman\n",
       "3  Batang Onang   2022        2             Rawan\n",
       "4  Batang Onang   2023        2             Rawan\n",
       "5         Dolok   2019        1  Berpotensi Rawan\n",
       "6         Dolok   2020        1  Berpotensi Rawan\n",
       "7         Dolok   2021        1  Berpotensi Rawan\n",
       "8         Dolok   2022        0              Aman\n",
       "9         Dolok   2023        2             Rawan"
      ]
     },
     "execution_count": 20,
     "metadata": {},
     "output_type": "execute_result"
    }
   ],
   "source": [
    "# Bagian 6: Visualisasi Clustering dengan PCA dan Scatter Plot dengan Iterasi hingga Konvergen dan Penambahan Label\n",
    "\n",
    "import pandas as pd\n",
    "import numpy as np\n",
    "import matplotlib.pyplot as plt\n",
    "from sklearn.preprocessing import StandardScaler\n",
    "from sklearn.decomposition import PCA\n",
    "\n",
    "# Memuat data\n",
    "file_path = 'Data_Kecelakaan_Padang_Lawas_Utara.xlsx'\n",
    "df = pd.read_excel(file_path)\n",
    "\n",
    "# Pilih fitur yang relevan untuk clustering\n",
    "features = [\"Jumlah Kecelakaan\", \"Jumlah Meninggal\", \"Jumlah Luka Berat\", \"Jumlah Luka Ringan\"]\n",
    "X = df[features]\n",
    "\n",
    "# Normalisasi data\n",
    "scaler = StandardScaler()\n",
    "X_scaled = scaler.fit_transform(X)\n",
    "\n",
    "# Tentukan jumlah klaster\n",
    "k = 4  # untuk Aman, Berpotensi Rawan, Rawan, Sangat Rawan\n",
    "\n",
    "# Inisialisasi centroid secara acak\n",
    "np.random.seed(42)\n",
    "initial_centroids = X_scaled[np.random.choice(X_scaled.shape[0], k, replace=False)]\n",
    "centroids = initial_centroids\n",
    "prev_centroids = np.zeros(centroids.shape)\n",
    "\n",
    "# Iterasi hingga konvergensi\n",
    "tolerance = 1e-4  # batas toleransi untuk konvergensi\n",
    "while np.linalg.norm(centroids - prev_centroids) > tolerance:\n",
    "    prev_centroids = centroids.copy()\n",
    "    \n",
    "    # Hitung jarak ke centroid dan tentukan cluster\n",
    "    distances = np.linalg.norm(X_scaled[:, np.newaxis] - centroids, axis=2)\n",
    "    labels = np.argmin(distances, axis=1)\n",
    "    \n",
    "    # Hitung centroid baru\n",
    "    centroids = np.array([X_scaled[labels == i].mean(axis=0) for i in range(k)])\n",
    "\n",
    "# Simpan label cluster ke dalam DataFrame\n",
    "df['Cluster'] = labels\n",
    "\n",
    "# Menambahkan label berdasarkan cluster\n",
    "cluster_labels = {0: 'Aman', 1: 'Berpotensi Rawan', 2: 'Rawan', 3: 'Sangat Rawan'}\n",
    "df['Label'] = df['Cluster'].map(cluster_labels)\n",
    "\n",
    "# Terapkan PCA untuk reduksi dimensi\n",
    "pca = PCA(n_components=2)\n",
    "X_pca = pca.fit_transform(X_scaled)\n",
    "\n",
    "# Visualisasi scatter plot dengan PCA\n",
    "plt.figure(figsize=(10, 8))\n",
    "colors = ['r', 'g', 'b', 'y']\n",
    "for i in range(k):\n",
    "    # Plot data points\n",
    "    cluster_data = df[df['Cluster'] == i]\n",
    "    plt.scatter(X_pca[cluster_data.index, 0], X_pca[cluster_data.index, 1], \n",
    "                s=50, c=colors[i], label=f'Klaster {i} - {cluster_labels[i]}')\n",
    "\n",
    "# Plot centroids in PCA space\n",
    "centroids_pca = pca.transform(centroids)\n",
    "plt.scatter(centroids_pca[:, 0], centroids_pca[:, 1], \n",
    "            s=200, c='black', marker='X', label='Centroid')\n",
    "\n",
    "plt.title('Visualisasi Clustering Tingkat Kecelakaan')\n",
    "plt.xlabel('Komponen Utama 1')\n",
    "plt.ylabel('Komponen Utama 2')\n",
    "plt.legend()\n",
    "plt.grid(True)\n",
    "plt.show()\n",
    "\n",
    "# Tampilkan DataFrame dengan Label\n",
    "df[['Kecamatan', 'Tahun', 'Cluster', 'Label']].head(10)  # Menampilkan 10 baris pertama dengan label\n"
   ]
  },
  {
   "cell_type": "code",
   "execution_count": 21,
   "metadata": {},
   "outputs": [
    {
     "name": "stderr",
     "output_type": "stream",
     "text": [
      "c:\\Users\\User\\anaconda3\\Lib\\site-packages\\sklearn\\cluster\\_kmeans.py:1412: FutureWarning:\n",
      "\n",
      "The default value of `n_init` will change from 10 to 'auto' in 1.4. Set the value of `n_init` explicitly to suppress the warning\n",
      "\n",
      "c:\\Users\\User\\anaconda3\\Lib\\site-packages\\sklearn\\cluster\\_kmeans.py:1436: UserWarning:\n",
      "\n",
      "KMeans is known to have a memory leak on Windows with MKL, when there are less chunks than available threads. You can avoid it by setting the environment variable OMP_NUM_THREADS=1.\n",
      "\n"
     ]
    },
    {
     "data": {
      "application/vnd.plotly.v1+json": {
       "config": {
        "plotlyServerURL": "https://plot.ly"
       },
       "data": [
        {
         "alignmentgroup": "True",
         "hovertemplate": "Tingkat Kerawanan=Aman<br>Tahun=%{x}<br>Jumlah Kasus=%{text}<extra></extra>",
         "legendgroup": "Aman",
         "marker": {
          "color": "#636efa",
          "line": {
           "color": "rgb(0,0,0)",
           "width": 1.5
          },
          "pattern": {
           "shape": ""
          }
         },
         "name": "Aman",
         "offsetgroup": "Aman",
         "orientation": "v",
         "showlegend": true,
         "text": [
          4,
          3,
          3,
          1,
          5
         ],
         "textposition": "outside",
         "texttemplate": "%{text}",
         "type": "bar",
         "x": [
          2019,
          2020,
          2021,
          2022,
          2023
         ],
         "xaxis": "x",
         "y": [
          4,
          3,
          3,
          1,
          5
         ],
         "yaxis": "y"
        },
        {
         "alignmentgroup": "True",
         "hovertemplate": "Tingkat Kerawanan=Berpotensi Rawan<br>Tahun=%{x}<br>Jumlah Kasus=%{text}<extra></extra>",
         "legendgroup": "Berpotensi Rawan",
         "marker": {
          "color": "#EF553B",
          "line": {
           "color": "rgb(0,0,0)",
           "width": 1.5
          },
          "pattern": {
           "shape": ""
          }
         },
         "name": "Berpotensi Rawan",
         "offsetgroup": "Berpotensi Rawan",
         "orientation": "v",
         "showlegend": true,
         "text": [
          2,
          5,
          3,
          3,
          2
         ],
         "textposition": "outside",
         "texttemplate": "%{text}",
         "type": "bar",
         "x": [
          2019,
          2020,
          2021,
          2022,
          2023
         ],
         "xaxis": "x",
         "y": [
          2,
          5,
          3,
          3,
          2
         ],
         "yaxis": "y"
        },
        {
         "alignmentgroup": "True",
         "hovertemplate": "Tingkat Kerawanan=Rawan<br>Tahun=%{x}<br>Jumlah Kasus=%{text}<extra></extra>",
         "legendgroup": "Rawan",
         "marker": {
          "color": "#00cc96",
          "line": {
           "color": "rgb(0,0,0)",
           "width": 1.5
          },
          "pattern": {
           "shape": ""
          }
         },
         "name": "Rawan",
         "offsetgroup": "Rawan",
         "orientation": "v",
         "showlegend": true,
         "text": [
          2,
          3,
          2,
          6,
          3
         ],
         "textposition": "outside",
         "texttemplate": "%{text}",
         "type": "bar",
         "x": [
          2019,
          2020,
          2021,
          2022,
          2023
         ],
         "xaxis": "x",
         "y": [
          2,
          3,
          2,
          6,
          3
         ],
         "yaxis": "y"
        },
        {
         "alignmentgroup": "True",
         "hovertemplate": "Tingkat Kerawanan=Sangat Rawan<br>Tahun=%{x}<br>Jumlah Kasus=%{text}<extra></extra>",
         "legendgroup": "Sangat Rawan",
         "marker": {
          "color": "#ab63fa",
          "line": {
           "color": "rgb(0,0,0)",
           "width": 1.5
          },
          "pattern": {
           "shape": ""
          }
         },
         "name": "Sangat Rawan",
         "offsetgroup": "Sangat Rawan",
         "orientation": "v",
         "showlegend": true,
         "text": [
          4,
          1,
          4,
          2,
          2
         ],
         "textposition": "outside",
         "texttemplate": "%{text}",
         "type": "bar",
         "x": [
          2019,
          2020,
          2021,
          2022,
          2023
         ],
         "xaxis": "x",
         "y": [
          4,
          1,
          4,
          2,
          2
         ],
         "yaxis": "y"
        }
       ],
       "layout": {
        "barmode": "stack",
        "height": 800,
        "legend": {
         "title": {
          "text": "Tingkat Kerawanan"
         },
         "tracegroupgap": 0
        },
        "template": {
         "data": {
          "bar": [
           {
            "error_x": {
             "color": "#2a3f5f"
            },
            "error_y": {
             "color": "#2a3f5f"
            },
            "marker": {
             "line": {
              "color": "#E5ECF6",
              "width": 0.5
             },
             "pattern": {
              "fillmode": "overlay",
              "size": 10,
              "solidity": 0.2
             }
            },
            "type": "bar"
           }
          ],
          "barpolar": [
           {
            "marker": {
             "line": {
              "color": "#E5ECF6",
              "width": 0.5
             },
             "pattern": {
              "fillmode": "overlay",
              "size": 10,
              "solidity": 0.2
             }
            },
            "type": "barpolar"
           }
          ],
          "carpet": [
           {
            "aaxis": {
             "endlinecolor": "#2a3f5f",
             "gridcolor": "white",
             "linecolor": "white",
             "minorgridcolor": "white",
             "startlinecolor": "#2a3f5f"
            },
            "baxis": {
             "endlinecolor": "#2a3f5f",
             "gridcolor": "white",
             "linecolor": "white",
             "minorgridcolor": "white",
             "startlinecolor": "#2a3f5f"
            },
            "type": "carpet"
           }
          ],
          "choropleth": [
           {
            "colorbar": {
             "outlinewidth": 0,
             "ticks": ""
            },
            "type": "choropleth"
           }
          ],
          "contour": [
           {
            "colorbar": {
             "outlinewidth": 0,
             "ticks": ""
            },
            "colorscale": [
             [
              0,
              "#0d0887"
             ],
             [
              0.1111111111111111,
              "#46039f"
             ],
             [
              0.2222222222222222,
              "#7201a8"
             ],
             [
              0.3333333333333333,
              "#9c179e"
             ],
             [
              0.4444444444444444,
              "#bd3786"
             ],
             [
              0.5555555555555556,
              "#d8576b"
             ],
             [
              0.6666666666666666,
              "#ed7953"
             ],
             [
              0.7777777777777778,
              "#fb9f3a"
             ],
             [
              0.8888888888888888,
              "#fdca26"
             ],
             [
              1,
              "#f0f921"
             ]
            ],
            "type": "contour"
           }
          ],
          "contourcarpet": [
           {
            "colorbar": {
             "outlinewidth": 0,
             "ticks": ""
            },
            "type": "contourcarpet"
           }
          ],
          "heatmap": [
           {
            "colorbar": {
             "outlinewidth": 0,
             "ticks": ""
            },
            "colorscale": [
             [
              0,
              "#0d0887"
             ],
             [
              0.1111111111111111,
              "#46039f"
             ],
             [
              0.2222222222222222,
              "#7201a8"
             ],
             [
              0.3333333333333333,
              "#9c179e"
             ],
             [
              0.4444444444444444,
              "#bd3786"
             ],
             [
              0.5555555555555556,
              "#d8576b"
             ],
             [
              0.6666666666666666,
              "#ed7953"
             ],
             [
              0.7777777777777778,
              "#fb9f3a"
             ],
             [
              0.8888888888888888,
              "#fdca26"
             ],
             [
              1,
              "#f0f921"
             ]
            ],
            "type": "heatmap"
           }
          ],
          "heatmapgl": [
           {
            "colorbar": {
             "outlinewidth": 0,
             "ticks": ""
            },
            "colorscale": [
             [
              0,
              "#0d0887"
             ],
             [
              0.1111111111111111,
              "#46039f"
             ],
             [
              0.2222222222222222,
              "#7201a8"
             ],
             [
              0.3333333333333333,
              "#9c179e"
             ],
             [
              0.4444444444444444,
              "#bd3786"
             ],
             [
              0.5555555555555556,
              "#d8576b"
             ],
             [
              0.6666666666666666,
              "#ed7953"
             ],
             [
              0.7777777777777778,
              "#fb9f3a"
             ],
             [
              0.8888888888888888,
              "#fdca26"
             ],
             [
              1,
              "#f0f921"
             ]
            ],
            "type": "heatmapgl"
           }
          ],
          "histogram": [
           {
            "marker": {
             "pattern": {
              "fillmode": "overlay",
              "size": 10,
              "solidity": 0.2
             }
            },
            "type": "histogram"
           }
          ],
          "histogram2d": [
           {
            "colorbar": {
             "outlinewidth": 0,
             "ticks": ""
            },
            "colorscale": [
             [
              0,
              "#0d0887"
             ],
             [
              0.1111111111111111,
              "#46039f"
             ],
             [
              0.2222222222222222,
              "#7201a8"
             ],
             [
              0.3333333333333333,
              "#9c179e"
             ],
             [
              0.4444444444444444,
              "#bd3786"
             ],
             [
              0.5555555555555556,
              "#d8576b"
             ],
             [
              0.6666666666666666,
              "#ed7953"
             ],
             [
              0.7777777777777778,
              "#fb9f3a"
             ],
             [
              0.8888888888888888,
              "#fdca26"
             ],
             [
              1,
              "#f0f921"
             ]
            ],
            "type": "histogram2d"
           }
          ],
          "histogram2dcontour": [
           {
            "colorbar": {
             "outlinewidth": 0,
             "ticks": ""
            },
            "colorscale": [
             [
              0,
              "#0d0887"
             ],
             [
              0.1111111111111111,
              "#46039f"
             ],
             [
              0.2222222222222222,
              "#7201a8"
             ],
             [
              0.3333333333333333,
              "#9c179e"
             ],
             [
              0.4444444444444444,
              "#bd3786"
             ],
             [
              0.5555555555555556,
              "#d8576b"
             ],
             [
              0.6666666666666666,
              "#ed7953"
             ],
             [
              0.7777777777777778,
              "#fb9f3a"
             ],
             [
              0.8888888888888888,
              "#fdca26"
             ],
             [
              1,
              "#f0f921"
             ]
            ],
            "type": "histogram2dcontour"
           }
          ],
          "mesh3d": [
           {
            "colorbar": {
             "outlinewidth": 0,
             "ticks": ""
            },
            "type": "mesh3d"
           }
          ],
          "parcoords": [
           {
            "line": {
             "colorbar": {
              "outlinewidth": 0,
              "ticks": ""
             }
            },
            "type": "parcoords"
           }
          ],
          "pie": [
           {
            "automargin": true,
            "type": "pie"
           }
          ],
          "scatter": [
           {
            "fillpattern": {
             "fillmode": "overlay",
             "size": 10,
             "solidity": 0.2
            },
            "type": "scatter"
           }
          ],
          "scatter3d": [
           {
            "line": {
             "colorbar": {
              "outlinewidth": 0,
              "ticks": ""
             }
            },
            "marker": {
             "colorbar": {
              "outlinewidth": 0,
              "ticks": ""
             }
            },
            "type": "scatter3d"
           }
          ],
          "scattercarpet": [
           {
            "marker": {
             "colorbar": {
              "outlinewidth": 0,
              "ticks": ""
             }
            },
            "type": "scattercarpet"
           }
          ],
          "scattergeo": [
           {
            "marker": {
             "colorbar": {
              "outlinewidth": 0,
              "ticks": ""
             }
            },
            "type": "scattergeo"
           }
          ],
          "scattergl": [
           {
            "marker": {
             "colorbar": {
              "outlinewidth": 0,
              "ticks": ""
             }
            },
            "type": "scattergl"
           }
          ],
          "scattermapbox": [
           {
            "marker": {
             "colorbar": {
              "outlinewidth": 0,
              "ticks": ""
             }
            },
            "type": "scattermapbox"
           }
          ],
          "scatterpolar": [
           {
            "marker": {
             "colorbar": {
              "outlinewidth": 0,
              "ticks": ""
             }
            },
            "type": "scatterpolar"
           }
          ],
          "scatterpolargl": [
           {
            "marker": {
             "colorbar": {
              "outlinewidth": 0,
              "ticks": ""
             }
            },
            "type": "scatterpolargl"
           }
          ],
          "scatterternary": [
           {
            "marker": {
             "colorbar": {
              "outlinewidth": 0,
              "ticks": ""
             }
            },
            "type": "scatterternary"
           }
          ],
          "surface": [
           {
            "colorbar": {
             "outlinewidth": 0,
             "ticks": ""
            },
            "colorscale": [
             [
              0,
              "#0d0887"
             ],
             [
              0.1111111111111111,
              "#46039f"
             ],
             [
              0.2222222222222222,
              "#7201a8"
             ],
             [
              0.3333333333333333,
              "#9c179e"
             ],
             [
              0.4444444444444444,
              "#bd3786"
             ],
             [
              0.5555555555555556,
              "#d8576b"
             ],
             [
              0.6666666666666666,
              "#ed7953"
             ],
             [
              0.7777777777777778,
              "#fb9f3a"
             ],
             [
              0.8888888888888888,
              "#fdca26"
             ],
             [
              1,
              "#f0f921"
             ]
            ],
            "type": "surface"
           }
          ],
          "table": [
           {
            "cells": {
             "fill": {
              "color": "#EBF0F8"
             },
             "line": {
              "color": "white"
             }
            },
            "header": {
             "fill": {
              "color": "#C8D4E3"
             },
             "line": {
              "color": "white"
             }
            },
            "type": "table"
           }
          ]
         },
         "layout": {
          "annotationdefaults": {
           "arrowcolor": "#2a3f5f",
           "arrowhead": 0,
           "arrowwidth": 1
          },
          "autotypenumbers": "strict",
          "coloraxis": {
           "colorbar": {
            "outlinewidth": 0,
            "ticks": ""
           }
          },
          "colorscale": {
           "diverging": [
            [
             0,
             "#8e0152"
            ],
            [
             0.1,
             "#c51b7d"
            ],
            [
             0.2,
             "#de77ae"
            ],
            [
             0.3,
             "#f1b6da"
            ],
            [
             0.4,
             "#fde0ef"
            ],
            [
             0.5,
             "#f7f7f7"
            ],
            [
             0.6,
             "#e6f5d0"
            ],
            [
             0.7,
             "#b8e186"
            ],
            [
             0.8,
             "#7fbc41"
            ],
            [
             0.9,
             "#4d9221"
            ],
            [
             1,
             "#276419"
            ]
           ],
           "sequential": [
            [
             0,
             "#0d0887"
            ],
            [
             0.1111111111111111,
             "#46039f"
            ],
            [
             0.2222222222222222,
             "#7201a8"
            ],
            [
             0.3333333333333333,
             "#9c179e"
            ],
            [
             0.4444444444444444,
             "#bd3786"
            ],
            [
             0.5555555555555556,
             "#d8576b"
            ],
            [
             0.6666666666666666,
             "#ed7953"
            ],
            [
             0.7777777777777778,
             "#fb9f3a"
            ],
            [
             0.8888888888888888,
             "#fdca26"
            ],
            [
             1,
             "#f0f921"
            ]
           ],
           "sequentialminus": [
            [
             0,
             "#0d0887"
            ],
            [
             0.1111111111111111,
             "#46039f"
            ],
            [
             0.2222222222222222,
             "#7201a8"
            ],
            [
             0.3333333333333333,
             "#9c179e"
            ],
            [
             0.4444444444444444,
             "#bd3786"
            ],
            [
             0.5555555555555556,
             "#d8576b"
            ],
            [
             0.6666666666666666,
             "#ed7953"
            ],
            [
             0.7777777777777778,
             "#fb9f3a"
            ],
            [
             0.8888888888888888,
             "#fdca26"
            ],
            [
             1,
             "#f0f921"
            ]
           ]
          },
          "colorway": [
           "#636efa",
           "#EF553B",
           "#00cc96",
           "#ab63fa",
           "#FFA15A",
           "#19d3f3",
           "#FF6692",
           "#B6E880",
           "#FF97FF",
           "#FECB52"
          ],
          "font": {
           "color": "#2a3f5f"
          },
          "geo": {
           "bgcolor": "white",
           "lakecolor": "white",
           "landcolor": "#E5ECF6",
           "showlakes": true,
           "showland": true,
           "subunitcolor": "white"
          },
          "hoverlabel": {
           "align": "left"
          },
          "hovermode": "closest",
          "mapbox": {
           "style": "light"
          },
          "paper_bgcolor": "white",
          "plot_bgcolor": "#E5ECF6",
          "polar": {
           "angularaxis": {
            "gridcolor": "white",
            "linecolor": "white",
            "ticks": ""
           },
           "bgcolor": "#E5ECF6",
           "radialaxis": {
            "gridcolor": "white",
            "linecolor": "white",
            "ticks": ""
           }
          },
          "scene": {
           "xaxis": {
            "backgroundcolor": "#E5ECF6",
            "gridcolor": "white",
            "gridwidth": 2,
            "linecolor": "white",
            "showbackground": true,
            "ticks": "",
            "zerolinecolor": "white"
           },
           "yaxis": {
            "backgroundcolor": "#E5ECF6",
            "gridcolor": "white",
            "gridwidth": 2,
            "linecolor": "white",
            "showbackground": true,
            "ticks": "",
            "zerolinecolor": "white"
           },
           "zaxis": {
            "backgroundcolor": "#E5ECF6",
            "gridcolor": "white",
            "gridwidth": 2,
            "linecolor": "white",
            "showbackground": true,
            "ticks": "",
            "zerolinecolor": "white"
           }
          },
          "shapedefaults": {
           "line": {
            "color": "#2a3f5f"
           }
          },
          "ternary": {
           "aaxis": {
            "gridcolor": "white",
            "linecolor": "white",
            "ticks": ""
           },
           "baxis": {
            "gridcolor": "white",
            "linecolor": "white",
            "ticks": ""
           },
           "bgcolor": "#E5ECF6",
           "caxis": {
            "gridcolor": "white",
            "linecolor": "white",
            "ticks": ""
           }
          },
          "title": {
           "x": 0.05
          },
          "xaxis": {
           "automargin": true,
           "gridcolor": "white",
           "linecolor": "white",
           "ticks": "",
           "title": {
            "standoff": 15
           },
           "zerolinecolor": "white",
           "zerolinewidth": 2
          },
          "yaxis": {
           "automargin": true,
           "gridcolor": "white",
           "linecolor": "white",
           "ticks": "",
           "title": {
            "standoff": 15
           },
           "zerolinecolor": "white",
           "zerolinewidth": 2
          }
         }
        },
        "title": {
         "text": "Jumlah Tingkat Keparahan Kecelakaan Per Tahun"
        },
        "width": 1200,
        "xaxis": {
         "anchor": "y",
         "domain": [
          0,
          1
         ],
         "title": {
          "text": "Tahun"
         }
        },
        "yaxis": {
         "anchor": "x",
         "domain": [
          0,
          1
         ],
         "title": {
          "text": "Jumlah Kasus"
         }
        }
       }
      }
     },
     "metadata": {},
     "output_type": "display_data"
    }
   ],
   "source": [
    "import pandas as pd\n",
    "import numpy as np\n",
    "import plotly.express as px\n",
    "from sklearn.cluster import KMeans\n",
    "from sklearn.preprocessing import StandardScaler\n",
    "\n",
    "# Memuat data\n",
    "file_path = 'Data_Kecelakaan_Padang_Lawas_Utara.xlsx'\n",
    "df = pd.read_excel(file_path)\n",
    "\n",
    "# Pilih fitur yang relevan untuk clustering\n",
    "features = [\"Jumlah Kecelakaan\", \"Jumlah Meninggal\", \"Jumlah Luka Berat\", \"Jumlah Luka Ringan\"]\n",
    "X = df[features]\n",
    "\n",
    "# Normalisasi data\n",
    "scaler = StandardScaler()\n",
    "X_scaled = scaler.fit_transform(X)\n",
    "\n",
    "# Tentukan jumlah klaster\n",
    "k = 4  # untuk Aman, Berpotensi Rawan, Rawan, Sangat Rawan\n",
    "\n",
    "# Terapkan K-Means clustering\n",
    "kmeans = KMeans(n_clusters=k, random_state=42)\n",
    "kmeans.fit(X_scaled)\n",
    "df['Cluster'] = kmeans.labels_\n",
    "\n",
    "# Map the clusters to the risk levels\n",
    "cluster_map = {\n",
    "    0: \"Aman\",\n",
    "    1: \"Berpotensi Rawan\",\n",
    "    2: \"Rawan\",\n",
    "    3: \"Sangat Rawan\"\n",
    "}\n",
    "df['Tingkat Kerawanan'] = df['Cluster'].map(cluster_map)\n",
    "\n",
    "# Group by year and severity level\n",
    "severity_by_year = df.groupby(['Tahun', 'Tingkat Kerawanan']).size().unstack(fill_value=0).reset_index()\n",
    "\n",
    "# Melt the DataFrame to long format for Plotly\n",
    "severity_melted = pd.melt(severity_by_year, id_vars=['Tahun'], value_vars=cluster_map.values(), \n",
    "                          var_name='Tingkat Kerawanan', value_name='Jumlah Kasus')\n",
    "\n",
    "# Visualisasi dengan Plotly\n",
    "fig = px.bar(severity_melted, x='Tahun', y='Jumlah Kasus', color='Tingkat Kerawanan',\n",
    "             title='Jumlah Tingkat Keparahan Kecelakaan Per Tahun',\n",
    "             labels={'Jumlah Kasus': 'Jumlah Kasus'},\n",
    "             height=800, \n",
    "             width=1200, \n",
    "             text='Jumlah Kasus',\n",
    "             category_orders={'Tingkat Kerawanan': list(cluster_map.values())})\n",
    "\n",
    "# Tambahkan label pada bar chart\n",
    "fig.update_traces(texttemplate='%{text}', textposition='outside', \n",
    "                  marker=dict(line=dict(color='rgb(0,0,0)', width=1.5)))\n",
    "\n",
    "# Update layout\n",
    "fig.update_layout(xaxis_title='Tahun',\n",
    "                  yaxis_title='Jumlah Kasus',\n",
    "                  legend_title='Tingkat Kerawanan',\n",
    "                  barmode='stack')\n",
    "\n",
    "fig.show()\n"
   ]
  },
  {
   "cell_type": "code",
   "execution_count": 22,
   "metadata": {},
   "outputs": [
    {
     "data": {
      "text/html": [
       "<div>\n",
       "<style scoped>\n",
       "    .dataframe tbody tr th:only-of-type {\n",
       "        vertical-align: middle;\n",
       "    }\n",
       "\n",
       "    .dataframe tbody tr th {\n",
       "        vertical-align: top;\n",
       "    }\n",
       "\n",
       "    .dataframe thead th {\n",
       "        text-align: right;\n",
       "    }\n",
       "</style>\n",
       "<table border=\"1\" class=\"dataframe\">\n",
       "  <thead>\n",
       "    <tr style=\"text-align: right;\">\n",
       "      <th></th>\n",
       "      <th>Kecamatan</th>\n",
       "      <th>Tahun</th>\n",
       "      <th>Jumlah Kecelakaan</th>\n",
       "      <th>Jumlah Meninggal</th>\n",
       "      <th>Jumlah Luka Berat</th>\n",
       "      <th>Jumlah Luka Ringan</th>\n",
       "    </tr>\n",
       "  </thead>\n",
       "  <tbody>\n",
       "    <tr>\n",
       "      <th>0</th>\n",
       "      <td>Batang Onang</td>\n",
       "      <td>2019</td>\n",
       "      <td>93</td>\n",
       "      <td>3</td>\n",
       "      <td>17</td>\n",
       "      <td>19</td>\n",
       "    </tr>\n",
       "    <tr>\n",
       "      <th>1</th>\n",
       "      <td>Batang Onang</td>\n",
       "      <td>2020</td>\n",
       "      <td>196</td>\n",
       "      <td>6</td>\n",
       "      <td>15</td>\n",
       "      <td>27</td>\n",
       "    </tr>\n",
       "    <tr>\n",
       "      <th>2</th>\n",
       "      <td>Batang Onang</td>\n",
       "      <td>2021</td>\n",
       "      <td>82</td>\n",
       "      <td>7</td>\n",
       "      <td>16</td>\n",
       "      <td>13</td>\n",
       "    </tr>\n",
       "    <tr>\n",
       "      <th>3</th>\n",
       "      <td>Batang Onang</td>\n",
       "      <td>2022</td>\n",
       "      <td>199</td>\n",
       "      <td>5</td>\n",
       "      <td>12</td>\n",
       "      <td>42</td>\n",
       "    </tr>\n",
       "    <tr>\n",
       "      <th>4</th>\n",
       "      <td>Batang Onang</td>\n",
       "      <td>2023</td>\n",
       "      <td>183</td>\n",
       "      <td>7</td>\n",
       "      <td>12</td>\n",
       "      <td>40</td>\n",
       "    </tr>\n",
       "    <tr>\n",
       "      <th>5</th>\n",
       "      <td>Dolok</td>\n",
       "      <td>2019</td>\n",
       "      <td>103</td>\n",
       "      <td>3</td>\n",
       "      <td>15</td>\n",
       "      <td>33</td>\n",
       "    </tr>\n",
       "    <tr>\n",
       "      <th>6</th>\n",
       "      <td>Dolok</td>\n",
       "      <td>2020</td>\n",
       "      <td>103</td>\n",
       "      <td>3</td>\n",
       "      <td>12</td>\n",
       "      <td>47</td>\n",
       "    </tr>\n",
       "    <tr>\n",
       "      <th>7</th>\n",
       "      <td>Dolok</td>\n",
       "      <td>2021</td>\n",
       "      <td>104</td>\n",
       "      <td>2</td>\n",
       "      <td>17</td>\n",
       "      <td>41</td>\n",
       "    </tr>\n",
       "    <tr>\n",
       "      <th>8</th>\n",
       "      <td>Dolok</td>\n",
       "      <td>2022</td>\n",
       "      <td>78</td>\n",
       "      <td>6</td>\n",
       "      <td>18</td>\n",
       "      <td>27</td>\n",
       "    </tr>\n",
       "    <tr>\n",
       "      <th>9</th>\n",
       "      <td>Dolok</td>\n",
       "      <td>2023</td>\n",
       "      <td>199</td>\n",
       "      <td>2</td>\n",
       "      <td>10</td>\n",
       "      <td>29</td>\n",
       "    </tr>\n",
       "    <tr>\n",
       "      <th>10</th>\n",
       "      <td>Dolok Sigompulon</td>\n",
       "      <td>2019</td>\n",
       "      <td>56</td>\n",
       "      <td>4</td>\n",
       "      <td>12</td>\n",
       "      <td>26</td>\n",
       "    </tr>\n",
       "    <tr>\n",
       "      <th>11</th>\n",
       "      <td>Dolok Sigompulon</td>\n",
       "      <td>2020</td>\n",
       "      <td>140</td>\n",
       "      <td>1</td>\n",
       "      <td>13</td>\n",
       "      <td>43</td>\n",
       "    </tr>\n",
       "    <tr>\n",
       "      <th>12</th>\n",
       "      <td>Dolok Sigompulon</td>\n",
       "      <td>2021</td>\n",
       "      <td>76</td>\n",
       "      <td>1</td>\n",
       "      <td>13</td>\n",
       "      <td>15</td>\n",
       "    </tr>\n",
       "    <tr>\n",
       "      <th>13</th>\n",
       "      <td>Dolok Sigompulon</td>\n",
       "      <td>2022</td>\n",
       "      <td>177</td>\n",
       "      <td>5</td>\n",
       "      <td>4</td>\n",
       "      <td>11</td>\n",
       "    </tr>\n",
       "    <tr>\n",
       "      <th>14</th>\n",
       "      <td>Dolok Sigompulon</td>\n",
       "      <td>2023</td>\n",
       "      <td>71</td>\n",
       "      <td>3</td>\n",
       "      <td>14</td>\n",
       "      <td>47</td>\n",
       "    </tr>\n",
       "    <tr>\n",
       "      <th>15</th>\n",
       "      <td>Halongonan</td>\n",
       "      <td>2019</td>\n",
       "      <td>91</td>\n",
       "      <td>7</td>\n",
       "      <td>6</td>\n",
       "      <td>11</td>\n",
       "    </tr>\n",
       "    <tr>\n",
       "      <th>16</th>\n",
       "      <td>Halongonan</td>\n",
       "      <td>2020</td>\n",
       "      <td>91</td>\n",
       "      <td>8</td>\n",
       "      <td>1</td>\n",
       "      <td>40</td>\n",
       "    </tr>\n",
       "    <tr>\n",
       "      <th>17</th>\n",
       "      <td>Halongonan</td>\n",
       "      <td>2021</td>\n",
       "      <td>117</td>\n",
       "      <td>7</td>\n",
       "      <td>19</td>\n",
       "      <td>14</td>\n",
       "    </tr>\n",
       "    <tr>\n",
       "      <th>18</th>\n",
       "      <td>Halongonan</td>\n",
       "      <td>2022</td>\n",
       "      <td>117</td>\n",
       "      <td>5</td>\n",
       "      <td>12</td>\n",
       "      <td>39</td>\n",
       "    </tr>\n",
       "    <tr>\n",
       "      <th>19</th>\n",
       "      <td>Halongonan</td>\n",
       "      <td>2023</td>\n",
       "      <td>151</td>\n",
       "      <td>6</td>\n",
       "      <td>14</td>\n",
       "      <td>46</td>\n",
       "    </tr>\n",
       "    <tr>\n",
       "      <th>20</th>\n",
       "      <td>Halongonan Timur</td>\n",
       "      <td>2019</td>\n",
       "      <td>127</td>\n",
       "      <td>7</td>\n",
       "      <td>8</td>\n",
       "      <td>34</td>\n",
       "    </tr>\n",
       "    <tr>\n",
       "      <th>21</th>\n",
       "      <td>Halongonan Timur</td>\n",
       "      <td>2020</td>\n",
       "      <td>124</td>\n",
       "      <td>1</td>\n",
       "      <td>1</td>\n",
       "      <td>17</td>\n",
       "    </tr>\n",
       "    <tr>\n",
       "      <th>22</th>\n",
       "      <td>Halongonan Timur</td>\n",
       "      <td>2021</td>\n",
       "      <td>152</td>\n",
       "      <td>3</td>\n",
       "      <td>18</td>\n",
       "      <td>24</td>\n",
       "    </tr>\n",
       "    <tr>\n",
       "      <th>23</th>\n",
       "      <td>Halongonan Timur</td>\n",
       "      <td>2022</td>\n",
       "      <td>127</td>\n",
       "      <td>4</td>\n",
       "      <td>16</td>\n",
       "      <td>43</td>\n",
       "    </tr>\n",
       "    <tr>\n",
       "      <th>24</th>\n",
       "      <td>Halongonan Timur</td>\n",
       "      <td>2023</td>\n",
       "      <td>62</td>\n",
       "      <td>8</td>\n",
       "      <td>18</td>\n",
       "      <td>21</td>\n",
       "    </tr>\n",
       "    <tr>\n",
       "      <th>25</th>\n",
       "      <td>Hulu Sihapas</td>\n",
       "      <td>2019</td>\n",
       "      <td>165</td>\n",
       "      <td>4</td>\n",
       "      <td>19</td>\n",
       "      <td>41</td>\n",
       "    </tr>\n",
       "    <tr>\n",
       "      <th>26</th>\n",
       "      <td>Hulu Sihapas</td>\n",
       "      <td>2020</td>\n",
       "      <td>90</td>\n",
       "      <td>2</td>\n",
       "      <td>19</td>\n",
       "      <td>46</td>\n",
       "    </tr>\n",
       "    <tr>\n",
       "      <th>27</th>\n",
       "      <td>Hulu Sihapas</td>\n",
       "      <td>2021</td>\n",
       "      <td>150</td>\n",
       "      <td>2</td>\n",
       "      <td>13</td>\n",
       "      <td>26</td>\n",
       "    </tr>\n",
       "    <tr>\n",
       "      <th>28</th>\n",
       "      <td>Hulu Sihapas</td>\n",
       "      <td>2022</td>\n",
       "      <td>109</td>\n",
       "      <td>7</td>\n",
       "      <td>9</td>\n",
       "      <td>24</td>\n",
       "    </tr>\n",
       "    <tr>\n",
       "      <th>29</th>\n",
       "      <td>Hulu Sihapas</td>\n",
       "      <td>2023</td>\n",
       "      <td>74</td>\n",
       "      <td>5</td>\n",
       "      <td>1</td>\n",
       "      <td>28</td>\n",
       "    </tr>\n",
       "    <tr>\n",
       "      <th>30</th>\n",
       "      <td>Padang Bolak</td>\n",
       "      <td>2019</td>\n",
       "      <td>169</td>\n",
       "      <td>3</td>\n",
       "      <td>12</td>\n",
       "      <td>26</td>\n",
       "    </tr>\n",
       "    <tr>\n",
       "      <th>31</th>\n",
       "      <td>Padang Bolak</td>\n",
       "      <td>2020</td>\n",
       "      <td>90</td>\n",
       "      <td>3</td>\n",
       "      <td>13</td>\n",
       "      <td>13</td>\n",
       "    </tr>\n",
       "    <tr>\n",
       "      <th>32</th>\n",
       "      <td>Padang Bolak</td>\n",
       "      <td>2021</td>\n",
       "      <td>63</td>\n",
       "      <td>7</td>\n",
       "      <td>19</td>\n",
       "      <td>31</td>\n",
       "    </tr>\n",
       "    <tr>\n",
       "      <th>33</th>\n",
       "      <td>Padang Bolak</td>\n",
       "      <td>2022</td>\n",
       "      <td>131</td>\n",
       "      <td>2</td>\n",
       "      <td>19</td>\n",
       "      <td>12</td>\n",
       "    </tr>\n",
       "    <tr>\n",
       "      <th>34</th>\n",
       "      <td>Padang Bolak</td>\n",
       "      <td>2023</td>\n",
       "      <td>60</td>\n",
       "      <td>8</td>\n",
       "      <td>8</td>\n",
       "      <td>31</td>\n",
       "    </tr>\n",
       "    <tr>\n",
       "      <th>35</th>\n",
       "      <td>Padang Bolak Julu</td>\n",
       "      <td>2019</td>\n",
       "      <td>92</td>\n",
       "      <td>8</td>\n",
       "      <td>17</td>\n",
       "      <td>17</td>\n",
       "    </tr>\n",
       "    <tr>\n",
       "      <th>36</th>\n",
       "      <td>Padang Bolak Julu</td>\n",
       "      <td>2020</td>\n",
       "      <td>155</td>\n",
       "      <td>9</td>\n",
       "      <td>17</td>\n",
       "      <td>44</td>\n",
       "    </tr>\n",
       "    <tr>\n",
       "      <th>37</th>\n",
       "      <td>Padang Bolak Julu</td>\n",
       "      <td>2021</td>\n",
       "      <td>78</td>\n",
       "      <td>6</td>\n",
       "      <td>4</td>\n",
       "      <td>23</td>\n",
       "    </tr>\n",
       "    <tr>\n",
       "      <th>38</th>\n",
       "      <td>Padang Bolak Julu</td>\n",
       "      <td>2022</td>\n",
       "      <td>100</td>\n",
       "      <td>2</td>\n",
       "      <td>8</td>\n",
       "      <td>25</td>\n",
       "    </tr>\n",
       "    <tr>\n",
       "      <th>39</th>\n",
       "      <td>Padang Bolak Julu</td>\n",
       "      <td>2023</td>\n",
       "      <td>197</td>\n",
       "      <td>9</td>\n",
       "      <td>14</td>\n",
       "      <td>34</td>\n",
       "    </tr>\n",
       "    <tr>\n",
       "      <th>40</th>\n",
       "      <td>Padang Bolak Tenggara</td>\n",
       "      <td>2019</td>\n",
       "      <td>124</td>\n",
       "      <td>8</td>\n",
       "      <td>12</td>\n",
       "      <td>49</td>\n",
       "    </tr>\n",
       "    <tr>\n",
       "      <th>41</th>\n",
       "      <td>Padang Bolak Tenggara</td>\n",
       "      <td>2020</td>\n",
       "      <td>77</td>\n",
       "      <td>1</td>\n",
       "      <td>10</td>\n",
       "      <td>41</td>\n",
       "    </tr>\n",
       "    <tr>\n",
       "      <th>42</th>\n",
       "      <td>Padang Bolak Tenggara</td>\n",
       "      <td>2021</td>\n",
       "      <td>136</td>\n",
       "      <td>6</td>\n",
       "      <td>2</td>\n",
       "      <td>35</td>\n",
       "    </tr>\n",
       "    <tr>\n",
       "      <th>43</th>\n",
       "      <td>Padang Bolak Tenggara</td>\n",
       "      <td>2022</td>\n",
       "      <td>78</td>\n",
       "      <td>9</td>\n",
       "      <td>6</td>\n",
       "      <td>42</td>\n",
       "    </tr>\n",
       "    <tr>\n",
       "      <th>44</th>\n",
       "      <td>Padang Bolak Tenggara</td>\n",
       "      <td>2023</td>\n",
       "      <td>161</td>\n",
       "      <td>5</td>\n",
       "      <td>10</td>\n",
       "      <td>37</td>\n",
       "    </tr>\n",
       "    <tr>\n",
       "      <th>45</th>\n",
       "      <td>Portibi</td>\n",
       "      <td>2019</td>\n",
       "      <td>153</td>\n",
       "      <td>8</td>\n",
       "      <td>10</td>\n",
       "      <td>45</td>\n",
       "    </tr>\n",
       "    <tr>\n",
       "      <th>46</th>\n",
       "      <td>Portibi</td>\n",
       "      <td>2020</td>\n",
       "      <td>182</td>\n",
       "      <td>8</td>\n",
       "      <td>9</td>\n",
       "      <td>39</td>\n",
       "    </tr>\n",
       "    <tr>\n",
       "      <th>47</th>\n",
       "      <td>Portibi</td>\n",
       "      <td>2021</td>\n",
       "      <td>137</td>\n",
       "      <td>4</td>\n",
       "      <td>13</td>\n",
       "      <td>32</td>\n",
       "    </tr>\n",
       "    <tr>\n",
       "      <th>48</th>\n",
       "      <td>Portibi</td>\n",
       "      <td>2022</td>\n",
       "      <td>69</td>\n",
       "      <td>7</td>\n",
       "      <td>7</td>\n",
       "      <td>26</td>\n",
       "    </tr>\n",
       "    <tr>\n",
       "      <th>49</th>\n",
       "      <td>Portibi</td>\n",
       "      <td>2023</td>\n",
       "      <td>99</td>\n",
       "      <td>5</td>\n",
       "      <td>16</td>\n",
       "      <td>46</td>\n",
       "    </tr>\n",
       "    <tr>\n",
       "      <th>50</th>\n",
       "      <td>Simangambat</td>\n",
       "      <td>2019</td>\n",
       "      <td>55</td>\n",
       "      <td>3</td>\n",
       "      <td>16</td>\n",
       "      <td>42</td>\n",
       "    </tr>\n",
       "    <tr>\n",
       "      <th>51</th>\n",
       "      <td>Simangambat</td>\n",
       "      <td>2020</td>\n",
       "      <td>80</td>\n",
       "      <td>3</td>\n",
       "      <td>9</td>\n",
       "      <td>42</td>\n",
       "    </tr>\n",
       "    <tr>\n",
       "      <th>52</th>\n",
       "      <td>Simangambat</td>\n",
       "      <td>2021</td>\n",
       "      <td>55</td>\n",
       "      <td>2</td>\n",
       "      <td>14</td>\n",
       "      <td>38</td>\n",
       "    </tr>\n",
       "    <tr>\n",
       "      <th>53</th>\n",
       "      <td>Simangambat</td>\n",
       "      <td>2022</td>\n",
       "      <td>176</td>\n",
       "      <td>8</td>\n",
       "      <td>3</td>\n",
       "      <td>22</td>\n",
       "    </tr>\n",
       "    <tr>\n",
       "      <th>54</th>\n",
       "      <td>Simangambat</td>\n",
       "      <td>2023</td>\n",
       "      <td>169</td>\n",
       "      <td>2</td>\n",
       "      <td>7</td>\n",
       "      <td>14</td>\n",
       "    </tr>\n",
       "    <tr>\n",
       "      <th>55</th>\n",
       "      <td>Ujung Batu</td>\n",
       "      <td>2019</td>\n",
       "      <td>70</td>\n",
       "      <td>9</td>\n",
       "      <td>10</td>\n",
       "      <td>10</td>\n",
       "    </tr>\n",
       "    <tr>\n",
       "      <th>56</th>\n",
       "      <td>Ujung Batu</td>\n",
       "      <td>2020</td>\n",
       "      <td>182</td>\n",
       "      <td>4</td>\n",
       "      <td>1</td>\n",
       "      <td>33</td>\n",
       "    </tr>\n",
       "    <tr>\n",
       "      <th>57</th>\n",
       "      <td>Ujung Batu</td>\n",
       "      <td>2021</td>\n",
       "      <td>76</td>\n",
       "      <td>8</td>\n",
       "      <td>14</td>\n",
       "      <td>46</td>\n",
       "    </tr>\n",
       "    <tr>\n",
       "      <th>58</th>\n",
       "      <td>Ujung Batu</td>\n",
       "      <td>2022</td>\n",
       "      <td>90</td>\n",
       "      <td>1</td>\n",
       "      <td>12</td>\n",
       "      <td>25</td>\n",
       "    </tr>\n",
       "    <tr>\n",
       "      <th>59</th>\n",
       "      <td>Ujung Batu</td>\n",
       "      <td>2023</td>\n",
       "      <td>102</td>\n",
       "      <td>2</td>\n",
       "      <td>15</td>\n",
       "      <td>20</td>\n",
       "    </tr>\n",
       "  </tbody>\n",
       "</table>\n",
       "</div>"
      ],
      "text/plain": [
       "                Kecamatan  Tahun  Jumlah Kecelakaan  Jumlah Meninggal  \\\n",
       "0            Batang Onang   2019                 93                 3   \n",
       "1            Batang Onang   2020                196                 6   \n",
       "2            Batang Onang   2021                 82                 7   \n",
       "3            Batang Onang   2022                199                 5   \n",
       "4            Batang Onang   2023                183                 7   \n",
       "5                   Dolok   2019                103                 3   \n",
       "6                   Dolok   2020                103                 3   \n",
       "7                   Dolok   2021                104                 2   \n",
       "8                   Dolok   2022                 78                 6   \n",
       "9                   Dolok   2023                199                 2   \n",
       "10       Dolok Sigompulon   2019                 56                 4   \n",
       "11       Dolok Sigompulon   2020                140                 1   \n",
       "12       Dolok Sigompulon   2021                 76                 1   \n",
       "13       Dolok Sigompulon   2022                177                 5   \n",
       "14       Dolok Sigompulon   2023                 71                 3   \n",
       "15             Halongonan   2019                 91                 7   \n",
       "16             Halongonan   2020                 91                 8   \n",
       "17             Halongonan   2021                117                 7   \n",
       "18             Halongonan   2022                117                 5   \n",
       "19             Halongonan   2023                151                 6   \n",
       "20       Halongonan Timur   2019                127                 7   \n",
       "21       Halongonan Timur   2020                124                 1   \n",
       "22       Halongonan Timur   2021                152                 3   \n",
       "23       Halongonan Timur   2022                127                 4   \n",
       "24       Halongonan Timur   2023                 62                 8   \n",
       "25           Hulu Sihapas   2019                165                 4   \n",
       "26           Hulu Sihapas   2020                 90                 2   \n",
       "27           Hulu Sihapas   2021                150                 2   \n",
       "28           Hulu Sihapas   2022                109                 7   \n",
       "29           Hulu Sihapas   2023                 74                 5   \n",
       "30           Padang Bolak   2019                169                 3   \n",
       "31           Padang Bolak   2020                 90                 3   \n",
       "32           Padang Bolak   2021                 63                 7   \n",
       "33           Padang Bolak   2022                131                 2   \n",
       "34           Padang Bolak   2023                 60                 8   \n",
       "35      Padang Bolak Julu   2019                 92                 8   \n",
       "36      Padang Bolak Julu   2020                155                 9   \n",
       "37      Padang Bolak Julu   2021                 78                 6   \n",
       "38      Padang Bolak Julu   2022                100                 2   \n",
       "39      Padang Bolak Julu   2023                197                 9   \n",
       "40  Padang Bolak Tenggara   2019                124                 8   \n",
       "41  Padang Bolak Tenggara   2020                 77                 1   \n",
       "42  Padang Bolak Tenggara   2021                136                 6   \n",
       "43  Padang Bolak Tenggara   2022                 78                 9   \n",
       "44  Padang Bolak Tenggara   2023                161                 5   \n",
       "45                Portibi   2019                153                 8   \n",
       "46                Portibi   2020                182                 8   \n",
       "47                Portibi   2021                137                 4   \n",
       "48                Portibi   2022                 69                 7   \n",
       "49                Portibi   2023                 99                 5   \n",
       "50            Simangambat   2019                 55                 3   \n",
       "51            Simangambat   2020                 80                 3   \n",
       "52            Simangambat   2021                 55                 2   \n",
       "53            Simangambat   2022                176                 8   \n",
       "54            Simangambat   2023                169                 2   \n",
       "55             Ujung Batu   2019                 70                 9   \n",
       "56             Ujung Batu   2020                182                 4   \n",
       "57             Ujung Batu   2021                 76                 8   \n",
       "58             Ujung Batu   2022                 90                 1   \n",
       "59             Ujung Batu   2023                102                 2   \n",
       "\n",
       "    Jumlah Luka Berat  Jumlah Luka Ringan  \n",
       "0                  17                  19  \n",
       "1                  15                  27  \n",
       "2                  16                  13  \n",
       "3                  12                  42  \n",
       "4                  12                  40  \n",
       "5                  15                  33  \n",
       "6                  12                  47  \n",
       "7                  17                  41  \n",
       "8                  18                  27  \n",
       "9                  10                  29  \n",
       "10                 12                  26  \n",
       "11                 13                  43  \n",
       "12                 13                  15  \n",
       "13                  4                  11  \n",
       "14                 14                  47  \n",
       "15                  6                  11  \n",
       "16                  1                  40  \n",
       "17                 19                  14  \n",
       "18                 12                  39  \n",
       "19                 14                  46  \n",
       "20                  8                  34  \n",
       "21                  1                  17  \n",
       "22                 18                  24  \n",
       "23                 16                  43  \n",
       "24                 18                  21  \n",
       "25                 19                  41  \n",
       "26                 19                  46  \n",
       "27                 13                  26  \n",
       "28                  9                  24  \n",
       "29                  1                  28  \n",
       "30                 12                  26  \n",
       "31                 13                  13  \n",
       "32                 19                  31  \n",
       "33                 19                  12  \n",
       "34                  8                  31  \n",
       "35                 17                  17  \n",
       "36                 17                  44  \n",
       "37                  4                  23  \n",
       "38                  8                  25  \n",
       "39                 14                  34  \n",
       "40                 12                  49  \n",
       "41                 10                  41  \n",
       "42                  2                  35  \n",
       "43                  6                  42  \n",
       "44                 10                  37  \n",
       "45                 10                  45  \n",
       "46                  9                  39  \n",
       "47                 13                  32  \n",
       "48                  7                  26  \n",
       "49                 16                  46  \n",
       "50                 16                  42  \n",
       "51                  9                  42  \n",
       "52                 14                  38  \n",
       "53                  3                  22  \n",
       "54                  7                  14  \n",
       "55                 10                  10  \n",
       "56                  1                  33  \n",
       "57                 14                  46  \n",
       "58                 12                  25  \n",
       "59                 15                  20  "
      ]
     },
     "metadata": {},
     "output_type": "display_data"
    },
    {
     "data": {
      "application/vnd.plotly.v1+json": {
       "config": {
        "plotlyServerURL": "https://plot.ly"
       },
       "data": [
        {
         "alignmentgroup": "True",
         "hovertemplate": "Kategori=Jumlah Meninggal<br>Tahun=2019<br>Kecamatan=%{x}<br>Jumlah=%{y}<extra></extra>",
         "legendgroup": "Jumlah Meninggal",
         "marker": {
          "color": "#636efa",
          "pattern": {
           "shape": ""
          }
         },
         "name": "Jumlah Meninggal",
         "offsetgroup": "Jumlah Meninggal",
         "orientation": "v",
         "showlegend": true,
         "textposition": "auto",
         "type": "bar",
         "x": [
          "Batang Onang",
          "Dolok",
          "Dolok Sigompulon",
          "Halongonan",
          "Halongonan Timur",
          "Hulu Sihapas",
          "Padang Bolak",
          "Padang Bolak Julu",
          "Padang Bolak Tenggara",
          "Portibi",
          "Simangambat",
          "Ujung Batu"
         ],
         "xaxis": "x",
         "y": [
          3,
          3,
          4,
          7,
          7,
          4,
          3,
          8,
          8,
          8,
          3,
          9
         ],
         "yaxis": "y"
        },
        {
         "alignmentgroup": "True",
         "hovertemplate": "Kategori=Jumlah Meninggal<br>Tahun=2020<br>Kecamatan=%{x}<br>Jumlah=%{y}<extra></extra>",
         "legendgroup": "Jumlah Meninggal",
         "marker": {
          "color": "#636efa",
          "pattern": {
           "shape": ""
          }
         },
         "name": "Jumlah Meninggal",
         "offsetgroup": "Jumlah Meninggal",
         "orientation": "v",
         "showlegend": false,
         "textposition": "auto",
         "type": "bar",
         "x": [
          "Batang Onang",
          "Dolok",
          "Dolok Sigompulon",
          "Halongonan",
          "Halongonan Timur",
          "Hulu Sihapas",
          "Padang Bolak",
          "Padang Bolak Julu",
          "Padang Bolak Tenggara",
          "Portibi",
          "Simangambat",
          "Ujung Batu"
         ],
         "xaxis": "x2",
         "y": [
          6,
          3,
          1,
          8,
          1,
          2,
          3,
          9,
          1,
          8,
          3,
          4
         ],
         "yaxis": "y2"
        },
        {
         "alignmentgroup": "True",
         "hovertemplate": "Kategori=Jumlah Meninggal<br>Tahun=2021<br>Kecamatan=%{x}<br>Jumlah=%{y}<extra></extra>",
         "legendgroup": "Jumlah Meninggal",
         "marker": {
          "color": "#636efa",
          "pattern": {
           "shape": ""
          }
         },
         "name": "Jumlah Meninggal",
         "offsetgroup": "Jumlah Meninggal",
         "orientation": "v",
         "showlegend": false,
         "textposition": "auto",
         "type": "bar",
         "x": [
          "Batang Onang",
          "Dolok",
          "Dolok Sigompulon",
          "Halongonan",
          "Halongonan Timur",
          "Hulu Sihapas",
          "Padang Bolak",
          "Padang Bolak Julu",
          "Padang Bolak Tenggara",
          "Portibi",
          "Simangambat",
          "Ujung Batu"
         ],
         "xaxis": "x3",
         "y": [
          7,
          2,
          1,
          7,
          3,
          2,
          7,
          6,
          6,
          4,
          2,
          8
         ],
         "yaxis": "y3"
        },
        {
         "alignmentgroup": "True",
         "hovertemplate": "Kategori=Jumlah Meninggal<br>Tahun=2022<br>Kecamatan=%{x}<br>Jumlah=%{y}<extra></extra>",
         "legendgroup": "Jumlah Meninggal",
         "marker": {
          "color": "#636efa",
          "pattern": {
           "shape": ""
          }
         },
         "name": "Jumlah Meninggal",
         "offsetgroup": "Jumlah Meninggal",
         "orientation": "v",
         "showlegend": false,
         "textposition": "auto",
         "type": "bar",
         "x": [
          "Batang Onang",
          "Dolok",
          "Dolok Sigompulon",
          "Halongonan",
          "Halongonan Timur",
          "Hulu Sihapas",
          "Padang Bolak",
          "Padang Bolak Julu",
          "Padang Bolak Tenggara",
          "Portibi",
          "Simangambat",
          "Ujung Batu"
         ],
         "xaxis": "x4",
         "y": [
          5,
          6,
          5,
          5,
          4,
          7,
          2,
          2,
          9,
          7,
          8,
          1
         ],
         "yaxis": "y4"
        },
        {
         "alignmentgroup": "True",
         "hovertemplate": "Kategori=Jumlah Meninggal<br>Tahun=2023<br>Kecamatan=%{x}<br>Jumlah=%{y}<extra></extra>",
         "legendgroup": "Jumlah Meninggal",
         "marker": {
          "color": "#636efa",
          "pattern": {
           "shape": ""
          }
         },
         "name": "Jumlah Meninggal",
         "offsetgroup": "Jumlah Meninggal",
         "orientation": "v",
         "showlegend": false,
         "textposition": "auto",
         "type": "bar",
         "x": [
          "Batang Onang",
          "Dolok",
          "Dolok Sigompulon",
          "Halongonan",
          "Halongonan Timur",
          "Hulu Sihapas",
          "Padang Bolak",
          "Padang Bolak Julu",
          "Padang Bolak Tenggara",
          "Portibi",
          "Simangambat",
          "Ujung Batu"
         ],
         "xaxis": "x5",
         "y": [
          7,
          2,
          3,
          6,
          8,
          5,
          8,
          9,
          5,
          5,
          2,
          2
         ],
         "yaxis": "y5"
        },
        {
         "alignmentgroup": "True",
         "hovertemplate": "Kategori=Jumlah Luka Berat<br>Tahun=2019<br>Kecamatan=%{x}<br>Jumlah=%{y}<extra></extra>",
         "legendgroup": "Jumlah Luka Berat",
         "marker": {
          "color": "#EF553B",
          "pattern": {
           "shape": ""
          }
         },
         "name": "Jumlah Luka Berat",
         "offsetgroup": "Jumlah Luka Berat",
         "orientation": "v",
         "showlegend": true,
         "textposition": "auto",
         "type": "bar",
         "x": [
          "Batang Onang",
          "Dolok",
          "Dolok Sigompulon",
          "Halongonan",
          "Halongonan Timur",
          "Hulu Sihapas",
          "Padang Bolak",
          "Padang Bolak Julu",
          "Padang Bolak Tenggara",
          "Portibi",
          "Simangambat",
          "Ujung Batu"
         ],
         "xaxis": "x",
         "y": [
          17,
          15,
          12,
          6,
          8,
          19,
          12,
          17,
          12,
          10,
          16,
          10
         ],
         "yaxis": "y"
        },
        {
         "alignmentgroup": "True",
         "hovertemplate": "Kategori=Jumlah Luka Berat<br>Tahun=2020<br>Kecamatan=%{x}<br>Jumlah=%{y}<extra></extra>",
         "legendgroup": "Jumlah Luka Berat",
         "marker": {
          "color": "#EF553B",
          "pattern": {
           "shape": ""
          }
         },
         "name": "Jumlah Luka Berat",
         "offsetgroup": "Jumlah Luka Berat",
         "orientation": "v",
         "showlegend": false,
         "textposition": "auto",
         "type": "bar",
         "x": [
          "Batang Onang",
          "Dolok",
          "Dolok Sigompulon",
          "Halongonan",
          "Halongonan Timur",
          "Hulu Sihapas",
          "Padang Bolak",
          "Padang Bolak Julu",
          "Padang Bolak Tenggara",
          "Portibi",
          "Simangambat",
          "Ujung Batu"
         ],
         "xaxis": "x2",
         "y": [
          15,
          12,
          13,
          1,
          1,
          19,
          13,
          17,
          10,
          9,
          9,
          1
         ],
         "yaxis": "y2"
        },
        {
         "alignmentgroup": "True",
         "hovertemplate": "Kategori=Jumlah Luka Berat<br>Tahun=2021<br>Kecamatan=%{x}<br>Jumlah=%{y}<extra></extra>",
         "legendgroup": "Jumlah Luka Berat",
         "marker": {
          "color": "#EF553B",
          "pattern": {
           "shape": ""
          }
         },
         "name": "Jumlah Luka Berat",
         "offsetgroup": "Jumlah Luka Berat",
         "orientation": "v",
         "showlegend": false,
         "textposition": "auto",
         "type": "bar",
         "x": [
          "Batang Onang",
          "Dolok",
          "Dolok Sigompulon",
          "Halongonan",
          "Halongonan Timur",
          "Hulu Sihapas",
          "Padang Bolak",
          "Padang Bolak Julu",
          "Padang Bolak Tenggara",
          "Portibi",
          "Simangambat",
          "Ujung Batu"
         ],
         "xaxis": "x3",
         "y": [
          16,
          17,
          13,
          19,
          18,
          13,
          19,
          4,
          2,
          13,
          14,
          14
         ],
         "yaxis": "y3"
        },
        {
         "alignmentgroup": "True",
         "hovertemplate": "Kategori=Jumlah Luka Berat<br>Tahun=2022<br>Kecamatan=%{x}<br>Jumlah=%{y}<extra></extra>",
         "legendgroup": "Jumlah Luka Berat",
         "marker": {
          "color": "#EF553B",
          "pattern": {
           "shape": ""
          }
         },
         "name": "Jumlah Luka Berat",
         "offsetgroup": "Jumlah Luka Berat",
         "orientation": "v",
         "showlegend": false,
         "textposition": "auto",
         "type": "bar",
         "x": [
          "Batang Onang",
          "Dolok",
          "Dolok Sigompulon",
          "Halongonan",
          "Halongonan Timur",
          "Hulu Sihapas",
          "Padang Bolak",
          "Padang Bolak Julu",
          "Padang Bolak Tenggara",
          "Portibi",
          "Simangambat",
          "Ujung Batu"
         ],
         "xaxis": "x4",
         "y": [
          12,
          18,
          4,
          12,
          16,
          9,
          19,
          8,
          6,
          7,
          3,
          12
         ],
         "yaxis": "y4"
        },
        {
         "alignmentgroup": "True",
         "hovertemplate": "Kategori=Jumlah Luka Berat<br>Tahun=2023<br>Kecamatan=%{x}<br>Jumlah=%{y}<extra></extra>",
         "legendgroup": "Jumlah Luka Berat",
         "marker": {
          "color": "#EF553B",
          "pattern": {
           "shape": ""
          }
         },
         "name": "Jumlah Luka Berat",
         "offsetgroup": "Jumlah Luka Berat",
         "orientation": "v",
         "showlegend": false,
         "textposition": "auto",
         "type": "bar",
         "x": [
          "Batang Onang",
          "Dolok",
          "Dolok Sigompulon",
          "Halongonan",
          "Halongonan Timur",
          "Hulu Sihapas",
          "Padang Bolak",
          "Padang Bolak Julu",
          "Padang Bolak Tenggara",
          "Portibi",
          "Simangambat",
          "Ujung Batu"
         ],
         "xaxis": "x5",
         "y": [
          12,
          10,
          14,
          14,
          18,
          1,
          8,
          14,
          10,
          16,
          7,
          15
         ],
         "yaxis": "y5"
        },
        {
         "alignmentgroup": "True",
         "hovertemplate": "Kategori=Jumlah Luka Ringan<br>Tahun=2019<br>Kecamatan=%{x}<br>Jumlah=%{y}<extra></extra>",
         "legendgroup": "Jumlah Luka Ringan",
         "marker": {
          "color": "#00cc96",
          "pattern": {
           "shape": ""
          }
         },
         "name": "Jumlah Luka Ringan",
         "offsetgroup": "Jumlah Luka Ringan",
         "orientation": "v",
         "showlegend": true,
         "textposition": "auto",
         "type": "bar",
         "x": [
          "Batang Onang",
          "Dolok",
          "Dolok Sigompulon",
          "Halongonan",
          "Halongonan Timur",
          "Hulu Sihapas",
          "Padang Bolak",
          "Padang Bolak Julu",
          "Padang Bolak Tenggara",
          "Portibi",
          "Simangambat",
          "Ujung Batu"
         ],
         "xaxis": "x",
         "y": [
          19,
          33,
          26,
          11,
          34,
          41,
          26,
          17,
          49,
          45,
          42,
          10
         ],
         "yaxis": "y"
        },
        {
         "alignmentgroup": "True",
         "hovertemplate": "Kategori=Jumlah Luka Ringan<br>Tahun=2020<br>Kecamatan=%{x}<br>Jumlah=%{y}<extra></extra>",
         "legendgroup": "Jumlah Luka Ringan",
         "marker": {
          "color": "#00cc96",
          "pattern": {
           "shape": ""
          }
         },
         "name": "Jumlah Luka Ringan",
         "offsetgroup": "Jumlah Luka Ringan",
         "orientation": "v",
         "showlegend": false,
         "textposition": "auto",
         "type": "bar",
         "x": [
          "Batang Onang",
          "Dolok",
          "Dolok Sigompulon",
          "Halongonan",
          "Halongonan Timur",
          "Hulu Sihapas",
          "Padang Bolak",
          "Padang Bolak Julu",
          "Padang Bolak Tenggara",
          "Portibi",
          "Simangambat",
          "Ujung Batu"
         ],
         "xaxis": "x2",
         "y": [
          27,
          47,
          43,
          40,
          17,
          46,
          13,
          44,
          41,
          39,
          42,
          33
         ],
         "yaxis": "y2"
        },
        {
         "alignmentgroup": "True",
         "hovertemplate": "Kategori=Jumlah Luka Ringan<br>Tahun=2021<br>Kecamatan=%{x}<br>Jumlah=%{y}<extra></extra>",
         "legendgroup": "Jumlah Luka Ringan",
         "marker": {
          "color": "#00cc96",
          "pattern": {
           "shape": ""
          }
         },
         "name": "Jumlah Luka Ringan",
         "offsetgroup": "Jumlah Luka Ringan",
         "orientation": "v",
         "showlegend": false,
         "textposition": "auto",
         "type": "bar",
         "x": [
          "Batang Onang",
          "Dolok",
          "Dolok Sigompulon",
          "Halongonan",
          "Halongonan Timur",
          "Hulu Sihapas",
          "Padang Bolak",
          "Padang Bolak Julu",
          "Padang Bolak Tenggara",
          "Portibi",
          "Simangambat",
          "Ujung Batu"
         ],
         "xaxis": "x3",
         "y": [
          13,
          41,
          15,
          14,
          24,
          26,
          31,
          23,
          35,
          32,
          38,
          46
         ],
         "yaxis": "y3"
        },
        {
         "alignmentgroup": "True",
         "hovertemplate": "Kategori=Jumlah Luka Ringan<br>Tahun=2022<br>Kecamatan=%{x}<br>Jumlah=%{y}<extra></extra>",
         "legendgroup": "Jumlah Luka Ringan",
         "marker": {
          "color": "#00cc96",
          "pattern": {
           "shape": ""
          }
         },
         "name": "Jumlah Luka Ringan",
         "offsetgroup": "Jumlah Luka Ringan",
         "orientation": "v",
         "showlegend": false,
         "textposition": "auto",
         "type": "bar",
         "x": [
          "Batang Onang",
          "Dolok",
          "Dolok Sigompulon",
          "Halongonan",
          "Halongonan Timur",
          "Hulu Sihapas",
          "Padang Bolak",
          "Padang Bolak Julu",
          "Padang Bolak Tenggara",
          "Portibi",
          "Simangambat",
          "Ujung Batu"
         ],
         "xaxis": "x4",
         "y": [
          42,
          27,
          11,
          39,
          43,
          24,
          12,
          25,
          42,
          26,
          22,
          25
         ],
         "yaxis": "y4"
        },
        {
         "alignmentgroup": "True",
         "hovertemplate": "Kategori=Jumlah Luka Ringan<br>Tahun=2023<br>Kecamatan=%{x}<br>Jumlah=%{y}<extra></extra>",
         "legendgroup": "Jumlah Luka Ringan",
         "marker": {
          "color": "#00cc96",
          "pattern": {
           "shape": ""
          }
         },
         "name": "Jumlah Luka Ringan",
         "offsetgroup": "Jumlah Luka Ringan",
         "orientation": "v",
         "showlegend": false,
         "textposition": "auto",
         "type": "bar",
         "x": [
          "Batang Onang",
          "Dolok",
          "Dolok Sigompulon",
          "Halongonan",
          "Halongonan Timur",
          "Hulu Sihapas",
          "Padang Bolak",
          "Padang Bolak Julu",
          "Padang Bolak Tenggara",
          "Portibi",
          "Simangambat",
          "Ujung Batu"
         ],
         "xaxis": "x5",
         "y": [
          40,
          29,
          47,
          46,
          21,
          28,
          31,
          34,
          37,
          46,
          14,
          20
         ],
         "yaxis": "y5"
        }
       ],
       "layout": {
        "annotations": [
         {
          "font": {},
          "showarrow": false,
          "text": "Tahun=2019",
          "x": 0.09200000000000001,
          "xanchor": "center",
          "xref": "paper",
          "y": 1,
          "yanchor": "bottom",
          "yref": "paper"
         },
         {
          "font": {},
          "showarrow": false,
          "text": "Tahun=2020",
          "x": 0.29600000000000004,
          "xanchor": "center",
          "xref": "paper",
          "y": 1,
          "yanchor": "bottom",
          "yref": "paper"
         },
         {
          "font": {},
          "showarrow": false,
          "text": "Tahun=2021",
          "x": 0.5,
          "xanchor": "center",
          "xref": "paper",
          "y": 1,
          "yanchor": "bottom",
          "yref": "paper"
         },
         {
          "font": {},
          "showarrow": false,
          "text": "Tahun=2022",
          "x": 0.7040000000000002,
          "xanchor": "center",
          "xref": "paper",
          "y": 1,
          "yanchor": "bottom",
          "yref": "paper"
         },
         {
          "font": {},
          "showarrow": false,
          "text": "Tahun=2023",
          "x": 0.908,
          "xanchor": "center",
          "xref": "paper",
          "y": 1,
          "yanchor": "bottom",
          "yref": "paper"
         }
        ],
        "barmode": "stack",
        "height": 600,
        "legend": {
         "title": {
          "text": "Kategori"
         },
         "tracegroupgap": 0
        },
        "template": {
         "data": {
          "bar": [
           {
            "error_x": {
             "color": "#2a3f5f"
            },
            "error_y": {
             "color": "#2a3f5f"
            },
            "marker": {
             "line": {
              "color": "#E5ECF6",
              "width": 0.5
             },
             "pattern": {
              "fillmode": "overlay",
              "size": 10,
              "solidity": 0.2
             }
            },
            "type": "bar"
           }
          ],
          "barpolar": [
           {
            "marker": {
             "line": {
              "color": "#E5ECF6",
              "width": 0.5
             },
             "pattern": {
              "fillmode": "overlay",
              "size": 10,
              "solidity": 0.2
             }
            },
            "type": "barpolar"
           }
          ],
          "carpet": [
           {
            "aaxis": {
             "endlinecolor": "#2a3f5f",
             "gridcolor": "white",
             "linecolor": "white",
             "minorgridcolor": "white",
             "startlinecolor": "#2a3f5f"
            },
            "baxis": {
             "endlinecolor": "#2a3f5f",
             "gridcolor": "white",
             "linecolor": "white",
             "minorgridcolor": "white",
             "startlinecolor": "#2a3f5f"
            },
            "type": "carpet"
           }
          ],
          "choropleth": [
           {
            "colorbar": {
             "outlinewidth": 0,
             "ticks": ""
            },
            "type": "choropleth"
           }
          ],
          "contour": [
           {
            "colorbar": {
             "outlinewidth": 0,
             "ticks": ""
            },
            "colorscale": [
             [
              0,
              "#0d0887"
             ],
             [
              0.1111111111111111,
              "#46039f"
             ],
             [
              0.2222222222222222,
              "#7201a8"
             ],
             [
              0.3333333333333333,
              "#9c179e"
             ],
             [
              0.4444444444444444,
              "#bd3786"
             ],
             [
              0.5555555555555556,
              "#d8576b"
             ],
             [
              0.6666666666666666,
              "#ed7953"
             ],
             [
              0.7777777777777778,
              "#fb9f3a"
             ],
             [
              0.8888888888888888,
              "#fdca26"
             ],
             [
              1,
              "#f0f921"
             ]
            ],
            "type": "contour"
           }
          ],
          "contourcarpet": [
           {
            "colorbar": {
             "outlinewidth": 0,
             "ticks": ""
            },
            "type": "contourcarpet"
           }
          ],
          "heatmap": [
           {
            "colorbar": {
             "outlinewidth": 0,
             "ticks": ""
            },
            "colorscale": [
             [
              0,
              "#0d0887"
             ],
             [
              0.1111111111111111,
              "#46039f"
             ],
             [
              0.2222222222222222,
              "#7201a8"
             ],
             [
              0.3333333333333333,
              "#9c179e"
             ],
             [
              0.4444444444444444,
              "#bd3786"
             ],
             [
              0.5555555555555556,
              "#d8576b"
             ],
             [
              0.6666666666666666,
              "#ed7953"
             ],
             [
              0.7777777777777778,
              "#fb9f3a"
             ],
             [
              0.8888888888888888,
              "#fdca26"
             ],
             [
              1,
              "#f0f921"
             ]
            ],
            "type": "heatmap"
           }
          ],
          "heatmapgl": [
           {
            "colorbar": {
             "outlinewidth": 0,
             "ticks": ""
            },
            "colorscale": [
             [
              0,
              "#0d0887"
             ],
             [
              0.1111111111111111,
              "#46039f"
             ],
             [
              0.2222222222222222,
              "#7201a8"
             ],
             [
              0.3333333333333333,
              "#9c179e"
             ],
             [
              0.4444444444444444,
              "#bd3786"
             ],
             [
              0.5555555555555556,
              "#d8576b"
             ],
             [
              0.6666666666666666,
              "#ed7953"
             ],
             [
              0.7777777777777778,
              "#fb9f3a"
             ],
             [
              0.8888888888888888,
              "#fdca26"
             ],
             [
              1,
              "#f0f921"
             ]
            ],
            "type": "heatmapgl"
           }
          ],
          "histogram": [
           {
            "marker": {
             "pattern": {
              "fillmode": "overlay",
              "size": 10,
              "solidity": 0.2
             }
            },
            "type": "histogram"
           }
          ],
          "histogram2d": [
           {
            "colorbar": {
             "outlinewidth": 0,
             "ticks": ""
            },
            "colorscale": [
             [
              0,
              "#0d0887"
             ],
             [
              0.1111111111111111,
              "#46039f"
             ],
             [
              0.2222222222222222,
              "#7201a8"
             ],
             [
              0.3333333333333333,
              "#9c179e"
             ],
             [
              0.4444444444444444,
              "#bd3786"
             ],
             [
              0.5555555555555556,
              "#d8576b"
             ],
             [
              0.6666666666666666,
              "#ed7953"
             ],
             [
              0.7777777777777778,
              "#fb9f3a"
             ],
             [
              0.8888888888888888,
              "#fdca26"
             ],
             [
              1,
              "#f0f921"
             ]
            ],
            "type": "histogram2d"
           }
          ],
          "histogram2dcontour": [
           {
            "colorbar": {
             "outlinewidth": 0,
             "ticks": ""
            },
            "colorscale": [
             [
              0,
              "#0d0887"
             ],
             [
              0.1111111111111111,
              "#46039f"
             ],
             [
              0.2222222222222222,
              "#7201a8"
             ],
             [
              0.3333333333333333,
              "#9c179e"
             ],
             [
              0.4444444444444444,
              "#bd3786"
             ],
             [
              0.5555555555555556,
              "#d8576b"
             ],
             [
              0.6666666666666666,
              "#ed7953"
             ],
             [
              0.7777777777777778,
              "#fb9f3a"
             ],
             [
              0.8888888888888888,
              "#fdca26"
             ],
             [
              1,
              "#f0f921"
             ]
            ],
            "type": "histogram2dcontour"
           }
          ],
          "mesh3d": [
           {
            "colorbar": {
             "outlinewidth": 0,
             "ticks": ""
            },
            "type": "mesh3d"
           }
          ],
          "parcoords": [
           {
            "line": {
             "colorbar": {
              "outlinewidth": 0,
              "ticks": ""
             }
            },
            "type": "parcoords"
           }
          ],
          "pie": [
           {
            "automargin": true,
            "type": "pie"
           }
          ],
          "scatter": [
           {
            "fillpattern": {
             "fillmode": "overlay",
             "size": 10,
             "solidity": 0.2
            },
            "type": "scatter"
           }
          ],
          "scatter3d": [
           {
            "line": {
             "colorbar": {
              "outlinewidth": 0,
              "ticks": ""
             }
            },
            "marker": {
             "colorbar": {
              "outlinewidth": 0,
              "ticks": ""
             }
            },
            "type": "scatter3d"
           }
          ],
          "scattercarpet": [
           {
            "marker": {
             "colorbar": {
              "outlinewidth": 0,
              "ticks": ""
             }
            },
            "type": "scattercarpet"
           }
          ],
          "scattergeo": [
           {
            "marker": {
             "colorbar": {
              "outlinewidth": 0,
              "ticks": ""
             }
            },
            "type": "scattergeo"
           }
          ],
          "scattergl": [
           {
            "marker": {
             "colorbar": {
              "outlinewidth": 0,
              "ticks": ""
             }
            },
            "type": "scattergl"
           }
          ],
          "scattermapbox": [
           {
            "marker": {
             "colorbar": {
              "outlinewidth": 0,
              "ticks": ""
             }
            },
            "type": "scattermapbox"
           }
          ],
          "scatterpolar": [
           {
            "marker": {
             "colorbar": {
              "outlinewidth": 0,
              "ticks": ""
             }
            },
            "type": "scatterpolar"
           }
          ],
          "scatterpolargl": [
           {
            "marker": {
             "colorbar": {
              "outlinewidth": 0,
              "ticks": ""
             }
            },
            "type": "scatterpolargl"
           }
          ],
          "scatterternary": [
           {
            "marker": {
             "colorbar": {
              "outlinewidth": 0,
              "ticks": ""
             }
            },
            "type": "scatterternary"
           }
          ],
          "surface": [
           {
            "colorbar": {
             "outlinewidth": 0,
             "ticks": ""
            },
            "colorscale": [
             [
              0,
              "#0d0887"
             ],
             [
              0.1111111111111111,
              "#46039f"
             ],
             [
              0.2222222222222222,
              "#7201a8"
             ],
             [
              0.3333333333333333,
              "#9c179e"
             ],
             [
              0.4444444444444444,
              "#bd3786"
             ],
             [
              0.5555555555555556,
              "#d8576b"
             ],
             [
              0.6666666666666666,
              "#ed7953"
             ],
             [
              0.7777777777777778,
              "#fb9f3a"
             ],
             [
              0.8888888888888888,
              "#fdca26"
             ],
             [
              1,
              "#f0f921"
             ]
            ],
            "type": "surface"
           }
          ],
          "table": [
           {
            "cells": {
             "fill": {
              "color": "#EBF0F8"
             },
             "line": {
              "color": "white"
             }
            },
            "header": {
             "fill": {
              "color": "#C8D4E3"
             },
             "line": {
              "color": "white"
             }
            },
            "type": "table"
           }
          ]
         },
         "layout": {
          "annotationdefaults": {
           "arrowcolor": "#2a3f5f",
           "arrowhead": 0,
           "arrowwidth": 1
          },
          "autotypenumbers": "strict",
          "coloraxis": {
           "colorbar": {
            "outlinewidth": 0,
            "ticks": ""
           }
          },
          "colorscale": {
           "diverging": [
            [
             0,
             "#8e0152"
            ],
            [
             0.1,
             "#c51b7d"
            ],
            [
             0.2,
             "#de77ae"
            ],
            [
             0.3,
             "#f1b6da"
            ],
            [
             0.4,
             "#fde0ef"
            ],
            [
             0.5,
             "#f7f7f7"
            ],
            [
             0.6,
             "#e6f5d0"
            ],
            [
             0.7,
             "#b8e186"
            ],
            [
             0.8,
             "#7fbc41"
            ],
            [
             0.9,
             "#4d9221"
            ],
            [
             1,
             "#276419"
            ]
           ],
           "sequential": [
            [
             0,
             "#0d0887"
            ],
            [
             0.1111111111111111,
             "#46039f"
            ],
            [
             0.2222222222222222,
             "#7201a8"
            ],
            [
             0.3333333333333333,
             "#9c179e"
            ],
            [
             0.4444444444444444,
             "#bd3786"
            ],
            [
             0.5555555555555556,
             "#d8576b"
            ],
            [
             0.6666666666666666,
             "#ed7953"
            ],
            [
             0.7777777777777778,
             "#fb9f3a"
            ],
            [
             0.8888888888888888,
             "#fdca26"
            ],
            [
             1,
             "#f0f921"
            ]
           ],
           "sequentialminus": [
            [
             0,
             "#0d0887"
            ],
            [
             0.1111111111111111,
             "#46039f"
            ],
            [
             0.2222222222222222,
             "#7201a8"
            ],
            [
             0.3333333333333333,
             "#9c179e"
            ],
            [
             0.4444444444444444,
             "#bd3786"
            ],
            [
             0.5555555555555556,
             "#d8576b"
            ],
            [
             0.6666666666666666,
             "#ed7953"
            ],
            [
             0.7777777777777778,
             "#fb9f3a"
            ],
            [
             0.8888888888888888,
             "#fdca26"
            ],
            [
             1,
             "#f0f921"
            ]
           ]
          },
          "colorway": [
           "#636efa",
           "#EF553B",
           "#00cc96",
           "#ab63fa",
           "#FFA15A",
           "#19d3f3",
           "#FF6692",
           "#B6E880",
           "#FF97FF",
           "#FECB52"
          ],
          "font": {
           "color": "#2a3f5f"
          },
          "geo": {
           "bgcolor": "white",
           "lakecolor": "white",
           "landcolor": "#E5ECF6",
           "showlakes": true,
           "showland": true,
           "subunitcolor": "white"
          },
          "hoverlabel": {
           "align": "left"
          },
          "hovermode": "closest",
          "mapbox": {
           "style": "light"
          },
          "paper_bgcolor": "white",
          "plot_bgcolor": "#E5ECF6",
          "polar": {
           "angularaxis": {
            "gridcolor": "white",
            "linecolor": "white",
            "ticks": ""
           },
           "bgcolor": "#E5ECF6",
           "radialaxis": {
            "gridcolor": "white",
            "linecolor": "white",
            "ticks": ""
           }
          },
          "scene": {
           "xaxis": {
            "backgroundcolor": "#E5ECF6",
            "gridcolor": "white",
            "gridwidth": 2,
            "linecolor": "white",
            "showbackground": true,
            "ticks": "",
            "zerolinecolor": "white"
           },
           "yaxis": {
            "backgroundcolor": "#E5ECF6",
            "gridcolor": "white",
            "gridwidth": 2,
            "linecolor": "white",
            "showbackground": true,
            "ticks": "",
            "zerolinecolor": "white"
           },
           "zaxis": {
            "backgroundcolor": "#E5ECF6",
            "gridcolor": "white",
            "gridwidth": 2,
            "linecolor": "white",
            "showbackground": true,
            "ticks": "",
            "zerolinecolor": "white"
           }
          },
          "shapedefaults": {
           "line": {
            "color": "#2a3f5f"
           }
          },
          "ternary": {
           "aaxis": {
            "gridcolor": "white",
            "linecolor": "white",
            "ticks": ""
           },
           "baxis": {
            "gridcolor": "white",
            "linecolor": "white",
            "ticks": ""
           },
           "bgcolor": "#E5ECF6",
           "caxis": {
            "gridcolor": "white",
            "linecolor": "white",
            "ticks": ""
           }
          },
          "title": {
           "x": 0.05
          },
          "xaxis": {
           "automargin": true,
           "gridcolor": "white",
           "linecolor": "white",
           "ticks": "",
           "title": {
            "standoff": 15
           },
           "zerolinecolor": "white",
           "zerolinewidth": 2
          },
          "yaxis": {
           "automargin": true,
           "gridcolor": "white",
           "linecolor": "white",
           "ticks": "",
           "title": {
            "standoff": 15
           },
           "zerolinecolor": "white",
           "zerolinewidth": 2
          }
         }
        },
        "title": {
         "text": "Jumlah Meninggal, Luka Berat, dan Luka Ringan Per Tahun Berdasarkan Kecamatan"
        },
        "xaxis": {
         "anchor": "y",
         "domain": [
          0,
          0.18400000000000002
         ],
         "tickangle": 45,
         "title": {
          "text": "Kecamatan"
         }
        },
        "xaxis2": {
         "anchor": "y2",
         "domain": [
          0.20400000000000001,
          0.388
         ],
         "matches": "x",
         "tickangle": 45,
         "title": {
          "text": "Kecamatan"
         }
        },
        "xaxis3": {
         "anchor": "y3",
         "domain": [
          0.40800000000000003,
          0.5920000000000001
         ],
         "matches": "x",
         "tickangle": 45,
         "title": {
          "text": "Kecamatan"
         }
        },
        "xaxis4": {
         "anchor": "y4",
         "domain": [
          0.6120000000000001,
          0.7960000000000002
         ],
         "matches": "x",
         "tickangle": 45,
         "title": {
          "text": "Kecamatan"
         }
        },
        "xaxis5": {
         "anchor": "y5",
         "domain": [
          0.8160000000000001,
          1
         ],
         "matches": "x",
         "tickangle": 45,
         "title": {
          "text": "Kecamatan"
         }
        },
        "yaxis": {
         "anchor": "x",
         "domain": [
          0,
          1
         ],
         "title": {
          "text": "Jumlah Kasus"
         }
        },
        "yaxis2": {
         "anchor": "x2",
         "domain": [
          0,
          1
         ],
         "matches": "y",
         "showticklabels": false
        },
        "yaxis3": {
         "anchor": "x3",
         "domain": [
          0,
          1
         ],
         "matches": "y",
         "showticklabels": false
        },
        "yaxis4": {
         "anchor": "x4",
         "domain": [
          0,
          1
         ],
         "matches": "y",
         "showticklabels": false
        },
        "yaxis5": {
         "anchor": "x5",
         "domain": [
          0,
          1
         ],
         "matches": "y",
         "showticklabels": false
        }
       }
      }
     },
     "metadata": {},
     "output_type": "display_data"
    }
   ],
   "source": [
    "import pandas as pd\n",
    "from IPython.display import display\n",
    "\n",
    "# Memuat data dari file Excel\n",
    "file_path = 'Data_Kecelakaan_Padang_Lawas_Utara.xlsx'\n",
    "df = pd.read_excel(file_path)\n",
    "\n",
    "# Mengelompokkan data berdasarkan kecamatan dan tahun, menghitung total masing-masing kategori\n",
    "summary_by_category = df.groupby(['Kecamatan', 'Tahun']).agg({\n",
    "    'Jumlah Kecelakaan': 'sum',\n",
    "    'Jumlah Meninggal': 'sum',\n",
    "    'Jumlah Luka Berat': 'sum',\n",
    "    'Jumlah Luka Ringan': 'sum'\n",
    "}).reset_index()\n",
    "\n",
    "# Menampilkan tabel agregasi\n",
    "display(summary_by_category)\n",
    "\n",
    "# Membuat data dalam format long untuk visualisasi stacked bar chart\n",
    "summary_melted = summary_by_category.melt(id_vars=['Kecamatan', 'Tahun'], \n",
    "                                          value_vars=['Jumlah Meninggal', 'Jumlah Luka Berat', 'Jumlah Luka Ringan'],\n",
    "                                          var_name='Kategori', value_name='Jumlah')\n",
    "\n",
    "# Visualisasi dengan Plotly\n",
    "import plotly.express as px\n",
    "fig = px.bar(summary_melted, x='Kecamatan', y='Jumlah', color='Kategori', barmode='stack',\n",
    "             facet_col='Tahun', height=600, title='Jumlah Meninggal, Luka Berat, dan Luka Ringan Per Tahun Berdasarkan Kecamatan')\n",
    "fig.update_layout(xaxis_title='Kecamatan', yaxis_title='Jumlah Kasus', legend_title='Kategori')\n",
    "fig.update_xaxes(tickangle=45)\n",
    "\n",
    "# Menampilkan grafik\n",
    "fig.show()\n"
   ]
  },
  {
   "cell_type": "code",
   "execution_count": 23,
   "metadata": {},
   "outputs": [
    {
     "data": {
      "application/vnd.plotly.v1+json": {
       "config": {
        "plotlyServerURL": "https://plot.ly"
       },
       "data": [
        {
         "hovertemplate": "Kecamatan=Batang Onang<br>Tahun=%{x}<br>Total Kecelakaan=%{y}<extra></extra>",
         "legendgroup": "Batang Onang",
         "line": {
          "color": "#636efa",
          "dash": "solid"
         },
         "marker": {
          "symbol": "circle"
         },
         "mode": "lines",
         "name": "Batang Onang",
         "orientation": "v",
         "showlegend": true,
         "type": "scatter",
         "x": [
          2019,
          2020,
          2021,
          2022,
          2023
         ],
         "xaxis": "x",
         "y": [
          93,
          196,
          82,
          199,
          183
         ],
         "yaxis": "y"
        },
        {
         "hovertemplate": "Kecamatan=Dolok<br>Tahun=%{x}<br>Total Kecelakaan=%{y}<extra></extra>",
         "legendgroup": "Dolok",
         "line": {
          "color": "#EF553B",
          "dash": "solid"
         },
         "marker": {
          "symbol": "circle"
         },
         "mode": "lines",
         "name": "Dolok",
         "orientation": "v",
         "showlegend": true,
         "type": "scatter",
         "x": [
          2019,
          2020,
          2021,
          2022,
          2023
         ],
         "xaxis": "x",
         "y": [
          103,
          103,
          104,
          78,
          199
         ],
         "yaxis": "y"
        },
        {
         "hovertemplate": "Kecamatan=Dolok Sigompulon<br>Tahun=%{x}<br>Total Kecelakaan=%{y}<extra></extra>",
         "legendgroup": "Dolok Sigompulon",
         "line": {
          "color": "#00cc96",
          "dash": "solid"
         },
         "marker": {
          "symbol": "circle"
         },
         "mode": "lines",
         "name": "Dolok Sigompulon",
         "orientation": "v",
         "showlegend": true,
         "type": "scatter",
         "x": [
          2019,
          2020,
          2021,
          2022,
          2023
         ],
         "xaxis": "x",
         "y": [
          56,
          140,
          76,
          177,
          71
         ],
         "yaxis": "y"
        },
        {
         "hovertemplate": "Kecamatan=Halongonan<br>Tahun=%{x}<br>Total Kecelakaan=%{y}<extra></extra>",
         "legendgroup": "Halongonan",
         "line": {
          "color": "#ab63fa",
          "dash": "solid"
         },
         "marker": {
          "symbol": "circle"
         },
         "mode": "lines",
         "name": "Halongonan",
         "orientation": "v",
         "showlegend": true,
         "type": "scatter",
         "x": [
          2019,
          2020,
          2021,
          2022,
          2023
         ],
         "xaxis": "x",
         "y": [
          91,
          91,
          117,
          117,
          151
         ],
         "yaxis": "y"
        },
        {
         "hovertemplate": "Kecamatan=Halongonan Timur<br>Tahun=%{x}<br>Total Kecelakaan=%{y}<extra></extra>",
         "legendgroup": "Halongonan Timur",
         "line": {
          "color": "#FFA15A",
          "dash": "solid"
         },
         "marker": {
          "symbol": "circle"
         },
         "mode": "lines",
         "name": "Halongonan Timur",
         "orientation": "v",
         "showlegend": true,
         "type": "scatter",
         "x": [
          2019,
          2020,
          2021,
          2022,
          2023
         ],
         "xaxis": "x",
         "y": [
          127,
          124,
          152,
          127,
          62
         ],
         "yaxis": "y"
        },
        {
         "hovertemplate": "Kecamatan=Hulu Sihapas<br>Tahun=%{x}<br>Total Kecelakaan=%{y}<extra></extra>",
         "legendgroup": "Hulu Sihapas",
         "line": {
          "color": "#19d3f3",
          "dash": "solid"
         },
         "marker": {
          "symbol": "circle"
         },
         "mode": "lines",
         "name": "Hulu Sihapas",
         "orientation": "v",
         "showlegend": true,
         "type": "scatter",
         "x": [
          2019,
          2020,
          2021,
          2022,
          2023
         ],
         "xaxis": "x",
         "y": [
          165,
          90,
          150,
          109,
          74
         ],
         "yaxis": "y"
        },
        {
         "hovertemplate": "Kecamatan=Padang Bolak<br>Tahun=%{x}<br>Total Kecelakaan=%{y}<extra></extra>",
         "legendgroup": "Padang Bolak",
         "line": {
          "color": "#FF6692",
          "dash": "solid"
         },
         "marker": {
          "symbol": "circle"
         },
         "mode": "lines",
         "name": "Padang Bolak",
         "orientation": "v",
         "showlegend": true,
         "type": "scatter",
         "x": [
          2019,
          2020,
          2021,
          2022,
          2023
         ],
         "xaxis": "x",
         "y": [
          169,
          90,
          63,
          131,
          60
         ],
         "yaxis": "y"
        },
        {
         "hovertemplate": "Kecamatan=Padang Bolak Julu<br>Tahun=%{x}<br>Total Kecelakaan=%{y}<extra></extra>",
         "legendgroup": "Padang Bolak Julu",
         "line": {
          "color": "#B6E880",
          "dash": "solid"
         },
         "marker": {
          "symbol": "circle"
         },
         "mode": "lines",
         "name": "Padang Bolak Julu",
         "orientation": "v",
         "showlegend": true,
         "type": "scatter",
         "x": [
          2019,
          2020,
          2021,
          2022,
          2023
         ],
         "xaxis": "x",
         "y": [
          92,
          155,
          78,
          100,
          197
         ],
         "yaxis": "y"
        },
        {
         "hovertemplate": "Kecamatan=Padang Bolak Tenggara<br>Tahun=%{x}<br>Total Kecelakaan=%{y}<extra></extra>",
         "legendgroup": "Padang Bolak Tenggara",
         "line": {
          "color": "#FF97FF",
          "dash": "solid"
         },
         "marker": {
          "symbol": "circle"
         },
         "mode": "lines",
         "name": "Padang Bolak Tenggara",
         "orientation": "v",
         "showlegend": true,
         "type": "scatter",
         "x": [
          2019,
          2020,
          2021,
          2022,
          2023
         ],
         "xaxis": "x",
         "y": [
          124,
          77,
          136,
          78,
          161
         ],
         "yaxis": "y"
        },
        {
         "hovertemplate": "Kecamatan=Portibi<br>Tahun=%{x}<br>Total Kecelakaan=%{y}<extra></extra>",
         "legendgroup": "Portibi",
         "line": {
          "color": "#FECB52",
          "dash": "solid"
         },
         "marker": {
          "symbol": "circle"
         },
         "mode": "lines",
         "name": "Portibi",
         "orientation": "v",
         "showlegend": true,
         "type": "scatter",
         "x": [
          2019,
          2020,
          2021,
          2022,
          2023
         ],
         "xaxis": "x",
         "y": [
          153,
          182,
          137,
          69,
          99
         ],
         "yaxis": "y"
        },
        {
         "hovertemplate": "Kecamatan=Simangambat<br>Tahun=%{x}<br>Total Kecelakaan=%{y}<extra></extra>",
         "legendgroup": "Simangambat",
         "line": {
          "color": "#636efa",
          "dash": "solid"
         },
         "marker": {
          "symbol": "circle"
         },
         "mode": "lines",
         "name": "Simangambat",
         "orientation": "v",
         "showlegend": true,
         "type": "scatter",
         "x": [
          2019,
          2020,
          2021,
          2022,
          2023
         ],
         "xaxis": "x",
         "y": [
          55,
          80,
          55,
          176,
          169
         ],
         "yaxis": "y"
        },
        {
         "hovertemplate": "Kecamatan=Ujung Batu<br>Tahun=%{x}<br>Total Kecelakaan=%{y}<extra></extra>",
         "legendgroup": "Ujung Batu",
         "line": {
          "color": "#EF553B",
          "dash": "solid"
         },
         "marker": {
          "symbol": "circle"
         },
         "mode": "lines",
         "name": "Ujung Batu",
         "orientation": "v",
         "showlegend": true,
         "type": "scatter",
         "x": [
          2019,
          2020,
          2021,
          2022,
          2023
         ],
         "xaxis": "x",
         "y": [
          70,
          182,
          76,
          90,
          102
         ],
         "yaxis": "y"
        }
       ],
       "layout": {
        "legend": {
         "title": {
          "text": "Kecamatan"
         },
         "tracegroupgap": 0
        },
        "template": {
         "data": {
          "bar": [
           {
            "error_x": {
             "color": "#2a3f5f"
            },
            "error_y": {
             "color": "#2a3f5f"
            },
            "marker": {
             "line": {
              "color": "#E5ECF6",
              "width": 0.5
             },
             "pattern": {
              "fillmode": "overlay",
              "size": 10,
              "solidity": 0.2
             }
            },
            "type": "bar"
           }
          ],
          "barpolar": [
           {
            "marker": {
             "line": {
              "color": "#E5ECF6",
              "width": 0.5
             },
             "pattern": {
              "fillmode": "overlay",
              "size": 10,
              "solidity": 0.2
             }
            },
            "type": "barpolar"
           }
          ],
          "carpet": [
           {
            "aaxis": {
             "endlinecolor": "#2a3f5f",
             "gridcolor": "white",
             "linecolor": "white",
             "minorgridcolor": "white",
             "startlinecolor": "#2a3f5f"
            },
            "baxis": {
             "endlinecolor": "#2a3f5f",
             "gridcolor": "white",
             "linecolor": "white",
             "minorgridcolor": "white",
             "startlinecolor": "#2a3f5f"
            },
            "type": "carpet"
           }
          ],
          "choropleth": [
           {
            "colorbar": {
             "outlinewidth": 0,
             "ticks": ""
            },
            "type": "choropleth"
           }
          ],
          "contour": [
           {
            "colorbar": {
             "outlinewidth": 0,
             "ticks": ""
            },
            "colorscale": [
             [
              0,
              "#0d0887"
             ],
             [
              0.1111111111111111,
              "#46039f"
             ],
             [
              0.2222222222222222,
              "#7201a8"
             ],
             [
              0.3333333333333333,
              "#9c179e"
             ],
             [
              0.4444444444444444,
              "#bd3786"
             ],
             [
              0.5555555555555556,
              "#d8576b"
             ],
             [
              0.6666666666666666,
              "#ed7953"
             ],
             [
              0.7777777777777778,
              "#fb9f3a"
             ],
             [
              0.8888888888888888,
              "#fdca26"
             ],
             [
              1,
              "#f0f921"
             ]
            ],
            "type": "contour"
           }
          ],
          "contourcarpet": [
           {
            "colorbar": {
             "outlinewidth": 0,
             "ticks": ""
            },
            "type": "contourcarpet"
           }
          ],
          "heatmap": [
           {
            "colorbar": {
             "outlinewidth": 0,
             "ticks": ""
            },
            "colorscale": [
             [
              0,
              "#0d0887"
             ],
             [
              0.1111111111111111,
              "#46039f"
             ],
             [
              0.2222222222222222,
              "#7201a8"
             ],
             [
              0.3333333333333333,
              "#9c179e"
             ],
             [
              0.4444444444444444,
              "#bd3786"
             ],
             [
              0.5555555555555556,
              "#d8576b"
             ],
             [
              0.6666666666666666,
              "#ed7953"
             ],
             [
              0.7777777777777778,
              "#fb9f3a"
             ],
             [
              0.8888888888888888,
              "#fdca26"
             ],
             [
              1,
              "#f0f921"
             ]
            ],
            "type": "heatmap"
           }
          ],
          "heatmapgl": [
           {
            "colorbar": {
             "outlinewidth": 0,
             "ticks": ""
            },
            "colorscale": [
             [
              0,
              "#0d0887"
             ],
             [
              0.1111111111111111,
              "#46039f"
             ],
             [
              0.2222222222222222,
              "#7201a8"
             ],
             [
              0.3333333333333333,
              "#9c179e"
             ],
             [
              0.4444444444444444,
              "#bd3786"
             ],
             [
              0.5555555555555556,
              "#d8576b"
             ],
             [
              0.6666666666666666,
              "#ed7953"
             ],
             [
              0.7777777777777778,
              "#fb9f3a"
             ],
             [
              0.8888888888888888,
              "#fdca26"
             ],
             [
              1,
              "#f0f921"
             ]
            ],
            "type": "heatmapgl"
           }
          ],
          "histogram": [
           {
            "marker": {
             "pattern": {
              "fillmode": "overlay",
              "size": 10,
              "solidity": 0.2
             }
            },
            "type": "histogram"
           }
          ],
          "histogram2d": [
           {
            "colorbar": {
             "outlinewidth": 0,
             "ticks": ""
            },
            "colorscale": [
             [
              0,
              "#0d0887"
             ],
             [
              0.1111111111111111,
              "#46039f"
             ],
             [
              0.2222222222222222,
              "#7201a8"
             ],
             [
              0.3333333333333333,
              "#9c179e"
             ],
             [
              0.4444444444444444,
              "#bd3786"
             ],
             [
              0.5555555555555556,
              "#d8576b"
             ],
             [
              0.6666666666666666,
              "#ed7953"
             ],
             [
              0.7777777777777778,
              "#fb9f3a"
             ],
             [
              0.8888888888888888,
              "#fdca26"
             ],
             [
              1,
              "#f0f921"
             ]
            ],
            "type": "histogram2d"
           }
          ],
          "histogram2dcontour": [
           {
            "colorbar": {
             "outlinewidth": 0,
             "ticks": ""
            },
            "colorscale": [
             [
              0,
              "#0d0887"
             ],
             [
              0.1111111111111111,
              "#46039f"
             ],
             [
              0.2222222222222222,
              "#7201a8"
             ],
             [
              0.3333333333333333,
              "#9c179e"
             ],
             [
              0.4444444444444444,
              "#bd3786"
             ],
             [
              0.5555555555555556,
              "#d8576b"
             ],
             [
              0.6666666666666666,
              "#ed7953"
             ],
             [
              0.7777777777777778,
              "#fb9f3a"
             ],
             [
              0.8888888888888888,
              "#fdca26"
             ],
             [
              1,
              "#f0f921"
             ]
            ],
            "type": "histogram2dcontour"
           }
          ],
          "mesh3d": [
           {
            "colorbar": {
             "outlinewidth": 0,
             "ticks": ""
            },
            "type": "mesh3d"
           }
          ],
          "parcoords": [
           {
            "line": {
             "colorbar": {
              "outlinewidth": 0,
              "ticks": ""
             }
            },
            "type": "parcoords"
           }
          ],
          "pie": [
           {
            "automargin": true,
            "type": "pie"
           }
          ],
          "scatter": [
           {
            "fillpattern": {
             "fillmode": "overlay",
             "size": 10,
             "solidity": 0.2
            },
            "type": "scatter"
           }
          ],
          "scatter3d": [
           {
            "line": {
             "colorbar": {
              "outlinewidth": 0,
              "ticks": ""
             }
            },
            "marker": {
             "colorbar": {
              "outlinewidth": 0,
              "ticks": ""
             }
            },
            "type": "scatter3d"
           }
          ],
          "scattercarpet": [
           {
            "marker": {
             "colorbar": {
              "outlinewidth": 0,
              "ticks": ""
             }
            },
            "type": "scattercarpet"
           }
          ],
          "scattergeo": [
           {
            "marker": {
             "colorbar": {
              "outlinewidth": 0,
              "ticks": ""
             }
            },
            "type": "scattergeo"
           }
          ],
          "scattergl": [
           {
            "marker": {
             "colorbar": {
              "outlinewidth": 0,
              "ticks": ""
             }
            },
            "type": "scattergl"
           }
          ],
          "scattermapbox": [
           {
            "marker": {
             "colorbar": {
              "outlinewidth": 0,
              "ticks": ""
             }
            },
            "type": "scattermapbox"
           }
          ],
          "scatterpolar": [
           {
            "marker": {
             "colorbar": {
              "outlinewidth": 0,
              "ticks": ""
             }
            },
            "type": "scatterpolar"
           }
          ],
          "scatterpolargl": [
           {
            "marker": {
             "colorbar": {
              "outlinewidth": 0,
              "ticks": ""
             }
            },
            "type": "scatterpolargl"
           }
          ],
          "scatterternary": [
           {
            "marker": {
             "colorbar": {
              "outlinewidth": 0,
              "ticks": ""
             }
            },
            "type": "scatterternary"
           }
          ],
          "surface": [
           {
            "colorbar": {
             "outlinewidth": 0,
             "ticks": ""
            },
            "colorscale": [
             [
              0,
              "#0d0887"
             ],
             [
              0.1111111111111111,
              "#46039f"
             ],
             [
              0.2222222222222222,
              "#7201a8"
             ],
             [
              0.3333333333333333,
              "#9c179e"
             ],
             [
              0.4444444444444444,
              "#bd3786"
             ],
             [
              0.5555555555555556,
              "#d8576b"
             ],
             [
              0.6666666666666666,
              "#ed7953"
             ],
             [
              0.7777777777777778,
              "#fb9f3a"
             ],
             [
              0.8888888888888888,
              "#fdca26"
             ],
             [
              1,
              "#f0f921"
             ]
            ],
            "type": "surface"
           }
          ],
          "table": [
           {
            "cells": {
             "fill": {
              "color": "#EBF0F8"
             },
             "line": {
              "color": "white"
             }
            },
            "header": {
             "fill": {
              "color": "#C8D4E3"
             },
             "line": {
              "color": "white"
             }
            },
            "type": "table"
           }
          ]
         },
         "layout": {
          "annotationdefaults": {
           "arrowcolor": "#2a3f5f",
           "arrowhead": 0,
           "arrowwidth": 1
          },
          "autotypenumbers": "strict",
          "coloraxis": {
           "colorbar": {
            "outlinewidth": 0,
            "ticks": ""
           }
          },
          "colorscale": {
           "diverging": [
            [
             0,
             "#8e0152"
            ],
            [
             0.1,
             "#c51b7d"
            ],
            [
             0.2,
             "#de77ae"
            ],
            [
             0.3,
             "#f1b6da"
            ],
            [
             0.4,
             "#fde0ef"
            ],
            [
             0.5,
             "#f7f7f7"
            ],
            [
             0.6,
             "#e6f5d0"
            ],
            [
             0.7,
             "#b8e186"
            ],
            [
             0.8,
             "#7fbc41"
            ],
            [
             0.9,
             "#4d9221"
            ],
            [
             1,
             "#276419"
            ]
           ],
           "sequential": [
            [
             0,
             "#0d0887"
            ],
            [
             0.1111111111111111,
             "#46039f"
            ],
            [
             0.2222222222222222,
             "#7201a8"
            ],
            [
             0.3333333333333333,
             "#9c179e"
            ],
            [
             0.4444444444444444,
             "#bd3786"
            ],
            [
             0.5555555555555556,
             "#d8576b"
            ],
            [
             0.6666666666666666,
             "#ed7953"
            ],
            [
             0.7777777777777778,
             "#fb9f3a"
            ],
            [
             0.8888888888888888,
             "#fdca26"
            ],
            [
             1,
             "#f0f921"
            ]
           ],
           "sequentialminus": [
            [
             0,
             "#0d0887"
            ],
            [
             0.1111111111111111,
             "#46039f"
            ],
            [
             0.2222222222222222,
             "#7201a8"
            ],
            [
             0.3333333333333333,
             "#9c179e"
            ],
            [
             0.4444444444444444,
             "#bd3786"
            ],
            [
             0.5555555555555556,
             "#d8576b"
            ],
            [
             0.6666666666666666,
             "#ed7953"
            ],
            [
             0.7777777777777778,
             "#fb9f3a"
            ],
            [
             0.8888888888888888,
             "#fdca26"
            ],
            [
             1,
             "#f0f921"
            ]
           ]
          },
          "colorway": [
           "#636efa",
           "#EF553B",
           "#00cc96",
           "#ab63fa",
           "#FFA15A",
           "#19d3f3",
           "#FF6692",
           "#B6E880",
           "#FF97FF",
           "#FECB52"
          ],
          "font": {
           "color": "#2a3f5f"
          },
          "geo": {
           "bgcolor": "white",
           "lakecolor": "white",
           "landcolor": "#E5ECF6",
           "showlakes": true,
           "showland": true,
           "subunitcolor": "white"
          },
          "hoverlabel": {
           "align": "left"
          },
          "hovermode": "closest",
          "mapbox": {
           "style": "light"
          },
          "paper_bgcolor": "white",
          "plot_bgcolor": "#E5ECF6",
          "polar": {
           "angularaxis": {
            "gridcolor": "white",
            "linecolor": "white",
            "ticks": ""
           },
           "bgcolor": "#E5ECF6",
           "radialaxis": {
            "gridcolor": "white",
            "linecolor": "white",
            "ticks": ""
           }
          },
          "scene": {
           "xaxis": {
            "backgroundcolor": "#E5ECF6",
            "gridcolor": "white",
            "gridwidth": 2,
            "linecolor": "white",
            "showbackground": true,
            "ticks": "",
            "zerolinecolor": "white"
           },
           "yaxis": {
            "backgroundcolor": "#E5ECF6",
            "gridcolor": "white",
            "gridwidth": 2,
            "linecolor": "white",
            "showbackground": true,
            "ticks": "",
            "zerolinecolor": "white"
           },
           "zaxis": {
            "backgroundcolor": "#E5ECF6",
            "gridcolor": "white",
            "gridwidth": 2,
            "linecolor": "white",
            "showbackground": true,
            "ticks": "",
            "zerolinecolor": "white"
           }
          },
          "shapedefaults": {
           "line": {
            "color": "#2a3f5f"
           }
          },
          "ternary": {
           "aaxis": {
            "gridcolor": "white",
            "linecolor": "white",
            "ticks": ""
           },
           "baxis": {
            "gridcolor": "white",
            "linecolor": "white",
            "ticks": ""
           },
           "bgcolor": "#E5ECF6",
           "caxis": {
            "gridcolor": "white",
            "linecolor": "white",
            "ticks": ""
           }
          },
          "title": {
           "x": 0.05
          },
          "xaxis": {
           "automargin": true,
           "gridcolor": "white",
           "linecolor": "white",
           "ticks": "",
           "title": {
            "standoff": 15
           },
           "zerolinecolor": "white",
           "zerolinewidth": 2
          },
          "yaxis": {
           "automargin": true,
           "gridcolor": "white",
           "linecolor": "white",
           "ticks": "",
           "title": {
            "standoff": 15
           },
           "zerolinecolor": "white",
           "zerolinewidth": 2
          }
         }
        },
        "title": {
         "text": "Perkembangan Total Kecelakaan Per Tahun Berdasarkan Kecamatan"
        },
        "xaxis": {
         "anchor": "y",
         "domain": [
          0,
          1
         ],
         "title": {
          "text": "Tahun"
         }
        },
        "yaxis": {
         "anchor": "x",
         "domain": [
          0,
          1
         ],
         "title": {
          "text": "Total Kecelakaan"
         }
        }
       }
      }
     },
     "metadata": {},
     "output_type": "display_data"
    }
   ],
   "source": [
    "# Mengelompokkan data berdasarkan kecamatan, tahun, dan menghitung total kecelakaan\n",
    "total_accidents_by_year_kecamatan = df.groupby(['Tahun', 'Kecamatan']).agg({\n",
    "    'Jumlah Kecelakaan': 'sum'\n",
    "}).reset_index()\n",
    "\n",
    "# Plot perkembangan total kecelakaan per tahun berdasarkan kecamatan dalam satu grafik line chart\n",
    "fig = px.line(total_accidents_by_year_kecamatan, x='Tahun', y='Jumlah Kecelakaan', color='Kecamatan',\n",
    "              title='Perkembangan Total Kecelakaan Per Tahun Berdasarkan Kecamatan',\n",
    "              labels={'Jumlah Kecelakaan': 'Total Kecelakaan'})\n",
    "fig.update_layout(xaxis_title='Tahun', yaxis_title='Total Kecelakaan', legend_title='Kecamatan')\n",
    "fig.show()"
   ]
  },
  {
   "cell_type": "code",
   "execution_count": 24,
   "metadata": {},
   "outputs": [
    {
     "name": "stderr",
     "output_type": "stream",
     "text": [
      "c:\\Users\\User\\anaconda3\\Lib\\site-packages\\sklearn\\cluster\\_kmeans.py:1436: UserWarning:\n",
      "\n",
      "KMeans is known to have a memory leak on Windows with MKL, when there are less chunks than available threads. You can avoid it by setting the environment variable OMP_NUM_THREADS=1.\n",
      "\n",
      "c:\\Users\\User\\anaconda3\\Lib\\site-packages\\sklearn\\cluster\\_kmeans.py:1436: UserWarning:\n",
      "\n",
      "KMeans is known to have a memory leak on Windows with MKL, when there are less chunks than available threads. You can avoid it by setting the environment variable OMP_NUM_THREADS=1.\n",
      "\n",
      "c:\\Users\\User\\anaconda3\\Lib\\site-packages\\sklearn\\cluster\\_kmeans.py:1436: UserWarning:\n",
      "\n",
      "KMeans is known to have a memory leak on Windows with MKL, when there are less chunks than available threads. You can avoid it by setting the environment variable OMP_NUM_THREADS=1.\n",
      "\n",
      "c:\\Users\\User\\anaconda3\\Lib\\site-packages\\sklearn\\cluster\\_kmeans.py:1436: UserWarning:\n",
      "\n",
      "KMeans is known to have a memory leak on Windows with MKL, when there are less chunks than available threads. You can avoid it by setting the environment variable OMP_NUM_THREADS=1.\n",
      "\n",
      "c:\\Users\\User\\anaconda3\\Lib\\site-packages\\sklearn\\cluster\\_kmeans.py:1436: UserWarning:\n",
      "\n",
      "KMeans is known to have a memory leak on Windows with MKL, when there are less chunks than available threads. You can avoid it by setting the environment variable OMP_NUM_THREADS=1.\n",
      "\n",
      "c:\\Users\\User\\anaconda3\\Lib\\site-packages\\sklearn\\cluster\\_kmeans.py:1436: UserWarning:\n",
      "\n",
      "KMeans is known to have a memory leak on Windows with MKL, when there are less chunks than available threads. You can avoid it by setting the environment variable OMP_NUM_THREADS=1.\n",
      "\n",
      "c:\\Users\\User\\anaconda3\\Lib\\site-packages\\sklearn\\cluster\\_kmeans.py:1436: UserWarning:\n",
      "\n",
      "KMeans is known to have a memory leak on Windows with MKL, when there are less chunks than available threads. You can avoid it by setting the environment variable OMP_NUM_THREADS=1.\n",
      "\n",
      "c:\\Users\\User\\anaconda3\\Lib\\site-packages\\sklearn\\cluster\\_kmeans.py:1436: UserWarning:\n",
      "\n",
      "KMeans is known to have a memory leak on Windows with MKL, when there are less chunks than available threads. You can avoid it by setting the environment variable OMP_NUM_THREADS=1.\n",
      "\n",
      "c:\\Users\\User\\anaconda3\\Lib\\site-packages\\sklearn\\cluster\\_kmeans.py:1436: UserWarning:\n",
      "\n",
      "KMeans is known to have a memory leak on Windows with MKL, when there are less chunks than available threads. You can avoid it by setting the environment variable OMP_NUM_THREADS=1.\n",
      "\n"
     ]
    },
    {
     "name": "stdout",
     "output_type": "stream",
     "text": [
      "Jumlah klaster optimal: 6\n"
     ]
    },
    {
     "name": "stderr",
     "output_type": "stream",
     "text": [
      "c:\\Users\\User\\anaconda3\\Lib\\site-packages\\sklearn\\cluster\\_kmeans.py:1436: UserWarning:\n",
      "\n",
      "KMeans is known to have a memory leak on Windows with MKL, when there are less chunks than available threads. You can avoid it by setting the environment variable OMP_NUM_THREADS=1.\n",
      "\n"
     ]
    },
    {
     "name": "stdout",
     "output_type": "stream",
     "text": [
      "Jumlah Kecelakaan: 0.6949\n",
      "Jumlah Meninggal: 0.8743\n",
      "Jumlah Luka Berat: 0.8101\n",
      "Jumlah Luka Ringan: 0.7958\n"
     ]
    },
    {
     "name": "stderr",
     "output_type": "stream",
     "text": [
      "C:\\Users\\User\\AppData\\Local\\Temp\\ipykernel_2092\\3736326453.py:108: UserWarning:\n",
      "\n",
      "color argument of Icon should be one of: {'black', 'blue', 'white', 'pink', 'darkblue', 'purple', 'darkred', 'orange', 'green', 'lightred', 'cadetblue', 'lightgray', 'lightgreen', 'beige', 'gray', 'darkgreen', 'red', 'lightblue', 'darkpurple'}.\n",
      "\n"
     ]
    },
    {
     "data": {
      "text/html": [
       "<div style=\"width:100%;\"><div style=\"position:relative;width:100%;height:0;padding-bottom:60%;\"><span style=\"color:#565656\">Make this Notebook Trusted to load map: File -> Trust Notebook</span><iframe srcdoc=\"&lt;!DOCTYPE html&gt;\n",
       "&lt;html&gt;\n",
       "&lt;head&gt;\n",
       "    \n",
       "    &lt;meta http-equiv=&quot;content-type&quot; content=&quot;text/html; charset=UTF-8&quot; /&gt;\n",
       "    \n",
       "        &lt;script&gt;\n",
       "            L_NO_TOUCH = false;\n",
       "            L_DISABLE_3D = false;\n",
       "        &lt;/script&gt;\n",
       "    \n",
       "    &lt;style&gt;html, body {width: 100%;height: 100%;margin: 0;padding: 0;}&lt;/style&gt;\n",
       "    &lt;style&gt;#map {position:absolute;top:0;bottom:0;right:0;left:0;}&lt;/style&gt;\n",
       "    &lt;script src=&quot;https://cdn.jsdelivr.net/npm/leaflet@1.9.3/dist/leaflet.js&quot;&gt;&lt;/script&gt;\n",
       "    &lt;script src=&quot;https://code.jquery.com/jquery-3.7.1.min.js&quot;&gt;&lt;/script&gt;\n",
       "    &lt;script src=&quot;https://cdn.jsdelivr.net/npm/bootstrap@5.2.2/dist/js/bootstrap.bundle.min.js&quot;&gt;&lt;/script&gt;\n",
       "    &lt;script src=&quot;https://cdnjs.cloudflare.com/ajax/libs/Leaflet.awesome-markers/2.0.2/leaflet.awesome-markers.js&quot;&gt;&lt;/script&gt;\n",
       "    &lt;link rel=&quot;stylesheet&quot; href=&quot;https://cdn.jsdelivr.net/npm/leaflet@1.9.3/dist/leaflet.css&quot;/&gt;\n",
       "    &lt;link rel=&quot;stylesheet&quot; href=&quot;https://cdn.jsdelivr.net/npm/bootstrap@5.2.2/dist/css/bootstrap.min.css&quot;/&gt;\n",
       "    &lt;link rel=&quot;stylesheet&quot; href=&quot;https://netdna.bootstrapcdn.com/bootstrap/3.0.0/css/bootstrap.min.css&quot;/&gt;\n",
       "    &lt;link rel=&quot;stylesheet&quot; href=&quot;https://cdn.jsdelivr.net/npm/@fortawesome/fontawesome-free@6.2.0/css/all.min.css&quot;/&gt;\n",
       "    &lt;link rel=&quot;stylesheet&quot; href=&quot;https://cdnjs.cloudflare.com/ajax/libs/Leaflet.awesome-markers/2.0.2/leaflet.awesome-markers.css&quot;/&gt;\n",
       "    &lt;link rel=&quot;stylesheet&quot; href=&quot;https://cdn.jsdelivr.net/gh/python-visualization/folium/folium/templates/leaflet.awesome.rotate.min.css&quot;/&gt;\n",
       "    \n",
       "            &lt;meta name=&quot;viewport&quot; content=&quot;width=device-width,\n",
       "                initial-scale=1.0, maximum-scale=1.0, user-scalable=no&quot; /&gt;\n",
       "            &lt;style&gt;\n",
       "                #map_fb702b161cb89fde521fecbfd4eb5731 {\n",
       "                    position: relative;\n",
       "                    width: 100.0%;\n",
       "                    height: 100.0%;\n",
       "                    left: 0.0%;\n",
       "                    top: 0.0%;\n",
       "                }\n",
       "                .leaflet-container { font-size: 1rem; }\n",
       "            &lt;/style&gt;\n",
       "        \n",
       "&lt;/head&gt;\n",
       "&lt;body&gt;\n",
       "    \n",
       "    \n",
       "            &lt;div class=&quot;folium-map&quot; id=&quot;map_fb702b161cb89fde521fecbfd4eb5731&quot; &gt;&lt;/div&gt;\n",
       "        \n",
       "&lt;/body&gt;\n",
       "&lt;script&gt;\n",
       "    \n",
       "    \n",
       "            var map_fb702b161cb89fde521fecbfd4eb5731 = L.map(\n",
       "                &quot;map_fb702b161cb89fde521fecbfd4eb5731&quot;,\n",
       "                {\n",
       "                    center: [1.4099, 99.7092],\n",
       "                    crs: L.CRS.EPSG3857,\n",
       "                    zoom: 10,\n",
       "                    zoomControl: true,\n",
       "                    preferCanvas: false,\n",
       "                }\n",
       "            );\n",
       "\n",
       "            \n",
       "\n",
       "        \n",
       "    \n",
       "            var tile_layer_5bd80057a9db4359216019207d287b75 = L.tileLayer(\n",
       "                &quot;https://tile.openstreetmap.org/{z}/{x}/{y}.png&quot;,\n",
       "                {&quot;attribution&quot;: &quot;\\u0026copy; \\u003ca href=\\&quot;https://www.openstreetmap.org/copyright\\&quot;\\u003eOpenStreetMap\\u003c/a\\u003e contributors&quot;, &quot;detectRetina&quot;: false, &quot;maxNativeZoom&quot;: 19, &quot;maxZoom&quot;: 19, &quot;minZoom&quot;: 0, &quot;noWrap&quot;: false, &quot;opacity&quot;: 1, &quot;subdomains&quot;: &quot;abc&quot;, &quot;tms&quot;: false}\n",
       "            );\n",
       "        \n",
       "    \n",
       "            tile_layer_5bd80057a9db4359216019207d287b75.addTo(map_fb702b161cb89fde521fecbfd4eb5731);\n",
       "        \n",
       "    \n",
       "            var marker_10b6836dfea07e769f89b48722c267ce = L.marker(\n",
       "                [1.3166932, 99.4458336],\n",
       "                {}\n",
       "            ).addTo(map_fb702b161cb89fde521fecbfd4eb5731);\n",
       "        \n",
       "    \n",
       "            var icon_060bd406b7add56ee88f115118986b88 = L.AwesomeMarkers.icon(\n",
       "                {&quot;extraClasses&quot;: &quot;fa-rotate-0&quot;, &quot;icon&quot;: &quot;info-sign&quot;, &quot;iconColor&quot;: &quot;white&quot;, &quot;markerColor&quot;: &quot;red&quot;, &quot;prefix&quot;: &quot;glyphicon&quot;}\n",
       "            );\n",
       "            marker_10b6836dfea07e769f89b48722c267ce.setIcon(icon_060bd406b7add56ee88f115118986b88);\n",
       "        \n",
       "    \n",
       "        var popup_4c9de91281ad1919397fd373df3ea41a = L.popup({&quot;maxWidth&quot;: &quot;100%&quot;});\n",
       "\n",
       "        \n",
       "            \n",
       "                var html_296f7dbb490340a03a8aa9344ff24a49 = $(`&lt;div id=&quot;html_296f7dbb490340a03a8aa9344ff24a49&quot; style=&quot;width: 100.0%; height: 100.0%;&quot;&gt;Batang Onang: 1 kasus, Tingkat Kerawanan: Sangat Rawan&lt;/div&gt;`)[0];\n",
       "                popup_4c9de91281ad1919397fd373df3ea41a.setContent(html_296f7dbb490340a03a8aa9344ff24a49);\n",
       "            \n",
       "        \n",
       "\n",
       "        marker_10b6836dfea07e769f89b48722c267ce.bindPopup(popup_4c9de91281ad1919397fd373df3ea41a)\n",
       "        ;\n",
       "\n",
       "        \n",
       "    \n",
       "    \n",
       "            var marker_f2452b3a954652a82f225fed4336cc29 = L.marker(\n",
       "                [1.6577, 98.5525],\n",
       "                {}\n",
       "            ).addTo(map_fb702b161cb89fde521fecbfd4eb5731);\n",
       "        \n",
       "    \n",
       "            var icon_ad5f840b08aa92ae21cc2b09ab6c32db = L.AwesomeMarkers.icon(\n",
       "                {&quot;extraClasses&quot;: &quot;fa-rotate-0&quot;, &quot;icon&quot;: &quot;info-sign&quot;, &quot;iconColor&quot;: &quot;white&quot;, &quot;markerColor&quot;: &quot;orange&quot;, &quot;prefix&quot;: &quot;glyphicon&quot;}\n",
       "            );\n",
       "            marker_f2452b3a954652a82f225fed4336cc29.setIcon(icon_ad5f840b08aa92ae21cc2b09ab6c32db);\n",
       "        \n",
       "    \n",
       "        var popup_5401e3025becdf006fe7f3b029ddc370 = L.popup({&quot;maxWidth&quot;: &quot;100%&quot;});\n",
       "\n",
       "        \n",
       "            \n",
       "                var html_9bd44fb7de48418ab2f12ccf934d67a1 = $(`&lt;div id=&quot;html_9bd44fb7de48418ab2f12ccf934d67a1&quot; style=&quot;width: 100.0%; height: 100.0%;&quot;&gt;Dolok: 1 kasus, Tingkat Kerawanan: Rawan&lt;/div&gt;`)[0];\n",
       "                popup_5401e3025becdf006fe7f3b029ddc370.setContent(html_9bd44fb7de48418ab2f12ccf934d67a1);\n",
       "            \n",
       "        \n",
       "\n",
       "        marker_f2452b3a954652a82f225fed4336cc29.bindPopup(popup_5401e3025becdf006fe7f3b029ddc370)\n",
       "        ;\n",
       "\n",
       "        \n",
       "    \n",
       "    \n",
       "            var marker_f80bcad52324504f8af1e7c648e5f14f = L.marker(\n",
       "                [1.9700433, 99.5356889],\n",
       "                {}\n",
       "            ).addTo(map_fb702b161cb89fde521fecbfd4eb5731);\n",
       "        \n",
       "    \n",
       "            var icon_5746f58717148201475648111976577a = L.AwesomeMarkers.icon(\n",
       "                {&quot;extraClasses&quot;: &quot;fa-rotate-0&quot;, &quot;icon&quot;: &quot;info-sign&quot;, &quot;iconColor&quot;: &quot;white&quot;, &quot;markerColor&quot;: &quot;red&quot;, &quot;prefix&quot;: &quot;glyphicon&quot;}\n",
       "            );\n",
       "            marker_f80bcad52324504f8af1e7c648e5f14f.setIcon(icon_5746f58717148201475648111976577a);\n",
       "        \n",
       "    \n",
       "        var popup_7ddfce52210ffda1a48e80bfa2f50ab0 = L.popup({&quot;maxWidth&quot;: &quot;100%&quot;});\n",
       "\n",
       "        \n",
       "            \n",
       "                var html_7790c3b34b548b3739bd0f10522387b8 = $(`&lt;div id=&quot;html_7790c3b34b548b3739bd0f10522387b8&quot; style=&quot;width: 100.0%; height: 100.0%;&quot;&gt;Dolok Sigompulon: 1 kasus, Tingkat Kerawanan: Sangat Rawan&lt;/div&gt;`)[0];\n",
       "                popup_7ddfce52210ffda1a48e80bfa2f50ab0.setContent(html_7790c3b34b548b3739bd0f10522387b8);\n",
       "            \n",
       "        \n",
       "\n",
       "        marker_f80bcad52324504f8af1e7c648e5f14f.bindPopup(popup_7ddfce52210ffda1a48e80bfa2f50ab0)\n",
       "        ;\n",
       "\n",
       "        \n",
       "    \n",
       "    \n",
       "            var marker_7c3cef73fc8f21c42327d183ed48db64 = L.marker(\n",
       "                [1.6514398, 99.6593041],\n",
       "                {}\n",
       "            ).addTo(map_fb702b161cb89fde521fecbfd4eb5731);\n",
       "        \n",
       "    \n",
       "            var icon_4181cc3d102ebeeee8c16962bf1c21f5 = L.AwesomeMarkers.icon(\n",
       "                {&quot;extraClasses&quot;: &quot;fa-rotate-0&quot;, &quot;icon&quot;: &quot;info-sign&quot;, &quot;iconColor&quot;: &quot;white&quot;, &quot;markerColor&quot;: &quot;green&quot;, &quot;prefix&quot;: &quot;glyphicon&quot;}\n",
       "            );\n",
       "            marker_7c3cef73fc8f21c42327d183ed48db64.setIcon(icon_4181cc3d102ebeeee8c16962bf1c21f5);\n",
       "        \n",
       "    \n",
       "        var popup_287cf73d48e091700f82ede7fac01025 = L.popup({&quot;maxWidth&quot;: &quot;100%&quot;});\n",
       "\n",
       "        \n",
       "            \n",
       "                var html_28dc279993e8f8726f1a7f0fe13ede1b = $(`&lt;div id=&quot;html_28dc279993e8f8726f1a7f0fe13ede1b&quot; style=&quot;width: 100.0%; height: 100.0%;&quot;&gt;Halongonan: 1 kasus, Tingkat Kerawanan: Aman&lt;/div&gt;`)[0];\n",
       "                popup_287cf73d48e091700f82ede7fac01025.setContent(html_28dc279993e8f8726f1a7f0fe13ede1b);\n",
       "            \n",
       "        \n",
       "\n",
       "        marker_7c3cef73fc8f21c42327d183ed48db64.bindPopup(popup_287cf73d48e091700f82ede7fac01025)\n",
       "        ;\n",
       "\n",
       "        \n",
       "    \n",
       "    \n",
       "            var marker_199a3b233fa09b44da37e6cd8a2562a2 = L.marker(\n",
       "                [1.6373489, 99.4558203],\n",
       "                {}\n",
       "            ).addTo(map_fb702b161cb89fde521fecbfd4eb5731);\n",
       "        \n",
       "    \n",
       "            var icon_7b960173c5ecbfe97006593e177f39a2 = L.AwesomeMarkers.icon(\n",
       "                {&quot;extraClasses&quot;: &quot;fa-rotate-0&quot;, &quot;icon&quot;: &quot;info-sign&quot;, &quot;iconColor&quot;: &quot;white&quot;, &quot;markerColor&quot;: &quot;green&quot;, &quot;prefix&quot;: &quot;glyphicon&quot;}\n",
       "            );\n",
       "            marker_199a3b233fa09b44da37e6cd8a2562a2.setIcon(icon_7b960173c5ecbfe97006593e177f39a2);\n",
       "        \n",
       "    \n",
       "        var popup_7791c9337f003c8a22e4cfffd5e1ce2d = L.popup({&quot;maxWidth&quot;: &quot;100%&quot;});\n",
       "\n",
       "        \n",
       "            \n",
       "                var html_3feee8ec4283fb6d64940b206bd21ae7 = $(`&lt;div id=&quot;html_3feee8ec4283fb6d64940b206bd21ae7&quot; style=&quot;width: 100.0%; height: 100.0%;&quot;&gt;Halongonan Timur: 1 kasus, Tingkat Kerawanan: Aman&lt;/div&gt;`)[0];\n",
       "                popup_7791c9337f003c8a22e4cfffd5e1ce2d.setContent(html_3feee8ec4283fb6d64940b206bd21ae7);\n",
       "            \n",
       "        \n",
       "\n",
       "        marker_199a3b233fa09b44da37e6cd8a2562a2.bindPopup(popup_7791c9337f003c8a22e4cfffd5e1ce2d)\n",
       "        ;\n",
       "\n",
       "        \n",
       "    \n",
       "    \n",
       "            var marker_c7e78466141fd1cf07f617bca4a25f97 = L.marker(\n",
       "                [1.458091, 99.4268896],\n",
       "                {}\n",
       "            ).addTo(map_fb702b161cb89fde521fecbfd4eb5731);\n",
       "        \n",
       "    \n",
       "            var icon_dd71ec238fba8bdc1e2583ddf7d892d3 = L.AwesomeMarkers.icon(\n",
       "                {&quot;extraClasses&quot;: &quot;fa-rotate-0&quot;, &quot;icon&quot;: &quot;info-sign&quot;, &quot;iconColor&quot;: &quot;white&quot;, &quot;markerColor&quot;: &quot;yellow&quot;, &quot;prefix&quot;: &quot;glyphicon&quot;}\n",
       "            );\n",
       "            marker_c7e78466141fd1cf07f617bca4a25f97.setIcon(icon_dd71ec238fba8bdc1e2583ddf7d892d3);\n",
       "        \n",
       "    \n",
       "        var popup_1424475309c5b8c8fc3ffa689c1ad8fc = L.popup({&quot;maxWidth&quot;: &quot;100%&quot;});\n",
       "\n",
       "        \n",
       "            \n",
       "                var html_974777386db48e1c8f5a427cedcc8bc2 = $(`&lt;div id=&quot;html_974777386db48e1c8f5a427cedcc8bc2&quot; style=&quot;width: 100.0%; height: 100.0%;&quot;&gt;Hulu Sihapas: 1 kasus, Tingkat Kerawanan: Berpotensi Rawan&lt;/div&gt;`)[0];\n",
       "                popup_1424475309c5b8c8fc3ffa689c1ad8fc.setContent(html_974777386db48e1c8f5a427cedcc8bc2);\n",
       "            \n",
       "        \n",
       "\n",
       "        marker_c7e78466141fd1cf07f617bca4a25f97.bindPopup(popup_1424475309c5b8c8fc3ffa689c1ad8fc)\n",
       "        ;\n",
       "\n",
       "        \n",
       "    \n",
       "    \n",
       "            var marker_e3b2617b77a1aef0b4afa47ce2cb2109 = L.marker(\n",
       "                [3.5685536, 98.7273622],\n",
       "                {}\n",
       "            ).addTo(map_fb702b161cb89fde521fecbfd4eb5731);\n",
       "        \n",
       "    \n",
       "            var icon_9fefe6072a5d14b9969399e5ed9f60a1 = L.AwesomeMarkers.icon(\n",
       "                {&quot;extraClasses&quot;: &quot;fa-rotate-0&quot;, &quot;icon&quot;: &quot;info-sign&quot;, &quot;iconColor&quot;: &quot;white&quot;, &quot;markerColor&quot;: &quot;red&quot;, &quot;prefix&quot;: &quot;glyphicon&quot;}\n",
       "            );\n",
       "            marker_e3b2617b77a1aef0b4afa47ce2cb2109.setIcon(icon_9fefe6072a5d14b9969399e5ed9f60a1);\n",
       "        \n",
       "    \n",
       "        var popup_ec4db798676b678db0bf6cc613ec798d = L.popup({&quot;maxWidth&quot;: &quot;100%&quot;});\n",
       "\n",
       "        \n",
       "            \n",
       "                var html_a94936f2c821b11f6ad3040a28fb7643 = $(`&lt;div id=&quot;html_a94936f2c821b11f6ad3040a28fb7643&quot; style=&quot;width: 100.0%; height: 100.0%;&quot;&gt;Padang Bolak: 1 kasus, Tingkat Kerawanan: Sangat Rawan&lt;/div&gt;`)[0];\n",
       "                popup_ec4db798676b678db0bf6cc613ec798d.setContent(html_a94936f2c821b11f6ad3040a28fb7643);\n",
       "            \n",
       "        \n",
       "\n",
       "        marker_e3b2617b77a1aef0b4afa47ce2cb2109.bindPopup(popup_ec4db798676b678db0bf6cc613ec798d)\n",
       "        ;\n",
       "\n",
       "        \n",
       "    \n",
       "    \n",
       "            var marker_746a8cf67dd7bffd158371f38f4f486a = L.marker(\n",
       "                [1.415091, 99.5576002],\n",
       "                {}\n",
       "            ).addTo(map_fb702b161cb89fde521fecbfd4eb5731);\n",
       "        \n",
       "    \n",
       "            var icon_7c01d2398f4cc11798563cf3c4ef5af3 = L.AwesomeMarkers.icon(\n",
       "                {&quot;extraClasses&quot;: &quot;fa-rotate-0&quot;, &quot;icon&quot;: &quot;info-sign&quot;, &quot;iconColor&quot;: &quot;white&quot;, &quot;markerColor&quot;: &quot;red&quot;, &quot;prefix&quot;: &quot;glyphicon&quot;}\n",
       "            );\n",
       "            marker_746a8cf67dd7bffd158371f38f4f486a.setIcon(icon_7c01d2398f4cc11798563cf3c4ef5af3);\n",
       "        \n",
       "    \n",
       "        var popup_e8acd6b290506dab01818a1e98d26a96 = L.popup({&quot;maxWidth&quot;: &quot;100%&quot;});\n",
       "\n",
       "        \n",
       "            \n",
       "                var html_6949e2a95990ed9d2e6220b16c0ee2d2 = $(`&lt;div id=&quot;html_6949e2a95990ed9d2e6220b16c0ee2d2&quot; style=&quot;width: 100.0%; height: 100.0%;&quot;&gt;Padang Bolak Julu: 1 kasus, Tingkat Kerawanan: Sangat Rawan&lt;/div&gt;`)[0];\n",
       "                popup_e8acd6b290506dab01818a1e98d26a96.setContent(html_6949e2a95990ed9d2e6220b16c0ee2d2);\n",
       "            \n",
       "        \n",
       "\n",
       "        marker_746a8cf67dd7bffd158371f38f4f486a.bindPopup(popup_e8acd6b290506dab01818a1e98d26a96)\n",
       "        ;\n",
       "\n",
       "        \n",
       "    \n",
       "    \n",
       "            var marker_70bd035cfe83794199d4849ae2c1f465 = L.marker(\n",
       "                [1.54001, 99.3234082],\n",
       "                {}\n",
       "            ).addTo(map_fb702b161cb89fde521fecbfd4eb5731);\n",
       "        \n",
       "    \n",
       "            var icon_b9a2870fa2f0e85c12decd798195aba6 = L.AwesomeMarkers.icon(\n",
       "                {&quot;extraClasses&quot;: &quot;fa-rotate-0&quot;, &quot;icon&quot;: &quot;info-sign&quot;, &quot;iconColor&quot;: &quot;white&quot;, &quot;markerColor&quot;: &quot;yellow&quot;, &quot;prefix&quot;: &quot;glyphicon&quot;}\n",
       "            );\n",
       "            marker_70bd035cfe83794199d4849ae2c1f465.setIcon(icon_b9a2870fa2f0e85c12decd798195aba6);\n",
       "        \n",
       "    \n",
       "        var popup_2e38e61e2a43e0aaa499512f9b1ba00c = L.popup({&quot;maxWidth&quot;: &quot;100%&quot;});\n",
       "\n",
       "        \n",
       "            \n",
       "                var html_5425132254215fbfac73eeaa21923671 = $(`&lt;div id=&quot;html_5425132254215fbfac73eeaa21923671&quot; style=&quot;width: 100.0%; height: 100.0%;&quot;&gt;Padang Bolak Tenggara: 1 kasus, Tingkat Kerawanan: Berpotensi Rawan&lt;/div&gt;`)[0];\n",
       "                popup_2e38e61e2a43e0aaa499512f9b1ba00c.setContent(html_5425132254215fbfac73eeaa21923671);\n",
       "            \n",
       "        \n",
       "\n",
       "        marker_70bd035cfe83794199d4849ae2c1f465.bindPopup(popup_2e38e61e2a43e0aaa499512f9b1ba00c)\n",
       "        ;\n",
       "\n",
       "        \n",
       "    \n",
       "    \n",
       "            var marker_41f0ad1943e4818e019d0611bfff9b36 = L.marker(\n",
       "                [1.4375683, 99.7032047],\n",
       "                {}\n",
       "            ).addTo(map_fb702b161cb89fde521fecbfd4eb5731);\n",
       "        \n",
       "    \n",
       "            var icon_9aec4570351e5727bbafbd8d4a1faa6a = L.AwesomeMarkers.icon(\n",
       "                {&quot;extraClasses&quot;: &quot;fa-rotate-0&quot;, &quot;icon&quot;: &quot;info-sign&quot;, &quot;iconColor&quot;: &quot;white&quot;, &quot;markerColor&quot;: &quot;yellow&quot;, &quot;prefix&quot;: &quot;glyphicon&quot;}\n",
       "            );\n",
       "            marker_41f0ad1943e4818e019d0611bfff9b36.setIcon(icon_9aec4570351e5727bbafbd8d4a1faa6a);\n",
       "        \n",
       "    \n",
       "        var popup_eb1abb59d36cfecffdb0e891f077c3f3 = L.popup({&quot;maxWidth&quot;: &quot;100%&quot;});\n",
       "\n",
       "        \n",
       "            \n",
       "                var html_a6364ac35c526e49a4f21b3ebe5dc1fc = $(`&lt;div id=&quot;html_a6364ac35c526e49a4f21b3ebe5dc1fc&quot; style=&quot;width: 100.0%; height: 100.0%;&quot;&gt;Portibi: 1 kasus, Tingkat Kerawanan: Berpotensi Rawan&lt;/div&gt;`)[0];\n",
       "                popup_eb1abb59d36cfecffdb0e891f077c3f3.setContent(html_a6364ac35c526e49a4f21b3ebe5dc1fc);\n",
       "            \n",
       "        \n",
       "\n",
       "        marker_41f0ad1943e4818e019d0611bfff9b36.bindPopup(popup_eb1abb59d36cfecffdb0e891f077c3f3)\n",
       "        ;\n",
       "\n",
       "        \n",
       "    \n",
       "    \n",
       "            var marker_6fb782a3d7b1a18fb359d313c893a861 = L.marker(\n",
       "                [1.8957231, 99.7846397],\n",
       "                {}\n",
       "            ).addTo(map_fb702b161cb89fde521fecbfd4eb5731);\n",
       "        \n",
       "    \n",
       "            var icon_af15c7b9798c22c72391f6dd5d2bf7e4 = L.AwesomeMarkers.icon(\n",
       "                {&quot;extraClasses&quot;: &quot;fa-rotate-0&quot;, &quot;icon&quot;: &quot;info-sign&quot;, &quot;iconColor&quot;: &quot;white&quot;, &quot;markerColor&quot;: &quot;orange&quot;, &quot;prefix&quot;: &quot;glyphicon&quot;}\n",
       "            );\n",
       "            marker_6fb782a3d7b1a18fb359d313c893a861.setIcon(icon_af15c7b9798c22c72391f6dd5d2bf7e4);\n",
       "        \n",
       "    \n",
       "        var popup_f90c683fd931c278f7996483c3906719 = L.popup({&quot;maxWidth&quot;: &quot;100%&quot;});\n",
       "\n",
       "        \n",
       "            \n",
       "                var html_d5d40102392047efcfe0fb20a806c41f = $(`&lt;div id=&quot;html_d5d40102392047efcfe0fb20a806c41f&quot; style=&quot;width: 100.0%; height: 100.0%;&quot;&gt;Simangambat: 1 kasus, Tingkat Kerawanan: Rawan&lt;/div&gt;`)[0];\n",
       "                popup_f90c683fd931c278f7996483c3906719.setContent(html_d5d40102392047efcfe0fb20a806c41f);\n",
       "            \n",
       "        \n",
       "\n",
       "        marker_6fb782a3d7b1a18fb359d313c893a861.bindPopup(popup_f90c683fd931c278f7996483c3906719)\n",
       "        ;\n",
       "\n",
       "        \n",
       "    \n",
       "    \n",
       "            var marker_f9b9de942511553aad2082d6598d7db8 = L.marker(\n",
       "                [1.1896051, 99.99013],\n",
       "                {}\n",
       "            ).addTo(map_fb702b161cb89fde521fecbfd4eb5731);\n",
       "        \n",
       "    \n",
       "            var icon_3fbd3b64b71da57ed1d2870aa695b3e7 = L.AwesomeMarkers.icon(\n",
       "                {&quot;extraClasses&quot;: &quot;fa-rotate-0&quot;, &quot;icon&quot;: &quot;info-sign&quot;, &quot;iconColor&quot;: &quot;white&quot;, &quot;markerColor&quot;: &quot;red&quot;, &quot;prefix&quot;: &quot;glyphicon&quot;}\n",
       "            );\n",
       "            marker_f9b9de942511553aad2082d6598d7db8.setIcon(icon_3fbd3b64b71da57ed1d2870aa695b3e7);\n",
       "        \n",
       "    \n",
       "        var popup_e5796f9179ba0111204629c7a860a440 = L.popup({&quot;maxWidth&quot;: &quot;100%&quot;});\n",
       "\n",
       "        \n",
       "            \n",
       "                var html_97a1ff38bc2b5cd3f9f7cc59edb18f3c = $(`&lt;div id=&quot;html_97a1ff38bc2b5cd3f9f7cc59edb18f3c&quot; style=&quot;width: 100.0%; height: 100.0%;&quot;&gt;Ujung Batu: 1 kasus, Tingkat Kerawanan: Sangat Rawan&lt;/div&gt;`)[0];\n",
       "                popup_e5796f9179ba0111204629c7a860a440.setContent(html_97a1ff38bc2b5cd3f9f7cc59edb18f3c);\n",
       "            \n",
       "        \n",
       "\n",
       "        marker_f9b9de942511553aad2082d6598d7db8.bindPopup(popup_e5796f9179ba0111204629c7a860a440)\n",
       "        ;\n",
       "\n",
       "        \n",
       "    \n",
       "&lt;/script&gt;\n",
       "&lt;/html&gt;\" style=\"position:absolute;width:100%;height:100%;left:0;top:0;border:none !important;\" allowfullscreen webkitallowfullscreen mozallowfullscreen></iframe></div></div>"
      ],
      "text/plain": [
       "<folium.folium.Map at 0x24a0cd63c90>"
      ]
     },
     "metadata": {},
     "output_type": "display_data"
    },
    {
     "name": "stdout",
     "output_type": "stream",
     "text": [
      "Peta untuk tahun 2019\n"
     ]
    },
    {
     "name": "stderr",
     "output_type": "stream",
     "text": [
      "C:\\Users\\User\\AppData\\Local\\Temp\\ipykernel_2092\\3736326453.py:108: UserWarning:\n",
      "\n",
      "color argument of Icon should be one of: {'black', 'blue', 'white', 'pink', 'darkblue', 'purple', 'darkred', 'orange', 'green', 'lightred', 'cadetblue', 'lightgray', 'lightgreen', 'beige', 'gray', 'darkgreen', 'red', 'lightblue', 'darkpurple'}.\n",
      "\n"
     ]
    },
    {
     "data": {
      "text/html": [
       "<div style=\"width:100%;\"><div style=\"position:relative;width:100%;height:0;padding-bottom:60%;\"><span style=\"color:#565656\">Make this Notebook Trusted to load map: File -> Trust Notebook</span><iframe srcdoc=\"&lt;!DOCTYPE html&gt;\n",
       "&lt;html&gt;\n",
       "&lt;head&gt;\n",
       "    \n",
       "    &lt;meta http-equiv=&quot;content-type&quot; content=&quot;text/html; charset=UTF-8&quot; /&gt;\n",
       "    \n",
       "        &lt;script&gt;\n",
       "            L_NO_TOUCH = false;\n",
       "            L_DISABLE_3D = false;\n",
       "        &lt;/script&gt;\n",
       "    \n",
       "    &lt;style&gt;html, body {width: 100%;height: 100%;margin: 0;padding: 0;}&lt;/style&gt;\n",
       "    &lt;style&gt;#map {position:absolute;top:0;bottom:0;right:0;left:0;}&lt;/style&gt;\n",
       "    &lt;script src=&quot;https://cdn.jsdelivr.net/npm/leaflet@1.9.3/dist/leaflet.js&quot;&gt;&lt;/script&gt;\n",
       "    &lt;script src=&quot;https://code.jquery.com/jquery-3.7.1.min.js&quot;&gt;&lt;/script&gt;\n",
       "    &lt;script src=&quot;https://cdn.jsdelivr.net/npm/bootstrap@5.2.2/dist/js/bootstrap.bundle.min.js&quot;&gt;&lt;/script&gt;\n",
       "    &lt;script src=&quot;https://cdnjs.cloudflare.com/ajax/libs/Leaflet.awesome-markers/2.0.2/leaflet.awesome-markers.js&quot;&gt;&lt;/script&gt;\n",
       "    &lt;link rel=&quot;stylesheet&quot; href=&quot;https://cdn.jsdelivr.net/npm/leaflet@1.9.3/dist/leaflet.css&quot;/&gt;\n",
       "    &lt;link rel=&quot;stylesheet&quot; href=&quot;https://cdn.jsdelivr.net/npm/bootstrap@5.2.2/dist/css/bootstrap.min.css&quot;/&gt;\n",
       "    &lt;link rel=&quot;stylesheet&quot; href=&quot;https://netdna.bootstrapcdn.com/bootstrap/3.0.0/css/bootstrap.min.css&quot;/&gt;\n",
       "    &lt;link rel=&quot;stylesheet&quot; href=&quot;https://cdn.jsdelivr.net/npm/@fortawesome/fontawesome-free@6.2.0/css/all.min.css&quot;/&gt;\n",
       "    &lt;link rel=&quot;stylesheet&quot; href=&quot;https://cdnjs.cloudflare.com/ajax/libs/Leaflet.awesome-markers/2.0.2/leaflet.awesome-markers.css&quot;/&gt;\n",
       "    &lt;link rel=&quot;stylesheet&quot; href=&quot;https://cdn.jsdelivr.net/gh/python-visualization/folium/folium/templates/leaflet.awesome.rotate.min.css&quot;/&gt;\n",
       "    \n",
       "            &lt;meta name=&quot;viewport&quot; content=&quot;width=device-width,\n",
       "                initial-scale=1.0, maximum-scale=1.0, user-scalable=no&quot; /&gt;\n",
       "            &lt;style&gt;\n",
       "                #map_b2f8ec7000f643ae04c93bb9328976da {\n",
       "                    position: relative;\n",
       "                    width: 100.0%;\n",
       "                    height: 100.0%;\n",
       "                    left: 0.0%;\n",
       "                    top: 0.0%;\n",
       "                }\n",
       "                .leaflet-container { font-size: 1rem; }\n",
       "            &lt;/style&gt;\n",
       "        \n",
       "&lt;/head&gt;\n",
       "&lt;body&gt;\n",
       "    \n",
       "    \n",
       "            &lt;div class=&quot;folium-map&quot; id=&quot;map_b2f8ec7000f643ae04c93bb9328976da&quot; &gt;&lt;/div&gt;\n",
       "        \n",
       "&lt;/body&gt;\n",
       "&lt;script&gt;\n",
       "    \n",
       "    \n",
       "            var map_b2f8ec7000f643ae04c93bb9328976da = L.map(\n",
       "                &quot;map_b2f8ec7000f643ae04c93bb9328976da&quot;,\n",
       "                {\n",
       "                    center: [1.4099, 99.7092],\n",
       "                    crs: L.CRS.EPSG3857,\n",
       "                    zoom: 10,\n",
       "                    zoomControl: true,\n",
       "                    preferCanvas: false,\n",
       "                }\n",
       "            );\n",
       "\n",
       "            \n",
       "\n",
       "        \n",
       "    \n",
       "            var tile_layer_29b18f3fcfdee9b3ca98ba8a50e147e0 = L.tileLayer(\n",
       "                &quot;https://tile.openstreetmap.org/{z}/{x}/{y}.png&quot;,\n",
       "                {&quot;attribution&quot;: &quot;\\u0026copy; \\u003ca href=\\&quot;https://www.openstreetmap.org/copyright\\&quot;\\u003eOpenStreetMap\\u003c/a\\u003e contributors&quot;, &quot;detectRetina&quot;: false, &quot;maxNativeZoom&quot;: 19, &quot;maxZoom&quot;: 19, &quot;minZoom&quot;: 0, &quot;noWrap&quot;: false, &quot;opacity&quot;: 1, &quot;subdomains&quot;: &quot;abc&quot;, &quot;tms&quot;: false}\n",
       "            );\n",
       "        \n",
       "    \n",
       "            tile_layer_29b18f3fcfdee9b3ca98ba8a50e147e0.addTo(map_b2f8ec7000f643ae04c93bb9328976da);\n",
       "        \n",
       "    \n",
       "            var marker_b9a8a35d39b205cbcebbd282443e6e61 = L.marker(\n",
       "                [1.3166932, 99.4458336],\n",
       "                {}\n",
       "            ).addTo(map_b2f8ec7000f643ae04c93bb9328976da);\n",
       "        \n",
       "    \n",
       "            var icon_e2e06779fc188c8978a57e076f2f7f71 = L.AwesomeMarkers.icon(\n",
       "                {&quot;extraClasses&quot;: &quot;fa-rotate-0&quot;, &quot;icon&quot;: &quot;info-sign&quot;, &quot;iconColor&quot;: &quot;white&quot;, &quot;markerColor&quot;: &quot;yellow&quot;, &quot;prefix&quot;: &quot;glyphicon&quot;}\n",
       "            );\n",
       "            marker_b9a8a35d39b205cbcebbd282443e6e61.setIcon(icon_e2e06779fc188c8978a57e076f2f7f71);\n",
       "        \n",
       "    \n",
       "        var popup_49bbb6884f9b9a3ac5ddcf165f3c1158 = L.popup({&quot;maxWidth&quot;: &quot;100%&quot;});\n",
       "\n",
       "        \n",
       "            \n",
       "                var html_46b7562f777c92da516db79f97a5910a = $(`&lt;div id=&quot;html_46b7562f777c92da516db79f97a5910a&quot; style=&quot;width: 100.0%; height: 100.0%;&quot;&gt;Batang Onang: 1 kasus, Tingkat Kerawanan: Berpotensi Rawan&lt;/div&gt;`)[0];\n",
       "                popup_49bbb6884f9b9a3ac5ddcf165f3c1158.setContent(html_46b7562f777c92da516db79f97a5910a);\n",
       "            \n",
       "        \n",
       "\n",
       "        marker_b9a8a35d39b205cbcebbd282443e6e61.bindPopup(popup_49bbb6884f9b9a3ac5ddcf165f3c1158)\n",
       "        ;\n",
       "\n",
       "        \n",
       "    \n",
       "    \n",
       "            var marker_6544e37dcb09e8e36072cd19b530ba85 = L.marker(\n",
       "                [1.6577, 98.5525],\n",
       "                {}\n",
       "            ).addTo(map_b2f8ec7000f643ae04c93bb9328976da);\n",
       "        \n",
       "    \n",
       "            var icon_6498b246a3d2f3704fcfc7dbd6e30d9c = L.AwesomeMarkers.icon(\n",
       "                {&quot;extraClasses&quot;: &quot;fa-rotate-0&quot;, &quot;icon&quot;: &quot;info-sign&quot;, &quot;iconColor&quot;: &quot;white&quot;, &quot;markerColor&quot;: &quot;orange&quot;, &quot;prefix&quot;: &quot;glyphicon&quot;}\n",
       "            );\n",
       "            marker_6544e37dcb09e8e36072cd19b530ba85.setIcon(icon_6498b246a3d2f3704fcfc7dbd6e30d9c);\n",
       "        \n",
       "    \n",
       "        var popup_fa936bf4a144ff8f2b5c9e4ad3dde886 = L.popup({&quot;maxWidth&quot;: &quot;100%&quot;});\n",
       "\n",
       "        \n",
       "            \n",
       "                var html_9b39c546a141c1e4b52ab99259fd15e0 = $(`&lt;div id=&quot;html_9b39c546a141c1e4b52ab99259fd15e0&quot; style=&quot;width: 100.0%; height: 100.0%;&quot;&gt;Dolok: 1 kasus, Tingkat Kerawanan: Rawan&lt;/div&gt;`)[0];\n",
       "                popup_fa936bf4a144ff8f2b5c9e4ad3dde886.setContent(html_9b39c546a141c1e4b52ab99259fd15e0);\n",
       "            \n",
       "        \n",
       "\n",
       "        marker_6544e37dcb09e8e36072cd19b530ba85.bindPopup(popup_fa936bf4a144ff8f2b5c9e4ad3dde886)\n",
       "        ;\n",
       "\n",
       "        \n",
       "    \n",
       "    \n",
       "            var marker_a17ca5145947279b8940808ebe7b721f = L.marker(\n",
       "                [1.9700433, 99.5356889],\n",
       "                {}\n",
       "            ).addTo(map_b2f8ec7000f643ae04c93bb9328976da);\n",
       "        \n",
       "    \n",
       "            var icon_54cba6be0b1ee77897cae94731ec3bd4 = L.AwesomeMarkers.icon(\n",
       "                {&quot;extraClasses&quot;: &quot;fa-rotate-0&quot;, &quot;icon&quot;: &quot;info-sign&quot;, &quot;iconColor&quot;: &quot;white&quot;, &quot;markerColor&quot;: &quot;orange&quot;, &quot;prefix&quot;: &quot;glyphicon&quot;}\n",
       "            );\n",
       "            marker_a17ca5145947279b8940808ebe7b721f.setIcon(icon_54cba6be0b1ee77897cae94731ec3bd4);\n",
       "        \n",
       "    \n",
       "        var popup_a03a77aae0db0dd410d3ae03472f8306 = L.popup({&quot;maxWidth&quot;: &quot;100%&quot;});\n",
       "\n",
       "        \n",
       "            \n",
       "                var html_3b518c248f922710a8e74e26bcf6aa48 = $(`&lt;div id=&quot;html_3b518c248f922710a8e74e26bcf6aa48&quot; style=&quot;width: 100.0%; height: 100.0%;&quot;&gt;Dolok Sigompulon: 1 kasus, Tingkat Kerawanan: Rawan&lt;/div&gt;`)[0];\n",
       "                popup_a03a77aae0db0dd410d3ae03472f8306.setContent(html_3b518c248f922710a8e74e26bcf6aa48);\n",
       "            \n",
       "        \n",
       "\n",
       "        marker_a17ca5145947279b8940808ebe7b721f.bindPopup(popup_a03a77aae0db0dd410d3ae03472f8306)\n",
       "        ;\n",
       "\n",
       "        \n",
       "    \n",
       "    \n",
       "            var marker_27bd62a4a8180b5268067df13a59a69f = L.marker(\n",
       "                [1.6514398, 99.6593041],\n",
       "                {}\n",
       "            ).addTo(map_b2f8ec7000f643ae04c93bb9328976da);\n",
       "        \n",
       "    \n",
       "            var icon_e831e3dc3789fd2616bbb2873c7a8b56 = L.AwesomeMarkers.icon(\n",
       "                {&quot;extraClasses&quot;: &quot;fa-rotate-0&quot;, &quot;icon&quot;: &quot;info-sign&quot;, &quot;iconColor&quot;: &quot;white&quot;, &quot;markerColor&quot;: &quot;green&quot;, &quot;prefix&quot;: &quot;glyphicon&quot;}\n",
       "            );\n",
       "            marker_27bd62a4a8180b5268067df13a59a69f.setIcon(icon_e831e3dc3789fd2616bbb2873c7a8b56);\n",
       "        \n",
       "    \n",
       "        var popup_09b703b496c9698d5701ca00bc4a8f0e = L.popup({&quot;maxWidth&quot;: &quot;100%&quot;});\n",
       "\n",
       "        \n",
       "            \n",
       "                var html_81c469139ccc14ad68b7b5e9a4b0371c = $(`&lt;div id=&quot;html_81c469139ccc14ad68b7b5e9a4b0371c&quot; style=&quot;width: 100.0%; height: 100.0%;&quot;&gt;Halongonan: 1 kasus, Tingkat Kerawanan: Aman&lt;/div&gt;`)[0];\n",
       "                popup_09b703b496c9698d5701ca00bc4a8f0e.setContent(html_81c469139ccc14ad68b7b5e9a4b0371c);\n",
       "            \n",
       "        \n",
       "\n",
       "        marker_27bd62a4a8180b5268067df13a59a69f.bindPopup(popup_09b703b496c9698d5701ca00bc4a8f0e)\n",
       "        ;\n",
       "\n",
       "        \n",
       "    \n",
       "    \n",
       "            var marker_e6cdd228a95d696b215fb7bf8124b6e1 = L.marker(\n",
       "                [1.6373489, 99.4558203],\n",
       "                {}\n",
       "            ).addTo(map_b2f8ec7000f643ae04c93bb9328976da);\n",
       "        \n",
       "    \n",
       "            var icon_693d8bedd84706175fd690a551430afb = L.AwesomeMarkers.icon(\n",
       "                {&quot;extraClasses&quot;: &quot;fa-rotate-0&quot;, &quot;icon&quot;: &quot;info-sign&quot;, &quot;iconColor&quot;: &quot;white&quot;, &quot;markerColor&quot;: &quot;red&quot;, &quot;prefix&quot;: &quot;glyphicon&quot;}\n",
       "            );\n",
       "            marker_e6cdd228a95d696b215fb7bf8124b6e1.setIcon(icon_693d8bedd84706175fd690a551430afb);\n",
       "        \n",
       "    \n",
       "        var popup_4eb98af55d90396313769241d5874e6b = L.popup({&quot;maxWidth&quot;: &quot;100%&quot;});\n",
       "\n",
       "        \n",
       "            \n",
       "                var html_d443f4c450083e906cec2641db3126a2 = $(`&lt;div id=&quot;html_d443f4c450083e906cec2641db3126a2&quot; style=&quot;width: 100.0%; height: 100.0%;&quot;&gt;Halongonan Timur: 1 kasus, Tingkat Kerawanan: Sangat Rawan&lt;/div&gt;`)[0];\n",
       "                popup_4eb98af55d90396313769241d5874e6b.setContent(html_d443f4c450083e906cec2641db3126a2);\n",
       "            \n",
       "        \n",
       "\n",
       "        marker_e6cdd228a95d696b215fb7bf8124b6e1.bindPopup(popup_4eb98af55d90396313769241d5874e6b)\n",
       "        ;\n",
       "\n",
       "        \n",
       "    \n",
       "    \n",
       "            var marker_df39c6b971b05798d93ead417ebb835d = L.marker(\n",
       "                [1.458091, 99.4268896],\n",
       "                {}\n",
       "            ).addTo(map_b2f8ec7000f643ae04c93bb9328976da);\n",
       "        \n",
       "    \n",
       "            var icon_31a008c1999928cccceaf2f3104d6430 = L.AwesomeMarkers.icon(\n",
       "                {&quot;extraClasses&quot;: &quot;fa-rotate-0&quot;, &quot;icon&quot;: &quot;info-sign&quot;, &quot;iconColor&quot;: &quot;white&quot;, &quot;markerColor&quot;: &quot;orange&quot;, &quot;prefix&quot;: &quot;glyphicon&quot;}\n",
       "            );\n",
       "            marker_df39c6b971b05798d93ead417ebb835d.setIcon(icon_31a008c1999928cccceaf2f3104d6430);\n",
       "        \n",
       "    \n",
       "        var popup_6058739747a6eab85cae8621579f5490 = L.popup({&quot;maxWidth&quot;: &quot;100%&quot;});\n",
       "\n",
       "        \n",
       "            \n",
       "                var html_b6fda0d95aef10b7a86be811350496bd = $(`&lt;div id=&quot;html_b6fda0d95aef10b7a86be811350496bd&quot; style=&quot;width: 100.0%; height: 100.0%;&quot;&gt;Hulu Sihapas: 1 kasus, Tingkat Kerawanan: Rawan&lt;/div&gt;`)[0];\n",
       "                popup_6058739747a6eab85cae8621579f5490.setContent(html_b6fda0d95aef10b7a86be811350496bd);\n",
       "            \n",
       "        \n",
       "\n",
       "        marker_df39c6b971b05798d93ead417ebb835d.bindPopup(popup_6058739747a6eab85cae8621579f5490)\n",
       "        ;\n",
       "\n",
       "        \n",
       "    \n",
       "    \n",
       "            var marker_da0892a9380dbee39f8d401306f607fe = L.marker(\n",
       "                [3.5685536, 98.7273622],\n",
       "                {}\n",
       "            ).addTo(map_b2f8ec7000f643ae04c93bb9328976da);\n",
       "        \n",
       "    \n",
       "            var icon_4f1e8f4d39bf1e63a320cf630312a3d8 = L.AwesomeMarkers.icon(\n",
       "                {&quot;extraClasses&quot;: &quot;fa-rotate-0&quot;, &quot;icon&quot;: &quot;info-sign&quot;, &quot;iconColor&quot;: &quot;white&quot;, &quot;markerColor&quot;: &quot;red&quot;, &quot;prefix&quot;: &quot;glyphicon&quot;}\n",
       "            );\n",
       "            marker_da0892a9380dbee39f8d401306f607fe.setIcon(icon_4f1e8f4d39bf1e63a320cf630312a3d8);\n",
       "        \n",
       "    \n",
       "        var popup_89214dc6b95c50569d6b0fa0b58c8dda = L.popup({&quot;maxWidth&quot;: &quot;100%&quot;});\n",
       "\n",
       "        \n",
       "            \n",
       "                var html_94bc9268f7d599f0e51a32a50ccba508 = $(`&lt;div id=&quot;html_94bc9268f7d599f0e51a32a50ccba508&quot; style=&quot;width: 100.0%; height: 100.0%;&quot;&gt;Padang Bolak: 1 kasus, Tingkat Kerawanan: Sangat Rawan&lt;/div&gt;`)[0];\n",
       "                popup_89214dc6b95c50569d6b0fa0b58c8dda.setContent(html_94bc9268f7d599f0e51a32a50ccba508);\n",
       "            \n",
       "        \n",
       "\n",
       "        marker_da0892a9380dbee39f8d401306f607fe.bindPopup(popup_89214dc6b95c50569d6b0fa0b58c8dda)\n",
       "        ;\n",
       "\n",
       "        \n",
       "    \n",
       "    \n",
       "            var marker_ebb9b5357dd4ea069f9e11e50fdad132 = L.marker(\n",
       "                [1.415091, 99.5576002],\n",
       "                {}\n",
       "            ).addTo(map_b2f8ec7000f643ae04c93bb9328976da);\n",
       "        \n",
       "    \n",
       "            var icon_5cd0ae08cad79968a42feb9d6f1506a0 = L.AwesomeMarkers.icon(\n",
       "                {&quot;extraClasses&quot;: &quot;fa-rotate-0&quot;, &quot;icon&quot;: &quot;info-sign&quot;, &quot;iconColor&quot;: &quot;white&quot;, &quot;markerColor&quot;: &quot;yellow&quot;, &quot;prefix&quot;: &quot;glyphicon&quot;}\n",
       "            );\n",
       "            marker_ebb9b5357dd4ea069f9e11e50fdad132.setIcon(icon_5cd0ae08cad79968a42feb9d6f1506a0);\n",
       "        \n",
       "    \n",
       "        var popup_0da37c6c94f34eb904b51abd32f050b5 = L.popup({&quot;maxWidth&quot;: &quot;100%&quot;});\n",
       "\n",
       "        \n",
       "            \n",
       "                var html_720b4ec68859040b2e33a5bcfacb8c14 = $(`&lt;div id=&quot;html_720b4ec68859040b2e33a5bcfacb8c14&quot; style=&quot;width: 100.0%; height: 100.0%;&quot;&gt;Padang Bolak Julu: 1 kasus, Tingkat Kerawanan: Berpotensi Rawan&lt;/div&gt;`)[0];\n",
       "                popup_0da37c6c94f34eb904b51abd32f050b5.setContent(html_720b4ec68859040b2e33a5bcfacb8c14);\n",
       "            \n",
       "        \n",
       "\n",
       "        marker_ebb9b5357dd4ea069f9e11e50fdad132.bindPopup(popup_0da37c6c94f34eb904b51abd32f050b5)\n",
       "        ;\n",
       "\n",
       "        \n",
       "    \n",
       "    \n",
       "            var marker_77dbc747d2bd2f12a4cbe21b3638d341 = L.marker(\n",
       "                [1.54001, 99.3234082],\n",
       "                {}\n",
       "            ).addTo(map_b2f8ec7000f643ae04c93bb9328976da);\n",
       "        \n",
       "    \n",
       "            var icon_e6efdc1b9652ea4fe789dc16959215c0 = L.AwesomeMarkers.icon(\n",
       "                {&quot;extraClasses&quot;: &quot;fa-rotate-0&quot;, &quot;icon&quot;: &quot;info-sign&quot;, &quot;iconColor&quot;: &quot;white&quot;, &quot;markerColor&quot;: &quot;orange&quot;, &quot;prefix&quot;: &quot;glyphicon&quot;}\n",
       "            );\n",
       "            marker_77dbc747d2bd2f12a4cbe21b3638d341.setIcon(icon_e6efdc1b9652ea4fe789dc16959215c0);\n",
       "        \n",
       "    \n",
       "        var popup_8ed9ee126a999786049b0ba6bc264647 = L.popup({&quot;maxWidth&quot;: &quot;100%&quot;});\n",
       "\n",
       "        \n",
       "            \n",
       "                var html_09a934cefef08b594d6e7264a5d09939 = $(`&lt;div id=&quot;html_09a934cefef08b594d6e7264a5d09939&quot; style=&quot;width: 100.0%; height: 100.0%;&quot;&gt;Padang Bolak Tenggara: 1 kasus, Tingkat Kerawanan: Rawan&lt;/div&gt;`)[0];\n",
       "                popup_8ed9ee126a999786049b0ba6bc264647.setContent(html_09a934cefef08b594d6e7264a5d09939);\n",
       "            \n",
       "        \n",
       "\n",
       "        marker_77dbc747d2bd2f12a4cbe21b3638d341.bindPopup(popup_8ed9ee126a999786049b0ba6bc264647)\n",
       "        ;\n",
       "\n",
       "        \n",
       "    \n",
       "    \n",
       "            var marker_2f2bace4f0e48e86b3a18079244f6ac4 = L.marker(\n",
       "                [1.4375683, 99.7032047],\n",
       "                {}\n",
       "            ).addTo(map_b2f8ec7000f643ae04c93bb9328976da);\n",
       "        \n",
       "    \n",
       "            var icon_2939d564760dca51bd62e7a159f37c20 = L.AwesomeMarkers.icon(\n",
       "                {&quot;extraClasses&quot;: &quot;fa-rotate-0&quot;, &quot;icon&quot;: &quot;info-sign&quot;, &quot;iconColor&quot;: &quot;white&quot;, &quot;markerColor&quot;: &quot;yellow&quot;, &quot;prefix&quot;: &quot;glyphicon&quot;}\n",
       "            );\n",
       "            marker_2f2bace4f0e48e86b3a18079244f6ac4.setIcon(icon_2939d564760dca51bd62e7a159f37c20);\n",
       "        \n",
       "    \n",
       "        var popup_265940c9ec0442f4ab7613e3a1973a3f = L.popup({&quot;maxWidth&quot;: &quot;100%&quot;});\n",
       "\n",
       "        \n",
       "            \n",
       "                var html_50e0c67eb24046b541ca71a20a3f2c49 = $(`&lt;div id=&quot;html_50e0c67eb24046b541ca71a20a3f2c49&quot; style=&quot;width: 100.0%; height: 100.0%;&quot;&gt;Portibi: 1 kasus, Tingkat Kerawanan: Berpotensi Rawan&lt;/div&gt;`)[0];\n",
       "                popup_265940c9ec0442f4ab7613e3a1973a3f.setContent(html_50e0c67eb24046b541ca71a20a3f2c49);\n",
       "            \n",
       "        \n",
       "\n",
       "        marker_2f2bace4f0e48e86b3a18079244f6ac4.bindPopup(popup_265940c9ec0442f4ab7613e3a1973a3f)\n",
       "        ;\n",
       "\n",
       "        \n",
       "    \n",
       "    \n",
       "            var marker_4449f3da3ba6aa8dc2ee7d8caddd3ba5 = L.marker(\n",
       "                [1.8957231, 99.7846397],\n",
       "                {}\n",
       "            ).addTo(map_b2f8ec7000f643ae04c93bb9328976da);\n",
       "        \n",
       "    \n",
       "            var icon_7b358f83ffd6a1f784758e17b216549a = L.AwesomeMarkers.icon(\n",
       "                {&quot;extraClasses&quot;: &quot;fa-rotate-0&quot;, &quot;icon&quot;: &quot;info-sign&quot;, &quot;iconColor&quot;: &quot;white&quot;, &quot;markerColor&quot;: &quot;orange&quot;, &quot;prefix&quot;: &quot;glyphicon&quot;}\n",
       "            );\n",
       "            marker_4449f3da3ba6aa8dc2ee7d8caddd3ba5.setIcon(icon_7b358f83ffd6a1f784758e17b216549a);\n",
       "        \n",
       "    \n",
       "        var popup_fbed7adf776b302d8683ea162c804ebb = L.popup({&quot;maxWidth&quot;: &quot;100%&quot;});\n",
       "\n",
       "        \n",
       "            \n",
       "                var html_db3d52609626c2b82aede2788a209475 = $(`&lt;div id=&quot;html_db3d52609626c2b82aede2788a209475&quot; style=&quot;width: 100.0%; height: 100.0%;&quot;&gt;Simangambat: 1 kasus, Tingkat Kerawanan: Rawan&lt;/div&gt;`)[0];\n",
       "                popup_fbed7adf776b302d8683ea162c804ebb.setContent(html_db3d52609626c2b82aede2788a209475);\n",
       "            \n",
       "        \n",
       "\n",
       "        marker_4449f3da3ba6aa8dc2ee7d8caddd3ba5.bindPopup(popup_fbed7adf776b302d8683ea162c804ebb)\n",
       "        ;\n",
       "\n",
       "        \n",
       "    \n",
       "    \n",
       "            var marker_2330c542ce4c07282f690f75c45b0d95 = L.marker(\n",
       "                [1.1896051, 99.99013],\n",
       "                {}\n",
       "            ).addTo(map_b2f8ec7000f643ae04c93bb9328976da);\n",
       "        \n",
       "    \n",
       "            var icon_7772ef3b0d0999ea252de01a25f912ba = L.AwesomeMarkers.icon(\n",
       "                {&quot;extraClasses&quot;: &quot;fa-rotate-0&quot;, &quot;icon&quot;: &quot;info-sign&quot;, &quot;iconColor&quot;: &quot;white&quot;, &quot;markerColor&quot;: &quot;red&quot;, &quot;prefix&quot;: &quot;glyphicon&quot;}\n",
       "            );\n",
       "            marker_2330c542ce4c07282f690f75c45b0d95.setIcon(icon_7772ef3b0d0999ea252de01a25f912ba);\n",
       "        \n",
       "    \n",
       "        var popup_8fa0db6dfbd78921123e34c0b4cff2b9 = L.popup({&quot;maxWidth&quot;: &quot;100%&quot;});\n",
       "\n",
       "        \n",
       "            \n",
       "                var html_0ca853f20ff0dec23fcac16c77186b78 = $(`&lt;div id=&quot;html_0ca853f20ff0dec23fcac16c77186b78&quot; style=&quot;width: 100.0%; height: 100.0%;&quot;&gt;Ujung Batu: 1 kasus, Tingkat Kerawanan: Sangat Rawan&lt;/div&gt;`)[0];\n",
       "                popup_8fa0db6dfbd78921123e34c0b4cff2b9.setContent(html_0ca853f20ff0dec23fcac16c77186b78);\n",
       "            \n",
       "        \n",
       "\n",
       "        marker_2330c542ce4c07282f690f75c45b0d95.bindPopup(popup_8fa0db6dfbd78921123e34c0b4cff2b9)\n",
       "        ;\n",
       "\n",
       "        \n",
       "    \n",
       "&lt;/script&gt;\n",
       "&lt;/html&gt;\" style=\"position:absolute;width:100%;height:100%;left:0;top:0;border:none !important;\" allowfullscreen webkitallowfullscreen mozallowfullscreen></iframe></div></div>"
      ],
      "text/plain": [
       "<folium.folium.Map at 0x24a07200990>"
      ]
     },
     "metadata": {},
     "output_type": "display_data"
    },
    {
     "name": "stdout",
     "output_type": "stream",
     "text": [
      "Peta untuk tahun 2020\n"
     ]
    },
    {
     "name": "stderr",
     "output_type": "stream",
     "text": [
      "C:\\Users\\User\\AppData\\Local\\Temp\\ipykernel_2092\\3736326453.py:108: UserWarning:\n",
      "\n",
      "color argument of Icon should be one of: {'black', 'blue', 'white', 'pink', 'darkblue', 'purple', 'darkred', 'orange', 'green', 'lightred', 'cadetblue', 'lightgray', 'lightgreen', 'beige', 'gray', 'darkgreen', 'red', 'lightblue', 'darkpurple'}.\n",
      "\n"
     ]
    },
    {
     "data": {
      "text/html": [
       "<div style=\"width:100%;\"><div style=\"position:relative;width:100%;height:0;padding-bottom:60%;\"><span style=\"color:#565656\">Make this Notebook Trusted to load map: File -> Trust Notebook</span><iframe srcdoc=\"&lt;!DOCTYPE html&gt;\n",
       "&lt;html&gt;\n",
       "&lt;head&gt;\n",
       "    \n",
       "    &lt;meta http-equiv=&quot;content-type&quot; content=&quot;text/html; charset=UTF-8&quot; /&gt;\n",
       "    \n",
       "        &lt;script&gt;\n",
       "            L_NO_TOUCH = false;\n",
       "            L_DISABLE_3D = false;\n",
       "        &lt;/script&gt;\n",
       "    \n",
       "    &lt;style&gt;html, body {width: 100%;height: 100%;margin: 0;padding: 0;}&lt;/style&gt;\n",
       "    &lt;style&gt;#map {position:absolute;top:0;bottom:0;right:0;left:0;}&lt;/style&gt;\n",
       "    &lt;script src=&quot;https://cdn.jsdelivr.net/npm/leaflet@1.9.3/dist/leaflet.js&quot;&gt;&lt;/script&gt;\n",
       "    &lt;script src=&quot;https://code.jquery.com/jquery-3.7.1.min.js&quot;&gt;&lt;/script&gt;\n",
       "    &lt;script src=&quot;https://cdn.jsdelivr.net/npm/bootstrap@5.2.2/dist/js/bootstrap.bundle.min.js&quot;&gt;&lt;/script&gt;\n",
       "    &lt;script src=&quot;https://cdnjs.cloudflare.com/ajax/libs/Leaflet.awesome-markers/2.0.2/leaflet.awesome-markers.js&quot;&gt;&lt;/script&gt;\n",
       "    &lt;link rel=&quot;stylesheet&quot; href=&quot;https://cdn.jsdelivr.net/npm/leaflet@1.9.3/dist/leaflet.css&quot;/&gt;\n",
       "    &lt;link rel=&quot;stylesheet&quot; href=&quot;https://cdn.jsdelivr.net/npm/bootstrap@5.2.2/dist/css/bootstrap.min.css&quot;/&gt;\n",
       "    &lt;link rel=&quot;stylesheet&quot; href=&quot;https://netdna.bootstrapcdn.com/bootstrap/3.0.0/css/bootstrap.min.css&quot;/&gt;\n",
       "    &lt;link rel=&quot;stylesheet&quot; href=&quot;https://cdn.jsdelivr.net/npm/@fortawesome/fontawesome-free@6.2.0/css/all.min.css&quot;/&gt;\n",
       "    &lt;link rel=&quot;stylesheet&quot; href=&quot;https://cdnjs.cloudflare.com/ajax/libs/Leaflet.awesome-markers/2.0.2/leaflet.awesome-markers.css&quot;/&gt;\n",
       "    &lt;link rel=&quot;stylesheet&quot; href=&quot;https://cdn.jsdelivr.net/gh/python-visualization/folium/folium/templates/leaflet.awesome.rotate.min.css&quot;/&gt;\n",
       "    \n",
       "            &lt;meta name=&quot;viewport&quot; content=&quot;width=device-width,\n",
       "                initial-scale=1.0, maximum-scale=1.0, user-scalable=no&quot; /&gt;\n",
       "            &lt;style&gt;\n",
       "                #map_59ce9920a5059e48ab6d5764f0fc2d5a {\n",
       "                    position: relative;\n",
       "                    width: 100.0%;\n",
       "                    height: 100.0%;\n",
       "                    left: 0.0%;\n",
       "                    top: 0.0%;\n",
       "                }\n",
       "                .leaflet-container { font-size: 1rem; }\n",
       "            &lt;/style&gt;\n",
       "        \n",
       "&lt;/head&gt;\n",
       "&lt;body&gt;\n",
       "    \n",
       "    \n",
       "            &lt;div class=&quot;folium-map&quot; id=&quot;map_59ce9920a5059e48ab6d5764f0fc2d5a&quot; &gt;&lt;/div&gt;\n",
       "        \n",
       "&lt;/body&gt;\n",
       "&lt;script&gt;\n",
       "    \n",
       "    \n",
       "            var map_59ce9920a5059e48ab6d5764f0fc2d5a = L.map(\n",
       "                &quot;map_59ce9920a5059e48ab6d5764f0fc2d5a&quot;,\n",
       "                {\n",
       "                    center: [1.4099, 99.7092],\n",
       "                    crs: L.CRS.EPSG3857,\n",
       "                    zoom: 10,\n",
       "                    zoomControl: true,\n",
       "                    preferCanvas: false,\n",
       "                }\n",
       "            );\n",
       "\n",
       "            \n",
       "\n",
       "        \n",
       "    \n",
       "            var tile_layer_90a222e9b0a947495d7b399d2d15ad63 = L.tileLayer(\n",
       "                &quot;https://tile.openstreetmap.org/{z}/{x}/{y}.png&quot;,\n",
       "                {&quot;attribution&quot;: &quot;\\u0026copy; \\u003ca href=\\&quot;https://www.openstreetmap.org/copyright\\&quot;\\u003eOpenStreetMap\\u003c/a\\u003e contributors&quot;, &quot;detectRetina&quot;: false, &quot;maxNativeZoom&quot;: 19, &quot;maxZoom&quot;: 19, &quot;minZoom&quot;: 0, &quot;noWrap&quot;: false, &quot;opacity&quot;: 1, &quot;subdomains&quot;: &quot;abc&quot;, &quot;tms&quot;: false}\n",
       "            );\n",
       "        \n",
       "    \n",
       "            tile_layer_90a222e9b0a947495d7b399d2d15ad63.addTo(map_59ce9920a5059e48ab6d5764f0fc2d5a);\n",
       "        \n",
       "    \n",
       "            var marker_40f84643c4a905f7354c201e3481698b = L.marker(\n",
       "                [1.3166932, 99.4458336],\n",
       "                {}\n",
       "            ).addTo(map_59ce9920a5059e48ab6d5764f0fc2d5a);\n",
       "        \n",
       "    \n",
       "            var icon_777a5949a43b5a5dd4fcb7a35f52c323 = L.AwesomeMarkers.icon(\n",
       "                {&quot;extraClasses&quot;: &quot;fa-rotate-0&quot;, &quot;icon&quot;: &quot;info-sign&quot;, &quot;iconColor&quot;: &quot;white&quot;, &quot;markerColor&quot;: &quot;red&quot;, &quot;prefix&quot;: &quot;glyphicon&quot;}\n",
       "            );\n",
       "            marker_40f84643c4a905f7354c201e3481698b.setIcon(icon_777a5949a43b5a5dd4fcb7a35f52c323);\n",
       "        \n",
       "    \n",
       "        var popup_1a1538b97386950ad0210c2d183770a3 = L.popup({&quot;maxWidth&quot;: &quot;100%&quot;});\n",
       "\n",
       "        \n",
       "            \n",
       "                var html_354c1ece81730efd3d7b1b4b5893a1c4 = $(`&lt;div id=&quot;html_354c1ece81730efd3d7b1b4b5893a1c4&quot; style=&quot;width: 100.0%; height: 100.0%;&quot;&gt;Batang Onang: 1 kasus, Tingkat Kerawanan: Sangat Rawan&lt;/div&gt;`)[0];\n",
       "                popup_1a1538b97386950ad0210c2d183770a3.setContent(html_354c1ece81730efd3d7b1b4b5893a1c4);\n",
       "            \n",
       "        \n",
       "\n",
       "        marker_40f84643c4a905f7354c201e3481698b.bindPopup(popup_1a1538b97386950ad0210c2d183770a3)\n",
       "        ;\n",
       "\n",
       "        \n",
       "    \n",
       "    \n",
       "            var marker_5505fa9d935fd690499c8f7d46331ca2 = L.marker(\n",
       "                [1.6577, 98.5525],\n",
       "                {}\n",
       "            ).addTo(map_59ce9920a5059e48ab6d5764f0fc2d5a);\n",
       "        \n",
       "    \n",
       "            var icon_6a085b8da803cf48d291f29c78f80a88 = L.AwesomeMarkers.icon(\n",
       "                {&quot;extraClasses&quot;: &quot;fa-rotate-0&quot;, &quot;icon&quot;: &quot;info-sign&quot;, &quot;iconColor&quot;: &quot;white&quot;, &quot;markerColor&quot;: &quot;orange&quot;, &quot;prefix&quot;: &quot;glyphicon&quot;}\n",
       "            );\n",
       "            marker_5505fa9d935fd690499c8f7d46331ca2.setIcon(icon_6a085b8da803cf48d291f29c78f80a88);\n",
       "        \n",
       "    \n",
       "        var popup_b12ea2be001a93b5dd40626b6109e82c = L.popup({&quot;maxWidth&quot;: &quot;100%&quot;});\n",
       "\n",
       "        \n",
       "            \n",
       "                var html_89c8ce797a7342b4ba04ca0a73671d49 = $(`&lt;div id=&quot;html_89c8ce797a7342b4ba04ca0a73671d49&quot; style=&quot;width: 100.0%; height: 100.0%;&quot;&gt;Dolok: 1 kasus, Tingkat Kerawanan: Rawan&lt;/div&gt;`)[0];\n",
       "                popup_b12ea2be001a93b5dd40626b6109e82c.setContent(html_89c8ce797a7342b4ba04ca0a73671d49);\n",
       "            \n",
       "        \n",
       "\n",
       "        marker_5505fa9d935fd690499c8f7d46331ca2.bindPopup(popup_b12ea2be001a93b5dd40626b6109e82c)\n",
       "        ;\n",
       "\n",
       "        \n",
       "    \n",
       "    \n",
       "            var marker_4b4138904706cad95598aeeb21770872 = L.marker(\n",
       "                [1.9700433, 99.5356889],\n",
       "                {}\n",
       "            ).addTo(map_59ce9920a5059e48ab6d5764f0fc2d5a);\n",
       "        \n",
       "    \n",
       "            var icon_a7e6685613645bc54b2fffafe89f2ab9 = L.AwesomeMarkers.icon(\n",
       "                {&quot;extraClasses&quot;: &quot;fa-rotate-0&quot;, &quot;icon&quot;: &quot;info-sign&quot;, &quot;iconColor&quot;: &quot;white&quot;, &quot;markerColor&quot;: &quot;red&quot;, &quot;prefix&quot;: &quot;glyphicon&quot;}\n",
       "            );\n",
       "            marker_4b4138904706cad95598aeeb21770872.setIcon(icon_a7e6685613645bc54b2fffafe89f2ab9);\n",
       "        \n",
       "    \n",
       "        var popup_1f497a0a084a0c0d89b3f146f20d243d = L.popup({&quot;maxWidth&quot;: &quot;100%&quot;});\n",
       "\n",
       "        \n",
       "            \n",
       "                var html_858a9bf1c9e95a353a384f549c82824c = $(`&lt;div id=&quot;html_858a9bf1c9e95a353a384f549c82824c&quot; style=&quot;width: 100.0%; height: 100.0%;&quot;&gt;Dolok Sigompulon: 1 kasus, Tingkat Kerawanan: Sangat Rawan&lt;/div&gt;`)[0];\n",
       "                popup_1f497a0a084a0c0d89b3f146f20d243d.setContent(html_858a9bf1c9e95a353a384f549c82824c);\n",
       "            \n",
       "        \n",
       "\n",
       "        marker_4b4138904706cad95598aeeb21770872.bindPopup(popup_1f497a0a084a0c0d89b3f146f20d243d)\n",
       "        ;\n",
       "\n",
       "        \n",
       "    \n",
       "    \n",
       "            var marker_41a065a07ae4c365e24745b4fe1a3bc9 = L.marker(\n",
       "                [1.6514398, 99.6593041],\n",
       "                {}\n",
       "            ).addTo(map_59ce9920a5059e48ab6d5764f0fc2d5a);\n",
       "        \n",
       "    \n",
       "            var icon_7e711ab478ba35e4724491a2fbde6655 = L.AwesomeMarkers.icon(\n",
       "                {&quot;extraClasses&quot;: &quot;fa-rotate-0&quot;, &quot;icon&quot;: &quot;info-sign&quot;, &quot;iconColor&quot;: &quot;white&quot;, &quot;markerColor&quot;: &quot;red&quot;, &quot;prefix&quot;: &quot;glyphicon&quot;}\n",
       "            );\n",
       "            marker_41a065a07ae4c365e24745b4fe1a3bc9.setIcon(icon_7e711ab478ba35e4724491a2fbde6655);\n",
       "        \n",
       "    \n",
       "        var popup_2375843c2aecac1540fa32458c94da33 = L.popup({&quot;maxWidth&quot;: &quot;100%&quot;});\n",
       "\n",
       "        \n",
       "            \n",
       "                var html_85a6b96b4ce9620524a51f72f5a8fad1 = $(`&lt;div id=&quot;html_85a6b96b4ce9620524a51f72f5a8fad1&quot; style=&quot;width: 100.0%; height: 100.0%;&quot;&gt;Halongonan: 1 kasus, Tingkat Kerawanan: Sangat Rawan&lt;/div&gt;`)[0];\n",
       "                popup_2375843c2aecac1540fa32458c94da33.setContent(html_85a6b96b4ce9620524a51f72f5a8fad1);\n",
       "            \n",
       "        \n",
       "\n",
       "        marker_41a065a07ae4c365e24745b4fe1a3bc9.bindPopup(popup_2375843c2aecac1540fa32458c94da33)\n",
       "        ;\n",
       "\n",
       "        \n",
       "    \n",
       "    \n",
       "            var marker_e3593a2acdf9b26d93af494b278b19aa = L.marker(\n",
       "                [1.6373489, 99.4558203],\n",
       "                {}\n",
       "            ).addTo(map_59ce9920a5059e48ab6d5764f0fc2d5a);\n",
       "        \n",
       "    \n",
       "            var icon_9a4a9143294dfc0a60af0e1695ca0588 = L.AwesomeMarkers.icon(\n",
       "                {&quot;extraClasses&quot;: &quot;fa-rotate-0&quot;, &quot;icon&quot;: &quot;info-sign&quot;, &quot;iconColor&quot;: &quot;white&quot;, &quot;markerColor&quot;: &quot;red&quot;, &quot;prefix&quot;: &quot;glyphicon&quot;}\n",
       "            );\n",
       "            marker_e3593a2acdf9b26d93af494b278b19aa.setIcon(icon_9a4a9143294dfc0a60af0e1695ca0588);\n",
       "        \n",
       "    \n",
       "        var popup_537ad9815d1b3e71a92844bdfc5eb5d7 = L.popup({&quot;maxWidth&quot;: &quot;100%&quot;});\n",
       "\n",
       "        \n",
       "            \n",
       "                var html_a6dc346a2193fed7fd6ff9c073bd12f9 = $(`&lt;div id=&quot;html_a6dc346a2193fed7fd6ff9c073bd12f9&quot; style=&quot;width: 100.0%; height: 100.0%;&quot;&gt;Halongonan Timur: 1 kasus, Tingkat Kerawanan: Sangat Rawan&lt;/div&gt;`)[0];\n",
       "                popup_537ad9815d1b3e71a92844bdfc5eb5d7.setContent(html_a6dc346a2193fed7fd6ff9c073bd12f9);\n",
       "            \n",
       "        \n",
       "\n",
       "        marker_e3593a2acdf9b26d93af494b278b19aa.bindPopup(popup_537ad9815d1b3e71a92844bdfc5eb5d7)\n",
       "        ;\n",
       "\n",
       "        \n",
       "    \n",
       "    \n",
       "            var marker_6269a4abe6577be6a9056c0c5ac9becf = L.marker(\n",
       "                [1.458091, 99.4268896],\n",
       "                {}\n",
       "            ).addTo(map_59ce9920a5059e48ab6d5764f0fc2d5a);\n",
       "        \n",
       "    \n",
       "            var icon_c40d739fbe1f5a3131bcf98c59555331 = L.AwesomeMarkers.icon(\n",
       "                {&quot;extraClasses&quot;: &quot;fa-rotate-0&quot;, &quot;icon&quot;: &quot;info-sign&quot;, &quot;iconColor&quot;: &quot;white&quot;, &quot;markerColor&quot;: &quot;red&quot;, &quot;prefix&quot;: &quot;glyphicon&quot;}\n",
       "            );\n",
       "            marker_6269a4abe6577be6a9056c0c5ac9becf.setIcon(icon_c40d739fbe1f5a3131bcf98c59555331);\n",
       "        \n",
       "    \n",
       "        var popup_135abacd663099e1e5b988cc12a8701d = L.popup({&quot;maxWidth&quot;: &quot;100%&quot;});\n",
       "\n",
       "        \n",
       "            \n",
       "                var html_f79900c3093abf421db014c24851415f = $(`&lt;div id=&quot;html_f79900c3093abf421db014c24851415f&quot; style=&quot;width: 100.0%; height: 100.0%;&quot;&gt;Hulu Sihapas: 1 kasus, Tingkat Kerawanan: Sangat Rawan&lt;/div&gt;`)[0];\n",
       "                popup_135abacd663099e1e5b988cc12a8701d.setContent(html_f79900c3093abf421db014c24851415f);\n",
       "            \n",
       "        \n",
       "\n",
       "        marker_6269a4abe6577be6a9056c0c5ac9becf.bindPopup(popup_135abacd663099e1e5b988cc12a8701d)\n",
       "        ;\n",
       "\n",
       "        \n",
       "    \n",
       "    \n",
       "            var marker_6e16b882242ab382879675854ea0e408 = L.marker(\n",
       "                [3.5685536, 98.7273622],\n",
       "                {}\n",
       "            ).addTo(map_59ce9920a5059e48ab6d5764f0fc2d5a);\n",
       "        \n",
       "    \n",
       "            var icon_9c8230e0e6399c2efbe7ce3bdd32d6d1 = L.AwesomeMarkers.icon(\n",
       "                {&quot;extraClasses&quot;: &quot;fa-rotate-0&quot;, &quot;icon&quot;: &quot;info-sign&quot;, &quot;iconColor&quot;: &quot;white&quot;, &quot;markerColor&quot;: &quot;red&quot;, &quot;prefix&quot;: &quot;glyphicon&quot;}\n",
       "            );\n",
       "            marker_6e16b882242ab382879675854ea0e408.setIcon(icon_9c8230e0e6399c2efbe7ce3bdd32d6d1);\n",
       "        \n",
       "    \n",
       "        var popup_9a2b0c9dc52cac9cabb546b96f009818 = L.popup({&quot;maxWidth&quot;: &quot;100%&quot;});\n",
       "\n",
       "        \n",
       "            \n",
       "                var html_4a498c493bf5b4577326ff2f775a79e5 = $(`&lt;div id=&quot;html_4a498c493bf5b4577326ff2f775a79e5&quot; style=&quot;width: 100.0%; height: 100.0%;&quot;&gt;Padang Bolak: 1 kasus, Tingkat Kerawanan: Sangat Rawan&lt;/div&gt;`)[0];\n",
       "                popup_9a2b0c9dc52cac9cabb546b96f009818.setContent(html_4a498c493bf5b4577326ff2f775a79e5);\n",
       "            \n",
       "        \n",
       "\n",
       "        marker_6e16b882242ab382879675854ea0e408.bindPopup(popup_9a2b0c9dc52cac9cabb546b96f009818)\n",
       "        ;\n",
       "\n",
       "        \n",
       "    \n",
       "    \n",
       "            var marker_935b31e52fc2906d14e7a5297eb6f4b8 = L.marker(\n",
       "                [1.415091, 99.5576002],\n",
       "                {}\n",
       "            ).addTo(map_59ce9920a5059e48ab6d5764f0fc2d5a);\n",
       "        \n",
       "    \n",
       "            var icon_d53f514491facc0a547aa5524c16518e = L.AwesomeMarkers.icon(\n",
       "                {&quot;extraClasses&quot;: &quot;fa-rotate-0&quot;, &quot;icon&quot;: &quot;info-sign&quot;, &quot;iconColor&quot;: &quot;white&quot;, &quot;markerColor&quot;: &quot;green&quot;, &quot;prefix&quot;: &quot;glyphicon&quot;}\n",
       "            );\n",
       "            marker_935b31e52fc2906d14e7a5297eb6f4b8.setIcon(icon_d53f514491facc0a547aa5524c16518e);\n",
       "        \n",
       "    \n",
       "        var popup_335398045a88d3f031e3ecb2e9bcc122 = L.popup({&quot;maxWidth&quot;: &quot;100%&quot;});\n",
       "\n",
       "        \n",
       "            \n",
       "                var html_6994fedf307ba97a532abb7c17e78653 = $(`&lt;div id=&quot;html_6994fedf307ba97a532abb7c17e78653&quot; style=&quot;width: 100.0%; height: 100.0%;&quot;&gt;Padang Bolak Julu: 1 kasus, Tingkat Kerawanan: Aman&lt;/div&gt;`)[0];\n",
       "                popup_335398045a88d3f031e3ecb2e9bcc122.setContent(html_6994fedf307ba97a532abb7c17e78653);\n",
       "            \n",
       "        \n",
       "\n",
       "        marker_935b31e52fc2906d14e7a5297eb6f4b8.bindPopup(popup_335398045a88d3f031e3ecb2e9bcc122)\n",
       "        ;\n",
       "\n",
       "        \n",
       "    \n",
       "    \n",
       "            var marker_e1cbef0d63b921916c138acd3024b066 = L.marker(\n",
       "                [1.54001, 99.3234082],\n",
       "                {}\n",
       "            ).addTo(map_59ce9920a5059e48ab6d5764f0fc2d5a);\n",
       "        \n",
       "    \n",
       "            var icon_431573a28aa75287db252923d81828f1 = L.AwesomeMarkers.icon(\n",
       "                {&quot;extraClasses&quot;: &quot;fa-rotate-0&quot;, &quot;icon&quot;: &quot;info-sign&quot;, &quot;iconColor&quot;: &quot;white&quot;, &quot;markerColor&quot;: &quot;green&quot;, &quot;prefix&quot;: &quot;glyphicon&quot;}\n",
       "            );\n",
       "            marker_e1cbef0d63b921916c138acd3024b066.setIcon(icon_431573a28aa75287db252923d81828f1);\n",
       "        \n",
       "    \n",
       "        var popup_a81195e20ef98ecde72563f6477a61f7 = L.popup({&quot;maxWidth&quot;: &quot;100%&quot;});\n",
       "\n",
       "        \n",
       "            \n",
       "                var html_1c4e9efd455c4af433d90c61c3d3034e = $(`&lt;div id=&quot;html_1c4e9efd455c4af433d90c61c3d3034e&quot; style=&quot;width: 100.0%; height: 100.0%;&quot;&gt;Padang Bolak Tenggara: 1 kasus, Tingkat Kerawanan: Aman&lt;/div&gt;`)[0];\n",
       "                popup_a81195e20ef98ecde72563f6477a61f7.setContent(html_1c4e9efd455c4af433d90c61c3d3034e);\n",
       "            \n",
       "        \n",
       "\n",
       "        marker_e1cbef0d63b921916c138acd3024b066.bindPopup(popup_a81195e20ef98ecde72563f6477a61f7)\n",
       "        ;\n",
       "\n",
       "        \n",
       "    \n",
       "    \n",
       "            var marker_f56019db7f17e055170780e6aed42aad = L.marker(\n",
       "                [1.4375683, 99.7032047],\n",
       "                {}\n",
       "            ).addTo(map_59ce9920a5059e48ab6d5764f0fc2d5a);\n",
       "        \n",
       "    \n",
       "            var icon_35f284c85ad9fbb9487ae7a76ffdbf0f = L.AwesomeMarkers.icon(\n",
       "                {&quot;extraClasses&quot;: &quot;fa-rotate-0&quot;, &quot;icon&quot;: &quot;info-sign&quot;, &quot;iconColor&quot;: &quot;white&quot;, &quot;markerColor&quot;: &quot;yellow&quot;, &quot;prefix&quot;: &quot;glyphicon&quot;}\n",
       "            );\n",
       "            marker_f56019db7f17e055170780e6aed42aad.setIcon(icon_35f284c85ad9fbb9487ae7a76ffdbf0f);\n",
       "        \n",
       "    \n",
       "        var popup_d11a4ae6a17b4c9c6d1d4807a1d16d1d = L.popup({&quot;maxWidth&quot;: &quot;100%&quot;});\n",
       "\n",
       "        \n",
       "            \n",
       "                var html_bb97ff4be30588eef73fc69c9670d3b5 = $(`&lt;div id=&quot;html_bb97ff4be30588eef73fc69c9670d3b5&quot; style=&quot;width: 100.0%; height: 100.0%;&quot;&gt;Portibi: 1 kasus, Tingkat Kerawanan: Berpotensi Rawan&lt;/div&gt;`)[0];\n",
       "                popup_d11a4ae6a17b4c9c6d1d4807a1d16d1d.setContent(html_bb97ff4be30588eef73fc69c9670d3b5);\n",
       "            \n",
       "        \n",
       "\n",
       "        marker_f56019db7f17e055170780e6aed42aad.bindPopup(popup_d11a4ae6a17b4c9c6d1d4807a1d16d1d)\n",
       "        ;\n",
       "\n",
       "        \n",
       "    \n",
       "    \n",
       "            var marker_d9a73779cb36deecaf67ba33df3c68d8 = L.marker(\n",
       "                [1.8957231, 99.7846397],\n",
       "                {}\n",
       "            ).addTo(map_59ce9920a5059e48ab6d5764f0fc2d5a);\n",
       "        \n",
       "    \n",
       "            var icon_2dd24c021f052951a77f0b4b4da53919 = L.AwesomeMarkers.icon(\n",
       "                {&quot;extraClasses&quot;: &quot;fa-rotate-0&quot;, &quot;icon&quot;: &quot;info-sign&quot;, &quot;iconColor&quot;: &quot;white&quot;, &quot;markerColor&quot;: &quot;orange&quot;, &quot;prefix&quot;: &quot;glyphicon&quot;}\n",
       "            );\n",
       "            marker_d9a73779cb36deecaf67ba33df3c68d8.setIcon(icon_2dd24c021f052951a77f0b4b4da53919);\n",
       "        \n",
       "    \n",
       "        var popup_be1e5072e5076bdf62f9e8d3dceac95a = L.popup({&quot;maxWidth&quot;: &quot;100%&quot;});\n",
       "\n",
       "        \n",
       "            \n",
       "                var html_4aae0e6c585c3c6997578a9ba97e1bf6 = $(`&lt;div id=&quot;html_4aae0e6c585c3c6997578a9ba97e1bf6&quot; style=&quot;width: 100.0%; height: 100.0%;&quot;&gt;Simangambat: 1 kasus, Tingkat Kerawanan: Rawan&lt;/div&gt;`)[0];\n",
       "                popup_be1e5072e5076bdf62f9e8d3dceac95a.setContent(html_4aae0e6c585c3c6997578a9ba97e1bf6);\n",
       "            \n",
       "        \n",
       "\n",
       "        marker_d9a73779cb36deecaf67ba33df3c68d8.bindPopup(popup_be1e5072e5076bdf62f9e8d3dceac95a)\n",
       "        ;\n",
       "\n",
       "        \n",
       "    \n",
       "    \n",
       "            var marker_a58c19475837da3fc92affc59f936c5b = L.marker(\n",
       "                [1.1896051, 99.99013],\n",
       "                {}\n",
       "            ).addTo(map_59ce9920a5059e48ab6d5764f0fc2d5a);\n",
       "        \n",
       "    \n",
       "            var icon_744ba7f904d2ae73d709bfc878597fa3 = L.AwesomeMarkers.icon(\n",
       "                {&quot;extraClasses&quot;: &quot;fa-rotate-0&quot;, &quot;icon&quot;: &quot;info-sign&quot;, &quot;iconColor&quot;: &quot;white&quot;, &quot;markerColor&quot;: &quot;yellow&quot;, &quot;prefix&quot;: &quot;glyphicon&quot;}\n",
       "            );\n",
       "            marker_a58c19475837da3fc92affc59f936c5b.setIcon(icon_744ba7f904d2ae73d709bfc878597fa3);\n",
       "        \n",
       "    \n",
       "        var popup_e5f3095faedfff897af797bdd2495c54 = L.popup({&quot;maxWidth&quot;: &quot;100%&quot;});\n",
       "\n",
       "        \n",
       "            \n",
       "                var html_e0e347a820e1ee311b7ec5a70761ee4b = $(`&lt;div id=&quot;html_e0e347a820e1ee311b7ec5a70761ee4b&quot; style=&quot;width: 100.0%; height: 100.0%;&quot;&gt;Ujung Batu: 1 kasus, Tingkat Kerawanan: Berpotensi Rawan&lt;/div&gt;`)[0];\n",
       "                popup_e5f3095faedfff897af797bdd2495c54.setContent(html_e0e347a820e1ee311b7ec5a70761ee4b);\n",
       "            \n",
       "        \n",
       "\n",
       "        marker_a58c19475837da3fc92affc59f936c5b.bindPopup(popup_e5f3095faedfff897af797bdd2495c54)\n",
       "        ;\n",
       "\n",
       "        \n",
       "    \n",
       "&lt;/script&gt;\n",
       "&lt;/html&gt;\" style=\"position:absolute;width:100%;height:100%;left:0;top:0;border:none !important;\" allowfullscreen webkitallowfullscreen mozallowfullscreen></iframe></div></div>"
      ],
      "text/plain": [
       "<folium.folium.Map at 0x24a0c821050>"
      ]
     },
     "metadata": {},
     "output_type": "display_data"
    },
    {
     "name": "stdout",
     "output_type": "stream",
     "text": [
      "Peta untuk tahun 2021\n"
     ]
    },
    {
     "name": "stderr",
     "output_type": "stream",
     "text": [
      "C:\\Users\\User\\AppData\\Local\\Temp\\ipykernel_2092\\3736326453.py:108: UserWarning:\n",
      "\n",
      "color argument of Icon should be one of: {'black', 'blue', 'white', 'pink', 'darkblue', 'purple', 'darkred', 'orange', 'green', 'lightred', 'cadetblue', 'lightgray', 'lightgreen', 'beige', 'gray', 'darkgreen', 'red', 'lightblue', 'darkpurple'}.\n",
      "\n"
     ]
    },
    {
     "data": {
      "text/html": [
       "<div style=\"width:100%;\"><div style=\"position:relative;width:100%;height:0;padding-bottom:60%;\"><span style=\"color:#565656\">Make this Notebook Trusted to load map: File -> Trust Notebook</span><iframe srcdoc=\"&lt;!DOCTYPE html&gt;\n",
       "&lt;html&gt;\n",
       "&lt;head&gt;\n",
       "    \n",
       "    &lt;meta http-equiv=&quot;content-type&quot; content=&quot;text/html; charset=UTF-8&quot; /&gt;\n",
       "    \n",
       "        &lt;script&gt;\n",
       "            L_NO_TOUCH = false;\n",
       "            L_DISABLE_3D = false;\n",
       "        &lt;/script&gt;\n",
       "    \n",
       "    &lt;style&gt;html, body {width: 100%;height: 100%;margin: 0;padding: 0;}&lt;/style&gt;\n",
       "    &lt;style&gt;#map {position:absolute;top:0;bottom:0;right:0;left:0;}&lt;/style&gt;\n",
       "    &lt;script src=&quot;https://cdn.jsdelivr.net/npm/leaflet@1.9.3/dist/leaflet.js&quot;&gt;&lt;/script&gt;\n",
       "    &lt;script src=&quot;https://code.jquery.com/jquery-3.7.1.min.js&quot;&gt;&lt;/script&gt;\n",
       "    &lt;script src=&quot;https://cdn.jsdelivr.net/npm/bootstrap@5.2.2/dist/js/bootstrap.bundle.min.js&quot;&gt;&lt;/script&gt;\n",
       "    &lt;script src=&quot;https://cdnjs.cloudflare.com/ajax/libs/Leaflet.awesome-markers/2.0.2/leaflet.awesome-markers.js&quot;&gt;&lt;/script&gt;\n",
       "    &lt;link rel=&quot;stylesheet&quot; href=&quot;https://cdn.jsdelivr.net/npm/leaflet@1.9.3/dist/leaflet.css&quot;/&gt;\n",
       "    &lt;link rel=&quot;stylesheet&quot; href=&quot;https://cdn.jsdelivr.net/npm/bootstrap@5.2.2/dist/css/bootstrap.min.css&quot;/&gt;\n",
       "    &lt;link rel=&quot;stylesheet&quot; href=&quot;https://netdna.bootstrapcdn.com/bootstrap/3.0.0/css/bootstrap.min.css&quot;/&gt;\n",
       "    &lt;link rel=&quot;stylesheet&quot; href=&quot;https://cdn.jsdelivr.net/npm/@fortawesome/fontawesome-free@6.2.0/css/all.min.css&quot;/&gt;\n",
       "    &lt;link rel=&quot;stylesheet&quot; href=&quot;https://cdnjs.cloudflare.com/ajax/libs/Leaflet.awesome-markers/2.0.2/leaflet.awesome-markers.css&quot;/&gt;\n",
       "    &lt;link rel=&quot;stylesheet&quot; href=&quot;https://cdn.jsdelivr.net/gh/python-visualization/folium/folium/templates/leaflet.awesome.rotate.min.css&quot;/&gt;\n",
       "    \n",
       "            &lt;meta name=&quot;viewport&quot; content=&quot;width=device-width,\n",
       "                initial-scale=1.0, maximum-scale=1.0, user-scalable=no&quot; /&gt;\n",
       "            &lt;style&gt;\n",
       "                #map_4237822ab039fd9ccdb45d10925c550a {\n",
       "                    position: relative;\n",
       "                    width: 100.0%;\n",
       "                    height: 100.0%;\n",
       "                    left: 0.0%;\n",
       "                    top: 0.0%;\n",
       "                }\n",
       "                .leaflet-container { font-size: 1rem; }\n",
       "            &lt;/style&gt;\n",
       "        \n",
       "&lt;/head&gt;\n",
       "&lt;body&gt;\n",
       "    \n",
       "    \n",
       "            &lt;div class=&quot;folium-map&quot; id=&quot;map_4237822ab039fd9ccdb45d10925c550a&quot; &gt;&lt;/div&gt;\n",
       "        \n",
       "&lt;/body&gt;\n",
       "&lt;script&gt;\n",
       "    \n",
       "    \n",
       "            var map_4237822ab039fd9ccdb45d10925c550a = L.map(\n",
       "                &quot;map_4237822ab039fd9ccdb45d10925c550a&quot;,\n",
       "                {\n",
       "                    center: [1.4099, 99.7092],\n",
       "                    crs: L.CRS.EPSG3857,\n",
       "                    zoom: 10,\n",
       "                    zoomControl: true,\n",
       "                    preferCanvas: false,\n",
       "                }\n",
       "            );\n",
       "\n",
       "            \n",
       "\n",
       "        \n",
       "    \n",
       "            var tile_layer_63e346d114fb5bc04d44bb1249328778 = L.tileLayer(\n",
       "                &quot;https://tile.openstreetmap.org/{z}/{x}/{y}.png&quot;,\n",
       "                {&quot;attribution&quot;: &quot;\\u0026copy; \\u003ca href=\\&quot;https://www.openstreetmap.org/copyright\\&quot;\\u003eOpenStreetMap\\u003c/a\\u003e contributors&quot;, &quot;detectRetina&quot;: false, &quot;maxNativeZoom&quot;: 19, &quot;maxZoom&quot;: 19, &quot;minZoom&quot;: 0, &quot;noWrap&quot;: false, &quot;opacity&quot;: 1, &quot;subdomains&quot;: &quot;abc&quot;, &quot;tms&quot;: false}\n",
       "            );\n",
       "        \n",
       "    \n",
       "            tile_layer_63e346d114fb5bc04d44bb1249328778.addTo(map_4237822ab039fd9ccdb45d10925c550a);\n",
       "        \n",
       "    \n",
       "            var marker_b1115bb149a544d385539bce7113e3fc = L.marker(\n",
       "                [1.3166932, 99.4458336],\n",
       "                {}\n",
       "            ).addTo(map_4237822ab039fd9ccdb45d10925c550a);\n",
       "        \n",
       "    \n",
       "            var icon_d5d909520fdcaf37790fb998ab9db64d = L.AwesomeMarkers.icon(\n",
       "                {&quot;extraClasses&quot;: &quot;fa-rotate-0&quot;, &quot;icon&quot;: &quot;info-sign&quot;, &quot;iconColor&quot;: &quot;white&quot;, &quot;markerColor&quot;: &quot;yellow&quot;, &quot;prefix&quot;: &quot;glyphicon&quot;}\n",
       "            );\n",
       "            marker_b1115bb149a544d385539bce7113e3fc.setIcon(icon_d5d909520fdcaf37790fb998ab9db64d);\n",
       "        \n",
       "    \n",
       "        var popup_610e77e58078789a9168c456e4641b91 = L.popup({&quot;maxWidth&quot;: &quot;100%&quot;});\n",
       "\n",
       "        \n",
       "            \n",
       "                var html_094dbf63319f0cce8abd636fb5728f39 = $(`&lt;div id=&quot;html_094dbf63319f0cce8abd636fb5728f39&quot; style=&quot;width: 100.0%; height: 100.0%;&quot;&gt;Batang Onang: 1 kasus, Tingkat Kerawanan: Berpotensi Rawan&lt;/div&gt;`)[0];\n",
       "                popup_610e77e58078789a9168c456e4641b91.setContent(html_094dbf63319f0cce8abd636fb5728f39);\n",
       "            \n",
       "        \n",
       "\n",
       "        marker_b1115bb149a544d385539bce7113e3fc.bindPopup(popup_610e77e58078789a9168c456e4641b91)\n",
       "        ;\n",
       "\n",
       "        \n",
       "    \n",
       "    \n",
       "            var marker_1c0cf5873eff3b33715cb59c38acee88 = L.marker(\n",
       "                [1.6577, 98.5525],\n",
       "                {}\n",
       "            ).addTo(map_4237822ab039fd9ccdb45d10925c550a);\n",
       "        \n",
       "    \n",
       "            var icon_127b3b961d711016978aefd2ddbd7a5c = L.AwesomeMarkers.icon(\n",
       "                {&quot;extraClasses&quot;: &quot;fa-rotate-0&quot;, &quot;icon&quot;: &quot;info-sign&quot;, &quot;iconColor&quot;: &quot;white&quot;, &quot;markerColor&quot;: &quot;red&quot;, &quot;prefix&quot;: &quot;glyphicon&quot;}\n",
       "            );\n",
       "            marker_1c0cf5873eff3b33715cb59c38acee88.setIcon(icon_127b3b961d711016978aefd2ddbd7a5c);\n",
       "        \n",
       "    \n",
       "        var popup_d57e32b8e60f9f8e05be7cb82f6f5852 = L.popup({&quot;maxWidth&quot;: &quot;100%&quot;});\n",
       "\n",
       "        \n",
       "            \n",
       "                var html_4ad3dfa4f5201547b7aea21faf5690e3 = $(`&lt;div id=&quot;html_4ad3dfa4f5201547b7aea21faf5690e3&quot; style=&quot;width: 100.0%; height: 100.0%;&quot;&gt;Dolok: 1 kasus, Tingkat Kerawanan: Sangat Rawan&lt;/div&gt;`)[0];\n",
       "                popup_d57e32b8e60f9f8e05be7cb82f6f5852.setContent(html_4ad3dfa4f5201547b7aea21faf5690e3);\n",
       "            \n",
       "        \n",
       "\n",
       "        marker_1c0cf5873eff3b33715cb59c38acee88.bindPopup(popup_d57e32b8e60f9f8e05be7cb82f6f5852)\n",
       "        ;\n",
       "\n",
       "        \n",
       "    \n",
       "    \n",
       "            var marker_627cd563e991d4d39436febf4aad1eda = L.marker(\n",
       "                [1.9700433, 99.5356889],\n",
       "                {}\n",
       "            ).addTo(map_4237822ab039fd9ccdb45d10925c550a);\n",
       "        \n",
       "    \n",
       "            var icon_e778a1281a91fca173cdbe5e6f25f5df = L.AwesomeMarkers.icon(\n",
       "                {&quot;extraClasses&quot;: &quot;fa-rotate-0&quot;, &quot;icon&quot;: &quot;info-sign&quot;, &quot;iconColor&quot;: &quot;white&quot;, &quot;markerColor&quot;: &quot;red&quot;, &quot;prefix&quot;: &quot;glyphicon&quot;}\n",
       "            );\n",
       "            marker_627cd563e991d4d39436febf4aad1eda.setIcon(icon_e778a1281a91fca173cdbe5e6f25f5df);\n",
       "        \n",
       "    \n",
       "        var popup_eca17629d31a4e7021ba102c2644e1d6 = L.popup({&quot;maxWidth&quot;: &quot;100%&quot;});\n",
       "\n",
       "        \n",
       "            \n",
       "                var html_541db4a429db957be3c49f8bea9cd2cb = $(`&lt;div id=&quot;html_541db4a429db957be3c49f8bea9cd2cb&quot; style=&quot;width: 100.0%; height: 100.0%;&quot;&gt;Dolok Sigompulon: 1 kasus, Tingkat Kerawanan: Sangat Rawan&lt;/div&gt;`)[0];\n",
       "                popup_eca17629d31a4e7021ba102c2644e1d6.setContent(html_541db4a429db957be3c49f8bea9cd2cb);\n",
       "            \n",
       "        \n",
       "\n",
       "        marker_627cd563e991d4d39436febf4aad1eda.bindPopup(popup_eca17629d31a4e7021ba102c2644e1d6)\n",
       "        ;\n",
       "\n",
       "        \n",
       "    \n",
       "    \n",
       "            var marker_804927ab2757ec196e6dd6c35a87c555 = L.marker(\n",
       "                [1.6514398, 99.6593041],\n",
       "                {}\n",
       "            ).addTo(map_4237822ab039fd9ccdb45d10925c550a);\n",
       "        \n",
       "    \n",
       "            var icon_4ccafb1d271549ab1ca12f94750062b8 = L.AwesomeMarkers.icon(\n",
       "                {&quot;extraClasses&quot;: &quot;fa-rotate-0&quot;, &quot;icon&quot;: &quot;info-sign&quot;, &quot;iconColor&quot;: &quot;white&quot;, &quot;markerColor&quot;: &quot;yellow&quot;, &quot;prefix&quot;: &quot;glyphicon&quot;}\n",
       "            );\n",
       "            marker_804927ab2757ec196e6dd6c35a87c555.setIcon(icon_4ccafb1d271549ab1ca12f94750062b8);\n",
       "        \n",
       "    \n",
       "        var popup_41662408b558b8aa8347b27d5104f1bd = L.popup({&quot;maxWidth&quot;: &quot;100%&quot;});\n",
       "\n",
       "        \n",
       "            \n",
       "                var html_b656098ec2509c720c4ee8d19639771f = $(`&lt;div id=&quot;html_b656098ec2509c720c4ee8d19639771f&quot; style=&quot;width: 100.0%; height: 100.0%;&quot;&gt;Halongonan: 1 kasus, Tingkat Kerawanan: Berpotensi Rawan&lt;/div&gt;`)[0];\n",
       "                popup_41662408b558b8aa8347b27d5104f1bd.setContent(html_b656098ec2509c720c4ee8d19639771f);\n",
       "            \n",
       "        \n",
       "\n",
       "        marker_804927ab2757ec196e6dd6c35a87c555.bindPopup(popup_41662408b558b8aa8347b27d5104f1bd)\n",
       "        ;\n",
       "\n",
       "        \n",
       "    \n",
       "    \n",
       "            var marker_f4053c23a215d7a70710ff95bf4483b7 = L.marker(\n",
       "                [1.6373489, 99.4558203],\n",
       "                {}\n",
       "            ).addTo(map_4237822ab039fd9ccdb45d10925c550a);\n",
       "        \n",
       "    \n",
       "            var icon_a7add2740126a7f9e38cbdf678068777 = L.AwesomeMarkers.icon(\n",
       "                {&quot;extraClasses&quot;: &quot;fa-rotate-0&quot;, &quot;icon&quot;: &quot;info-sign&quot;, &quot;iconColor&quot;: &quot;white&quot;, &quot;markerColor&quot;: &quot;orange&quot;, &quot;prefix&quot;: &quot;glyphicon&quot;}\n",
       "            );\n",
       "            marker_f4053c23a215d7a70710ff95bf4483b7.setIcon(icon_a7add2740126a7f9e38cbdf678068777);\n",
       "        \n",
       "    \n",
       "        var popup_e1f68bae8ddb66b06f892441e18474f3 = L.popup({&quot;maxWidth&quot;: &quot;100%&quot;});\n",
       "\n",
       "        \n",
       "            \n",
       "                var html_c42553984aef408afda5d2cf4735ceca = $(`&lt;div id=&quot;html_c42553984aef408afda5d2cf4735ceca&quot; style=&quot;width: 100.0%; height: 100.0%;&quot;&gt;Halongonan Timur: 1 kasus, Tingkat Kerawanan: Rawan&lt;/div&gt;`)[0];\n",
       "                popup_e1f68bae8ddb66b06f892441e18474f3.setContent(html_c42553984aef408afda5d2cf4735ceca);\n",
       "            \n",
       "        \n",
       "\n",
       "        marker_f4053c23a215d7a70710ff95bf4483b7.bindPopup(popup_e1f68bae8ddb66b06f892441e18474f3)\n",
       "        ;\n",
       "\n",
       "        \n",
       "    \n",
       "    \n",
       "            var marker_6e3dc9d2f0be6b36c2f9d597f017f424 = L.marker(\n",
       "                [1.458091, 99.4268896],\n",
       "                {}\n",
       "            ).addTo(map_4237822ab039fd9ccdb45d10925c550a);\n",
       "        \n",
       "    \n",
       "            var icon_f930467b4b8bee3e5806087835356d54 = L.AwesomeMarkers.icon(\n",
       "                {&quot;extraClasses&quot;: &quot;fa-rotate-0&quot;, &quot;icon&quot;: &quot;info-sign&quot;, &quot;iconColor&quot;: &quot;white&quot;, &quot;markerColor&quot;: &quot;green&quot;, &quot;prefix&quot;: &quot;glyphicon&quot;}\n",
       "            );\n",
       "            marker_6e3dc9d2f0be6b36c2f9d597f017f424.setIcon(icon_f930467b4b8bee3e5806087835356d54);\n",
       "        \n",
       "    \n",
       "        var popup_ae919b034fa85e58e232db85731086b8 = L.popup({&quot;maxWidth&quot;: &quot;100%&quot;});\n",
       "\n",
       "        \n",
       "            \n",
       "                var html_e410ae51ca22469c1fe12a077102ae0a = $(`&lt;div id=&quot;html_e410ae51ca22469c1fe12a077102ae0a&quot; style=&quot;width: 100.0%; height: 100.0%;&quot;&gt;Hulu Sihapas: 1 kasus, Tingkat Kerawanan: Aman&lt;/div&gt;`)[0];\n",
       "                popup_ae919b034fa85e58e232db85731086b8.setContent(html_e410ae51ca22469c1fe12a077102ae0a);\n",
       "            \n",
       "        \n",
       "\n",
       "        marker_6e3dc9d2f0be6b36c2f9d597f017f424.bindPopup(popup_ae919b034fa85e58e232db85731086b8)\n",
       "        ;\n",
       "\n",
       "        \n",
       "    \n",
       "    \n",
       "            var marker_16dca4710ccf8df06b61674f76fc56b9 = L.marker(\n",
       "                [3.5685536, 98.7273622],\n",
       "                {}\n",
       "            ).addTo(map_4237822ab039fd9ccdb45d10925c550a);\n",
       "        \n",
       "    \n",
       "            var icon_6a73d2f3ed309794d4dfa6d2a933c4b2 = L.AwesomeMarkers.icon(\n",
       "                {&quot;extraClasses&quot;: &quot;fa-rotate-0&quot;, &quot;icon&quot;: &quot;info-sign&quot;, &quot;iconColor&quot;: &quot;white&quot;, &quot;markerColor&quot;: &quot;red&quot;, &quot;prefix&quot;: &quot;glyphicon&quot;}\n",
       "            );\n",
       "            marker_16dca4710ccf8df06b61674f76fc56b9.setIcon(icon_6a73d2f3ed309794d4dfa6d2a933c4b2);\n",
       "        \n",
       "    \n",
       "        var popup_965eca13bcf979f20a8b8561daa08f78 = L.popup({&quot;maxWidth&quot;: &quot;100%&quot;});\n",
       "\n",
       "        \n",
       "            \n",
       "                var html_1e6a28d22181892aab39b294f1acedfd = $(`&lt;div id=&quot;html_1e6a28d22181892aab39b294f1acedfd&quot; style=&quot;width: 100.0%; height: 100.0%;&quot;&gt;Padang Bolak: 1 kasus, Tingkat Kerawanan: Sangat Rawan&lt;/div&gt;`)[0];\n",
       "                popup_965eca13bcf979f20a8b8561daa08f78.setContent(html_1e6a28d22181892aab39b294f1acedfd);\n",
       "            \n",
       "        \n",
       "\n",
       "        marker_16dca4710ccf8df06b61674f76fc56b9.bindPopup(popup_965eca13bcf979f20a8b8561daa08f78)\n",
       "        ;\n",
       "\n",
       "        \n",
       "    \n",
       "    \n",
       "            var marker_fc8aab35188d53eef0d5898dadaed67f = L.marker(\n",
       "                [1.415091, 99.5576002],\n",
       "                {}\n",
       "            ).addTo(map_4237822ab039fd9ccdb45d10925c550a);\n",
       "        \n",
       "    \n",
       "            var icon_4442c6442871eb830c76507bfe62bdf2 = L.AwesomeMarkers.icon(\n",
       "                {&quot;extraClasses&quot;: &quot;fa-rotate-0&quot;, &quot;icon&quot;: &quot;info-sign&quot;, &quot;iconColor&quot;: &quot;white&quot;, &quot;markerColor&quot;: &quot;red&quot;, &quot;prefix&quot;: &quot;glyphicon&quot;}\n",
       "            );\n",
       "            marker_fc8aab35188d53eef0d5898dadaed67f.setIcon(icon_4442c6442871eb830c76507bfe62bdf2);\n",
       "        \n",
       "    \n",
       "        var popup_04eeec12f2b5cec34092104ab05774a4 = L.popup({&quot;maxWidth&quot;: &quot;100%&quot;});\n",
       "\n",
       "        \n",
       "            \n",
       "                var html_ca7629dedad00caed3aab414a505eb24 = $(`&lt;div id=&quot;html_ca7629dedad00caed3aab414a505eb24&quot; style=&quot;width: 100.0%; height: 100.0%;&quot;&gt;Padang Bolak Julu: 1 kasus, Tingkat Kerawanan: Sangat Rawan&lt;/div&gt;`)[0];\n",
       "                popup_04eeec12f2b5cec34092104ab05774a4.setContent(html_ca7629dedad00caed3aab414a505eb24);\n",
       "            \n",
       "        \n",
       "\n",
       "        marker_fc8aab35188d53eef0d5898dadaed67f.bindPopup(popup_04eeec12f2b5cec34092104ab05774a4)\n",
       "        ;\n",
       "\n",
       "        \n",
       "    \n",
       "    \n",
       "            var marker_30c6240c85ea860c1c3d0f673a9da1d5 = L.marker(\n",
       "                [1.54001, 99.3234082],\n",
       "                {}\n",
       "            ).addTo(map_4237822ab039fd9ccdb45d10925c550a);\n",
       "        \n",
       "    \n",
       "            var icon_acb343c63a1e0b6bdee61fa8cbcac2b6 = L.AwesomeMarkers.icon(\n",
       "                {&quot;extraClasses&quot;: &quot;fa-rotate-0&quot;, &quot;icon&quot;: &quot;info-sign&quot;, &quot;iconColor&quot;: &quot;white&quot;, &quot;markerColor&quot;: &quot;green&quot;, &quot;prefix&quot;: &quot;glyphicon&quot;}\n",
       "            );\n",
       "            marker_30c6240c85ea860c1c3d0f673a9da1d5.setIcon(icon_acb343c63a1e0b6bdee61fa8cbcac2b6);\n",
       "        \n",
       "    \n",
       "        var popup_083a6cad4f7f9450809b1891564a713d = L.popup({&quot;maxWidth&quot;: &quot;100%&quot;});\n",
       "\n",
       "        \n",
       "            \n",
       "                var html_89258da7be55aa452845e06d707d8b1e = $(`&lt;div id=&quot;html_89258da7be55aa452845e06d707d8b1e&quot; style=&quot;width: 100.0%; height: 100.0%;&quot;&gt;Padang Bolak Tenggara: 1 kasus, Tingkat Kerawanan: Aman&lt;/div&gt;`)[0];\n",
       "                popup_083a6cad4f7f9450809b1891564a713d.setContent(html_89258da7be55aa452845e06d707d8b1e);\n",
       "            \n",
       "        \n",
       "\n",
       "        marker_30c6240c85ea860c1c3d0f673a9da1d5.bindPopup(popup_083a6cad4f7f9450809b1891564a713d)\n",
       "        ;\n",
       "\n",
       "        \n",
       "    \n",
       "    \n",
       "            var marker_e2e4e093184f6a5ad8e91c88f2389824 = L.marker(\n",
       "                [1.4375683, 99.7032047],\n",
       "                {}\n",
       "            ).addTo(map_4237822ab039fd9ccdb45d10925c550a);\n",
       "        \n",
       "    \n",
       "            var icon_12a9bc9a40cdd4e883fbab7c9a98f4d2 = L.AwesomeMarkers.icon(\n",
       "                {&quot;extraClasses&quot;: &quot;fa-rotate-0&quot;, &quot;icon&quot;: &quot;info-sign&quot;, &quot;iconColor&quot;: &quot;white&quot;, &quot;markerColor&quot;: &quot;green&quot;, &quot;prefix&quot;: &quot;glyphicon&quot;}\n",
       "            );\n",
       "            marker_e2e4e093184f6a5ad8e91c88f2389824.setIcon(icon_12a9bc9a40cdd4e883fbab7c9a98f4d2);\n",
       "        \n",
       "    \n",
       "        var popup_d7164b2a115c7f38860e9eb32836d29f = L.popup({&quot;maxWidth&quot;: &quot;100%&quot;});\n",
       "\n",
       "        \n",
       "            \n",
       "                var html_81d658ef1df64e54b30cab00410358cb = $(`&lt;div id=&quot;html_81d658ef1df64e54b30cab00410358cb&quot; style=&quot;width: 100.0%; height: 100.0%;&quot;&gt;Portibi: 1 kasus, Tingkat Kerawanan: Aman&lt;/div&gt;`)[0];\n",
       "                popup_d7164b2a115c7f38860e9eb32836d29f.setContent(html_81d658ef1df64e54b30cab00410358cb);\n",
       "            \n",
       "        \n",
       "\n",
       "        marker_e2e4e093184f6a5ad8e91c88f2389824.bindPopup(popup_d7164b2a115c7f38860e9eb32836d29f)\n",
       "        ;\n",
       "\n",
       "        \n",
       "    \n",
       "    \n",
       "            var marker_2432de3fbe6a748923c1028b0533c393 = L.marker(\n",
       "                [1.8957231, 99.7846397],\n",
       "                {}\n",
       "            ).addTo(map_4237822ab039fd9ccdb45d10925c550a);\n",
       "        \n",
       "    \n",
       "            var icon_bd685679b01e63c3c9ae3de2c299aa51 = L.AwesomeMarkers.icon(\n",
       "                {&quot;extraClasses&quot;: &quot;fa-rotate-0&quot;, &quot;icon&quot;: &quot;info-sign&quot;, &quot;iconColor&quot;: &quot;white&quot;, &quot;markerColor&quot;: &quot;green&quot;, &quot;prefix&quot;: &quot;glyphicon&quot;}\n",
       "            );\n",
       "            marker_2432de3fbe6a748923c1028b0533c393.setIcon(icon_bd685679b01e63c3c9ae3de2c299aa51);\n",
       "        \n",
       "    \n",
       "        var popup_8c672f8b2656aa4861772f6c4fb38114 = L.popup({&quot;maxWidth&quot;: &quot;100%&quot;});\n",
       "\n",
       "        \n",
       "            \n",
       "                var html_e7b3aba3621ad603d460453c11706525 = $(`&lt;div id=&quot;html_e7b3aba3621ad603d460453c11706525&quot; style=&quot;width: 100.0%; height: 100.0%;&quot;&gt;Simangambat: 1 kasus, Tingkat Kerawanan: Aman&lt;/div&gt;`)[0];\n",
       "                popup_8c672f8b2656aa4861772f6c4fb38114.setContent(html_e7b3aba3621ad603d460453c11706525);\n",
       "            \n",
       "        \n",
       "\n",
       "        marker_2432de3fbe6a748923c1028b0533c393.bindPopup(popup_8c672f8b2656aa4861772f6c4fb38114)\n",
       "        ;\n",
       "\n",
       "        \n",
       "    \n",
       "    \n",
       "            var marker_8a2e46b1649755b631e0e430e109b0c2 = L.marker(\n",
       "                [1.1896051, 99.99013],\n",
       "                {}\n",
       "            ).addTo(map_4237822ab039fd9ccdb45d10925c550a);\n",
       "        \n",
       "    \n",
       "            var icon_63793d5c435d96045f0a51041e84a43e = L.AwesomeMarkers.icon(\n",
       "                {&quot;extraClasses&quot;: &quot;fa-rotate-0&quot;, &quot;icon&quot;: &quot;info-sign&quot;, &quot;iconColor&quot;: &quot;white&quot;, &quot;markerColor&quot;: &quot;red&quot;, &quot;prefix&quot;: &quot;glyphicon&quot;}\n",
       "            );\n",
       "            marker_8a2e46b1649755b631e0e430e109b0c2.setIcon(icon_63793d5c435d96045f0a51041e84a43e);\n",
       "        \n",
       "    \n",
       "        var popup_850bef1cdabf308ae326bdf23ed563a6 = L.popup({&quot;maxWidth&quot;: &quot;100%&quot;});\n",
       "\n",
       "        \n",
       "            \n",
       "                var html_bd84f75cdd8e65ff2df0c6c78b64137f = $(`&lt;div id=&quot;html_bd84f75cdd8e65ff2df0c6c78b64137f&quot; style=&quot;width: 100.0%; height: 100.0%;&quot;&gt;Ujung Batu: 1 kasus, Tingkat Kerawanan: Sangat Rawan&lt;/div&gt;`)[0];\n",
       "                popup_850bef1cdabf308ae326bdf23ed563a6.setContent(html_bd84f75cdd8e65ff2df0c6c78b64137f);\n",
       "            \n",
       "        \n",
       "\n",
       "        marker_8a2e46b1649755b631e0e430e109b0c2.bindPopup(popup_850bef1cdabf308ae326bdf23ed563a6)\n",
       "        ;\n",
       "\n",
       "        \n",
       "    \n",
       "&lt;/script&gt;\n",
       "&lt;/html&gt;\" style=\"position:absolute;width:100%;height:100%;left:0;top:0;border:none !important;\" allowfullscreen webkitallowfullscreen mozallowfullscreen></iframe></div></div>"
      ],
      "text/plain": [
       "<folium.folium.Map at 0x24a0c9c6410>"
      ]
     },
     "metadata": {},
     "output_type": "display_data"
    },
    {
     "name": "stdout",
     "output_type": "stream",
     "text": [
      "Peta untuk tahun 2022\n"
     ]
    },
    {
     "name": "stderr",
     "output_type": "stream",
     "text": [
      "C:\\Users\\User\\AppData\\Local\\Temp\\ipykernel_2092\\3736326453.py:108: UserWarning:\n",
      "\n",
      "color argument of Icon should be one of: {'black', 'blue', 'white', 'pink', 'darkblue', 'purple', 'darkred', 'orange', 'green', 'lightred', 'cadetblue', 'lightgray', 'lightgreen', 'beige', 'gray', 'darkgreen', 'red', 'lightblue', 'darkpurple'}.\n",
      "\n"
     ]
    },
    {
     "data": {
      "text/html": [
       "<div style=\"width:100%;\"><div style=\"position:relative;width:100%;height:0;padding-bottom:60%;\"><span style=\"color:#565656\">Make this Notebook Trusted to load map: File -> Trust Notebook</span><iframe srcdoc=\"&lt;!DOCTYPE html&gt;\n",
       "&lt;html&gt;\n",
       "&lt;head&gt;\n",
       "    \n",
       "    &lt;meta http-equiv=&quot;content-type&quot; content=&quot;text/html; charset=UTF-8&quot; /&gt;\n",
       "    \n",
       "        &lt;script&gt;\n",
       "            L_NO_TOUCH = false;\n",
       "            L_DISABLE_3D = false;\n",
       "        &lt;/script&gt;\n",
       "    \n",
       "    &lt;style&gt;html, body {width: 100%;height: 100%;margin: 0;padding: 0;}&lt;/style&gt;\n",
       "    &lt;style&gt;#map {position:absolute;top:0;bottom:0;right:0;left:0;}&lt;/style&gt;\n",
       "    &lt;script src=&quot;https://cdn.jsdelivr.net/npm/leaflet@1.9.3/dist/leaflet.js&quot;&gt;&lt;/script&gt;\n",
       "    &lt;script src=&quot;https://code.jquery.com/jquery-3.7.1.min.js&quot;&gt;&lt;/script&gt;\n",
       "    &lt;script src=&quot;https://cdn.jsdelivr.net/npm/bootstrap@5.2.2/dist/js/bootstrap.bundle.min.js&quot;&gt;&lt;/script&gt;\n",
       "    &lt;script src=&quot;https://cdnjs.cloudflare.com/ajax/libs/Leaflet.awesome-markers/2.0.2/leaflet.awesome-markers.js&quot;&gt;&lt;/script&gt;\n",
       "    &lt;link rel=&quot;stylesheet&quot; href=&quot;https://cdn.jsdelivr.net/npm/leaflet@1.9.3/dist/leaflet.css&quot;/&gt;\n",
       "    &lt;link rel=&quot;stylesheet&quot; href=&quot;https://cdn.jsdelivr.net/npm/bootstrap@5.2.2/dist/css/bootstrap.min.css&quot;/&gt;\n",
       "    &lt;link rel=&quot;stylesheet&quot; href=&quot;https://netdna.bootstrapcdn.com/bootstrap/3.0.0/css/bootstrap.min.css&quot;/&gt;\n",
       "    &lt;link rel=&quot;stylesheet&quot; href=&quot;https://cdn.jsdelivr.net/npm/@fortawesome/fontawesome-free@6.2.0/css/all.min.css&quot;/&gt;\n",
       "    &lt;link rel=&quot;stylesheet&quot; href=&quot;https://cdnjs.cloudflare.com/ajax/libs/Leaflet.awesome-markers/2.0.2/leaflet.awesome-markers.css&quot;/&gt;\n",
       "    &lt;link rel=&quot;stylesheet&quot; href=&quot;https://cdn.jsdelivr.net/gh/python-visualization/folium/folium/templates/leaflet.awesome.rotate.min.css&quot;/&gt;\n",
       "    \n",
       "            &lt;meta name=&quot;viewport&quot; content=&quot;width=device-width,\n",
       "                initial-scale=1.0, maximum-scale=1.0, user-scalable=no&quot; /&gt;\n",
       "            &lt;style&gt;\n",
       "                #map_d89d28b7c38d5368cfc1d5d82887cfd5 {\n",
       "                    position: relative;\n",
       "                    width: 100.0%;\n",
       "                    height: 100.0%;\n",
       "                    left: 0.0%;\n",
       "                    top: 0.0%;\n",
       "                }\n",
       "                .leaflet-container { font-size: 1rem; }\n",
       "            &lt;/style&gt;\n",
       "        \n",
       "&lt;/head&gt;\n",
       "&lt;body&gt;\n",
       "    \n",
       "    \n",
       "            &lt;div class=&quot;folium-map&quot; id=&quot;map_d89d28b7c38d5368cfc1d5d82887cfd5&quot; &gt;&lt;/div&gt;\n",
       "        \n",
       "&lt;/body&gt;\n",
       "&lt;script&gt;\n",
       "    \n",
       "    \n",
       "            var map_d89d28b7c38d5368cfc1d5d82887cfd5 = L.map(\n",
       "                &quot;map_d89d28b7c38d5368cfc1d5d82887cfd5&quot;,\n",
       "                {\n",
       "                    center: [1.4099, 99.7092],\n",
       "                    crs: L.CRS.EPSG3857,\n",
       "                    zoom: 10,\n",
       "                    zoomControl: true,\n",
       "                    preferCanvas: false,\n",
       "                }\n",
       "            );\n",
       "\n",
       "            \n",
       "\n",
       "        \n",
       "    \n",
       "            var tile_layer_43c7d888a6d19003d96a5689a6ebb16a = L.tileLayer(\n",
       "                &quot;https://tile.openstreetmap.org/{z}/{x}/{y}.png&quot;,\n",
       "                {&quot;attribution&quot;: &quot;\\u0026copy; \\u003ca href=\\&quot;https://www.openstreetmap.org/copyright\\&quot;\\u003eOpenStreetMap\\u003c/a\\u003e contributors&quot;, &quot;detectRetina&quot;: false, &quot;maxNativeZoom&quot;: 19, &quot;maxZoom&quot;: 19, &quot;minZoom&quot;: 0, &quot;noWrap&quot;: false, &quot;opacity&quot;: 1, &quot;subdomains&quot;: &quot;abc&quot;, &quot;tms&quot;: false}\n",
       "            );\n",
       "        \n",
       "    \n",
       "            tile_layer_43c7d888a6d19003d96a5689a6ebb16a.addTo(map_d89d28b7c38d5368cfc1d5d82887cfd5);\n",
       "        \n",
       "    \n",
       "            var marker_aeb8e5d6a9ed8a33246d41c9c94abcc8 = L.marker(\n",
       "                [1.3166932, 99.4458336],\n",
       "                {}\n",
       "            ).addTo(map_d89d28b7c38d5368cfc1d5d82887cfd5);\n",
       "        \n",
       "    \n",
       "            var icon_ccd74934399f2321134e30e36e9f90a1 = L.AwesomeMarkers.icon(\n",
       "                {&quot;extraClasses&quot;: &quot;fa-rotate-0&quot;, &quot;icon&quot;: &quot;info-sign&quot;, &quot;iconColor&quot;: &quot;white&quot;, &quot;markerColor&quot;: &quot;yellow&quot;, &quot;prefix&quot;: &quot;glyphicon&quot;}\n",
       "            );\n",
       "            marker_aeb8e5d6a9ed8a33246d41c9c94abcc8.setIcon(icon_ccd74934399f2321134e30e36e9f90a1);\n",
       "        \n",
       "    \n",
       "        var popup_d158b4aa94c4ceee6453d064c4ebc858 = L.popup({&quot;maxWidth&quot;: &quot;100%&quot;});\n",
       "\n",
       "        \n",
       "            \n",
       "                var html_5af67d6d000b8abb5281748e62216e9b = $(`&lt;div id=&quot;html_5af67d6d000b8abb5281748e62216e9b&quot; style=&quot;width: 100.0%; height: 100.0%;&quot;&gt;Batang Onang: 1 kasus, Tingkat Kerawanan: Berpotensi Rawan&lt;/div&gt;`)[0];\n",
       "                popup_d158b4aa94c4ceee6453d064c4ebc858.setContent(html_5af67d6d000b8abb5281748e62216e9b);\n",
       "            \n",
       "        \n",
       "\n",
       "        marker_aeb8e5d6a9ed8a33246d41c9c94abcc8.bindPopup(popup_d158b4aa94c4ceee6453d064c4ebc858)\n",
       "        ;\n",
       "\n",
       "        \n",
       "    \n",
       "    \n",
       "            var marker_00055262e7687d5d858e3ed48044b0f5 = L.marker(\n",
       "                [1.6577, 98.5525],\n",
       "                {}\n",
       "            ).addTo(map_d89d28b7c38d5368cfc1d5d82887cfd5);\n",
       "        \n",
       "    \n",
       "            var icon_952af57afc30fc7d7bc3f67ff4e2387d = L.AwesomeMarkers.icon(\n",
       "                {&quot;extraClasses&quot;: &quot;fa-rotate-0&quot;, &quot;icon&quot;: &quot;info-sign&quot;, &quot;iconColor&quot;: &quot;white&quot;, &quot;markerColor&quot;: &quot;red&quot;, &quot;prefix&quot;: &quot;glyphicon&quot;}\n",
       "            );\n",
       "            marker_00055262e7687d5d858e3ed48044b0f5.setIcon(icon_952af57afc30fc7d7bc3f67ff4e2387d);\n",
       "        \n",
       "    \n",
       "        var popup_0eabdbf77031f4038c819bc4c1e862ad = L.popup({&quot;maxWidth&quot;: &quot;100%&quot;});\n",
       "\n",
       "        \n",
       "            \n",
       "                var html_d16446ed418c521b0ff443ed35e3bfc4 = $(`&lt;div id=&quot;html_d16446ed418c521b0ff443ed35e3bfc4&quot; style=&quot;width: 100.0%; height: 100.0%;&quot;&gt;Dolok: 1 kasus, Tingkat Kerawanan: Sangat Rawan&lt;/div&gt;`)[0];\n",
       "                popup_0eabdbf77031f4038c819bc4c1e862ad.setContent(html_d16446ed418c521b0ff443ed35e3bfc4);\n",
       "            \n",
       "        \n",
       "\n",
       "        marker_00055262e7687d5d858e3ed48044b0f5.bindPopup(popup_0eabdbf77031f4038c819bc4c1e862ad)\n",
       "        ;\n",
       "\n",
       "        \n",
       "    \n",
       "    \n",
       "            var marker_7d4cfa65699b22a7ab925de2368fde8b = L.marker(\n",
       "                [1.9700433, 99.5356889],\n",
       "                {}\n",
       "            ).addTo(map_d89d28b7c38d5368cfc1d5d82887cfd5);\n",
       "        \n",
       "    \n",
       "            var icon_eaa248d53f2d040960b5ad338c88366f = L.AwesomeMarkers.icon(\n",
       "                {&quot;extraClasses&quot;: &quot;fa-rotate-0&quot;, &quot;icon&quot;: &quot;info-sign&quot;, &quot;iconColor&quot;: &quot;white&quot;, &quot;markerColor&quot;: &quot;orange&quot;, &quot;prefix&quot;: &quot;glyphicon&quot;}\n",
       "            );\n",
       "            marker_7d4cfa65699b22a7ab925de2368fde8b.setIcon(icon_eaa248d53f2d040960b5ad338c88366f);\n",
       "        \n",
       "    \n",
       "        var popup_6b10dd1629a4ec225f44893200b96a05 = L.popup({&quot;maxWidth&quot;: &quot;100%&quot;});\n",
       "\n",
       "        \n",
       "            \n",
       "                var html_36dda4baeac7309d1e643a234cad2a45 = $(`&lt;div id=&quot;html_36dda4baeac7309d1e643a234cad2a45&quot; style=&quot;width: 100.0%; height: 100.0%;&quot;&gt;Dolok Sigompulon: 1 kasus, Tingkat Kerawanan: Rawan&lt;/div&gt;`)[0];\n",
       "                popup_6b10dd1629a4ec225f44893200b96a05.setContent(html_36dda4baeac7309d1e643a234cad2a45);\n",
       "            \n",
       "        \n",
       "\n",
       "        marker_7d4cfa65699b22a7ab925de2368fde8b.bindPopup(popup_6b10dd1629a4ec225f44893200b96a05)\n",
       "        ;\n",
       "\n",
       "        \n",
       "    \n",
       "    \n",
       "            var marker_63f748ca4f9c47ad5c911f9a7381142f = L.marker(\n",
       "                [1.6514398, 99.6593041],\n",
       "                {}\n",
       "            ).addTo(map_d89d28b7c38d5368cfc1d5d82887cfd5);\n",
       "        \n",
       "    \n",
       "            var icon_0e698632d573d463b05e3753d0512e71 = L.AwesomeMarkers.icon(\n",
       "                {&quot;extraClasses&quot;: &quot;fa-rotate-0&quot;, &quot;icon&quot;: &quot;info-sign&quot;, &quot;iconColor&quot;: &quot;white&quot;, &quot;markerColor&quot;: &quot;yellow&quot;, &quot;prefix&quot;: &quot;glyphicon&quot;}\n",
       "            );\n",
       "            marker_63f748ca4f9c47ad5c911f9a7381142f.setIcon(icon_0e698632d573d463b05e3753d0512e71);\n",
       "        \n",
       "    \n",
       "        var popup_df190519d5652b6130c33e526204d79f = L.popup({&quot;maxWidth&quot;: &quot;100%&quot;});\n",
       "\n",
       "        \n",
       "            \n",
       "                var html_c3aec070417d483087758273b18ff3b1 = $(`&lt;div id=&quot;html_c3aec070417d483087758273b18ff3b1&quot; style=&quot;width: 100.0%; height: 100.0%;&quot;&gt;Halongonan: 1 kasus, Tingkat Kerawanan: Berpotensi Rawan&lt;/div&gt;`)[0];\n",
       "                popup_df190519d5652b6130c33e526204d79f.setContent(html_c3aec070417d483087758273b18ff3b1);\n",
       "            \n",
       "        \n",
       "\n",
       "        marker_63f748ca4f9c47ad5c911f9a7381142f.bindPopup(popup_df190519d5652b6130c33e526204d79f)\n",
       "        ;\n",
       "\n",
       "        \n",
       "    \n",
       "    \n",
       "            var marker_d646d3f81ff947be6e8dc893a4916460 = L.marker(\n",
       "                [1.6373489, 99.4558203],\n",
       "                {}\n",
       "            ).addTo(map_d89d28b7c38d5368cfc1d5d82887cfd5);\n",
       "        \n",
       "    \n",
       "            var icon_0114ef0edf4bc23e08dc83a9e78e2e2d = L.AwesomeMarkers.icon(\n",
       "                {&quot;extraClasses&quot;: &quot;fa-rotate-0&quot;, &quot;icon&quot;: &quot;info-sign&quot;, &quot;iconColor&quot;: &quot;white&quot;, &quot;markerColor&quot;: &quot;red&quot;, &quot;prefix&quot;: &quot;glyphicon&quot;}\n",
       "            );\n",
       "            marker_d646d3f81ff947be6e8dc893a4916460.setIcon(icon_0114ef0edf4bc23e08dc83a9e78e2e2d);\n",
       "        \n",
       "    \n",
       "        var popup_2bfe95657750594579841a883fbaa621 = L.popup({&quot;maxWidth&quot;: &quot;100%&quot;});\n",
       "\n",
       "        \n",
       "            \n",
       "                var html_9ef311f81fea133e930eba8a0e01779e = $(`&lt;div id=&quot;html_9ef311f81fea133e930eba8a0e01779e&quot; style=&quot;width: 100.0%; height: 100.0%;&quot;&gt;Halongonan Timur: 1 kasus, Tingkat Kerawanan: Sangat Rawan&lt;/div&gt;`)[0];\n",
       "                popup_2bfe95657750594579841a883fbaa621.setContent(html_9ef311f81fea133e930eba8a0e01779e);\n",
       "            \n",
       "        \n",
       "\n",
       "        marker_d646d3f81ff947be6e8dc893a4916460.bindPopup(popup_2bfe95657750594579841a883fbaa621)\n",
       "        ;\n",
       "\n",
       "        \n",
       "    \n",
       "    \n",
       "            var marker_cbc61dbe0b8ea632441e16aa03433636 = L.marker(\n",
       "                [1.458091, 99.4268896],\n",
       "                {}\n",
       "            ).addTo(map_d89d28b7c38d5368cfc1d5d82887cfd5);\n",
       "        \n",
       "    \n",
       "            var icon_7c0960b188904efcd5c7fc7ec9c330f7 = L.AwesomeMarkers.icon(\n",
       "                {&quot;extraClasses&quot;: &quot;fa-rotate-0&quot;, &quot;icon&quot;: &quot;info-sign&quot;, &quot;iconColor&quot;: &quot;white&quot;, &quot;markerColor&quot;: &quot;green&quot;, &quot;prefix&quot;: &quot;glyphicon&quot;}\n",
       "            );\n",
       "            marker_cbc61dbe0b8ea632441e16aa03433636.setIcon(icon_7c0960b188904efcd5c7fc7ec9c330f7);\n",
       "        \n",
       "    \n",
       "        var popup_9c6a18ebdac655faa264cef1a04d12bf = L.popup({&quot;maxWidth&quot;: &quot;100%&quot;});\n",
       "\n",
       "        \n",
       "            \n",
       "                var html_53b40a6fbb3eba96bf42a1d1fbc52d0e = $(`&lt;div id=&quot;html_53b40a6fbb3eba96bf42a1d1fbc52d0e&quot; style=&quot;width: 100.0%; height: 100.0%;&quot;&gt;Hulu Sihapas: 1 kasus, Tingkat Kerawanan: Aman&lt;/div&gt;`)[0];\n",
       "                popup_9c6a18ebdac655faa264cef1a04d12bf.setContent(html_53b40a6fbb3eba96bf42a1d1fbc52d0e);\n",
       "            \n",
       "        \n",
       "\n",
       "        marker_cbc61dbe0b8ea632441e16aa03433636.bindPopup(popup_9c6a18ebdac655faa264cef1a04d12bf)\n",
       "        ;\n",
       "\n",
       "        \n",
       "    \n",
       "    \n",
       "            var marker_f090b6e4018ed01af3ab627c68914b51 = L.marker(\n",
       "                [3.5685536, 98.7273622],\n",
       "                {}\n",
       "            ).addTo(map_d89d28b7c38d5368cfc1d5d82887cfd5);\n",
       "        \n",
       "    \n",
       "            var icon_81bba8c41918ae717c18f67b71fc21b2 = L.AwesomeMarkers.icon(\n",
       "                {&quot;extraClasses&quot;: &quot;fa-rotate-0&quot;, &quot;icon&quot;: &quot;info-sign&quot;, &quot;iconColor&quot;: &quot;white&quot;, &quot;markerColor&quot;: &quot;green&quot;, &quot;prefix&quot;: &quot;glyphicon&quot;}\n",
       "            );\n",
       "            marker_f090b6e4018ed01af3ab627c68914b51.setIcon(icon_81bba8c41918ae717c18f67b71fc21b2);\n",
       "        \n",
       "    \n",
       "        var popup_cb83b98c8d57b35f8d2a0cedce21c5c2 = L.popup({&quot;maxWidth&quot;: &quot;100%&quot;});\n",
       "\n",
       "        \n",
       "            \n",
       "                var html_fe393ea549ee267b5809057eaae32391 = $(`&lt;div id=&quot;html_fe393ea549ee267b5809057eaae32391&quot; style=&quot;width: 100.0%; height: 100.0%;&quot;&gt;Padang Bolak: 1 kasus, Tingkat Kerawanan: Aman&lt;/div&gt;`)[0];\n",
       "                popup_cb83b98c8d57b35f8d2a0cedce21c5c2.setContent(html_fe393ea549ee267b5809057eaae32391);\n",
       "            \n",
       "        \n",
       "\n",
       "        marker_f090b6e4018ed01af3ab627c68914b51.bindPopup(popup_cb83b98c8d57b35f8d2a0cedce21c5c2)\n",
       "        ;\n",
       "\n",
       "        \n",
       "    \n",
       "    \n",
       "            var marker_a5804fe1dbe439b12581835b9007e020 = L.marker(\n",
       "                [1.415091, 99.5576002],\n",
       "                {}\n",
       "            ).addTo(map_d89d28b7c38d5368cfc1d5d82887cfd5);\n",
       "        \n",
       "    \n",
       "            var icon_54a3292f4815df5fe2d3550d81f0cd4e = L.AwesomeMarkers.icon(\n",
       "                {&quot;extraClasses&quot;: &quot;fa-rotate-0&quot;, &quot;icon&quot;: &quot;info-sign&quot;, &quot;iconColor&quot;: &quot;white&quot;, &quot;markerColor&quot;: &quot;yellow&quot;, &quot;prefix&quot;: &quot;glyphicon&quot;}\n",
       "            );\n",
       "            marker_a5804fe1dbe439b12581835b9007e020.setIcon(icon_54a3292f4815df5fe2d3550d81f0cd4e);\n",
       "        \n",
       "    \n",
       "        var popup_4685a359d0de4a298d002dac59e39d18 = L.popup({&quot;maxWidth&quot;: &quot;100%&quot;});\n",
       "\n",
       "        \n",
       "            \n",
       "                var html_215ca62fdb706989e3059912a85b66bf = $(`&lt;div id=&quot;html_215ca62fdb706989e3059912a85b66bf&quot; style=&quot;width: 100.0%; height: 100.0%;&quot;&gt;Padang Bolak Julu: 1 kasus, Tingkat Kerawanan: Berpotensi Rawan&lt;/div&gt;`)[0];\n",
       "                popup_4685a359d0de4a298d002dac59e39d18.setContent(html_215ca62fdb706989e3059912a85b66bf);\n",
       "            \n",
       "        \n",
       "\n",
       "        marker_a5804fe1dbe439b12581835b9007e020.bindPopup(popup_4685a359d0de4a298d002dac59e39d18)\n",
       "        ;\n",
       "\n",
       "        \n",
       "    \n",
       "    \n",
       "            var marker_15abab4d061e28474d227ef689bce173 = L.marker(\n",
       "                [1.54001, 99.3234082],\n",
       "                {}\n",
       "            ).addTo(map_d89d28b7c38d5368cfc1d5d82887cfd5);\n",
       "        \n",
       "    \n",
       "            var icon_f68e19b70325f7717c60b7502275d870 = L.AwesomeMarkers.icon(\n",
       "                {&quot;extraClasses&quot;: &quot;fa-rotate-0&quot;, &quot;icon&quot;: &quot;info-sign&quot;, &quot;iconColor&quot;: &quot;white&quot;, &quot;markerColor&quot;: &quot;yellow&quot;, &quot;prefix&quot;: &quot;glyphicon&quot;}\n",
       "            );\n",
       "            marker_15abab4d061e28474d227ef689bce173.setIcon(icon_f68e19b70325f7717c60b7502275d870);\n",
       "        \n",
       "    \n",
       "        var popup_b157337078d2bd34c65b5a4d94946df1 = L.popup({&quot;maxWidth&quot;: &quot;100%&quot;});\n",
       "\n",
       "        \n",
       "            \n",
       "                var html_763cf48db80c61dbaaf38eb20d782ff4 = $(`&lt;div id=&quot;html_763cf48db80c61dbaaf38eb20d782ff4&quot; style=&quot;width: 100.0%; height: 100.0%;&quot;&gt;Padang Bolak Tenggara: 1 kasus, Tingkat Kerawanan: Berpotensi Rawan&lt;/div&gt;`)[0];\n",
       "                popup_b157337078d2bd34c65b5a4d94946df1.setContent(html_763cf48db80c61dbaaf38eb20d782ff4);\n",
       "            \n",
       "        \n",
       "\n",
       "        marker_15abab4d061e28474d227ef689bce173.bindPopup(popup_b157337078d2bd34c65b5a4d94946df1)\n",
       "        ;\n",
       "\n",
       "        \n",
       "    \n",
       "    \n",
       "            var marker_15f0a62c124fec815dc83242004e4b11 = L.marker(\n",
       "                [1.4375683, 99.7032047],\n",
       "                {}\n",
       "            ).addTo(map_d89d28b7c38d5368cfc1d5d82887cfd5);\n",
       "        \n",
       "    \n",
       "            var icon_1018ce2f0d787bef7ac10aa50cb45568 = L.AwesomeMarkers.icon(\n",
       "                {&quot;extraClasses&quot;: &quot;fa-rotate-0&quot;, &quot;icon&quot;: &quot;info-sign&quot;, &quot;iconColor&quot;: &quot;white&quot;, &quot;markerColor&quot;: &quot;orange&quot;, &quot;prefix&quot;: &quot;glyphicon&quot;}\n",
       "            );\n",
       "            marker_15f0a62c124fec815dc83242004e4b11.setIcon(icon_1018ce2f0d787bef7ac10aa50cb45568);\n",
       "        \n",
       "    \n",
       "        var popup_19688d42a617b716f5972af0cbb352ba = L.popup({&quot;maxWidth&quot;: &quot;100%&quot;});\n",
       "\n",
       "        \n",
       "            \n",
       "                var html_89970ee0e5dfbe25aab5b466e150a2e5 = $(`&lt;div id=&quot;html_89970ee0e5dfbe25aab5b466e150a2e5&quot; style=&quot;width: 100.0%; height: 100.0%;&quot;&gt;Portibi: 1 kasus, Tingkat Kerawanan: Rawan&lt;/div&gt;`)[0];\n",
       "                popup_19688d42a617b716f5972af0cbb352ba.setContent(html_89970ee0e5dfbe25aab5b466e150a2e5);\n",
       "            \n",
       "        \n",
       "\n",
       "        marker_15f0a62c124fec815dc83242004e4b11.bindPopup(popup_19688d42a617b716f5972af0cbb352ba)\n",
       "        ;\n",
       "\n",
       "        \n",
       "    \n",
       "    \n",
       "            var marker_ba7b1135be22088b232286913c121877 = L.marker(\n",
       "                [1.8957231, 99.7846397],\n",
       "                {}\n",
       "            ).addTo(map_d89d28b7c38d5368cfc1d5d82887cfd5);\n",
       "        \n",
       "    \n",
       "            var icon_cdde8665b67e9f7ff2adfc85afeb2fe1 = L.AwesomeMarkers.icon(\n",
       "                {&quot;extraClasses&quot;: &quot;fa-rotate-0&quot;, &quot;icon&quot;: &quot;info-sign&quot;, &quot;iconColor&quot;: &quot;white&quot;, &quot;markerColor&quot;: &quot;red&quot;, &quot;prefix&quot;: &quot;glyphicon&quot;}\n",
       "            );\n",
       "            marker_ba7b1135be22088b232286913c121877.setIcon(icon_cdde8665b67e9f7ff2adfc85afeb2fe1);\n",
       "        \n",
       "    \n",
       "        var popup_5968d5a8fdda1ad72a3215d90b1483da = L.popup({&quot;maxWidth&quot;: &quot;100%&quot;});\n",
       "\n",
       "        \n",
       "            \n",
       "                var html_bff3d3c88673f395d7a164b207807a74 = $(`&lt;div id=&quot;html_bff3d3c88673f395d7a164b207807a74&quot; style=&quot;width: 100.0%; height: 100.0%;&quot;&gt;Simangambat: 1 kasus, Tingkat Kerawanan: Sangat Rawan&lt;/div&gt;`)[0];\n",
       "                popup_5968d5a8fdda1ad72a3215d90b1483da.setContent(html_bff3d3c88673f395d7a164b207807a74);\n",
       "            \n",
       "        \n",
       "\n",
       "        marker_ba7b1135be22088b232286913c121877.bindPopup(popup_5968d5a8fdda1ad72a3215d90b1483da)\n",
       "        ;\n",
       "\n",
       "        \n",
       "    \n",
       "    \n",
       "            var marker_2ee6a61ee325bcf7b78f5a1d01618e23 = L.marker(\n",
       "                [1.1896051, 99.99013],\n",
       "                {}\n",
       "            ).addTo(map_d89d28b7c38d5368cfc1d5d82887cfd5);\n",
       "        \n",
       "    \n",
       "            var icon_23032cab550e954046b9b7bd9c34849c = L.AwesomeMarkers.icon(\n",
       "                {&quot;extraClasses&quot;: &quot;fa-rotate-0&quot;, &quot;icon&quot;: &quot;info-sign&quot;, &quot;iconColor&quot;: &quot;white&quot;, &quot;markerColor&quot;: &quot;red&quot;, &quot;prefix&quot;: &quot;glyphicon&quot;}\n",
       "            );\n",
       "            marker_2ee6a61ee325bcf7b78f5a1d01618e23.setIcon(icon_23032cab550e954046b9b7bd9c34849c);\n",
       "        \n",
       "    \n",
       "        var popup_a0f7c9e1f15d953916e28b98ac864a25 = L.popup({&quot;maxWidth&quot;: &quot;100%&quot;});\n",
       "\n",
       "        \n",
       "            \n",
       "                var html_2210f496521378cfa12c0eee8ae9424a = $(`&lt;div id=&quot;html_2210f496521378cfa12c0eee8ae9424a&quot; style=&quot;width: 100.0%; height: 100.0%;&quot;&gt;Ujung Batu: 1 kasus, Tingkat Kerawanan: Sangat Rawan&lt;/div&gt;`)[0];\n",
       "                popup_a0f7c9e1f15d953916e28b98ac864a25.setContent(html_2210f496521378cfa12c0eee8ae9424a);\n",
       "            \n",
       "        \n",
       "\n",
       "        marker_2ee6a61ee325bcf7b78f5a1d01618e23.bindPopup(popup_a0f7c9e1f15d953916e28b98ac864a25)\n",
       "        ;\n",
       "\n",
       "        \n",
       "    \n",
       "&lt;/script&gt;\n",
       "&lt;/html&gt;\" style=\"position:absolute;width:100%;height:100%;left:0;top:0;border:none !important;\" allowfullscreen webkitallowfullscreen mozallowfullscreen></iframe></div></div>"
      ],
      "text/plain": [
       "<folium.folium.Map at 0x24a0c806e50>"
      ]
     },
     "metadata": {},
     "output_type": "display_data"
    },
    {
     "name": "stdout",
     "output_type": "stream",
     "text": [
      "Peta untuk tahun 2023\n",
      "Analisis selesai. Semua peta telah ditampilkan.\n"
     ]
    },
    {
     "data": {
      "text/html": [
       "<div>\n",
       "<style scoped>\n",
       "    .dataframe tbody tr th:only-of-type {\n",
       "        vertical-align: middle;\n",
       "    }\n",
       "\n",
       "    .dataframe tbody tr th {\n",
       "        vertical-align: top;\n",
       "    }\n",
       "\n",
       "    .dataframe thead th {\n",
       "        text-align: right;\n",
       "    }\n",
       "</style>\n",
       "<table border=\"1\" class=\"dataframe\">\n",
       "  <thead>\n",
       "    <tr style=\"text-align: right;\">\n",
       "      <th>Tahun</th>\n",
       "      <th>Kecamatan</th>\n",
       "      <th>2019</th>\n",
       "      <th>2020</th>\n",
       "      <th>2021</th>\n",
       "      <th>2022</th>\n",
       "      <th>2023</th>\n",
       "    </tr>\n",
       "  </thead>\n",
       "  <tbody>\n",
       "    <tr>\n",
       "      <th>0</th>\n",
       "      <td>Batang Onang</td>\n",
       "      <td>Sangat Rawan</td>\n",
       "      <td>Berpotensi Rawan</td>\n",
       "      <td>Sangat Rawan</td>\n",
       "      <td>Berpotensi Rawan</td>\n",
       "      <td>Berpotensi Rawan</td>\n",
       "    </tr>\n",
       "    <tr>\n",
       "      <th>1</th>\n",
       "      <td>Dolok</td>\n",
       "      <td>Rawan</td>\n",
       "      <td>Rawan</td>\n",
       "      <td>Rawan</td>\n",
       "      <td>Sangat Rawan</td>\n",
       "      <td>Sangat Rawan</td>\n",
       "    </tr>\n",
       "    <tr>\n",
       "      <th>2</th>\n",
       "      <td>Dolok Sigompulon</td>\n",
       "      <td>Sangat Rawan</td>\n",
       "      <td>Rawan</td>\n",
       "      <td>Sangat Rawan</td>\n",
       "      <td>Sangat Rawan</td>\n",
       "      <td>Rawan</td>\n",
       "    </tr>\n",
       "    <tr>\n",
       "      <th>3</th>\n",
       "      <td>Halongonan</td>\n",
       "      <td>Aman</td>\n",
       "      <td>Aman</td>\n",
       "      <td>Sangat Rawan</td>\n",
       "      <td>Berpotensi Rawan</td>\n",
       "      <td>Berpotensi Rawan</td>\n",
       "    </tr>\n",
       "    <tr>\n",
       "      <th>4</th>\n",
       "      <td>Halongonan Timur</td>\n",
       "      <td>Aman</td>\n",
       "      <td>Sangat Rawan</td>\n",
       "      <td>Sangat Rawan</td>\n",
       "      <td>Rawan</td>\n",
       "      <td>Sangat Rawan</td>\n",
       "    </tr>\n",
       "    <tr>\n",
       "      <th>5</th>\n",
       "      <td>Hulu Sihapas</td>\n",
       "      <td>Berpotensi Rawan</td>\n",
       "      <td>Rawan</td>\n",
       "      <td>Sangat Rawan</td>\n",
       "      <td>Aman</td>\n",
       "      <td>Aman</td>\n",
       "    </tr>\n",
       "    <tr>\n",
       "      <th>6</th>\n",
       "      <td>Padang Bolak</td>\n",
       "      <td>Sangat Rawan</td>\n",
       "      <td>Sangat Rawan</td>\n",
       "      <td>Sangat Rawan</td>\n",
       "      <td>Sangat Rawan</td>\n",
       "      <td>Aman</td>\n",
       "    </tr>\n",
       "    <tr>\n",
       "      <th>7</th>\n",
       "      <td>Padang Bolak Julu</td>\n",
       "      <td>Sangat Rawan</td>\n",
       "      <td>Berpotensi Rawan</td>\n",
       "      <td>Aman</td>\n",
       "      <td>Sangat Rawan</td>\n",
       "      <td>Berpotensi Rawan</td>\n",
       "    </tr>\n",
       "    <tr>\n",
       "      <th>8</th>\n",
       "      <td>Padang Bolak Tenggara</td>\n",
       "      <td>Berpotensi Rawan</td>\n",
       "      <td>Rawan</td>\n",
       "      <td>Aman</td>\n",
       "      <td>Aman</td>\n",
       "      <td>Berpotensi Rawan</td>\n",
       "    </tr>\n",
       "    <tr>\n",
       "      <th>9</th>\n",
       "      <td>Portibi</td>\n",
       "      <td>Berpotensi Rawan</td>\n",
       "      <td>Berpotensi Rawan</td>\n",
       "      <td>Berpotensi Rawan</td>\n",
       "      <td>Aman</td>\n",
       "      <td>Rawan</td>\n",
       "    </tr>\n",
       "    <tr>\n",
       "      <th>10</th>\n",
       "      <td>Simangambat</td>\n",
       "      <td>Rawan</td>\n",
       "      <td>Rawan</td>\n",
       "      <td>Rawan</td>\n",
       "      <td>Aman</td>\n",
       "      <td>Sangat Rawan</td>\n",
       "    </tr>\n",
       "    <tr>\n",
       "      <th>11</th>\n",
       "      <td>Ujung Batu</td>\n",
       "      <td>Sangat Rawan</td>\n",
       "      <td>Sangat Rawan</td>\n",
       "      <td>Berpotensi Rawan</td>\n",
       "      <td>Sangat Rawan</td>\n",
       "      <td>Sangat Rawan</td>\n",
       "    </tr>\n",
       "  </tbody>\n",
       "</table>\n",
       "</div>"
      ],
      "text/plain": [
       "Tahun              Kecamatan              2019              2020  \\\n",
       "0               Batang Onang      Sangat Rawan  Berpotensi Rawan   \n",
       "1                      Dolok             Rawan             Rawan   \n",
       "2           Dolok Sigompulon      Sangat Rawan             Rawan   \n",
       "3                 Halongonan              Aman              Aman   \n",
       "4           Halongonan Timur              Aman      Sangat Rawan   \n",
       "5               Hulu Sihapas  Berpotensi Rawan             Rawan   \n",
       "6               Padang Bolak      Sangat Rawan      Sangat Rawan   \n",
       "7          Padang Bolak Julu      Sangat Rawan  Berpotensi Rawan   \n",
       "8      Padang Bolak Tenggara  Berpotensi Rawan             Rawan   \n",
       "9                    Portibi  Berpotensi Rawan  Berpotensi Rawan   \n",
       "10               Simangambat             Rawan             Rawan   \n",
       "11                Ujung Batu      Sangat Rawan      Sangat Rawan   \n",
       "\n",
       "Tahun              2021              2022              2023  \n",
       "0          Sangat Rawan  Berpotensi Rawan  Berpotensi Rawan  \n",
       "1                 Rawan      Sangat Rawan      Sangat Rawan  \n",
       "2          Sangat Rawan      Sangat Rawan             Rawan  \n",
       "3          Sangat Rawan  Berpotensi Rawan  Berpotensi Rawan  \n",
       "4          Sangat Rawan             Rawan      Sangat Rawan  \n",
       "5          Sangat Rawan              Aman              Aman  \n",
       "6          Sangat Rawan      Sangat Rawan              Aman  \n",
       "7                  Aman      Sangat Rawan  Berpotensi Rawan  \n",
       "8                  Aman              Aman  Berpotensi Rawan  \n",
       "9      Berpotensi Rawan              Aman             Rawan  \n",
       "10                Rawan              Aman      Sangat Rawan  \n",
       "11     Berpotensi Rawan      Sangat Rawan      Sangat Rawan  "
      ]
     },
     "metadata": {},
     "output_type": "display_data"
    }
   ],
   "source": [
    "import pandas as pd\n",
    "import numpy as np\n",
    "import folium\n",
    "from sklearn.cluster import KMeans\n",
    "from sklearn.preprocessing import StandardScaler\n",
    "from sklearn.metrics import silhouette_score\n",
    "from sklearn.impute import SimpleImputer\n",
    "from IPython.display import display\n",
    "\n",
    "# Koordinat kecamatan\n",
    "kecamatan_coords = {\n",
    "    \"Batang Onang\": [1.3166932, 99.4458336],\n",
    "    \"Dolok\": [1.6577, 98.5525],\n",
    "    \"Halongonan\": [1.6514398, 99.6593041],\n",
    "    \"Padang Bolak\": [3.5685536, 98.7273622],\n",
    "    \"Padang Bolak Julu\": [1.415091, 99.5576002],\n",
    "    \"Portibi\": [1.4375683, 99.7032047],\n",
    "    \"Simangambat\": [1.8957231, 99.7846397],\n",
    "    \"Ujung Batu\": [1.1896051, 99.99013],\n",
    "    \"Dolok Sigompulon\": [1.9700433, 99.5356889],\n",
    "    \"Halongonan Timur\": [1.6373489, 99.4558203],\n",
    "    \"Hulu Sihapas\": [1.458091, 99.4268896],\n",
    "    \"Padang Bolak Tenggara\": [1.54001, 99.3234082]\n",
    "}\n",
    "\n",
    "# Memuat data\n",
    "file_path = 'Data_Kecelakaan_Padang_Lawas_Utara.xlsx'\n",
    "df = pd.read_excel(file_path)\n",
    "\n",
    "# Pilih fitur yang relevan untuk clustering\n",
    "features = [\"Jumlah Kecelakaan\", \"Jumlah Meninggal\", \"Jumlah Luka Berat\", \"Jumlah Luka Ringan\"]\n",
    "X = df[features]\n",
    "\n",
    "# Menangani nilai yang hilang\n",
    "imputer = SimpleImputer(strategy='mean')\n",
    "X_imputed = imputer.fit_transform(X)\n",
    "\n",
    "# Normalisasi data\n",
    "scaler = StandardScaler()\n",
    "X_scaled = scaler.fit_transform(X_imputed)\n",
    "\n",
    "# Menentukan jumlah klaster optimal menggunakan silhouette score\n",
    "max_clusters = 10\n",
    "silhouette_scores = []\n",
    "\n",
    "for k in range(2, max_clusters + 1):\n",
    "    kmeans = KMeans(n_clusters=k, random_state=42, n_init=10)\n",
    "    cluster_labels = kmeans.fit_predict(X_scaled)\n",
    "    silhouette_avg = silhouette_score(X_scaled, cluster_labels)\n",
    "    silhouette_scores.append(silhouette_avg)\n",
    "\n",
    "optimal_clusters = silhouette_scores.index(max(silhouette_scores)) + 2\n",
    "print(f\"Jumlah klaster optimal: {optimal_clusters}\")\n",
    "\n",
    "# Terapkan K-Means clustering dengan jumlah klaster optimal\n",
    "kmeans = KMeans(n_clusters=optimal_clusters, random_state=42, n_init=10)\n",
    "df['Cluster'] = kmeans.fit_predict(X_scaled)\n",
    "\n",
    "# Memetakan klaster ke tingkat risiko secara dinamis\n",
    "cluster_centers = kmeans.cluster_centers_\n",
    "risk_order = np.argsort(np.sum(cluster_centers, axis=1))\n",
    "risk_levels = [\"Aman\", \"Berpotensi Rawan\", \"Rawan\", \"Sangat Rawan\"]\n",
    "cluster_map = {i: risk_levels[min(i, len(risk_levels)-1)] for i in range(optimal_clusters)}\n",
    "df['Tingkat Kerawanan'] = df['Cluster'].map(lambda x: cluster_map[risk_order[x]])\n",
    "\n",
    "# Menghitung kepentingan fitur\n",
    "feature_importance = np.abs(kmeans.cluster_centers_).mean(axis=0)\n",
    "for feature, importance in zip(features, feature_importance):\n",
    "    print(f\"{feature}: {importance:.4f}\")\n",
    "\n",
    "# Menambahkan koordinat ke DataFrame\n",
    "df['Coordinates'] = df['Kecamatan'].map(kecamatan_coords)\n",
    "\n",
    "# Hanya menyimpan baris yang memiliki koordinat yang valid\n",
    "df = df[df['Coordinates'].notna()]\n",
    "\n",
    "# Mengubah koordinat menjadi string untuk operasi groupby\n",
    "df['Coordinates_str'] = df['Coordinates'].astype(str)\n",
    "\n",
    "# Warna untuk setiap tingkat kerawanan\n",
    "color_map = {\n",
    "    \"Aman\": \"green\",\n",
    "    \"Berpotensi Rawan\": \"yellow\",\n",
    "    \"Rawan\": \"orange\",\n",
    "    \"Sangat Rawan\": \"red\"\n",
    "}\n",
    "\n",
    "# Loop melalui tahun 2019 hingga 2023\n",
    "for year in range(2019, 2024):\n",
    "    # Memfilter data untuk tahun yang sedang diproses\n",
    "    df_year = df[df['Tahun'] == year]\n",
    "    \n",
    "    # Mengelompokkan data berdasarkan kecamatan untuk tahun ini\n",
    "    severity_by_kecamatan = df_year.groupby(['Kecamatan', 'Tingkat Kerawanan', 'Coordinates_str']).size().reset_index(name='Jumlah')\n",
    "    \n",
    "    # Mengubah kembali koordinat ke list untuk pemetaan\n",
    "    severity_by_kecamatan['Coordinates'] = severity_by_kecamatan['Coordinates_str'].apply(eval)\n",
    "    \n",
    "    # Membuat peta dasar\n",
    "    m = folium.Map(location=[1.4099, 99.7092], zoom_start=10)\n",
    "    \n",
    "    # Menambahkan pin ke peta\n",
    "    for _, row in severity_by_kecamatan.iterrows():\n",
    "        coords = row['Coordinates']\n",
    "        folium.Marker(\n",
    "            location=coords,\n",
    "            popup=f\"{row['Kecamatan']}: {row['Jumlah']} kasus, Tingkat Kerawanan: {row['Tingkat Kerawanan']}\",\n",
    "            icon=folium.Icon(color=color_map[row['Tingkat Kerawanan']])\n",
    "        ).add_to(m)\n",
    "    \n",
    "    # Menampilkan peta di notebook\n",
    "    display(m)\n",
    "    print(f\"Peta untuk tahun {year}\")\n",
    "\n",
    "print(\"Analisis selesai. Semua peta telah ditampilkan.\")\n",
    "\n",
    "# Membuat tabel status rawan kecelakaan berdasarkan tahun dan kecamatan\n",
    "status_rawan_per_tahun = df.pivot_table(index='Kecamatan', columns='Tahun', values='Tingkat Kerawanan', aggfunc='first')\n",
    "\n",
    "# Menampilkan tabel status\n",
    "status_rawan_per_tahun.reset_index(inplace=True)\n",
    "display(status_rawan_per_tahun)\n"
   ]
  },
  {
   "cell_type": "code",
   "execution_count": 34,
   "metadata": {},
   "outputs": [
    {
     "name": "stderr",
     "output_type": "stream",
     "text": [
      "c:\\Users\\User\\anaconda3\\Lib\\site-packages\\sklearn\\cluster\\_kmeans.py:1436: UserWarning:\n",
      "\n",
      "KMeans is known to have a memory leak on Windows with MKL, when there are less chunks than available threads. You can avoid it by setting the environment variable OMP_NUM_THREADS=1.\n",
      "\n",
      "c:\\Users\\User\\anaconda3\\Lib\\site-packages\\sklearn\\cluster\\_kmeans.py:1436: UserWarning:\n",
      "\n",
      "KMeans is known to have a memory leak on Windows with MKL, when there are less chunks than available threads. You can avoid it by setting the environment variable OMP_NUM_THREADS=1.\n",
      "\n",
      "c:\\Users\\User\\anaconda3\\Lib\\site-packages\\sklearn\\cluster\\_kmeans.py:1436: UserWarning:\n",
      "\n",
      "KMeans is known to have a memory leak on Windows with MKL, when there are less chunks than available threads. You can avoid it by setting the environment variable OMP_NUM_THREADS=1.\n",
      "\n",
      "c:\\Users\\User\\anaconda3\\Lib\\site-packages\\sklearn\\cluster\\_kmeans.py:1436: UserWarning:\n",
      "\n",
      "KMeans is known to have a memory leak on Windows with MKL, when there are less chunks than available threads. You can avoid it by setting the environment variable OMP_NUM_THREADS=1.\n",
      "\n",
      "c:\\Users\\User\\anaconda3\\Lib\\site-packages\\sklearn\\cluster\\_kmeans.py:1436: UserWarning:\n",
      "\n",
      "KMeans is known to have a memory leak on Windows with MKL, when there are less chunks than available threads. You can avoid it by setting the environment variable OMP_NUM_THREADS=1.\n",
      "\n",
      "c:\\Users\\User\\anaconda3\\Lib\\site-packages\\sklearn\\cluster\\_kmeans.py:1436: UserWarning:\n",
      "\n",
      "KMeans is known to have a memory leak on Windows with MKL, when there are less chunks than available threads. You can avoid it by setting the environment variable OMP_NUM_THREADS=1.\n",
      "\n",
      "c:\\Users\\User\\anaconda3\\Lib\\site-packages\\sklearn\\cluster\\_kmeans.py:1436: UserWarning:\n",
      "\n",
      "KMeans is known to have a memory leak on Windows with MKL, when there are less chunks than available threads. You can avoid it by setting the environment variable OMP_NUM_THREADS=1.\n",
      "\n",
      "c:\\Users\\User\\anaconda3\\Lib\\site-packages\\sklearn\\cluster\\_kmeans.py:1436: UserWarning:\n",
      "\n",
      "KMeans is known to have a memory leak on Windows with MKL, when there are less chunks than available threads. You can avoid it by setting the environment variable OMP_NUM_THREADS=1.\n",
      "\n",
      "c:\\Users\\User\\anaconda3\\Lib\\site-packages\\sklearn\\cluster\\_kmeans.py:1436: UserWarning:\n",
      "\n",
      "KMeans is known to have a memory leak on Windows with MKL, when there are less chunks than available threads. You can avoid it by setting the environment variable OMP_NUM_THREADS=1.\n",
      "\n"
     ]
    },
    {
     "name": "stdout",
     "output_type": "stream",
     "text": [
      "Jumlah klaster optimal: 6\n"
     ]
    },
    {
     "name": "stderr",
     "output_type": "stream",
     "text": [
      "c:\\Users\\User\\anaconda3\\Lib\\site-packages\\sklearn\\cluster\\_kmeans.py:1436: UserWarning:\n",
      "\n",
      "KMeans is known to have a memory leak on Windows with MKL, when there are less chunks than available threads. You can avoid it by setting the environment variable OMP_NUM_THREADS=1.\n",
      "\n"
     ]
    },
    {
     "data": {
      "application/vnd.plotly.v1+json": {
       "config": {
        "plotlyServerURL": "https://plot.ly"
       },
       "data": [
        {
         "colorscale": [
          [
           0,
           "rgb(247,251,255)"
          ],
          [
           0.125,
           "rgb(222,235,247)"
          ],
          [
           0.25,
           "rgb(198,219,239)"
          ],
          [
           0.375,
           "rgb(158,202,225)"
          ],
          [
           0.5,
           "rgb(107,174,214)"
          ],
          [
           0.625,
           "rgb(66,146,198)"
          ],
          [
           0.75,
           "rgb(33,113,181)"
          ],
          [
           0.875,
           "rgb(8,81,156)"
          ],
          [
           1,
           "rgb(8,48,107)"
          ]
         ],
         "showscale": true,
         "type": "heatmap",
         "x": [
          "Cluster Sangat Rawan",
          "Cluster Aman",
          "Cluster Berpotensi Rawan",
          "Cluster Sangat Rawan",
          "Cluster Sangat Rawan",
          "Cluster Rawan"
         ],
         "y": [
          "Aman/Rawan",
          "Rawan/Aman"
         ],
         "z": [
          [
           11,
           11,
           0,
           5,
           7,
           12
          ],
          [
           0,
           0,
           14,
           0,
           0,
           0
          ],
          [
           0,
           0,
           0,
           0,
           0,
           0
          ],
          [
           0,
           0,
           0,
           0,
           0,
           0
          ],
          [
           0,
           0,
           0,
           0,
           0,
           0
          ],
          [
           0,
           0,
           0,
           0,
           0,
           0
          ]
         ]
        }
       ],
       "layout": {
        "height": 600,
        "template": {
         "data": {
          "bar": [
           {
            "error_x": {
             "color": "#2a3f5f"
            },
            "error_y": {
             "color": "#2a3f5f"
            },
            "marker": {
             "line": {
              "color": "#E5ECF6",
              "width": 0.5
             },
             "pattern": {
              "fillmode": "overlay",
              "size": 10,
              "solidity": 0.2
             }
            },
            "type": "bar"
           }
          ],
          "barpolar": [
           {
            "marker": {
             "line": {
              "color": "#E5ECF6",
              "width": 0.5
             },
             "pattern": {
              "fillmode": "overlay",
              "size": 10,
              "solidity": 0.2
             }
            },
            "type": "barpolar"
           }
          ],
          "carpet": [
           {
            "aaxis": {
             "endlinecolor": "#2a3f5f",
             "gridcolor": "white",
             "linecolor": "white",
             "minorgridcolor": "white",
             "startlinecolor": "#2a3f5f"
            },
            "baxis": {
             "endlinecolor": "#2a3f5f",
             "gridcolor": "white",
             "linecolor": "white",
             "minorgridcolor": "white",
             "startlinecolor": "#2a3f5f"
            },
            "type": "carpet"
           }
          ],
          "choropleth": [
           {
            "colorbar": {
             "outlinewidth": 0,
             "ticks": ""
            },
            "type": "choropleth"
           }
          ],
          "contour": [
           {
            "colorbar": {
             "outlinewidth": 0,
             "ticks": ""
            },
            "colorscale": [
             [
              0,
              "#0d0887"
             ],
             [
              0.1111111111111111,
              "#46039f"
             ],
             [
              0.2222222222222222,
              "#7201a8"
             ],
             [
              0.3333333333333333,
              "#9c179e"
             ],
             [
              0.4444444444444444,
              "#bd3786"
             ],
             [
              0.5555555555555556,
              "#d8576b"
             ],
             [
              0.6666666666666666,
              "#ed7953"
             ],
             [
              0.7777777777777778,
              "#fb9f3a"
             ],
             [
              0.8888888888888888,
              "#fdca26"
             ],
             [
              1,
              "#f0f921"
             ]
            ],
            "type": "contour"
           }
          ],
          "contourcarpet": [
           {
            "colorbar": {
             "outlinewidth": 0,
             "ticks": ""
            },
            "type": "contourcarpet"
           }
          ],
          "heatmap": [
           {
            "colorbar": {
             "outlinewidth": 0,
             "ticks": ""
            },
            "colorscale": [
             [
              0,
              "#0d0887"
             ],
             [
              0.1111111111111111,
              "#46039f"
             ],
             [
              0.2222222222222222,
              "#7201a8"
             ],
             [
              0.3333333333333333,
              "#9c179e"
             ],
             [
              0.4444444444444444,
              "#bd3786"
             ],
             [
              0.5555555555555556,
              "#d8576b"
             ],
             [
              0.6666666666666666,
              "#ed7953"
             ],
             [
              0.7777777777777778,
              "#fb9f3a"
             ],
             [
              0.8888888888888888,
              "#fdca26"
             ],
             [
              1,
              "#f0f921"
             ]
            ],
            "type": "heatmap"
           }
          ],
          "heatmapgl": [
           {
            "colorbar": {
             "outlinewidth": 0,
             "ticks": ""
            },
            "colorscale": [
             [
              0,
              "#0d0887"
             ],
             [
              0.1111111111111111,
              "#46039f"
             ],
             [
              0.2222222222222222,
              "#7201a8"
             ],
             [
              0.3333333333333333,
              "#9c179e"
             ],
             [
              0.4444444444444444,
              "#bd3786"
             ],
             [
              0.5555555555555556,
              "#d8576b"
             ],
             [
              0.6666666666666666,
              "#ed7953"
             ],
             [
              0.7777777777777778,
              "#fb9f3a"
             ],
             [
              0.8888888888888888,
              "#fdca26"
             ],
             [
              1,
              "#f0f921"
             ]
            ],
            "type": "heatmapgl"
           }
          ],
          "histogram": [
           {
            "marker": {
             "pattern": {
              "fillmode": "overlay",
              "size": 10,
              "solidity": 0.2
             }
            },
            "type": "histogram"
           }
          ],
          "histogram2d": [
           {
            "colorbar": {
             "outlinewidth": 0,
             "ticks": ""
            },
            "colorscale": [
             [
              0,
              "#0d0887"
             ],
             [
              0.1111111111111111,
              "#46039f"
             ],
             [
              0.2222222222222222,
              "#7201a8"
             ],
             [
              0.3333333333333333,
              "#9c179e"
             ],
             [
              0.4444444444444444,
              "#bd3786"
             ],
             [
              0.5555555555555556,
              "#d8576b"
             ],
             [
              0.6666666666666666,
              "#ed7953"
             ],
             [
              0.7777777777777778,
              "#fb9f3a"
             ],
             [
              0.8888888888888888,
              "#fdca26"
             ],
             [
              1,
              "#f0f921"
             ]
            ],
            "type": "histogram2d"
           }
          ],
          "histogram2dcontour": [
           {
            "colorbar": {
             "outlinewidth": 0,
             "ticks": ""
            },
            "colorscale": [
             [
              0,
              "#0d0887"
             ],
             [
              0.1111111111111111,
              "#46039f"
             ],
             [
              0.2222222222222222,
              "#7201a8"
             ],
             [
              0.3333333333333333,
              "#9c179e"
             ],
             [
              0.4444444444444444,
              "#bd3786"
             ],
             [
              0.5555555555555556,
              "#d8576b"
             ],
             [
              0.6666666666666666,
              "#ed7953"
             ],
             [
              0.7777777777777778,
              "#fb9f3a"
             ],
             [
              0.8888888888888888,
              "#fdca26"
             ],
             [
              1,
              "#f0f921"
             ]
            ],
            "type": "histogram2dcontour"
           }
          ],
          "mesh3d": [
           {
            "colorbar": {
             "outlinewidth": 0,
             "ticks": ""
            },
            "type": "mesh3d"
           }
          ],
          "parcoords": [
           {
            "line": {
             "colorbar": {
              "outlinewidth": 0,
              "ticks": ""
             }
            },
            "type": "parcoords"
           }
          ],
          "pie": [
           {
            "automargin": true,
            "type": "pie"
           }
          ],
          "scatter": [
           {
            "fillpattern": {
             "fillmode": "overlay",
             "size": 10,
             "solidity": 0.2
            },
            "type": "scatter"
           }
          ],
          "scatter3d": [
           {
            "line": {
             "colorbar": {
              "outlinewidth": 0,
              "ticks": ""
             }
            },
            "marker": {
             "colorbar": {
              "outlinewidth": 0,
              "ticks": ""
             }
            },
            "type": "scatter3d"
           }
          ],
          "scattercarpet": [
           {
            "marker": {
             "colorbar": {
              "outlinewidth": 0,
              "ticks": ""
             }
            },
            "type": "scattercarpet"
           }
          ],
          "scattergeo": [
           {
            "marker": {
             "colorbar": {
              "outlinewidth": 0,
              "ticks": ""
             }
            },
            "type": "scattergeo"
           }
          ],
          "scattergl": [
           {
            "marker": {
             "colorbar": {
              "outlinewidth": 0,
              "ticks": ""
             }
            },
            "type": "scattergl"
           }
          ],
          "scattermapbox": [
           {
            "marker": {
             "colorbar": {
              "outlinewidth": 0,
              "ticks": ""
             }
            },
            "type": "scattermapbox"
           }
          ],
          "scatterpolar": [
           {
            "marker": {
             "colorbar": {
              "outlinewidth": 0,
              "ticks": ""
             }
            },
            "type": "scatterpolar"
           }
          ],
          "scatterpolargl": [
           {
            "marker": {
             "colorbar": {
              "outlinewidth": 0,
              "ticks": ""
             }
            },
            "type": "scatterpolargl"
           }
          ],
          "scatterternary": [
           {
            "marker": {
             "colorbar": {
              "outlinewidth": 0,
              "ticks": ""
             }
            },
            "type": "scatterternary"
           }
          ],
          "surface": [
           {
            "colorbar": {
             "outlinewidth": 0,
             "ticks": ""
            },
            "colorscale": [
             [
              0,
              "#0d0887"
             ],
             [
              0.1111111111111111,
              "#46039f"
             ],
             [
              0.2222222222222222,
              "#7201a8"
             ],
             [
              0.3333333333333333,
              "#9c179e"
             ],
             [
              0.4444444444444444,
              "#bd3786"
             ],
             [
              0.5555555555555556,
              "#d8576b"
             ],
             [
              0.6666666666666666,
              "#ed7953"
             ],
             [
              0.7777777777777778,
              "#fb9f3a"
             ],
             [
              0.8888888888888888,
              "#fdca26"
             ],
             [
              1,
              "#f0f921"
             ]
            ],
            "type": "surface"
           }
          ],
          "table": [
           {
            "cells": {
             "fill": {
              "color": "#EBF0F8"
             },
             "line": {
              "color": "white"
             }
            },
            "header": {
             "fill": {
              "color": "#C8D4E3"
             },
             "line": {
              "color": "white"
             }
            },
            "type": "table"
           }
          ]
         },
         "layout": {
          "annotationdefaults": {
           "arrowcolor": "#2a3f5f",
           "arrowhead": 0,
           "arrowwidth": 1
          },
          "autotypenumbers": "strict",
          "coloraxis": {
           "colorbar": {
            "outlinewidth": 0,
            "ticks": ""
           }
          },
          "colorscale": {
           "diverging": [
            [
             0,
             "#8e0152"
            ],
            [
             0.1,
             "#c51b7d"
            ],
            [
             0.2,
             "#de77ae"
            ],
            [
             0.3,
             "#f1b6da"
            ],
            [
             0.4,
             "#fde0ef"
            ],
            [
             0.5,
             "#f7f7f7"
            ],
            [
             0.6,
             "#e6f5d0"
            ],
            [
             0.7,
             "#b8e186"
            ],
            [
             0.8,
             "#7fbc41"
            ],
            [
             0.9,
             "#4d9221"
            ],
            [
             1,
             "#276419"
            ]
           ],
           "sequential": [
            [
             0,
             "#0d0887"
            ],
            [
             0.1111111111111111,
             "#46039f"
            ],
            [
             0.2222222222222222,
             "#7201a8"
            ],
            [
             0.3333333333333333,
             "#9c179e"
            ],
            [
             0.4444444444444444,
             "#bd3786"
            ],
            [
             0.5555555555555556,
             "#d8576b"
            ],
            [
             0.6666666666666666,
             "#ed7953"
            ],
            [
             0.7777777777777778,
             "#fb9f3a"
            ],
            [
             0.8888888888888888,
             "#fdca26"
            ],
            [
             1,
             "#f0f921"
            ]
           ],
           "sequentialminus": [
            [
             0,
             "#0d0887"
            ],
            [
             0.1111111111111111,
             "#46039f"
            ],
            [
             0.2222222222222222,
             "#7201a8"
            ],
            [
             0.3333333333333333,
             "#9c179e"
            ],
            [
             0.4444444444444444,
             "#bd3786"
            ],
            [
             0.5555555555555556,
             "#d8576b"
            ],
            [
             0.6666666666666666,
             "#ed7953"
            ],
            [
             0.7777777777777778,
             "#fb9f3a"
            ],
            [
             0.8888888888888888,
             "#fdca26"
            ],
            [
             1,
             "#f0f921"
            ]
           ]
          },
          "colorway": [
           "#636efa",
           "#EF553B",
           "#00cc96",
           "#ab63fa",
           "#FFA15A",
           "#19d3f3",
           "#FF6692",
           "#B6E880",
           "#FF97FF",
           "#FECB52"
          ],
          "font": {
           "color": "#2a3f5f"
          },
          "geo": {
           "bgcolor": "white",
           "lakecolor": "white",
           "landcolor": "#E5ECF6",
           "showlakes": true,
           "showland": true,
           "subunitcolor": "white"
          },
          "hoverlabel": {
           "align": "left"
          },
          "hovermode": "closest",
          "mapbox": {
           "style": "light"
          },
          "paper_bgcolor": "white",
          "plot_bgcolor": "#E5ECF6",
          "polar": {
           "angularaxis": {
            "gridcolor": "white",
            "linecolor": "white",
            "ticks": ""
           },
           "bgcolor": "#E5ECF6",
           "radialaxis": {
            "gridcolor": "white",
            "linecolor": "white",
            "ticks": ""
           }
          },
          "scene": {
           "xaxis": {
            "backgroundcolor": "#E5ECF6",
            "gridcolor": "white",
            "gridwidth": 2,
            "linecolor": "white",
            "showbackground": true,
            "ticks": "",
            "zerolinecolor": "white"
           },
           "yaxis": {
            "backgroundcolor": "#E5ECF6",
            "gridcolor": "white",
            "gridwidth": 2,
            "linecolor": "white",
            "showbackground": true,
            "ticks": "",
            "zerolinecolor": "white"
           },
           "zaxis": {
            "backgroundcolor": "#E5ECF6",
            "gridcolor": "white",
            "gridwidth": 2,
            "linecolor": "white",
            "showbackground": true,
            "ticks": "",
            "zerolinecolor": "white"
           }
          },
          "shapedefaults": {
           "line": {
            "color": "#2a3f5f"
           }
          },
          "ternary": {
           "aaxis": {
            "gridcolor": "white",
            "linecolor": "white",
            "ticks": ""
           },
           "baxis": {
            "gridcolor": "white",
            "linecolor": "white",
            "ticks": ""
           },
           "bgcolor": "#E5ECF6",
           "caxis": {
            "gridcolor": "white",
            "linecolor": "white",
            "ticks": ""
           }
          },
          "title": {
           "x": 0.05
          },
          "xaxis": {
           "automargin": true,
           "gridcolor": "white",
           "linecolor": "white",
           "ticks": "",
           "title": {
            "standoff": 15
           },
           "zerolinecolor": "white",
           "zerolinewidth": 2
          },
          "yaxis": {
           "automargin": true,
           "gridcolor": "white",
           "linecolor": "white",
           "ticks": "",
           "title": {
            "standoff": 15
           },
           "zerolinecolor": "white",
           "zerolinewidth": 2
          }
         }
        },
        "title": {
         "text": "Confusion Matrix Heatmap"
        },
        "width": 800,
        "xaxis": {
         "title": {
          "text": "Predicted Clusters"
         }
        },
        "yaxis": {
         "title": {
          "text": "Actual Classes"
         }
        }
       }
      }
     },
     "metadata": {},
     "output_type": "display_data"
    },
    {
     "data": {
      "application/vnd.plotly.v1+json": {
       "config": {
        "plotlyServerURL": "https://plot.ly"
       },
       "data": [
        {
         "marker": {
          "color": "rgb(55, 83, 109)"
         },
         "name": "Without Purity",
         "type": "bar",
         "x": [
          "Silhouette Score",
          "Calinski-Harabasz Score",
          "Davies-Bouldin Score",
          "Purity"
         ],
         "y": [
          0.28979365610473296,
          20.938853934402196,
          0.49174204527956933,
          0
         ]
        },
        {
         "marker": {
          "color": "rgb(26, 118, 255)"
         },
         "name": "With Purity",
         "type": "bar",
         "x": [
          "Silhouette Score",
          "Calinski-Harabasz Score",
          "Davies-Bouldin Score",
          "Purity"
         ],
         "y": [
          0.28979365610473296,
          20.938853934402196,
          0.49174204527956933,
          1
         ]
        }
       ],
       "layout": {
        "barmode": "group",
        "height": 500,
        "template": {
         "data": {
          "bar": [
           {
            "error_x": {
             "color": "#2a3f5f"
            },
            "error_y": {
             "color": "#2a3f5f"
            },
            "marker": {
             "line": {
              "color": "#E5ECF6",
              "width": 0.5
             },
             "pattern": {
              "fillmode": "overlay",
              "size": 10,
              "solidity": 0.2
             }
            },
            "type": "bar"
           }
          ],
          "barpolar": [
           {
            "marker": {
             "line": {
              "color": "#E5ECF6",
              "width": 0.5
             },
             "pattern": {
              "fillmode": "overlay",
              "size": 10,
              "solidity": 0.2
             }
            },
            "type": "barpolar"
           }
          ],
          "carpet": [
           {
            "aaxis": {
             "endlinecolor": "#2a3f5f",
             "gridcolor": "white",
             "linecolor": "white",
             "minorgridcolor": "white",
             "startlinecolor": "#2a3f5f"
            },
            "baxis": {
             "endlinecolor": "#2a3f5f",
             "gridcolor": "white",
             "linecolor": "white",
             "minorgridcolor": "white",
             "startlinecolor": "#2a3f5f"
            },
            "type": "carpet"
           }
          ],
          "choropleth": [
           {
            "colorbar": {
             "outlinewidth": 0,
             "ticks": ""
            },
            "type": "choropleth"
           }
          ],
          "contour": [
           {
            "colorbar": {
             "outlinewidth": 0,
             "ticks": ""
            },
            "colorscale": [
             [
              0,
              "#0d0887"
             ],
             [
              0.1111111111111111,
              "#46039f"
             ],
             [
              0.2222222222222222,
              "#7201a8"
             ],
             [
              0.3333333333333333,
              "#9c179e"
             ],
             [
              0.4444444444444444,
              "#bd3786"
             ],
             [
              0.5555555555555556,
              "#d8576b"
             ],
             [
              0.6666666666666666,
              "#ed7953"
             ],
             [
              0.7777777777777778,
              "#fb9f3a"
             ],
             [
              0.8888888888888888,
              "#fdca26"
             ],
             [
              1,
              "#f0f921"
             ]
            ],
            "type": "contour"
           }
          ],
          "contourcarpet": [
           {
            "colorbar": {
             "outlinewidth": 0,
             "ticks": ""
            },
            "type": "contourcarpet"
           }
          ],
          "heatmap": [
           {
            "colorbar": {
             "outlinewidth": 0,
             "ticks": ""
            },
            "colorscale": [
             [
              0,
              "#0d0887"
             ],
             [
              0.1111111111111111,
              "#46039f"
             ],
             [
              0.2222222222222222,
              "#7201a8"
             ],
             [
              0.3333333333333333,
              "#9c179e"
             ],
             [
              0.4444444444444444,
              "#bd3786"
             ],
             [
              0.5555555555555556,
              "#d8576b"
             ],
             [
              0.6666666666666666,
              "#ed7953"
             ],
             [
              0.7777777777777778,
              "#fb9f3a"
             ],
             [
              0.8888888888888888,
              "#fdca26"
             ],
             [
              1,
              "#f0f921"
             ]
            ],
            "type": "heatmap"
           }
          ],
          "heatmapgl": [
           {
            "colorbar": {
             "outlinewidth": 0,
             "ticks": ""
            },
            "colorscale": [
             [
              0,
              "#0d0887"
             ],
             [
              0.1111111111111111,
              "#46039f"
             ],
             [
              0.2222222222222222,
              "#7201a8"
             ],
             [
              0.3333333333333333,
              "#9c179e"
             ],
             [
              0.4444444444444444,
              "#bd3786"
             ],
             [
              0.5555555555555556,
              "#d8576b"
             ],
             [
              0.6666666666666666,
              "#ed7953"
             ],
             [
              0.7777777777777778,
              "#fb9f3a"
             ],
             [
              0.8888888888888888,
              "#fdca26"
             ],
             [
              1,
              "#f0f921"
             ]
            ],
            "type": "heatmapgl"
           }
          ],
          "histogram": [
           {
            "marker": {
             "pattern": {
              "fillmode": "overlay",
              "size": 10,
              "solidity": 0.2
             }
            },
            "type": "histogram"
           }
          ],
          "histogram2d": [
           {
            "colorbar": {
             "outlinewidth": 0,
             "ticks": ""
            },
            "colorscale": [
             [
              0,
              "#0d0887"
             ],
             [
              0.1111111111111111,
              "#46039f"
             ],
             [
              0.2222222222222222,
              "#7201a8"
             ],
             [
              0.3333333333333333,
              "#9c179e"
             ],
             [
              0.4444444444444444,
              "#bd3786"
             ],
             [
              0.5555555555555556,
              "#d8576b"
             ],
             [
              0.6666666666666666,
              "#ed7953"
             ],
             [
              0.7777777777777778,
              "#fb9f3a"
             ],
             [
              0.8888888888888888,
              "#fdca26"
             ],
             [
              1,
              "#f0f921"
             ]
            ],
            "type": "histogram2d"
           }
          ],
          "histogram2dcontour": [
           {
            "colorbar": {
             "outlinewidth": 0,
             "ticks": ""
            },
            "colorscale": [
             [
              0,
              "#0d0887"
             ],
             [
              0.1111111111111111,
              "#46039f"
             ],
             [
              0.2222222222222222,
              "#7201a8"
             ],
             [
              0.3333333333333333,
              "#9c179e"
             ],
             [
              0.4444444444444444,
              "#bd3786"
             ],
             [
              0.5555555555555556,
              "#d8576b"
             ],
             [
              0.6666666666666666,
              "#ed7953"
             ],
             [
              0.7777777777777778,
              "#fb9f3a"
             ],
             [
              0.8888888888888888,
              "#fdca26"
             ],
             [
              1,
              "#f0f921"
             ]
            ],
            "type": "histogram2dcontour"
           }
          ],
          "mesh3d": [
           {
            "colorbar": {
             "outlinewidth": 0,
             "ticks": ""
            },
            "type": "mesh3d"
           }
          ],
          "parcoords": [
           {
            "line": {
             "colorbar": {
              "outlinewidth": 0,
              "ticks": ""
             }
            },
            "type": "parcoords"
           }
          ],
          "pie": [
           {
            "automargin": true,
            "type": "pie"
           }
          ],
          "scatter": [
           {
            "fillpattern": {
             "fillmode": "overlay",
             "size": 10,
             "solidity": 0.2
            },
            "type": "scatter"
           }
          ],
          "scatter3d": [
           {
            "line": {
             "colorbar": {
              "outlinewidth": 0,
              "ticks": ""
             }
            },
            "marker": {
             "colorbar": {
              "outlinewidth": 0,
              "ticks": ""
             }
            },
            "type": "scatter3d"
           }
          ],
          "scattercarpet": [
           {
            "marker": {
             "colorbar": {
              "outlinewidth": 0,
              "ticks": ""
             }
            },
            "type": "scattercarpet"
           }
          ],
          "scattergeo": [
           {
            "marker": {
             "colorbar": {
              "outlinewidth": 0,
              "ticks": ""
             }
            },
            "type": "scattergeo"
           }
          ],
          "scattergl": [
           {
            "marker": {
             "colorbar": {
              "outlinewidth": 0,
              "ticks": ""
             }
            },
            "type": "scattergl"
           }
          ],
          "scattermapbox": [
           {
            "marker": {
             "colorbar": {
              "outlinewidth": 0,
              "ticks": ""
             }
            },
            "type": "scattermapbox"
           }
          ],
          "scatterpolar": [
           {
            "marker": {
             "colorbar": {
              "outlinewidth": 0,
              "ticks": ""
             }
            },
            "type": "scatterpolar"
           }
          ],
          "scatterpolargl": [
           {
            "marker": {
             "colorbar": {
              "outlinewidth": 0,
              "ticks": ""
             }
            },
            "type": "scatterpolargl"
           }
          ],
          "scatterternary": [
           {
            "marker": {
             "colorbar": {
              "outlinewidth": 0,
              "ticks": ""
             }
            },
            "type": "scatterternary"
           }
          ],
          "surface": [
           {
            "colorbar": {
             "outlinewidth": 0,
             "ticks": ""
            },
            "colorscale": [
             [
              0,
              "#0d0887"
             ],
             [
              0.1111111111111111,
              "#46039f"
             ],
             [
              0.2222222222222222,
              "#7201a8"
             ],
             [
              0.3333333333333333,
              "#9c179e"
             ],
             [
              0.4444444444444444,
              "#bd3786"
             ],
             [
              0.5555555555555556,
              "#d8576b"
             ],
             [
              0.6666666666666666,
              "#ed7953"
             ],
             [
              0.7777777777777778,
              "#fb9f3a"
             ],
             [
              0.8888888888888888,
              "#fdca26"
             ],
             [
              1,
              "#f0f921"
             ]
            ],
            "type": "surface"
           }
          ],
          "table": [
           {
            "cells": {
             "fill": {
              "color": "#EBF0F8"
             },
             "line": {
              "color": "white"
             }
            },
            "header": {
             "fill": {
              "color": "#C8D4E3"
             },
             "line": {
              "color": "white"
             }
            },
            "type": "table"
           }
          ]
         },
         "layout": {
          "annotationdefaults": {
           "arrowcolor": "#2a3f5f",
           "arrowhead": 0,
           "arrowwidth": 1
          },
          "autotypenumbers": "strict",
          "coloraxis": {
           "colorbar": {
            "outlinewidth": 0,
            "ticks": ""
           }
          },
          "colorscale": {
           "diverging": [
            [
             0,
             "#8e0152"
            ],
            [
             0.1,
             "#c51b7d"
            ],
            [
             0.2,
             "#de77ae"
            ],
            [
             0.3,
             "#f1b6da"
            ],
            [
             0.4,
             "#fde0ef"
            ],
            [
             0.5,
             "#f7f7f7"
            ],
            [
             0.6,
             "#e6f5d0"
            ],
            [
             0.7,
             "#b8e186"
            ],
            [
             0.8,
             "#7fbc41"
            ],
            [
             0.9,
             "#4d9221"
            ],
            [
             1,
             "#276419"
            ]
           ],
           "sequential": [
            [
             0,
             "#0d0887"
            ],
            [
             0.1111111111111111,
             "#46039f"
            ],
            [
             0.2222222222222222,
             "#7201a8"
            ],
            [
             0.3333333333333333,
             "#9c179e"
            ],
            [
             0.4444444444444444,
             "#bd3786"
            ],
            [
             0.5555555555555556,
             "#d8576b"
            ],
            [
             0.6666666666666666,
             "#ed7953"
            ],
            [
             0.7777777777777778,
             "#fb9f3a"
            ],
            [
             0.8888888888888888,
             "#fdca26"
            ],
            [
             1,
             "#f0f921"
            ]
           ],
           "sequentialminus": [
            [
             0,
             "#0d0887"
            ],
            [
             0.1111111111111111,
             "#46039f"
            ],
            [
             0.2222222222222222,
             "#7201a8"
            ],
            [
             0.3333333333333333,
             "#9c179e"
            ],
            [
             0.4444444444444444,
             "#bd3786"
            ],
            [
             0.5555555555555556,
             "#d8576b"
            ],
            [
             0.6666666666666666,
             "#ed7953"
            ],
            [
             0.7777777777777778,
             "#fb9f3a"
            ],
            [
             0.8888888888888888,
             "#fdca26"
            ],
            [
             1,
             "#f0f921"
            ]
           ]
          },
          "colorway": [
           "#636efa",
           "#EF553B",
           "#00cc96",
           "#ab63fa",
           "#FFA15A",
           "#19d3f3",
           "#FF6692",
           "#B6E880",
           "#FF97FF",
           "#FECB52"
          ],
          "font": {
           "color": "#2a3f5f"
          },
          "geo": {
           "bgcolor": "white",
           "lakecolor": "white",
           "landcolor": "#E5ECF6",
           "showlakes": true,
           "showland": true,
           "subunitcolor": "white"
          },
          "hoverlabel": {
           "align": "left"
          },
          "hovermode": "closest",
          "mapbox": {
           "style": "light"
          },
          "paper_bgcolor": "white",
          "plot_bgcolor": "#E5ECF6",
          "polar": {
           "angularaxis": {
            "gridcolor": "white",
            "linecolor": "white",
            "ticks": ""
           },
           "bgcolor": "#E5ECF6",
           "radialaxis": {
            "gridcolor": "white",
            "linecolor": "white",
            "ticks": ""
           }
          },
          "scene": {
           "xaxis": {
            "backgroundcolor": "#E5ECF6",
            "gridcolor": "white",
            "gridwidth": 2,
            "linecolor": "white",
            "showbackground": true,
            "ticks": "",
            "zerolinecolor": "white"
           },
           "yaxis": {
            "backgroundcolor": "#E5ECF6",
            "gridcolor": "white",
            "gridwidth": 2,
            "linecolor": "white",
            "showbackground": true,
            "ticks": "",
            "zerolinecolor": "white"
           },
           "zaxis": {
            "backgroundcolor": "#E5ECF6",
            "gridcolor": "white",
            "gridwidth": 2,
            "linecolor": "white",
            "showbackground": true,
            "ticks": "",
            "zerolinecolor": "white"
           }
          },
          "shapedefaults": {
           "line": {
            "color": "#2a3f5f"
           }
          },
          "ternary": {
           "aaxis": {
            "gridcolor": "white",
            "linecolor": "white",
            "ticks": ""
           },
           "baxis": {
            "gridcolor": "white",
            "linecolor": "white",
            "ticks": ""
           },
           "bgcolor": "#E5ECF6",
           "caxis": {
            "gridcolor": "white",
            "linecolor": "white",
            "ticks": ""
           }
          },
          "title": {
           "x": 0.05
          },
          "xaxis": {
           "automargin": true,
           "gridcolor": "white",
           "linecolor": "white",
           "ticks": "",
           "title": {
            "standoff": 15
           },
           "zerolinecolor": "white",
           "zerolinewidth": 2
          },
          "yaxis": {
           "automargin": true,
           "gridcolor": "white",
           "linecolor": "white",
           "ticks": "",
           "title": {
            "standoff": 15
           },
           "zerolinecolor": "white",
           "zerolinewidth": 2
          }
         }
        },
        "title": {
         "text": "Comparison of Clustering Evaluation Metrics"
        },
        "width": 800,
        "xaxis": {
         "title": {
          "text": "Metric"
         }
        },
        "yaxis": {
         "title": {
          "text": "Score (Normalized)"
         }
        }
       }
      }
     },
     "metadata": {},
     "output_type": "display_data"
    },
    {
     "data": {
      "application/vnd.plotly.v1+json": {
       "config": {
        "plotlyServerURL": "https://plot.ly"
       },
       "data": [
        {
         "customdata": [
          [
           0,
           "Sangat Rawan"
          ],
          [
           4,
           "Sangat Rawan"
          ],
          [
           4,
           "Sangat Rawan"
          ],
          [
           3,
           "Sangat Rawan"
          ],
          [
           0,
           "Sangat Rawan"
          ],
          [
           0,
           "Sangat Rawan"
          ],
          [
           3,
           "Sangat Rawan"
          ],
          [
           4,
           "Sangat Rawan"
          ],
          [
           3,
           "Sangat Rawan"
          ],
          [
           0,
           "Sangat Rawan"
          ],
          [
           4,
           "Sangat Rawan"
          ],
          [
           0,
           "Sangat Rawan"
          ],
          [
           0,
           "Sangat Rawan"
          ],
          [
           0,
           "Sangat Rawan"
          ],
          [
           4,
           "Sangat Rawan"
          ],
          [
           0,
           "Sangat Rawan"
          ],
          [
           4,
           "Sangat Rawan"
          ],
          [
           0,
           "Sangat Rawan"
          ],
          [
           3,
           "Sangat Rawan"
          ],
          [
           4,
           "Sangat Rawan"
          ],
          [
           3,
           "Sangat Rawan"
          ],
          [
           0,
           "Sangat Rawan"
          ],
          [
           0,
           "Sangat Rawan"
          ]
         ],
         "hovertemplate": "Cluster Level=Sangat Rawan<br>t-SNE Dimension 1=%{x}<br>t-SNE Dimension 2=%{y}<br>Cluster=%{customdata[0]}<br>Tingkat Kerawanan=%{customdata[1]}<extra></extra>",
         "legendgroup": "Sangat Rawan",
         "marker": {
          "color": "red",
          "symbol": "circle"
         },
         "mode": "markers",
         "name": "Sangat Rawan",
         "orientation": "v",
         "showlegend": true,
         "type": "scatter",
         "x": [
          1.0934562683105469,
          -0.42392483353614807,
          0.48180755972862244,
          0.12096729874610901,
          1.988896369934082,
          1.6135293245315552,
          -1.095537543296814,
          -0.20315666496753693,
          -0.6882452368736267,
          0.8336034417152405,
          -0.16765481233596802,
          0.831315815448761,
          0.4545329511165619,
          1.0625807046890259,
          0.4360309839248657,
          0.6652081608772278,
          -0.4284898638725281,
          1.4950671195983887,
          -0.3636893928050995,
          -1.4720025062561035,
          -1.523568034172058,
          1.8844892978668213,
          1.2946500778198242
         ],
         "xaxis": "x",
         "y": [
          -5.5846943855285645,
          -4.7824578285217285,
          -4.629433631896973,
          -8.018327713012695,
          -5.567206382751465,
          -5.601673126220703,
          -7.725306510925293,
          -4.811517715454102,
          -6.983081340789795,
          -6.989954948425293,
          -4.351363182067871,
          -7.314676284790039,
          -7.749739646911621,
          -5.571439266204834,
          -4.313257694244385,
          -5.977612018585205,
          -4.626583576202393,
          -6.475099086761475,
          -7.323251247406006,
          -5.154238700866699,
          -8.58863353729248,
          -6.234622478485107,
          -6.031013011932373
         ],
         "yaxis": "y"
        },
        {
         "customdata": [
          [
           2,
           "Berpotensi Rawan"
          ],
          [
           2,
           "Berpotensi Rawan"
          ],
          [
           2,
           "Berpotensi Rawan"
          ],
          [
           2,
           "Berpotensi Rawan"
          ],
          [
           2,
           "Berpotensi Rawan"
          ],
          [
           2,
           "Berpotensi Rawan"
          ],
          [
           2,
           "Berpotensi Rawan"
          ],
          [
           2,
           "Berpotensi Rawan"
          ],
          [
           2,
           "Berpotensi Rawan"
          ],
          [
           2,
           "Berpotensi Rawan"
          ],
          [
           2,
           "Berpotensi Rawan"
          ],
          [
           2,
           "Berpotensi Rawan"
          ],
          [
           2,
           "Berpotensi Rawan"
          ],
          [
           2,
           "Berpotensi Rawan"
          ]
         ],
         "hovertemplate": "Cluster Level=Berpotensi Rawan<br>t-SNE Dimension 1=%{x}<br>t-SNE Dimension 2=%{y}<br>Cluster=%{customdata[0]}<br>Tingkat Kerawanan=%{customdata[1]}<extra></extra>",
         "legendgroup": "Berpotensi Rawan",
         "marker": {
          "color": "yellow",
          "symbol": "circle"
         },
         "mode": "markers",
         "name": "Berpotensi Rawan",
         "orientation": "v",
         "showlegend": true,
         "type": "scatter",
         "x": [
          -0.05823174864053726,
          0.3252502679824829,
          0.08310240507125854,
          1.4988768100738525,
          1.0930087566375732,
          1.5593712329864502,
          0.6536811590194702,
          -0.26628896594047546,
          1.1266006231307983,
          0.32895195484161377,
          0.26034361124038696,
          -0.44153299927711487,
          1.1149653196334839,
          2.070276975631714
         ],
         "xaxis": "x",
         "y": [
          -9.097480773925781,
          -9.359797477722168,
          -9.743368148803711,
          -8.459179878234863,
          -9.557519912719727,
          -9.015746116638184,
          -10.473672866821289,
          -10.208916664123535,
          -10.196752548217773,
          -8.850034713745117,
          -10.07901382446289,
          -9.8030366897583,
          -7.944652557373047,
          -10.002093315124512
         ],
         "yaxis": "y"
        },
        {
         "customdata": [
          [
           5,
           "Rawan"
          ],
          [
           5,
           "Rawan"
          ],
          [
           5,
           "Rawan"
          ],
          [
           5,
           "Rawan"
          ],
          [
           5,
           "Rawan"
          ],
          [
           5,
           "Rawan"
          ],
          [
           5,
           "Rawan"
          ],
          [
           5,
           "Rawan"
          ],
          [
           5,
           "Rawan"
          ],
          [
           5,
           "Rawan"
          ],
          [
           5,
           "Rawan"
          ],
          [
           5,
           "Rawan"
          ]
         ],
         "hovertemplate": "Cluster Level=Rawan<br>t-SNE Dimension 1=%{x}<br>t-SNE Dimension 2=%{y}<br>Cluster=%{customdata[0]}<br>Tingkat Kerawanan=%{customdata[1]}<extra></extra>",
         "legendgroup": "Rawan",
         "marker": {
          "color": "orange",
          "symbol": "circle"
         },
         "mode": "markers",
         "name": "Rawan",
         "orientation": "v",
         "showlegend": true,
         "type": "scatter",
         "x": [
          1.968733787536621,
          2.693258285522461,
          2.665724277496338,
          2.139507532119751,
          3.246943473815918,
          2.0832786560058594,
          3.3284108638763428,
          2.9451565742492676,
          2.5531136989593506,
          3.4103238582611084,
          2.7708823680877686,
          3.0890657901763916
         ],
         "xaxis": "x",
         "y": [
          -7.210551738739014,
          -8.089970588684082,
          -7.829928874969482,
          -7.974303245544434,
          -7.711328983306885,
          -8.603226661682129,
          -8.108510971069336,
          -6.922613620758057,
          -8.810450553894043,
          -7.304182052612305,
          -7.202572345733643,
          -6.783783912658691
         ],
         "yaxis": "y"
        },
        {
         "customdata": [
          [
           1,
           "Aman"
          ],
          [
           1,
           "Aman"
          ],
          [
           1,
           "Aman"
          ],
          [
           1,
           "Aman"
          ],
          [
           1,
           "Aman"
          ],
          [
           1,
           "Aman"
          ],
          [
           1,
           "Aman"
          ],
          [
           1,
           "Aman"
          ],
          [
           1,
           "Aman"
          ],
          [
           1,
           "Aman"
          ],
          [
           1,
           "Aman"
          ]
         ],
         "hovertemplate": "Cluster Level=Aman<br>t-SNE Dimension 1=%{x}<br>t-SNE Dimension 2=%{y}<br>Cluster=%{customdata[0]}<br>Tingkat Kerawanan=%{customdata[1]}<extra></extra>",
         "legendgroup": "Aman",
         "marker": {
          "color": "green",
          "symbol": "circle"
         },
         "mode": "markers",
         "name": "Aman",
         "orientation": "v",
         "showlegend": true,
         "type": "scatter",
         "x": [
          -1.6824322938919067,
          -2.6490626335144043,
          -0.9873664975166321,
          -1.4859066009521484,
          -2.1916775703430176,
          -2.3619537353515625,
          -2.008059501647949,
          -1.9311341047286987,
          -2.794973373413086,
          -2.0243139266967773,
          -1.7526034116744995
         ],
         "xaxis": "x",
         "y": [
          -5.808217525482178,
          -7.5788164138793945,
          -8.559016227722168,
          -6.429340839385986,
          -6.966343879699707,
          -6.352939605712891,
          -6.561236381530762,
          -8.205228805541992,
          -7.38136100769043,
          -6.298362731933594,
          -8.683432579040527
         ],
         "yaxis": "y"
        }
       ],
       "layout": {
        "height": 600,
        "legend": {
         "title": {
          "text": "Cluster Level"
         },
         "tracegroupgap": 0
        },
        "template": {
         "data": {
          "bar": [
           {
            "error_x": {
             "color": "#2a3f5f"
            },
            "error_y": {
             "color": "#2a3f5f"
            },
            "marker": {
             "line": {
              "color": "#E5ECF6",
              "width": 0.5
             },
             "pattern": {
              "fillmode": "overlay",
              "size": 10,
              "solidity": 0.2
             }
            },
            "type": "bar"
           }
          ],
          "barpolar": [
           {
            "marker": {
             "line": {
              "color": "#E5ECF6",
              "width": 0.5
             },
             "pattern": {
              "fillmode": "overlay",
              "size": 10,
              "solidity": 0.2
             }
            },
            "type": "barpolar"
           }
          ],
          "carpet": [
           {
            "aaxis": {
             "endlinecolor": "#2a3f5f",
             "gridcolor": "white",
             "linecolor": "white",
             "minorgridcolor": "white",
             "startlinecolor": "#2a3f5f"
            },
            "baxis": {
             "endlinecolor": "#2a3f5f",
             "gridcolor": "white",
             "linecolor": "white",
             "minorgridcolor": "white",
             "startlinecolor": "#2a3f5f"
            },
            "type": "carpet"
           }
          ],
          "choropleth": [
           {
            "colorbar": {
             "outlinewidth": 0,
             "ticks": ""
            },
            "type": "choropleth"
           }
          ],
          "contour": [
           {
            "colorbar": {
             "outlinewidth": 0,
             "ticks": ""
            },
            "colorscale": [
             [
              0,
              "#0d0887"
             ],
             [
              0.1111111111111111,
              "#46039f"
             ],
             [
              0.2222222222222222,
              "#7201a8"
             ],
             [
              0.3333333333333333,
              "#9c179e"
             ],
             [
              0.4444444444444444,
              "#bd3786"
             ],
             [
              0.5555555555555556,
              "#d8576b"
             ],
             [
              0.6666666666666666,
              "#ed7953"
             ],
             [
              0.7777777777777778,
              "#fb9f3a"
             ],
             [
              0.8888888888888888,
              "#fdca26"
             ],
             [
              1,
              "#f0f921"
             ]
            ],
            "type": "contour"
           }
          ],
          "contourcarpet": [
           {
            "colorbar": {
             "outlinewidth": 0,
             "ticks": ""
            },
            "type": "contourcarpet"
           }
          ],
          "heatmap": [
           {
            "colorbar": {
             "outlinewidth": 0,
             "ticks": ""
            },
            "colorscale": [
             [
              0,
              "#0d0887"
             ],
             [
              0.1111111111111111,
              "#46039f"
             ],
             [
              0.2222222222222222,
              "#7201a8"
             ],
             [
              0.3333333333333333,
              "#9c179e"
             ],
             [
              0.4444444444444444,
              "#bd3786"
             ],
             [
              0.5555555555555556,
              "#d8576b"
             ],
             [
              0.6666666666666666,
              "#ed7953"
             ],
             [
              0.7777777777777778,
              "#fb9f3a"
             ],
             [
              0.8888888888888888,
              "#fdca26"
             ],
             [
              1,
              "#f0f921"
             ]
            ],
            "type": "heatmap"
           }
          ],
          "heatmapgl": [
           {
            "colorbar": {
             "outlinewidth": 0,
             "ticks": ""
            },
            "colorscale": [
             [
              0,
              "#0d0887"
             ],
             [
              0.1111111111111111,
              "#46039f"
             ],
             [
              0.2222222222222222,
              "#7201a8"
             ],
             [
              0.3333333333333333,
              "#9c179e"
             ],
             [
              0.4444444444444444,
              "#bd3786"
             ],
             [
              0.5555555555555556,
              "#d8576b"
             ],
             [
              0.6666666666666666,
              "#ed7953"
             ],
             [
              0.7777777777777778,
              "#fb9f3a"
             ],
             [
              0.8888888888888888,
              "#fdca26"
             ],
             [
              1,
              "#f0f921"
             ]
            ],
            "type": "heatmapgl"
           }
          ],
          "histogram": [
           {
            "marker": {
             "pattern": {
              "fillmode": "overlay",
              "size": 10,
              "solidity": 0.2
             }
            },
            "type": "histogram"
           }
          ],
          "histogram2d": [
           {
            "colorbar": {
             "outlinewidth": 0,
             "ticks": ""
            },
            "colorscale": [
             [
              0,
              "#0d0887"
             ],
             [
              0.1111111111111111,
              "#46039f"
             ],
             [
              0.2222222222222222,
              "#7201a8"
             ],
             [
              0.3333333333333333,
              "#9c179e"
             ],
             [
              0.4444444444444444,
              "#bd3786"
             ],
             [
              0.5555555555555556,
              "#d8576b"
             ],
             [
              0.6666666666666666,
              "#ed7953"
             ],
             [
              0.7777777777777778,
              "#fb9f3a"
             ],
             [
              0.8888888888888888,
              "#fdca26"
             ],
             [
              1,
              "#f0f921"
             ]
            ],
            "type": "histogram2d"
           }
          ],
          "histogram2dcontour": [
           {
            "colorbar": {
             "outlinewidth": 0,
             "ticks": ""
            },
            "colorscale": [
             [
              0,
              "#0d0887"
             ],
             [
              0.1111111111111111,
              "#46039f"
             ],
             [
              0.2222222222222222,
              "#7201a8"
             ],
             [
              0.3333333333333333,
              "#9c179e"
             ],
             [
              0.4444444444444444,
              "#bd3786"
             ],
             [
              0.5555555555555556,
              "#d8576b"
             ],
             [
              0.6666666666666666,
              "#ed7953"
             ],
             [
              0.7777777777777778,
              "#fb9f3a"
             ],
             [
              0.8888888888888888,
              "#fdca26"
             ],
             [
              1,
              "#f0f921"
             ]
            ],
            "type": "histogram2dcontour"
           }
          ],
          "mesh3d": [
           {
            "colorbar": {
             "outlinewidth": 0,
             "ticks": ""
            },
            "type": "mesh3d"
           }
          ],
          "parcoords": [
           {
            "line": {
             "colorbar": {
              "outlinewidth": 0,
              "ticks": ""
             }
            },
            "type": "parcoords"
           }
          ],
          "pie": [
           {
            "automargin": true,
            "type": "pie"
           }
          ],
          "scatter": [
           {
            "fillpattern": {
             "fillmode": "overlay",
             "size": 10,
             "solidity": 0.2
            },
            "type": "scatter"
           }
          ],
          "scatter3d": [
           {
            "line": {
             "colorbar": {
              "outlinewidth": 0,
              "ticks": ""
             }
            },
            "marker": {
             "colorbar": {
              "outlinewidth": 0,
              "ticks": ""
             }
            },
            "type": "scatter3d"
           }
          ],
          "scattercarpet": [
           {
            "marker": {
             "colorbar": {
              "outlinewidth": 0,
              "ticks": ""
             }
            },
            "type": "scattercarpet"
           }
          ],
          "scattergeo": [
           {
            "marker": {
             "colorbar": {
              "outlinewidth": 0,
              "ticks": ""
             }
            },
            "type": "scattergeo"
           }
          ],
          "scattergl": [
           {
            "marker": {
             "colorbar": {
              "outlinewidth": 0,
              "ticks": ""
             }
            },
            "type": "scattergl"
           }
          ],
          "scattermapbox": [
           {
            "marker": {
             "colorbar": {
              "outlinewidth": 0,
              "ticks": ""
             }
            },
            "type": "scattermapbox"
           }
          ],
          "scatterpolar": [
           {
            "marker": {
             "colorbar": {
              "outlinewidth": 0,
              "ticks": ""
             }
            },
            "type": "scatterpolar"
           }
          ],
          "scatterpolargl": [
           {
            "marker": {
             "colorbar": {
              "outlinewidth": 0,
              "ticks": ""
             }
            },
            "type": "scatterpolargl"
           }
          ],
          "scatterternary": [
           {
            "marker": {
             "colorbar": {
              "outlinewidth": 0,
              "ticks": ""
             }
            },
            "type": "scatterternary"
           }
          ],
          "surface": [
           {
            "colorbar": {
             "outlinewidth": 0,
             "ticks": ""
            },
            "colorscale": [
             [
              0,
              "#0d0887"
             ],
             [
              0.1111111111111111,
              "#46039f"
             ],
             [
              0.2222222222222222,
              "#7201a8"
             ],
             [
              0.3333333333333333,
              "#9c179e"
             ],
             [
              0.4444444444444444,
              "#bd3786"
             ],
             [
              0.5555555555555556,
              "#d8576b"
             ],
             [
              0.6666666666666666,
              "#ed7953"
             ],
             [
              0.7777777777777778,
              "#fb9f3a"
             ],
             [
              0.8888888888888888,
              "#fdca26"
             ],
             [
              1,
              "#f0f921"
             ]
            ],
            "type": "surface"
           }
          ],
          "table": [
           {
            "cells": {
             "fill": {
              "color": "#EBF0F8"
             },
             "line": {
              "color": "white"
             }
            },
            "header": {
             "fill": {
              "color": "#C8D4E3"
             },
             "line": {
              "color": "white"
             }
            },
            "type": "table"
           }
          ]
         },
         "layout": {
          "annotationdefaults": {
           "arrowcolor": "#2a3f5f",
           "arrowhead": 0,
           "arrowwidth": 1
          },
          "autotypenumbers": "strict",
          "coloraxis": {
           "colorbar": {
            "outlinewidth": 0,
            "ticks": ""
           }
          },
          "colorscale": {
           "diverging": [
            [
             0,
             "#8e0152"
            ],
            [
             0.1,
             "#c51b7d"
            ],
            [
             0.2,
             "#de77ae"
            ],
            [
             0.3,
             "#f1b6da"
            ],
            [
             0.4,
             "#fde0ef"
            ],
            [
             0.5,
             "#f7f7f7"
            ],
            [
             0.6,
             "#e6f5d0"
            ],
            [
             0.7,
             "#b8e186"
            ],
            [
             0.8,
             "#7fbc41"
            ],
            [
             0.9,
             "#4d9221"
            ],
            [
             1,
             "#276419"
            ]
           ],
           "sequential": [
            [
             0,
             "#0d0887"
            ],
            [
             0.1111111111111111,
             "#46039f"
            ],
            [
             0.2222222222222222,
             "#7201a8"
            ],
            [
             0.3333333333333333,
             "#9c179e"
            ],
            [
             0.4444444444444444,
             "#bd3786"
            ],
            [
             0.5555555555555556,
             "#d8576b"
            ],
            [
             0.6666666666666666,
             "#ed7953"
            ],
            [
             0.7777777777777778,
             "#fb9f3a"
            ],
            [
             0.8888888888888888,
             "#fdca26"
            ],
            [
             1,
             "#f0f921"
            ]
           ],
           "sequentialminus": [
            [
             0,
             "#0d0887"
            ],
            [
             0.1111111111111111,
             "#46039f"
            ],
            [
             0.2222222222222222,
             "#7201a8"
            ],
            [
             0.3333333333333333,
             "#9c179e"
            ],
            [
             0.4444444444444444,
             "#bd3786"
            ],
            [
             0.5555555555555556,
             "#d8576b"
            ],
            [
             0.6666666666666666,
             "#ed7953"
            ],
            [
             0.7777777777777778,
             "#fb9f3a"
            ],
            [
             0.8888888888888888,
             "#fdca26"
            ],
            [
             1,
             "#f0f921"
            ]
           ]
          },
          "colorway": [
           "#636efa",
           "#EF553B",
           "#00cc96",
           "#ab63fa",
           "#FFA15A",
           "#19d3f3",
           "#FF6692",
           "#B6E880",
           "#FF97FF",
           "#FECB52"
          ],
          "font": {
           "color": "#2a3f5f"
          },
          "geo": {
           "bgcolor": "white",
           "lakecolor": "white",
           "landcolor": "#E5ECF6",
           "showlakes": true,
           "showland": true,
           "subunitcolor": "white"
          },
          "hoverlabel": {
           "align": "left"
          },
          "hovermode": "closest",
          "mapbox": {
           "style": "light"
          },
          "paper_bgcolor": "white",
          "plot_bgcolor": "#E5ECF6",
          "polar": {
           "angularaxis": {
            "gridcolor": "white",
            "linecolor": "white",
            "ticks": ""
           },
           "bgcolor": "#E5ECF6",
           "radialaxis": {
            "gridcolor": "white",
            "linecolor": "white",
            "ticks": ""
           }
          },
          "scene": {
           "xaxis": {
            "backgroundcolor": "#E5ECF6",
            "gridcolor": "white",
            "gridwidth": 2,
            "linecolor": "white",
            "showbackground": true,
            "ticks": "",
            "zerolinecolor": "white"
           },
           "yaxis": {
            "backgroundcolor": "#E5ECF6",
            "gridcolor": "white",
            "gridwidth": 2,
            "linecolor": "white",
            "showbackground": true,
            "ticks": "",
            "zerolinecolor": "white"
           },
           "zaxis": {
            "backgroundcolor": "#E5ECF6",
            "gridcolor": "white",
            "gridwidth": 2,
            "linecolor": "white",
            "showbackground": true,
            "ticks": "",
            "zerolinecolor": "white"
           }
          },
          "shapedefaults": {
           "line": {
            "color": "#2a3f5f"
           }
          },
          "ternary": {
           "aaxis": {
            "gridcolor": "white",
            "linecolor": "white",
            "ticks": ""
           },
           "baxis": {
            "gridcolor": "white",
            "linecolor": "white",
            "ticks": ""
           },
           "bgcolor": "#E5ECF6",
           "caxis": {
            "gridcolor": "white",
            "linecolor": "white",
            "ticks": ""
           }
          },
          "title": {
           "x": 0.05
          },
          "xaxis": {
           "automargin": true,
           "gridcolor": "white",
           "linecolor": "white",
           "ticks": "",
           "title": {
            "standoff": 15
           },
           "zerolinecolor": "white",
           "zerolinewidth": 2
          },
          "yaxis": {
           "automargin": true,
           "gridcolor": "white",
           "linecolor": "white",
           "ticks": "",
           "title": {
            "standoff": 15
           },
           "zerolinecolor": "white",
           "zerolinewidth": 2
          }
         }
        },
        "title": {
         "text": "t-SNE Scatter Plot of Clusters"
        },
        "width": 800,
        "xaxis": {
         "anchor": "y",
         "domain": [
          0,
          1
         ],
         "title": {
          "text": "t-SNE Dimension 1"
         }
        },
        "yaxis": {
         "anchor": "x",
         "domain": [
          0,
          1
         ],
         "title": {
          "text": "t-SNE Dimension 2"
         }
        }
       }
      }
     },
     "metadata": {},
     "output_type": "display_data"
    },
    {
     "name": "stdout",
     "output_type": "stream",
     "text": [
      "\n",
      "Evaluation Metrics Comparison:\n",
      "                         Without Purity  With Purity\n",
      "Metric                                              \n",
      "Silhouette Score               0.289794     0.289794\n",
      "Calinski-Harabasz Score       20.938854    20.938854\n",
      "Davies-Bouldin Score           0.491742     0.491742\n",
      "Purity                         0.000000     1.000000\n",
      "\n",
      "Analisis per Cluster:\n",
      "\n",
      "Cluster 0 (Sangat Rawan):\n",
      "Jumlah sampel: 11\n",
      "Rata-rata fitur:\n",
      "Jumlah Kecelakaan     109.909091\n",
      "Jumlah Meninggal        2.363636\n",
      "Jumlah Luka Berat      13.818182\n",
      "Jumlah Luka Ringan     21.000000\n",
      "dtype: float64\n",
      "\n",
      "Cluster 1 (Aman):\n",
      "Jumlah sampel: 11\n",
      "Rata-rata fitur:\n",
      "Jumlah Kecelakaan     99.000000\n",
      "Jumlah Meninggal       7.090909\n",
      "Jumlah Luka Berat      5.000000\n",
      "Jumlah Luka Ringan    28.727273\n",
      "dtype: float64\n",
      "\n",
      "Cluster 2 (Berpotensi Rawan):\n",
      "Jumlah sampel: 14\n",
      "Rata-rata fitur:\n",
      "Jumlah Kecelakaan     156.857143\n",
      "Jumlah Meninggal        6.571429\n",
      "Jumlah Luka Berat      13.071429\n",
      "Jumlah Luka Ringan     40.071429\n",
      "dtype: float64\n",
      "\n",
      "Cluster 3 (Sangat Rawan):\n",
      "Jumlah sampel: 5\n",
      "Rata-rata fitur:\n",
      "Jumlah Kecelakaan     170.2\n",
      "Jumlah Meninggal        2.8\n",
      "Jumlah Luka Berat       4.6\n",
      "Jumlah Luka Ringan     20.8\n",
      "dtype: float64\n",
      "\n",
      "Cluster 4 (Sangat Rawan):\n",
      "Jumlah sampel: 7\n",
      "Rata-rata fitur:\n",
      "Jumlah Kecelakaan     80.571429\n",
      "Jumlah Meninggal       7.428571\n",
      "Jumlah Luka Berat     16.714286\n",
      "Jumlah Luka Ringan    19.000000\n",
      "dtype: float64\n",
      "\n",
      "Cluster 5 (Rawan):\n",
      "Jumlah sampel: 12\n",
      "Rata-rata fitur:\n",
      "Jumlah Kecelakaan     92.000000\n",
      "Jumlah Meninggal       2.666667\n",
      "Jumlah Luka Berat     14.250000\n",
      "Jumlah Luka Ringan    42.416667\n",
      "dtype: float64\n",
      "\n",
      "Performa Cluster:\n",
      "                Cluster  Size    Inertia\n",
      "0      0 (Sangat Rawan)    11  14.326027\n",
      "1              1 (Aman)    11  17.983510\n",
      "2  2 (Berpotensi Rawan)    14  22.454092\n",
      "3      3 (Sangat Rawan)     5   8.561923\n",
      "4      4 (Sangat Rawan)     7   7.089209\n",
      "5             5 (Rawan)    12  11.251703\n"
     ]
    }
   ],
   "source": [
    "import pandas as pd\n",
    "import numpy as np\n",
    "from sklearn.cluster import KMeans\n",
    "from sklearn.preprocessing import StandardScaler\n",
    "from sklearn.metrics import silhouette_score, calinski_harabasz_score, davies_bouldin_score, confusion_matrix\n",
    "from sklearn.impute import SimpleImputer\n",
    "from sklearn.manifold import TSNE\n",
    "import plotly.graph_objects as go\n",
    "import plotly.express as px\n",
    "\n",
    "# Fungsi untuk menghitung Purity\n",
    "def calculate_purity(y_true, y_pred):\n",
    "    \"\"\"\n",
    "    Calculate purity metric.\n",
    "\n",
    "    Parameters:\n",
    "    y_true (array-like): Ground truth class labels.\n",
    "    y_pred (array-like): Cluster assignments.\n",
    "\n",
    "    Returns:\n",
    "    float: Purity score.\n",
    "    \"\"\"\n",
    "    cm = confusion_matrix(y_true, y_pred)\n",
    "    return np.sum(np.amax(cm, axis=0)) / np.sum(cm)\n",
    "\n",
    "# Memuat data\n",
    "file_path = 'Data_Kecelakaan_Padang_Lawas_Utara.xlsx'\n",
    "df = pd.read_excel(file_path)\n",
    "\n",
    "# Pilih fitur yang relevan untuk clustering\n",
    "features = [\"Jumlah Kecelakaan\", \"Jumlah Meninggal\", \"Jumlah Luka Berat\", \"Jumlah Luka Ringan\"]\n",
    "X = df[features]\n",
    "\n",
    "# Menangani nilai yang hilang\n",
    "imputer = SimpleImputer(strategy='mean')\n",
    "X_imputed = imputer.fit_transform(X)\n",
    "\n",
    "# Normalisasi data\n",
    "scaler = StandardScaler()\n",
    "X_scaled = scaler.fit_transform(X_imputed)\n",
    "\n",
    "# Menentukan jumlah klaster optimal menggunakan silhouette score\n",
    "max_clusters = 10\n",
    "silhouette_scores = []\n",
    "\n",
    "for k in range(2, max_clusters + 1):\n",
    "    kmeans = KMeans(n_clusters=k, random_state=42, n_init=10)\n",
    "    cluster_labels = kmeans.fit_predict(X_scaled)\n",
    "    silhouette_avg = silhouette_score(X_scaled, cluster_labels)\n",
    "    silhouette_scores.append(silhouette_avg)\n",
    "\n",
    "optimal_clusters = silhouette_scores.index(max(silhouette_scores)) + 2\n",
    "print(f\"Jumlah klaster optimal: {optimal_clusters}\")\n",
    "\n",
    "# Terapkan K-Means clustering dengan jumlah klaster optimal\n",
    "kmeans = KMeans(n_clusters=optimal_clusters, random_state=42, n_init=10)\n",
    "df['Cluster'] = kmeans.fit_predict(X_scaled)\n",
    "\n",
    "# Membuat ground truth berdasarkan total kasus dibanding rata-rata\n",
    "ground_truth = np.zeros_like(df['Cluster'])\n",
    "for i in range(optimal_clusters):\n",
    "    cluster_indices = np.where(df['Cluster'] == i)[0]\n",
    "    total_cases = X.iloc[cluster_indices].sum().sum()\n",
    "    ground_truth[cluster_indices] = int(total_cases > X.sum().mean())\n",
    "\n",
    "# Menghitung metrik evaluasi tanpa Purity\n",
    "silhouette = silhouette_score(X_scaled, df['Cluster'])\n",
    "calinski = calinski_harabasz_score(X_scaled, df['Cluster'])\n",
    "davies = davies_bouldin_score(X_scaled, df['Cluster'])\n",
    "\n",
    "# Menghitung Purity\n",
    "purity = calculate_purity(ground_truth, df['Cluster'])\n",
    "\n",
    "# Membuat confusion matrix\n",
    "conf_matrix = confusion_matrix(ground_truth, df['Cluster'])\n",
    "\n",
    "# Memetakan klaster ke tingkat risiko secara dinamis\n",
    "cluster_centers = kmeans.cluster_centers_\n",
    "# Mengurutkan klaster berdasarkan jumlah semua fitur (dapat disesuaikan sesuai kebutuhan)\n",
    "risk_order = np.argsort(np.sum(cluster_centers, axis=1))\n",
    "# Mendefinisikan tingkat kerawanan (sesuaikan jika jumlah klaster berbeda)\n",
    "risk_levels = [\"Aman\", \"Berpotensi Rawan\", \"Rawan\", \"Sangat Rawan\"]\n",
    "# Pastikan risk_levels cukup untuk jumlah klaster\n",
    "risk_levels_extended = risk_levels + [\"Sangat Rawan\"] * (optimal_clusters - len(risk_levels))\n",
    "cluster_map = {i: risk_levels_extended[min(order, len(risk_levels_extended)-1)] for i, order in enumerate(risk_order)}\n",
    "df['Tingkat Kerawanan'] = df['Cluster'].map(cluster_map)\n",
    "\n",
    "# Menentukan nama klaster berdasarkan tingkat kerawanan\n",
    "cluster_names = [cluster_map[i] for i in range(optimal_clusters)]\n",
    "\n",
    "# Visualisasi: Confusion Matrix Heatmap dengan Nama Klaster\n",
    "fig_confusion = go.Figure(data=go.Heatmap(\n",
    "    z=conf_matrix,\n",
    "    x=['Cluster ' + cluster_names[i] for i in range(optimal_clusters)],\n",
    "    y=['Aman/Rawan', 'Rawan/Aman'],  # Sesuaikan label berdasarkan ground truth\n",
    "    colorscale='Blues',\n",
    "    showscale=True\n",
    "))\n",
    "\n",
    "fig_confusion.update_layout(\n",
    "    title='Confusion Matrix Heatmap',\n",
    "    xaxis_title='Predicted Clusters',\n",
    "    yaxis_title='Actual Classes',\n",
    "    width=800,\n",
    "    height=600\n",
    ")\n",
    "\n",
    "# Visualisasi: Metrics Comparison (Dengan dan Tanpa Purity)\n",
    "metrics_names = ['Silhouette Score', 'Calinski-Harabasz Score', 'Davies-Bouldin Score', 'Purity']\n",
    "metrics_values_without_purity = [silhouette, calinski, davies, 0]  # Purity tanpa dihitung\n",
    "metrics_values_with_purity = [silhouette, calinski, davies, purity]\n",
    "\n",
    "# Normalisasi metrik untuk perbandingan yang lebih baik dalam grafik\n",
    "metrics_normalized_without_purity = {\n",
    "    'Silhouette Score': silhouette,\n",
    "    'Calinski-Harabasz Score': calinski,\n",
    "    'Davies-Bouldin Score': 1 / (davies + 1),  # Inversi untuk kesesuaian visual\n",
    "    'Purity': 0\n",
    "}\n",
    "\n",
    "metrics_normalized_with_purity = {\n",
    "    'Silhouette Score': silhouette,\n",
    "    'Calinski-Harabasz Score': calinski,\n",
    "    'Davies-Bouldin Score': 1 / (davies + 1),\n",
    "    'Purity': purity\n",
    "}\n",
    "\n",
    "# Membuat DataFrame untuk perbandingan\n",
    "metrics_comparison = pd.DataFrame({\n",
    "    'Metric': metrics_names,\n",
    "    'Without Purity': list(metrics_normalized_without_purity.values()),\n",
    "    'With Purity': list(metrics_normalized_with_purity.values())\n",
    "})\n",
    "\n",
    "# Mengatur warna untuk membedakan kedua skenario\n",
    "colors = {\n",
    "    'Without Purity': 'rgb(55, 83, 109)',\n",
    "    'With Purity': 'rgb(26, 118, 255)'\n",
    "}\n",
    "\n",
    "# Membuat grafik perbandingan\n",
    "fig_comparison = go.Figure()\n",
    "\n",
    "fig_comparison.add_trace(go.Bar(\n",
    "    x=metrics_comparison['Metric'],\n",
    "    y=metrics_comparison['Without Purity'],\n",
    "    name='Without Purity',\n",
    "    marker_color=colors['Without Purity']\n",
    "))\n",
    "\n",
    "fig_comparison.add_trace(go.Bar(\n",
    "    x=metrics_comparison['Metric'],\n",
    "    y=metrics_comparison['With Purity'],\n",
    "    name='With Purity',\n",
    "    marker_color=colors['With Purity']\n",
    "))\n",
    "\n",
    "fig_comparison.update_layout(\n",
    "    title='Comparison of Clustering Evaluation Metrics',\n",
    "    xaxis_title='Metric',\n",
    "    yaxis_title='Score (Normalized)',\n",
    "    barmode='group',\n",
    "    width=800,\n",
    "    height=500\n",
    ")\n",
    "\n",
    "# Menggunakan t-SNE untuk reduksi dimensi\n",
    "tsne = TSNE(n_components=2, random_state=42, perplexity=30, n_iter=1000)\n",
    "X_tsne = tsne.fit_transform(X_scaled)\n",
    "\n",
    "# Menambahkan hasil t-SNE ke DataFrame\n",
    "df['t-SNE 1'] = X_tsne[:, 0]\n",
    "df['t-SNE 2'] = X_tsne[:, 1]\n",
    "\n",
    "# Membuat label klaster dengan nama\n",
    "df['Cluster Label'] = df['Cluster'].apply(lambda x: cluster_map[x])\n",
    "\n",
    "# Visualisasi: t-SNE Scatter Plot dengan Nama Klaster\n",
    "fig_tsne = px.scatter(\n",
    "    df,\n",
    "    x='t-SNE 1',\n",
    "    y='t-SNE 2',\n",
    "    color='Cluster Label',\n",
    "    hover_data=['Cluster', 'Tingkat Kerawanan'],\n",
    "    title='t-SNE Scatter Plot of Clusters',\n",
    "    labels={\n",
    "        't-SNE 1': 't-SNE Dimension 1',\n",
    "        't-SNE 2': 't-SNE Dimension 2',\n",
    "        'Cluster Label': 'Cluster Level'\n",
    "    },\n",
    "    color_discrete_map={\n",
    "        \"Aman\": \"green\",\n",
    "        \"Berpotensi Rawan\": \"yellow\",\n",
    "        \"Rawan\": \"orange\",\n",
    "        \"Sangat Rawan\": \"red\"\n",
    "    }\n",
    ")\n",
    "\n",
    "fig_tsne.update_layout(\n",
    "    width=800,\n",
    "    height=600\n",
    ")\n",
    "\n",
    "# Menampilkan visualisasi\n",
    "fig_confusion.show()\n",
    "fig_comparison.show()\n",
    "fig_tsne.show()\n",
    "\n",
    "# Print metric values with comparison\n",
    "print(\"\\nEvaluation Metrics Comparison:\")\n",
    "comparison_table = metrics_comparison.copy()\n",
    "comparison_table.set_index('Metric', inplace=True)\n",
    "print(comparison_table)\n",
    "\n",
    "# Analisis per cluster\n",
    "print(\"\\nAnalisis per Cluster:\")\n",
    "for i in range(optimal_clusters):\n",
    "    cluster_data = df[df['Cluster'] == i]\n",
    "    print(f\"\\nCluster {i} ({cluster_map[i]}):\")\n",
    "    print(f\"Jumlah sampel: {len(cluster_data)}\")\n",
    "    print(\"Rata-rata fitur:\")\n",
    "    print(cluster_data[features].mean())\n",
    "\n",
    "# Menghitung dan menampilkan performa cluster\n",
    "cluster_performance = pd.DataFrame({\n",
    "    'Cluster': [f\"{i} ({cluster_map[i]})\" for i in range(optimal_clusters)],\n",
    "    'Size': [sum(df['Cluster'] == i) for i in range(optimal_clusters)],\n",
    "    'Inertia': [np.sum((X_scaled[df['Cluster'] == i] - kmeans.cluster_centers_[i])**2) for i in range(optimal_clusters)]\n",
    "})\n",
    "\n",
    "print(\"\\nPerforma Cluster:\")\n",
    "print(cluster_performance)\n"
   ]
  }
 ],
 "metadata": {
  "kernelspec": {
   "display_name": "base",
   "language": "python",
   "name": "python3"
  },
  "language_info": {
   "codemirror_mode": {
    "name": "ipython",
    "version": 3
   },
   "file_extension": ".py",
   "mimetype": "text/x-python",
   "name": "python",
   "nbconvert_exporter": "python",
   "pygments_lexer": "ipython3",
   "version": "3.11.7"
  }
 },
 "nbformat": 4,
 "nbformat_minor": 2
}
