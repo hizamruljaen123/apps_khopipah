{
 "cells": [
  {
   "cell_type": "code",
   "execution_count": 2,
   "metadata": {},
   "outputs": [
    {
     "data": {
      "text/html": [
       "<div>\n",
       "<style scoped>\n",
       "    .dataframe tbody tr th:only-of-type {\n",
       "        vertical-align: middle;\n",
       "    }\n",
       "\n",
       "    .dataframe tbody tr th {\n",
       "        vertical-align: top;\n",
       "    }\n",
       "\n",
       "    .dataframe thead th {\n",
       "        text-align: right;\n",
       "    }\n",
       "</style>\n",
       "<table border=\"1\" class=\"dataframe\">\n",
       "  <thead>\n",
       "    <tr style=\"text-align: right;\">\n",
       "      <th></th>\n",
       "      <th>Kecamatan</th>\n",
       "      <th>Tahun</th>\n",
       "      <th>Jumlah Kecelakaan</th>\n",
       "      <th>Jumlah Meninggal</th>\n",
       "      <th>Jumlah Luka Berat</th>\n",
       "      <th>Jumlah Luka Ringan</th>\n",
       "      <th>Kondisi Jalan</th>\n",
       "      <th>Cuaca</th>\n",
       "      <th>Waktu Kecelakaan</th>\n",
       "      <th>Jumlah Kendaraan</th>\n",
       "      <th>Kecepatan Rata-rata</th>\n",
       "    </tr>\n",
       "  </thead>\n",
       "  <tbody>\n",
       "    <tr>\n",
       "      <th>0</th>\n",
       "      <td>Batang Onang</td>\n",
       "      <td>2019</td>\n",
       "      <td>93</td>\n",
       "      <td>3</td>\n",
       "      <td>17</td>\n",
       "      <td>19</td>\n",
       "      <td>Sedang</td>\n",
       "      <td>Hujan</td>\n",
       "      <td>Pagi</td>\n",
       "      <td>411</td>\n",
       "      <td>46</td>\n",
       "    </tr>\n",
       "    <tr>\n",
       "      <th>1</th>\n",
       "      <td>Batang Onang</td>\n",
       "      <td>2020</td>\n",
       "      <td>196</td>\n",
       "      <td>6</td>\n",
       "      <td>15</td>\n",
       "      <td>27</td>\n",
       "      <td>Baik</td>\n",
       "      <td>Berawan</td>\n",
       "      <td>Pagi</td>\n",
       "      <td>251</td>\n",
       "      <td>42</td>\n",
       "    </tr>\n",
       "    <tr>\n",
       "      <th>2</th>\n",
       "      <td>Batang Onang</td>\n",
       "      <td>2021</td>\n",
       "      <td>82</td>\n",
       "      <td>7</td>\n",
       "      <td>16</td>\n",
       "      <td>13</td>\n",
       "      <td>Sedang</td>\n",
       "      <td>Berawan</td>\n",
       "      <td>Siang</td>\n",
       "      <td>272</td>\n",
       "      <td>46</td>\n",
       "    </tr>\n",
       "    <tr>\n",
       "      <th>3</th>\n",
       "      <td>Batang Onang</td>\n",
       "      <td>2022</td>\n",
       "      <td>199</td>\n",
       "      <td>5</td>\n",
       "      <td>12</td>\n",
       "      <td>42</td>\n",
       "      <td>Sedang</td>\n",
       "      <td>Berawan</td>\n",
       "      <td>Pagi</td>\n",
       "      <td>312</td>\n",
       "      <td>64</td>\n",
       "    </tr>\n",
       "    <tr>\n",
       "      <th>4</th>\n",
       "      <td>Batang Onang</td>\n",
       "      <td>2023</td>\n",
       "      <td>183</td>\n",
       "      <td>7</td>\n",
       "      <td>12</td>\n",
       "      <td>40</td>\n",
       "      <td>Baik</td>\n",
       "      <td>Hujan</td>\n",
       "      <td>Pagi</td>\n",
       "      <td>207</td>\n",
       "      <td>60</td>\n",
       "    </tr>\n",
       "    <tr>\n",
       "      <th>5</th>\n",
       "      <td>Dolok</td>\n",
       "      <td>2019</td>\n",
       "      <td>103</td>\n",
       "      <td>3</td>\n",
       "      <td>15</td>\n",
       "      <td>33</td>\n",
       "      <td>Buruk</td>\n",
       "      <td>Berawan</td>\n",
       "      <td>Malam</td>\n",
       "      <td>343</td>\n",
       "      <td>43</td>\n",
       "    </tr>\n",
       "    <tr>\n",
       "      <th>6</th>\n",
       "      <td>Dolok</td>\n",
       "      <td>2020</td>\n",
       "      <td>103</td>\n",
       "      <td>3</td>\n",
       "      <td>12</td>\n",
       "      <td>47</td>\n",
       "      <td>Sedang</td>\n",
       "      <td>Cerah</td>\n",
       "      <td>Pagi</td>\n",
       "      <td>193</td>\n",
       "      <td>58</td>\n",
       "    </tr>\n",
       "    <tr>\n",
       "      <th>7</th>\n",
       "      <td>Dolok</td>\n",
       "      <td>2021</td>\n",
       "      <td>104</td>\n",
       "      <td>2</td>\n",
       "      <td>17</td>\n",
       "      <td>41</td>\n",
       "      <td>Sedang</td>\n",
       "      <td>Hujan</td>\n",
       "      <td>Malam</td>\n",
       "      <td>223</td>\n",
       "      <td>66</td>\n",
       "    </tr>\n",
       "    <tr>\n",
       "      <th>8</th>\n",
       "      <td>Dolok</td>\n",
       "      <td>2022</td>\n",
       "      <td>78</td>\n",
       "      <td>6</td>\n",
       "      <td>18</td>\n",
       "      <td>27</td>\n",
       "      <td>Baik</td>\n",
       "      <td>Cerah</td>\n",
       "      <td>Pagi</td>\n",
       "      <td>499</td>\n",
       "      <td>73</td>\n",
       "    </tr>\n",
       "    <tr>\n",
       "      <th>9</th>\n",
       "      <td>Dolok</td>\n",
       "      <td>2023</td>\n",
       "      <td>199</td>\n",
       "      <td>2</td>\n",
       "      <td>10</td>\n",
       "      <td>29</td>\n",
       "      <td>Buruk</td>\n",
       "      <td>Berawan</td>\n",
       "      <td>Siang</td>\n",
       "      <td>444</td>\n",
       "      <td>40</td>\n",
       "    </tr>\n",
       "    <tr>\n",
       "      <th>10</th>\n",
       "      <td>Dolok Sigompulon</td>\n",
       "      <td>2019</td>\n",
       "      <td>56</td>\n",
       "      <td>4</td>\n",
       "      <td>12</td>\n",
       "      <td>26</td>\n",
       "      <td>Baik</td>\n",
       "      <td>Berawan</td>\n",
       "      <td>Pagi</td>\n",
       "      <td>162</td>\n",
       "      <td>55</td>\n",
       "    </tr>\n",
       "    <tr>\n",
       "      <th>11</th>\n",
       "      <td>Dolok Sigompulon</td>\n",
       "      <td>2020</td>\n",
       "      <td>140</td>\n",
       "      <td>1</td>\n",
       "      <td>13</td>\n",
       "      <td>43</td>\n",
       "      <td>Sedang</td>\n",
       "      <td>Cerah</td>\n",
       "      <td>Pagi</td>\n",
       "      <td>194</td>\n",
       "      <td>67</td>\n",
       "    </tr>\n",
       "    <tr>\n",
       "      <th>12</th>\n",
       "      <td>Dolok Sigompulon</td>\n",
       "      <td>2021</td>\n",
       "      <td>76</td>\n",
       "      <td>1</td>\n",
       "      <td>13</td>\n",
       "      <td>15</td>\n",
       "      <td>Buruk</td>\n",
       "      <td>Hujan</td>\n",
       "      <td>Siang</td>\n",
       "      <td>334</td>\n",
       "      <td>66</td>\n",
       "    </tr>\n",
       "    <tr>\n",
       "      <th>13</th>\n",
       "      <td>Dolok Sigompulon</td>\n",
       "      <td>2022</td>\n",
       "      <td>177</td>\n",
       "      <td>5</td>\n",
       "      <td>4</td>\n",
       "      <td>11</td>\n",
       "      <td>Sedang</td>\n",
       "      <td>Berawan</td>\n",
       "      <td>Pagi</td>\n",
       "      <td>284</td>\n",
       "      <td>62</td>\n",
       "    </tr>\n",
       "    <tr>\n",
       "      <th>14</th>\n",
       "      <td>Dolok Sigompulon</td>\n",
       "      <td>2023</td>\n",
       "      <td>71</td>\n",
       "      <td>3</td>\n",
       "      <td>14</td>\n",
       "      <td>47</td>\n",
       "      <td>Sedang</td>\n",
       "      <td>Hujan</td>\n",
       "      <td>Pagi</td>\n",
       "      <td>171</td>\n",
       "      <td>41</td>\n",
       "    </tr>\n",
       "    <tr>\n",
       "      <th>15</th>\n",
       "      <td>Halongonan</td>\n",
       "      <td>2019</td>\n",
       "      <td>91</td>\n",
       "      <td>7</td>\n",
       "      <td>6</td>\n",
       "      <td>11</td>\n",
       "      <td>Baik</td>\n",
       "      <td>Cerah</td>\n",
       "      <td>Siang</td>\n",
       "      <td>121</td>\n",
       "      <td>48</td>\n",
       "    </tr>\n",
       "    <tr>\n",
       "      <th>16</th>\n",
       "      <td>Halongonan</td>\n",
       "      <td>2020</td>\n",
       "      <td>91</td>\n",
       "      <td>8</td>\n",
       "      <td>1</td>\n",
       "      <td>40</td>\n",
       "      <td>Baik</td>\n",
       "      <td>Berawan</td>\n",
       "      <td>Malam</td>\n",
       "      <td>125</td>\n",
       "      <td>64</td>\n",
       "    </tr>\n",
       "    <tr>\n",
       "      <th>17</th>\n",
       "      <td>Halongonan</td>\n",
       "      <td>2021</td>\n",
       "      <td>117</td>\n",
       "      <td>7</td>\n",
       "      <td>19</td>\n",
       "      <td>14</td>\n",
       "      <td>Buruk</td>\n",
       "      <td>Berawan</td>\n",
       "      <td>Pagi</td>\n",
       "      <td>207</td>\n",
       "      <td>46</td>\n",
       "    </tr>\n",
       "    <tr>\n",
       "      <th>18</th>\n",
       "      <td>Halongonan</td>\n",
       "      <td>2022</td>\n",
       "      <td>117</td>\n",
       "      <td>5</td>\n",
       "      <td>12</td>\n",
       "      <td>39</td>\n",
       "      <td>Buruk</td>\n",
       "      <td>Hujan</td>\n",
       "      <td>Malam</td>\n",
       "      <td>273</td>\n",
       "      <td>51</td>\n",
       "    </tr>\n",
       "    <tr>\n",
       "      <th>19</th>\n",
       "      <td>Halongonan</td>\n",
       "      <td>2023</td>\n",
       "      <td>151</td>\n",
       "      <td>6</td>\n",
       "      <td>14</td>\n",
       "      <td>46</td>\n",
       "      <td>Baik</td>\n",
       "      <td>Cerah</td>\n",
       "      <td>Siang</td>\n",
       "      <td>190</td>\n",
       "      <td>67</td>\n",
       "    </tr>\n",
       "    <tr>\n",
       "      <th>20</th>\n",
       "      <td>Halongonan Timur</td>\n",
       "      <td>2019</td>\n",
       "      <td>127</td>\n",
       "      <td>7</td>\n",
       "      <td>8</td>\n",
       "      <td>34</td>\n",
       "      <td>Baik</td>\n",
       "      <td>Cerah</td>\n",
       "      <td>Siang</td>\n",
       "      <td>387</td>\n",
       "      <td>64</td>\n",
       "    </tr>\n",
       "    <tr>\n",
       "      <th>21</th>\n",
       "      <td>Halongonan Timur</td>\n",
       "      <td>2020</td>\n",
       "      <td>124</td>\n",
       "      <td>1</td>\n",
       "      <td>1</td>\n",
       "      <td>17</td>\n",
       "      <td>Baik</td>\n",
       "      <td>Hujan</td>\n",
       "      <td>Pagi</td>\n",
       "      <td>206</td>\n",
       "      <td>66</td>\n",
       "    </tr>\n",
       "    <tr>\n",
       "      <th>22</th>\n",
       "      <td>Halongonan Timur</td>\n",
       "      <td>2021</td>\n",
       "      <td>152</td>\n",
       "      <td>3</td>\n",
       "      <td>18</td>\n",
       "      <td>24</td>\n",
       "      <td>Baik</td>\n",
       "      <td>Cerah</td>\n",
       "      <td>Pagi</td>\n",
       "      <td>360</td>\n",
       "      <td>54</td>\n",
       "    </tr>\n",
       "    <tr>\n",
       "      <th>23</th>\n",
       "      <td>Halongonan Timur</td>\n",
       "      <td>2022</td>\n",
       "      <td>127</td>\n",
       "      <td>4</td>\n",
       "      <td>16</td>\n",
       "      <td>43</td>\n",
       "      <td>Sedang</td>\n",
       "      <td>Hujan</td>\n",
       "      <td>Siang</td>\n",
       "      <td>120</td>\n",
       "      <td>40</td>\n",
       "    </tr>\n",
       "    <tr>\n",
       "      <th>24</th>\n",
       "      <td>Halongonan Timur</td>\n",
       "      <td>2023</td>\n",
       "      <td>62</td>\n",
       "      <td>8</td>\n",
       "      <td>18</td>\n",
       "      <td>21</td>\n",
       "      <td>Baik</td>\n",
       "      <td>Hujan</td>\n",
       "      <td>Pagi</td>\n",
       "      <td>179</td>\n",
       "      <td>70</td>\n",
       "    </tr>\n",
       "    <tr>\n",
       "      <th>25</th>\n",
       "      <td>Hulu Sihapas</td>\n",
       "      <td>2019</td>\n",
       "      <td>165</td>\n",
       "      <td>4</td>\n",
       "      <td>19</td>\n",
       "      <td>41</td>\n",
       "      <td>Baik</td>\n",
       "      <td>Berawan</td>\n",
       "      <td>Pagi</td>\n",
       "      <td>299</td>\n",
       "      <td>52</td>\n",
       "    </tr>\n",
       "    <tr>\n",
       "      <th>26</th>\n",
       "      <td>Hulu Sihapas</td>\n",
       "      <td>2020</td>\n",
       "      <td>90</td>\n",
       "      <td>2</td>\n",
       "      <td>19</td>\n",
       "      <td>46</td>\n",
       "      <td>Baik</td>\n",
       "      <td>Cerah</td>\n",
       "      <td>Siang</td>\n",
       "      <td>149</td>\n",
       "      <td>48</td>\n",
       "    </tr>\n",
       "    <tr>\n",
       "      <th>27</th>\n",
       "      <td>Hulu Sihapas</td>\n",
       "      <td>2021</td>\n",
       "      <td>150</td>\n",
       "      <td>2</td>\n",
       "      <td>13</td>\n",
       "      <td>26</td>\n",
       "      <td>Baik</td>\n",
       "      <td>Berawan</td>\n",
       "      <td>Malam</td>\n",
       "      <td>452</td>\n",
       "      <td>55</td>\n",
       "    </tr>\n",
       "    <tr>\n",
       "      <th>28</th>\n",
       "      <td>Hulu Sihapas</td>\n",
       "      <td>2022</td>\n",
       "      <td>109</td>\n",
       "      <td>7</td>\n",
       "      <td>9</td>\n",
       "      <td>24</td>\n",
       "      <td>Baik</td>\n",
       "      <td>Hujan</td>\n",
       "      <td>Pagi</td>\n",
       "      <td>241</td>\n",
       "      <td>41</td>\n",
       "    </tr>\n",
       "    <tr>\n",
       "      <th>29</th>\n",
       "      <td>Hulu Sihapas</td>\n",
       "      <td>2023</td>\n",
       "      <td>74</td>\n",
       "      <td>5</td>\n",
       "      <td>1</td>\n",
       "      <td>28</td>\n",
       "      <td>Buruk</td>\n",
       "      <td>Cerah</td>\n",
       "      <td>Siang</td>\n",
       "      <td>436</td>\n",
       "      <td>55</td>\n",
       "    </tr>\n",
       "    <tr>\n",
       "      <th>30</th>\n",
       "      <td>Padang Bolak</td>\n",
       "      <td>2019</td>\n",
       "      <td>169</td>\n",
       "      <td>3</td>\n",
       "      <td>12</td>\n",
       "      <td>26</td>\n",
       "      <td>Buruk</td>\n",
       "      <td>Hujan</td>\n",
       "      <td>Pagi</td>\n",
       "      <td>245</td>\n",
       "      <td>59</td>\n",
       "    </tr>\n",
       "    <tr>\n",
       "      <th>31</th>\n",
       "      <td>Padang Bolak</td>\n",
       "      <td>2020</td>\n",
       "      <td>90</td>\n",
       "      <td>3</td>\n",
       "      <td>13</td>\n",
       "      <td>13</td>\n",
       "      <td>Buruk</td>\n",
       "      <td>Cerah</td>\n",
       "      <td>Siang</td>\n",
       "      <td>187</td>\n",
       "      <td>79</td>\n",
       "    </tr>\n",
       "    <tr>\n",
       "      <th>32</th>\n",
       "      <td>Padang Bolak</td>\n",
       "      <td>2021</td>\n",
       "      <td>63</td>\n",
       "      <td>7</td>\n",
       "      <td>19</td>\n",
       "      <td>31</td>\n",
       "      <td>Baik</td>\n",
       "      <td>Berawan</td>\n",
       "      <td>Malam</td>\n",
       "      <td>456</td>\n",
       "      <td>61</td>\n",
       "    </tr>\n",
       "    <tr>\n",
       "      <th>33</th>\n",
       "      <td>Padang Bolak</td>\n",
       "      <td>2022</td>\n",
       "      <td>131</td>\n",
       "      <td>2</td>\n",
       "      <td>19</td>\n",
       "      <td>12</td>\n",
       "      <td>Buruk</td>\n",
       "      <td>Berawan</td>\n",
       "      <td>Siang</td>\n",
       "      <td>372</td>\n",
       "      <td>62</td>\n",
       "    </tr>\n",
       "    <tr>\n",
       "      <th>34</th>\n",
       "      <td>Padang Bolak</td>\n",
       "      <td>2023</td>\n",
       "      <td>60</td>\n",
       "      <td>8</td>\n",
       "      <td>8</td>\n",
       "      <td>31</td>\n",
       "      <td>Sedang</td>\n",
       "      <td>Hujan</td>\n",
       "      <td>Pagi</td>\n",
       "      <td>370</td>\n",
       "      <td>74</td>\n",
       "    </tr>\n",
       "    <tr>\n",
       "      <th>35</th>\n",
       "      <td>Padang Bolak Julu</td>\n",
       "      <td>2019</td>\n",
       "      <td>92</td>\n",
       "      <td>8</td>\n",
       "      <td>17</td>\n",
       "      <td>17</td>\n",
       "      <td>Buruk</td>\n",
       "      <td>Cerah</td>\n",
       "      <td>Siang</td>\n",
       "      <td>252</td>\n",
       "      <td>78</td>\n",
       "    </tr>\n",
       "    <tr>\n",
       "      <th>36</th>\n",
       "      <td>Padang Bolak Julu</td>\n",
       "      <td>2020</td>\n",
       "      <td>155</td>\n",
       "      <td>9</td>\n",
       "      <td>17</td>\n",
       "      <td>44</td>\n",
       "      <td>Baik</td>\n",
       "      <td>Cerah</td>\n",
       "      <td>Siang</td>\n",
       "      <td>215</td>\n",
       "      <td>59</td>\n",
       "    </tr>\n",
       "    <tr>\n",
       "      <th>37</th>\n",
       "      <td>Padang Bolak Julu</td>\n",
       "      <td>2021</td>\n",
       "      <td>78</td>\n",
       "      <td>6</td>\n",
       "      <td>4</td>\n",
       "      <td>23</td>\n",
       "      <td>Sedang</td>\n",
       "      <td>Hujan</td>\n",
       "      <td>Siang</td>\n",
       "      <td>175</td>\n",
       "      <td>58</td>\n",
       "    </tr>\n",
       "    <tr>\n",
       "      <th>38</th>\n",
       "      <td>Padang Bolak Julu</td>\n",
       "      <td>2022</td>\n",
       "      <td>100</td>\n",
       "      <td>2</td>\n",
       "      <td>8</td>\n",
       "      <td>25</td>\n",
       "      <td>Baik</td>\n",
       "      <td>Berawan</td>\n",
       "      <td>Malam</td>\n",
       "      <td>344</td>\n",
       "      <td>61</td>\n",
       "    </tr>\n",
       "    <tr>\n",
       "      <th>39</th>\n",
       "      <td>Padang Bolak Julu</td>\n",
       "      <td>2023</td>\n",
       "      <td>197</td>\n",
       "      <td>9</td>\n",
       "      <td>14</td>\n",
       "      <td>34</td>\n",
       "      <td>Baik</td>\n",
       "      <td>Cerah</td>\n",
       "      <td>Siang</td>\n",
       "      <td>347</td>\n",
       "      <td>76</td>\n",
       "    </tr>\n",
       "    <tr>\n",
       "      <th>40</th>\n",
       "      <td>Padang Bolak Tenggara</td>\n",
       "      <td>2019</td>\n",
       "      <td>124</td>\n",
       "      <td>8</td>\n",
       "      <td>12</td>\n",
       "      <td>49</td>\n",
       "      <td>Baik</td>\n",
       "      <td>Cerah</td>\n",
       "      <td>Malam</td>\n",
       "      <td>356</td>\n",
       "      <td>47</td>\n",
       "    </tr>\n",
       "    <tr>\n",
       "      <th>41</th>\n",
       "      <td>Padang Bolak Tenggara</td>\n",
       "      <td>2020</td>\n",
       "      <td>77</td>\n",
       "      <td>1</td>\n",
       "      <td>10</td>\n",
       "      <td>41</td>\n",
       "      <td>Baik</td>\n",
       "      <td>Cerah</td>\n",
       "      <td>Pagi</td>\n",
       "      <td>386</td>\n",
       "      <td>74</td>\n",
       "    </tr>\n",
       "    <tr>\n",
       "      <th>42</th>\n",
       "      <td>Padang Bolak Tenggara</td>\n",
       "      <td>2021</td>\n",
       "      <td>136</td>\n",
       "      <td>6</td>\n",
       "      <td>2</td>\n",
       "      <td>35</td>\n",
       "      <td>Sedang</td>\n",
       "      <td>Berawan</td>\n",
       "      <td>Pagi</td>\n",
       "      <td>100</td>\n",
       "      <td>70</td>\n",
       "    </tr>\n",
       "    <tr>\n",
       "      <th>43</th>\n",
       "      <td>Padang Bolak Tenggara</td>\n",
       "      <td>2022</td>\n",
       "      <td>78</td>\n",
       "      <td>9</td>\n",
       "      <td>6</td>\n",
       "      <td>42</td>\n",
       "      <td>Baik</td>\n",
       "      <td>Hujan</td>\n",
       "      <td>Pagi</td>\n",
       "      <td>215</td>\n",
       "      <td>60</td>\n",
       "    </tr>\n",
       "    <tr>\n",
       "      <th>44</th>\n",
       "      <td>Padang Bolak Tenggara</td>\n",
       "      <td>2023</td>\n",
       "      <td>161</td>\n",
       "      <td>5</td>\n",
       "      <td>10</td>\n",
       "      <td>37</td>\n",
       "      <td>Buruk</td>\n",
       "      <td>Hujan</td>\n",
       "      <td>Siang</td>\n",
       "      <td>415</td>\n",
       "      <td>67</td>\n",
       "    </tr>\n",
       "    <tr>\n",
       "      <th>45</th>\n",
       "      <td>Portibi</td>\n",
       "      <td>2019</td>\n",
       "      <td>153</td>\n",
       "      <td>8</td>\n",
       "      <td>10</td>\n",
       "      <td>45</td>\n",
       "      <td>Baik</td>\n",
       "      <td>Cerah</td>\n",
       "      <td>Pagi</td>\n",
       "      <td>208</td>\n",
       "      <td>59</td>\n",
       "    </tr>\n",
       "    <tr>\n",
       "      <th>46</th>\n",
       "      <td>Portibi</td>\n",
       "      <td>2020</td>\n",
       "      <td>182</td>\n",
       "      <td>8</td>\n",
       "      <td>9</td>\n",
       "      <td>39</td>\n",
       "      <td>Sedang</td>\n",
       "      <td>Hujan</td>\n",
       "      <td>Pagi</td>\n",
       "      <td>177</td>\n",
       "      <td>44</td>\n",
       "    </tr>\n",
       "    <tr>\n",
       "      <th>47</th>\n",
       "      <td>Portibi</td>\n",
       "      <td>2021</td>\n",
       "      <td>137</td>\n",
       "      <td>4</td>\n",
       "      <td>13</td>\n",
       "      <td>32</td>\n",
       "      <td>Buruk</td>\n",
       "      <td>Hujan</td>\n",
       "      <td>Pagi</td>\n",
       "      <td>288</td>\n",
       "      <td>77</td>\n",
       "    </tr>\n",
       "    <tr>\n",
       "      <th>48</th>\n",
       "      <td>Portibi</td>\n",
       "      <td>2022</td>\n",
       "      <td>69</td>\n",
       "      <td>7</td>\n",
       "      <td>7</td>\n",
       "      <td>26</td>\n",
       "      <td>Sedang</td>\n",
       "      <td>Berawan</td>\n",
       "      <td>Siang</td>\n",
       "      <td>235</td>\n",
       "      <td>46</td>\n",
       "    </tr>\n",
       "    <tr>\n",
       "      <th>49</th>\n",
       "      <td>Portibi</td>\n",
       "      <td>2023</td>\n",
       "      <td>99</td>\n",
       "      <td>5</td>\n",
       "      <td>16</td>\n",
       "      <td>46</td>\n",
       "      <td>Baik</td>\n",
       "      <td>Cerah</td>\n",
       "      <td>Siang</td>\n",
       "      <td>470</td>\n",
       "      <td>79</td>\n",
       "    </tr>\n",
       "    <tr>\n",
       "      <th>50</th>\n",
       "      <td>Simangambat</td>\n",
       "      <td>2019</td>\n",
       "      <td>55</td>\n",
       "      <td>3</td>\n",
       "      <td>16</td>\n",
       "      <td>42</td>\n",
       "      <td>Buruk</td>\n",
       "      <td>Cerah</td>\n",
       "      <td>Pagi</td>\n",
       "      <td>234</td>\n",
       "      <td>62</td>\n",
       "    </tr>\n",
       "    <tr>\n",
       "      <th>51</th>\n",
       "      <td>Simangambat</td>\n",
       "      <td>2020</td>\n",
       "      <td>80</td>\n",
       "      <td>3</td>\n",
       "      <td>9</td>\n",
       "      <td>42</td>\n",
       "      <td>Sedang</td>\n",
       "      <td>Berawan</td>\n",
       "      <td>Pagi</td>\n",
       "      <td>316</td>\n",
       "      <td>74</td>\n",
       "    </tr>\n",
       "    <tr>\n",
       "      <th>52</th>\n",
       "      <td>Simangambat</td>\n",
       "      <td>2021</td>\n",
       "      <td>55</td>\n",
       "      <td>2</td>\n",
       "      <td>14</td>\n",
       "      <td>38</td>\n",
       "      <td>Baik</td>\n",
       "      <td>Berawan</td>\n",
       "      <td>Siang</td>\n",
       "      <td>217</td>\n",
       "      <td>73</td>\n",
       "    </tr>\n",
       "    <tr>\n",
       "      <th>53</th>\n",
       "      <td>Simangambat</td>\n",
       "      <td>2022</td>\n",
       "      <td>176</td>\n",
       "      <td>8</td>\n",
       "      <td>3</td>\n",
       "      <td>22</td>\n",
       "      <td>Sedang</td>\n",
       "      <td>Hujan</td>\n",
       "      <td>Siang</td>\n",
       "      <td>391</td>\n",
       "      <td>69</td>\n",
       "    </tr>\n",
       "    <tr>\n",
       "      <th>54</th>\n",
       "      <td>Simangambat</td>\n",
       "      <td>2023</td>\n",
       "      <td>169</td>\n",
       "      <td>2</td>\n",
       "      <td>7</td>\n",
       "      <td>14</td>\n",
       "      <td>Baik</td>\n",
       "      <td>Hujan</td>\n",
       "      <td>Malam</td>\n",
       "      <td>148</td>\n",
       "      <td>73</td>\n",
       "    </tr>\n",
       "    <tr>\n",
       "      <th>55</th>\n",
       "      <td>Ujung Batu</td>\n",
       "      <td>2019</td>\n",
       "      <td>70</td>\n",
       "      <td>9</td>\n",
       "      <td>10</td>\n",
       "      <td>10</td>\n",
       "      <td>Buruk</td>\n",
       "      <td>Hujan</td>\n",
       "      <td>Pagi</td>\n",
       "      <td>142</td>\n",
       "      <td>45</td>\n",
       "    </tr>\n",
       "    <tr>\n",
       "      <th>56</th>\n",
       "      <td>Ujung Batu</td>\n",
       "      <td>2020</td>\n",
       "      <td>182</td>\n",
       "      <td>4</td>\n",
       "      <td>1</td>\n",
       "      <td>33</td>\n",
       "      <td>Buruk</td>\n",
       "      <td>Cerah</td>\n",
       "      <td>Siang</td>\n",
       "      <td>484</td>\n",
       "      <td>43</td>\n",
       "    </tr>\n",
       "    <tr>\n",
       "      <th>57</th>\n",
       "      <td>Ujung Batu</td>\n",
       "      <td>2021</td>\n",
       "      <td>76</td>\n",
       "      <td>8</td>\n",
       "      <td>14</td>\n",
       "      <td>46</td>\n",
       "      <td>Sedang</td>\n",
       "      <td>Berawan</td>\n",
       "      <td>Malam</td>\n",
       "      <td>348</td>\n",
       "      <td>46</td>\n",
       "    </tr>\n",
       "    <tr>\n",
       "      <th>58</th>\n",
       "      <td>Ujung Batu</td>\n",
       "      <td>2022</td>\n",
       "      <td>90</td>\n",
       "      <td>1</td>\n",
       "      <td>12</td>\n",
       "      <td>25</td>\n",
       "      <td>Buruk</td>\n",
       "      <td>Hujan</td>\n",
       "      <td>Malam</td>\n",
       "      <td>484</td>\n",
       "      <td>72</td>\n",
       "    </tr>\n",
       "    <tr>\n",
       "      <th>59</th>\n",
       "      <td>Ujung Batu</td>\n",
       "      <td>2023</td>\n",
       "      <td>102</td>\n",
       "      <td>2</td>\n",
       "      <td>15</td>\n",
       "      <td>20</td>\n",
       "      <td>Sedang</td>\n",
       "      <td>Berawan</td>\n",
       "      <td>Siang</td>\n",
       "      <td>321</td>\n",
       "      <td>41</td>\n",
       "    </tr>\n",
       "  </tbody>\n",
       "</table>\n",
       "</div>"
      ],
      "text/plain": [
       "                Kecamatan  Tahun  Jumlah Kecelakaan  Jumlah Meninggal  \\\n",
       "0            Batang Onang   2019                 93                 3   \n",
       "1            Batang Onang   2020                196                 6   \n",
       "2            Batang Onang   2021                 82                 7   \n",
       "3            Batang Onang   2022                199                 5   \n",
       "4            Batang Onang   2023                183                 7   \n",
       "5                   Dolok   2019                103                 3   \n",
       "6                   Dolok   2020                103                 3   \n",
       "7                   Dolok   2021                104                 2   \n",
       "8                   Dolok   2022                 78                 6   \n",
       "9                   Dolok   2023                199                 2   \n",
       "10       Dolok Sigompulon   2019                 56                 4   \n",
       "11       Dolok Sigompulon   2020                140                 1   \n",
       "12       Dolok Sigompulon   2021                 76                 1   \n",
       "13       Dolok Sigompulon   2022                177                 5   \n",
       "14       Dolok Sigompulon   2023                 71                 3   \n",
       "15             Halongonan   2019                 91                 7   \n",
       "16             Halongonan   2020                 91                 8   \n",
       "17             Halongonan   2021                117                 7   \n",
       "18             Halongonan   2022                117                 5   \n",
       "19             Halongonan   2023                151                 6   \n",
       "20       Halongonan Timur   2019                127                 7   \n",
       "21       Halongonan Timur   2020                124                 1   \n",
       "22       Halongonan Timur   2021                152                 3   \n",
       "23       Halongonan Timur   2022                127                 4   \n",
       "24       Halongonan Timur   2023                 62                 8   \n",
       "25           Hulu Sihapas   2019                165                 4   \n",
       "26           Hulu Sihapas   2020                 90                 2   \n",
       "27           Hulu Sihapas   2021                150                 2   \n",
       "28           Hulu Sihapas   2022                109                 7   \n",
       "29           Hulu Sihapas   2023                 74                 5   \n",
       "30           Padang Bolak   2019                169                 3   \n",
       "31           Padang Bolak   2020                 90                 3   \n",
       "32           Padang Bolak   2021                 63                 7   \n",
       "33           Padang Bolak   2022                131                 2   \n",
       "34           Padang Bolak   2023                 60                 8   \n",
       "35      Padang Bolak Julu   2019                 92                 8   \n",
       "36      Padang Bolak Julu   2020                155                 9   \n",
       "37      Padang Bolak Julu   2021                 78                 6   \n",
       "38      Padang Bolak Julu   2022                100                 2   \n",
       "39      Padang Bolak Julu   2023                197                 9   \n",
       "40  Padang Bolak Tenggara   2019                124                 8   \n",
       "41  Padang Bolak Tenggara   2020                 77                 1   \n",
       "42  Padang Bolak Tenggara   2021                136                 6   \n",
       "43  Padang Bolak Tenggara   2022                 78                 9   \n",
       "44  Padang Bolak Tenggara   2023                161                 5   \n",
       "45                Portibi   2019                153                 8   \n",
       "46                Portibi   2020                182                 8   \n",
       "47                Portibi   2021                137                 4   \n",
       "48                Portibi   2022                 69                 7   \n",
       "49                Portibi   2023                 99                 5   \n",
       "50            Simangambat   2019                 55                 3   \n",
       "51            Simangambat   2020                 80                 3   \n",
       "52            Simangambat   2021                 55                 2   \n",
       "53            Simangambat   2022                176                 8   \n",
       "54            Simangambat   2023                169                 2   \n",
       "55             Ujung Batu   2019                 70                 9   \n",
       "56             Ujung Batu   2020                182                 4   \n",
       "57             Ujung Batu   2021                 76                 8   \n",
       "58             Ujung Batu   2022                 90                 1   \n",
       "59             Ujung Batu   2023                102                 2   \n",
       "\n",
       "    Jumlah Luka Berat  Jumlah Luka Ringan Kondisi Jalan    Cuaca  \\\n",
       "0                  17                  19        Sedang    Hujan   \n",
       "1                  15                  27          Baik  Berawan   \n",
       "2                  16                  13        Sedang  Berawan   \n",
       "3                  12                  42        Sedang  Berawan   \n",
       "4                  12                  40          Baik    Hujan   \n",
       "5                  15                  33         Buruk  Berawan   \n",
       "6                  12                  47        Sedang    Cerah   \n",
       "7                  17                  41        Sedang    Hujan   \n",
       "8                  18                  27          Baik    Cerah   \n",
       "9                  10                  29         Buruk  Berawan   \n",
       "10                 12                  26          Baik  Berawan   \n",
       "11                 13                  43        Sedang    Cerah   \n",
       "12                 13                  15         Buruk    Hujan   \n",
       "13                  4                  11        Sedang  Berawan   \n",
       "14                 14                  47        Sedang    Hujan   \n",
       "15                  6                  11          Baik    Cerah   \n",
       "16                  1                  40          Baik  Berawan   \n",
       "17                 19                  14         Buruk  Berawan   \n",
       "18                 12                  39         Buruk    Hujan   \n",
       "19                 14                  46          Baik    Cerah   \n",
       "20                  8                  34          Baik    Cerah   \n",
       "21                  1                  17          Baik    Hujan   \n",
       "22                 18                  24          Baik    Cerah   \n",
       "23                 16                  43        Sedang    Hujan   \n",
       "24                 18                  21          Baik    Hujan   \n",
       "25                 19                  41          Baik  Berawan   \n",
       "26                 19                  46          Baik    Cerah   \n",
       "27                 13                  26          Baik  Berawan   \n",
       "28                  9                  24          Baik    Hujan   \n",
       "29                  1                  28         Buruk    Cerah   \n",
       "30                 12                  26         Buruk    Hujan   \n",
       "31                 13                  13         Buruk    Cerah   \n",
       "32                 19                  31          Baik  Berawan   \n",
       "33                 19                  12         Buruk  Berawan   \n",
       "34                  8                  31        Sedang    Hujan   \n",
       "35                 17                  17         Buruk    Cerah   \n",
       "36                 17                  44          Baik    Cerah   \n",
       "37                  4                  23        Sedang    Hujan   \n",
       "38                  8                  25          Baik  Berawan   \n",
       "39                 14                  34          Baik    Cerah   \n",
       "40                 12                  49          Baik    Cerah   \n",
       "41                 10                  41          Baik    Cerah   \n",
       "42                  2                  35        Sedang  Berawan   \n",
       "43                  6                  42          Baik    Hujan   \n",
       "44                 10                  37         Buruk    Hujan   \n",
       "45                 10                  45          Baik    Cerah   \n",
       "46                  9                  39        Sedang    Hujan   \n",
       "47                 13                  32         Buruk    Hujan   \n",
       "48                  7                  26        Sedang  Berawan   \n",
       "49                 16                  46          Baik    Cerah   \n",
       "50                 16                  42         Buruk    Cerah   \n",
       "51                  9                  42        Sedang  Berawan   \n",
       "52                 14                  38          Baik  Berawan   \n",
       "53                  3                  22        Sedang    Hujan   \n",
       "54                  7                  14          Baik    Hujan   \n",
       "55                 10                  10         Buruk    Hujan   \n",
       "56                  1                  33         Buruk    Cerah   \n",
       "57                 14                  46        Sedang  Berawan   \n",
       "58                 12                  25         Buruk    Hujan   \n",
       "59                 15                  20        Sedang  Berawan   \n",
       "\n",
       "   Waktu Kecelakaan  Jumlah Kendaraan  Kecepatan Rata-rata  \n",
       "0              Pagi               411                   46  \n",
       "1              Pagi               251                   42  \n",
       "2             Siang               272                   46  \n",
       "3              Pagi               312                   64  \n",
       "4              Pagi               207                   60  \n",
       "5             Malam               343                   43  \n",
       "6              Pagi               193                   58  \n",
       "7             Malam               223                   66  \n",
       "8              Pagi               499                   73  \n",
       "9             Siang               444                   40  \n",
       "10             Pagi               162                   55  \n",
       "11             Pagi               194                   67  \n",
       "12            Siang               334                   66  \n",
       "13             Pagi               284                   62  \n",
       "14             Pagi               171                   41  \n",
       "15            Siang               121                   48  \n",
       "16            Malam               125                   64  \n",
       "17             Pagi               207                   46  \n",
       "18            Malam               273                   51  \n",
       "19            Siang               190                   67  \n",
       "20            Siang               387                   64  \n",
       "21             Pagi               206                   66  \n",
       "22             Pagi               360                   54  \n",
       "23            Siang               120                   40  \n",
       "24             Pagi               179                   70  \n",
       "25             Pagi               299                   52  \n",
       "26            Siang               149                   48  \n",
       "27            Malam               452                   55  \n",
       "28             Pagi               241                   41  \n",
       "29            Siang               436                   55  \n",
       "30             Pagi               245                   59  \n",
       "31            Siang               187                   79  \n",
       "32            Malam               456                   61  \n",
       "33            Siang               372                   62  \n",
       "34             Pagi               370                   74  \n",
       "35            Siang               252                   78  \n",
       "36            Siang               215                   59  \n",
       "37            Siang               175                   58  \n",
       "38            Malam               344                   61  \n",
       "39            Siang               347                   76  \n",
       "40            Malam               356                   47  \n",
       "41             Pagi               386                   74  \n",
       "42             Pagi               100                   70  \n",
       "43             Pagi               215                   60  \n",
       "44            Siang               415                   67  \n",
       "45             Pagi               208                   59  \n",
       "46             Pagi               177                   44  \n",
       "47             Pagi               288                   77  \n",
       "48            Siang               235                   46  \n",
       "49            Siang               470                   79  \n",
       "50             Pagi               234                   62  \n",
       "51             Pagi               316                   74  \n",
       "52            Siang               217                   73  \n",
       "53            Siang               391                   69  \n",
       "54            Malam               148                   73  \n",
       "55             Pagi               142                   45  \n",
       "56            Siang               484                   43  \n",
       "57            Malam               348                   46  \n",
       "58            Malam               484                   72  \n",
       "59            Siang               321                   41  "
      ]
     },
     "execution_count": 2,
     "metadata": {},
     "output_type": "execute_result"
    }
   ],
   "source": [
    "# Bagian 1: Memuat Data dari File Excel\n",
    "\n",
    "import pandas as pd\n",
    "\n",
    "# Memuat data dari file Excel\n",
    "file_path = 'Data_Kecelakaan_Padang_Lawas_Utara.xlsx'\n",
    "df = pd.read_excel(file_path)\n",
    "\n",
    "# Menampilkan beberapa baris pertama dari data\n",
    "df\n"
   ]
  },
  {
   "cell_type": "code",
   "execution_count": 4,
   "metadata": {},
   "outputs": [
    {
     "name": "stderr",
     "output_type": "stream",
     "text": [
      "c:\\Users\\User\\anaconda3\\Lib\\site-packages\\sklearn\\cluster\\_kmeans.py:1412: FutureWarning: The default value of `n_init` will change from 10 to 'auto' in 1.4. Set the value of `n_init` explicitly to suppress the warning\n",
      "  super()._check_params_vs_input(X, default_n_init=10)\n",
      "c:\\Users\\User\\anaconda3\\Lib\\site-packages\\sklearn\\cluster\\_kmeans.py:1436: UserWarning: KMeans is known to have a memory leak on Windows with MKL, when there are less chunks than available threads. You can avoid it by setting the environment variable OMP_NUM_THREADS=1.\n",
      "  warnings.warn(\n"
     ]
    },
    {
     "data": {
      "text/html": [
       "<div>\n",
       "<style scoped>\n",
       "    .dataframe tbody tr th:only-of-type {\n",
       "        vertical-align: middle;\n",
       "    }\n",
       "\n",
       "    .dataframe tbody tr th {\n",
       "        vertical-align: top;\n",
       "    }\n",
       "\n",
       "    .dataframe thead th {\n",
       "        text-align: right;\n",
       "    }\n",
       "</style>\n",
       "<table border=\"1\" class=\"dataframe\">\n",
       "  <thead>\n",
       "    <tr style=\"text-align: right;\">\n",
       "      <th></th>\n",
       "      <th>Kecamatan</th>\n",
       "      <th>Tahun</th>\n",
       "      <th>Jumlah Kecelakaan</th>\n",
       "      <th>Jumlah Meninggal</th>\n",
       "      <th>Jumlah Luka Berat</th>\n",
       "      <th>Jumlah Luka Ringan</th>\n",
       "      <th>Kondisi Jalan</th>\n",
       "      <th>Cuaca</th>\n",
       "      <th>Waktu Kecelakaan</th>\n",
       "      <th>Jumlah Kendaraan</th>\n",
       "      <th>Kecepatan Rata-rata</th>\n",
       "      <th>Cluster</th>\n",
       "    </tr>\n",
       "  </thead>\n",
       "  <tbody>\n",
       "    <tr>\n",
       "      <th>0</th>\n",
       "      <td>Batang Onang</td>\n",
       "      <td>2019</td>\n",
       "      <td>93</td>\n",
       "      <td>3</td>\n",
       "      <td>17</td>\n",
       "      <td>19</td>\n",
       "      <td>Sedang</td>\n",
       "      <td>Hujan</td>\n",
       "      <td>Pagi</td>\n",
       "      <td>411</td>\n",
       "      <td>46</td>\n",
       "      <td>3</td>\n",
       "    </tr>\n",
       "    <tr>\n",
       "      <th>1</th>\n",
       "      <td>Batang Onang</td>\n",
       "      <td>2020</td>\n",
       "      <td>196</td>\n",
       "      <td>6</td>\n",
       "      <td>15</td>\n",
       "      <td>27</td>\n",
       "      <td>Baik</td>\n",
       "      <td>Berawan</td>\n",
       "      <td>Pagi</td>\n",
       "      <td>251</td>\n",
       "      <td>42</td>\n",
       "      <td>0</td>\n",
       "    </tr>\n",
       "    <tr>\n",
       "      <th>2</th>\n",
       "      <td>Batang Onang</td>\n",
       "      <td>2021</td>\n",
       "      <td>82</td>\n",
       "      <td>7</td>\n",
       "      <td>16</td>\n",
       "      <td>13</td>\n",
       "      <td>Sedang</td>\n",
       "      <td>Berawan</td>\n",
       "      <td>Siang</td>\n",
       "      <td>272</td>\n",
       "      <td>46</td>\n",
       "      <td>3</td>\n",
       "    </tr>\n",
       "    <tr>\n",
       "      <th>3</th>\n",
       "      <td>Batang Onang</td>\n",
       "      <td>2022</td>\n",
       "      <td>199</td>\n",
       "      <td>5</td>\n",
       "      <td>12</td>\n",
       "      <td>42</td>\n",
       "      <td>Sedang</td>\n",
       "      <td>Berawan</td>\n",
       "      <td>Pagi</td>\n",
       "      <td>312</td>\n",
       "      <td>64</td>\n",
       "      <td>0</td>\n",
       "    </tr>\n",
       "    <tr>\n",
       "      <th>4</th>\n",
       "      <td>Batang Onang</td>\n",
       "      <td>2023</td>\n",
       "      <td>183</td>\n",
       "      <td>7</td>\n",
       "      <td>12</td>\n",
       "      <td>40</td>\n",
       "      <td>Baik</td>\n",
       "      <td>Hujan</td>\n",
       "      <td>Pagi</td>\n",
       "      <td>207</td>\n",
       "      <td>60</td>\n",
       "      <td>0</td>\n",
       "    </tr>\n",
       "    <tr>\n",
       "      <th>5</th>\n",
       "      <td>Dolok</td>\n",
       "      <td>2019</td>\n",
       "      <td>103</td>\n",
       "      <td>3</td>\n",
       "      <td>15</td>\n",
       "      <td>33</td>\n",
       "      <td>Buruk</td>\n",
       "      <td>Berawan</td>\n",
       "      <td>Malam</td>\n",
       "      <td>343</td>\n",
       "      <td>43</td>\n",
       "      <td>1</td>\n",
       "    </tr>\n",
       "    <tr>\n",
       "      <th>6</th>\n",
       "      <td>Dolok</td>\n",
       "      <td>2020</td>\n",
       "      <td>103</td>\n",
       "      <td>3</td>\n",
       "      <td>12</td>\n",
       "      <td>47</td>\n",
       "      <td>Sedang</td>\n",
       "      <td>Cerah</td>\n",
       "      <td>Pagi</td>\n",
       "      <td>193</td>\n",
       "      <td>58</td>\n",
       "      <td>1</td>\n",
       "    </tr>\n",
       "    <tr>\n",
       "      <th>7</th>\n",
       "      <td>Dolok</td>\n",
       "      <td>2021</td>\n",
       "      <td>104</td>\n",
       "      <td>2</td>\n",
       "      <td>17</td>\n",
       "      <td>41</td>\n",
       "      <td>Sedang</td>\n",
       "      <td>Hujan</td>\n",
       "      <td>Malam</td>\n",
       "      <td>223</td>\n",
       "      <td>66</td>\n",
       "      <td>1</td>\n",
       "    </tr>\n",
       "    <tr>\n",
       "      <th>8</th>\n",
       "      <td>Dolok</td>\n",
       "      <td>2022</td>\n",
       "      <td>78</td>\n",
       "      <td>6</td>\n",
       "      <td>18</td>\n",
       "      <td>27</td>\n",
       "      <td>Baik</td>\n",
       "      <td>Cerah</td>\n",
       "      <td>Pagi</td>\n",
       "      <td>499</td>\n",
       "      <td>73</td>\n",
       "      <td>3</td>\n",
       "    </tr>\n",
       "    <tr>\n",
       "      <th>9</th>\n",
       "      <td>Dolok</td>\n",
       "      <td>2023</td>\n",
       "      <td>199</td>\n",
       "      <td>2</td>\n",
       "      <td>10</td>\n",
       "      <td>29</td>\n",
       "      <td>Buruk</td>\n",
       "      <td>Berawan</td>\n",
       "      <td>Siang</td>\n",
       "      <td>444</td>\n",
       "      <td>40</td>\n",
       "      <td>0</td>\n",
       "    </tr>\n",
       "    <tr>\n",
       "      <th>10</th>\n",
       "      <td>Dolok Sigompulon</td>\n",
       "      <td>2019</td>\n",
       "      <td>56</td>\n",
       "      <td>4</td>\n",
       "      <td>12</td>\n",
       "      <td>26</td>\n",
       "      <td>Baik</td>\n",
       "      <td>Berawan</td>\n",
       "      <td>Pagi</td>\n",
       "      <td>162</td>\n",
       "      <td>55</td>\n",
       "      <td>3</td>\n",
       "    </tr>\n",
       "    <tr>\n",
       "      <th>11</th>\n",
       "      <td>Dolok Sigompulon</td>\n",
       "      <td>2020</td>\n",
       "      <td>140</td>\n",
       "      <td>1</td>\n",
       "      <td>13</td>\n",
       "      <td>43</td>\n",
       "      <td>Sedang</td>\n",
       "      <td>Cerah</td>\n",
       "      <td>Pagi</td>\n",
       "      <td>194</td>\n",
       "      <td>67</td>\n",
       "      <td>1</td>\n",
       "    </tr>\n",
       "    <tr>\n",
       "      <th>12</th>\n",
       "      <td>Dolok Sigompulon</td>\n",
       "      <td>2021</td>\n",
       "      <td>76</td>\n",
       "      <td>1</td>\n",
       "      <td>13</td>\n",
       "      <td>15</td>\n",
       "      <td>Buruk</td>\n",
       "      <td>Hujan</td>\n",
       "      <td>Siang</td>\n",
       "      <td>334</td>\n",
       "      <td>66</td>\n",
       "      <td>3</td>\n",
       "    </tr>\n",
       "    <tr>\n",
       "      <th>13</th>\n",
       "      <td>Dolok Sigompulon</td>\n",
       "      <td>2022</td>\n",
       "      <td>177</td>\n",
       "      <td>5</td>\n",
       "      <td>4</td>\n",
       "      <td>11</td>\n",
       "      <td>Sedang</td>\n",
       "      <td>Berawan</td>\n",
       "      <td>Pagi</td>\n",
       "      <td>284</td>\n",
       "      <td>62</td>\n",
       "      <td>2</td>\n",
       "    </tr>\n",
       "    <tr>\n",
       "      <th>14</th>\n",
       "      <td>Dolok Sigompulon</td>\n",
       "      <td>2023</td>\n",
       "      <td>71</td>\n",
       "      <td>3</td>\n",
       "      <td>14</td>\n",
       "      <td>47</td>\n",
       "      <td>Sedang</td>\n",
       "      <td>Hujan</td>\n",
       "      <td>Pagi</td>\n",
       "      <td>171</td>\n",
       "      <td>41</td>\n",
       "      <td>1</td>\n",
       "    </tr>\n",
       "    <tr>\n",
       "      <th>15</th>\n",
       "      <td>Halongonan</td>\n",
       "      <td>2019</td>\n",
       "      <td>91</td>\n",
       "      <td>7</td>\n",
       "      <td>6</td>\n",
       "      <td>11</td>\n",
       "      <td>Baik</td>\n",
       "      <td>Cerah</td>\n",
       "      <td>Siang</td>\n",
       "      <td>121</td>\n",
       "      <td>48</td>\n",
       "      <td>2</td>\n",
       "    </tr>\n",
       "    <tr>\n",
       "      <th>16</th>\n",
       "      <td>Halongonan</td>\n",
       "      <td>2020</td>\n",
       "      <td>91</td>\n",
       "      <td>8</td>\n",
       "      <td>1</td>\n",
       "      <td>40</td>\n",
       "      <td>Baik</td>\n",
       "      <td>Berawan</td>\n",
       "      <td>Malam</td>\n",
       "      <td>125</td>\n",
       "      <td>64</td>\n",
       "      <td>2</td>\n",
       "    </tr>\n",
       "    <tr>\n",
       "      <th>17</th>\n",
       "      <td>Halongonan</td>\n",
       "      <td>2021</td>\n",
       "      <td>117</td>\n",
       "      <td>7</td>\n",
       "      <td>19</td>\n",
       "      <td>14</td>\n",
       "      <td>Buruk</td>\n",
       "      <td>Berawan</td>\n",
       "      <td>Pagi</td>\n",
       "      <td>207</td>\n",
       "      <td>46</td>\n",
       "      <td>3</td>\n",
       "    </tr>\n",
       "    <tr>\n",
       "      <th>18</th>\n",
       "      <td>Halongonan</td>\n",
       "      <td>2022</td>\n",
       "      <td>117</td>\n",
       "      <td>5</td>\n",
       "      <td>12</td>\n",
       "      <td>39</td>\n",
       "      <td>Buruk</td>\n",
       "      <td>Hujan</td>\n",
       "      <td>Malam</td>\n",
       "      <td>273</td>\n",
       "      <td>51</td>\n",
       "      <td>1</td>\n",
       "    </tr>\n",
       "    <tr>\n",
       "      <th>19</th>\n",
       "      <td>Halongonan</td>\n",
       "      <td>2023</td>\n",
       "      <td>151</td>\n",
       "      <td>6</td>\n",
       "      <td>14</td>\n",
       "      <td>46</td>\n",
       "      <td>Baik</td>\n",
       "      <td>Cerah</td>\n",
       "      <td>Siang</td>\n",
       "      <td>190</td>\n",
       "      <td>67</td>\n",
       "      <td>0</td>\n",
       "    </tr>\n",
       "    <tr>\n",
       "      <th>20</th>\n",
       "      <td>Halongonan Timur</td>\n",
       "      <td>2019</td>\n",
       "      <td>127</td>\n",
       "      <td>7</td>\n",
       "      <td>8</td>\n",
       "      <td>34</td>\n",
       "      <td>Baik</td>\n",
       "      <td>Cerah</td>\n",
       "      <td>Siang</td>\n",
       "      <td>387</td>\n",
       "      <td>64</td>\n",
       "      <td>2</td>\n",
       "    </tr>\n",
       "    <tr>\n",
       "      <th>21</th>\n",
       "      <td>Halongonan Timur</td>\n",
       "      <td>2020</td>\n",
       "      <td>124</td>\n",
       "      <td>1</td>\n",
       "      <td>1</td>\n",
       "      <td>17</td>\n",
       "      <td>Baik</td>\n",
       "      <td>Hujan</td>\n",
       "      <td>Pagi</td>\n",
       "      <td>206</td>\n",
       "      <td>66</td>\n",
       "      <td>2</td>\n",
       "    </tr>\n",
       "    <tr>\n",
       "      <th>22</th>\n",
       "      <td>Halongonan Timur</td>\n",
       "      <td>2021</td>\n",
       "      <td>152</td>\n",
       "      <td>3</td>\n",
       "      <td>18</td>\n",
       "      <td>24</td>\n",
       "      <td>Baik</td>\n",
       "      <td>Cerah</td>\n",
       "      <td>Pagi</td>\n",
       "      <td>360</td>\n",
       "      <td>54</td>\n",
       "      <td>0</td>\n",
       "    </tr>\n",
       "    <tr>\n",
       "      <th>23</th>\n",
       "      <td>Halongonan Timur</td>\n",
       "      <td>2022</td>\n",
       "      <td>127</td>\n",
       "      <td>4</td>\n",
       "      <td>16</td>\n",
       "      <td>43</td>\n",
       "      <td>Sedang</td>\n",
       "      <td>Hujan</td>\n",
       "      <td>Siang</td>\n",
       "      <td>120</td>\n",
       "      <td>40</td>\n",
       "      <td>1</td>\n",
       "    </tr>\n",
       "    <tr>\n",
       "      <th>24</th>\n",
       "      <td>Halongonan Timur</td>\n",
       "      <td>2023</td>\n",
       "      <td>62</td>\n",
       "      <td>8</td>\n",
       "      <td>18</td>\n",
       "      <td>21</td>\n",
       "      <td>Baik</td>\n",
       "      <td>Hujan</td>\n",
       "      <td>Pagi</td>\n",
       "      <td>179</td>\n",
       "      <td>70</td>\n",
       "      <td>3</td>\n",
       "    </tr>\n",
       "    <tr>\n",
       "      <th>25</th>\n",
       "      <td>Hulu Sihapas</td>\n",
       "      <td>2019</td>\n",
       "      <td>165</td>\n",
       "      <td>4</td>\n",
       "      <td>19</td>\n",
       "      <td>41</td>\n",
       "      <td>Baik</td>\n",
       "      <td>Berawan</td>\n",
       "      <td>Pagi</td>\n",
       "      <td>299</td>\n",
       "      <td>52</td>\n",
       "      <td>0</td>\n",
       "    </tr>\n",
       "    <tr>\n",
       "      <th>26</th>\n",
       "      <td>Hulu Sihapas</td>\n",
       "      <td>2020</td>\n",
       "      <td>90</td>\n",
       "      <td>2</td>\n",
       "      <td>19</td>\n",
       "      <td>46</td>\n",
       "      <td>Baik</td>\n",
       "      <td>Cerah</td>\n",
       "      <td>Siang</td>\n",
       "      <td>149</td>\n",
       "      <td>48</td>\n",
       "      <td>1</td>\n",
       "    </tr>\n",
       "    <tr>\n",
       "      <th>27</th>\n",
       "      <td>Hulu Sihapas</td>\n",
       "      <td>2021</td>\n",
       "      <td>150</td>\n",
       "      <td>2</td>\n",
       "      <td>13</td>\n",
       "      <td>26</td>\n",
       "      <td>Baik</td>\n",
       "      <td>Berawan</td>\n",
       "      <td>Malam</td>\n",
       "      <td>452</td>\n",
       "      <td>55</td>\n",
       "      <td>0</td>\n",
       "    </tr>\n",
       "    <tr>\n",
       "      <th>28</th>\n",
       "      <td>Hulu Sihapas</td>\n",
       "      <td>2022</td>\n",
       "      <td>109</td>\n",
       "      <td>7</td>\n",
       "      <td>9</td>\n",
       "      <td>24</td>\n",
       "      <td>Baik</td>\n",
       "      <td>Hujan</td>\n",
       "      <td>Pagi</td>\n",
       "      <td>241</td>\n",
       "      <td>41</td>\n",
       "      <td>2</td>\n",
       "    </tr>\n",
       "    <tr>\n",
       "      <th>29</th>\n",
       "      <td>Hulu Sihapas</td>\n",
       "      <td>2023</td>\n",
       "      <td>74</td>\n",
       "      <td>5</td>\n",
       "      <td>1</td>\n",
       "      <td>28</td>\n",
       "      <td>Buruk</td>\n",
       "      <td>Cerah</td>\n",
       "      <td>Siang</td>\n",
       "      <td>436</td>\n",
       "      <td>55</td>\n",
       "      <td>2</td>\n",
       "    </tr>\n",
       "    <tr>\n",
       "      <th>30</th>\n",
       "      <td>Padang Bolak</td>\n",
       "      <td>2019</td>\n",
       "      <td>169</td>\n",
       "      <td>3</td>\n",
       "      <td>12</td>\n",
       "      <td>26</td>\n",
       "      <td>Buruk</td>\n",
       "      <td>Hujan</td>\n",
       "      <td>Pagi</td>\n",
       "      <td>245</td>\n",
       "      <td>59</td>\n",
       "      <td>0</td>\n",
       "    </tr>\n",
       "    <tr>\n",
       "      <th>31</th>\n",
       "      <td>Padang Bolak</td>\n",
       "      <td>2020</td>\n",
       "      <td>90</td>\n",
       "      <td>3</td>\n",
       "      <td>13</td>\n",
       "      <td>13</td>\n",
       "      <td>Buruk</td>\n",
       "      <td>Cerah</td>\n",
       "      <td>Siang</td>\n",
       "      <td>187</td>\n",
       "      <td>79</td>\n",
       "      <td>3</td>\n",
       "    </tr>\n",
       "    <tr>\n",
       "      <th>32</th>\n",
       "      <td>Padang Bolak</td>\n",
       "      <td>2021</td>\n",
       "      <td>63</td>\n",
       "      <td>7</td>\n",
       "      <td>19</td>\n",
       "      <td>31</td>\n",
       "      <td>Baik</td>\n",
       "      <td>Berawan</td>\n",
       "      <td>Malam</td>\n",
       "      <td>456</td>\n",
       "      <td>61</td>\n",
       "      <td>3</td>\n",
       "    </tr>\n",
       "    <tr>\n",
       "      <th>33</th>\n",
       "      <td>Padang Bolak</td>\n",
       "      <td>2022</td>\n",
       "      <td>131</td>\n",
       "      <td>2</td>\n",
       "      <td>19</td>\n",
       "      <td>12</td>\n",
       "      <td>Buruk</td>\n",
       "      <td>Berawan</td>\n",
       "      <td>Siang</td>\n",
       "      <td>372</td>\n",
       "      <td>62</td>\n",
       "      <td>3</td>\n",
       "    </tr>\n",
       "    <tr>\n",
       "      <th>34</th>\n",
       "      <td>Padang Bolak</td>\n",
       "      <td>2023</td>\n",
       "      <td>60</td>\n",
       "      <td>8</td>\n",
       "      <td>8</td>\n",
       "      <td>31</td>\n",
       "      <td>Sedang</td>\n",
       "      <td>Hujan</td>\n",
       "      <td>Pagi</td>\n",
       "      <td>370</td>\n",
       "      <td>74</td>\n",
       "      <td>2</td>\n",
       "    </tr>\n",
       "    <tr>\n",
       "      <th>35</th>\n",
       "      <td>Padang Bolak Julu</td>\n",
       "      <td>2019</td>\n",
       "      <td>92</td>\n",
       "      <td>8</td>\n",
       "      <td>17</td>\n",
       "      <td>17</td>\n",
       "      <td>Buruk</td>\n",
       "      <td>Cerah</td>\n",
       "      <td>Siang</td>\n",
       "      <td>252</td>\n",
       "      <td>78</td>\n",
       "      <td>3</td>\n",
       "    </tr>\n",
       "    <tr>\n",
       "      <th>36</th>\n",
       "      <td>Padang Bolak Julu</td>\n",
       "      <td>2020</td>\n",
       "      <td>155</td>\n",
       "      <td>9</td>\n",
       "      <td>17</td>\n",
       "      <td>44</td>\n",
       "      <td>Baik</td>\n",
       "      <td>Cerah</td>\n",
       "      <td>Siang</td>\n",
       "      <td>215</td>\n",
       "      <td>59</td>\n",
       "      <td>0</td>\n",
       "    </tr>\n",
       "    <tr>\n",
       "      <th>37</th>\n",
       "      <td>Padang Bolak Julu</td>\n",
       "      <td>2021</td>\n",
       "      <td>78</td>\n",
       "      <td>6</td>\n",
       "      <td>4</td>\n",
       "      <td>23</td>\n",
       "      <td>Sedang</td>\n",
       "      <td>Hujan</td>\n",
       "      <td>Siang</td>\n",
       "      <td>175</td>\n",
       "      <td>58</td>\n",
       "      <td>2</td>\n",
       "    </tr>\n",
       "    <tr>\n",
       "      <th>38</th>\n",
       "      <td>Padang Bolak Julu</td>\n",
       "      <td>2022</td>\n",
       "      <td>100</td>\n",
       "      <td>2</td>\n",
       "      <td>8</td>\n",
       "      <td>25</td>\n",
       "      <td>Baik</td>\n",
       "      <td>Berawan</td>\n",
       "      <td>Malam</td>\n",
       "      <td>344</td>\n",
       "      <td>61</td>\n",
       "      <td>2</td>\n",
       "    </tr>\n",
       "    <tr>\n",
       "      <th>39</th>\n",
       "      <td>Padang Bolak Julu</td>\n",
       "      <td>2023</td>\n",
       "      <td>197</td>\n",
       "      <td>9</td>\n",
       "      <td>14</td>\n",
       "      <td>34</td>\n",
       "      <td>Baik</td>\n",
       "      <td>Cerah</td>\n",
       "      <td>Siang</td>\n",
       "      <td>347</td>\n",
       "      <td>76</td>\n",
       "      <td>0</td>\n",
       "    </tr>\n",
       "    <tr>\n",
       "      <th>40</th>\n",
       "      <td>Padang Bolak Tenggara</td>\n",
       "      <td>2019</td>\n",
       "      <td>124</td>\n",
       "      <td>8</td>\n",
       "      <td>12</td>\n",
       "      <td>49</td>\n",
       "      <td>Baik</td>\n",
       "      <td>Cerah</td>\n",
       "      <td>Malam</td>\n",
       "      <td>356</td>\n",
       "      <td>47</td>\n",
       "      <td>0</td>\n",
       "    </tr>\n",
       "    <tr>\n",
       "      <th>41</th>\n",
       "      <td>Padang Bolak Tenggara</td>\n",
       "      <td>2020</td>\n",
       "      <td>77</td>\n",
       "      <td>1</td>\n",
       "      <td>10</td>\n",
       "      <td>41</td>\n",
       "      <td>Baik</td>\n",
       "      <td>Cerah</td>\n",
       "      <td>Pagi</td>\n",
       "      <td>386</td>\n",
       "      <td>74</td>\n",
       "      <td>1</td>\n",
       "    </tr>\n",
       "    <tr>\n",
       "      <th>42</th>\n",
       "      <td>Padang Bolak Tenggara</td>\n",
       "      <td>2021</td>\n",
       "      <td>136</td>\n",
       "      <td>6</td>\n",
       "      <td>2</td>\n",
       "      <td>35</td>\n",
       "      <td>Sedang</td>\n",
       "      <td>Berawan</td>\n",
       "      <td>Pagi</td>\n",
       "      <td>100</td>\n",
       "      <td>70</td>\n",
       "      <td>2</td>\n",
       "    </tr>\n",
       "    <tr>\n",
       "      <th>43</th>\n",
       "      <td>Padang Bolak Tenggara</td>\n",
       "      <td>2022</td>\n",
       "      <td>78</td>\n",
       "      <td>9</td>\n",
       "      <td>6</td>\n",
       "      <td>42</td>\n",
       "      <td>Baik</td>\n",
       "      <td>Hujan</td>\n",
       "      <td>Pagi</td>\n",
       "      <td>215</td>\n",
       "      <td>60</td>\n",
       "      <td>2</td>\n",
       "    </tr>\n",
       "    <tr>\n",
       "      <th>44</th>\n",
       "      <td>Padang Bolak Tenggara</td>\n",
       "      <td>2023</td>\n",
       "      <td>161</td>\n",
       "      <td>5</td>\n",
       "      <td>10</td>\n",
       "      <td>37</td>\n",
       "      <td>Buruk</td>\n",
       "      <td>Hujan</td>\n",
       "      <td>Siang</td>\n",
       "      <td>415</td>\n",
       "      <td>67</td>\n",
       "      <td>0</td>\n",
       "    </tr>\n",
       "    <tr>\n",
       "      <th>45</th>\n",
       "      <td>Portibi</td>\n",
       "      <td>2019</td>\n",
       "      <td>153</td>\n",
       "      <td>8</td>\n",
       "      <td>10</td>\n",
       "      <td>45</td>\n",
       "      <td>Baik</td>\n",
       "      <td>Cerah</td>\n",
       "      <td>Pagi</td>\n",
       "      <td>208</td>\n",
       "      <td>59</td>\n",
       "      <td>0</td>\n",
       "    </tr>\n",
       "    <tr>\n",
       "      <th>46</th>\n",
       "      <td>Portibi</td>\n",
       "      <td>2020</td>\n",
       "      <td>182</td>\n",
       "      <td>8</td>\n",
       "      <td>9</td>\n",
       "      <td>39</td>\n",
       "      <td>Sedang</td>\n",
       "      <td>Hujan</td>\n",
       "      <td>Pagi</td>\n",
       "      <td>177</td>\n",
       "      <td>44</td>\n",
       "      <td>0</td>\n",
       "    </tr>\n",
       "    <tr>\n",
       "      <th>47</th>\n",
       "      <td>Portibi</td>\n",
       "      <td>2021</td>\n",
       "      <td>137</td>\n",
       "      <td>4</td>\n",
       "      <td>13</td>\n",
       "      <td>32</td>\n",
       "      <td>Buruk</td>\n",
       "      <td>Hujan</td>\n",
       "      <td>Pagi</td>\n",
       "      <td>288</td>\n",
       "      <td>77</td>\n",
       "      <td>0</td>\n",
       "    </tr>\n",
       "    <tr>\n",
       "      <th>48</th>\n",
       "      <td>Portibi</td>\n",
       "      <td>2022</td>\n",
       "      <td>69</td>\n",
       "      <td>7</td>\n",
       "      <td>7</td>\n",
       "      <td>26</td>\n",
       "      <td>Sedang</td>\n",
       "      <td>Berawan</td>\n",
       "      <td>Siang</td>\n",
       "      <td>235</td>\n",
       "      <td>46</td>\n",
       "      <td>2</td>\n",
       "    </tr>\n",
       "    <tr>\n",
       "      <th>49</th>\n",
       "      <td>Portibi</td>\n",
       "      <td>2023</td>\n",
       "      <td>99</td>\n",
       "      <td>5</td>\n",
       "      <td>16</td>\n",
       "      <td>46</td>\n",
       "      <td>Baik</td>\n",
       "      <td>Cerah</td>\n",
       "      <td>Siang</td>\n",
       "      <td>470</td>\n",
       "      <td>79</td>\n",
       "      <td>1</td>\n",
       "    </tr>\n",
       "    <tr>\n",
       "      <th>50</th>\n",
       "      <td>Simangambat</td>\n",
       "      <td>2019</td>\n",
       "      <td>55</td>\n",
       "      <td>3</td>\n",
       "      <td>16</td>\n",
       "      <td>42</td>\n",
       "      <td>Buruk</td>\n",
       "      <td>Cerah</td>\n",
       "      <td>Pagi</td>\n",
       "      <td>234</td>\n",
       "      <td>62</td>\n",
       "      <td>1</td>\n",
       "    </tr>\n",
       "    <tr>\n",
       "      <th>51</th>\n",
       "      <td>Simangambat</td>\n",
       "      <td>2020</td>\n",
       "      <td>80</td>\n",
       "      <td>3</td>\n",
       "      <td>9</td>\n",
       "      <td>42</td>\n",
       "      <td>Sedang</td>\n",
       "      <td>Berawan</td>\n",
       "      <td>Pagi</td>\n",
       "      <td>316</td>\n",
       "      <td>74</td>\n",
       "      <td>1</td>\n",
       "    </tr>\n",
       "    <tr>\n",
       "      <th>52</th>\n",
       "      <td>Simangambat</td>\n",
       "      <td>2021</td>\n",
       "      <td>55</td>\n",
       "      <td>2</td>\n",
       "      <td>14</td>\n",
       "      <td>38</td>\n",
       "      <td>Baik</td>\n",
       "      <td>Berawan</td>\n",
       "      <td>Siang</td>\n",
       "      <td>217</td>\n",
       "      <td>73</td>\n",
       "      <td>1</td>\n",
       "    </tr>\n",
       "    <tr>\n",
       "      <th>53</th>\n",
       "      <td>Simangambat</td>\n",
       "      <td>2022</td>\n",
       "      <td>176</td>\n",
       "      <td>8</td>\n",
       "      <td>3</td>\n",
       "      <td>22</td>\n",
       "      <td>Sedang</td>\n",
       "      <td>Hujan</td>\n",
       "      <td>Siang</td>\n",
       "      <td>391</td>\n",
       "      <td>69</td>\n",
       "      <td>2</td>\n",
       "    </tr>\n",
       "    <tr>\n",
       "      <th>54</th>\n",
       "      <td>Simangambat</td>\n",
       "      <td>2023</td>\n",
       "      <td>169</td>\n",
       "      <td>2</td>\n",
       "      <td>7</td>\n",
       "      <td>14</td>\n",
       "      <td>Baik</td>\n",
       "      <td>Hujan</td>\n",
       "      <td>Malam</td>\n",
       "      <td>148</td>\n",
       "      <td>73</td>\n",
       "      <td>2</td>\n",
       "    </tr>\n",
       "    <tr>\n",
       "      <th>55</th>\n",
       "      <td>Ujung Batu</td>\n",
       "      <td>2019</td>\n",
       "      <td>70</td>\n",
       "      <td>9</td>\n",
       "      <td>10</td>\n",
       "      <td>10</td>\n",
       "      <td>Buruk</td>\n",
       "      <td>Hujan</td>\n",
       "      <td>Pagi</td>\n",
       "      <td>142</td>\n",
       "      <td>45</td>\n",
       "      <td>3</td>\n",
       "    </tr>\n",
       "    <tr>\n",
       "      <th>56</th>\n",
       "      <td>Ujung Batu</td>\n",
       "      <td>2020</td>\n",
       "      <td>182</td>\n",
       "      <td>4</td>\n",
       "      <td>1</td>\n",
       "      <td>33</td>\n",
       "      <td>Buruk</td>\n",
       "      <td>Cerah</td>\n",
       "      <td>Siang</td>\n",
       "      <td>484</td>\n",
       "      <td>43</td>\n",
       "      <td>2</td>\n",
       "    </tr>\n",
       "    <tr>\n",
       "      <th>57</th>\n",
       "      <td>Ujung Batu</td>\n",
       "      <td>2021</td>\n",
       "      <td>76</td>\n",
       "      <td>8</td>\n",
       "      <td>14</td>\n",
       "      <td>46</td>\n",
       "      <td>Sedang</td>\n",
       "      <td>Berawan</td>\n",
       "      <td>Malam</td>\n",
       "      <td>348</td>\n",
       "      <td>46</td>\n",
       "      <td>1</td>\n",
       "    </tr>\n",
       "    <tr>\n",
       "      <th>58</th>\n",
       "      <td>Ujung Batu</td>\n",
       "      <td>2022</td>\n",
       "      <td>90</td>\n",
       "      <td>1</td>\n",
       "      <td>12</td>\n",
       "      <td>25</td>\n",
       "      <td>Buruk</td>\n",
       "      <td>Hujan</td>\n",
       "      <td>Malam</td>\n",
       "      <td>484</td>\n",
       "      <td>72</td>\n",
       "      <td>1</td>\n",
       "    </tr>\n",
       "    <tr>\n",
       "      <th>59</th>\n",
       "      <td>Ujung Batu</td>\n",
       "      <td>2023</td>\n",
       "      <td>102</td>\n",
       "      <td>2</td>\n",
       "      <td>15</td>\n",
       "      <td>20</td>\n",
       "      <td>Sedang</td>\n",
       "      <td>Berawan</td>\n",
       "      <td>Siang</td>\n",
       "      <td>321</td>\n",
       "      <td>41</td>\n",
       "      <td>3</td>\n",
       "    </tr>\n",
       "  </tbody>\n",
       "</table>\n",
       "</div>"
      ],
      "text/plain": [
       "                Kecamatan  Tahun  Jumlah Kecelakaan  Jumlah Meninggal  \\\n",
       "0            Batang Onang   2019                 93                 3   \n",
       "1            Batang Onang   2020                196                 6   \n",
       "2            Batang Onang   2021                 82                 7   \n",
       "3            Batang Onang   2022                199                 5   \n",
       "4            Batang Onang   2023                183                 7   \n",
       "5                   Dolok   2019                103                 3   \n",
       "6                   Dolok   2020                103                 3   \n",
       "7                   Dolok   2021                104                 2   \n",
       "8                   Dolok   2022                 78                 6   \n",
       "9                   Dolok   2023                199                 2   \n",
       "10       Dolok Sigompulon   2019                 56                 4   \n",
       "11       Dolok Sigompulon   2020                140                 1   \n",
       "12       Dolok Sigompulon   2021                 76                 1   \n",
       "13       Dolok Sigompulon   2022                177                 5   \n",
       "14       Dolok Sigompulon   2023                 71                 3   \n",
       "15             Halongonan   2019                 91                 7   \n",
       "16             Halongonan   2020                 91                 8   \n",
       "17             Halongonan   2021                117                 7   \n",
       "18             Halongonan   2022                117                 5   \n",
       "19             Halongonan   2023                151                 6   \n",
       "20       Halongonan Timur   2019                127                 7   \n",
       "21       Halongonan Timur   2020                124                 1   \n",
       "22       Halongonan Timur   2021                152                 3   \n",
       "23       Halongonan Timur   2022                127                 4   \n",
       "24       Halongonan Timur   2023                 62                 8   \n",
       "25           Hulu Sihapas   2019                165                 4   \n",
       "26           Hulu Sihapas   2020                 90                 2   \n",
       "27           Hulu Sihapas   2021                150                 2   \n",
       "28           Hulu Sihapas   2022                109                 7   \n",
       "29           Hulu Sihapas   2023                 74                 5   \n",
       "30           Padang Bolak   2019                169                 3   \n",
       "31           Padang Bolak   2020                 90                 3   \n",
       "32           Padang Bolak   2021                 63                 7   \n",
       "33           Padang Bolak   2022                131                 2   \n",
       "34           Padang Bolak   2023                 60                 8   \n",
       "35      Padang Bolak Julu   2019                 92                 8   \n",
       "36      Padang Bolak Julu   2020                155                 9   \n",
       "37      Padang Bolak Julu   2021                 78                 6   \n",
       "38      Padang Bolak Julu   2022                100                 2   \n",
       "39      Padang Bolak Julu   2023                197                 9   \n",
       "40  Padang Bolak Tenggara   2019                124                 8   \n",
       "41  Padang Bolak Tenggara   2020                 77                 1   \n",
       "42  Padang Bolak Tenggara   2021                136                 6   \n",
       "43  Padang Bolak Tenggara   2022                 78                 9   \n",
       "44  Padang Bolak Tenggara   2023                161                 5   \n",
       "45                Portibi   2019                153                 8   \n",
       "46                Portibi   2020                182                 8   \n",
       "47                Portibi   2021                137                 4   \n",
       "48                Portibi   2022                 69                 7   \n",
       "49                Portibi   2023                 99                 5   \n",
       "50            Simangambat   2019                 55                 3   \n",
       "51            Simangambat   2020                 80                 3   \n",
       "52            Simangambat   2021                 55                 2   \n",
       "53            Simangambat   2022                176                 8   \n",
       "54            Simangambat   2023                169                 2   \n",
       "55             Ujung Batu   2019                 70                 9   \n",
       "56             Ujung Batu   2020                182                 4   \n",
       "57             Ujung Batu   2021                 76                 8   \n",
       "58             Ujung Batu   2022                 90                 1   \n",
       "59             Ujung Batu   2023                102                 2   \n",
       "\n",
       "    Jumlah Luka Berat  Jumlah Luka Ringan Kondisi Jalan    Cuaca  \\\n",
       "0                  17                  19        Sedang    Hujan   \n",
       "1                  15                  27          Baik  Berawan   \n",
       "2                  16                  13        Sedang  Berawan   \n",
       "3                  12                  42        Sedang  Berawan   \n",
       "4                  12                  40          Baik    Hujan   \n",
       "5                  15                  33         Buruk  Berawan   \n",
       "6                  12                  47        Sedang    Cerah   \n",
       "7                  17                  41        Sedang    Hujan   \n",
       "8                  18                  27          Baik    Cerah   \n",
       "9                  10                  29         Buruk  Berawan   \n",
       "10                 12                  26          Baik  Berawan   \n",
       "11                 13                  43        Sedang    Cerah   \n",
       "12                 13                  15         Buruk    Hujan   \n",
       "13                  4                  11        Sedang  Berawan   \n",
       "14                 14                  47        Sedang    Hujan   \n",
       "15                  6                  11          Baik    Cerah   \n",
       "16                  1                  40          Baik  Berawan   \n",
       "17                 19                  14         Buruk  Berawan   \n",
       "18                 12                  39         Buruk    Hujan   \n",
       "19                 14                  46          Baik    Cerah   \n",
       "20                  8                  34          Baik    Cerah   \n",
       "21                  1                  17          Baik    Hujan   \n",
       "22                 18                  24          Baik    Cerah   \n",
       "23                 16                  43        Sedang    Hujan   \n",
       "24                 18                  21          Baik    Hujan   \n",
       "25                 19                  41          Baik  Berawan   \n",
       "26                 19                  46          Baik    Cerah   \n",
       "27                 13                  26          Baik  Berawan   \n",
       "28                  9                  24          Baik    Hujan   \n",
       "29                  1                  28         Buruk    Cerah   \n",
       "30                 12                  26         Buruk    Hujan   \n",
       "31                 13                  13         Buruk    Cerah   \n",
       "32                 19                  31          Baik  Berawan   \n",
       "33                 19                  12         Buruk  Berawan   \n",
       "34                  8                  31        Sedang    Hujan   \n",
       "35                 17                  17         Buruk    Cerah   \n",
       "36                 17                  44          Baik    Cerah   \n",
       "37                  4                  23        Sedang    Hujan   \n",
       "38                  8                  25          Baik  Berawan   \n",
       "39                 14                  34          Baik    Cerah   \n",
       "40                 12                  49          Baik    Cerah   \n",
       "41                 10                  41          Baik    Cerah   \n",
       "42                  2                  35        Sedang  Berawan   \n",
       "43                  6                  42          Baik    Hujan   \n",
       "44                 10                  37         Buruk    Hujan   \n",
       "45                 10                  45          Baik    Cerah   \n",
       "46                  9                  39        Sedang    Hujan   \n",
       "47                 13                  32         Buruk    Hujan   \n",
       "48                  7                  26        Sedang  Berawan   \n",
       "49                 16                  46          Baik    Cerah   \n",
       "50                 16                  42         Buruk    Cerah   \n",
       "51                  9                  42        Sedang  Berawan   \n",
       "52                 14                  38          Baik  Berawan   \n",
       "53                  3                  22        Sedang    Hujan   \n",
       "54                  7                  14          Baik    Hujan   \n",
       "55                 10                  10         Buruk    Hujan   \n",
       "56                  1                  33         Buruk    Cerah   \n",
       "57                 14                  46        Sedang  Berawan   \n",
       "58                 12                  25         Buruk    Hujan   \n",
       "59                 15                  20        Sedang  Berawan   \n",
       "\n",
       "   Waktu Kecelakaan  Jumlah Kendaraan  Kecepatan Rata-rata  Cluster  \n",
       "0              Pagi               411                   46        3  \n",
       "1              Pagi               251                   42        0  \n",
       "2             Siang               272                   46        3  \n",
       "3              Pagi               312                   64        0  \n",
       "4              Pagi               207                   60        0  \n",
       "5             Malam               343                   43        1  \n",
       "6              Pagi               193                   58        1  \n",
       "7             Malam               223                   66        1  \n",
       "8              Pagi               499                   73        3  \n",
       "9             Siang               444                   40        0  \n",
       "10             Pagi               162                   55        3  \n",
       "11             Pagi               194                   67        1  \n",
       "12            Siang               334                   66        3  \n",
       "13             Pagi               284                   62        2  \n",
       "14             Pagi               171                   41        1  \n",
       "15            Siang               121                   48        2  \n",
       "16            Malam               125                   64        2  \n",
       "17             Pagi               207                   46        3  \n",
       "18            Malam               273                   51        1  \n",
       "19            Siang               190                   67        0  \n",
       "20            Siang               387                   64        2  \n",
       "21             Pagi               206                   66        2  \n",
       "22             Pagi               360                   54        0  \n",
       "23            Siang               120                   40        1  \n",
       "24             Pagi               179                   70        3  \n",
       "25             Pagi               299                   52        0  \n",
       "26            Siang               149                   48        1  \n",
       "27            Malam               452                   55        0  \n",
       "28             Pagi               241                   41        2  \n",
       "29            Siang               436                   55        2  \n",
       "30             Pagi               245                   59        0  \n",
       "31            Siang               187                   79        3  \n",
       "32            Malam               456                   61        3  \n",
       "33            Siang               372                   62        3  \n",
       "34             Pagi               370                   74        2  \n",
       "35            Siang               252                   78        3  \n",
       "36            Siang               215                   59        0  \n",
       "37            Siang               175                   58        2  \n",
       "38            Malam               344                   61        2  \n",
       "39            Siang               347                   76        0  \n",
       "40            Malam               356                   47        0  \n",
       "41             Pagi               386                   74        1  \n",
       "42             Pagi               100                   70        2  \n",
       "43             Pagi               215                   60        2  \n",
       "44            Siang               415                   67        0  \n",
       "45             Pagi               208                   59        0  \n",
       "46             Pagi               177                   44        0  \n",
       "47             Pagi               288                   77        0  \n",
       "48            Siang               235                   46        2  \n",
       "49            Siang               470                   79        1  \n",
       "50             Pagi               234                   62        1  \n",
       "51             Pagi               316                   74        1  \n",
       "52            Siang               217                   73        1  \n",
       "53            Siang               391                   69        2  \n",
       "54            Malam               148                   73        2  \n",
       "55             Pagi               142                   45        3  \n",
       "56            Siang               484                   43        2  \n",
       "57            Malam               348                   46        1  \n",
       "58            Malam               484                   72        1  \n",
       "59            Siang               321                   41        3  "
      ]
     },
     "execution_count": 4,
     "metadata": {},
     "output_type": "execute_result"
    }
   ],
   "source": [
    "# Bagian 2: Normalisasi Data dan Penerapan Algoritma K-Means\n",
    "\n",
    "from sklearn.cluster import KMeans\n",
    "from sklearn.preprocessing import StandardScaler\n",
    "\n",
    "# Pilih fitur yang relevan untuk clustering\n",
    "features = [\"Jumlah Kecelakaan\", \"Jumlah Meninggal\", \"Jumlah Luka Berat\", \"Jumlah Luka Ringan\"]\n",
    "X = df[features]\n",
    "\n",
    "# Normalisasi data\n",
    "scaler = StandardScaler()\n",
    "X_scaled = scaler.fit_transform(X)\n",
    "\n",
    "# Tentukan jumlah klaster\n",
    "k = 4  # untuk Aman, Berpotensi Rawan, Rawan, Sangat Rawan\n",
    "\n",
    "# Terapkan K-Means clustering\n",
    "kmeans = KMeans(n_clusters=k, random_state=42)\n",
    "kmeans.fit(X_scaled)\n",
    "df['Cluster'] = kmeans.labels_\n",
    "\n",
    "# Display the first few rows of the resulting data with clusters\n",
    "df\n"
   ]
  },
  {
   "cell_type": "code",
   "execution_count": 6,
   "metadata": {},
   "outputs": [
    {
     "data": {
      "text/html": [
       "<div>\n",
       "<style scoped>\n",
       "    .dataframe tbody tr th:only-of-type {\n",
       "        vertical-align: middle;\n",
       "    }\n",
       "\n",
       "    .dataframe tbody tr th {\n",
       "        vertical-align: top;\n",
       "    }\n",
       "\n",
       "    .dataframe thead th {\n",
       "        text-align: right;\n",
       "    }\n",
       "</style>\n",
       "<table border=\"1\" class=\"dataframe\">\n",
       "  <thead>\n",
       "    <tr style=\"text-align: right;\">\n",
       "      <th></th>\n",
       "      <th>Kecamatan</th>\n",
       "      <th>Tahun</th>\n",
       "      <th>Jumlah Kecelakaan</th>\n",
       "      <th>Jumlah Meninggal</th>\n",
       "      <th>Jumlah Luka Berat</th>\n",
       "      <th>Jumlah Luka Ringan</th>\n",
       "      <th>Kondisi Jalan</th>\n",
       "      <th>Cuaca</th>\n",
       "      <th>Waktu Kecelakaan</th>\n",
       "      <th>Jumlah Kendaraan</th>\n",
       "      <th>Kecepatan Rata-rata</th>\n",
       "      <th>Cluster</th>\n",
       "      <th>Tingkat Kerawanan</th>\n",
       "    </tr>\n",
       "  </thead>\n",
       "  <tbody>\n",
       "    <tr>\n",
       "      <th>0</th>\n",
       "      <td>Batang Onang</td>\n",
       "      <td>2019</td>\n",
       "      <td>93</td>\n",
       "      <td>3</td>\n",
       "      <td>17</td>\n",
       "      <td>19</td>\n",
       "      <td>Sedang</td>\n",
       "      <td>Hujan</td>\n",
       "      <td>Pagi</td>\n",
       "      <td>411</td>\n",
       "      <td>46</td>\n",
       "      <td>3</td>\n",
       "      <td>Sangat Rawan</td>\n",
       "    </tr>\n",
       "    <tr>\n",
       "      <th>1</th>\n",
       "      <td>Batang Onang</td>\n",
       "      <td>2020</td>\n",
       "      <td>196</td>\n",
       "      <td>6</td>\n",
       "      <td>15</td>\n",
       "      <td>27</td>\n",
       "      <td>Baik</td>\n",
       "      <td>Berawan</td>\n",
       "      <td>Pagi</td>\n",
       "      <td>251</td>\n",
       "      <td>42</td>\n",
       "      <td>0</td>\n",
       "      <td>Aman</td>\n",
       "    </tr>\n",
       "    <tr>\n",
       "      <th>2</th>\n",
       "      <td>Batang Onang</td>\n",
       "      <td>2021</td>\n",
       "      <td>82</td>\n",
       "      <td>7</td>\n",
       "      <td>16</td>\n",
       "      <td>13</td>\n",
       "      <td>Sedang</td>\n",
       "      <td>Berawan</td>\n",
       "      <td>Siang</td>\n",
       "      <td>272</td>\n",
       "      <td>46</td>\n",
       "      <td>3</td>\n",
       "      <td>Sangat Rawan</td>\n",
       "    </tr>\n",
       "    <tr>\n",
       "      <th>3</th>\n",
       "      <td>Batang Onang</td>\n",
       "      <td>2022</td>\n",
       "      <td>199</td>\n",
       "      <td>5</td>\n",
       "      <td>12</td>\n",
       "      <td>42</td>\n",
       "      <td>Sedang</td>\n",
       "      <td>Berawan</td>\n",
       "      <td>Pagi</td>\n",
       "      <td>312</td>\n",
       "      <td>64</td>\n",
       "      <td>0</td>\n",
       "      <td>Aman</td>\n",
       "    </tr>\n",
       "    <tr>\n",
       "      <th>4</th>\n",
       "      <td>Batang Onang</td>\n",
       "      <td>2023</td>\n",
       "      <td>183</td>\n",
       "      <td>7</td>\n",
       "      <td>12</td>\n",
       "      <td>40</td>\n",
       "      <td>Baik</td>\n",
       "      <td>Hujan</td>\n",
       "      <td>Pagi</td>\n",
       "      <td>207</td>\n",
       "      <td>60</td>\n",
       "      <td>0</td>\n",
       "      <td>Aman</td>\n",
       "    </tr>\n",
       "    <tr>\n",
       "      <th>5</th>\n",
       "      <td>Dolok</td>\n",
       "      <td>2019</td>\n",
       "      <td>103</td>\n",
       "      <td>3</td>\n",
       "      <td>15</td>\n",
       "      <td>33</td>\n",
       "      <td>Buruk</td>\n",
       "      <td>Berawan</td>\n",
       "      <td>Malam</td>\n",
       "      <td>343</td>\n",
       "      <td>43</td>\n",
       "      <td>1</td>\n",
       "      <td>Berpotensi Rawan</td>\n",
       "    </tr>\n",
       "    <tr>\n",
       "      <th>6</th>\n",
       "      <td>Dolok</td>\n",
       "      <td>2020</td>\n",
       "      <td>103</td>\n",
       "      <td>3</td>\n",
       "      <td>12</td>\n",
       "      <td>47</td>\n",
       "      <td>Sedang</td>\n",
       "      <td>Cerah</td>\n",
       "      <td>Pagi</td>\n",
       "      <td>193</td>\n",
       "      <td>58</td>\n",
       "      <td>1</td>\n",
       "      <td>Berpotensi Rawan</td>\n",
       "    </tr>\n",
       "    <tr>\n",
       "      <th>7</th>\n",
       "      <td>Dolok</td>\n",
       "      <td>2021</td>\n",
       "      <td>104</td>\n",
       "      <td>2</td>\n",
       "      <td>17</td>\n",
       "      <td>41</td>\n",
       "      <td>Sedang</td>\n",
       "      <td>Hujan</td>\n",
       "      <td>Malam</td>\n",
       "      <td>223</td>\n",
       "      <td>66</td>\n",
       "      <td>1</td>\n",
       "      <td>Berpotensi Rawan</td>\n",
       "    </tr>\n",
       "    <tr>\n",
       "      <th>8</th>\n",
       "      <td>Dolok</td>\n",
       "      <td>2022</td>\n",
       "      <td>78</td>\n",
       "      <td>6</td>\n",
       "      <td>18</td>\n",
       "      <td>27</td>\n",
       "      <td>Baik</td>\n",
       "      <td>Cerah</td>\n",
       "      <td>Pagi</td>\n",
       "      <td>499</td>\n",
       "      <td>73</td>\n",
       "      <td>3</td>\n",
       "      <td>Sangat Rawan</td>\n",
       "    </tr>\n",
       "    <tr>\n",
       "      <th>9</th>\n",
       "      <td>Dolok</td>\n",
       "      <td>2023</td>\n",
       "      <td>199</td>\n",
       "      <td>2</td>\n",
       "      <td>10</td>\n",
       "      <td>29</td>\n",
       "      <td>Buruk</td>\n",
       "      <td>Berawan</td>\n",
       "      <td>Siang</td>\n",
       "      <td>444</td>\n",
       "      <td>40</td>\n",
       "      <td>0</td>\n",
       "      <td>Aman</td>\n",
       "    </tr>\n",
       "    <tr>\n",
       "      <th>10</th>\n",
       "      <td>Dolok Sigompulon</td>\n",
       "      <td>2019</td>\n",
       "      <td>56</td>\n",
       "      <td>4</td>\n",
       "      <td>12</td>\n",
       "      <td>26</td>\n",
       "      <td>Baik</td>\n",
       "      <td>Berawan</td>\n",
       "      <td>Pagi</td>\n",
       "      <td>162</td>\n",
       "      <td>55</td>\n",
       "      <td>3</td>\n",
       "      <td>Sangat Rawan</td>\n",
       "    </tr>\n",
       "    <tr>\n",
       "      <th>11</th>\n",
       "      <td>Dolok Sigompulon</td>\n",
       "      <td>2020</td>\n",
       "      <td>140</td>\n",
       "      <td>1</td>\n",
       "      <td>13</td>\n",
       "      <td>43</td>\n",
       "      <td>Sedang</td>\n",
       "      <td>Cerah</td>\n",
       "      <td>Pagi</td>\n",
       "      <td>194</td>\n",
       "      <td>67</td>\n",
       "      <td>1</td>\n",
       "      <td>Berpotensi Rawan</td>\n",
       "    </tr>\n",
       "    <tr>\n",
       "      <th>12</th>\n",
       "      <td>Dolok Sigompulon</td>\n",
       "      <td>2021</td>\n",
       "      <td>76</td>\n",
       "      <td>1</td>\n",
       "      <td>13</td>\n",
       "      <td>15</td>\n",
       "      <td>Buruk</td>\n",
       "      <td>Hujan</td>\n",
       "      <td>Siang</td>\n",
       "      <td>334</td>\n",
       "      <td>66</td>\n",
       "      <td>3</td>\n",
       "      <td>Sangat Rawan</td>\n",
       "    </tr>\n",
       "    <tr>\n",
       "      <th>13</th>\n",
       "      <td>Dolok Sigompulon</td>\n",
       "      <td>2022</td>\n",
       "      <td>177</td>\n",
       "      <td>5</td>\n",
       "      <td>4</td>\n",
       "      <td>11</td>\n",
       "      <td>Sedang</td>\n",
       "      <td>Berawan</td>\n",
       "      <td>Pagi</td>\n",
       "      <td>284</td>\n",
       "      <td>62</td>\n",
       "      <td>2</td>\n",
       "      <td>Rawan</td>\n",
       "    </tr>\n",
       "    <tr>\n",
       "      <th>14</th>\n",
       "      <td>Dolok Sigompulon</td>\n",
       "      <td>2023</td>\n",
       "      <td>71</td>\n",
       "      <td>3</td>\n",
       "      <td>14</td>\n",
       "      <td>47</td>\n",
       "      <td>Sedang</td>\n",
       "      <td>Hujan</td>\n",
       "      <td>Pagi</td>\n",
       "      <td>171</td>\n",
       "      <td>41</td>\n",
       "      <td>1</td>\n",
       "      <td>Berpotensi Rawan</td>\n",
       "    </tr>\n",
       "    <tr>\n",
       "      <th>15</th>\n",
       "      <td>Halongonan</td>\n",
       "      <td>2019</td>\n",
       "      <td>91</td>\n",
       "      <td>7</td>\n",
       "      <td>6</td>\n",
       "      <td>11</td>\n",
       "      <td>Baik</td>\n",
       "      <td>Cerah</td>\n",
       "      <td>Siang</td>\n",
       "      <td>121</td>\n",
       "      <td>48</td>\n",
       "      <td>2</td>\n",
       "      <td>Rawan</td>\n",
       "    </tr>\n",
       "    <tr>\n",
       "      <th>16</th>\n",
       "      <td>Halongonan</td>\n",
       "      <td>2020</td>\n",
       "      <td>91</td>\n",
       "      <td>8</td>\n",
       "      <td>1</td>\n",
       "      <td>40</td>\n",
       "      <td>Baik</td>\n",
       "      <td>Berawan</td>\n",
       "      <td>Malam</td>\n",
       "      <td>125</td>\n",
       "      <td>64</td>\n",
       "      <td>2</td>\n",
       "      <td>Rawan</td>\n",
       "    </tr>\n",
       "    <tr>\n",
       "      <th>17</th>\n",
       "      <td>Halongonan</td>\n",
       "      <td>2021</td>\n",
       "      <td>117</td>\n",
       "      <td>7</td>\n",
       "      <td>19</td>\n",
       "      <td>14</td>\n",
       "      <td>Buruk</td>\n",
       "      <td>Berawan</td>\n",
       "      <td>Pagi</td>\n",
       "      <td>207</td>\n",
       "      <td>46</td>\n",
       "      <td>3</td>\n",
       "      <td>Sangat Rawan</td>\n",
       "    </tr>\n",
       "    <tr>\n",
       "      <th>18</th>\n",
       "      <td>Halongonan</td>\n",
       "      <td>2022</td>\n",
       "      <td>117</td>\n",
       "      <td>5</td>\n",
       "      <td>12</td>\n",
       "      <td>39</td>\n",
       "      <td>Buruk</td>\n",
       "      <td>Hujan</td>\n",
       "      <td>Malam</td>\n",
       "      <td>273</td>\n",
       "      <td>51</td>\n",
       "      <td>1</td>\n",
       "      <td>Berpotensi Rawan</td>\n",
       "    </tr>\n",
       "    <tr>\n",
       "      <th>19</th>\n",
       "      <td>Halongonan</td>\n",
       "      <td>2023</td>\n",
       "      <td>151</td>\n",
       "      <td>6</td>\n",
       "      <td>14</td>\n",
       "      <td>46</td>\n",
       "      <td>Baik</td>\n",
       "      <td>Cerah</td>\n",
       "      <td>Siang</td>\n",
       "      <td>190</td>\n",
       "      <td>67</td>\n",
       "      <td>0</td>\n",
       "      <td>Aman</td>\n",
       "    </tr>\n",
       "    <tr>\n",
       "      <th>20</th>\n",
       "      <td>Halongonan Timur</td>\n",
       "      <td>2019</td>\n",
       "      <td>127</td>\n",
       "      <td>7</td>\n",
       "      <td>8</td>\n",
       "      <td>34</td>\n",
       "      <td>Baik</td>\n",
       "      <td>Cerah</td>\n",
       "      <td>Siang</td>\n",
       "      <td>387</td>\n",
       "      <td>64</td>\n",
       "      <td>2</td>\n",
       "      <td>Rawan</td>\n",
       "    </tr>\n",
       "    <tr>\n",
       "      <th>21</th>\n",
       "      <td>Halongonan Timur</td>\n",
       "      <td>2020</td>\n",
       "      <td>124</td>\n",
       "      <td>1</td>\n",
       "      <td>1</td>\n",
       "      <td>17</td>\n",
       "      <td>Baik</td>\n",
       "      <td>Hujan</td>\n",
       "      <td>Pagi</td>\n",
       "      <td>206</td>\n",
       "      <td>66</td>\n",
       "      <td>2</td>\n",
       "      <td>Rawan</td>\n",
       "    </tr>\n",
       "    <tr>\n",
       "      <th>22</th>\n",
       "      <td>Halongonan Timur</td>\n",
       "      <td>2021</td>\n",
       "      <td>152</td>\n",
       "      <td>3</td>\n",
       "      <td>18</td>\n",
       "      <td>24</td>\n",
       "      <td>Baik</td>\n",
       "      <td>Cerah</td>\n",
       "      <td>Pagi</td>\n",
       "      <td>360</td>\n",
       "      <td>54</td>\n",
       "      <td>0</td>\n",
       "      <td>Aman</td>\n",
       "    </tr>\n",
       "    <tr>\n",
       "      <th>23</th>\n",
       "      <td>Halongonan Timur</td>\n",
       "      <td>2022</td>\n",
       "      <td>127</td>\n",
       "      <td>4</td>\n",
       "      <td>16</td>\n",
       "      <td>43</td>\n",
       "      <td>Sedang</td>\n",
       "      <td>Hujan</td>\n",
       "      <td>Siang</td>\n",
       "      <td>120</td>\n",
       "      <td>40</td>\n",
       "      <td>1</td>\n",
       "      <td>Berpotensi Rawan</td>\n",
       "    </tr>\n",
       "    <tr>\n",
       "      <th>24</th>\n",
       "      <td>Halongonan Timur</td>\n",
       "      <td>2023</td>\n",
       "      <td>62</td>\n",
       "      <td>8</td>\n",
       "      <td>18</td>\n",
       "      <td>21</td>\n",
       "      <td>Baik</td>\n",
       "      <td>Hujan</td>\n",
       "      <td>Pagi</td>\n",
       "      <td>179</td>\n",
       "      <td>70</td>\n",
       "      <td>3</td>\n",
       "      <td>Sangat Rawan</td>\n",
       "    </tr>\n",
       "    <tr>\n",
       "      <th>25</th>\n",
       "      <td>Hulu Sihapas</td>\n",
       "      <td>2019</td>\n",
       "      <td>165</td>\n",
       "      <td>4</td>\n",
       "      <td>19</td>\n",
       "      <td>41</td>\n",
       "      <td>Baik</td>\n",
       "      <td>Berawan</td>\n",
       "      <td>Pagi</td>\n",
       "      <td>299</td>\n",
       "      <td>52</td>\n",
       "      <td>0</td>\n",
       "      <td>Aman</td>\n",
       "    </tr>\n",
       "    <tr>\n",
       "      <th>26</th>\n",
       "      <td>Hulu Sihapas</td>\n",
       "      <td>2020</td>\n",
       "      <td>90</td>\n",
       "      <td>2</td>\n",
       "      <td>19</td>\n",
       "      <td>46</td>\n",
       "      <td>Baik</td>\n",
       "      <td>Cerah</td>\n",
       "      <td>Siang</td>\n",
       "      <td>149</td>\n",
       "      <td>48</td>\n",
       "      <td>1</td>\n",
       "      <td>Berpotensi Rawan</td>\n",
       "    </tr>\n",
       "    <tr>\n",
       "      <th>27</th>\n",
       "      <td>Hulu Sihapas</td>\n",
       "      <td>2021</td>\n",
       "      <td>150</td>\n",
       "      <td>2</td>\n",
       "      <td>13</td>\n",
       "      <td>26</td>\n",
       "      <td>Baik</td>\n",
       "      <td>Berawan</td>\n",
       "      <td>Malam</td>\n",
       "      <td>452</td>\n",
       "      <td>55</td>\n",
       "      <td>0</td>\n",
       "      <td>Aman</td>\n",
       "    </tr>\n",
       "    <tr>\n",
       "      <th>28</th>\n",
       "      <td>Hulu Sihapas</td>\n",
       "      <td>2022</td>\n",
       "      <td>109</td>\n",
       "      <td>7</td>\n",
       "      <td>9</td>\n",
       "      <td>24</td>\n",
       "      <td>Baik</td>\n",
       "      <td>Hujan</td>\n",
       "      <td>Pagi</td>\n",
       "      <td>241</td>\n",
       "      <td>41</td>\n",
       "      <td>2</td>\n",
       "      <td>Rawan</td>\n",
       "    </tr>\n",
       "    <tr>\n",
       "      <th>29</th>\n",
       "      <td>Hulu Sihapas</td>\n",
       "      <td>2023</td>\n",
       "      <td>74</td>\n",
       "      <td>5</td>\n",
       "      <td>1</td>\n",
       "      <td>28</td>\n",
       "      <td>Buruk</td>\n",
       "      <td>Cerah</td>\n",
       "      <td>Siang</td>\n",
       "      <td>436</td>\n",
       "      <td>55</td>\n",
       "      <td>2</td>\n",
       "      <td>Rawan</td>\n",
       "    </tr>\n",
       "    <tr>\n",
       "      <th>30</th>\n",
       "      <td>Padang Bolak</td>\n",
       "      <td>2019</td>\n",
       "      <td>169</td>\n",
       "      <td>3</td>\n",
       "      <td>12</td>\n",
       "      <td>26</td>\n",
       "      <td>Buruk</td>\n",
       "      <td>Hujan</td>\n",
       "      <td>Pagi</td>\n",
       "      <td>245</td>\n",
       "      <td>59</td>\n",
       "      <td>0</td>\n",
       "      <td>Aman</td>\n",
       "    </tr>\n",
       "    <tr>\n",
       "      <th>31</th>\n",
       "      <td>Padang Bolak</td>\n",
       "      <td>2020</td>\n",
       "      <td>90</td>\n",
       "      <td>3</td>\n",
       "      <td>13</td>\n",
       "      <td>13</td>\n",
       "      <td>Buruk</td>\n",
       "      <td>Cerah</td>\n",
       "      <td>Siang</td>\n",
       "      <td>187</td>\n",
       "      <td>79</td>\n",
       "      <td>3</td>\n",
       "      <td>Sangat Rawan</td>\n",
       "    </tr>\n",
       "    <tr>\n",
       "      <th>32</th>\n",
       "      <td>Padang Bolak</td>\n",
       "      <td>2021</td>\n",
       "      <td>63</td>\n",
       "      <td>7</td>\n",
       "      <td>19</td>\n",
       "      <td>31</td>\n",
       "      <td>Baik</td>\n",
       "      <td>Berawan</td>\n",
       "      <td>Malam</td>\n",
       "      <td>456</td>\n",
       "      <td>61</td>\n",
       "      <td>3</td>\n",
       "      <td>Sangat Rawan</td>\n",
       "    </tr>\n",
       "    <tr>\n",
       "      <th>33</th>\n",
       "      <td>Padang Bolak</td>\n",
       "      <td>2022</td>\n",
       "      <td>131</td>\n",
       "      <td>2</td>\n",
       "      <td>19</td>\n",
       "      <td>12</td>\n",
       "      <td>Buruk</td>\n",
       "      <td>Berawan</td>\n",
       "      <td>Siang</td>\n",
       "      <td>372</td>\n",
       "      <td>62</td>\n",
       "      <td>3</td>\n",
       "      <td>Sangat Rawan</td>\n",
       "    </tr>\n",
       "    <tr>\n",
       "      <th>34</th>\n",
       "      <td>Padang Bolak</td>\n",
       "      <td>2023</td>\n",
       "      <td>60</td>\n",
       "      <td>8</td>\n",
       "      <td>8</td>\n",
       "      <td>31</td>\n",
       "      <td>Sedang</td>\n",
       "      <td>Hujan</td>\n",
       "      <td>Pagi</td>\n",
       "      <td>370</td>\n",
       "      <td>74</td>\n",
       "      <td>2</td>\n",
       "      <td>Rawan</td>\n",
       "    </tr>\n",
       "    <tr>\n",
       "      <th>35</th>\n",
       "      <td>Padang Bolak Julu</td>\n",
       "      <td>2019</td>\n",
       "      <td>92</td>\n",
       "      <td>8</td>\n",
       "      <td>17</td>\n",
       "      <td>17</td>\n",
       "      <td>Buruk</td>\n",
       "      <td>Cerah</td>\n",
       "      <td>Siang</td>\n",
       "      <td>252</td>\n",
       "      <td>78</td>\n",
       "      <td>3</td>\n",
       "      <td>Sangat Rawan</td>\n",
       "    </tr>\n",
       "    <tr>\n",
       "      <th>36</th>\n",
       "      <td>Padang Bolak Julu</td>\n",
       "      <td>2020</td>\n",
       "      <td>155</td>\n",
       "      <td>9</td>\n",
       "      <td>17</td>\n",
       "      <td>44</td>\n",
       "      <td>Baik</td>\n",
       "      <td>Cerah</td>\n",
       "      <td>Siang</td>\n",
       "      <td>215</td>\n",
       "      <td>59</td>\n",
       "      <td>0</td>\n",
       "      <td>Aman</td>\n",
       "    </tr>\n",
       "    <tr>\n",
       "      <th>37</th>\n",
       "      <td>Padang Bolak Julu</td>\n",
       "      <td>2021</td>\n",
       "      <td>78</td>\n",
       "      <td>6</td>\n",
       "      <td>4</td>\n",
       "      <td>23</td>\n",
       "      <td>Sedang</td>\n",
       "      <td>Hujan</td>\n",
       "      <td>Siang</td>\n",
       "      <td>175</td>\n",
       "      <td>58</td>\n",
       "      <td>2</td>\n",
       "      <td>Rawan</td>\n",
       "    </tr>\n",
       "    <tr>\n",
       "      <th>38</th>\n",
       "      <td>Padang Bolak Julu</td>\n",
       "      <td>2022</td>\n",
       "      <td>100</td>\n",
       "      <td>2</td>\n",
       "      <td>8</td>\n",
       "      <td>25</td>\n",
       "      <td>Baik</td>\n",
       "      <td>Berawan</td>\n",
       "      <td>Malam</td>\n",
       "      <td>344</td>\n",
       "      <td>61</td>\n",
       "      <td>2</td>\n",
       "      <td>Rawan</td>\n",
       "    </tr>\n",
       "    <tr>\n",
       "      <th>39</th>\n",
       "      <td>Padang Bolak Julu</td>\n",
       "      <td>2023</td>\n",
       "      <td>197</td>\n",
       "      <td>9</td>\n",
       "      <td>14</td>\n",
       "      <td>34</td>\n",
       "      <td>Baik</td>\n",
       "      <td>Cerah</td>\n",
       "      <td>Siang</td>\n",
       "      <td>347</td>\n",
       "      <td>76</td>\n",
       "      <td>0</td>\n",
       "      <td>Aman</td>\n",
       "    </tr>\n",
       "    <tr>\n",
       "      <th>40</th>\n",
       "      <td>Padang Bolak Tenggara</td>\n",
       "      <td>2019</td>\n",
       "      <td>124</td>\n",
       "      <td>8</td>\n",
       "      <td>12</td>\n",
       "      <td>49</td>\n",
       "      <td>Baik</td>\n",
       "      <td>Cerah</td>\n",
       "      <td>Malam</td>\n",
       "      <td>356</td>\n",
       "      <td>47</td>\n",
       "      <td>0</td>\n",
       "      <td>Aman</td>\n",
       "    </tr>\n",
       "    <tr>\n",
       "      <th>41</th>\n",
       "      <td>Padang Bolak Tenggara</td>\n",
       "      <td>2020</td>\n",
       "      <td>77</td>\n",
       "      <td>1</td>\n",
       "      <td>10</td>\n",
       "      <td>41</td>\n",
       "      <td>Baik</td>\n",
       "      <td>Cerah</td>\n",
       "      <td>Pagi</td>\n",
       "      <td>386</td>\n",
       "      <td>74</td>\n",
       "      <td>1</td>\n",
       "      <td>Berpotensi Rawan</td>\n",
       "    </tr>\n",
       "    <tr>\n",
       "      <th>42</th>\n",
       "      <td>Padang Bolak Tenggara</td>\n",
       "      <td>2021</td>\n",
       "      <td>136</td>\n",
       "      <td>6</td>\n",
       "      <td>2</td>\n",
       "      <td>35</td>\n",
       "      <td>Sedang</td>\n",
       "      <td>Berawan</td>\n",
       "      <td>Pagi</td>\n",
       "      <td>100</td>\n",
       "      <td>70</td>\n",
       "      <td>2</td>\n",
       "      <td>Rawan</td>\n",
       "    </tr>\n",
       "    <tr>\n",
       "      <th>43</th>\n",
       "      <td>Padang Bolak Tenggara</td>\n",
       "      <td>2022</td>\n",
       "      <td>78</td>\n",
       "      <td>9</td>\n",
       "      <td>6</td>\n",
       "      <td>42</td>\n",
       "      <td>Baik</td>\n",
       "      <td>Hujan</td>\n",
       "      <td>Pagi</td>\n",
       "      <td>215</td>\n",
       "      <td>60</td>\n",
       "      <td>2</td>\n",
       "      <td>Rawan</td>\n",
       "    </tr>\n",
       "    <tr>\n",
       "      <th>44</th>\n",
       "      <td>Padang Bolak Tenggara</td>\n",
       "      <td>2023</td>\n",
       "      <td>161</td>\n",
       "      <td>5</td>\n",
       "      <td>10</td>\n",
       "      <td>37</td>\n",
       "      <td>Buruk</td>\n",
       "      <td>Hujan</td>\n",
       "      <td>Siang</td>\n",
       "      <td>415</td>\n",
       "      <td>67</td>\n",
       "      <td>0</td>\n",
       "      <td>Aman</td>\n",
       "    </tr>\n",
       "    <tr>\n",
       "      <th>45</th>\n",
       "      <td>Portibi</td>\n",
       "      <td>2019</td>\n",
       "      <td>153</td>\n",
       "      <td>8</td>\n",
       "      <td>10</td>\n",
       "      <td>45</td>\n",
       "      <td>Baik</td>\n",
       "      <td>Cerah</td>\n",
       "      <td>Pagi</td>\n",
       "      <td>208</td>\n",
       "      <td>59</td>\n",
       "      <td>0</td>\n",
       "      <td>Aman</td>\n",
       "    </tr>\n",
       "    <tr>\n",
       "      <th>46</th>\n",
       "      <td>Portibi</td>\n",
       "      <td>2020</td>\n",
       "      <td>182</td>\n",
       "      <td>8</td>\n",
       "      <td>9</td>\n",
       "      <td>39</td>\n",
       "      <td>Sedang</td>\n",
       "      <td>Hujan</td>\n",
       "      <td>Pagi</td>\n",
       "      <td>177</td>\n",
       "      <td>44</td>\n",
       "      <td>0</td>\n",
       "      <td>Aman</td>\n",
       "    </tr>\n",
       "    <tr>\n",
       "      <th>47</th>\n",
       "      <td>Portibi</td>\n",
       "      <td>2021</td>\n",
       "      <td>137</td>\n",
       "      <td>4</td>\n",
       "      <td>13</td>\n",
       "      <td>32</td>\n",
       "      <td>Buruk</td>\n",
       "      <td>Hujan</td>\n",
       "      <td>Pagi</td>\n",
       "      <td>288</td>\n",
       "      <td>77</td>\n",
       "      <td>0</td>\n",
       "      <td>Aman</td>\n",
       "    </tr>\n",
       "    <tr>\n",
       "      <th>48</th>\n",
       "      <td>Portibi</td>\n",
       "      <td>2022</td>\n",
       "      <td>69</td>\n",
       "      <td>7</td>\n",
       "      <td>7</td>\n",
       "      <td>26</td>\n",
       "      <td>Sedang</td>\n",
       "      <td>Berawan</td>\n",
       "      <td>Siang</td>\n",
       "      <td>235</td>\n",
       "      <td>46</td>\n",
       "      <td>2</td>\n",
       "      <td>Rawan</td>\n",
       "    </tr>\n",
       "    <tr>\n",
       "      <th>49</th>\n",
       "      <td>Portibi</td>\n",
       "      <td>2023</td>\n",
       "      <td>99</td>\n",
       "      <td>5</td>\n",
       "      <td>16</td>\n",
       "      <td>46</td>\n",
       "      <td>Baik</td>\n",
       "      <td>Cerah</td>\n",
       "      <td>Siang</td>\n",
       "      <td>470</td>\n",
       "      <td>79</td>\n",
       "      <td>1</td>\n",
       "      <td>Berpotensi Rawan</td>\n",
       "    </tr>\n",
       "    <tr>\n",
       "      <th>50</th>\n",
       "      <td>Simangambat</td>\n",
       "      <td>2019</td>\n",
       "      <td>55</td>\n",
       "      <td>3</td>\n",
       "      <td>16</td>\n",
       "      <td>42</td>\n",
       "      <td>Buruk</td>\n",
       "      <td>Cerah</td>\n",
       "      <td>Pagi</td>\n",
       "      <td>234</td>\n",
       "      <td>62</td>\n",
       "      <td>1</td>\n",
       "      <td>Berpotensi Rawan</td>\n",
       "    </tr>\n",
       "    <tr>\n",
       "      <th>51</th>\n",
       "      <td>Simangambat</td>\n",
       "      <td>2020</td>\n",
       "      <td>80</td>\n",
       "      <td>3</td>\n",
       "      <td>9</td>\n",
       "      <td>42</td>\n",
       "      <td>Sedang</td>\n",
       "      <td>Berawan</td>\n",
       "      <td>Pagi</td>\n",
       "      <td>316</td>\n",
       "      <td>74</td>\n",
       "      <td>1</td>\n",
       "      <td>Berpotensi Rawan</td>\n",
       "    </tr>\n",
       "    <tr>\n",
       "      <th>52</th>\n",
       "      <td>Simangambat</td>\n",
       "      <td>2021</td>\n",
       "      <td>55</td>\n",
       "      <td>2</td>\n",
       "      <td>14</td>\n",
       "      <td>38</td>\n",
       "      <td>Baik</td>\n",
       "      <td>Berawan</td>\n",
       "      <td>Siang</td>\n",
       "      <td>217</td>\n",
       "      <td>73</td>\n",
       "      <td>1</td>\n",
       "      <td>Berpotensi Rawan</td>\n",
       "    </tr>\n",
       "    <tr>\n",
       "      <th>53</th>\n",
       "      <td>Simangambat</td>\n",
       "      <td>2022</td>\n",
       "      <td>176</td>\n",
       "      <td>8</td>\n",
       "      <td>3</td>\n",
       "      <td>22</td>\n",
       "      <td>Sedang</td>\n",
       "      <td>Hujan</td>\n",
       "      <td>Siang</td>\n",
       "      <td>391</td>\n",
       "      <td>69</td>\n",
       "      <td>2</td>\n",
       "      <td>Rawan</td>\n",
       "    </tr>\n",
       "    <tr>\n",
       "      <th>54</th>\n",
       "      <td>Simangambat</td>\n",
       "      <td>2023</td>\n",
       "      <td>169</td>\n",
       "      <td>2</td>\n",
       "      <td>7</td>\n",
       "      <td>14</td>\n",
       "      <td>Baik</td>\n",
       "      <td>Hujan</td>\n",
       "      <td>Malam</td>\n",
       "      <td>148</td>\n",
       "      <td>73</td>\n",
       "      <td>2</td>\n",
       "      <td>Rawan</td>\n",
       "    </tr>\n",
       "    <tr>\n",
       "      <th>55</th>\n",
       "      <td>Ujung Batu</td>\n",
       "      <td>2019</td>\n",
       "      <td>70</td>\n",
       "      <td>9</td>\n",
       "      <td>10</td>\n",
       "      <td>10</td>\n",
       "      <td>Buruk</td>\n",
       "      <td>Hujan</td>\n",
       "      <td>Pagi</td>\n",
       "      <td>142</td>\n",
       "      <td>45</td>\n",
       "      <td>3</td>\n",
       "      <td>Sangat Rawan</td>\n",
       "    </tr>\n",
       "    <tr>\n",
       "      <th>56</th>\n",
       "      <td>Ujung Batu</td>\n",
       "      <td>2020</td>\n",
       "      <td>182</td>\n",
       "      <td>4</td>\n",
       "      <td>1</td>\n",
       "      <td>33</td>\n",
       "      <td>Buruk</td>\n",
       "      <td>Cerah</td>\n",
       "      <td>Siang</td>\n",
       "      <td>484</td>\n",
       "      <td>43</td>\n",
       "      <td>2</td>\n",
       "      <td>Rawan</td>\n",
       "    </tr>\n",
       "    <tr>\n",
       "      <th>57</th>\n",
       "      <td>Ujung Batu</td>\n",
       "      <td>2021</td>\n",
       "      <td>76</td>\n",
       "      <td>8</td>\n",
       "      <td>14</td>\n",
       "      <td>46</td>\n",
       "      <td>Sedang</td>\n",
       "      <td>Berawan</td>\n",
       "      <td>Malam</td>\n",
       "      <td>348</td>\n",
       "      <td>46</td>\n",
       "      <td>1</td>\n",
       "      <td>Berpotensi Rawan</td>\n",
       "    </tr>\n",
       "    <tr>\n",
       "      <th>58</th>\n",
       "      <td>Ujung Batu</td>\n",
       "      <td>2022</td>\n",
       "      <td>90</td>\n",
       "      <td>1</td>\n",
       "      <td>12</td>\n",
       "      <td>25</td>\n",
       "      <td>Buruk</td>\n",
       "      <td>Hujan</td>\n",
       "      <td>Malam</td>\n",
       "      <td>484</td>\n",
       "      <td>72</td>\n",
       "      <td>1</td>\n",
       "      <td>Berpotensi Rawan</td>\n",
       "    </tr>\n",
       "    <tr>\n",
       "      <th>59</th>\n",
       "      <td>Ujung Batu</td>\n",
       "      <td>2023</td>\n",
       "      <td>102</td>\n",
       "      <td>2</td>\n",
       "      <td>15</td>\n",
       "      <td>20</td>\n",
       "      <td>Sedang</td>\n",
       "      <td>Berawan</td>\n",
       "      <td>Siang</td>\n",
       "      <td>321</td>\n",
       "      <td>41</td>\n",
       "      <td>3</td>\n",
       "      <td>Sangat Rawan</td>\n",
       "    </tr>\n",
       "  </tbody>\n",
       "</table>\n",
       "</div>"
      ],
      "text/plain": [
       "                Kecamatan  Tahun  Jumlah Kecelakaan  Jumlah Meninggal  \\\n",
       "0            Batang Onang   2019                 93                 3   \n",
       "1            Batang Onang   2020                196                 6   \n",
       "2            Batang Onang   2021                 82                 7   \n",
       "3            Batang Onang   2022                199                 5   \n",
       "4            Batang Onang   2023                183                 7   \n",
       "5                   Dolok   2019                103                 3   \n",
       "6                   Dolok   2020                103                 3   \n",
       "7                   Dolok   2021                104                 2   \n",
       "8                   Dolok   2022                 78                 6   \n",
       "9                   Dolok   2023                199                 2   \n",
       "10       Dolok Sigompulon   2019                 56                 4   \n",
       "11       Dolok Sigompulon   2020                140                 1   \n",
       "12       Dolok Sigompulon   2021                 76                 1   \n",
       "13       Dolok Sigompulon   2022                177                 5   \n",
       "14       Dolok Sigompulon   2023                 71                 3   \n",
       "15             Halongonan   2019                 91                 7   \n",
       "16             Halongonan   2020                 91                 8   \n",
       "17             Halongonan   2021                117                 7   \n",
       "18             Halongonan   2022                117                 5   \n",
       "19             Halongonan   2023                151                 6   \n",
       "20       Halongonan Timur   2019                127                 7   \n",
       "21       Halongonan Timur   2020                124                 1   \n",
       "22       Halongonan Timur   2021                152                 3   \n",
       "23       Halongonan Timur   2022                127                 4   \n",
       "24       Halongonan Timur   2023                 62                 8   \n",
       "25           Hulu Sihapas   2019                165                 4   \n",
       "26           Hulu Sihapas   2020                 90                 2   \n",
       "27           Hulu Sihapas   2021                150                 2   \n",
       "28           Hulu Sihapas   2022                109                 7   \n",
       "29           Hulu Sihapas   2023                 74                 5   \n",
       "30           Padang Bolak   2019                169                 3   \n",
       "31           Padang Bolak   2020                 90                 3   \n",
       "32           Padang Bolak   2021                 63                 7   \n",
       "33           Padang Bolak   2022                131                 2   \n",
       "34           Padang Bolak   2023                 60                 8   \n",
       "35      Padang Bolak Julu   2019                 92                 8   \n",
       "36      Padang Bolak Julu   2020                155                 9   \n",
       "37      Padang Bolak Julu   2021                 78                 6   \n",
       "38      Padang Bolak Julu   2022                100                 2   \n",
       "39      Padang Bolak Julu   2023                197                 9   \n",
       "40  Padang Bolak Tenggara   2019                124                 8   \n",
       "41  Padang Bolak Tenggara   2020                 77                 1   \n",
       "42  Padang Bolak Tenggara   2021                136                 6   \n",
       "43  Padang Bolak Tenggara   2022                 78                 9   \n",
       "44  Padang Bolak Tenggara   2023                161                 5   \n",
       "45                Portibi   2019                153                 8   \n",
       "46                Portibi   2020                182                 8   \n",
       "47                Portibi   2021                137                 4   \n",
       "48                Portibi   2022                 69                 7   \n",
       "49                Portibi   2023                 99                 5   \n",
       "50            Simangambat   2019                 55                 3   \n",
       "51            Simangambat   2020                 80                 3   \n",
       "52            Simangambat   2021                 55                 2   \n",
       "53            Simangambat   2022                176                 8   \n",
       "54            Simangambat   2023                169                 2   \n",
       "55             Ujung Batu   2019                 70                 9   \n",
       "56             Ujung Batu   2020                182                 4   \n",
       "57             Ujung Batu   2021                 76                 8   \n",
       "58             Ujung Batu   2022                 90                 1   \n",
       "59             Ujung Batu   2023                102                 2   \n",
       "\n",
       "    Jumlah Luka Berat  Jumlah Luka Ringan Kondisi Jalan    Cuaca  \\\n",
       "0                  17                  19        Sedang    Hujan   \n",
       "1                  15                  27          Baik  Berawan   \n",
       "2                  16                  13        Sedang  Berawan   \n",
       "3                  12                  42        Sedang  Berawan   \n",
       "4                  12                  40          Baik    Hujan   \n",
       "5                  15                  33         Buruk  Berawan   \n",
       "6                  12                  47        Sedang    Cerah   \n",
       "7                  17                  41        Sedang    Hujan   \n",
       "8                  18                  27          Baik    Cerah   \n",
       "9                  10                  29         Buruk  Berawan   \n",
       "10                 12                  26          Baik  Berawan   \n",
       "11                 13                  43        Sedang    Cerah   \n",
       "12                 13                  15         Buruk    Hujan   \n",
       "13                  4                  11        Sedang  Berawan   \n",
       "14                 14                  47        Sedang    Hujan   \n",
       "15                  6                  11          Baik    Cerah   \n",
       "16                  1                  40          Baik  Berawan   \n",
       "17                 19                  14         Buruk  Berawan   \n",
       "18                 12                  39         Buruk    Hujan   \n",
       "19                 14                  46          Baik    Cerah   \n",
       "20                  8                  34          Baik    Cerah   \n",
       "21                  1                  17          Baik    Hujan   \n",
       "22                 18                  24          Baik    Cerah   \n",
       "23                 16                  43        Sedang    Hujan   \n",
       "24                 18                  21          Baik    Hujan   \n",
       "25                 19                  41          Baik  Berawan   \n",
       "26                 19                  46          Baik    Cerah   \n",
       "27                 13                  26          Baik  Berawan   \n",
       "28                  9                  24          Baik    Hujan   \n",
       "29                  1                  28         Buruk    Cerah   \n",
       "30                 12                  26         Buruk    Hujan   \n",
       "31                 13                  13         Buruk    Cerah   \n",
       "32                 19                  31          Baik  Berawan   \n",
       "33                 19                  12         Buruk  Berawan   \n",
       "34                  8                  31        Sedang    Hujan   \n",
       "35                 17                  17         Buruk    Cerah   \n",
       "36                 17                  44          Baik    Cerah   \n",
       "37                  4                  23        Sedang    Hujan   \n",
       "38                  8                  25          Baik  Berawan   \n",
       "39                 14                  34          Baik    Cerah   \n",
       "40                 12                  49          Baik    Cerah   \n",
       "41                 10                  41          Baik    Cerah   \n",
       "42                  2                  35        Sedang  Berawan   \n",
       "43                  6                  42          Baik    Hujan   \n",
       "44                 10                  37         Buruk    Hujan   \n",
       "45                 10                  45          Baik    Cerah   \n",
       "46                  9                  39        Sedang    Hujan   \n",
       "47                 13                  32         Buruk    Hujan   \n",
       "48                  7                  26        Sedang  Berawan   \n",
       "49                 16                  46          Baik    Cerah   \n",
       "50                 16                  42         Buruk    Cerah   \n",
       "51                  9                  42        Sedang  Berawan   \n",
       "52                 14                  38          Baik  Berawan   \n",
       "53                  3                  22        Sedang    Hujan   \n",
       "54                  7                  14          Baik    Hujan   \n",
       "55                 10                  10         Buruk    Hujan   \n",
       "56                  1                  33         Buruk    Cerah   \n",
       "57                 14                  46        Sedang  Berawan   \n",
       "58                 12                  25         Buruk    Hujan   \n",
       "59                 15                  20        Sedang  Berawan   \n",
       "\n",
       "   Waktu Kecelakaan  Jumlah Kendaraan  Kecepatan Rata-rata  Cluster  \\\n",
       "0              Pagi               411                   46        3   \n",
       "1              Pagi               251                   42        0   \n",
       "2             Siang               272                   46        3   \n",
       "3              Pagi               312                   64        0   \n",
       "4              Pagi               207                   60        0   \n",
       "5             Malam               343                   43        1   \n",
       "6              Pagi               193                   58        1   \n",
       "7             Malam               223                   66        1   \n",
       "8              Pagi               499                   73        3   \n",
       "9             Siang               444                   40        0   \n",
       "10             Pagi               162                   55        3   \n",
       "11             Pagi               194                   67        1   \n",
       "12            Siang               334                   66        3   \n",
       "13             Pagi               284                   62        2   \n",
       "14             Pagi               171                   41        1   \n",
       "15            Siang               121                   48        2   \n",
       "16            Malam               125                   64        2   \n",
       "17             Pagi               207                   46        3   \n",
       "18            Malam               273                   51        1   \n",
       "19            Siang               190                   67        0   \n",
       "20            Siang               387                   64        2   \n",
       "21             Pagi               206                   66        2   \n",
       "22             Pagi               360                   54        0   \n",
       "23            Siang               120                   40        1   \n",
       "24             Pagi               179                   70        3   \n",
       "25             Pagi               299                   52        0   \n",
       "26            Siang               149                   48        1   \n",
       "27            Malam               452                   55        0   \n",
       "28             Pagi               241                   41        2   \n",
       "29            Siang               436                   55        2   \n",
       "30             Pagi               245                   59        0   \n",
       "31            Siang               187                   79        3   \n",
       "32            Malam               456                   61        3   \n",
       "33            Siang               372                   62        3   \n",
       "34             Pagi               370                   74        2   \n",
       "35            Siang               252                   78        3   \n",
       "36            Siang               215                   59        0   \n",
       "37            Siang               175                   58        2   \n",
       "38            Malam               344                   61        2   \n",
       "39            Siang               347                   76        0   \n",
       "40            Malam               356                   47        0   \n",
       "41             Pagi               386                   74        1   \n",
       "42             Pagi               100                   70        2   \n",
       "43             Pagi               215                   60        2   \n",
       "44            Siang               415                   67        0   \n",
       "45             Pagi               208                   59        0   \n",
       "46             Pagi               177                   44        0   \n",
       "47             Pagi               288                   77        0   \n",
       "48            Siang               235                   46        2   \n",
       "49            Siang               470                   79        1   \n",
       "50             Pagi               234                   62        1   \n",
       "51             Pagi               316                   74        1   \n",
       "52            Siang               217                   73        1   \n",
       "53            Siang               391                   69        2   \n",
       "54            Malam               148                   73        2   \n",
       "55             Pagi               142                   45        3   \n",
       "56            Siang               484                   43        2   \n",
       "57            Malam               348                   46        1   \n",
       "58            Malam               484                   72        1   \n",
       "59            Siang               321                   41        3   \n",
       "\n",
       "   Tingkat Kerawanan  \n",
       "0       Sangat Rawan  \n",
       "1               Aman  \n",
       "2       Sangat Rawan  \n",
       "3               Aman  \n",
       "4               Aman  \n",
       "5   Berpotensi Rawan  \n",
       "6   Berpotensi Rawan  \n",
       "7   Berpotensi Rawan  \n",
       "8       Sangat Rawan  \n",
       "9               Aman  \n",
       "10      Sangat Rawan  \n",
       "11  Berpotensi Rawan  \n",
       "12      Sangat Rawan  \n",
       "13             Rawan  \n",
       "14  Berpotensi Rawan  \n",
       "15             Rawan  \n",
       "16             Rawan  \n",
       "17      Sangat Rawan  \n",
       "18  Berpotensi Rawan  \n",
       "19              Aman  \n",
       "20             Rawan  \n",
       "21             Rawan  \n",
       "22              Aman  \n",
       "23  Berpotensi Rawan  \n",
       "24      Sangat Rawan  \n",
       "25              Aman  \n",
       "26  Berpotensi Rawan  \n",
       "27              Aman  \n",
       "28             Rawan  \n",
       "29             Rawan  \n",
       "30              Aman  \n",
       "31      Sangat Rawan  \n",
       "32      Sangat Rawan  \n",
       "33      Sangat Rawan  \n",
       "34             Rawan  \n",
       "35      Sangat Rawan  \n",
       "36              Aman  \n",
       "37             Rawan  \n",
       "38             Rawan  \n",
       "39              Aman  \n",
       "40              Aman  \n",
       "41  Berpotensi Rawan  \n",
       "42             Rawan  \n",
       "43             Rawan  \n",
       "44              Aman  \n",
       "45              Aman  \n",
       "46              Aman  \n",
       "47              Aman  \n",
       "48             Rawan  \n",
       "49  Berpotensi Rawan  \n",
       "50  Berpotensi Rawan  \n",
       "51  Berpotensi Rawan  \n",
       "52  Berpotensi Rawan  \n",
       "53             Rawan  \n",
       "54             Rawan  \n",
       "55      Sangat Rawan  \n",
       "56             Rawan  \n",
       "57  Berpotensi Rawan  \n",
       "58  Berpotensi Rawan  \n",
       "59      Sangat Rawan  "
      ]
     },
     "execution_count": 6,
     "metadata": {},
     "output_type": "execute_result"
    }
   ],
   "source": [
    "# Bagian 3: Memetakan Klaster ke Tingkat Kerawanan\n",
    "\n",
    "# Map the clusters to the risk levels\n",
    "cluster_map = {\n",
    "    0: \"Aman\",\n",
    "    1: \"Berpotensi Rawan\",\n",
    "    2: \"Rawan\",\n",
    "    3: \"Sangat Rawan\"\n",
    "}\n",
    "\n",
    "df['Tingkat Kerawanan'] = df['Cluster'].map(cluster_map)\n",
    "\n",
    "# Display the first few rows of the resulting data with risk levels\n",
    "df\n"
   ]
  },
  {
   "cell_type": "code",
   "execution_count": 7,
   "metadata": {},
   "outputs": [
    {
     "data": {
      "text/plain": [
       "'Hasil_Klastering_Kecelakaan_Padang_Lawas_Utara.xlsx'"
      ]
     },
     "execution_count": 7,
     "metadata": {},
     "output_type": "execute_result"
    }
   ],
   "source": [
    "# Bagian 4: Menyimpan Hasil ke File Excel\n",
    "\n",
    "# Menyimpan hasil ke file Excel baru\n",
    "output_path = 'Hasil_Klastering_Kecelakaan_Padang_Lawas_Utara.xlsx'\n",
    "df.to_excel(output_path, index=False)\n",
    "\n",
    "# Menampilkan jalur ke file yang telah disimpan\n",
    "output_path\n"
   ]
  },
  {
   "cell_type": "code",
   "execution_count": 8,
   "metadata": {},
   "outputs": [
    {
     "name": "stdout",
     "output_type": "stream",
     "text": [
      "Purity keseluruhan: 0.35\n",
      "Cluster  0  1  2  3\n",
      "row_0              \n",
      "0        1  3  4  4\n",
      "1        4  3  4  1\n",
      "2        6  5  2  4\n",
      "3        5  4  6  4\n",
      "Purity Klaster 0: 0.38\n",
      "Purity Klaster 1: 0.33\n",
      "Purity Klaster 2: 0.38\n",
      "Purity Klaster 3: 0.31\n"
     ]
    }
   ],
   "source": [
    "import numpy as np\n",
    "\n",
    "def calculate_purity(y_true, y_pred):\n",
    "    contingency_matrix = pd.crosstab(y_true, y_pred)\n",
    "    return np.sum(np.amax(contingency_matrix.values, axis=0)) / np.sum(contingency_matrix.values)\n",
    "\n",
    "np.random.seed(42)\n",
    "true_labels = np.random.randint(0, 4, size=len(df))\n",
    "\n",
    "# Hitung purity keseluruhan\n",
    "purity = calculate_purity(true_labels, df['Cluster'])\n",
    "print(f\"Purity keseluruhan: {purity:.2f}\")\n",
    "\n",
    "# Menampilkan matriks kontingensi sebagai tabel untuk evaluasi lebih lanjut\n",
    "contingency_matrix = pd.crosstab(true_labels, df['Cluster'])\n",
    "print(contingency_matrix)\n",
    "\n",
    "# Menghitung purity untuk setiap klaster\n",
    "def calculate_purity_per_cluster(contingency_matrix):\n",
    "    purity_per_cluster = {}\n",
    "    for cluster in contingency_matrix.columns:\n",
    "        max_value = contingency_matrix[cluster].max()\n",
    "        total = contingency_matrix[cluster].sum()\n",
    "        purity_per_cluster[cluster] = max_value / total if total > 0 else 0\n",
    "    return purity_per_cluster\n",
    "\n",
    "# Menghitung purity per klaster\n",
    "purity_per_cluster = calculate_purity_per_cluster(contingency_matrix)\n",
    "\n",
    "# Menampilkan purity per klaster\n",
    "for cluster, purity in purity_per_cluster.items():\n",
    "    print(f\"Purity Klaster {cluster}: {purity:.2f}\")"
   ]
  },
  {
   "cell_type": "code",
   "execution_count": 9,
   "metadata": {},
   "outputs": [
    {
     "name": "stderr",
     "output_type": "stream",
     "text": [
      "c:\\Users\\User\\anaconda3\\Lib\\site-packages\\sklearn\\cluster\\_kmeans.py:1412: FutureWarning: The default value of `n_init` will change from 10 to 'auto' in 1.4. Set the value of `n_init` explicitly to suppress the warning\n",
      "  super()._check_params_vs_input(X, default_n_init=10)\n",
      "c:\\Users\\User\\anaconda3\\Lib\\site-packages\\sklearn\\cluster\\_kmeans.py:1436: UserWarning: KMeans is known to have a memory leak on Windows with MKL, when there are less chunks than available threads. You can avoid it by setting the environment variable OMP_NUM_THREADS=1.\n",
      "  warnings.warn(\n"
     ]
    },
    {
     "data": {
      "image/png": "[encoded data removed]",
      "text/plain": [
       "<Figure size 1000x800 with 1 Axes>"
      ]
     },
     "metadata": {},
     "output_type": "display_data"
    }
   ],
   "source": [
    "# Bagian 6: Visualisasi Clustering dengan Scatter Plot\n",
    "\n",
    "import pandas as pd\n",
    "import numpy as np\n",
    "import matplotlib.pyplot as plt\n",
    "from sklearn.cluster import KMeans\n",
    "from sklearn.preprocessing import StandardScaler\n",
    "\n",
    "# Memuat data\n",
    "file_path = 'Data_Kecelakaan_Padang_Lawas_Utara.xlsx'\n",
    "df = pd.read_excel(file_path)\n",
    "\n",
    "# Pilih fitur yang relevan untuk clustering\n",
    "features = [\"Jumlah Kecelakaan\", \"Jumlah Meninggal\", \"Jumlah Luka Berat\", \"Jumlah Luka Ringan\"]\n",
    "X = df[features]\n",
    "\n",
    "# Normalisasi data\n",
    "scaler = StandardScaler()\n",
    "X_scaled = scaler.fit_transform(X)\n",
    "\n",
    "# Tentukan jumlah klaster\n",
    "k = 4  # untuk Aman, Berpotensi Rawan, Rawan, Sangat Rawan\n",
    "\n",
    "# Terapkan K-Means clustering\n",
    "kmeans = KMeans(n_clusters=k, random_state=42)\n",
    "kmeans.fit(X_scaled)\n",
    "df['Cluster'] = kmeans.labels_\n",
    "\n",
    "# Menghitung centroid untuk setiap klaster\n",
    "centroids = kmeans.cluster_centers_\n",
    "\n",
    "# Visualisasi scatter plot\n",
    "plt.figure(figsize=(10, 8))\n",
    "colors = ['r', 'g', 'b', 'y']\n",
    "for i in range(k):\n",
    "    # Plot data points\n",
    "    cluster_data = df[df['Cluster'] == i]\n",
    "    plt.scatter(cluster_data[features[0]], cluster_data[features[1]], \n",
    "                s=50, c=colors[i], label=f'Klaster {i}')\n",
    "\n",
    "    # Plot centroids\n",
    "    plt.scatter(centroids[i, 0], centroids[i, 1], \n",
    "                s=200, c=colors[i], marker='X')\n",
    "\n",
    "plt.title('Visualisasi Clustering dengan Scatter Plot')\n",
    "plt.xlabel('Jumlah Kecelakaan (Standardized)')\n",
    "plt.ylabel('Jumlah Meninggal (Standardized)')\n",
    "plt.legend()\n",
    "plt.show()\n"
   ]
  },
  {
   "cell_type": "code",
   "execution_count": 15,
   "metadata": {},
   "outputs": [
    {
     "name": "stderr",
     "output_type": "stream",
     "text": [
      "c:\\Users\\User\\anaconda3\\Lib\\site-packages\\sklearn\\cluster\\_kmeans.py:1412: FutureWarning:\n",
      "\n",
      "The default value of `n_init` will change from 10 to 'auto' in 1.4. Set the value of `n_init` explicitly to suppress the warning\n",
      "\n",
      "c:\\Users\\User\\anaconda3\\Lib\\site-packages\\sklearn\\cluster\\_kmeans.py:1436: UserWarning:\n",
      "\n",
      "KMeans is known to have a memory leak on Windows with MKL, when there are less chunks than available threads. You can avoid it by setting the environment variable OMP_NUM_THREADS=1.\n",
      "\n"
     ]
    },
    {
     "data": {
      "application/vnd.plotly.v1+json": {
       "config": {
        "plotlyServerURL": "https://plot.ly"
       },
       "data": [
        {
         "alignmentgroup": "True",
         "hovertemplate": "Tingkat Kerawanan=Aman<br>Tahun=%{x}<br>Jumlah Kasus=%{text}<extra></extra>",
         "legendgroup": "Aman",
         "marker": {
          "color": "#636efa",
          "line": {
           "color": "rgb(0,0,0)",
           "width": 1.5
          },
          "pattern": {
           "shape": ""
          }
         },
         "name": "Aman",
         "offsetgroup": "Aman",
         "orientation": "v",
         "showlegend": true,
         "text": [
          4,
          3,
          3,
          1,
          5
         ],
         "textposition": "outside",
         "texttemplate": "%{text}",
         "type": "bar",
         "x": [
          2019,
          2020,
          2021,
          2022,
          2023
         ],
         "xaxis": "x",
         "y": [
          4,
          3,
          3,
          1,
          5
         ],
         "yaxis": "y"
        },
        {
         "alignmentgroup": "True",
         "hovertemplate": "Tingkat Kerawanan=Berpotensi Rawan<br>Tahun=%{x}<br>Jumlah Kasus=%{text}<extra></extra>",
         "legendgroup": "Berpotensi Rawan",
         "marker": {
          "color": "#EF553B",
          "line": {
           "color": "rgb(0,0,0)",
           "width": 1.5
          },
          "pattern": {
           "shape": ""
          }
         },
         "name": "Berpotensi Rawan",
         "offsetgroup": "Berpotensi Rawan",
         "orientation": "v",
         "showlegend": true,
         "text": [
          2,
          5,
          3,
          3,
          2
         ],
         "textposition": "outside",
         "texttemplate": "%{text}",
         "type": "bar",
         "x": [
          2019,
          2020,
          2021,
          2022,
          2023
         ],
         "xaxis": "x",
         "y": [
          2,
          5,
          3,
          3,
          2
         ],
         "yaxis": "y"
        },
        {
         "alignmentgroup": "True",
         "hovertemplate": "Tingkat Kerawanan=Rawan<br>Tahun=%{x}<br>Jumlah Kasus=%{text}<extra></extra>",
         "legendgroup": "Rawan",
         "marker": {
          "color": "#00cc96",
          "line": {
           "color": "rgb(0,0,0)",
           "width": 1.5
          },
          "pattern": {
           "shape": ""
          }
         },
         "name": "Rawan",
         "offsetgroup": "Rawan",
         "orientation": "v",
         "showlegend": true,
         "text": [
          2,
          3,
          2,
          6,
          3
         ],
         "textposition": "outside",
         "texttemplate": "%{text}",
         "type": "bar",
         "x": [
          2019,
          2020,
          2021,
          2022,
          2023
         ],
         "xaxis": "x",
         "y": [
          2,
          3,
          2,
          6,
          3
         ],
         "yaxis": "y"
        },
        {
         "alignmentgroup": "True",
         "hovertemplate": "Tingkat Kerawanan=Sangat Rawan<br>Tahun=%{x}<br>Jumlah Kasus=%{text}<extra></extra>",
         "legendgroup": "Sangat Rawan",
         "marker": {
          "color": "#ab63fa",
          "line": {
           "color": "rgb(0,0,0)",
           "width": 1.5
          },
          "pattern": {
           "shape": ""
          }
         },
         "name": "Sangat Rawan",
         "offsetgroup": "Sangat Rawan",
         "orientation": "v",
         "showlegend": true,
         "text": [
          4,
          1,
          4,
          2,
          2
         ],
         "textposition": "outside",
         "texttemplate": "%{text}",
         "type": "bar",
         "x": [
          2019,
          2020,
          2021,
          2022,
          2023
         ],
         "xaxis": "x",
         "y": [
          4,
          1,
          4,
          2,
          2
         ],
         "yaxis": "y"
        }
       ],
       "layout": {
        "barmode": "stack",
        "height": 800,
        "legend": {
         "title": {
          "text": "Tingkat Kerawanan"
         },
         "tracegroupgap": 0
        },
        "template": {
         "data": {
          "bar": [
           {
            "error_x": {
             "color": "#2a3f5f"
            },
            "error_y": {
             "color": "#2a3f5f"
            },
            "marker": {
             "line": {
              "color": "#E5ECF6",
              "width": 0.5
             },
             "pattern": {
              "fillmode": "overlay",
              "size": 10,
              "solidity": 0.2
             }
            },
            "type": "bar"
           }
          ],
          "barpolar": [
           {
            "marker": {
             "line": {
              "color": "#E5ECF6",
              "width": 0.5
             },
             "pattern": {
              "fillmode": "overlay",
              "size": 10,
              "solidity": 0.2
             }
            },
            "type": "barpolar"
           }
          ],
          "carpet": [
           {
            "aaxis": {
             "endlinecolor": "#2a3f5f",
             "gridcolor": "white",
             "linecolor": "white",
             "minorgridcolor": "white",
             "startlinecolor": "#2a3f5f"
            },
            "baxis": {
             "endlinecolor": "#2a3f5f",
             "gridcolor": "white",
             "linecolor": "white",
             "minorgridcolor": "white",
             "startlinecolor": "#2a3f5f"
            },
            "type": "carpet"
           }
          ],
          "choropleth": [
           {
            "colorbar": {
             "outlinewidth": 0,
             "ticks": ""
            },
            "type": "choropleth"
           }
          ],
          "contour": [
           {
            "colorbar": {
             "outlinewidth": 0,
             "ticks": ""
            },
            "colorscale": [
             [
              0,
              "#0d0887"
             ],
             [
              0.1111111111111111,
              "#46039f"
             ],
             [
              0.2222222222222222,
              "#7201a8"
             ],
             [
              0.3333333333333333,
              "#9c179e"
             ],
             [
              0.4444444444444444,
              "#bd3786"
             ],
             [
              0.5555555555555556,
              "#d8576b"
             ],
             [
              0.6666666666666666,
              "#ed7953"
             ],
             [
              0.7777777777777778,
              "#fb9f3a"
             ],
             [
              0.8888888888888888,
              "#fdca26"
             ],
             [
              1,
              "#f0f921"
             ]
            ],
            "type": "contour"
           }
          ],
          "contourcarpet": [
           {
            "colorbar": {
             "outlinewidth": 0,
             "ticks": ""
            },
            "type": "contourcarpet"
           }
          ],
          "heatmap": [
           {
            "colorbar": {
             "outlinewidth": 0,
             "ticks": ""
            },
            "colorscale": [
             [
              0,
              "#0d0887"
             ],
             [
              0.1111111111111111,
              "#46039f"
             ],
             [
              0.2222222222222222,
              "#7201a8"
             ],
             [
              0.3333333333333333,
              "#9c179e"
             ],
             [
              0.4444444444444444,
              "#bd3786"
             ],
             [
              0.5555555555555556,
              "#d8576b"
             ],
             [
              0.6666666666666666,
              "#ed7953"
             ],
             [
              0.7777777777777778,
              "#fb9f3a"
             ],
             [
              0.8888888888888888,
              "#fdca26"
             ],
             [
              1,
              "#f0f921"
             ]
            ],
            "type": "heatmap"
           }
          ],
          "heatmapgl": [
           {
            "colorbar": {
             "outlinewidth": 0,
             "ticks": ""
            },
            "colorscale": [
             [
              0,
              "#0d0887"
             ],
             [
              0.1111111111111111,
              "#46039f"
             ],
             [
              0.2222222222222222,
              "#7201a8"
             ],
             [
              0.3333333333333333,
              "#9c179e"
             ],
             [
              0.4444444444444444,
              "#bd3786"
             ],
             [
              0.5555555555555556,
              "#d8576b"
             ],
             [
              0.6666666666666666,
              "#ed7953"
             ],
             [
              0.7777777777777778,
              "#fb9f3a"
             ],
             [
              0.8888888888888888,
              "#fdca26"
             ],
             [
              1,
              "#f0f921"
             ]
            ],
            "type": "heatmapgl"
           }
          ],
          "histogram": [
           {
            "marker": {
             "pattern": {
              "fillmode": "overlay",
              "size": 10,
              "solidity": 0.2
             }
            },
            "type": "histogram"
           }
          ],
          "histogram2d": [
           {
            "colorbar": {
             "outlinewidth": 0,
             "ticks": ""
            },
            "colorscale": [
             [
              0,
              "#0d0887"
             ],
             [
              0.1111111111111111,
              "#46039f"
             ],
             [
              0.2222222222222222,
              "#7201a8"
             ],
             [
              0.3333333333333333,
              "#9c179e"
             ],
             [
              0.4444444444444444,
              "#bd3786"
             ],
             [
              0.5555555555555556,
              "#d8576b"
             ],
             [
              0.6666666666666666,
              "#ed7953"
             ],
             [
              0.7777777777777778,
              "#fb9f3a"
             ],
             [
              0.8888888888888888,
              "#fdca26"
             ],
             [
              1,
              "#f0f921"
             ]
            ],
            "type": "histogram2d"
           }
          ],
          "histogram2dcontour": [
           {
            "colorbar": {
             "outlinewidth": 0,
             "ticks": ""
            },
            "colorscale": [
             [
              0,
              "#0d0887"
             ],
             [
              0.1111111111111111,
              "#46039f"
             ],
             [
              0.2222222222222222,
              "#7201a8"
             ],
             [
              0.3333333333333333,
              "#9c179e"
             ],
             [
              0.4444444444444444,
              "#bd3786"
             ],
             [
              0.5555555555555556,
              "#d8576b"
             ],
             [
              0.6666666666666666,
              "#ed7953"
             ],
             [
              0.7777777777777778,
              "#fb9f3a"
             ],
             [
              0.8888888888888888,
              "#fdca26"
             ],
             [
              1,
              "#f0f921"
             ]
            ],
            "type": "histogram2dcontour"
           }
          ],
          "mesh3d": [
           {
            "colorbar": {
             "outlinewidth": 0,
             "ticks": ""
            },
            "type": "mesh3d"
           }
          ],
          "parcoords": [
           {
            "line": {
             "colorbar": {
              "outlinewidth": 0,
              "ticks": ""
             }
            },
            "type": "parcoords"
           }
          ],
          "pie": [
           {
            "automargin": true,
            "type": "pie"
           }
          ],
          "scatter": [
           {
            "fillpattern": {
             "fillmode": "overlay",
             "size": 10,
             "solidity": 0.2
            },
            "type": "scatter"
           }
          ],
          "scatter3d": [
           {
            "line": {
             "colorbar": {
              "outlinewidth": 0,
              "ticks": ""
             }
            },
            "marker": {
             "colorbar": {
              "outlinewidth": 0,
              "ticks": ""
             }
            },
            "type": "scatter3d"
           }
          ],
          "scattercarpet": [
           {
            "marker": {
             "colorbar": {
              "outlinewidth": 0,
              "ticks": ""
             }
            },
            "type": "scattercarpet"
           }
          ],
          "scattergeo": [
           {
            "marker": {
             "colorbar": {
              "outlinewidth": 0,
              "ticks": ""
             }
            },
            "type": "scattergeo"
           }
          ],
          "scattergl": [
           {
            "marker": {
             "colorbar": {
              "outlinewidth": 0,
              "ticks": ""
             }
            },
            "type": "scattergl"
           }
          ],
          "scattermapbox": [
           {
            "marker": {
             "colorbar": {
              "outlinewidth": 0,
              "ticks": ""
             }
            },
            "type": "scattermapbox"
           }
          ],
          "scatterpolar": [
           {
            "marker": {
             "colorbar": {
              "outlinewidth": 0,
              "ticks": ""
             }
            },
            "type": "scatterpolar"
           }
          ],
          "scatterpolargl": [
           {
            "marker": {
             "colorbar": {
              "outlinewidth": 0,
              "ticks": ""
             }
            },
            "type": "scatterpolargl"
           }
          ],
          "scatterternary": [
           {
            "marker": {
             "colorbar": {
              "outlinewidth": 0,
              "ticks": ""
             }
            },
            "type": "scatterternary"
           }
          ],
          "surface": [
           {
            "colorbar": {
             "outlinewidth": 0,
             "ticks": ""
            },
            "colorscale": [
             [
              0,
              "#0d0887"
             ],
             [
              0.1111111111111111,
              "#46039f"
             ],
             [
              0.2222222222222222,
              "#7201a8"
             ],
             [
              0.3333333333333333,
              "#9c179e"
             ],
             [
              0.4444444444444444,
              "#bd3786"
             ],
             [
              0.5555555555555556,
              "#d8576b"
             ],
             [
              0.6666666666666666,
              "#ed7953"
             ],
             [
              0.7777777777777778,
              "#fb9f3a"
             ],
             [
              0.8888888888888888,
              "#fdca26"
             ],
             [
              1,
              "#f0f921"
             ]
            ],
            "type": "surface"
           }
          ],
          "table": [
           {
            "cells": {
             "fill": {
              "color": "#EBF0F8"
             },
             "line": {
              "color": "white"
             }
            },
            "header": {
             "fill": {
              "color": "#C8D4E3"
             },
             "line": {
              "color": "white"
             }
            },
            "type": "table"
           }
          ]
         },
         "layout": {
          "annotationdefaults": {
           "arrowcolor": "#2a3f5f",
           "arrowhead": 0,
           "arrowwidth": 1
          },
          "autotypenumbers": "strict",
          "coloraxis": {
           "colorbar": {
            "outlinewidth": 0,
            "ticks": ""
           }
          },
          "colorscale": {
           "diverging": [
            [
             0,
             "#8e0152"
            ],
            [
             0.1,
             "#c51b7d"
            ],
            [
             0.2,
             "#de77ae"
            ],
            [
             0.3,
             "#f1b6da"
            ],
            [
             0.4,
             "#fde0ef"
            ],
            [
             0.5,
             "#f7f7f7"
            ],
            [
             0.6,
             "#e6f5d0"
            ],
            [
             0.7,
             "#b8e186"
            ],
            [
             0.8,
             "#7fbc41"
            ],
            [
             0.9,
             "#4d9221"
            ],
            [
             1,
             "#276419"
            ]
           ],
           "sequential": [
            [
             0,
             "#0d0887"
            ],
            [
             0.1111111111111111,
             "#46039f"
            ],
            [
             0.2222222222222222,
             "#7201a8"
            ],
            [
             0.3333333333333333,
             "#9c179e"
            ],
            [
             0.4444444444444444,
             "#bd3786"
            ],
            [
             0.5555555555555556,
             "#d8576b"
            ],
            [
             0.6666666666666666,
             "#ed7953"
            ],
            [
             0.7777777777777778,
             "#fb9f3a"
            ],
            [
             0.8888888888888888,
             "#fdca26"
            ],
            [
             1,
             "#f0f921"
            ]
           ],
           "sequentialminus": [
            [
             0,
             "#0d0887"
            ],
            [
             0.1111111111111111,
             "#46039f"
            ],
            [
             0.2222222222222222,
             "#7201a8"
            ],
            [
             0.3333333333333333,
             "#9c179e"
            ],
            [
             0.4444444444444444,
             "#bd3786"
            ],
            [
             0.5555555555555556,
             "#d8576b"
            ],
            [
             0.6666666666666666,
             "#ed7953"
            ],
            [
             0.7777777777777778,
             "#fb9f3a"
            ],
            [
             0.8888888888888888,
             "#fdca26"
            ],
            [
             1,
             "#f0f921"
            ]
           ]
          },
          "colorway": [
           "#636efa",
           "#EF553B",
           "#00cc96",
           "#ab63fa",
           "#FFA15A",
           "#19d3f3",
           "#FF6692",
           "#B6E880",
           "#FF97FF",
           "#FECB52"
          ],
          "font": {
           "color": "#2a3f5f"
          },
          "geo": {
           "bgcolor": "white",
           "lakecolor": "white",
           "landcolor": "#E5ECF6",
           "showlakes": true,
           "showland": true,
           "subunitcolor": "white"
          },
          "hoverlabel": {
           "align": "left"
          },
          "hovermode": "closest",
          "mapbox": {
           "style": "light"
          },
          "paper_bgcolor": "white",
          "plot_bgcolor": "#E5ECF6",
          "polar": {
           "angularaxis": {
            "gridcolor": "white",
            "linecolor": "white",
            "ticks": ""
           },
           "bgcolor": "#E5ECF6",
           "radialaxis": {
            "gridcolor": "white",
            "linecolor": "white",
            "ticks": ""
           }
          },
          "scene": {
           "xaxis": {
            "backgroundcolor": "#E5ECF6",
            "gridcolor": "white",
            "gridwidth": 2,
            "linecolor": "white",
            "showbackground": true,
            "ticks": "",
            "zerolinecolor": "white"
           },
           "yaxis": {
            "backgroundcolor": "#E5ECF6",
            "gridcolor": "white",
            "gridwidth": 2,
            "linecolor": "white",
            "showbackground": true,
            "ticks": "",
            "zerolinecolor": "white"
           },
           "zaxis": {
            "backgroundcolor": "#E5ECF6",
            "gridcolor": "white",
            "gridwidth": 2,
            "linecolor": "white",
            "showbackground": true,
            "ticks": "",
            "zerolinecolor": "white"
           }
          },
          "shapedefaults": {
           "line": {
            "color": "#2a3f5f"
           }
          },
          "ternary": {
           "aaxis": {
            "gridcolor": "white",
            "linecolor": "white",
            "ticks": ""
           },
           "baxis": {
            "gridcolor": "white",
            "linecolor": "white",
            "ticks": ""
           },
           "bgcolor": "#E5ECF6",
           "caxis": {
            "gridcolor": "white",
            "linecolor": "white",
            "ticks": ""
           }
          },
          "title": {
           "x": 0.05
          },
          "xaxis": {
           "automargin": true,
           "gridcolor": "white",
           "linecolor": "white",
           "ticks": "",
           "title": {
            "standoff": 15
           },
           "zerolinecolor": "white",
           "zerolinewidth": 2
          },
          "yaxis": {
           "automargin": true,
           "gridcolor": "white",
           "linecolor": "white",
           "ticks": "",
           "title": {
            "standoff": 15
           },
           "zerolinecolor": "white",
           "zerolinewidth": 2
          }
         }
        },
        "title": {
         "text": "Jumlah Tingkat Keparahan Kecelakaan Per Tahun"
        },
        "width": 1200,
        "xaxis": {
         "anchor": "y",
         "domain": [
          0,
          1
         ],
         "title": {
          "text": "Tahun"
         }
        },
        "yaxis": {
         "anchor": "x",
         "domain": [
          0,
          1
         ],
         "title": {
          "text": "Jumlah Kasus"
         }
        }
       }
      }
     },
     "metadata": {},
     "output_type": "display_data"
    }
   ],
   "source": [
    "import pandas as pd\n",
    "import numpy as np\n",
    "import plotly.express as px\n",
    "from sklearn.cluster import KMeans\n",
    "from sklearn.preprocessing import StandardScaler\n",
    "\n",
    "# Memuat data\n",
    "file_path = 'Data_Kecelakaan_Padang_Lawas_Utara.xlsx'\n",
    "df = pd.read_excel(file_path)\n",
    "\n",
    "# Pilih fitur yang relevan untuk clustering\n",
    "features = [\"Jumlah Kecelakaan\", \"Jumlah Meninggal\", \"Jumlah Luka Berat\", \"Jumlah Luka Ringan\"]\n",
    "X = df[features]\n",
    "\n",
    "# Normalisasi data\n",
    "scaler = StandardScaler()\n",
    "X_scaled = scaler.fit_transform(X)\n",
    "\n",
    "# Tentukan jumlah klaster\n",
    "k = 4  # untuk Aman, Berpotensi Rawan, Rawan, Sangat Rawan\n",
    "\n",
    "# Terapkan K-Means clustering\n",
    "kmeans = KMeans(n_clusters=k, random_state=42)\n",
    "kmeans.fit(X_scaled)\n",
    "df['Cluster'] = kmeans.labels_\n",
    "\n",
    "# Map the clusters to the risk levels\n",
    "cluster_map = {\n",
    "    0: \"Aman\",\n",
    "    1: \"Berpotensi Rawan\",\n",
    "    2: \"Rawan\",\n",
    "    3: \"Sangat Rawan\"\n",
    "}\n",
    "df['Tingkat Kerawanan'] = df['Cluster'].map(cluster_map)\n",
    "\n",
    "# Group by year and severity level\n",
    "severity_by_year = df.groupby(['Tahun', 'Tingkat Kerawanan']).size().unstack(fill_value=0).reset_index()\n",
    "\n",
    "# Melt the DataFrame to long format for Plotly\n",
    "severity_melted = pd.melt(severity_by_year, id_vars=['Tahun'], value_vars=cluster_map.values(), \n",
    "                          var_name='Tingkat Kerawanan', value_name='Jumlah Kasus')\n",
    "\n",
    "# Visualisasi dengan Plotly\n",
    "fig = px.bar(severity_melted, x='Tahun', y='Jumlah Kasus', color='Tingkat Kerawanan',\n",
    "             title='Jumlah Tingkat Keparahan Kecelakaan Per Tahun',\n",
    "             labels={'Jumlah Kasus': 'Jumlah Kasus'},\n",
    "             height=800, \n",
    "             width=1200, \n",
    "             text='Jumlah Kasus',\n",
    "             category_orders={'Tingkat Kerawanan': list(cluster_map.values())})\n",
    "\n",
    "# Tambahkan label pada bar chart\n",
    "fig.update_traces(texttemplate='%{text}', textposition='outside', \n",
    "                  marker=dict(line=dict(color='rgb(0,0,0)', width=1.5)))\n",
    "\n",
    "# Update layout\n",
    "fig.update_layout(xaxis_title='Tahun',\n",
    "                  yaxis_title='Jumlah Kasus',\n",
    "                  legend_title='Tingkat Kerawanan',\n",
    "                  barmode='stack')\n",
    "\n",
    "fig.show()\n"
   ]
  },
  {
   "cell_type": "code",
   "execution_count": 17,
   "metadata": {},
   "outputs": [
    {
     "data": {
      "application/vnd.plotly.v1+json": {
       "config": {
        "plotlyServerURL": "https://plot.ly"
       },
       "data": [
        {
         "alignmentgroup": "True",
         "hovertemplate": "Kategori=Jumlah Meninggal<br>Tahun=2019<br>Kecamatan=%{x}<br>Jumlah=%{y}<extra></extra>",
         "legendgroup": "Jumlah Meninggal",
         "marker": {
          "color": "#636efa",
          "pattern": {
           "shape": ""
          }
         },
         "name": "Jumlah Meninggal",
         "offsetgroup": "Jumlah Meninggal",
         "orientation": "v",
         "showlegend": true,
         "textposition": "auto",
         "type": "bar",
         "x": [
          "Batang Onang",
          "Dolok",
          "Dolok Sigompulon",
          "Halongonan",
          "Halongonan Timur",
          "Hulu Sihapas",
          "Padang Bolak",
          "Padang Bolak Julu",
          "Padang Bolak Tenggara",
          "Portibi",
          "Simangambat",
          "Ujung Batu"
         ],
         "xaxis": "x",
         "y": [
          3,
          3,
          4,
          7,
          7,
          4,
          3,
          8,
          8,
          8,
          3,
          9
         ],
         "yaxis": "y"
        },
        {
         "alignmentgroup": "True",
         "hovertemplate": "Kategori=Jumlah Meninggal<br>Tahun=2020<br>Kecamatan=%{x}<br>Jumlah=%{y}<extra></extra>",
         "legendgroup": "Jumlah Meninggal",
         "marker": {
          "color": "#636efa",
          "pattern": {
           "shape": ""
          }
         },
         "name": "Jumlah Meninggal",
         "offsetgroup": "Jumlah Meninggal",
         "orientation": "v",
         "showlegend": false,
         "textposition": "auto",
         "type": "bar",
         "x": [
          "Batang Onang",
          "Dolok",
          "Dolok Sigompulon",
          "Halongonan",
          "Halongonan Timur",
          "Hulu Sihapas",
          "Padang Bolak",
          "Padang Bolak Julu",
          "Padang Bolak Tenggara",
          "Portibi",
          "Simangambat",
          "Ujung Batu"
         ],
         "xaxis": "x2",
         "y": [
          6,
          3,
          1,
          8,
          1,
          2,
          3,
          9,
          1,
          8,
          3,
          4
         ],
         "yaxis": "y2"
        },
        {
         "alignmentgroup": "True",
         "hovertemplate": "Kategori=Jumlah Meninggal<br>Tahun=2021<br>Kecamatan=%{x}<br>Jumlah=%{y}<extra></extra>",
         "legendgroup": "Jumlah Meninggal",
         "marker": {
          "color": "#636efa",
          "pattern": {
           "shape": ""
          }
         },
         "name": "Jumlah Meninggal",
         "offsetgroup": "Jumlah Meninggal",
         "orientation": "v",
         "showlegend": false,
         "textposition": "auto",
         "type": "bar",
         "x": [
          "Batang Onang",
          "Dolok",
          "Dolok Sigompulon",
          "Halongonan",
          "Halongonan Timur",
          "Hulu Sihapas",
          "Padang Bolak",
          "Padang Bolak Julu",
          "Padang Bolak Tenggara",
          "Portibi",
          "Simangambat",
          "Ujung Batu"
         ],
         "xaxis": "x3",
         "y": [
          7,
          2,
          1,
          7,
          3,
          2,
          7,
          6,
          6,
          4,
          2,
          8
         ],
         "yaxis": "y3"
        },
        {
         "alignmentgroup": "True",
         "hovertemplate": "Kategori=Jumlah Meninggal<br>Tahun=2022<br>Kecamatan=%{x}<br>Jumlah=%{y}<extra></extra>",
         "legendgroup": "Jumlah Meninggal",
         "marker": {
          "color": "#636efa",
          "pattern": {
           "shape": ""
          }
         },
         "name": "Jumlah Meninggal",
         "offsetgroup": "Jumlah Meninggal",
         "orientation": "v",
         "showlegend": false,
         "textposition": "auto",
         "type": "bar",
         "x": [
          "Batang Onang",
          "Dolok",
          "Dolok Sigompulon",
          "Halongonan",
          "Halongonan Timur",
          "Hulu Sihapas",
          "Padang Bolak",
          "Padang Bolak Julu",
          "Padang Bolak Tenggara",
          "Portibi",
          "Simangambat",
          "Ujung Batu"
         ],
         "xaxis": "x4",
         "y": [
          5,
          6,
          5,
          5,
          4,
          7,
          2,
          2,
          9,
          7,
          8,
          1
         ],
         "yaxis": "y4"
        },
        {
         "alignmentgroup": "True",
         "hovertemplate": "Kategori=Jumlah Meninggal<br>Tahun=2023<br>Kecamatan=%{x}<br>Jumlah=%{y}<extra></extra>",
         "legendgroup": "Jumlah Meninggal",
         "marker": {
          "color": "#636efa",
          "pattern": {
           "shape": ""
          }
         },
         "name": "Jumlah Meninggal",
         "offsetgroup": "Jumlah Meninggal",
         "orientation": "v",
         "showlegend": false,
         "textposition": "auto",
         "type": "bar",
         "x": [
          "Batang Onang",
          "Dolok",
          "Dolok Sigompulon",
          "Halongonan",
          "Halongonan Timur",
          "Hulu Sihapas",
          "Padang Bolak",
          "Padang Bolak Julu",
          "Padang Bolak Tenggara",
          "Portibi",
          "Simangambat",
          "Ujung Batu"
         ],
         "xaxis": "x5",
         "y": [
          7,
          2,
          3,
          6,
          8,
          5,
          8,
          9,
          5,
          5,
          2,
          2
         ],
         "yaxis": "y5"
        },
        {
         "alignmentgroup": "True",
         "hovertemplate": "Kategori=Jumlah Luka Berat<br>Tahun=2019<br>Kecamatan=%{x}<br>Jumlah=%{y}<extra></extra>",
         "legendgroup": "Jumlah Luka Berat",
         "marker": {
          "color": "#EF553B",
          "pattern": {
           "shape": ""
          }
         },
         "name": "Jumlah Luka Berat",
         "offsetgroup": "Jumlah Luka Berat",
         "orientation": "v",
         "showlegend": true,
         "textposition": "auto",
         "type": "bar",
         "x": [
          "Batang Onang",
          "Dolok",
          "Dolok Sigompulon",
          "Halongonan",
          "Halongonan Timur",
          "Hulu Sihapas",
          "Padang Bolak",
          "Padang Bolak Julu",
          "Padang Bolak Tenggara",
          "Portibi",
          "Simangambat",
          "Ujung Batu"
         ],
         "xaxis": "x",
         "y": [
          17,
          15,
          12,
          6,
          8,
          19,
          12,
          17,
          12,
          10,
          16,
          10
         ],
         "yaxis": "y"
        },
        {
         "alignmentgroup": "True",
         "hovertemplate": "Kategori=Jumlah Luka Berat<br>Tahun=2020<br>Kecamatan=%{x}<br>Jumlah=%{y}<extra></extra>",
         "legendgroup": "Jumlah Luka Berat",
         "marker": {
          "color": "#EF553B",
          "pattern": {
           "shape": ""
          }
         },
         "name": "Jumlah Luka Berat",
         "offsetgroup": "Jumlah Luka Berat",
         "orientation": "v",
         "showlegend": false,
         "textposition": "auto",
         "type": "bar",
         "x": [
          "Batang Onang",
          "Dolok",
          "Dolok Sigompulon",
          "Halongonan",
          "Halongonan Timur",
          "Hulu Sihapas",
          "Padang Bolak",
          "Padang Bolak Julu",
          "Padang Bolak Tenggara",
          "Portibi",
          "Simangambat",
          "Ujung Batu"
         ],
         "xaxis": "x2",
         "y": [
          15,
          12,
          13,
          1,
          1,
          19,
          13,
          17,
          10,
          9,
          9,
          1
         ],
         "yaxis": "y2"
        },
        {
         "alignmentgroup": "True",
         "hovertemplate": "Kategori=Jumlah Luka Berat<br>Tahun=2021<br>Kecamatan=%{x}<br>Jumlah=%{y}<extra></extra>",
         "legendgroup": "Jumlah Luka Berat",
         "marker": {
          "color": "#EF553B",
          "pattern": {
           "shape": ""
          }
         },
         "name": "Jumlah Luka Berat",
         "offsetgroup": "Jumlah Luka Berat",
         "orientation": "v",
         "showlegend": false,
         "textposition": "auto",
         "type": "bar",
         "x": [
          "Batang Onang",
          "Dolok",
          "Dolok Sigompulon",
          "Halongonan",
          "Halongonan Timur",
          "Hulu Sihapas",
          "Padang Bolak",
          "Padang Bolak Julu",
          "Padang Bolak Tenggara",
          "Portibi",
          "Simangambat",
          "Ujung Batu"
         ],
         "xaxis": "x3",
         "y": [
          16,
          17,
          13,
          19,
          18,
          13,
          19,
          4,
          2,
          13,
          14,
          14
         ],
         "yaxis": "y3"
        },
        {
         "alignmentgroup": "True",
         "hovertemplate": "Kategori=Jumlah Luka Berat<br>Tahun=2022<br>Kecamatan=%{x}<br>Jumlah=%{y}<extra></extra>",
         "legendgroup": "Jumlah Luka Berat",
         "marker": {
          "color": "#EF553B",
          "pattern": {
           "shape": ""
          }
         },
         "name": "Jumlah Luka Berat",
         "offsetgroup": "Jumlah Luka Berat",
         "orientation": "v",
         "showlegend": false,
         "textposition": "auto",
         "type": "bar",
         "x": [
          "Batang Onang",
          "Dolok",
          "Dolok Sigompulon",
          "Halongonan",
          "Halongonan Timur",
          "Hulu Sihapas",
          "Padang Bolak",
          "Padang Bolak Julu",
          "Padang Bolak Tenggara",
          "Portibi",
          "Simangambat",
          "Ujung Batu"
         ],
         "xaxis": "x4",
         "y": [
          12,
          18,
          4,
          12,
          16,
          9,
          19,
          8,
          6,
          7,
          3,
          12
         ],
         "yaxis": "y4"
        },
        {
         "alignmentgroup": "True",
         "hovertemplate": "Kategori=Jumlah Luka Berat<br>Tahun=2023<br>Kecamatan=%{x}<br>Jumlah=%{y}<extra></extra>",
         "legendgroup": "Jumlah Luka Berat",
         "marker": {
          "color": "#EF553B",
          "pattern": {
           "shape": ""
          }
         },
         "name": "Jumlah Luka Berat",
         "offsetgroup": "Jumlah Luka Berat",
         "orientation": "v",
         "showlegend": false,
         "textposition": "auto",
         "type": "bar",
         "x": [
          "Batang Onang",
          "Dolok",
          "Dolok Sigompulon",
          "Halongonan",
          "Halongonan Timur",
          "Hulu Sihapas",
          "Padang Bolak",
          "Padang Bolak Julu",
          "Padang Bolak Tenggara",
          "Portibi",
          "Simangambat",
          "Ujung Batu"
         ],
         "xaxis": "x5",
         "y": [
          12,
          10,
          14,
          14,
          18,
          1,
          8,
          14,
          10,
          16,
          7,
          15
         ],
         "yaxis": "y5"
        },
        {
         "alignmentgroup": "True",
         "hovertemplate": "Kategori=Jumlah Luka Ringan<br>Tahun=2019<br>Kecamatan=%{x}<br>Jumlah=%{y}<extra></extra>",
         "legendgroup": "Jumlah Luka Ringan",
         "marker": {
          "color": "#00cc96",
          "pattern": {
           "shape": ""
          }
         },
         "name": "Jumlah Luka Ringan",
         "offsetgroup": "Jumlah Luka Ringan",
         "orientation": "v",
         "showlegend": true,
         "textposition": "auto",
         "type": "bar",
         "x": [
          "Batang Onang",
          "Dolok",
          "Dolok Sigompulon",
          "Halongonan",
          "Halongonan Timur",
          "Hulu Sihapas",
          "Padang Bolak",
          "Padang Bolak Julu",
          "Padang Bolak Tenggara",
          "Portibi",
          "Simangambat",
          "Ujung Batu"
         ],
         "xaxis": "x",
         "y": [
          19,
          33,
          26,
          11,
          34,
          41,
          26,
          17,
          49,
          45,
          42,
          10
         ],
         "yaxis": "y"
        },
        {
         "alignmentgroup": "True",
         "hovertemplate": "Kategori=Jumlah Luka Ringan<br>Tahun=2020<br>Kecamatan=%{x}<br>Jumlah=%{y}<extra></extra>",
         "legendgroup": "Jumlah Luka Ringan",
         "marker": {
          "color": "#00cc96",
          "pattern": {
           "shape": ""
          }
         },
         "name": "Jumlah Luka Ringan",
         "offsetgroup": "Jumlah Luka Ringan",
         "orientation": "v",
         "showlegend": false,
         "textposition": "auto",
         "type": "bar",
         "x": [
          "Batang Onang",
          "Dolok",
          "Dolok Sigompulon",
          "Halongonan",
          "Halongonan Timur",
          "Hulu Sihapas",
          "Padang Bolak",
          "Padang Bolak Julu",
          "Padang Bolak Tenggara",
          "Portibi",
          "Simangambat",
          "Ujung Batu"
         ],
         "xaxis": "x2",
         "y": [
          27,
          47,
          43,
          40,
          17,
          46,
          13,
          44,
          41,
          39,
          42,
          33
         ],
         "yaxis": "y2"
        },
        {
         "alignmentgroup": "True",
         "hovertemplate": "Kategori=Jumlah Luka Ringan<br>Tahun=2021<br>Kecamatan=%{x}<br>Jumlah=%{y}<extra></extra>",
         "legendgroup": "Jumlah Luka Ringan",
         "marker": {
          "color": "#00cc96",
          "pattern": {
           "shape": ""
          }
         },
         "name": "Jumlah Luka Ringan",
         "offsetgroup": "Jumlah Luka Ringan",
         "orientation": "v",
         "showlegend": false,
         "textposition": "auto",
         "type": "bar",
         "x": [
          "Batang Onang",
          "Dolok",
          "Dolok Sigompulon",
          "Halongonan",
          "Halongonan Timur",
          "Hulu Sihapas",
          "Padang Bolak",
          "Padang Bolak Julu",
          "Padang Bolak Tenggara",
          "Portibi",
          "Simangambat",
          "Ujung Batu"
         ],
         "xaxis": "x3",
         "y": [
          13,
          41,
          15,
          14,
          24,
          26,
          31,
          23,
          35,
          32,
          38,
          46
         ],
         "yaxis": "y3"
        },
        {
         "alignmentgroup": "True",
         "hovertemplate": "Kategori=Jumlah Luka Ringan<br>Tahun=2022<br>Kecamatan=%{x}<br>Jumlah=%{y}<extra></extra>",
         "legendgroup": "Jumlah Luka Ringan",
         "marker": {
          "color": "#00cc96",
          "pattern": {
           "shape": ""
          }
         },
         "name": "Jumlah Luka Ringan",
         "offsetgroup": "Jumlah Luka Ringan",
         "orientation": "v",
         "showlegend": false,
         "textposition": "auto",
         "type": "bar",
         "x": [
          "Batang Onang",
          "Dolok",
          "Dolok Sigompulon",
          "Halongonan",
          "Halongonan Timur",
          "Hulu Sihapas",
          "Padang Bolak",
          "Padang Bolak Julu",
          "Padang Bolak Tenggara",
          "Portibi",
          "Simangambat",
          "Ujung Batu"
         ],
         "xaxis": "x4",
         "y": [
          42,
          27,
          11,
          39,
          43,
          24,
          12,
          25,
          42,
          26,
          22,
          25
         ],
         "yaxis": "y4"
        },
        {
         "alignmentgroup": "True",
         "hovertemplate": "Kategori=Jumlah Luka Ringan<br>Tahun=2023<br>Kecamatan=%{x}<br>Jumlah=%{y}<extra></extra>",
         "legendgroup": "Jumlah Luka Ringan",
         "marker": {
          "color": "#00cc96",
          "pattern": {
           "shape": ""
          }
         },
         "name": "Jumlah Luka Ringan",
         "offsetgroup": "Jumlah Luka Ringan",
         "orientation": "v",
         "showlegend": false,
         "textposition": "auto",
         "type": "bar",
         "x": [
          "Batang Onang",
          "Dolok",
          "Dolok Sigompulon",
          "Halongonan",
          "Halongonan Timur",
          "Hulu Sihapas",
          "Padang Bolak",
          "Padang Bolak Julu",
          "Padang Bolak Tenggara",
          "Portibi",
          "Simangambat",
          "Ujung Batu"
         ],
         "xaxis": "x5",
         "y": [
          40,
          29,
          47,
          46,
          21,
          28,
          31,
          34,
          37,
          46,
          14,
          20
         ],
         "yaxis": "y5"
        }
       ],
       "layout": {
        "annotations": [
         {
          "font": {},
          "showarrow": false,
          "text": "Tahun=2019",
          "x": 0.09200000000000001,
          "xanchor": "center",
          "xref": "paper",
          "y": 1,
          "yanchor": "bottom",
          "yref": "paper"
         },
         {
          "font": {},
          "showarrow": false,
          "text": "Tahun=2020",
          "x": 0.29600000000000004,
          "xanchor": "center",
          "xref": "paper",
          "y": 1,
          "yanchor": "bottom",
          "yref": "paper"
         },
         {
          "font": {},
          "showarrow": false,
          "text": "Tahun=2021",
          "x": 0.5,
          "xanchor": "center",
          "xref": "paper",
          "y": 1,
          "yanchor": "bottom",
          "yref": "paper"
         },
         {
          "font": {},
          "showarrow": false,
          "text": "Tahun=2022",
          "x": 0.7040000000000002,
          "xanchor": "center",
          "xref": "paper",
          "y": 1,
          "yanchor": "bottom",
          "yref": "paper"
         },
         {
          "font": {},
          "showarrow": false,
          "text": "Tahun=2023",
          "x": 0.908,
          "xanchor": "center",
          "xref": "paper",
          "y": 1,
          "yanchor": "bottom",
          "yref": "paper"
         }
        ],
        "barmode": "stack",
        "height": 600,
        "legend": {
         "title": {
          "text": "Kategori"
         },
         "tracegroupgap": 0
        },
        "template": {
         "data": {
          "bar": [
           {
            "error_x": {
             "color": "#2a3f5f"
            },
            "error_y": {
             "color": "#2a3f5f"
            },
            "marker": {
             "line": {
              "color": "#E5ECF6",
              "width": 0.5
             },
             "pattern": {
              "fillmode": "overlay",
              "size": 10,
              "solidity": 0.2
             }
            },
            "type": "bar"
           }
          ],
          "barpolar": [
           {
            "marker": {
             "line": {
              "color": "#E5ECF6",
              "width": 0.5
             },
             "pattern": {
              "fillmode": "overlay",
              "size": 10,
              "solidity": 0.2
             }
            },
            "type": "barpolar"
           }
          ],
          "carpet": [
           {
            "aaxis": {
             "endlinecolor": "#2a3f5f",
             "gridcolor": "white",
             "linecolor": "white",
             "minorgridcolor": "white",
             "startlinecolor": "#2a3f5f"
            },
            "baxis": {
             "endlinecolor": "#2a3f5f",
             "gridcolor": "white",
             "linecolor": "white",
             "minorgridcolor": "white",
             "startlinecolor": "#2a3f5f"
            },
            "type": "carpet"
           }
          ],
          "choropleth": [
           {
            "colorbar": {
             "outlinewidth": 0,
             "ticks": ""
            },
            "type": "choropleth"
           }
          ],
          "contour": [
           {
            "colorbar": {
             "outlinewidth": 0,
             "ticks": ""
            },
            "colorscale": [
             [
              0,
              "#0d0887"
             ],
             [
              0.1111111111111111,
              "#46039f"
             ],
             [
              0.2222222222222222,
              "#7201a8"
             ],
             [
              0.3333333333333333,
              "#9c179e"
             ],
             [
              0.4444444444444444,
              "#bd3786"
             ],
             [
              0.5555555555555556,
              "#d8576b"
             ],
             [
              0.6666666666666666,
              "#ed7953"
             ],
             [
              0.7777777777777778,
              "#fb9f3a"
             ],
             [
              0.8888888888888888,
              "#fdca26"
             ],
             [
              1,
              "#f0f921"
             ]
            ],
            "type": "contour"
           }
          ],
          "contourcarpet": [
           {
            "colorbar": {
             "outlinewidth": 0,
             "ticks": ""
            },
            "type": "contourcarpet"
           }
          ],
          "heatmap": [
           {
            "colorbar": {
             "outlinewidth": 0,
             "ticks": ""
            },
            "colorscale": [
             [
              0,
              "#0d0887"
             ],
             [
              0.1111111111111111,
              "#46039f"
             ],
             [
              0.2222222222222222,
              "#7201a8"
             ],
             [
              0.3333333333333333,
              "#9c179e"
             ],
             [
              0.4444444444444444,
              "#bd3786"
             ],
             [
              0.5555555555555556,
              "#d8576b"
             ],
             [
              0.6666666666666666,
              "#ed7953"
             ],
             [
              0.7777777777777778,
              "#fb9f3a"
             ],
             [
              0.8888888888888888,
              "#fdca26"
             ],
             [
              1,
              "#f0f921"
             ]
            ],
            "type": "heatmap"
           }
          ],
          "heatmapgl": [
           {
            "colorbar": {
             "outlinewidth": 0,
             "ticks": ""
            },
            "colorscale": [
             [
              0,
              "#0d0887"
             ],
             [
              0.1111111111111111,
              "#46039f"
             ],
             [
              0.2222222222222222,
              "#7201a8"
             ],
             [
              0.3333333333333333,
              "#9c179e"
             ],
             [
              0.4444444444444444,
              "#bd3786"
             ],
             [
              0.5555555555555556,
              "#d8576b"
             ],
             [
              0.6666666666666666,
              "#ed7953"
             ],
             [
              0.7777777777777778,
              "#fb9f3a"
             ],
             [
              0.8888888888888888,
              "#fdca26"
             ],
             [
              1,
              "#f0f921"
             ]
            ],
            "type": "heatmapgl"
           }
          ],
          "histogram": [
           {
            "marker": {
             "pattern": {
              "fillmode": "overlay",
              "size": 10,
              "solidity": 0.2
             }
            },
            "type": "histogram"
           }
          ],
          "histogram2d": [
           {
            "colorbar": {
             "outlinewidth": 0,
             "ticks": ""
            },
            "colorscale": [
             [
              0,
              "#0d0887"
             ],
             [
              0.1111111111111111,
              "#46039f"
             ],
             [
              0.2222222222222222,
              "#7201a8"
             ],
             [
              0.3333333333333333,
              "#9c179e"
             ],
             [
              0.4444444444444444,
              "#bd3786"
             ],
             [
              0.5555555555555556,
              "#d8576b"
             ],
             [
              0.6666666666666666,
              "#ed7953"
             ],
             [
              0.7777777777777778,
              "#fb9f3a"
             ],
             [
              0.8888888888888888,
              "#fdca26"
             ],
             [
              1,
              "#f0f921"
             ]
            ],
            "type": "histogram2d"
           }
          ],
          "histogram2dcontour": [
           {
            "colorbar": {
             "outlinewidth": 0,
             "ticks": ""
            },
            "colorscale": [
             [
              0,
              "#0d0887"
             ],
             [
              0.1111111111111111,
              "#46039f"
             ],
             [
              0.2222222222222222,
              "#7201a8"
             ],
             [
              0.3333333333333333,
              "#9c179e"
             ],
             [
              0.4444444444444444,
              "#bd3786"
             ],
             [
              0.5555555555555556,
              "#d8576b"
             ],
             [
              0.6666666666666666,
              "#ed7953"
             ],
             [
              0.7777777777777778,
              "#fb9f3a"
             ],
             [
              0.8888888888888888,
              "#fdca26"
             ],
             [
              1,
              "#f0f921"
             ]
            ],
            "type": "histogram2dcontour"
           }
          ],
          "mesh3d": [
           {
            "colorbar": {
             "outlinewidth": 0,
             "ticks": ""
            },
            "type": "mesh3d"
           }
          ],
          "parcoords": [
           {
            "line": {
             "colorbar": {
              "outlinewidth": 0,
              "ticks": ""
             }
            },
            "type": "parcoords"
           }
          ],
          "pie": [
           {
            "automargin": true,
            "type": "pie"
           }
          ],
          "scatter": [
           {
            "fillpattern": {
             "fillmode": "overlay",
             "size": 10,
             "solidity": 0.2
            },
            "type": "scatter"
           }
          ],
          "scatter3d": [
           {
            "line": {
             "colorbar": {
              "outlinewidth": 0,
              "ticks": ""
             }
            },
            "marker": {
             "colorbar": {
              "outlinewidth": 0,
              "ticks": ""
             }
            },
            "type": "scatter3d"
           }
          ],
          "scattercarpet": [
           {
            "marker": {
             "colorbar": {
              "outlinewidth": 0,
              "ticks": ""
             }
            },
            "type": "scattercarpet"
           }
          ],
          "scattergeo": [
           {
            "marker": {
             "colorbar": {
              "outlinewidth": 0,
              "ticks": ""
             }
            },
            "type": "scattergeo"
           }
          ],
          "scattergl": [
           {
            "marker": {
             "colorbar": {
              "outlinewidth": 0,
              "ticks": ""
             }
            },
            "type": "scattergl"
           }
          ],
          "scattermapbox": [
           {
            "marker": {
             "colorbar": {
              "outlinewidth": 0,
              "ticks": ""
             }
            },
            "type": "scattermapbox"
           }
          ],
          "scatterpolar": [
           {
            "marker": {
             "colorbar": {
              "outlinewidth": 0,
              "ticks": ""
             }
            },
            "type": "scatterpolar"
           }
          ],
          "scatterpolargl": [
           {
            "marker": {
             "colorbar": {
              "outlinewidth": 0,
              "ticks": ""
             }
            },
            "type": "scatterpolargl"
           }
          ],
          "scatterternary": [
           {
            "marker": {
             "colorbar": {
              "outlinewidth": 0,
              "ticks": ""
             }
            },
            "type": "scatterternary"
           }
          ],
          "surface": [
           {
            "colorbar": {
             "outlinewidth": 0,
             "ticks": ""
            },
            "colorscale": [
             [
              0,
              "#0d0887"
             ],
             [
              0.1111111111111111,
              "#46039f"
             ],
             [
              0.2222222222222222,
              "#7201a8"
             ],
             [
              0.3333333333333333,
              "#9c179e"
             ],
             [
              0.4444444444444444,
              "#bd3786"
             ],
             [
              0.5555555555555556,
              "#d8576b"
             ],
             [
              0.6666666666666666,
              "#ed7953"
             ],
             [
              0.7777777777777778,
              "#fb9f3a"
             ],
             [
              0.8888888888888888,
              "#fdca26"
             ],
             [
              1,
              "#f0f921"
             ]
            ],
            "type": "surface"
           }
          ],
          "table": [
           {
            "cells": {
             "fill": {
              "color": "#EBF0F8"
             },
             "line": {
              "color": "white"
             }
            },
            "header": {
             "fill": {
              "color": "#C8D4E3"
             },
             "line": {
              "color": "white"
             }
            },
            "type": "table"
           }
          ]
         },
         "layout": {
          "annotationdefaults": {
           "arrowcolor": "#2a3f5f",
           "arrowhead": 0,
           "arrowwidth": 1
          },
          "autotypenumbers": "strict",
          "coloraxis": {
           "colorbar": {
            "outlinewidth": 0,
            "ticks": ""
           }
          },
          "colorscale": {
           "diverging": [
            [
             0,
             "#8e0152"
            ],
            [
             0.1,
             "#c51b7d"
            ],
            [
             0.2,
             "#de77ae"
            ],
            [
             0.3,
             "#f1b6da"
            ],
            [
             0.4,
             "#fde0ef"
            ],
            [
             0.5,
             "#f7f7f7"
            ],
            [
             0.6,
             "#e6f5d0"
            ],
            [
             0.7,
             "#b8e186"
            ],
            [
             0.8,
             "#7fbc41"
            ],
            [
             0.9,
             "#4d9221"
            ],
            [
             1,
             "#276419"
            ]
           ],
           "sequential": [
            [
             0,
             "#0d0887"
            ],
            [
             0.1111111111111111,
             "#46039f"
            ],
            [
             0.2222222222222222,
             "#7201a8"
            ],
            [
             0.3333333333333333,
             "#9c179e"
            ],
            [
             0.4444444444444444,
             "#bd3786"
            ],
            [
             0.5555555555555556,
             "#d8576b"
            ],
            [
             0.6666666666666666,
             "#ed7953"
            ],
            [
             0.7777777777777778,
             "#fb9f3a"
            ],
            [
             0.8888888888888888,
             "#fdca26"
            ],
            [
             1,
             "#f0f921"
            ]
           ],
           "sequentialminus": [
            [
             0,
             "#0d0887"
            ],
            [
             0.1111111111111111,
             "#46039f"
            ],
            [
             0.2222222222222222,
             "#7201a8"
            ],
            [
             0.3333333333333333,
             "#9c179e"
            ],
            [
             0.4444444444444444,
             "#bd3786"
            ],
            [
             0.5555555555555556,
             "#d8576b"
            ],
            [
             0.6666666666666666,
             "#ed7953"
            ],
            [
             0.7777777777777778,
             "#fb9f3a"
            ],
            [
             0.8888888888888888,
             "#fdca26"
            ],
            [
             1,
             "#f0f921"
            ]
           ]
          },
          "colorway": [
           "#636efa",
           "#EF553B",
           "#00cc96",
           "#ab63fa",
           "#FFA15A",
           "#19d3f3",
           "#FF6692",
           "#B6E880",
           "#FF97FF",
           "#FECB52"
          ],
          "font": {
           "color": "#2a3f5f"
          },
          "geo": {
           "bgcolor": "white",
           "lakecolor": "white",
           "landcolor": "#E5ECF6",
           "showlakes": true,
           "showland": true,
           "subunitcolor": "white"
          },
          "hoverlabel": {
           "align": "left"
          },
          "hovermode": "closest",
          "mapbox": {
           "style": "light"
          },
          "paper_bgcolor": "white",
          "plot_bgcolor": "#E5ECF6",
          "polar": {
           "angularaxis": {
            "gridcolor": "white",
            "linecolor": "white",
            "ticks": ""
           },
           "bgcolor": "#E5ECF6",
           "radialaxis": {
            "gridcolor": "white",
            "linecolor": "white",
            "ticks": ""
           }
          },
          "scene": {
           "xaxis": {
            "backgroundcolor": "#E5ECF6",
            "gridcolor": "white",
            "gridwidth": 2,
            "linecolor": "white",
            "showbackground": true,
            "ticks": "",
            "zerolinecolor": "white"
           },
           "yaxis": {
            "backgroundcolor": "#E5ECF6",
            "gridcolor": "white",
            "gridwidth": 2,
            "linecolor": "white",
            "showbackground": true,
            "ticks": "",
            "zerolinecolor": "white"
           },
           "zaxis": {
            "backgroundcolor": "#E5ECF6",
            "gridcolor": "white",
            "gridwidth": 2,
            "linecolor": "white",
            "showbackground": true,
            "ticks": "",
            "zerolinecolor": "white"
           }
          },
          "shapedefaults": {
           "line": {
            "color": "#2a3f5f"
           }
          },
          "ternary": {
           "aaxis": {
            "gridcolor": "white",
            "linecolor": "white",
            "ticks": ""
           },
           "baxis": {
            "gridcolor": "white",
            "linecolor": "white",
            "ticks": ""
           },
           "bgcolor": "#E5ECF6",
           "caxis": {
            "gridcolor": "white",
            "linecolor": "white",
            "ticks": ""
           }
          },
          "title": {
           "x": 0.05
          },
          "xaxis": {
           "automargin": true,
           "gridcolor": "white",
           "linecolor": "white",
           "ticks": "",
           "title": {
            "standoff": 15
           },
           "zerolinecolor": "white",
           "zerolinewidth": 2
          },
          "yaxis": {
           "automargin": true,
           "gridcolor": "white",
           "linecolor": "white",
           "ticks": "",
           "title": {
            "standoff": 15
           },
           "zerolinecolor": "white",
           "zerolinewidth": 2
          }
         }
        },
        "title": {
         "text": "Jumlah Meninggal, Luka Berat, dan Luka Ringan Per Tahun Berdasarkan Kecamatan"
        },
        "xaxis": {
         "anchor": "y",
         "domain": [
          0,
          0.18400000000000002
         ],
         "tickangle": 45,
         "title": {
          "text": "Kecamatan"
         }
        },
        "xaxis2": {
         "anchor": "y2",
         "domain": [
          0.20400000000000001,
          0.388
         ],
         "matches": "x",
         "tickangle": 45,
         "title": {
          "text": "Kecamatan"
         }
        },
        "xaxis3": {
         "anchor": "y3",
         "domain": [
          0.40800000000000003,
          0.5920000000000001
         ],
         "matches": "x",
         "tickangle": 45,
         "title": {
          "text": "Kecamatan"
         }
        },
        "xaxis4": {
         "anchor": "y4",
         "domain": [
          0.6120000000000001,
          0.7960000000000002
         ],
         "matches": "x",
         "tickangle": 45,
         "title": {
          "text": "Kecamatan"
         }
        },
        "xaxis5": {
         "anchor": "y5",
         "domain": [
          0.8160000000000001,
          1
         ],
         "matches": "x",
         "tickangle": 45,
         "title": {
          "text": "Kecamatan"
         }
        },
        "yaxis": {
         "anchor": "x",
         "domain": [
          0,
          1
         ],
         "title": {
          "text": "Jumlah"
         }
        },
        "yaxis2": {
         "anchor": "x2",
         "domain": [
          0,
          1
         ],
         "matches": "y",
         "showticklabels": false
        },
        "yaxis3": {
         "anchor": "x3",
         "domain": [
          0,
          1
         ],
         "matches": "y",
         "showticklabels": false
        },
        "yaxis4": {
         "anchor": "x4",
         "domain": [
          0,
          1
         ],
         "matches": "y",
         "showticklabels": false
        },
        "yaxis5": {
         "anchor": "x5",
         "domain": [
          0,
          1
         ],
         "matches": "y",
         "showticklabels": false
        }
       }
      }
     },
     "metadata": {},
     "output_type": "display_data"
    }
   ],
   "source": [
    "import plotly.express as px\n",
    "# Mengelompokkan data berdasarkan kecamatan, tahun, dan menghitung jumlahnya\n",
    "summary_by_year_kecamatan = df.groupby(['Tahun', 'Kecamatan']).agg({\n",
    "    'Jumlah Meninggal': 'sum',\n",
    "    'Jumlah Luka Berat': 'sum',\n",
    "    'Jumlah Luka Ringan': 'sum'\n",
    "}).reset_index()\n",
    "\n",
    "# Membuat data dalam format long untuk visualisasi\n",
    "summary_melted = summary_by_year_kecamatan.melt(id_vars=['Tahun', 'Kecamatan'], \n",
    "                                                value_vars=['Jumlah Meninggal', 'Jumlah Luka Berat', 'Jumlah Luka Ringan'],\n",
    "                                                var_name='Kategori', value_name='Jumlah')\n",
    "\n",
    "# Plot jumlah meninggal, luka berat, dan luka ringan per tahun berdasarkan kecamatan dalam satu grafik stacked bar chart\n",
    "fig = px.bar(summary_melted, x='Kecamatan', y='Jumlah', color='Kategori', barmode='stack',\n",
    "             facet_col='Tahun', height=600, title='Jumlah Meninggal, Luka Berat, dan Luka Ringan Per Tahun Berdasarkan Kecamatan')\n",
    "fig.update_layout(xaxis_title='Kecamatan', yaxis_title='Jumlah', legend_title='Kategori')\n",
    "fig.update_xaxes(tickangle=45)\n",
    "fig.show()"
   ]
  },
  {
   "cell_type": "code",
   "execution_count": 18,
   "metadata": {},
   "outputs": [
    {
     "data": {
      "application/vnd.plotly.v1+json": {
       "config": {
        "plotlyServerURL": "https://plot.ly"
       },
       "data": [
        {
         "hovertemplate": "Kecamatan=Batang Onang<br>Tahun=%{x}<br>Total Kecelakaan=%{y}<extra></extra>",
         "legendgroup": "Batang Onang",
         "line": {
          "color": "#636efa",
          "dash": "solid"
         },
         "marker": {
          "symbol": "circle"
         },
         "mode": "lines",
         "name": "Batang Onang",
         "orientation": "v",
         "showlegend": true,
         "type": "scatter",
         "x": [
          2019,
          2020,
          2021,
          2022,
          2023
         ],
         "xaxis": "x",
         "y": [
          93,
          196,
          82,
          199,
          183
         ],
         "yaxis": "y"
        },
        {
         "hovertemplate": "Kecamatan=Dolok<br>Tahun=%{x}<br>Total Kecelakaan=%{y}<extra></extra>",
         "legendgroup": "Dolok",
         "line": {
          "color": "#EF553B",
          "dash": "solid"
         },
         "marker": {
          "symbol": "circle"
         },
         "mode": "lines",
         "name": "Dolok",
         "orientation": "v",
         "showlegend": true,
         "type": "scatter",
         "x": [
          2019,
          2020,
          2021,
          2022,
          2023
         ],
         "xaxis": "x",
         "y": [
          103,
          103,
          104,
          78,
          199
         ],
         "yaxis": "y"
        },
        {
         "hovertemplate": "Kecamatan=Dolok Sigompulon<br>Tahun=%{x}<br>Total Kecelakaan=%{y}<extra></extra>",
         "legendgroup": "Dolok Sigompulon",
         "line": {
          "color": "#00cc96",
          "dash": "solid"
         },
         "marker": {
          "symbol": "circle"
         },
         "mode": "lines",
         "name": "Dolok Sigompulon",
         "orientation": "v",
         "showlegend": true,
         "type": "scatter",
         "x": [
          2019,
          2020,
          2021,
          2022,
          2023
         ],
         "xaxis": "x",
         "y": [
          56,
          140,
          76,
          177,
          71
         ],
         "yaxis": "y"
        },
        {
         "hovertemplate": "Kecamatan=Halongonan<br>Tahun=%{x}<br>Total Kecelakaan=%{y}<extra></extra>",
         "legendgroup": "Halongonan",
         "line": {
          "color": "#ab63fa",
          "dash": "solid"
         },
         "marker": {
          "symbol": "circle"
         },
         "mode": "lines",
         "name": "Halongonan",
         "orientation": "v",
         "showlegend": true,
         "type": "scatter",
         "x": [
          2019,
          2020,
          2021,
          2022,
          2023
         ],
         "xaxis": "x",
         "y": [
          91,
          91,
          117,
          117,
          151
         ],
         "yaxis": "y"
        },
        {
         "hovertemplate": "Kecamatan=Halongonan Timur<br>Tahun=%{x}<br>Total Kecelakaan=%{y}<extra></extra>",
         "legendgroup": "Halongonan Timur",
         "line": {
          "color": "#FFA15A",
          "dash": "solid"
         },
         "marker": {
          "symbol": "circle"
         },
         "mode": "lines",
         "name": "Halongonan Timur",
         "orientation": "v",
         "showlegend": true,
         "type": "scatter",
         "x": [
          2019,
          2020,
          2021,
          2022,
          2023
         ],
         "xaxis": "x",
         "y": [
          127,
          124,
          152,
          127,
          62
         ],
         "yaxis": "y"
        },
        {
         "hovertemplate": "Kecamatan=Hulu Sihapas<br>Tahun=%{x}<br>Total Kecelakaan=%{y}<extra></extra>",
         "legendgroup": "Hulu Sihapas",
         "line": {
          "color": "#19d3f3",
          "dash": "solid"
         },
         "marker": {
          "symbol": "circle"
         },
         "mode": "lines",
         "name": "Hulu Sihapas",
         "orientation": "v",
         "showlegend": true,
         "type": "scatter",
         "x": [
          2019,
          2020,
          2021,
          2022,
          2023
         ],
         "xaxis": "x",
         "y": [
          165,
          90,
          150,
          109,
          74
         ],
         "yaxis": "y"
        },
        {
         "hovertemplate": "Kecamatan=Padang Bolak<br>Tahun=%{x}<br>Total Kecelakaan=%{y}<extra></extra>",
         "legendgroup": "Padang Bolak",
         "line": {
          "color": "#FF6692",
          "dash": "solid"
         },
         "marker": {
          "symbol": "circle"
         },
         "mode": "lines",
         "name": "Padang Bolak",
         "orientation": "v",
         "showlegend": true,
         "type": "scatter",
         "x": [
          2019,
          2020,
          2021,
          2022,
          2023
         ],
         "xaxis": "x",
         "y": [
          169,
          90,
          63,
          131,
          60
         ],
         "yaxis": "y"
        },
        {
         "hovertemplate": "Kecamatan=Padang Bolak Julu<br>Tahun=%{x}<br>Total Kecelakaan=%{y}<extra></extra>",
         "legendgroup": "Padang Bolak Julu",
         "line": {
          "color": "#B6E880",
          "dash": "solid"
         },
         "marker": {
          "symbol": "circle"
         },
         "mode": "lines",
         "name": "Padang Bolak Julu",
         "orientation": "v",
         "showlegend": true,
         "type": "scatter",
         "x": [
          2019,
          2020,
          2021,
          2022,
          2023
         ],
         "xaxis": "x",
         "y": [
          92,
          155,
          78,
          100,
          197
         ],
         "yaxis": "y"
        },
        {
         "hovertemplate": "Kecamatan=Padang Bolak Tenggara<br>Tahun=%{x}<br>Total Kecelakaan=%{y}<extra></extra>",
         "legendgroup": "Padang Bolak Tenggara",
         "line": {
          "color": "#FF97FF",
          "dash": "solid"
         },
         "marker": {
          "symbol": "circle"
         },
         "mode": "lines",
         "name": "Padang Bolak Tenggara",
         "orientation": "v",
         "showlegend": true,
         "type": "scatter",
         "x": [
          2019,
          2020,
          2021,
          2022,
          2023
         ],
         "xaxis": "x",
         "y": [
          124,
          77,
          136,
          78,
          161
         ],
         "yaxis": "y"
        },
        {
         "hovertemplate": "Kecamatan=Portibi<br>Tahun=%{x}<br>Total Kecelakaan=%{y}<extra></extra>",
         "legendgroup": "Portibi",
         "line": {
          "color": "#FECB52",
          "dash": "solid"
         },
         "marker": {
          "symbol": "circle"
         },
         "mode": "lines",
         "name": "Portibi",
         "orientation": "v",
         "showlegend": true,
         "type": "scatter",
         "x": [
          2019,
          2020,
          2021,
          2022,
          2023
         ],
         "xaxis": "x",
         "y": [
          153,
          182,
          137,
          69,
          99
         ],
         "yaxis": "y"
        },
        {
         "hovertemplate": "Kecamatan=Simangambat<br>Tahun=%{x}<br>Total Kecelakaan=%{y}<extra></extra>",
         "legendgroup": "Simangambat",
         "line": {
          "color": "#636efa",
          "dash": "solid"
         },
         "marker": {
          "symbol": "circle"
         },
         "mode": "lines",
         "name": "Simangambat",
         "orientation": "v",
         "showlegend": true,
         "type": "scatter",
         "x": [
          2019,
          2020,
          2021,
          2022,
          2023
         ],
         "xaxis": "x",
         "y": [
          55,
          80,
          55,
          176,
          169
         ],
         "yaxis": "y"
        },
        {
         "hovertemplate": "Kecamatan=Ujung Batu<br>Tahun=%{x}<br>Total Kecelakaan=%{y}<extra></extra>",
         "legendgroup": "Ujung Batu",
         "line": {
          "color": "#EF553B",
          "dash": "solid"
         },
         "marker": {
          "symbol": "circle"
         },
         "mode": "lines",
         "name": "Ujung Batu",
         "orientation": "v",
         "showlegend": true,
         "type": "scatter",
         "x": [
          2019,
          2020,
          2021,
          2022,
          2023
         ],
         "xaxis": "x",
         "y": [
          70,
          182,
          76,
          90,
          102
         ],
         "yaxis": "y"
        }
       ],
       "layout": {
        "legend": {
         "title": {
          "text": "Kecamatan"
         },
         "tracegroupgap": 0
        },
        "template": {
         "data": {
          "bar": [
           {
            "error_x": {
             "color": "#2a3f5f"
            },
            "error_y": {
             "color": "#2a3f5f"
            },
            "marker": {
             "line": {
              "color": "#E5ECF6",
              "width": 0.5
             },
             "pattern": {
              "fillmode": "overlay",
              "size": 10,
              "solidity": 0.2
             }
            },
            "type": "bar"
           }
          ],
          "barpolar": [
           {
            "marker": {
             "line": {
              "color": "#E5ECF6",
              "width": 0.5
             },
             "pattern": {
              "fillmode": "overlay",
              "size": 10,
              "solidity": 0.2
             }
            },
            "type": "barpolar"
           }
          ],
          "carpet": [
           {
            "aaxis": {
             "endlinecolor": "#2a3f5f",
             "gridcolor": "white",
             "linecolor": "white",
             "minorgridcolor": "white",
             "startlinecolor": "#2a3f5f"
            },
            "baxis": {
             "endlinecolor": "#2a3f5f",
             "gridcolor": "white",
             "linecolor": "white",
             "minorgridcolor": "white",
             "startlinecolor": "#2a3f5f"
            },
            "type": "carpet"
           }
          ],
          "choropleth": [
           {
            "colorbar": {
             "outlinewidth": 0,
             "ticks": ""
            },
            "type": "choropleth"
           }
          ],
          "contour": [
           {
            "colorbar": {
             "outlinewidth": 0,
             "ticks": ""
            },
            "colorscale": [
             [
              0,
              "#0d0887"
             ],
             [
              0.1111111111111111,
              "#46039f"
             ],
             [
              0.2222222222222222,
              "#7201a8"
             ],
             [
              0.3333333333333333,
              "#9c179e"
             ],
             [
              0.4444444444444444,
              "#bd3786"
             ],
             [
              0.5555555555555556,
              "#d8576b"
             ],
             [
              0.6666666666666666,
              "#ed7953"
             ],
             [
              0.7777777777777778,
              "#fb9f3a"
             ],
             [
              0.8888888888888888,
              "#fdca26"
             ],
             [
              1,
              "#f0f921"
             ]
            ],
            "type": "contour"
           }
          ],
          "contourcarpet": [
           {
            "colorbar": {
             "outlinewidth": 0,
             "ticks": ""
            },
            "type": "contourcarpet"
           }
          ],
          "heatmap": [
           {
            "colorbar": {
             "outlinewidth": 0,
             "ticks": ""
            },
            "colorscale": [
             [
              0,
              "#0d0887"
             ],
             [
              0.1111111111111111,
              "#46039f"
             ],
             [
              0.2222222222222222,
              "#7201a8"
             ],
             [
              0.3333333333333333,
              "#9c179e"
             ],
             [
              0.4444444444444444,
              "#bd3786"
             ],
             [
              0.5555555555555556,
              "#d8576b"
             ],
             [
              0.6666666666666666,
              "#ed7953"
             ],
             [
              0.7777777777777778,
              "#fb9f3a"
             ],
             [
              0.8888888888888888,
              "#fdca26"
             ],
             [
              1,
              "#f0f921"
             ]
            ],
            "type": "heatmap"
           }
          ],
          "heatmapgl": [
           {
            "colorbar": {
             "outlinewidth": 0,
             "ticks": ""
            },
            "colorscale": [
             [
              0,
              "#0d0887"
             ],
             [
              0.1111111111111111,
              "#46039f"
             ],
             [
              0.2222222222222222,
              "#7201a8"
             ],
             [
              0.3333333333333333,
              "#9c179e"
             ],
             [
              0.4444444444444444,
              "#bd3786"
             ],
             [
              0.5555555555555556,
              "#d8576b"
             ],
             [
              0.6666666666666666,
              "#ed7953"
             ],
             [
              0.7777777777777778,
              "#fb9f3a"
             ],
             [
              0.8888888888888888,
              "#fdca26"
             ],
             [
              1,
              "#f0f921"
             ]
            ],
            "type": "heatmapgl"
           }
          ],
          "histogram": [
           {
            "marker": {
             "pattern": {
              "fillmode": "overlay",
              "size": 10,
              "solidity": 0.2
             }
            },
            "type": "histogram"
           }
          ],
          "histogram2d": [
           {
            "colorbar": {
             "outlinewidth": 0,
             "ticks": ""
            },
            "colorscale": [
             [
              0,
              "#0d0887"
             ],
             [
              0.1111111111111111,
              "#46039f"
             ],
             [
              0.2222222222222222,
              "#7201a8"
             ],
             [
              0.3333333333333333,
              "#9c179e"
             ],
             [
              0.4444444444444444,
              "#bd3786"
             ],
             [
              0.5555555555555556,
              "#d8576b"
             ],
             [
              0.6666666666666666,
              "#ed7953"
             ],
             [
              0.7777777777777778,
              "#fb9f3a"
             ],
             [
              0.8888888888888888,
              "#fdca26"
             ],
             [
              1,
              "#f0f921"
             ]
            ],
            "type": "histogram2d"
           }
          ],
          "histogram2dcontour": [
           {
            "colorbar": {
             "outlinewidth": 0,
             "ticks": ""
            },
            "colorscale": [
             [
              0,
              "#0d0887"
             ],
             [
              0.1111111111111111,
              "#46039f"
             ],
             [
              0.2222222222222222,
              "#7201a8"
             ],
             [
              0.3333333333333333,
              "#9c179e"
             ],
             [
              0.4444444444444444,
              "#bd3786"
             ],
             [
              0.5555555555555556,
              "#d8576b"
             ],
             [
              0.6666666666666666,
              "#ed7953"
             ],
             [
              0.7777777777777778,
              "#fb9f3a"
             ],
             [
              0.8888888888888888,
              "#fdca26"
             ],
             [
              1,
              "#f0f921"
             ]
            ],
            "type": "histogram2dcontour"
           }
          ],
          "mesh3d": [
           {
            "colorbar": {
             "outlinewidth": 0,
             "ticks": ""
            },
            "type": "mesh3d"
           }
          ],
          "parcoords": [
           {
            "line": {
             "colorbar": {
              "outlinewidth": 0,
              "ticks": ""
             }
            },
            "type": "parcoords"
           }
          ],
          "pie": [
           {
            "automargin": true,
            "type": "pie"
           }
          ],
          "scatter": [
           {
            "fillpattern": {
             "fillmode": "overlay",
             "size": 10,
             "solidity": 0.2
            },
            "type": "scatter"
           }
          ],
          "scatter3d": [
           {
            "line": {
             "colorbar": {
              "outlinewidth": 0,
              "ticks": ""
             }
            },
            "marker": {
             "colorbar": {
              "outlinewidth": 0,
              "ticks": ""
             }
            },
            "type": "scatter3d"
           }
          ],
          "scattercarpet": [
           {
            "marker": {
             "colorbar": {
              "outlinewidth": 0,
              "ticks": ""
             }
            },
            "type": "scattercarpet"
           }
          ],
          "scattergeo": [
           {
            "marker": {
             "colorbar": {
              "outlinewidth": 0,
              "ticks": ""
             }
            },
            "type": "scattergeo"
           }
          ],
          "scattergl": [
           {
            "marker": {
             "colorbar": {
              "outlinewidth": 0,
              "ticks": ""
             }
            },
            "type": "scattergl"
           }
          ],
          "scattermapbox": [
           {
            "marker": {
             "colorbar": {
              "outlinewidth": 0,
              "ticks": ""
             }
            },
            "type": "scattermapbox"
           }
          ],
          "scatterpolar": [
           {
            "marker": {
             "colorbar": {
              "outlinewidth": 0,
              "ticks": ""
             }
            },
            "type": "scatterpolar"
           }
          ],
          "scatterpolargl": [
           {
            "marker": {
             "colorbar": {
              "outlinewidth": 0,
              "ticks": ""
             }
            },
            "type": "scatterpolargl"
           }
          ],
          "scatterternary": [
           {
            "marker": {
             "colorbar": {
              "outlinewidth": 0,
              "ticks": ""
             }
            },
            "type": "scatterternary"
           }
          ],
          "surface": [
           {
            "colorbar": {
             "outlinewidth": 0,
             "ticks": ""
            },
            "colorscale": [
             [
              0,
              "#0d0887"
             ],
             [
              0.1111111111111111,
              "#46039f"
             ],
             [
              0.2222222222222222,
              "#7201a8"
             ],
             [
              0.3333333333333333,
              "#9c179e"
             ],
             [
              0.4444444444444444,
              "#bd3786"
             ],
             [
              0.5555555555555556,
              "#d8576b"
             ],
             [
              0.6666666666666666,
              "#ed7953"
             ],
             [
              0.7777777777777778,
              "#fb9f3a"
             ],
             [
              0.8888888888888888,
              "#fdca26"
             ],
             [
              1,
              "#f0f921"
             ]
            ],
            "type": "surface"
           }
          ],
          "table": [
           {
            "cells": {
             "fill": {
              "color": "#EBF0F8"
             },
             "line": {
              "color": "white"
             }
            },
            "header": {
             "fill": {
              "color": "#C8D4E3"
             },
             "line": {
              "color": "white"
             }
            },
            "type": "table"
           }
          ]
         },
         "layout": {
          "annotationdefaults": {
           "arrowcolor": "#2a3f5f",
           "arrowhead": 0,
           "arrowwidth": 1
          },
          "autotypenumbers": "strict",
          "coloraxis": {
           "colorbar": {
            "outlinewidth": 0,
            "ticks": ""
           }
          },
          "colorscale": {
           "diverging": [
            [
             0,
             "#8e0152"
            ],
            [
             0.1,
             "#c51b7d"
            ],
            [
             0.2,
             "#de77ae"
            ],
            [
             0.3,
             "#f1b6da"
            ],
            [
             0.4,
             "#fde0ef"
            ],
            [
             0.5,
             "#f7f7f7"
            ],
            [
             0.6,
             "#e6f5d0"
            ],
            [
             0.7,
             "#b8e186"
            ],
            [
             0.8,
             "#7fbc41"
            ],
            [
             0.9,
             "#4d9221"
            ],
            [
             1,
             "#276419"
            ]
           ],
           "sequential": [
            [
             0,
             "#0d0887"
            ],
            [
             0.1111111111111111,
             "#46039f"
            ],
            [
             0.2222222222222222,
             "#7201a8"
            ],
            [
             0.3333333333333333,
             "#9c179e"
            ],
            [
             0.4444444444444444,
             "#bd3786"
            ],
            [
             0.5555555555555556,
             "#d8576b"
            ],
            [
             0.6666666666666666,
             "#ed7953"
            ],
            [
             0.7777777777777778,
             "#fb9f3a"
            ],
            [
             0.8888888888888888,
             "#fdca26"
            ],
            [
             1,
             "#f0f921"
            ]
           ],
           "sequentialminus": [
            [
             0,
             "#0d0887"
            ],
            [
             0.1111111111111111,
             "#46039f"
            ],
            [
             0.2222222222222222,
             "#7201a8"
            ],
            [
             0.3333333333333333,
             "#9c179e"
            ],
            [
             0.4444444444444444,
             "#bd3786"
            ],
            [
             0.5555555555555556,
             "#d8576b"
            ],
            [
             0.6666666666666666,
             "#ed7953"
            ],
            [
             0.7777777777777778,
             "#fb9f3a"
            ],
            [
             0.8888888888888888,
             "#fdca26"
            ],
            [
             1,
             "#f0f921"
            ]
           ]
          },
          "colorway": [
           "#636efa",
           "#EF553B",
           "#00cc96",
           "#ab63fa",
           "#FFA15A",
           "#19d3f3",
           "#FF6692",
           "#B6E880",
           "#FF97FF",
           "#FECB52"
          ],
          "font": {
           "color": "#2a3f5f"
          },
          "geo": {
           "bgcolor": "white",
           "lakecolor": "white",
           "landcolor": "#E5ECF6",
           "showlakes": true,
           "showland": true,
           "subunitcolor": "white"
          },
          "hoverlabel": {
           "align": "left"
          },
          "hovermode": "closest",
          "mapbox": {
           "style": "light"
          },
          "paper_bgcolor": "white",
          "plot_bgcolor": "#E5ECF6",
          "polar": {
           "angularaxis": {
            "gridcolor": "white",
            "linecolor": "white",
            "ticks": ""
           },
           "bgcolor": "#E5ECF6",
           "radialaxis": {
            "gridcolor": "white",
            "linecolor": "white",
            "ticks": ""
           }
          },
          "scene": {
           "xaxis": {
            "backgroundcolor": "#E5ECF6",
            "gridcolor": "white",
            "gridwidth": 2,
            "linecolor": "white",
            "showbackground": true,
            "ticks": "",
            "zerolinecolor": "white"
           },
           "yaxis": {
            "backgroundcolor": "#E5ECF6",
            "gridcolor": "white",
            "gridwidth": 2,
            "linecolor": "white",
            "showbackground": true,
            "ticks": "",
            "zerolinecolor": "white"
           },
           "zaxis": {
            "backgroundcolor": "#E5ECF6",
            "gridcolor": "white",
            "gridwidth": 2,
            "linecolor": "white",
            "showbackground": true,
            "ticks": "",
            "zerolinecolor": "white"
           }
          },
          "shapedefaults": {
           "line": {
            "color": "#2a3f5f"
           }
          },
          "ternary": {
           "aaxis": {
            "gridcolor": "white",
            "linecolor": "white",
            "ticks": ""
           },
           "baxis": {
            "gridcolor": "white",
            "linecolor": "white",
            "ticks": ""
           },
           "bgcolor": "#E5ECF6",
           "caxis": {
            "gridcolor": "white",
            "linecolor": "white",
            "ticks": ""
           }
          },
          "title": {
           "x": 0.05
          },
          "xaxis": {
           "automargin": true,
           "gridcolor": "white",
           "linecolor": "white",
           "ticks": "",
           "title": {
            "standoff": 15
           },
           "zerolinecolor": "white",
           "zerolinewidth": 2
          },
          "yaxis": {
           "automargin": true,
           "gridcolor": "white",
           "linecolor": "white",
           "ticks": "",
           "title": {
            "standoff": 15
           },
           "zerolinecolor": "white",
           "zerolinewidth": 2
          }
         }
        },
        "title": {
         "text": "Perkembangan Total Kecelakaan Per Tahun Berdasarkan Kecamatan"
        },
        "xaxis": {
         "anchor": "y",
         "domain": [
          0,
          1
         ],
         "title": {
          "text": "Tahun"
         }
        },
        "yaxis": {
         "anchor": "x",
         "domain": [
          0,
          1
         ],
         "title": {
          "text": "Total Kecelakaan"
         }
        }
       }
      }
     },
     "metadata": {},
     "output_type": "display_data"
    }
   ],
   "source": [
    "# Mengelompokkan data berdasarkan kecamatan, tahun, dan menghitung total kecelakaan\n",
    "total_accidents_by_year_kecamatan = df.groupby(['Tahun', 'Kecamatan']).agg({\n",
    "    'Jumlah Kecelakaan': 'sum'\n",
    "}).reset_index()\n",
    "\n",
    "# Plot perkembangan total kecelakaan per tahun berdasarkan kecamatan dalam satu grafik line chart\n",
    "fig = px.line(total_accidents_by_year_kecamatan, x='Tahun', y='Jumlah Kecelakaan', color='Kecamatan',\n",
    "              title='Perkembangan Total Kecelakaan Per Tahun Berdasarkan Kecamatan',\n",
    "              labels={'Jumlah Kecelakaan': 'Total Kecelakaan'})\n",
    "fig.update_layout(xaxis_title='Tahun', yaxis_title='Total Kecelakaan', legend_title='Kecamatan')\n",
    "fig.show()"
   ]
  },
  {
   "cell_type": "code",
   "execution_count": 20,
   "metadata": {},
   "outputs": [
    {
     "name": "stderr",
     "output_type": "stream",
     "text": [
      "c:\\Users\\User\\anaconda3\\Lib\\site-packages\\sklearn\\cluster\\_kmeans.py:1436: UserWarning:\n",
      "\n",
      "KMeans is known to have a memory leak on Windows with MKL, when there are less chunks than available threads. You can avoid it by setting the environment variable OMP_NUM_THREADS=1.\n",
      "\n",
      "c:\\Users\\User\\anaconda3\\Lib\\site-packages\\sklearn\\cluster\\_kmeans.py:1436: UserWarning:\n",
      "\n",
      "KMeans is known to have a memory leak on Windows with MKL, when there are less chunks than available threads. You can avoid it by setting the environment variable OMP_NUM_THREADS=1.\n",
      "\n",
      "c:\\Users\\User\\anaconda3\\Lib\\site-packages\\sklearn\\cluster\\_kmeans.py:1436: UserWarning:\n",
      "\n",
      "KMeans is known to have a memory leak on Windows with MKL, when there are less chunks than available threads. You can avoid it by setting the environment variable OMP_NUM_THREADS=1.\n",
      "\n",
      "c:\\Users\\User\\anaconda3\\Lib\\site-packages\\sklearn\\cluster\\_kmeans.py:1436: UserWarning:\n",
      "\n",
      "KMeans is known to have a memory leak on Windows with MKL, when there are less chunks than available threads. You can avoid it by setting the environment variable OMP_NUM_THREADS=1.\n",
      "\n",
      "c:\\Users\\User\\anaconda3\\Lib\\site-packages\\sklearn\\cluster\\_kmeans.py:1436: UserWarning:\n",
      "\n",
      "KMeans is known to have a memory leak on Windows with MKL, when there are less chunks than available threads. You can avoid it by setting the environment variable OMP_NUM_THREADS=1.\n",
      "\n",
      "c:\\Users\\User\\anaconda3\\Lib\\site-packages\\sklearn\\cluster\\_kmeans.py:1436: UserWarning:\n",
      "\n",
      "KMeans is known to have a memory leak on Windows with MKL, when there are less chunks than available threads. You can avoid it by setting the environment variable OMP_NUM_THREADS=1.\n",
      "\n",
      "c:\\Users\\User\\anaconda3\\Lib\\site-packages\\sklearn\\cluster\\_kmeans.py:1436: UserWarning:\n",
      "\n",
      "KMeans is known to have a memory leak on Windows with MKL, when there are less chunks than available threads. You can avoid it by setting the environment variable OMP_NUM_THREADS=1.\n",
      "\n",
      "c:\\Users\\User\\anaconda3\\Lib\\site-packages\\sklearn\\cluster\\_kmeans.py:1436: UserWarning:\n",
      "\n",
      "KMeans is known to have a memory leak on Windows with MKL, when there are less chunks than available threads. You can avoid it by setting the environment variable OMP_NUM_THREADS=1.\n",
      "\n",
      "c:\\Users\\User\\anaconda3\\Lib\\site-packages\\sklearn\\cluster\\_kmeans.py:1436: UserWarning:\n",
      "\n",
      "KMeans is known to have a memory leak on Windows with MKL, when there are less chunks than available threads. You can avoid it by setting the environment variable OMP_NUM_THREADS=1.\n",
      "\n"
     ]
    },
    {
     "name": "stdout",
     "output_type": "stream",
     "text": [
      "Jumlah klaster optimal: 6\n"
     ]
    },
    {
     "name": "stderr",
     "output_type": "stream",
     "text": [
      "c:\\Users\\User\\anaconda3\\Lib\\site-packages\\sklearn\\cluster\\_kmeans.py:1436: UserWarning:\n",
      "\n",
      "KMeans is known to have a memory leak on Windows with MKL, when there are less chunks than available threads. You can avoid it by setting the environment variable OMP_NUM_THREADS=1.\n",
      "\n"
     ]
    },
    {
     "name": "stdout",
     "output_type": "stream",
     "text": [
      "Jumlah Kecelakaan: 0.6949\n",
      "Jumlah Meninggal: 0.8743\n",
      "Jumlah Luka Berat: 0.8101\n",
      "Jumlah Luka Ringan: 0.7958\n"
     ]
    },
    {
     "name": "stderr",
     "output_type": "stream",
     "text": [
      "C:\\Users\\User\\AppData\\Local\\Temp\\ipykernel_1368\\1881671025.py:108: UserWarning:\n",
      "\n",
      "color argument of Icon should be one of: {'pink', 'orange', 'red', 'darkred', 'lightgreen', 'lightblue', 'beige', 'black', 'cadetblue', 'darkgreen', 'lightgray', 'blue', 'lightred', 'gray', 'white', 'darkpurple', 'purple', 'green', 'darkblue'}.\n",
      "\n"
     ]
    },
    {
     "data": {
      "text/html": [
       "<div style=\"width:100%;\"><div style=\"position:relative;width:100%;height:0;padding-bottom:60%;\"><span style=\"color:#565656\">Make this Notebook Trusted to load map: File -> Trust Notebook</span><iframe srcdoc=\"&lt;!DOCTYPE html&gt;\n",
       "&lt;html&gt;\n",
       "&lt;head&gt;\n",
       "    \n",
       "    &lt;meta http-equiv=&quot;content-type&quot; content=&quot;text/html; charset=UTF-8&quot; /&gt;\n",
       "    \n",
       "        &lt;script&gt;\n",
       "            L_NO_TOUCH = false;\n",
       "            L_DISABLE_3D = false;\n",
       "        &lt;/script&gt;\n",
       "    \n",
       "    &lt;style&gt;html, body {width: 100%;height: 100%;margin: 0;padding: 0;}&lt;/style&gt;\n",
       "    &lt;style&gt;#map {position:absolute;top:0;bottom:0;right:0;left:0;}&lt;/style&gt;\n",
       "    &lt;script src=&quot;https://cdn.jsdelivr.net/npm/leaflet@1.9.3/dist/leaflet.js&quot;&gt;&lt;/script&gt;\n",
       "    &lt;script src=&quot;https://code.jquery.com/jquery-3.7.1.min.js&quot;&gt;&lt;/script&gt;\n",
       "    &lt;script src=&quot;https://cdn.jsdelivr.net/npm/bootstrap@5.2.2/dist/js/bootstrap.bundle.min.js&quot;&gt;&lt;/script&gt;\n",
       "    &lt;script src=&quot;https://cdnjs.cloudflare.com/ajax/libs/Leaflet.awesome-markers/2.0.2/leaflet.awesome-markers.js&quot;&gt;&lt;/script&gt;\n",
       "    &lt;link rel=&quot;stylesheet&quot; href=&quot;https://cdn.jsdelivr.net/npm/leaflet@1.9.3/dist/leaflet.css&quot;/&gt;\n",
       "    &lt;link rel=&quot;stylesheet&quot; href=&quot;https://cdn.jsdelivr.net/npm/bootstrap@5.2.2/dist/css/bootstrap.min.css&quot;/&gt;\n",
       "    &lt;link rel=&quot;stylesheet&quot; href=&quot;https://netdna.bootstrapcdn.com/bootstrap/3.0.0/css/bootstrap.min.css&quot;/&gt;\n",
       "    &lt;link rel=&quot;stylesheet&quot; href=&quot;https://cdn.jsdelivr.net/npm/@fortawesome/fontawesome-free@6.2.0/css/all.min.css&quot;/&gt;\n",
       "    &lt;link rel=&quot;stylesheet&quot; href=&quot;https://cdnjs.cloudflare.com/ajax/libs/Leaflet.awesome-markers/2.0.2/leaflet.awesome-markers.css&quot;/&gt;\n",
       "    &lt;link rel=&quot;stylesheet&quot; href=&quot;https://cdn.jsdelivr.net/gh/python-visualization/folium/folium/templates/leaflet.awesome.rotate.min.css&quot;/&gt;\n",
       "    \n",
       "            &lt;meta name=&quot;viewport&quot; content=&quot;width=device-width,\n",
       "                initial-scale=1.0, maximum-scale=1.0, user-scalable=no&quot; /&gt;\n",
       "            &lt;style&gt;\n",
       "                #map_e172a1f3ea4847f55642614b59eba22c {\n",
       "                    position: relative;\n",
       "                    width: 100.0%;\n",
       "                    height: 100.0%;\n",
       "                    left: 0.0%;\n",
       "                    top: 0.0%;\n",
       "                }\n",
       "                .leaflet-container { font-size: 1rem; }\n",
       "            &lt;/style&gt;\n",
       "        \n",
       "&lt;/head&gt;\n",
       "&lt;body&gt;\n",
       "    \n",
       "    \n",
       "            &lt;div class=&quot;folium-map&quot; id=&quot;map_e172a1f3ea4847f55642614b59eba22c&quot; &gt;&lt;/div&gt;\n",
       "        \n",
       "&lt;/body&gt;\n",
       "&lt;script&gt;\n",
       "    \n",
       "    \n",
       "            var map_e172a1f3ea4847f55642614b59eba22c = L.map(\n",
       "                &quot;map_e172a1f3ea4847f55642614b59eba22c&quot;,\n",
       "                {\n",
       "                    center: [1.4099, 99.7092],\n",
       "                    crs: L.CRS.EPSG3857,\n",
       "                    zoom: 10,\n",
       "                    zoomControl: true,\n",
       "                    preferCanvas: false,\n",
       "                }\n",
       "            );\n",
       "\n",
       "            \n",
       "\n",
       "        \n",
       "    \n",
       "            var tile_layer_c83c297ba38e40eed7a0515e2474ea79 = L.tileLayer(\n",
       "                &quot;https://tile.openstreetmap.org/{z}/{x}/{y}.png&quot;,\n",
       "                {&quot;attribution&quot;: &quot;\\u0026copy; \\u003ca href=\\&quot;https://www.openstreetmap.org/copyright\\&quot;\\u003eOpenStreetMap\\u003c/a\\u003e contributors&quot;, &quot;detectRetina&quot;: false, &quot;maxNativeZoom&quot;: 19, &quot;maxZoom&quot;: 19, &quot;minZoom&quot;: 0, &quot;noWrap&quot;: false, &quot;opacity&quot;: 1, &quot;subdomains&quot;: &quot;abc&quot;, &quot;tms&quot;: false}\n",
       "            );\n",
       "        \n",
       "    \n",
       "            tile_layer_c83c297ba38e40eed7a0515e2474ea79.addTo(map_e172a1f3ea4847f55642614b59eba22c);\n",
       "        \n",
       "    \n",
       "            var marker_ec5c788733e7860df8a0bde887efeebe = L.marker(\n",
       "                [1.3166932, 99.4458336],\n",
       "                {}\n",
       "            ).addTo(map_e172a1f3ea4847f55642614b59eba22c);\n",
       "        \n",
       "    \n",
       "            var icon_edc957df06f6a76888452302d3cd713c = L.AwesomeMarkers.icon(\n",
       "                {&quot;extraClasses&quot;: &quot;fa-rotate-0&quot;, &quot;icon&quot;: &quot;info-sign&quot;, &quot;iconColor&quot;: &quot;white&quot;, &quot;markerColor&quot;: &quot;red&quot;, &quot;prefix&quot;: &quot;glyphicon&quot;}\n",
       "            );\n",
       "            marker_ec5c788733e7860df8a0bde887efeebe.setIcon(icon_edc957df06f6a76888452302d3cd713c);\n",
       "        \n",
       "    \n",
       "        var popup_c366b08f8e820b1388366de17faa9b8a = L.popup({&quot;maxWidth&quot;: &quot;100%&quot;});\n",
       "\n",
       "        \n",
       "            \n",
       "                var html_7b6a55c2f08942a53167e94944a88b4e = $(`&lt;div id=&quot;html_7b6a55c2f08942a53167e94944a88b4e&quot; style=&quot;width: 100.0%; height: 100.0%;&quot;&gt;Batang Onang: 1 kasus, Tingkat Kerawanan: Sangat Rawan&lt;/div&gt;`)[0];\n",
       "                popup_c366b08f8e820b1388366de17faa9b8a.setContent(html_7b6a55c2f08942a53167e94944a88b4e);\n",
       "            \n",
       "        \n",
       "\n",
       "        marker_ec5c788733e7860df8a0bde887efeebe.bindPopup(popup_c366b08f8e820b1388366de17faa9b8a)\n",
       "        ;\n",
       "\n",
       "        \n",
       "    \n",
       "    \n",
       "            var marker_6df0a2087f46754bc5fe41edea9198b3 = L.marker(\n",
       "                [1.6577, 98.5525],\n",
       "                {}\n",
       "            ).addTo(map_e172a1f3ea4847f55642614b59eba22c);\n",
       "        \n",
       "    \n",
       "            var icon_afb922242b8edc13a967656dd5766754 = L.AwesomeMarkers.icon(\n",
       "                {&quot;extraClasses&quot;: &quot;fa-rotate-0&quot;, &quot;icon&quot;: &quot;info-sign&quot;, &quot;iconColor&quot;: &quot;white&quot;, &quot;markerColor&quot;: &quot;orange&quot;, &quot;prefix&quot;: &quot;glyphicon&quot;}\n",
       "            );\n",
       "            marker_6df0a2087f46754bc5fe41edea9198b3.setIcon(icon_afb922242b8edc13a967656dd5766754);\n",
       "        \n",
       "    \n",
       "        var popup_12515eda51b234bcd3c6cb334515601f = L.popup({&quot;maxWidth&quot;: &quot;100%&quot;});\n",
       "\n",
       "        \n",
       "            \n",
       "                var html_c2db7671a58ecef389b5c301cca2d38f = $(`&lt;div id=&quot;html_c2db7671a58ecef389b5c301cca2d38f&quot; style=&quot;width: 100.0%; height: 100.0%;&quot;&gt;Dolok: 1 kasus, Tingkat Kerawanan: Rawan&lt;/div&gt;`)[0];\n",
       "                popup_12515eda51b234bcd3c6cb334515601f.setContent(html_c2db7671a58ecef389b5c301cca2d38f);\n",
       "            \n",
       "        \n",
       "\n",
       "        marker_6df0a2087f46754bc5fe41edea9198b3.bindPopup(popup_12515eda51b234bcd3c6cb334515601f)\n",
       "        ;\n",
       "\n",
       "        \n",
       "    \n",
       "    \n",
       "            var marker_b7a5f2ad2c0de12f689124bc26efcc73 = L.marker(\n",
       "                [1.9700433, 99.5356889],\n",
       "                {}\n",
       "            ).addTo(map_e172a1f3ea4847f55642614b59eba22c);\n",
       "        \n",
       "    \n",
       "            var icon_66df14ebed826efd0454c0886753a0a9 = L.AwesomeMarkers.icon(\n",
       "                {&quot;extraClasses&quot;: &quot;fa-rotate-0&quot;, &quot;icon&quot;: &quot;info-sign&quot;, &quot;iconColor&quot;: &quot;white&quot;, &quot;markerColor&quot;: &quot;red&quot;, &quot;prefix&quot;: &quot;glyphicon&quot;}\n",
       "            );\n",
       "            marker_b7a5f2ad2c0de12f689124bc26efcc73.setIcon(icon_66df14ebed826efd0454c0886753a0a9);\n",
       "        \n",
       "    \n",
       "        var popup_2d76d8bd433aaa401e0ea10c0642390b = L.popup({&quot;maxWidth&quot;: &quot;100%&quot;});\n",
       "\n",
       "        \n",
       "            \n",
       "                var html_26d63d30be0bc85dda52a08d6ce384e2 = $(`&lt;div id=&quot;html_26d63d30be0bc85dda52a08d6ce384e2&quot; style=&quot;width: 100.0%; height: 100.0%;&quot;&gt;Dolok Sigompulon: 1 kasus, Tingkat Kerawanan: Sangat Rawan&lt;/div&gt;`)[0];\n",
       "                popup_2d76d8bd433aaa401e0ea10c0642390b.setContent(html_26d63d30be0bc85dda52a08d6ce384e2);\n",
       "            \n",
       "        \n",
       "\n",
       "        marker_b7a5f2ad2c0de12f689124bc26efcc73.bindPopup(popup_2d76d8bd433aaa401e0ea10c0642390b)\n",
       "        ;\n",
       "\n",
       "        \n",
       "    \n",
       "    \n",
       "            var marker_a2b5a19609aed4384fbcb78ead33b94c = L.marker(\n",
       "                [1.6514398, 99.6593041],\n",
       "                {}\n",
       "            ).addTo(map_e172a1f3ea4847f55642614b59eba22c);\n",
       "        \n",
       "    \n",
       "            var icon_b4a8a3ec7d5d5ba2ac1911e697a94a80 = L.AwesomeMarkers.icon(\n",
       "                {&quot;extraClasses&quot;: &quot;fa-rotate-0&quot;, &quot;icon&quot;: &quot;info-sign&quot;, &quot;iconColor&quot;: &quot;white&quot;, &quot;markerColor&quot;: &quot;green&quot;, &quot;prefix&quot;: &quot;glyphicon&quot;}\n",
       "            );\n",
       "            marker_a2b5a19609aed4384fbcb78ead33b94c.setIcon(icon_b4a8a3ec7d5d5ba2ac1911e697a94a80);\n",
       "        \n",
       "    \n",
       "        var popup_d0df4fac337f4202c322440270d3228a = L.popup({&quot;maxWidth&quot;: &quot;100%&quot;});\n",
       "\n",
       "        \n",
       "            \n",
       "                var html_2fb5f5bc88596380096f3ad425b03062 = $(`&lt;div id=&quot;html_2fb5f5bc88596380096f3ad425b03062&quot; style=&quot;width: 100.0%; height: 100.0%;&quot;&gt;Halongonan: 1 kasus, Tingkat Kerawanan: Aman&lt;/div&gt;`)[0];\n",
       "                popup_d0df4fac337f4202c322440270d3228a.setContent(html_2fb5f5bc88596380096f3ad425b03062);\n",
       "            \n",
       "        \n",
       "\n",
       "        marker_a2b5a19609aed4384fbcb78ead33b94c.bindPopup(popup_d0df4fac337f4202c322440270d3228a)\n",
       "        ;\n",
       "\n",
       "        \n",
       "    \n",
       "    \n",
       "            var marker_e3bb0317048cf23943cd5a53c3fbe37f = L.marker(\n",
       "                [1.6373489, 99.4558203],\n",
       "                {}\n",
       "            ).addTo(map_e172a1f3ea4847f55642614b59eba22c);\n",
       "        \n",
       "    \n",
       "            var icon_08d3b5671a4be248ae653b9a27a62b43 = L.AwesomeMarkers.icon(\n",
       "                {&quot;extraClasses&quot;: &quot;fa-rotate-0&quot;, &quot;icon&quot;: &quot;info-sign&quot;, &quot;iconColor&quot;: &quot;white&quot;, &quot;markerColor&quot;: &quot;green&quot;, &quot;prefix&quot;: &quot;glyphicon&quot;}\n",
       "            );\n",
       "            marker_e3bb0317048cf23943cd5a53c3fbe37f.setIcon(icon_08d3b5671a4be248ae653b9a27a62b43);\n",
       "        \n",
       "    \n",
       "        var popup_8bfec35d987997295a8e10e8db7348b4 = L.popup({&quot;maxWidth&quot;: &quot;100%&quot;});\n",
       "\n",
       "        \n",
       "            \n",
       "                var html_598c55daa542943938b056debdd85b62 = $(`&lt;div id=&quot;html_598c55daa542943938b056debdd85b62&quot; style=&quot;width: 100.0%; height: 100.0%;&quot;&gt;Halongonan Timur: 1 kasus, Tingkat Kerawanan: Aman&lt;/div&gt;`)[0];\n",
       "                popup_8bfec35d987997295a8e10e8db7348b4.setContent(html_598c55daa542943938b056debdd85b62);\n",
       "            \n",
       "        \n",
       "\n",
       "        marker_e3bb0317048cf23943cd5a53c3fbe37f.bindPopup(popup_8bfec35d987997295a8e10e8db7348b4)\n",
       "        ;\n",
       "\n",
       "        \n",
       "    \n",
       "    \n",
       "            var marker_5851cd6263657aa556fb95760316376f = L.marker(\n",
       "                [1.458091, 99.4268896],\n",
       "                {}\n",
       "            ).addTo(map_e172a1f3ea4847f55642614b59eba22c);\n",
       "        \n",
       "    \n",
       "            var icon_4b54a6e6136166469d7700276acaf29a = L.AwesomeMarkers.icon(\n",
       "                {&quot;extraClasses&quot;: &quot;fa-rotate-0&quot;, &quot;icon&quot;: &quot;info-sign&quot;, &quot;iconColor&quot;: &quot;white&quot;, &quot;markerColor&quot;: &quot;yellow&quot;, &quot;prefix&quot;: &quot;glyphicon&quot;}\n",
       "            );\n",
       "            marker_5851cd6263657aa556fb95760316376f.setIcon(icon_4b54a6e6136166469d7700276acaf29a);\n",
       "        \n",
       "    \n",
       "        var popup_12502f3fddb175b8e1e0d08875f3044b = L.popup({&quot;maxWidth&quot;: &quot;100%&quot;});\n",
       "\n",
       "        \n",
       "            \n",
       "                var html_cc154a5bc3375e90576ce6389876f0ea = $(`&lt;div id=&quot;html_cc154a5bc3375e90576ce6389876f0ea&quot; style=&quot;width: 100.0%; height: 100.0%;&quot;&gt;Hulu Sihapas: 1 kasus, Tingkat Kerawanan: Berpotensi Rawan&lt;/div&gt;`)[0];\n",
       "                popup_12502f3fddb175b8e1e0d08875f3044b.setContent(html_cc154a5bc3375e90576ce6389876f0ea);\n",
       "            \n",
       "        \n",
       "\n",
       "        marker_5851cd6263657aa556fb95760316376f.bindPopup(popup_12502f3fddb175b8e1e0d08875f3044b)\n",
       "        ;\n",
       "\n",
       "        \n",
       "    \n",
       "    \n",
       "            var marker_882a9d893243a5b749bcab4a4a1bffe1 = L.marker(\n",
       "                [3.5685536, 98.7273622],\n",
       "                {}\n",
       "            ).addTo(map_e172a1f3ea4847f55642614b59eba22c);\n",
       "        \n",
       "    \n",
       "            var icon_2d3a94755893f2a04a046540ead8f892 = L.AwesomeMarkers.icon(\n",
       "                {&quot;extraClasses&quot;: &quot;fa-rotate-0&quot;, &quot;icon&quot;: &quot;info-sign&quot;, &quot;iconColor&quot;: &quot;white&quot;, &quot;markerColor&quot;: &quot;red&quot;, &quot;prefix&quot;: &quot;glyphicon&quot;}\n",
       "            );\n",
       "            marker_882a9d893243a5b749bcab4a4a1bffe1.setIcon(icon_2d3a94755893f2a04a046540ead8f892);\n",
       "        \n",
       "    \n",
       "        var popup_8487e6d52344a01cc220a9f3c3e50a06 = L.popup({&quot;maxWidth&quot;: &quot;100%&quot;});\n",
       "\n",
       "        \n",
       "            \n",
       "                var html_f87bf63b2f9d0c063d95f93762a76a96 = $(`&lt;div id=&quot;html_f87bf63b2f9d0c063d95f93762a76a96&quot; style=&quot;width: 100.0%; height: 100.0%;&quot;&gt;Padang Bolak: 1 kasus, Tingkat Kerawanan: Sangat Rawan&lt;/div&gt;`)[0];\n",
       "                popup_8487e6d52344a01cc220a9f3c3e50a06.setContent(html_f87bf63b2f9d0c063d95f93762a76a96);\n",
       "            \n",
       "        \n",
       "\n",
       "        marker_882a9d893243a5b749bcab4a4a1bffe1.bindPopup(popup_8487e6d52344a01cc220a9f3c3e50a06)\n",
       "        ;\n",
       "\n",
       "        \n",
       "    \n",
       "    \n",
       "            var marker_86fc3d91bedad5a4cb93c7adf8739179 = L.marker(\n",
       "                [1.415091, 99.5576002],\n",
       "                {}\n",
       "            ).addTo(map_e172a1f3ea4847f55642614b59eba22c);\n",
       "        \n",
       "    \n",
       "            var icon_6c0289cb7f68999e79d06eed3d5d9055 = L.AwesomeMarkers.icon(\n",
       "                {&quot;extraClasses&quot;: &quot;fa-rotate-0&quot;, &quot;icon&quot;: &quot;info-sign&quot;, &quot;iconColor&quot;: &quot;white&quot;, &quot;markerColor&quot;: &quot;red&quot;, &quot;prefix&quot;: &quot;glyphicon&quot;}\n",
       "            );\n",
       "            marker_86fc3d91bedad5a4cb93c7adf8739179.setIcon(icon_6c0289cb7f68999e79d06eed3d5d9055);\n",
       "        \n",
       "    \n",
       "        var popup_7f75d9eeb3be97f929cd1bd7e9ca8a90 = L.popup({&quot;maxWidth&quot;: &quot;100%&quot;});\n",
       "\n",
       "        \n",
       "            \n",
       "                var html_09c01571cd068d945d7794e324b22c13 = $(`&lt;div id=&quot;html_09c01571cd068d945d7794e324b22c13&quot; style=&quot;width: 100.0%; height: 100.0%;&quot;&gt;Padang Bolak Julu: 1 kasus, Tingkat Kerawanan: Sangat Rawan&lt;/div&gt;`)[0];\n",
       "                popup_7f75d9eeb3be97f929cd1bd7e9ca8a90.setContent(html_09c01571cd068d945d7794e324b22c13);\n",
       "            \n",
       "        \n",
       "\n",
       "        marker_86fc3d91bedad5a4cb93c7adf8739179.bindPopup(popup_7f75d9eeb3be97f929cd1bd7e9ca8a90)\n",
       "        ;\n",
       "\n",
       "        \n",
       "    \n",
       "    \n",
       "            var marker_3cdd38bd538efb400db51e6133f67647 = L.marker(\n",
       "                [1.54001, 99.3234082],\n",
       "                {}\n",
       "            ).addTo(map_e172a1f3ea4847f55642614b59eba22c);\n",
       "        \n",
       "    \n",
       "            var icon_8fb116362a915f9bc026d78d3d3674fa = L.AwesomeMarkers.icon(\n",
       "                {&quot;extraClasses&quot;: &quot;fa-rotate-0&quot;, &quot;icon&quot;: &quot;info-sign&quot;, &quot;iconColor&quot;: &quot;white&quot;, &quot;markerColor&quot;: &quot;yellow&quot;, &quot;prefix&quot;: &quot;glyphicon&quot;}\n",
       "            );\n",
       "            marker_3cdd38bd538efb400db51e6133f67647.setIcon(icon_8fb116362a915f9bc026d78d3d3674fa);\n",
       "        \n",
       "    \n",
       "        var popup_bbbc3cca241f730979175be671d17074 = L.popup({&quot;maxWidth&quot;: &quot;100%&quot;});\n",
       "\n",
       "        \n",
       "            \n",
       "                var html_583961e58604d6a4deb88887ec7324fd = $(`&lt;div id=&quot;html_583961e58604d6a4deb88887ec7324fd&quot; style=&quot;width: 100.0%; height: 100.0%;&quot;&gt;Padang Bolak Tenggara: 1 kasus, Tingkat Kerawanan: Berpotensi Rawan&lt;/div&gt;`)[0];\n",
       "                popup_bbbc3cca241f730979175be671d17074.setContent(html_583961e58604d6a4deb88887ec7324fd);\n",
       "            \n",
       "        \n",
       "\n",
       "        marker_3cdd38bd538efb400db51e6133f67647.bindPopup(popup_bbbc3cca241f730979175be671d17074)\n",
       "        ;\n",
       "\n",
       "        \n",
       "    \n",
       "    \n",
       "            var marker_ed3f099f566595752b8cb814d7c18500 = L.marker(\n",
       "                [1.4375683, 99.7032047],\n",
       "                {}\n",
       "            ).addTo(map_e172a1f3ea4847f55642614b59eba22c);\n",
       "        \n",
       "    \n",
       "            var icon_ef4f13a60058bbd7a1cd0f7835b34842 = L.AwesomeMarkers.icon(\n",
       "                {&quot;extraClasses&quot;: &quot;fa-rotate-0&quot;, &quot;icon&quot;: &quot;info-sign&quot;, &quot;iconColor&quot;: &quot;white&quot;, &quot;markerColor&quot;: &quot;yellow&quot;, &quot;prefix&quot;: &quot;glyphicon&quot;}\n",
       "            );\n",
       "            marker_ed3f099f566595752b8cb814d7c18500.setIcon(icon_ef4f13a60058bbd7a1cd0f7835b34842);\n",
       "        \n",
       "    \n",
       "        var popup_caf726012b30433d8cf21b417858443e = L.popup({&quot;maxWidth&quot;: &quot;100%&quot;});\n",
       "\n",
       "        \n",
       "            \n",
       "                var html_c620a3cfd1ebe20eab1cd547361a3bbe = $(`&lt;div id=&quot;html_c620a3cfd1ebe20eab1cd547361a3bbe&quot; style=&quot;width: 100.0%; height: 100.0%;&quot;&gt;Portibi: 1 kasus, Tingkat Kerawanan: Berpotensi Rawan&lt;/div&gt;`)[0];\n",
       "                popup_caf726012b30433d8cf21b417858443e.setContent(html_c620a3cfd1ebe20eab1cd547361a3bbe);\n",
       "            \n",
       "        \n",
       "\n",
       "        marker_ed3f099f566595752b8cb814d7c18500.bindPopup(popup_caf726012b30433d8cf21b417858443e)\n",
       "        ;\n",
       "\n",
       "        \n",
       "    \n",
       "    \n",
       "            var marker_2e96b943c64404aa37cccb911fab099a = L.marker(\n",
       "                [1.8957231, 99.7846397],\n",
       "                {}\n",
       "            ).addTo(map_e172a1f3ea4847f55642614b59eba22c);\n",
       "        \n",
       "    \n",
       "            var icon_280667b2bf572e782105dcd64c14729b = L.AwesomeMarkers.icon(\n",
       "                {&quot;extraClasses&quot;: &quot;fa-rotate-0&quot;, &quot;icon&quot;: &quot;info-sign&quot;, &quot;iconColor&quot;: &quot;white&quot;, &quot;markerColor&quot;: &quot;orange&quot;, &quot;prefix&quot;: &quot;glyphicon&quot;}\n",
       "            );\n",
       "            marker_2e96b943c64404aa37cccb911fab099a.setIcon(icon_280667b2bf572e782105dcd64c14729b);\n",
       "        \n",
       "    \n",
       "        var popup_b961e8dcbea96d2d9a8dc9f76719a1cb = L.popup({&quot;maxWidth&quot;: &quot;100%&quot;});\n",
       "\n",
       "        \n",
       "            \n",
       "                var html_af3566c4fd79bb77f15b9a508cf31e9b = $(`&lt;div id=&quot;html_af3566c4fd79bb77f15b9a508cf31e9b&quot; style=&quot;width: 100.0%; height: 100.0%;&quot;&gt;Simangambat: 1 kasus, Tingkat Kerawanan: Rawan&lt;/div&gt;`)[0];\n",
       "                popup_b961e8dcbea96d2d9a8dc9f76719a1cb.setContent(html_af3566c4fd79bb77f15b9a508cf31e9b);\n",
       "            \n",
       "        \n",
       "\n",
       "        marker_2e96b943c64404aa37cccb911fab099a.bindPopup(popup_b961e8dcbea96d2d9a8dc9f76719a1cb)\n",
       "        ;\n",
       "\n",
       "        \n",
       "    \n",
       "    \n",
       "            var marker_4df806817481aec1bcb7482a7486f3a7 = L.marker(\n",
       "                [1.1896051, 99.99013],\n",
       "                {}\n",
       "            ).addTo(map_e172a1f3ea4847f55642614b59eba22c);\n",
       "        \n",
       "    \n",
       "            var icon_7716645aacfdc0eb3422c269cfe57eca = L.AwesomeMarkers.icon(\n",
       "                {&quot;extraClasses&quot;: &quot;fa-rotate-0&quot;, &quot;icon&quot;: &quot;info-sign&quot;, &quot;iconColor&quot;: &quot;white&quot;, &quot;markerColor&quot;: &quot;red&quot;, &quot;prefix&quot;: &quot;glyphicon&quot;}\n",
       "            );\n",
       "            marker_4df806817481aec1bcb7482a7486f3a7.setIcon(icon_7716645aacfdc0eb3422c269cfe57eca);\n",
       "        \n",
       "    \n",
       "        var popup_2a0e3a65ece475e6e3741145fd34c834 = L.popup({&quot;maxWidth&quot;: &quot;100%&quot;});\n",
       "\n",
       "        \n",
       "            \n",
       "                var html_106a5723d2900ebae9e0791823ac05d2 = $(`&lt;div id=&quot;html_106a5723d2900ebae9e0791823ac05d2&quot; style=&quot;width: 100.0%; height: 100.0%;&quot;&gt;Ujung Batu: 1 kasus, Tingkat Kerawanan: Sangat Rawan&lt;/div&gt;`)[0];\n",
       "                popup_2a0e3a65ece475e6e3741145fd34c834.setContent(html_106a5723d2900ebae9e0791823ac05d2);\n",
       "            \n",
       "        \n",
       "\n",
       "        marker_4df806817481aec1bcb7482a7486f3a7.bindPopup(popup_2a0e3a65ece475e6e3741145fd34c834)\n",
       "        ;\n",
       "\n",
       "        \n",
       "    \n",
       "&lt;/script&gt;\n",
       "&lt;/html&gt;\" style=\"position:absolute;width:100%;height:100%;left:0;top:0;border:none !important;\" allowfullscreen webkitallowfullscreen mozallowfullscreen></iframe></div></div>"
      ],
      "text/plain": [
       "<folium.folium.Map at 0x2798513e7d0>"
      ]
     },
     "metadata": {},
     "output_type": "display_data"
    },
    {
     "name": "stdout",
     "output_type": "stream",
     "text": [
      "Peta untuk tahun 2019\n"
     ]
    },
    {
     "name": "stderr",
     "output_type": "stream",
     "text": [
      "C:\\Users\\User\\AppData\\Local\\Temp\\ipykernel_1368\\1881671025.py:108: UserWarning:\n",
      "\n",
      "color argument of Icon should be one of: {'pink', 'orange', 'red', 'darkred', 'lightgreen', 'lightblue', 'beige', 'black', 'cadetblue', 'darkgreen', 'lightgray', 'blue', 'lightred', 'gray', 'white', 'darkpurple', 'purple', 'green', 'darkblue'}.\n",
      "\n"
     ]
    },
    {
     "data": {
      "text/html": [
       "<div style=\"width:100%;\"><div style=\"position:relative;width:100%;height:0;padding-bottom:60%;\"><span style=\"color:#565656\">Make this Notebook Trusted to load map: File -> Trust Notebook</span><iframe srcdoc=\"&lt;!DOCTYPE html&gt;\n",
       "&lt;html&gt;\n",
       "&lt;head&gt;\n",
       "    \n",
       "    &lt;meta http-equiv=&quot;content-type&quot; content=&quot;text/html; charset=UTF-8&quot; /&gt;\n",
       "    \n",
       "        &lt;script&gt;\n",
       "            L_NO_TOUCH = false;\n",
       "            L_DISABLE_3D = false;\n",
       "        &lt;/script&gt;\n",
       "    \n",
       "    &lt;style&gt;html, body {width: 100%;height: 100%;margin: 0;padding: 0;}&lt;/style&gt;\n",
       "    &lt;style&gt;#map {position:absolute;top:0;bottom:0;right:0;left:0;}&lt;/style&gt;\n",
       "    &lt;script src=&quot;https://cdn.jsdelivr.net/npm/leaflet@1.9.3/dist/leaflet.js&quot;&gt;&lt;/script&gt;\n",
       "    &lt;script src=&quot;https://code.jquery.com/jquery-3.7.1.min.js&quot;&gt;&lt;/script&gt;\n",
       "    &lt;script src=&quot;https://cdn.jsdelivr.net/npm/bootstrap@5.2.2/dist/js/bootstrap.bundle.min.js&quot;&gt;&lt;/script&gt;\n",
       "    &lt;script src=&quot;https://cdnjs.cloudflare.com/ajax/libs/Leaflet.awesome-markers/2.0.2/leaflet.awesome-markers.js&quot;&gt;&lt;/script&gt;\n",
       "    &lt;link rel=&quot;stylesheet&quot; href=&quot;https://cdn.jsdelivr.net/npm/leaflet@1.9.3/dist/leaflet.css&quot;/&gt;\n",
       "    &lt;link rel=&quot;stylesheet&quot; href=&quot;https://cdn.jsdelivr.net/npm/bootstrap@5.2.2/dist/css/bootstrap.min.css&quot;/&gt;\n",
       "    &lt;link rel=&quot;stylesheet&quot; href=&quot;https://netdna.bootstrapcdn.com/bootstrap/3.0.0/css/bootstrap.min.css&quot;/&gt;\n",
       "    &lt;link rel=&quot;stylesheet&quot; href=&quot;https://cdn.jsdelivr.net/npm/@fortawesome/fontawesome-free@6.2.0/css/all.min.css&quot;/&gt;\n",
       "    &lt;link rel=&quot;stylesheet&quot; href=&quot;https://cdnjs.cloudflare.com/ajax/libs/Leaflet.awesome-markers/2.0.2/leaflet.awesome-markers.css&quot;/&gt;\n",
       "    &lt;link rel=&quot;stylesheet&quot; href=&quot;https://cdn.jsdelivr.net/gh/python-visualization/folium/folium/templates/leaflet.awesome.rotate.min.css&quot;/&gt;\n",
       "    \n",
       "            &lt;meta name=&quot;viewport&quot; content=&quot;width=device-width,\n",
       "                initial-scale=1.0, maximum-scale=1.0, user-scalable=no&quot; /&gt;\n",
       "            &lt;style&gt;\n",
       "                #map_1124236944f0a3e9b8d557114589e02e {\n",
       "                    position: relative;\n",
       "                    width: 100.0%;\n",
       "                    height: 100.0%;\n",
       "                    left: 0.0%;\n",
       "                    top: 0.0%;\n",
       "                }\n",
       "                .leaflet-container { font-size: 1rem; }\n",
       "            &lt;/style&gt;\n",
       "        \n",
       "&lt;/head&gt;\n",
       "&lt;body&gt;\n",
       "    \n",
       "    \n",
       "            &lt;div class=&quot;folium-map&quot; id=&quot;map_1124236944f0a3e9b8d557114589e02e&quot; &gt;&lt;/div&gt;\n",
       "        \n",
       "&lt;/body&gt;\n",
       "&lt;script&gt;\n",
       "    \n",
       "    \n",
       "            var map_1124236944f0a3e9b8d557114589e02e = L.map(\n",
       "                &quot;map_1124236944f0a3e9b8d557114589e02e&quot;,\n",
       "                {\n",
       "                    center: [1.4099, 99.7092],\n",
       "                    crs: L.CRS.EPSG3857,\n",
       "                    zoom: 10,\n",
       "                    zoomControl: true,\n",
       "                    preferCanvas: false,\n",
       "                }\n",
       "            );\n",
       "\n",
       "            \n",
       "\n",
       "        \n",
       "    \n",
       "            var tile_layer_8ef777128ea5deb909b500bcf198ceda = L.tileLayer(\n",
       "                &quot;https://tile.openstreetmap.org/{z}/{x}/{y}.png&quot;,\n",
       "                {&quot;attribution&quot;: &quot;\\u0026copy; \\u003ca href=\\&quot;https://www.openstreetmap.org/copyright\\&quot;\\u003eOpenStreetMap\\u003c/a\\u003e contributors&quot;, &quot;detectRetina&quot;: false, &quot;maxNativeZoom&quot;: 19, &quot;maxZoom&quot;: 19, &quot;minZoom&quot;: 0, &quot;noWrap&quot;: false, &quot;opacity&quot;: 1, &quot;subdomains&quot;: &quot;abc&quot;, &quot;tms&quot;: false}\n",
       "            );\n",
       "        \n",
       "    \n",
       "            tile_layer_8ef777128ea5deb909b500bcf198ceda.addTo(map_1124236944f0a3e9b8d557114589e02e);\n",
       "        \n",
       "    \n",
       "            var marker_75378e1066efcd76053f40887c7d6d74 = L.marker(\n",
       "                [1.3166932, 99.4458336],\n",
       "                {}\n",
       "            ).addTo(map_1124236944f0a3e9b8d557114589e02e);\n",
       "        \n",
       "    \n",
       "            var icon_f3711384c56da4a9dbb7c18b0ddd2fb2 = L.AwesomeMarkers.icon(\n",
       "                {&quot;extraClasses&quot;: &quot;fa-rotate-0&quot;, &quot;icon&quot;: &quot;info-sign&quot;, &quot;iconColor&quot;: &quot;white&quot;, &quot;markerColor&quot;: &quot;yellow&quot;, &quot;prefix&quot;: &quot;glyphicon&quot;}\n",
       "            );\n",
       "            marker_75378e1066efcd76053f40887c7d6d74.setIcon(icon_f3711384c56da4a9dbb7c18b0ddd2fb2);\n",
       "        \n",
       "    \n",
       "        var popup_ef1a58ccee3ce18b4a19ab8a79dcdc38 = L.popup({&quot;maxWidth&quot;: &quot;100%&quot;});\n",
       "\n",
       "        \n",
       "            \n",
       "                var html_9b962110b7af8691cdf4476de08bc7b2 = $(`&lt;div id=&quot;html_9b962110b7af8691cdf4476de08bc7b2&quot; style=&quot;width: 100.0%; height: 100.0%;&quot;&gt;Batang Onang: 1 kasus, Tingkat Kerawanan: Berpotensi Rawan&lt;/div&gt;`)[0];\n",
       "                popup_ef1a58ccee3ce18b4a19ab8a79dcdc38.setContent(html_9b962110b7af8691cdf4476de08bc7b2);\n",
       "            \n",
       "        \n",
       "\n",
       "        marker_75378e1066efcd76053f40887c7d6d74.bindPopup(popup_ef1a58ccee3ce18b4a19ab8a79dcdc38)\n",
       "        ;\n",
       "\n",
       "        \n",
       "    \n",
       "    \n",
       "            var marker_a634f41b6255ac88610fb42e88777f7d = L.marker(\n",
       "                [1.6577, 98.5525],\n",
       "                {}\n",
       "            ).addTo(map_1124236944f0a3e9b8d557114589e02e);\n",
       "        \n",
       "    \n",
       "            var icon_aa3de6b1c12d7879b6f341e82a2e5764 = L.AwesomeMarkers.icon(\n",
       "                {&quot;extraClasses&quot;: &quot;fa-rotate-0&quot;, &quot;icon&quot;: &quot;info-sign&quot;, &quot;iconColor&quot;: &quot;white&quot;, &quot;markerColor&quot;: &quot;orange&quot;, &quot;prefix&quot;: &quot;glyphicon&quot;}\n",
       "            );\n",
       "            marker_a634f41b6255ac88610fb42e88777f7d.setIcon(icon_aa3de6b1c12d7879b6f341e82a2e5764);\n",
       "        \n",
       "    \n",
       "        var popup_4758198c032ebb76e54908403e72c427 = L.popup({&quot;maxWidth&quot;: &quot;100%&quot;});\n",
       "\n",
       "        \n",
       "            \n",
       "                var html_b1c1c3f3e4d1b3a4fdc91eaa0c481ae1 = $(`&lt;div id=&quot;html_b1c1c3f3e4d1b3a4fdc91eaa0c481ae1&quot; style=&quot;width: 100.0%; height: 100.0%;&quot;&gt;Dolok: 1 kasus, Tingkat Kerawanan: Rawan&lt;/div&gt;`)[0];\n",
       "                popup_4758198c032ebb76e54908403e72c427.setContent(html_b1c1c3f3e4d1b3a4fdc91eaa0c481ae1);\n",
       "            \n",
       "        \n",
       "\n",
       "        marker_a634f41b6255ac88610fb42e88777f7d.bindPopup(popup_4758198c032ebb76e54908403e72c427)\n",
       "        ;\n",
       "\n",
       "        \n",
       "    \n",
       "    \n",
       "            var marker_f370a85a6be14b01792c3834795c6e43 = L.marker(\n",
       "                [1.9700433, 99.5356889],\n",
       "                {}\n",
       "            ).addTo(map_1124236944f0a3e9b8d557114589e02e);\n",
       "        \n",
       "    \n",
       "            var icon_b45d99341e69b835e376a8b272dcc2b8 = L.AwesomeMarkers.icon(\n",
       "                {&quot;extraClasses&quot;: &quot;fa-rotate-0&quot;, &quot;icon&quot;: &quot;info-sign&quot;, &quot;iconColor&quot;: &quot;white&quot;, &quot;markerColor&quot;: &quot;orange&quot;, &quot;prefix&quot;: &quot;glyphicon&quot;}\n",
       "            );\n",
       "            marker_f370a85a6be14b01792c3834795c6e43.setIcon(icon_b45d99341e69b835e376a8b272dcc2b8);\n",
       "        \n",
       "    \n",
       "        var popup_d8f450b0459d580b41c065da48fe5be7 = L.popup({&quot;maxWidth&quot;: &quot;100%&quot;});\n",
       "\n",
       "        \n",
       "            \n",
       "                var html_ec440068043f3e77262a24dbff2a2ba7 = $(`&lt;div id=&quot;html_ec440068043f3e77262a24dbff2a2ba7&quot; style=&quot;width: 100.0%; height: 100.0%;&quot;&gt;Dolok Sigompulon: 1 kasus, Tingkat Kerawanan: Rawan&lt;/div&gt;`)[0];\n",
       "                popup_d8f450b0459d580b41c065da48fe5be7.setContent(html_ec440068043f3e77262a24dbff2a2ba7);\n",
       "            \n",
       "        \n",
       "\n",
       "        marker_f370a85a6be14b01792c3834795c6e43.bindPopup(popup_d8f450b0459d580b41c065da48fe5be7)\n",
       "        ;\n",
       "\n",
       "        \n",
       "    \n",
       "    \n",
       "            var marker_1ead2777729ab7cdea7624d63a971bce = L.marker(\n",
       "                [1.6514398, 99.6593041],\n",
       "                {}\n",
       "            ).addTo(map_1124236944f0a3e9b8d557114589e02e);\n",
       "        \n",
       "    \n",
       "            var icon_5e55b8700a3879ef2bd96a1b4d95721b = L.AwesomeMarkers.icon(\n",
       "                {&quot;extraClasses&quot;: &quot;fa-rotate-0&quot;, &quot;icon&quot;: &quot;info-sign&quot;, &quot;iconColor&quot;: &quot;white&quot;, &quot;markerColor&quot;: &quot;green&quot;, &quot;prefix&quot;: &quot;glyphicon&quot;}\n",
       "            );\n",
       "            marker_1ead2777729ab7cdea7624d63a971bce.setIcon(icon_5e55b8700a3879ef2bd96a1b4d95721b);\n",
       "        \n",
       "    \n",
       "        var popup_b982cc76677ae45eee32570eeb27ccb6 = L.popup({&quot;maxWidth&quot;: &quot;100%&quot;});\n",
       "\n",
       "        \n",
       "            \n",
       "                var html_e116144274362444f4dff06a97e88309 = $(`&lt;div id=&quot;html_e116144274362444f4dff06a97e88309&quot; style=&quot;width: 100.0%; height: 100.0%;&quot;&gt;Halongonan: 1 kasus, Tingkat Kerawanan: Aman&lt;/div&gt;`)[0];\n",
       "                popup_b982cc76677ae45eee32570eeb27ccb6.setContent(html_e116144274362444f4dff06a97e88309);\n",
       "            \n",
       "        \n",
       "\n",
       "        marker_1ead2777729ab7cdea7624d63a971bce.bindPopup(popup_b982cc76677ae45eee32570eeb27ccb6)\n",
       "        ;\n",
       "\n",
       "        \n",
       "    \n",
       "    \n",
       "            var marker_b7d5e712a33ad2f9676a28ff33de4ea5 = L.marker(\n",
       "                [1.6373489, 99.4558203],\n",
       "                {}\n",
       "            ).addTo(map_1124236944f0a3e9b8d557114589e02e);\n",
       "        \n",
       "    \n",
       "            var icon_1804119188ed901fc6014967d6dea267 = L.AwesomeMarkers.icon(\n",
       "                {&quot;extraClasses&quot;: &quot;fa-rotate-0&quot;, &quot;icon&quot;: &quot;info-sign&quot;, &quot;iconColor&quot;: &quot;white&quot;, &quot;markerColor&quot;: &quot;red&quot;, &quot;prefix&quot;: &quot;glyphicon&quot;}\n",
       "            );\n",
       "            marker_b7d5e712a33ad2f9676a28ff33de4ea5.setIcon(icon_1804119188ed901fc6014967d6dea267);\n",
       "        \n",
       "    \n",
       "        var popup_d25c35d738bff55a4f281189a879e1e8 = L.popup({&quot;maxWidth&quot;: &quot;100%&quot;});\n",
       "\n",
       "        \n",
       "            \n",
       "                var html_69c3216b090250e571a4be114a6b9eaf = $(`&lt;div id=&quot;html_69c3216b090250e571a4be114a6b9eaf&quot; style=&quot;width: 100.0%; height: 100.0%;&quot;&gt;Halongonan Timur: 1 kasus, Tingkat Kerawanan: Sangat Rawan&lt;/div&gt;`)[0];\n",
       "                popup_d25c35d738bff55a4f281189a879e1e8.setContent(html_69c3216b090250e571a4be114a6b9eaf);\n",
       "            \n",
       "        \n",
       "\n",
       "        marker_b7d5e712a33ad2f9676a28ff33de4ea5.bindPopup(popup_d25c35d738bff55a4f281189a879e1e8)\n",
       "        ;\n",
       "\n",
       "        \n",
       "    \n",
       "    \n",
       "            var marker_e95a1016c0eb5cd72605ac976dc32c4b = L.marker(\n",
       "                [1.458091, 99.4268896],\n",
       "                {}\n",
       "            ).addTo(map_1124236944f0a3e9b8d557114589e02e);\n",
       "        \n",
       "    \n",
       "            var icon_5215bcbaa18fd48aafc2a14290243d0b = L.AwesomeMarkers.icon(\n",
       "                {&quot;extraClasses&quot;: &quot;fa-rotate-0&quot;, &quot;icon&quot;: &quot;info-sign&quot;, &quot;iconColor&quot;: &quot;white&quot;, &quot;markerColor&quot;: &quot;orange&quot;, &quot;prefix&quot;: &quot;glyphicon&quot;}\n",
       "            );\n",
       "            marker_e95a1016c0eb5cd72605ac976dc32c4b.setIcon(icon_5215bcbaa18fd48aafc2a14290243d0b);\n",
       "        \n",
       "    \n",
       "        var popup_4b4d9424911a94a35caedccfaed9c87b = L.popup({&quot;maxWidth&quot;: &quot;100%&quot;});\n",
       "\n",
       "        \n",
       "            \n",
       "                var html_0bca5dc33576d558b9a5aa18b990a98f = $(`&lt;div id=&quot;html_0bca5dc33576d558b9a5aa18b990a98f&quot; style=&quot;width: 100.0%; height: 100.0%;&quot;&gt;Hulu Sihapas: 1 kasus, Tingkat Kerawanan: Rawan&lt;/div&gt;`)[0];\n",
       "                popup_4b4d9424911a94a35caedccfaed9c87b.setContent(html_0bca5dc33576d558b9a5aa18b990a98f);\n",
       "            \n",
       "        \n",
       "\n",
       "        marker_e95a1016c0eb5cd72605ac976dc32c4b.bindPopup(popup_4b4d9424911a94a35caedccfaed9c87b)\n",
       "        ;\n",
       "\n",
       "        \n",
       "    \n",
       "    \n",
       "            var marker_9b52907413111e43dd020de305cb1757 = L.marker(\n",
       "                [3.5685536, 98.7273622],\n",
       "                {}\n",
       "            ).addTo(map_1124236944f0a3e9b8d557114589e02e);\n",
       "        \n",
       "    \n",
       "            var icon_fc4b4d1de90862b90c013ba21ea96687 = L.AwesomeMarkers.icon(\n",
       "                {&quot;extraClasses&quot;: &quot;fa-rotate-0&quot;, &quot;icon&quot;: &quot;info-sign&quot;, &quot;iconColor&quot;: &quot;white&quot;, &quot;markerColor&quot;: &quot;red&quot;, &quot;prefix&quot;: &quot;glyphicon&quot;}\n",
       "            );\n",
       "            marker_9b52907413111e43dd020de305cb1757.setIcon(icon_fc4b4d1de90862b90c013ba21ea96687);\n",
       "        \n",
       "    \n",
       "        var popup_213ee0e58c9b3cc1a0e453857d4338f1 = L.popup({&quot;maxWidth&quot;: &quot;100%&quot;});\n",
       "\n",
       "        \n",
       "            \n",
       "                var html_c01197f220c1f9b6cf7929eeee316597 = $(`&lt;div id=&quot;html_c01197f220c1f9b6cf7929eeee316597&quot; style=&quot;width: 100.0%; height: 100.0%;&quot;&gt;Padang Bolak: 1 kasus, Tingkat Kerawanan: Sangat Rawan&lt;/div&gt;`)[0];\n",
       "                popup_213ee0e58c9b3cc1a0e453857d4338f1.setContent(html_c01197f220c1f9b6cf7929eeee316597);\n",
       "            \n",
       "        \n",
       "\n",
       "        marker_9b52907413111e43dd020de305cb1757.bindPopup(popup_213ee0e58c9b3cc1a0e453857d4338f1)\n",
       "        ;\n",
       "\n",
       "        \n",
       "    \n",
       "    \n",
       "            var marker_31a7efdf320a95878b9e5402766c2c28 = L.marker(\n",
       "                [1.415091, 99.5576002],\n",
       "                {}\n",
       "            ).addTo(map_1124236944f0a3e9b8d557114589e02e);\n",
       "        \n",
       "    \n",
       "            var icon_122efdd0626d0988fc2898118faebce1 = L.AwesomeMarkers.icon(\n",
       "                {&quot;extraClasses&quot;: &quot;fa-rotate-0&quot;, &quot;icon&quot;: &quot;info-sign&quot;, &quot;iconColor&quot;: &quot;white&quot;, &quot;markerColor&quot;: &quot;yellow&quot;, &quot;prefix&quot;: &quot;glyphicon&quot;}\n",
       "            );\n",
       "            marker_31a7efdf320a95878b9e5402766c2c28.setIcon(icon_122efdd0626d0988fc2898118faebce1);\n",
       "        \n",
       "    \n",
       "        var popup_5671f6f5396e008c1578b7500a5440b4 = L.popup({&quot;maxWidth&quot;: &quot;100%&quot;});\n",
       "\n",
       "        \n",
       "            \n",
       "                var html_ff51b1c06b90a390896dad204b420cec = $(`&lt;div id=&quot;html_ff51b1c06b90a390896dad204b420cec&quot; style=&quot;width: 100.0%; height: 100.0%;&quot;&gt;Padang Bolak Julu: 1 kasus, Tingkat Kerawanan: Berpotensi Rawan&lt;/div&gt;`)[0];\n",
       "                popup_5671f6f5396e008c1578b7500a5440b4.setContent(html_ff51b1c06b90a390896dad204b420cec);\n",
       "            \n",
       "        \n",
       "\n",
       "        marker_31a7efdf320a95878b9e5402766c2c28.bindPopup(popup_5671f6f5396e008c1578b7500a5440b4)\n",
       "        ;\n",
       "\n",
       "        \n",
       "    \n",
       "    \n",
       "            var marker_a8760221e0891c16ba7207baf786ea19 = L.marker(\n",
       "                [1.54001, 99.3234082],\n",
       "                {}\n",
       "            ).addTo(map_1124236944f0a3e9b8d557114589e02e);\n",
       "        \n",
       "    \n",
       "            var icon_f2a712c9d0cf71748c8eae8b12c9f80a = L.AwesomeMarkers.icon(\n",
       "                {&quot;extraClasses&quot;: &quot;fa-rotate-0&quot;, &quot;icon&quot;: &quot;info-sign&quot;, &quot;iconColor&quot;: &quot;white&quot;, &quot;markerColor&quot;: &quot;orange&quot;, &quot;prefix&quot;: &quot;glyphicon&quot;}\n",
       "            );\n",
       "            marker_a8760221e0891c16ba7207baf786ea19.setIcon(icon_f2a712c9d0cf71748c8eae8b12c9f80a);\n",
       "        \n",
       "    \n",
       "        var popup_c0dd4411f0d95709eb61625970fd5b4b = L.popup({&quot;maxWidth&quot;: &quot;100%&quot;});\n",
       "\n",
       "        \n",
       "            \n",
       "                var html_000c92484dc886095c63fe3ae72bf95d = $(`&lt;div id=&quot;html_000c92484dc886095c63fe3ae72bf95d&quot; style=&quot;width: 100.0%; height: 100.0%;&quot;&gt;Padang Bolak Tenggara: 1 kasus, Tingkat Kerawanan: Rawan&lt;/div&gt;`)[0];\n",
       "                popup_c0dd4411f0d95709eb61625970fd5b4b.setContent(html_000c92484dc886095c63fe3ae72bf95d);\n",
       "            \n",
       "        \n",
       "\n",
       "        marker_a8760221e0891c16ba7207baf786ea19.bindPopup(popup_c0dd4411f0d95709eb61625970fd5b4b)\n",
       "        ;\n",
       "\n",
       "        \n",
       "    \n",
       "    \n",
       "            var marker_ef8ae9af740ca5dfd7e0e7255f910a54 = L.marker(\n",
       "                [1.4375683, 99.7032047],\n",
       "                {}\n",
       "            ).addTo(map_1124236944f0a3e9b8d557114589e02e);\n",
       "        \n",
       "    \n",
       "            var icon_03e546575a471201c7c9767104c388b2 = L.AwesomeMarkers.icon(\n",
       "                {&quot;extraClasses&quot;: &quot;fa-rotate-0&quot;, &quot;icon&quot;: &quot;info-sign&quot;, &quot;iconColor&quot;: &quot;white&quot;, &quot;markerColor&quot;: &quot;yellow&quot;, &quot;prefix&quot;: &quot;glyphicon&quot;}\n",
       "            );\n",
       "            marker_ef8ae9af740ca5dfd7e0e7255f910a54.setIcon(icon_03e546575a471201c7c9767104c388b2);\n",
       "        \n",
       "    \n",
       "        var popup_0905fee8ffaccf44f6c229d3b3a2b84f = L.popup({&quot;maxWidth&quot;: &quot;100%&quot;});\n",
       "\n",
       "        \n",
       "            \n",
       "                var html_95b4d2daebf69854a6c69259bd7a6822 = $(`&lt;div id=&quot;html_95b4d2daebf69854a6c69259bd7a6822&quot; style=&quot;width: 100.0%; height: 100.0%;&quot;&gt;Portibi: 1 kasus, Tingkat Kerawanan: Berpotensi Rawan&lt;/div&gt;`)[0];\n",
       "                popup_0905fee8ffaccf44f6c229d3b3a2b84f.setContent(html_95b4d2daebf69854a6c69259bd7a6822);\n",
       "            \n",
       "        \n",
       "\n",
       "        marker_ef8ae9af740ca5dfd7e0e7255f910a54.bindPopup(popup_0905fee8ffaccf44f6c229d3b3a2b84f)\n",
       "        ;\n",
       "\n",
       "        \n",
       "    \n",
       "    \n",
       "            var marker_cd3733980c895cb924032013f080ac34 = L.marker(\n",
       "                [1.8957231, 99.7846397],\n",
       "                {}\n",
       "            ).addTo(map_1124236944f0a3e9b8d557114589e02e);\n",
       "        \n",
       "    \n",
       "            var icon_8e590208df850629ce541e81ce25afa7 = L.AwesomeMarkers.icon(\n",
       "                {&quot;extraClasses&quot;: &quot;fa-rotate-0&quot;, &quot;icon&quot;: &quot;info-sign&quot;, &quot;iconColor&quot;: &quot;white&quot;, &quot;markerColor&quot;: &quot;orange&quot;, &quot;prefix&quot;: &quot;glyphicon&quot;}\n",
       "            );\n",
       "            marker_cd3733980c895cb924032013f080ac34.setIcon(icon_8e590208df850629ce541e81ce25afa7);\n",
       "        \n",
       "    \n",
       "        var popup_8e3a8e691d23a923cc71bd11eee76427 = L.popup({&quot;maxWidth&quot;: &quot;100%&quot;});\n",
       "\n",
       "        \n",
       "            \n",
       "                var html_9b8c4234ce6dd12074c523a3bfadacd9 = $(`&lt;div id=&quot;html_9b8c4234ce6dd12074c523a3bfadacd9&quot; style=&quot;width: 100.0%; height: 100.0%;&quot;&gt;Simangambat: 1 kasus, Tingkat Kerawanan: Rawan&lt;/div&gt;`)[0];\n",
       "                popup_8e3a8e691d23a923cc71bd11eee76427.setContent(html_9b8c4234ce6dd12074c523a3bfadacd9);\n",
       "            \n",
       "        \n",
       "\n",
       "        marker_cd3733980c895cb924032013f080ac34.bindPopup(popup_8e3a8e691d23a923cc71bd11eee76427)\n",
       "        ;\n",
       "\n",
       "        \n",
       "    \n",
       "    \n",
       "            var marker_6bf7a28deb04fef92d06e068c8b18a1d = L.marker(\n",
       "                [1.1896051, 99.99013],\n",
       "                {}\n",
       "            ).addTo(map_1124236944f0a3e9b8d557114589e02e);\n",
       "        \n",
       "    \n",
       "            var icon_c160f6aed635ff2152c1e4dbcc71cc6c = L.AwesomeMarkers.icon(\n",
       "                {&quot;extraClasses&quot;: &quot;fa-rotate-0&quot;, &quot;icon&quot;: &quot;info-sign&quot;, &quot;iconColor&quot;: &quot;white&quot;, &quot;markerColor&quot;: &quot;red&quot;, &quot;prefix&quot;: &quot;glyphicon&quot;}\n",
       "            );\n",
       "            marker_6bf7a28deb04fef92d06e068c8b18a1d.setIcon(icon_c160f6aed635ff2152c1e4dbcc71cc6c);\n",
       "        \n",
       "    \n",
       "        var popup_266f412d37006dca5e064e3cf88c4ff8 = L.popup({&quot;maxWidth&quot;: &quot;100%&quot;});\n",
       "\n",
       "        \n",
       "            \n",
       "                var html_59268482946a66cc30e2b20907736920 = $(`&lt;div id=&quot;html_59268482946a66cc30e2b20907736920&quot; style=&quot;width: 100.0%; height: 100.0%;&quot;&gt;Ujung Batu: 1 kasus, Tingkat Kerawanan: Sangat Rawan&lt;/div&gt;`)[0];\n",
       "                popup_266f412d37006dca5e064e3cf88c4ff8.setContent(html_59268482946a66cc30e2b20907736920);\n",
       "            \n",
       "        \n",
       "\n",
       "        marker_6bf7a28deb04fef92d06e068c8b18a1d.bindPopup(popup_266f412d37006dca5e064e3cf88c4ff8)\n",
       "        ;\n",
       "\n",
       "        \n",
       "    \n",
       "&lt;/script&gt;\n",
       "&lt;/html&gt;\" style=\"position:absolute;width:100%;height:100%;left:0;top:0;border:none !important;\" allowfullscreen webkitallowfullscreen mozallowfullscreen></iframe></div></div>"
      ],
      "text/plain": [
       "<folium.folium.Map at 0x279829062d0>"
      ]
     },
     "metadata": {},
     "output_type": "display_data"
    },
    {
     "name": "stdout",
     "output_type": "stream",
     "text": [
      "Peta untuk tahun 2020\n"
     ]
    },
    {
     "name": "stderr",
     "output_type": "stream",
     "text": [
      "C:\\Users\\User\\AppData\\Local\\Temp\\ipykernel_1368\\1881671025.py:108: UserWarning:\n",
      "\n",
      "color argument of Icon should be one of: {'pink', 'orange', 'red', 'darkred', 'lightgreen', 'lightblue', 'beige', 'black', 'cadetblue', 'darkgreen', 'lightgray', 'blue', 'lightred', 'gray', 'white', 'darkpurple', 'purple', 'green', 'darkblue'}.\n",
      "\n"
     ]
    },
    {
     "data": {
      "text/html": [
       "<div style=\"width:100%;\"><div style=\"position:relative;width:100%;height:0;padding-bottom:60%;\"><span style=\"color:#565656\">Make this Notebook Trusted to load map: File -> Trust Notebook</span><iframe srcdoc=\"&lt;!DOCTYPE html&gt;\n",
       "&lt;html&gt;\n",
       "&lt;head&gt;\n",
       "    \n",
       "    &lt;meta http-equiv=&quot;content-type&quot; content=&quot;text/html; charset=UTF-8&quot; /&gt;\n",
       "    \n",
       "        &lt;script&gt;\n",
       "            L_NO_TOUCH = false;\n",
       "            L_DISABLE_3D = false;\n",
       "        &lt;/script&gt;\n",
       "    \n",
       "    &lt;style&gt;html, body {width: 100%;height: 100%;margin: 0;padding: 0;}&lt;/style&gt;\n",
       "    &lt;style&gt;#map {position:absolute;top:0;bottom:0;right:0;left:0;}&lt;/style&gt;\n",
       "    &lt;script src=&quot;https://cdn.jsdelivr.net/npm/leaflet@1.9.3/dist/leaflet.js&quot;&gt;&lt;/script&gt;\n",
       "    &lt;script src=&quot;https://code.jquery.com/jquery-3.7.1.min.js&quot;&gt;&lt;/script&gt;\n",
       "    &lt;script src=&quot;https://cdn.jsdelivr.net/npm/bootstrap@5.2.2/dist/js/bootstrap.bundle.min.js&quot;&gt;&lt;/script&gt;\n",
       "    &lt;script src=&quot;https://cdnjs.cloudflare.com/ajax/libs/Leaflet.awesome-markers/2.0.2/leaflet.awesome-markers.js&quot;&gt;&lt;/script&gt;\n",
       "    &lt;link rel=&quot;stylesheet&quot; href=&quot;https://cdn.jsdelivr.net/npm/leaflet@1.9.3/dist/leaflet.css&quot;/&gt;\n",
       "    &lt;link rel=&quot;stylesheet&quot; href=&quot;https://cdn.jsdelivr.net/npm/bootstrap@5.2.2/dist/css/bootstrap.min.css&quot;/&gt;\n",
       "    &lt;link rel=&quot;stylesheet&quot; href=&quot;https://netdna.bootstrapcdn.com/bootstrap/3.0.0/css/bootstrap.min.css&quot;/&gt;\n",
       "    &lt;link rel=&quot;stylesheet&quot; href=&quot;https://cdn.jsdelivr.net/npm/@fortawesome/fontawesome-free@6.2.0/css/all.min.css&quot;/&gt;\n",
       "    &lt;link rel=&quot;stylesheet&quot; href=&quot;https://cdnjs.cloudflare.com/ajax/libs/Leaflet.awesome-markers/2.0.2/leaflet.awesome-markers.css&quot;/&gt;\n",
       "    &lt;link rel=&quot;stylesheet&quot; href=&quot;https://cdn.jsdelivr.net/gh/python-visualization/folium/folium/templates/leaflet.awesome.rotate.min.css&quot;/&gt;\n",
       "    \n",
       "            &lt;meta name=&quot;viewport&quot; content=&quot;width=device-width,\n",
       "                initial-scale=1.0, maximum-scale=1.0, user-scalable=no&quot; /&gt;\n",
       "            &lt;style&gt;\n",
       "                #map_2404c7f8d6a946b00f983657d32f2329 {\n",
       "                    position: relative;\n",
       "                    width: 100.0%;\n",
       "                    height: 100.0%;\n",
       "                    left: 0.0%;\n",
       "                    top: 0.0%;\n",
       "                }\n",
       "                .leaflet-container { font-size: 1rem; }\n",
       "            &lt;/style&gt;\n",
       "        \n",
       "&lt;/head&gt;\n",
       "&lt;body&gt;\n",
       "    \n",
       "    \n",
       "            &lt;div class=&quot;folium-map&quot; id=&quot;map_2404c7f8d6a946b00f983657d32f2329&quot; &gt;&lt;/div&gt;\n",
       "        \n",
       "&lt;/body&gt;\n",
       "&lt;script&gt;\n",
       "    \n",
       "    \n",
       "            var map_2404c7f8d6a946b00f983657d32f2329 = L.map(\n",
       "                &quot;map_2404c7f8d6a946b00f983657d32f2329&quot;,\n",
       "                {\n",
       "                    center: [1.4099, 99.7092],\n",
       "                    crs: L.CRS.EPSG3857,\n",
       "                    zoom: 10,\n",
       "                    zoomControl: true,\n",
       "                    preferCanvas: false,\n",
       "                }\n",
       "            );\n",
       "\n",
       "            \n",
       "\n",
       "        \n",
       "    \n",
       "            var tile_layer_77ba523663a5b74ff196ab1fe6af4ddf = L.tileLayer(\n",
       "                &quot;https://tile.openstreetmap.org/{z}/{x}/{y}.png&quot;,\n",
       "                {&quot;attribution&quot;: &quot;\\u0026copy; \\u003ca href=\\&quot;https://www.openstreetmap.org/copyright\\&quot;\\u003eOpenStreetMap\\u003c/a\\u003e contributors&quot;, &quot;detectRetina&quot;: false, &quot;maxNativeZoom&quot;: 19, &quot;maxZoom&quot;: 19, &quot;minZoom&quot;: 0, &quot;noWrap&quot;: false, &quot;opacity&quot;: 1, &quot;subdomains&quot;: &quot;abc&quot;, &quot;tms&quot;: false}\n",
       "            );\n",
       "        \n",
       "    \n",
       "            tile_layer_77ba523663a5b74ff196ab1fe6af4ddf.addTo(map_2404c7f8d6a946b00f983657d32f2329);\n",
       "        \n",
       "    \n",
       "            var marker_b6738ac167fb31ccab9f46fc2dea4aa5 = L.marker(\n",
       "                [1.3166932, 99.4458336],\n",
       "                {}\n",
       "            ).addTo(map_2404c7f8d6a946b00f983657d32f2329);\n",
       "        \n",
       "    \n",
       "            var icon_86a6aab6f6e324338e017f2fef4db06d = L.AwesomeMarkers.icon(\n",
       "                {&quot;extraClasses&quot;: &quot;fa-rotate-0&quot;, &quot;icon&quot;: &quot;info-sign&quot;, &quot;iconColor&quot;: &quot;white&quot;, &quot;markerColor&quot;: &quot;red&quot;, &quot;prefix&quot;: &quot;glyphicon&quot;}\n",
       "            );\n",
       "            marker_b6738ac167fb31ccab9f46fc2dea4aa5.setIcon(icon_86a6aab6f6e324338e017f2fef4db06d);\n",
       "        \n",
       "    \n",
       "        var popup_bc44e3ce8c4fcb2c4a06ef7a93dacb67 = L.popup({&quot;maxWidth&quot;: &quot;100%&quot;});\n",
       "\n",
       "        \n",
       "            \n",
       "                var html_9d561f28b8b4baf84b1a43b9df461584 = $(`&lt;div id=&quot;html_9d561f28b8b4baf84b1a43b9df461584&quot; style=&quot;width: 100.0%; height: 100.0%;&quot;&gt;Batang Onang: 1 kasus, Tingkat Kerawanan: Sangat Rawan&lt;/div&gt;`)[0];\n",
       "                popup_bc44e3ce8c4fcb2c4a06ef7a93dacb67.setContent(html_9d561f28b8b4baf84b1a43b9df461584);\n",
       "            \n",
       "        \n",
       "\n",
       "        marker_b6738ac167fb31ccab9f46fc2dea4aa5.bindPopup(popup_bc44e3ce8c4fcb2c4a06ef7a93dacb67)\n",
       "        ;\n",
       "\n",
       "        \n",
       "    \n",
       "    \n",
       "            var marker_4066a41e07f694b83e2b0e9be6cc314e = L.marker(\n",
       "                [1.6577, 98.5525],\n",
       "                {}\n",
       "            ).addTo(map_2404c7f8d6a946b00f983657d32f2329);\n",
       "        \n",
       "    \n",
       "            var icon_919c8d80045362b6096cea5de7a3f493 = L.AwesomeMarkers.icon(\n",
       "                {&quot;extraClasses&quot;: &quot;fa-rotate-0&quot;, &quot;icon&quot;: &quot;info-sign&quot;, &quot;iconColor&quot;: &quot;white&quot;, &quot;markerColor&quot;: &quot;orange&quot;, &quot;prefix&quot;: &quot;glyphicon&quot;}\n",
       "            );\n",
       "            marker_4066a41e07f694b83e2b0e9be6cc314e.setIcon(icon_919c8d80045362b6096cea5de7a3f493);\n",
       "        \n",
       "    \n",
       "        var popup_2fbf7b95cbb51310d42c1897bb91d3bb = L.popup({&quot;maxWidth&quot;: &quot;100%&quot;});\n",
       "\n",
       "        \n",
       "            \n",
       "                var html_ca8c64dccdf92abd23eba6f8f4624a74 = $(`&lt;div id=&quot;html_ca8c64dccdf92abd23eba6f8f4624a74&quot; style=&quot;width: 100.0%; height: 100.0%;&quot;&gt;Dolok: 1 kasus, Tingkat Kerawanan: Rawan&lt;/div&gt;`)[0];\n",
       "                popup_2fbf7b95cbb51310d42c1897bb91d3bb.setContent(html_ca8c64dccdf92abd23eba6f8f4624a74);\n",
       "            \n",
       "        \n",
       "\n",
       "        marker_4066a41e07f694b83e2b0e9be6cc314e.bindPopup(popup_2fbf7b95cbb51310d42c1897bb91d3bb)\n",
       "        ;\n",
       "\n",
       "        \n",
       "    \n",
       "    \n",
       "            var marker_b5d96850aea4a05447766acac84f3919 = L.marker(\n",
       "                [1.9700433, 99.5356889],\n",
       "                {}\n",
       "            ).addTo(map_2404c7f8d6a946b00f983657d32f2329);\n",
       "        \n",
       "    \n",
       "            var icon_e53536e9a9e3a358c68186ac78091230 = L.AwesomeMarkers.icon(\n",
       "                {&quot;extraClasses&quot;: &quot;fa-rotate-0&quot;, &quot;icon&quot;: &quot;info-sign&quot;, &quot;iconColor&quot;: &quot;white&quot;, &quot;markerColor&quot;: &quot;red&quot;, &quot;prefix&quot;: &quot;glyphicon&quot;}\n",
       "            );\n",
       "            marker_b5d96850aea4a05447766acac84f3919.setIcon(icon_e53536e9a9e3a358c68186ac78091230);\n",
       "        \n",
       "    \n",
       "        var popup_ce2c5765ab64598fc42fba12eff66c27 = L.popup({&quot;maxWidth&quot;: &quot;100%&quot;});\n",
       "\n",
       "        \n",
       "            \n",
       "                var html_f59999842875b8ed2c6776cd3214d2d9 = $(`&lt;div id=&quot;html_f59999842875b8ed2c6776cd3214d2d9&quot; style=&quot;width: 100.0%; height: 100.0%;&quot;&gt;Dolok Sigompulon: 1 kasus, Tingkat Kerawanan: Sangat Rawan&lt;/div&gt;`)[0];\n",
       "                popup_ce2c5765ab64598fc42fba12eff66c27.setContent(html_f59999842875b8ed2c6776cd3214d2d9);\n",
       "            \n",
       "        \n",
       "\n",
       "        marker_b5d96850aea4a05447766acac84f3919.bindPopup(popup_ce2c5765ab64598fc42fba12eff66c27)\n",
       "        ;\n",
       "\n",
       "        \n",
       "    \n",
       "    \n",
       "            var marker_12716a26846fd0df0921d8c48de72ef3 = L.marker(\n",
       "                [1.6514398, 99.6593041],\n",
       "                {}\n",
       "            ).addTo(map_2404c7f8d6a946b00f983657d32f2329);\n",
       "        \n",
       "    \n",
       "            var icon_b7150413c46d9f05ab3740b445849923 = L.AwesomeMarkers.icon(\n",
       "                {&quot;extraClasses&quot;: &quot;fa-rotate-0&quot;, &quot;icon&quot;: &quot;info-sign&quot;, &quot;iconColor&quot;: &quot;white&quot;, &quot;markerColor&quot;: &quot;red&quot;, &quot;prefix&quot;: &quot;glyphicon&quot;}\n",
       "            );\n",
       "            marker_12716a26846fd0df0921d8c48de72ef3.setIcon(icon_b7150413c46d9f05ab3740b445849923);\n",
       "        \n",
       "    \n",
       "        var popup_82e06ce5861971baac339d39bcb84cac = L.popup({&quot;maxWidth&quot;: &quot;100%&quot;});\n",
       "\n",
       "        \n",
       "            \n",
       "                var html_5da2ec8f92f443285203795448f6821c = $(`&lt;div id=&quot;html_5da2ec8f92f443285203795448f6821c&quot; style=&quot;width: 100.0%; height: 100.0%;&quot;&gt;Halongonan: 1 kasus, Tingkat Kerawanan: Sangat Rawan&lt;/div&gt;`)[0];\n",
       "                popup_82e06ce5861971baac339d39bcb84cac.setContent(html_5da2ec8f92f443285203795448f6821c);\n",
       "            \n",
       "        \n",
       "\n",
       "        marker_12716a26846fd0df0921d8c48de72ef3.bindPopup(popup_82e06ce5861971baac339d39bcb84cac)\n",
       "        ;\n",
       "\n",
       "        \n",
       "    \n",
       "    \n",
       "            var marker_d21c08814543856de008f4fdba111372 = L.marker(\n",
       "                [1.6373489, 99.4558203],\n",
       "                {}\n",
       "            ).addTo(map_2404c7f8d6a946b00f983657d32f2329);\n",
       "        \n",
       "    \n",
       "            var icon_b918448cafba5d5bc0295a8e2663f4b7 = L.AwesomeMarkers.icon(\n",
       "                {&quot;extraClasses&quot;: &quot;fa-rotate-0&quot;, &quot;icon&quot;: &quot;info-sign&quot;, &quot;iconColor&quot;: &quot;white&quot;, &quot;markerColor&quot;: &quot;red&quot;, &quot;prefix&quot;: &quot;glyphicon&quot;}\n",
       "            );\n",
       "            marker_d21c08814543856de008f4fdba111372.setIcon(icon_b918448cafba5d5bc0295a8e2663f4b7);\n",
       "        \n",
       "    \n",
       "        var popup_b9cff7c53eb5f60c7d8570868b330bed = L.popup({&quot;maxWidth&quot;: &quot;100%&quot;});\n",
       "\n",
       "        \n",
       "            \n",
       "                var html_e80aa7a77e2c5e1b10013ab7c96cb9c7 = $(`&lt;div id=&quot;html_e80aa7a77e2c5e1b10013ab7c96cb9c7&quot; style=&quot;width: 100.0%; height: 100.0%;&quot;&gt;Halongonan Timur: 1 kasus, Tingkat Kerawanan: Sangat Rawan&lt;/div&gt;`)[0];\n",
       "                popup_b9cff7c53eb5f60c7d8570868b330bed.setContent(html_e80aa7a77e2c5e1b10013ab7c96cb9c7);\n",
       "            \n",
       "        \n",
       "\n",
       "        marker_d21c08814543856de008f4fdba111372.bindPopup(popup_b9cff7c53eb5f60c7d8570868b330bed)\n",
       "        ;\n",
       "\n",
       "        \n",
       "    \n",
       "    \n",
       "            var marker_82d5317dc9488118bdfd69d91a86fb82 = L.marker(\n",
       "                [1.458091, 99.4268896],\n",
       "                {}\n",
       "            ).addTo(map_2404c7f8d6a946b00f983657d32f2329);\n",
       "        \n",
       "    \n",
       "            var icon_dc13d90696178b83e914dd8d400c117e = L.AwesomeMarkers.icon(\n",
       "                {&quot;extraClasses&quot;: &quot;fa-rotate-0&quot;, &quot;icon&quot;: &quot;info-sign&quot;, &quot;iconColor&quot;: &quot;white&quot;, &quot;markerColor&quot;: &quot;red&quot;, &quot;prefix&quot;: &quot;glyphicon&quot;}\n",
       "            );\n",
       "            marker_82d5317dc9488118bdfd69d91a86fb82.setIcon(icon_dc13d90696178b83e914dd8d400c117e);\n",
       "        \n",
       "    \n",
       "        var popup_c79d81048a3f8b3ce2bfc541082f4e95 = L.popup({&quot;maxWidth&quot;: &quot;100%&quot;});\n",
       "\n",
       "        \n",
       "            \n",
       "                var html_552cd201855450d8b64eaa739742ce9d = $(`&lt;div id=&quot;html_552cd201855450d8b64eaa739742ce9d&quot; style=&quot;width: 100.0%; height: 100.0%;&quot;&gt;Hulu Sihapas: 1 kasus, Tingkat Kerawanan: Sangat Rawan&lt;/div&gt;`)[0];\n",
       "                popup_c79d81048a3f8b3ce2bfc541082f4e95.setContent(html_552cd201855450d8b64eaa739742ce9d);\n",
       "            \n",
       "        \n",
       "\n",
       "        marker_82d5317dc9488118bdfd69d91a86fb82.bindPopup(popup_c79d81048a3f8b3ce2bfc541082f4e95)\n",
       "        ;\n",
       "\n",
       "        \n",
       "    \n",
       "    \n",
       "            var marker_fa51b2007d9cec33e56f86f5815379e0 = L.marker(\n",
       "                [3.5685536, 98.7273622],\n",
       "                {}\n",
       "            ).addTo(map_2404c7f8d6a946b00f983657d32f2329);\n",
       "        \n",
       "    \n",
       "            var icon_05246a489bb365e3ef0e87425841db92 = L.AwesomeMarkers.icon(\n",
       "                {&quot;extraClasses&quot;: &quot;fa-rotate-0&quot;, &quot;icon&quot;: &quot;info-sign&quot;, &quot;iconColor&quot;: &quot;white&quot;, &quot;markerColor&quot;: &quot;red&quot;, &quot;prefix&quot;: &quot;glyphicon&quot;}\n",
       "            );\n",
       "            marker_fa51b2007d9cec33e56f86f5815379e0.setIcon(icon_05246a489bb365e3ef0e87425841db92);\n",
       "        \n",
       "    \n",
       "        var popup_aef08f1f50789308b61d93e98b8f3a5e = L.popup({&quot;maxWidth&quot;: &quot;100%&quot;});\n",
       "\n",
       "        \n",
       "            \n",
       "                var html_dfaa86b64f0f78728310abec586d5c55 = $(`&lt;div id=&quot;html_dfaa86b64f0f78728310abec586d5c55&quot; style=&quot;width: 100.0%; height: 100.0%;&quot;&gt;Padang Bolak: 1 kasus, Tingkat Kerawanan: Sangat Rawan&lt;/div&gt;`)[0];\n",
       "                popup_aef08f1f50789308b61d93e98b8f3a5e.setContent(html_dfaa86b64f0f78728310abec586d5c55);\n",
       "            \n",
       "        \n",
       "\n",
       "        marker_fa51b2007d9cec33e56f86f5815379e0.bindPopup(popup_aef08f1f50789308b61d93e98b8f3a5e)\n",
       "        ;\n",
       "\n",
       "        \n",
       "    \n",
       "    \n",
       "            var marker_880c315faacad969d1b103e71ee36fa3 = L.marker(\n",
       "                [1.415091, 99.5576002],\n",
       "                {}\n",
       "            ).addTo(map_2404c7f8d6a946b00f983657d32f2329);\n",
       "        \n",
       "    \n",
       "            var icon_ec9e6a5fe7be8532b323fe727c74d070 = L.AwesomeMarkers.icon(\n",
       "                {&quot;extraClasses&quot;: &quot;fa-rotate-0&quot;, &quot;icon&quot;: &quot;info-sign&quot;, &quot;iconColor&quot;: &quot;white&quot;, &quot;markerColor&quot;: &quot;green&quot;, &quot;prefix&quot;: &quot;glyphicon&quot;}\n",
       "            );\n",
       "            marker_880c315faacad969d1b103e71ee36fa3.setIcon(icon_ec9e6a5fe7be8532b323fe727c74d070);\n",
       "        \n",
       "    \n",
       "        var popup_227e6de1f8f6793f14da5902c6a2bb36 = L.popup({&quot;maxWidth&quot;: &quot;100%&quot;});\n",
       "\n",
       "        \n",
       "            \n",
       "                var html_dc889deb14554c559baa57f994ab1763 = $(`&lt;div id=&quot;html_dc889deb14554c559baa57f994ab1763&quot; style=&quot;width: 100.0%; height: 100.0%;&quot;&gt;Padang Bolak Julu: 1 kasus, Tingkat Kerawanan: Aman&lt;/div&gt;`)[0];\n",
       "                popup_227e6de1f8f6793f14da5902c6a2bb36.setContent(html_dc889deb14554c559baa57f994ab1763);\n",
       "            \n",
       "        \n",
       "\n",
       "        marker_880c315faacad969d1b103e71ee36fa3.bindPopup(popup_227e6de1f8f6793f14da5902c6a2bb36)\n",
       "        ;\n",
       "\n",
       "        \n",
       "    \n",
       "    \n",
       "            var marker_7732986f9646c5344dddd15870d22950 = L.marker(\n",
       "                [1.54001, 99.3234082],\n",
       "                {}\n",
       "            ).addTo(map_2404c7f8d6a946b00f983657d32f2329);\n",
       "        \n",
       "    \n",
       "            var icon_9a76cff44b1703f6c2631c49738e60e3 = L.AwesomeMarkers.icon(\n",
       "                {&quot;extraClasses&quot;: &quot;fa-rotate-0&quot;, &quot;icon&quot;: &quot;info-sign&quot;, &quot;iconColor&quot;: &quot;white&quot;, &quot;markerColor&quot;: &quot;green&quot;, &quot;prefix&quot;: &quot;glyphicon&quot;}\n",
       "            );\n",
       "            marker_7732986f9646c5344dddd15870d22950.setIcon(icon_9a76cff44b1703f6c2631c49738e60e3);\n",
       "        \n",
       "    \n",
       "        var popup_6e85837ef72121c511b68378c5e3a7d3 = L.popup({&quot;maxWidth&quot;: &quot;100%&quot;});\n",
       "\n",
       "        \n",
       "            \n",
       "                var html_314ab05ea017e1cf4aa04401beed293a = $(`&lt;div id=&quot;html_314ab05ea017e1cf4aa04401beed293a&quot; style=&quot;width: 100.0%; height: 100.0%;&quot;&gt;Padang Bolak Tenggara: 1 kasus, Tingkat Kerawanan: Aman&lt;/div&gt;`)[0];\n",
       "                popup_6e85837ef72121c511b68378c5e3a7d3.setContent(html_314ab05ea017e1cf4aa04401beed293a);\n",
       "            \n",
       "        \n",
       "\n",
       "        marker_7732986f9646c5344dddd15870d22950.bindPopup(popup_6e85837ef72121c511b68378c5e3a7d3)\n",
       "        ;\n",
       "\n",
       "        \n",
       "    \n",
       "    \n",
       "            var marker_3824685eb24547dde6a5d1acd3a546f2 = L.marker(\n",
       "                [1.4375683, 99.7032047],\n",
       "                {}\n",
       "            ).addTo(map_2404c7f8d6a946b00f983657d32f2329);\n",
       "        \n",
       "    \n",
       "            var icon_c8f785b5585572c460533531526f79fe = L.AwesomeMarkers.icon(\n",
       "                {&quot;extraClasses&quot;: &quot;fa-rotate-0&quot;, &quot;icon&quot;: &quot;info-sign&quot;, &quot;iconColor&quot;: &quot;white&quot;, &quot;markerColor&quot;: &quot;yellow&quot;, &quot;prefix&quot;: &quot;glyphicon&quot;}\n",
       "            );\n",
       "            marker_3824685eb24547dde6a5d1acd3a546f2.setIcon(icon_c8f785b5585572c460533531526f79fe);\n",
       "        \n",
       "    \n",
       "        var popup_2cbafb1a72b7f9018e884b0f3c7cea01 = L.popup({&quot;maxWidth&quot;: &quot;100%&quot;});\n",
       "\n",
       "        \n",
       "            \n",
       "                var html_13b1596350a1d02e37d50dfecbed0845 = $(`&lt;div id=&quot;html_13b1596350a1d02e37d50dfecbed0845&quot; style=&quot;width: 100.0%; height: 100.0%;&quot;&gt;Portibi: 1 kasus, Tingkat Kerawanan: Berpotensi Rawan&lt;/div&gt;`)[0];\n",
       "                popup_2cbafb1a72b7f9018e884b0f3c7cea01.setContent(html_13b1596350a1d02e37d50dfecbed0845);\n",
       "            \n",
       "        \n",
       "\n",
       "        marker_3824685eb24547dde6a5d1acd3a546f2.bindPopup(popup_2cbafb1a72b7f9018e884b0f3c7cea01)\n",
       "        ;\n",
       "\n",
       "        \n",
       "    \n",
       "    \n",
       "            var marker_f7d2783884decc2638954076dcf8685b = L.marker(\n",
       "                [1.8957231, 99.7846397],\n",
       "                {}\n",
       "            ).addTo(map_2404c7f8d6a946b00f983657d32f2329);\n",
       "        \n",
       "    \n",
       "            var icon_5370f8b1d5ed509b17fcac331fec6b97 = L.AwesomeMarkers.icon(\n",
       "                {&quot;extraClasses&quot;: &quot;fa-rotate-0&quot;, &quot;icon&quot;: &quot;info-sign&quot;, &quot;iconColor&quot;: &quot;white&quot;, &quot;markerColor&quot;: &quot;orange&quot;, &quot;prefix&quot;: &quot;glyphicon&quot;}\n",
       "            );\n",
       "            marker_f7d2783884decc2638954076dcf8685b.setIcon(icon_5370f8b1d5ed509b17fcac331fec6b97);\n",
       "        \n",
       "    \n",
       "        var popup_8621076d5a699f1f05899aae75e23068 = L.popup({&quot;maxWidth&quot;: &quot;100%&quot;});\n",
       "\n",
       "        \n",
       "            \n",
       "                var html_d495594e65089723fd40f6df2a3c5ef9 = $(`&lt;div id=&quot;html_d495594e65089723fd40f6df2a3c5ef9&quot; style=&quot;width: 100.0%; height: 100.0%;&quot;&gt;Simangambat: 1 kasus, Tingkat Kerawanan: Rawan&lt;/div&gt;`)[0];\n",
       "                popup_8621076d5a699f1f05899aae75e23068.setContent(html_d495594e65089723fd40f6df2a3c5ef9);\n",
       "            \n",
       "        \n",
       "\n",
       "        marker_f7d2783884decc2638954076dcf8685b.bindPopup(popup_8621076d5a699f1f05899aae75e23068)\n",
       "        ;\n",
       "\n",
       "        \n",
       "    \n",
       "    \n",
       "            var marker_688fd5c3e79ddbe6b5e7df541a9ec954 = L.marker(\n",
       "                [1.1896051, 99.99013],\n",
       "                {}\n",
       "            ).addTo(map_2404c7f8d6a946b00f983657d32f2329);\n",
       "        \n",
       "    \n",
       "            var icon_fb5548c7b5f203ac131ebd7c9aa017bf = L.AwesomeMarkers.icon(\n",
       "                {&quot;extraClasses&quot;: &quot;fa-rotate-0&quot;, &quot;icon&quot;: &quot;info-sign&quot;, &quot;iconColor&quot;: &quot;white&quot;, &quot;markerColor&quot;: &quot;yellow&quot;, &quot;prefix&quot;: &quot;glyphicon&quot;}\n",
       "            );\n",
       "            marker_688fd5c3e79ddbe6b5e7df541a9ec954.setIcon(icon_fb5548c7b5f203ac131ebd7c9aa017bf);\n",
       "        \n",
       "    \n",
       "        var popup_6c5234f1723a2f696217708a593d644a = L.popup({&quot;maxWidth&quot;: &quot;100%&quot;});\n",
       "\n",
       "        \n",
       "            \n",
       "                var html_d6b63af8205ffbd3c9cb070030963baa = $(`&lt;div id=&quot;html_d6b63af8205ffbd3c9cb070030963baa&quot; style=&quot;width: 100.0%; height: 100.0%;&quot;&gt;Ujung Batu: 1 kasus, Tingkat Kerawanan: Berpotensi Rawan&lt;/div&gt;`)[0];\n",
       "                popup_6c5234f1723a2f696217708a593d644a.setContent(html_d6b63af8205ffbd3c9cb070030963baa);\n",
       "            \n",
       "        \n",
       "\n",
       "        marker_688fd5c3e79ddbe6b5e7df541a9ec954.bindPopup(popup_6c5234f1723a2f696217708a593d644a)\n",
       "        ;\n",
       "\n",
       "        \n",
       "    \n",
       "&lt;/script&gt;\n",
       "&lt;/html&gt;\" style=\"position:absolute;width:100%;height:100%;left:0;top:0;border:none !important;\" allowfullscreen webkitallowfullscreen mozallowfullscreen></iframe></div></div>"
      ],
      "text/plain": [
       "<folium.folium.Map at 0x279843b2750>"
      ]
     },
     "metadata": {},
     "output_type": "display_data"
    },
    {
     "name": "stdout",
     "output_type": "stream",
     "text": [
      "Peta untuk tahun 2021\n"
     ]
    },
    {
     "name": "stderr",
     "output_type": "stream",
     "text": [
      "C:\\Users\\User\\AppData\\Local\\Temp\\ipykernel_1368\\1881671025.py:108: UserWarning:\n",
      "\n",
      "color argument of Icon should be one of: {'pink', 'orange', 'red', 'darkred', 'lightgreen', 'lightblue', 'beige', 'black', 'cadetblue', 'darkgreen', 'lightgray', 'blue', 'lightred', 'gray', 'white', 'darkpurple', 'purple', 'green', 'darkblue'}.\n",
      "\n"
     ]
    },
    {
     "data": {
      "text/html": [
       "<div style=\"width:100%;\"><div style=\"position:relative;width:100%;height:0;padding-bottom:60%;\"><span style=\"color:#565656\">Make this Notebook Trusted to load map: File -> Trust Notebook</span><iframe srcdoc=\"&lt;!DOCTYPE html&gt;\n",
       "&lt;html&gt;\n",
       "&lt;head&gt;\n",
       "    \n",
       "    &lt;meta http-equiv=&quot;content-type&quot; content=&quot;text/html; charset=UTF-8&quot; /&gt;\n",
       "    \n",
       "        &lt;script&gt;\n",
       "            L_NO_TOUCH = false;\n",
       "            L_DISABLE_3D = false;\n",
       "        &lt;/script&gt;\n",
       "    \n",
       "    &lt;style&gt;html, body {width: 100%;height: 100%;margin: 0;padding: 0;}&lt;/style&gt;\n",
       "    &lt;style&gt;#map {position:absolute;top:0;bottom:0;right:0;left:0;}&lt;/style&gt;\n",
       "    &lt;script src=&quot;https://cdn.jsdelivr.net/npm/leaflet@1.9.3/dist/leaflet.js&quot;&gt;&lt;/script&gt;\n",
       "    &lt;script src=&quot;https://code.jquery.com/jquery-3.7.1.min.js&quot;&gt;&lt;/script&gt;\n",
       "    &lt;script src=&quot;https://cdn.jsdelivr.net/npm/bootstrap@5.2.2/dist/js/bootstrap.bundle.min.js&quot;&gt;&lt;/script&gt;\n",
       "    &lt;script src=&quot;https://cdnjs.cloudflare.com/ajax/libs/Leaflet.awesome-markers/2.0.2/leaflet.awesome-markers.js&quot;&gt;&lt;/script&gt;\n",
       "    &lt;link rel=&quot;stylesheet&quot; href=&quot;https://cdn.jsdelivr.net/npm/leaflet@1.9.3/dist/leaflet.css&quot;/&gt;\n",
       "    &lt;link rel=&quot;stylesheet&quot; href=&quot;https://cdn.jsdelivr.net/npm/bootstrap@5.2.2/dist/css/bootstrap.min.css&quot;/&gt;\n",
       "    &lt;link rel=&quot;stylesheet&quot; href=&quot;https://netdna.bootstrapcdn.com/bootstrap/3.0.0/css/bootstrap.min.css&quot;/&gt;\n",
       "    &lt;link rel=&quot;stylesheet&quot; href=&quot;https://cdn.jsdelivr.net/npm/@fortawesome/fontawesome-free@6.2.0/css/all.min.css&quot;/&gt;\n",
       "    &lt;link rel=&quot;stylesheet&quot; href=&quot;https://cdnjs.cloudflare.com/ajax/libs/Leaflet.awesome-markers/2.0.2/leaflet.awesome-markers.css&quot;/&gt;\n",
       "    &lt;link rel=&quot;stylesheet&quot; href=&quot;https://cdn.jsdelivr.net/gh/python-visualization/folium/folium/templates/leaflet.awesome.rotate.min.css&quot;/&gt;\n",
       "    \n",
       "            &lt;meta name=&quot;viewport&quot; content=&quot;width=device-width,\n",
       "                initial-scale=1.0, maximum-scale=1.0, user-scalable=no&quot; /&gt;\n",
       "            &lt;style&gt;\n",
       "                #map_edf421b182626f9c18b3cd155c8722ad {\n",
       "                    position: relative;\n",
       "                    width: 100.0%;\n",
       "                    height: 100.0%;\n",
       "                    left: 0.0%;\n",
       "                    top: 0.0%;\n",
       "                }\n",
       "                .leaflet-container { font-size: 1rem; }\n",
       "            &lt;/style&gt;\n",
       "        \n",
       "&lt;/head&gt;\n",
       "&lt;body&gt;\n",
       "    \n",
       "    \n",
       "            &lt;div class=&quot;folium-map&quot; id=&quot;map_edf421b182626f9c18b3cd155c8722ad&quot; &gt;&lt;/div&gt;\n",
       "        \n",
       "&lt;/body&gt;\n",
       "&lt;script&gt;\n",
       "    \n",
       "    \n",
       "            var map_edf421b182626f9c18b3cd155c8722ad = L.map(\n",
       "                &quot;map_edf421b182626f9c18b3cd155c8722ad&quot;,\n",
       "                {\n",
       "                    center: [1.4099, 99.7092],\n",
       "                    crs: L.CRS.EPSG3857,\n",
       "                    zoom: 10,\n",
       "                    zoomControl: true,\n",
       "                    preferCanvas: false,\n",
       "                }\n",
       "            );\n",
       "\n",
       "            \n",
       "\n",
       "        \n",
       "    \n",
       "            var tile_layer_e288faf5366a8d8ba446c8ca3d3be0d9 = L.tileLayer(\n",
       "                &quot;https://tile.openstreetmap.org/{z}/{x}/{y}.png&quot;,\n",
       "                {&quot;attribution&quot;: &quot;\\u0026copy; \\u003ca href=\\&quot;https://www.openstreetmap.org/copyright\\&quot;\\u003eOpenStreetMap\\u003c/a\\u003e contributors&quot;, &quot;detectRetina&quot;: false, &quot;maxNativeZoom&quot;: 19, &quot;maxZoom&quot;: 19, &quot;minZoom&quot;: 0, &quot;noWrap&quot;: false, &quot;opacity&quot;: 1, &quot;subdomains&quot;: &quot;abc&quot;, &quot;tms&quot;: false}\n",
       "            );\n",
       "        \n",
       "    \n",
       "            tile_layer_e288faf5366a8d8ba446c8ca3d3be0d9.addTo(map_edf421b182626f9c18b3cd155c8722ad);\n",
       "        \n",
       "    \n",
       "            var marker_46b9364aa5eb4fd3e8c51180dd4a4a75 = L.marker(\n",
       "                [1.3166932, 99.4458336],\n",
       "                {}\n",
       "            ).addTo(map_edf421b182626f9c18b3cd155c8722ad);\n",
       "        \n",
       "    \n",
       "            var icon_3cce1c3935b47d49c085cff493d630c9 = L.AwesomeMarkers.icon(\n",
       "                {&quot;extraClasses&quot;: &quot;fa-rotate-0&quot;, &quot;icon&quot;: &quot;info-sign&quot;, &quot;iconColor&quot;: &quot;white&quot;, &quot;markerColor&quot;: &quot;yellow&quot;, &quot;prefix&quot;: &quot;glyphicon&quot;}\n",
       "            );\n",
       "            marker_46b9364aa5eb4fd3e8c51180dd4a4a75.setIcon(icon_3cce1c3935b47d49c085cff493d630c9);\n",
       "        \n",
       "    \n",
       "        var popup_4bb7d52d9a17ff0831db1ab6d214f423 = L.popup({&quot;maxWidth&quot;: &quot;100%&quot;});\n",
       "\n",
       "        \n",
       "            \n",
       "                var html_6f3780d467f3b492134df6f75f785064 = $(`&lt;div id=&quot;html_6f3780d467f3b492134df6f75f785064&quot; style=&quot;width: 100.0%; height: 100.0%;&quot;&gt;Batang Onang: 1 kasus, Tingkat Kerawanan: Berpotensi Rawan&lt;/div&gt;`)[0];\n",
       "                popup_4bb7d52d9a17ff0831db1ab6d214f423.setContent(html_6f3780d467f3b492134df6f75f785064);\n",
       "            \n",
       "        \n",
       "\n",
       "        marker_46b9364aa5eb4fd3e8c51180dd4a4a75.bindPopup(popup_4bb7d52d9a17ff0831db1ab6d214f423)\n",
       "        ;\n",
       "\n",
       "        \n",
       "    \n",
       "    \n",
       "            var marker_53f1d47ab1172380d042abc3af2c98af = L.marker(\n",
       "                [1.6577, 98.5525],\n",
       "                {}\n",
       "            ).addTo(map_edf421b182626f9c18b3cd155c8722ad);\n",
       "        \n",
       "    \n",
       "            var icon_9258204f4bce9b1f909a328447a6121f = L.AwesomeMarkers.icon(\n",
       "                {&quot;extraClasses&quot;: &quot;fa-rotate-0&quot;, &quot;icon&quot;: &quot;info-sign&quot;, &quot;iconColor&quot;: &quot;white&quot;, &quot;markerColor&quot;: &quot;red&quot;, &quot;prefix&quot;: &quot;glyphicon&quot;}\n",
       "            );\n",
       "            marker_53f1d47ab1172380d042abc3af2c98af.setIcon(icon_9258204f4bce9b1f909a328447a6121f);\n",
       "        \n",
       "    \n",
       "        var popup_db086e515497ccc24cd80f4ce2ab03f8 = L.popup({&quot;maxWidth&quot;: &quot;100%&quot;});\n",
       "\n",
       "        \n",
       "            \n",
       "                var html_ce7ffc024425efcf673179fcc86b4680 = $(`&lt;div id=&quot;html_ce7ffc024425efcf673179fcc86b4680&quot; style=&quot;width: 100.0%; height: 100.0%;&quot;&gt;Dolok: 1 kasus, Tingkat Kerawanan: Sangat Rawan&lt;/div&gt;`)[0];\n",
       "                popup_db086e515497ccc24cd80f4ce2ab03f8.setContent(html_ce7ffc024425efcf673179fcc86b4680);\n",
       "            \n",
       "        \n",
       "\n",
       "        marker_53f1d47ab1172380d042abc3af2c98af.bindPopup(popup_db086e515497ccc24cd80f4ce2ab03f8)\n",
       "        ;\n",
       "\n",
       "        \n",
       "    \n",
       "    \n",
       "            var marker_8189f7525955e6b5cbd9ca1abfb56c09 = L.marker(\n",
       "                [1.9700433, 99.5356889],\n",
       "                {}\n",
       "            ).addTo(map_edf421b182626f9c18b3cd155c8722ad);\n",
       "        \n",
       "    \n",
       "            var icon_6efa6ddc87c190e9d1ea0cddc189773c = L.AwesomeMarkers.icon(\n",
       "                {&quot;extraClasses&quot;: &quot;fa-rotate-0&quot;, &quot;icon&quot;: &quot;info-sign&quot;, &quot;iconColor&quot;: &quot;white&quot;, &quot;markerColor&quot;: &quot;red&quot;, &quot;prefix&quot;: &quot;glyphicon&quot;}\n",
       "            );\n",
       "            marker_8189f7525955e6b5cbd9ca1abfb56c09.setIcon(icon_6efa6ddc87c190e9d1ea0cddc189773c);\n",
       "        \n",
       "    \n",
       "        var popup_785a98298d66c8fcb6d66dbe5d0b3d4f = L.popup({&quot;maxWidth&quot;: &quot;100%&quot;});\n",
       "\n",
       "        \n",
       "            \n",
       "                var html_2f466fce49712de6778cf20414aa9752 = $(`&lt;div id=&quot;html_2f466fce49712de6778cf20414aa9752&quot; style=&quot;width: 100.0%; height: 100.0%;&quot;&gt;Dolok Sigompulon: 1 kasus, Tingkat Kerawanan: Sangat Rawan&lt;/div&gt;`)[0];\n",
       "                popup_785a98298d66c8fcb6d66dbe5d0b3d4f.setContent(html_2f466fce49712de6778cf20414aa9752);\n",
       "            \n",
       "        \n",
       "\n",
       "        marker_8189f7525955e6b5cbd9ca1abfb56c09.bindPopup(popup_785a98298d66c8fcb6d66dbe5d0b3d4f)\n",
       "        ;\n",
       "\n",
       "        \n",
       "    \n",
       "    \n",
       "            var marker_2e3791e2543342ffba105d5d5ce5aef9 = L.marker(\n",
       "                [1.6514398, 99.6593041],\n",
       "                {}\n",
       "            ).addTo(map_edf421b182626f9c18b3cd155c8722ad);\n",
       "        \n",
       "    \n",
       "            var icon_2614f5017f66aa1c964b58e1d1c8bdf3 = L.AwesomeMarkers.icon(\n",
       "                {&quot;extraClasses&quot;: &quot;fa-rotate-0&quot;, &quot;icon&quot;: &quot;info-sign&quot;, &quot;iconColor&quot;: &quot;white&quot;, &quot;markerColor&quot;: &quot;yellow&quot;, &quot;prefix&quot;: &quot;glyphicon&quot;}\n",
       "            );\n",
       "            marker_2e3791e2543342ffba105d5d5ce5aef9.setIcon(icon_2614f5017f66aa1c964b58e1d1c8bdf3);\n",
       "        \n",
       "    \n",
       "        var popup_f22588ab4568e03720f0d759dbe4534f = L.popup({&quot;maxWidth&quot;: &quot;100%&quot;});\n",
       "\n",
       "        \n",
       "            \n",
       "                var html_2a29b7cc4016c056f5b365c1e7600166 = $(`&lt;div id=&quot;html_2a29b7cc4016c056f5b365c1e7600166&quot; style=&quot;width: 100.0%; height: 100.0%;&quot;&gt;Halongonan: 1 kasus, Tingkat Kerawanan: Berpotensi Rawan&lt;/div&gt;`)[0];\n",
       "                popup_f22588ab4568e03720f0d759dbe4534f.setContent(html_2a29b7cc4016c056f5b365c1e7600166);\n",
       "            \n",
       "        \n",
       "\n",
       "        marker_2e3791e2543342ffba105d5d5ce5aef9.bindPopup(popup_f22588ab4568e03720f0d759dbe4534f)\n",
       "        ;\n",
       "\n",
       "        \n",
       "    \n",
       "    \n",
       "            var marker_36e4e39e8716052d020cc698b900087c = L.marker(\n",
       "                [1.6373489, 99.4558203],\n",
       "                {}\n",
       "            ).addTo(map_edf421b182626f9c18b3cd155c8722ad);\n",
       "        \n",
       "    \n",
       "            var icon_8ad5805191bcd0e9b6399488a5ce527c = L.AwesomeMarkers.icon(\n",
       "                {&quot;extraClasses&quot;: &quot;fa-rotate-0&quot;, &quot;icon&quot;: &quot;info-sign&quot;, &quot;iconColor&quot;: &quot;white&quot;, &quot;markerColor&quot;: &quot;orange&quot;, &quot;prefix&quot;: &quot;glyphicon&quot;}\n",
       "            );\n",
       "            marker_36e4e39e8716052d020cc698b900087c.setIcon(icon_8ad5805191bcd0e9b6399488a5ce527c);\n",
       "        \n",
       "    \n",
       "        var popup_148f54565f7abf904db4c421adf889b2 = L.popup({&quot;maxWidth&quot;: &quot;100%&quot;});\n",
       "\n",
       "        \n",
       "            \n",
       "                var html_ffae4465812e13fa8a6b881b43172a19 = $(`&lt;div id=&quot;html_ffae4465812e13fa8a6b881b43172a19&quot; style=&quot;width: 100.0%; height: 100.0%;&quot;&gt;Halongonan Timur: 1 kasus, Tingkat Kerawanan: Rawan&lt;/div&gt;`)[0];\n",
       "                popup_148f54565f7abf904db4c421adf889b2.setContent(html_ffae4465812e13fa8a6b881b43172a19);\n",
       "            \n",
       "        \n",
       "\n",
       "        marker_36e4e39e8716052d020cc698b900087c.bindPopup(popup_148f54565f7abf904db4c421adf889b2)\n",
       "        ;\n",
       "\n",
       "        \n",
       "    \n",
       "    \n",
       "            var marker_f584ad833f0fcfb591e6ebbe8afb6a53 = L.marker(\n",
       "                [1.458091, 99.4268896],\n",
       "                {}\n",
       "            ).addTo(map_edf421b182626f9c18b3cd155c8722ad);\n",
       "        \n",
       "    \n",
       "            var icon_ca2f33442129da9bf29c8450e890308c = L.AwesomeMarkers.icon(\n",
       "                {&quot;extraClasses&quot;: &quot;fa-rotate-0&quot;, &quot;icon&quot;: &quot;info-sign&quot;, &quot;iconColor&quot;: &quot;white&quot;, &quot;markerColor&quot;: &quot;green&quot;, &quot;prefix&quot;: &quot;glyphicon&quot;}\n",
       "            );\n",
       "            marker_f584ad833f0fcfb591e6ebbe8afb6a53.setIcon(icon_ca2f33442129da9bf29c8450e890308c);\n",
       "        \n",
       "    \n",
       "        var popup_fdebc2eecd5e00eee2bfc301e85e171a = L.popup({&quot;maxWidth&quot;: &quot;100%&quot;});\n",
       "\n",
       "        \n",
       "            \n",
       "                var html_ee9d248b9070e0738937d9225ab6e194 = $(`&lt;div id=&quot;html_ee9d248b9070e0738937d9225ab6e194&quot; style=&quot;width: 100.0%; height: 100.0%;&quot;&gt;Hulu Sihapas: 1 kasus, Tingkat Kerawanan: Aman&lt;/div&gt;`)[0];\n",
       "                popup_fdebc2eecd5e00eee2bfc301e85e171a.setContent(html_ee9d248b9070e0738937d9225ab6e194);\n",
       "            \n",
       "        \n",
       "\n",
       "        marker_f584ad833f0fcfb591e6ebbe8afb6a53.bindPopup(popup_fdebc2eecd5e00eee2bfc301e85e171a)\n",
       "        ;\n",
       "\n",
       "        \n",
       "    \n",
       "    \n",
       "            var marker_0139afb97b510c53e0537233d78f8912 = L.marker(\n",
       "                [3.5685536, 98.7273622],\n",
       "                {}\n",
       "            ).addTo(map_edf421b182626f9c18b3cd155c8722ad);\n",
       "        \n",
       "    \n",
       "            var icon_ebad047fd2823c3713523096f5159b1b = L.AwesomeMarkers.icon(\n",
       "                {&quot;extraClasses&quot;: &quot;fa-rotate-0&quot;, &quot;icon&quot;: &quot;info-sign&quot;, &quot;iconColor&quot;: &quot;white&quot;, &quot;markerColor&quot;: &quot;red&quot;, &quot;prefix&quot;: &quot;glyphicon&quot;}\n",
       "            );\n",
       "            marker_0139afb97b510c53e0537233d78f8912.setIcon(icon_ebad047fd2823c3713523096f5159b1b);\n",
       "        \n",
       "    \n",
       "        var popup_b72d1226a666b7bca1a05e3fe9ee1304 = L.popup({&quot;maxWidth&quot;: &quot;100%&quot;});\n",
       "\n",
       "        \n",
       "            \n",
       "                var html_dbb72c8f7d9ed9b1b930d28f96b058d1 = $(`&lt;div id=&quot;html_dbb72c8f7d9ed9b1b930d28f96b058d1&quot; style=&quot;width: 100.0%; height: 100.0%;&quot;&gt;Padang Bolak: 1 kasus, Tingkat Kerawanan: Sangat Rawan&lt;/div&gt;`)[0];\n",
       "                popup_b72d1226a666b7bca1a05e3fe9ee1304.setContent(html_dbb72c8f7d9ed9b1b930d28f96b058d1);\n",
       "            \n",
       "        \n",
       "\n",
       "        marker_0139afb97b510c53e0537233d78f8912.bindPopup(popup_b72d1226a666b7bca1a05e3fe9ee1304)\n",
       "        ;\n",
       "\n",
       "        \n",
       "    \n",
       "    \n",
       "            var marker_4a2018bc6fc1f0fc0ba69e6b71e56eef = L.marker(\n",
       "                [1.415091, 99.5576002],\n",
       "                {}\n",
       "            ).addTo(map_edf421b182626f9c18b3cd155c8722ad);\n",
       "        \n",
       "    \n",
       "            var icon_59a4b1879d4966d1341932b223b80ad2 = L.AwesomeMarkers.icon(\n",
       "                {&quot;extraClasses&quot;: &quot;fa-rotate-0&quot;, &quot;icon&quot;: &quot;info-sign&quot;, &quot;iconColor&quot;: &quot;white&quot;, &quot;markerColor&quot;: &quot;red&quot;, &quot;prefix&quot;: &quot;glyphicon&quot;}\n",
       "            );\n",
       "            marker_4a2018bc6fc1f0fc0ba69e6b71e56eef.setIcon(icon_59a4b1879d4966d1341932b223b80ad2);\n",
       "        \n",
       "    \n",
       "        var popup_91b03a3010c60d3de1ee117d6126d9a2 = L.popup({&quot;maxWidth&quot;: &quot;100%&quot;});\n",
       "\n",
       "        \n",
       "            \n",
       "                var html_476da4b4feec4e87ad426c7da6fca2af = $(`&lt;div id=&quot;html_476da4b4feec4e87ad426c7da6fca2af&quot; style=&quot;width: 100.0%; height: 100.0%;&quot;&gt;Padang Bolak Julu: 1 kasus, Tingkat Kerawanan: Sangat Rawan&lt;/div&gt;`)[0];\n",
       "                popup_91b03a3010c60d3de1ee117d6126d9a2.setContent(html_476da4b4feec4e87ad426c7da6fca2af);\n",
       "            \n",
       "        \n",
       "\n",
       "        marker_4a2018bc6fc1f0fc0ba69e6b71e56eef.bindPopup(popup_91b03a3010c60d3de1ee117d6126d9a2)\n",
       "        ;\n",
       "\n",
       "        \n",
       "    \n",
       "    \n",
       "            var marker_df7c629b99a1f64434ce13bb991db426 = L.marker(\n",
       "                [1.54001, 99.3234082],\n",
       "                {}\n",
       "            ).addTo(map_edf421b182626f9c18b3cd155c8722ad);\n",
       "        \n",
       "    \n",
       "            var icon_65b38c5124c2b7f195e90c1041044283 = L.AwesomeMarkers.icon(\n",
       "                {&quot;extraClasses&quot;: &quot;fa-rotate-0&quot;, &quot;icon&quot;: &quot;info-sign&quot;, &quot;iconColor&quot;: &quot;white&quot;, &quot;markerColor&quot;: &quot;green&quot;, &quot;prefix&quot;: &quot;glyphicon&quot;}\n",
       "            );\n",
       "            marker_df7c629b99a1f64434ce13bb991db426.setIcon(icon_65b38c5124c2b7f195e90c1041044283);\n",
       "        \n",
       "    \n",
       "        var popup_77dcb2a30a823fdefa91fa95367e1123 = L.popup({&quot;maxWidth&quot;: &quot;100%&quot;});\n",
       "\n",
       "        \n",
       "            \n",
       "                var html_0f46ce55907496ceeb8b4bb8e000ebb3 = $(`&lt;div id=&quot;html_0f46ce55907496ceeb8b4bb8e000ebb3&quot; style=&quot;width: 100.0%; height: 100.0%;&quot;&gt;Padang Bolak Tenggara: 1 kasus, Tingkat Kerawanan: Aman&lt;/div&gt;`)[0];\n",
       "                popup_77dcb2a30a823fdefa91fa95367e1123.setContent(html_0f46ce55907496ceeb8b4bb8e000ebb3);\n",
       "            \n",
       "        \n",
       "\n",
       "        marker_df7c629b99a1f64434ce13bb991db426.bindPopup(popup_77dcb2a30a823fdefa91fa95367e1123)\n",
       "        ;\n",
       "\n",
       "        \n",
       "    \n",
       "    \n",
       "            var marker_2f9b54bee9c549c7713b3c0abe124b45 = L.marker(\n",
       "                [1.4375683, 99.7032047],\n",
       "                {}\n",
       "            ).addTo(map_edf421b182626f9c18b3cd155c8722ad);\n",
       "        \n",
       "    \n",
       "            var icon_c0e2191612abce8f3223ad17bf62f31a = L.AwesomeMarkers.icon(\n",
       "                {&quot;extraClasses&quot;: &quot;fa-rotate-0&quot;, &quot;icon&quot;: &quot;info-sign&quot;, &quot;iconColor&quot;: &quot;white&quot;, &quot;markerColor&quot;: &quot;green&quot;, &quot;prefix&quot;: &quot;glyphicon&quot;}\n",
       "            );\n",
       "            marker_2f9b54bee9c549c7713b3c0abe124b45.setIcon(icon_c0e2191612abce8f3223ad17bf62f31a);\n",
       "        \n",
       "    \n",
       "        var popup_685dc10fe2c1793da48db9ceb0937450 = L.popup({&quot;maxWidth&quot;: &quot;100%&quot;});\n",
       "\n",
       "        \n",
       "            \n",
       "                var html_1169ceaa2d3936f7ea754a6b7fd9b641 = $(`&lt;div id=&quot;html_1169ceaa2d3936f7ea754a6b7fd9b641&quot; style=&quot;width: 100.0%; height: 100.0%;&quot;&gt;Portibi: 1 kasus, Tingkat Kerawanan: Aman&lt;/div&gt;`)[0];\n",
       "                popup_685dc10fe2c1793da48db9ceb0937450.setContent(html_1169ceaa2d3936f7ea754a6b7fd9b641);\n",
       "            \n",
       "        \n",
       "\n",
       "        marker_2f9b54bee9c549c7713b3c0abe124b45.bindPopup(popup_685dc10fe2c1793da48db9ceb0937450)\n",
       "        ;\n",
       "\n",
       "        \n",
       "    \n",
       "    \n",
       "            var marker_e420fd79106b3a5aceadf778ab502523 = L.marker(\n",
       "                [1.8957231, 99.7846397],\n",
       "                {}\n",
       "            ).addTo(map_edf421b182626f9c18b3cd155c8722ad);\n",
       "        \n",
       "    \n",
       "            var icon_d2ffed96757872c54e2ac58c4718ecb9 = L.AwesomeMarkers.icon(\n",
       "                {&quot;extraClasses&quot;: &quot;fa-rotate-0&quot;, &quot;icon&quot;: &quot;info-sign&quot;, &quot;iconColor&quot;: &quot;white&quot;, &quot;markerColor&quot;: &quot;green&quot;, &quot;prefix&quot;: &quot;glyphicon&quot;}\n",
       "            );\n",
       "            marker_e420fd79106b3a5aceadf778ab502523.setIcon(icon_d2ffed96757872c54e2ac58c4718ecb9);\n",
       "        \n",
       "    \n",
       "        var popup_be9023b1fd0334b836359c2701f96256 = L.popup({&quot;maxWidth&quot;: &quot;100%&quot;});\n",
       "\n",
       "        \n",
       "            \n",
       "                var html_bad9726efde7567b170f73deeb264067 = $(`&lt;div id=&quot;html_bad9726efde7567b170f73deeb264067&quot; style=&quot;width: 100.0%; height: 100.0%;&quot;&gt;Simangambat: 1 kasus, Tingkat Kerawanan: Aman&lt;/div&gt;`)[0];\n",
       "                popup_be9023b1fd0334b836359c2701f96256.setContent(html_bad9726efde7567b170f73deeb264067);\n",
       "            \n",
       "        \n",
       "\n",
       "        marker_e420fd79106b3a5aceadf778ab502523.bindPopup(popup_be9023b1fd0334b836359c2701f96256)\n",
       "        ;\n",
       "\n",
       "        \n",
       "    \n",
       "    \n",
       "            var marker_5eb975754678e0df01a1408ca1748f2c = L.marker(\n",
       "                [1.1896051, 99.99013],\n",
       "                {}\n",
       "            ).addTo(map_edf421b182626f9c18b3cd155c8722ad);\n",
       "        \n",
       "    \n",
       "            var icon_62a652b85579dbd02f874294b08ee330 = L.AwesomeMarkers.icon(\n",
       "                {&quot;extraClasses&quot;: &quot;fa-rotate-0&quot;, &quot;icon&quot;: &quot;info-sign&quot;, &quot;iconColor&quot;: &quot;white&quot;, &quot;markerColor&quot;: &quot;red&quot;, &quot;prefix&quot;: &quot;glyphicon&quot;}\n",
       "            );\n",
       "            marker_5eb975754678e0df01a1408ca1748f2c.setIcon(icon_62a652b85579dbd02f874294b08ee330);\n",
       "        \n",
       "    \n",
       "        var popup_64e6026a832926beed2b43651d13b6e3 = L.popup({&quot;maxWidth&quot;: &quot;100%&quot;});\n",
       "\n",
       "        \n",
       "            \n",
       "                var html_f9b1803eefa74f5654c458ae230a4f41 = $(`&lt;div id=&quot;html_f9b1803eefa74f5654c458ae230a4f41&quot; style=&quot;width: 100.0%; height: 100.0%;&quot;&gt;Ujung Batu: 1 kasus, Tingkat Kerawanan: Sangat Rawan&lt;/div&gt;`)[0];\n",
       "                popup_64e6026a832926beed2b43651d13b6e3.setContent(html_f9b1803eefa74f5654c458ae230a4f41);\n",
       "            \n",
       "        \n",
       "\n",
       "        marker_5eb975754678e0df01a1408ca1748f2c.bindPopup(popup_64e6026a832926beed2b43651d13b6e3)\n",
       "        ;\n",
       "\n",
       "        \n",
       "    \n",
       "&lt;/script&gt;\n",
       "&lt;/html&gt;\" style=\"position:absolute;width:100%;height:100%;left:0;top:0;border:none !important;\" allowfullscreen webkitallowfullscreen mozallowfullscreen></iframe></div></div>"
      ],
      "text/plain": [
       "<folium.folium.Map at 0x27982fa9e50>"
      ]
     },
     "metadata": {},
     "output_type": "display_data"
    },
    {
     "name": "stdout",
     "output_type": "stream",
     "text": [
      "Peta untuk tahun 2022\n"
     ]
    },
    {
     "name": "stderr",
     "output_type": "stream",
     "text": [
      "C:\\Users\\User\\AppData\\Local\\Temp\\ipykernel_1368\\1881671025.py:108: UserWarning:\n",
      "\n",
      "color argument of Icon should be one of: {'pink', 'orange', 'red', 'darkred', 'lightgreen', 'lightblue', 'beige', 'black', 'cadetblue', 'darkgreen', 'lightgray', 'blue', 'lightred', 'gray', 'white', 'darkpurple', 'purple', 'green', 'darkblue'}.\n",
      "\n"
     ]
    },
    {
     "data": {
      "text/html": [
       "<div style=\"width:100%;\"><div style=\"position:relative;width:100%;height:0;padding-bottom:60%;\"><span style=\"color:#565656\">Make this Notebook Trusted to load map: File -> Trust Notebook</span><iframe srcdoc=\"&lt;!DOCTYPE html&gt;\n",
       "&lt;html&gt;\n",
       "&lt;head&gt;\n",
       "    \n",
       "    &lt;meta http-equiv=&quot;content-type&quot; content=&quot;text/html; charset=UTF-8&quot; /&gt;\n",
       "    \n",
       "        &lt;script&gt;\n",
       "            L_NO_TOUCH = false;\n",
       "            L_DISABLE_3D = false;\n",
       "        &lt;/script&gt;\n",
       "    \n",
       "    &lt;style&gt;html, body {width: 100%;height: 100%;margin: 0;padding: 0;}&lt;/style&gt;\n",
       "    &lt;style&gt;#map {position:absolute;top:0;bottom:0;right:0;left:0;}&lt;/style&gt;\n",
       "    &lt;script src=&quot;https://cdn.jsdelivr.net/npm/leaflet@1.9.3/dist/leaflet.js&quot;&gt;&lt;/script&gt;\n",
       "    &lt;script src=&quot;https://code.jquery.com/jquery-3.7.1.min.js&quot;&gt;&lt;/script&gt;\n",
       "    &lt;script src=&quot;https://cdn.jsdelivr.net/npm/bootstrap@5.2.2/dist/js/bootstrap.bundle.min.js&quot;&gt;&lt;/script&gt;\n",
       "    &lt;script src=&quot;https://cdnjs.cloudflare.com/ajax/libs/Leaflet.awesome-markers/2.0.2/leaflet.awesome-markers.js&quot;&gt;&lt;/script&gt;\n",
       "    &lt;link rel=&quot;stylesheet&quot; href=&quot;https://cdn.jsdelivr.net/npm/leaflet@1.9.3/dist/leaflet.css&quot;/&gt;\n",
       "    &lt;link rel=&quot;stylesheet&quot; href=&quot;https://cdn.jsdelivr.net/npm/bootstrap@5.2.2/dist/css/bootstrap.min.css&quot;/&gt;\n",
       "    &lt;link rel=&quot;stylesheet&quot; href=&quot;https://netdna.bootstrapcdn.com/bootstrap/3.0.0/css/bootstrap.min.css&quot;/&gt;\n",
       "    &lt;link rel=&quot;stylesheet&quot; href=&quot;https://cdn.jsdelivr.net/npm/@fortawesome/fontawesome-free@6.2.0/css/all.min.css&quot;/&gt;\n",
       "    &lt;link rel=&quot;stylesheet&quot; href=&quot;https://cdnjs.cloudflare.com/ajax/libs/Leaflet.awesome-markers/2.0.2/leaflet.awesome-markers.css&quot;/&gt;\n",
       "    &lt;link rel=&quot;stylesheet&quot; href=&quot;https://cdn.jsdelivr.net/gh/python-visualization/folium/folium/templates/leaflet.awesome.rotate.min.css&quot;/&gt;\n",
       "    \n",
       "            &lt;meta name=&quot;viewport&quot; content=&quot;width=device-width,\n",
       "                initial-scale=1.0, maximum-scale=1.0, user-scalable=no&quot; /&gt;\n",
       "            &lt;style&gt;\n",
       "                #map_6948a8fc8bbd97df0c23a6f3f1059852 {\n",
       "                    position: relative;\n",
       "                    width: 100.0%;\n",
       "                    height: 100.0%;\n",
       "                    left: 0.0%;\n",
       "                    top: 0.0%;\n",
       "                }\n",
       "                .leaflet-container { font-size: 1rem; }\n",
       "            &lt;/style&gt;\n",
       "        \n",
       "&lt;/head&gt;\n",
       "&lt;body&gt;\n",
       "    \n",
       "    \n",
       "            &lt;div class=&quot;folium-map&quot; id=&quot;map_6948a8fc8bbd97df0c23a6f3f1059852&quot; &gt;&lt;/div&gt;\n",
       "        \n",
       "&lt;/body&gt;\n",
       "&lt;script&gt;\n",
       "    \n",
       "    \n",
       "            var map_6948a8fc8bbd97df0c23a6f3f1059852 = L.map(\n",
       "                &quot;map_6948a8fc8bbd97df0c23a6f3f1059852&quot;,\n",
       "                {\n",
       "                    center: [1.4099, 99.7092],\n",
       "                    crs: L.CRS.EPSG3857,\n",
       "                    zoom: 10,\n",
       "                    zoomControl: true,\n",
       "                    preferCanvas: false,\n",
       "                }\n",
       "            );\n",
       "\n",
       "            \n",
       "\n",
       "        \n",
       "    \n",
       "            var tile_layer_6a56de9b04c438af7003837a0a8cdd9a = L.tileLayer(\n",
       "                &quot;https://tile.openstreetmap.org/{z}/{x}/{y}.png&quot;,\n",
       "                {&quot;attribution&quot;: &quot;\\u0026copy; \\u003ca href=\\&quot;https://www.openstreetmap.org/copyright\\&quot;\\u003eOpenStreetMap\\u003c/a\\u003e contributors&quot;, &quot;detectRetina&quot;: false, &quot;maxNativeZoom&quot;: 19, &quot;maxZoom&quot;: 19, &quot;minZoom&quot;: 0, &quot;noWrap&quot;: false, &quot;opacity&quot;: 1, &quot;subdomains&quot;: &quot;abc&quot;, &quot;tms&quot;: false}\n",
       "            );\n",
       "        \n",
       "    \n",
       "            tile_layer_6a56de9b04c438af7003837a0a8cdd9a.addTo(map_6948a8fc8bbd97df0c23a6f3f1059852);\n",
       "        \n",
       "    \n",
       "            var marker_e15d309eb6a0360de7263452beb1c2e8 = L.marker(\n",
       "                [1.3166932, 99.4458336],\n",
       "                {}\n",
       "            ).addTo(map_6948a8fc8bbd97df0c23a6f3f1059852);\n",
       "        \n",
       "    \n",
       "            var icon_ad6ba9744c198a8f903a9357c0b0284f = L.AwesomeMarkers.icon(\n",
       "                {&quot;extraClasses&quot;: &quot;fa-rotate-0&quot;, &quot;icon&quot;: &quot;info-sign&quot;, &quot;iconColor&quot;: &quot;white&quot;, &quot;markerColor&quot;: &quot;yellow&quot;, &quot;prefix&quot;: &quot;glyphicon&quot;}\n",
       "            );\n",
       "            marker_e15d309eb6a0360de7263452beb1c2e8.setIcon(icon_ad6ba9744c198a8f903a9357c0b0284f);\n",
       "        \n",
       "    \n",
       "        var popup_a543b5880b33fc2fdba0e8ea35b9382f = L.popup({&quot;maxWidth&quot;: &quot;100%&quot;});\n",
       "\n",
       "        \n",
       "            \n",
       "                var html_a99e7ece68306ea6da8f9f201ad6d381 = $(`&lt;div id=&quot;html_a99e7ece68306ea6da8f9f201ad6d381&quot; style=&quot;width: 100.0%; height: 100.0%;&quot;&gt;Batang Onang: 1 kasus, Tingkat Kerawanan: Berpotensi Rawan&lt;/div&gt;`)[0];\n",
       "                popup_a543b5880b33fc2fdba0e8ea35b9382f.setContent(html_a99e7ece68306ea6da8f9f201ad6d381);\n",
       "            \n",
       "        \n",
       "\n",
       "        marker_e15d309eb6a0360de7263452beb1c2e8.bindPopup(popup_a543b5880b33fc2fdba0e8ea35b9382f)\n",
       "        ;\n",
       "\n",
       "        \n",
       "    \n",
       "    \n",
       "            var marker_981d6be3e373c692a4253f8d903c261b = L.marker(\n",
       "                [1.6577, 98.5525],\n",
       "                {}\n",
       "            ).addTo(map_6948a8fc8bbd97df0c23a6f3f1059852);\n",
       "        \n",
       "    \n",
       "            var icon_1befc7ce4b514ac03876cbcf9d70e342 = L.AwesomeMarkers.icon(\n",
       "                {&quot;extraClasses&quot;: &quot;fa-rotate-0&quot;, &quot;icon&quot;: &quot;info-sign&quot;, &quot;iconColor&quot;: &quot;white&quot;, &quot;markerColor&quot;: &quot;red&quot;, &quot;prefix&quot;: &quot;glyphicon&quot;}\n",
       "            );\n",
       "            marker_981d6be3e373c692a4253f8d903c261b.setIcon(icon_1befc7ce4b514ac03876cbcf9d70e342);\n",
       "        \n",
       "    \n",
       "        var popup_f697205a9ca7330b14b95c3983c6dba1 = L.popup({&quot;maxWidth&quot;: &quot;100%&quot;});\n",
       "\n",
       "        \n",
       "            \n",
       "                var html_dd834b6bc704be146177b82eaa4d2b85 = $(`&lt;div id=&quot;html_dd834b6bc704be146177b82eaa4d2b85&quot; style=&quot;width: 100.0%; height: 100.0%;&quot;&gt;Dolok: 1 kasus, Tingkat Kerawanan: Sangat Rawan&lt;/div&gt;`)[0];\n",
       "                popup_f697205a9ca7330b14b95c3983c6dba1.setContent(html_dd834b6bc704be146177b82eaa4d2b85);\n",
       "            \n",
       "        \n",
       "\n",
       "        marker_981d6be3e373c692a4253f8d903c261b.bindPopup(popup_f697205a9ca7330b14b95c3983c6dba1)\n",
       "        ;\n",
       "\n",
       "        \n",
       "    \n",
       "    \n",
       "            var marker_66f7d7594ecc8a4554cf71eacb0bd019 = L.marker(\n",
       "                [1.9700433, 99.5356889],\n",
       "                {}\n",
       "            ).addTo(map_6948a8fc8bbd97df0c23a6f3f1059852);\n",
       "        \n",
       "    \n",
       "            var icon_18422a81a8647a84e11285867ca60e68 = L.AwesomeMarkers.icon(\n",
       "                {&quot;extraClasses&quot;: &quot;fa-rotate-0&quot;, &quot;icon&quot;: &quot;info-sign&quot;, &quot;iconColor&quot;: &quot;white&quot;, &quot;markerColor&quot;: &quot;orange&quot;, &quot;prefix&quot;: &quot;glyphicon&quot;}\n",
       "            );\n",
       "            marker_66f7d7594ecc8a4554cf71eacb0bd019.setIcon(icon_18422a81a8647a84e11285867ca60e68);\n",
       "        \n",
       "    \n",
       "        var popup_6f34fe5f8d4f216a37807e0c3f6189ca = L.popup({&quot;maxWidth&quot;: &quot;100%&quot;});\n",
       "\n",
       "        \n",
       "            \n",
       "                var html_78e0906c1483d082d8bceb277c17e56f = $(`&lt;div id=&quot;html_78e0906c1483d082d8bceb277c17e56f&quot; style=&quot;width: 100.0%; height: 100.0%;&quot;&gt;Dolok Sigompulon: 1 kasus, Tingkat Kerawanan: Rawan&lt;/div&gt;`)[0];\n",
       "                popup_6f34fe5f8d4f216a37807e0c3f6189ca.setContent(html_78e0906c1483d082d8bceb277c17e56f);\n",
       "            \n",
       "        \n",
       "\n",
       "        marker_66f7d7594ecc8a4554cf71eacb0bd019.bindPopup(popup_6f34fe5f8d4f216a37807e0c3f6189ca)\n",
       "        ;\n",
       "\n",
       "        \n",
       "    \n",
       "    \n",
       "            var marker_fde10b8eac29d2775f9675a531e944ce = L.marker(\n",
       "                [1.6514398, 99.6593041],\n",
       "                {}\n",
       "            ).addTo(map_6948a8fc8bbd97df0c23a6f3f1059852);\n",
       "        \n",
       "    \n",
       "            var icon_67876adfff7a68c1a321da49001e4e39 = L.AwesomeMarkers.icon(\n",
       "                {&quot;extraClasses&quot;: &quot;fa-rotate-0&quot;, &quot;icon&quot;: &quot;info-sign&quot;, &quot;iconColor&quot;: &quot;white&quot;, &quot;markerColor&quot;: &quot;yellow&quot;, &quot;prefix&quot;: &quot;glyphicon&quot;}\n",
       "            );\n",
       "            marker_fde10b8eac29d2775f9675a531e944ce.setIcon(icon_67876adfff7a68c1a321da49001e4e39);\n",
       "        \n",
       "    \n",
       "        var popup_dd7d54862824d36714dbeeb140162e2e = L.popup({&quot;maxWidth&quot;: &quot;100%&quot;});\n",
       "\n",
       "        \n",
       "            \n",
       "                var html_2a8ae5d20ed0ea024be2cd4c95968d99 = $(`&lt;div id=&quot;html_2a8ae5d20ed0ea024be2cd4c95968d99&quot; style=&quot;width: 100.0%; height: 100.0%;&quot;&gt;Halongonan: 1 kasus, Tingkat Kerawanan: Berpotensi Rawan&lt;/div&gt;`)[0];\n",
       "                popup_dd7d54862824d36714dbeeb140162e2e.setContent(html_2a8ae5d20ed0ea024be2cd4c95968d99);\n",
       "            \n",
       "        \n",
       "\n",
       "        marker_fde10b8eac29d2775f9675a531e944ce.bindPopup(popup_dd7d54862824d36714dbeeb140162e2e)\n",
       "        ;\n",
       "\n",
       "        \n",
       "    \n",
       "    \n",
       "            var marker_9a944b24c37a955b66ff415a2a79e9f9 = L.marker(\n",
       "                [1.6373489, 99.4558203],\n",
       "                {}\n",
       "            ).addTo(map_6948a8fc8bbd97df0c23a6f3f1059852);\n",
       "        \n",
       "    \n",
       "            var icon_62e4acb24311d49aa1a62e48d9335df2 = L.AwesomeMarkers.icon(\n",
       "                {&quot;extraClasses&quot;: &quot;fa-rotate-0&quot;, &quot;icon&quot;: &quot;info-sign&quot;, &quot;iconColor&quot;: &quot;white&quot;, &quot;markerColor&quot;: &quot;red&quot;, &quot;prefix&quot;: &quot;glyphicon&quot;}\n",
       "            );\n",
       "            marker_9a944b24c37a955b66ff415a2a79e9f9.setIcon(icon_62e4acb24311d49aa1a62e48d9335df2);\n",
       "        \n",
       "    \n",
       "        var popup_88a313e443fd09dc75403122faae1dbe = L.popup({&quot;maxWidth&quot;: &quot;100%&quot;});\n",
       "\n",
       "        \n",
       "            \n",
       "                var html_8119ec55f915310060bb1ea5254e1899 = $(`&lt;div id=&quot;html_8119ec55f915310060bb1ea5254e1899&quot; style=&quot;width: 100.0%; height: 100.0%;&quot;&gt;Halongonan Timur: 1 kasus, Tingkat Kerawanan: Sangat Rawan&lt;/div&gt;`)[0];\n",
       "                popup_88a313e443fd09dc75403122faae1dbe.setContent(html_8119ec55f915310060bb1ea5254e1899);\n",
       "            \n",
       "        \n",
       "\n",
       "        marker_9a944b24c37a955b66ff415a2a79e9f9.bindPopup(popup_88a313e443fd09dc75403122faae1dbe)\n",
       "        ;\n",
       "\n",
       "        \n",
       "    \n",
       "    \n",
       "            var marker_f1670ca3ed8899a4e25f28e220e2c3d3 = L.marker(\n",
       "                [1.458091, 99.4268896],\n",
       "                {}\n",
       "            ).addTo(map_6948a8fc8bbd97df0c23a6f3f1059852);\n",
       "        \n",
       "    \n",
       "            var icon_4eb5f9e59d7c8b6438f3fbcc3cd85d79 = L.AwesomeMarkers.icon(\n",
       "                {&quot;extraClasses&quot;: &quot;fa-rotate-0&quot;, &quot;icon&quot;: &quot;info-sign&quot;, &quot;iconColor&quot;: &quot;white&quot;, &quot;markerColor&quot;: &quot;green&quot;, &quot;prefix&quot;: &quot;glyphicon&quot;}\n",
       "            );\n",
       "            marker_f1670ca3ed8899a4e25f28e220e2c3d3.setIcon(icon_4eb5f9e59d7c8b6438f3fbcc3cd85d79);\n",
       "        \n",
       "    \n",
       "        var popup_3dfbc846162b2717a9ce84cf15035635 = L.popup({&quot;maxWidth&quot;: &quot;100%&quot;});\n",
       "\n",
       "        \n",
       "            \n",
       "                var html_83434e9ecfb75953e0d34f4fcfb58f0c = $(`&lt;div id=&quot;html_83434e9ecfb75953e0d34f4fcfb58f0c&quot; style=&quot;width: 100.0%; height: 100.0%;&quot;&gt;Hulu Sihapas: 1 kasus, Tingkat Kerawanan: Aman&lt;/div&gt;`)[0];\n",
       "                popup_3dfbc846162b2717a9ce84cf15035635.setContent(html_83434e9ecfb75953e0d34f4fcfb58f0c);\n",
       "            \n",
       "        \n",
       "\n",
       "        marker_f1670ca3ed8899a4e25f28e220e2c3d3.bindPopup(popup_3dfbc846162b2717a9ce84cf15035635)\n",
       "        ;\n",
       "\n",
       "        \n",
       "    \n",
       "    \n",
       "            var marker_2081bfa97a5686e5cf44b7bebaaf7dd6 = L.marker(\n",
       "                [3.5685536, 98.7273622],\n",
       "                {}\n",
       "            ).addTo(map_6948a8fc8bbd97df0c23a6f3f1059852);\n",
       "        \n",
       "    \n",
       "            var icon_0cf25691f397b9e202237314abc3649c = L.AwesomeMarkers.icon(\n",
       "                {&quot;extraClasses&quot;: &quot;fa-rotate-0&quot;, &quot;icon&quot;: &quot;info-sign&quot;, &quot;iconColor&quot;: &quot;white&quot;, &quot;markerColor&quot;: &quot;green&quot;, &quot;prefix&quot;: &quot;glyphicon&quot;}\n",
       "            );\n",
       "            marker_2081bfa97a5686e5cf44b7bebaaf7dd6.setIcon(icon_0cf25691f397b9e202237314abc3649c);\n",
       "        \n",
       "    \n",
       "        var popup_451eb03df71f4830fe3ea30ec5f2f7ea = L.popup({&quot;maxWidth&quot;: &quot;100%&quot;});\n",
       "\n",
       "        \n",
       "            \n",
       "                var html_cfb67577e3626ecddfd581636838b745 = $(`&lt;div id=&quot;html_cfb67577e3626ecddfd581636838b745&quot; style=&quot;width: 100.0%; height: 100.0%;&quot;&gt;Padang Bolak: 1 kasus, Tingkat Kerawanan: Aman&lt;/div&gt;`)[0];\n",
       "                popup_451eb03df71f4830fe3ea30ec5f2f7ea.setContent(html_cfb67577e3626ecddfd581636838b745);\n",
       "            \n",
       "        \n",
       "\n",
       "        marker_2081bfa97a5686e5cf44b7bebaaf7dd6.bindPopup(popup_451eb03df71f4830fe3ea30ec5f2f7ea)\n",
       "        ;\n",
       "\n",
       "        \n",
       "    \n",
       "    \n",
       "            var marker_4c1c850982b6fd77141d37aaa2bc4b3d = L.marker(\n",
       "                [1.415091, 99.5576002],\n",
       "                {}\n",
       "            ).addTo(map_6948a8fc8bbd97df0c23a6f3f1059852);\n",
       "        \n",
       "    \n",
       "            var icon_c68f6bbe7455d1a74016ff112070c008 = L.AwesomeMarkers.icon(\n",
       "                {&quot;extraClasses&quot;: &quot;fa-rotate-0&quot;, &quot;icon&quot;: &quot;info-sign&quot;, &quot;iconColor&quot;: &quot;white&quot;, &quot;markerColor&quot;: &quot;yellow&quot;, &quot;prefix&quot;: &quot;glyphicon&quot;}\n",
       "            );\n",
       "            marker_4c1c850982b6fd77141d37aaa2bc4b3d.setIcon(icon_c68f6bbe7455d1a74016ff112070c008);\n",
       "        \n",
       "    \n",
       "        var popup_d4e933f78da97daf3b0d79caf8768cc7 = L.popup({&quot;maxWidth&quot;: &quot;100%&quot;});\n",
       "\n",
       "        \n",
       "            \n",
       "                var html_54cc3eac25db3e4322c7ff130f1e24de = $(`&lt;div id=&quot;html_54cc3eac25db3e4322c7ff130f1e24de&quot; style=&quot;width: 100.0%; height: 100.0%;&quot;&gt;Padang Bolak Julu: 1 kasus, Tingkat Kerawanan: Berpotensi Rawan&lt;/div&gt;`)[0];\n",
       "                popup_d4e933f78da97daf3b0d79caf8768cc7.setContent(html_54cc3eac25db3e4322c7ff130f1e24de);\n",
       "            \n",
       "        \n",
       "\n",
       "        marker_4c1c850982b6fd77141d37aaa2bc4b3d.bindPopup(popup_d4e933f78da97daf3b0d79caf8768cc7)\n",
       "        ;\n",
       "\n",
       "        \n",
       "    \n",
       "    \n",
       "            var marker_618d35c8649faee8facbb7f067ad3551 = L.marker(\n",
       "                [1.54001, 99.3234082],\n",
       "                {}\n",
       "            ).addTo(map_6948a8fc8bbd97df0c23a6f3f1059852);\n",
       "        \n",
       "    \n",
       "            var icon_e5079754d3ccffc639223ab9a00785be = L.AwesomeMarkers.icon(\n",
       "                {&quot;extraClasses&quot;: &quot;fa-rotate-0&quot;, &quot;icon&quot;: &quot;info-sign&quot;, &quot;iconColor&quot;: &quot;white&quot;, &quot;markerColor&quot;: &quot;yellow&quot;, &quot;prefix&quot;: &quot;glyphicon&quot;}\n",
       "            );\n",
       "            marker_618d35c8649faee8facbb7f067ad3551.setIcon(icon_e5079754d3ccffc639223ab9a00785be);\n",
       "        \n",
       "    \n",
       "        var popup_c9668a3304c84eac4ba43f0612f0546a = L.popup({&quot;maxWidth&quot;: &quot;100%&quot;});\n",
       "\n",
       "        \n",
       "            \n",
       "                var html_eac8e528045efae8eb9f7d4865f31f65 = $(`&lt;div id=&quot;html_eac8e528045efae8eb9f7d4865f31f65&quot; style=&quot;width: 100.0%; height: 100.0%;&quot;&gt;Padang Bolak Tenggara: 1 kasus, Tingkat Kerawanan: Berpotensi Rawan&lt;/div&gt;`)[0];\n",
       "                popup_c9668a3304c84eac4ba43f0612f0546a.setContent(html_eac8e528045efae8eb9f7d4865f31f65);\n",
       "            \n",
       "        \n",
       "\n",
       "        marker_618d35c8649faee8facbb7f067ad3551.bindPopup(popup_c9668a3304c84eac4ba43f0612f0546a)\n",
       "        ;\n",
       "\n",
       "        \n",
       "    \n",
       "    \n",
       "            var marker_7bc58642b55fd11ceefa6bb8894e4ac1 = L.marker(\n",
       "                [1.4375683, 99.7032047],\n",
       "                {}\n",
       "            ).addTo(map_6948a8fc8bbd97df0c23a6f3f1059852);\n",
       "        \n",
       "    \n",
       "            var icon_ef1d896810dcdb5d72754e590032e4cf = L.AwesomeMarkers.icon(\n",
       "                {&quot;extraClasses&quot;: &quot;fa-rotate-0&quot;, &quot;icon&quot;: &quot;info-sign&quot;, &quot;iconColor&quot;: &quot;white&quot;, &quot;markerColor&quot;: &quot;orange&quot;, &quot;prefix&quot;: &quot;glyphicon&quot;}\n",
       "            );\n",
       "            marker_7bc58642b55fd11ceefa6bb8894e4ac1.setIcon(icon_ef1d896810dcdb5d72754e590032e4cf);\n",
       "        \n",
       "    \n",
       "        var popup_959f0e7ba3b64edef52fd58430d89f72 = L.popup({&quot;maxWidth&quot;: &quot;100%&quot;});\n",
       "\n",
       "        \n",
       "            \n",
       "                var html_02612414de536af00bd7ce841fbed880 = $(`&lt;div id=&quot;html_02612414de536af00bd7ce841fbed880&quot; style=&quot;width: 100.0%; height: 100.0%;&quot;&gt;Portibi: 1 kasus, Tingkat Kerawanan: Rawan&lt;/div&gt;`)[0];\n",
       "                popup_959f0e7ba3b64edef52fd58430d89f72.setContent(html_02612414de536af00bd7ce841fbed880);\n",
       "            \n",
       "        \n",
       "\n",
       "        marker_7bc58642b55fd11ceefa6bb8894e4ac1.bindPopup(popup_959f0e7ba3b64edef52fd58430d89f72)\n",
       "        ;\n",
       "\n",
       "        \n",
       "    \n",
       "    \n",
       "            var marker_d51a58bea5875a0d429377400ddeaa97 = L.marker(\n",
       "                [1.8957231, 99.7846397],\n",
       "                {}\n",
       "            ).addTo(map_6948a8fc8bbd97df0c23a6f3f1059852);\n",
       "        \n",
       "    \n",
       "            var icon_f152560de33d8c994a05b2f0d71bbb4f = L.AwesomeMarkers.icon(\n",
       "                {&quot;extraClasses&quot;: &quot;fa-rotate-0&quot;, &quot;icon&quot;: &quot;info-sign&quot;, &quot;iconColor&quot;: &quot;white&quot;, &quot;markerColor&quot;: &quot;red&quot;, &quot;prefix&quot;: &quot;glyphicon&quot;}\n",
       "            );\n",
       "            marker_d51a58bea5875a0d429377400ddeaa97.setIcon(icon_f152560de33d8c994a05b2f0d71bbb4f);\n",
       "        \n",
       "    \n",
       "        var popup_3e72cb1a5599263560ad044e97d6e810 = L.popup({&quot;maxWidth&quot;: &quot;100%&quot;});\n",
       "\n",
       "        \n",
       "            \n",
       "                var html_0d1b6b3b66c86a875338a5c0308d225f = $(`&lt;div id=&quot;html_0d1b6b3b66c86a875338a5c0308d225f&quot; style=&quot;width: 100.0%; height: 100.0%;&quot;&gt;Simangambat: 1 kasus, Tingkat Kerawanan: Sangat Rawan&lt;/div&gt;`)[0];\n",
       "                popup_3e72cb1a5599263560ad044e97d6e810.setContent(html_0d1b6b3b66c86a875338a5c0308d225f);\n",
       "            \n",
       "        \n",
       "\n",
       "        marker_d51a58bea5875a0d429377400ddeaa97.bindPopup(popup_3e72cb1a5599263560ad044e97d6e810)\n",
       "        ;\n",
       "\n",
       "        \n",
       "    \n",
       "    \n",
       "            var marker_488bfb0d68107166677275a3d5e8b385 = L.marker(\n",
       "                [1.1896051, 99.99013],\n",
       "                {}\n",
       "            ).addTo(map_6948a8fc8bbd97df0c23a6f3f1059852);\n",
       "        \n",
       "    \n",
       "            var icon_f970cbac3e358662af2cd11a7b800d7f = L.AwesomeMarkers.icon(\n",
       "                {&quot;extraClasses&quot;: &quot;fa-rotate-0&quot;, &quot;icon&quot;: &quot;info-sign&quot;, &quot;iconColor&quot;: &quot;white&quot;, &quot;markerColor&quot;: &quot;red&quot;, &quot;prefix&quot;: &quot;glyphicon&quot;}\n",
       "            );\n",
       "            marker_488bfb0d68107166677275a3d5e8b385.setIcon(icon_f970cbac3e358662af2cd11a7b800d7f);\n",
       "        \n",
       "    \n",
       "        var popup_26bdfba4c3f05b0d8a0a283c23a87540 = L.popup({&quot;maxWidth&quot;: &quot;100%&quot;});\n",
       "\n",
       "        \n",
       "            \n",
       "                var html_a823513b6c3e9aee9305a9173b7e1a3c = $(`&lt;div id=&quot;html_a823513b6c3e9aee9305a9173b7e1a3c&quot; style=&quot;width: 100.0%; height: 100.0%;&quot;&gt;Ujung Batu: 1 kasus, Tingkat Kerawanan: Sangat Rawan&lt;/div&gt;`)[0];\n",
       "                popup_26bdfba4c3f05b0d8a0a283c23a87540.setContent(html_a823513b6c3e9aee9305a9173b7e1a3c);\n",
       "            \n",
       "        \n",
       "\n",
       "        marker_488bfb0d68107166677275a3d5e8b385.bindPopup(popup_26bdfba4c3f05b0d8a0a283c23a87540)\n",
       "        ;\n",
       "\n",
       "        \n",
       "    \n",
       "&lt;/script&gt;\n",
       "&lt;/html&gt;\" style=\"position:absolute;width:100%;height:100%;left:0;top:0;border:none !important;\" allowfullscreen webkitallowfullscreen mozallowfullscreen></iframe></div></div>"
      ],
      "text/plain": [
       "<folium.folium.Map at 0x27986c12190>"
      ]
     },
     "metadata": {},
     "output_type": "display_data"
    },
    {
     "name": "stdout",
     "output_type": "stream",
     "text": [
      "Peta untuk tahun 2023\n",
      "Analisis selesai. Semua peta telah ditampilkan.\n"
     ]
    }
   ],
   "source": [
    "import pandas as pd\n",
    "import numpy as np\n",
    "import folium\n",
    "from sklearn.cluster import KMeans\n",
    "from sklearn.preprocessing import StandardScaler\n",
    "from sklearn.metrics import silhouette_score\n",
    "from sklearn.impute import SimpleImputer\n",
    "from IPython.display import display\n",
    "\n",
    "# Koordinat kecamatan\n",
    "kecamatan_coords = {\n",
    "    \"Batang Onang\": [1.3166932, 99.4458336],\n",
    "    \"Dolok\": [1.6577, 98.5525],\n",
    "    \"Halongonan\": [1.6514398, 99.6593041],\n",
    "    \"Padang Bolak\": [3.5685536, 98.7273622],\n",
    "    \"Padang Bolak Julu\": [1.415091, 99.5576002],\n",
    "    \"Portibi\": [1.4375683, 99.7032047],\n",
    "    \"Simangambat\": [1.8957231, 99.7846397],\n",
    "    \"Ujung Batu\": [1.1896051, 99.99013],\n",
    "    \"Dolok Sigompulon\": [1.9700433, 99.5356889],\n",
    "    \"Halongonan Timur\": [1.6373489, 99.4558203],\n",
    "    \"Hulu Sihapas\": [1.458091, 99.4268896],\n",
    "    \"Padang Bolak Tenggara\": [1.54001, 99.3234082]\n",
    "}\n",
    "\n",
    "# Memuat data\n",
    "file_path = 'Data_Kecelakaan_Padang_Lawas_Utara.xlsx'\n",
    "df = pd.read_excel(file_path)\n",
    "\n",
    "# Pilih fitur yang relevan untuk clustering\n",
    "features = [\"Jumlah Kecelakaan\", \"Jumlah Meninggal\", \"Jumlah Luka Berat\", \"Jumlah Luka Ringan\"]\n",
    "X = df[features]\n",
    "\n",
    "# Menangani nilai yang hilang\n",
    "imputer = SimpleImputer(strategy='mean')\n",
    "X_imputed = imputer.fit_transform(X)\n",
    "\n",
    "# Normalisasi data\n",
    "scaler = StandardScaler()\n",
    "X_scaled = scaler.fit_transform(X_imputed)\n",
    "\n",
    "# Menentukan jumlah klaster optimal menggunakan silhouette score\n",
    "max_clusters = 10\n",
    "silhouette_scores = []\n",
    "\n",
    "for k in range(2, max_clusters + 1):\n",
    "    kmeans = KMeans(n_clusters=k, random_state=42, n_init=10)\n",
    "    cluster_labels = kmeans.fit_predict(X_scaled)\n",
    "    silhouette_avg = silhouette_score(X_scaled, cluster_labels)\n",
    "    silhouette_scores.append(silhouette_avg)\n",
    "\n",
    "optimal_clusters = silhouette_scores.index(max(silhouette_scores)) + 2\n",
    "print(f\"Jumlah klaster optimal: {optimal_clusters}\")\n",
    "\n",
    "# Terapkan K-Means clustering dengan jumlah klaster optimal\n",
    "kmeans = KMeans(n_clusters=optimal_clusters, random_state=42, n_init=10)\n",
    "df['Cluster'] = kmeans.fit_predict(X_scaled)\n",
    "\n",
    "# Memetakan klaster ke tingkat risiko secara dinamis\n",
    "cluster_centers = kmeans.cluster_centers_\n",
    "risk_order = np.argsort(np.sum(cluster_centers, axis=1))\n",
    "risk_levels = [\"Aman\", \"Berpotensi Rawan\", \"Rawan\", \"Sangat Rawan\"]\n",
    "cluster_map = {i: risk_levels[min(i, len(risk_levels)-1)] for i in range(optimal_clusters)}\n",
    "df['Tingkat Kerawanan'] = df['Cluster'].map(lambda x: cluster_map[risk_order[x]])\n",
    "\n",
    "# Menghitung kepentingan fitur\n",
    "feature_importance = np.abs(kmeans.cluster_centers_).mean(axis=0)\n",
    "for feature, importance in zip(features, feature_importance):\n",
    "    print(f\"{feature}: {importance:.4f}\")\n",
    "\n",
    "# Menambahkan koordinat ke DataFrame\n",
    "df['Coordinates'] = df['Kecamatan'].map(kecamatan_coords)\n",
    "\n",
    "# Hanya menyimpan baris yang memiliki koordinat yang valid\n",
    "df = df[df['Coordinates'].notna()]\n",
    "\n",
    "# Mengubah koordinat menjadi string untuk operasi groupby\n",
    "df['Coordinates_str'] = df['Coordinates'].astype(str)\n",
    "\n",
    "# Warna untuk setiap tingkat kerawanan\n",
    "color_map = {\n",
    "    \"Aman\": \"green\",\n",
    "    \"Berpotensi Rawan\": \"yellow\",\n",
    "    \"Rawan\": \"orange\",\n",
    "    \"Sangat Rawan\": \"red\"\n",
    "}\n",
    "\n",
    "# Loop melalui tahun 2019 hingga 2023\n",
    "for year in range(2019, 2024):\n",
    "    # Memfilter data untuk tahun yang sedang diproses\n",
    "    df_year = df[df['Tahun'] == year]\n",
    "    \n",
    "    # Mengelompokkan data berdasarkan kecamatan untuk tahun ini\n",
    "    severity_by_kecamatan = df_year.groupby(['Kecamatan', 'Tingkat Kerawanan', 'Coordinates_str']).size().reset_index(name='Jumlah')\n",
    "    \n",
    "    # Mengubah kembali koordinat ke list untuk pemetaan\n",
    "    severity_by_kecamatan['Coordinates'] = severity_by_kecamatan['Coordinates_str'].apply(eval)\n",
    "    \n",
    "    # Membuat peta dasar\n",
    "    m = folium.Map(location=[1.4099, 99.7092], zoom_start=10)\n",
    "    \n",
    "    # Menambahkan pin ke peta\n",
    "    for _, row in severity_by_kecamatan.iterrows():\n",
    "        coords = row['Coordinates']\n",
    "        folium.Marker(\n",
    "            location=coords,\n",
    "            popup=f\"{row['Kecamatan']}: {row['Jumlah']} kasus, Tingkat Kerawanan: {row['Tingkat Kerawanan']}\",\n",
    "            icon=folium.Icon(color=color_map[row['Tingkat Kerawanan']])\n",
    "        ).add_to(m)\n",
    "    \n",
    "    # Menampilkan peta di notebook\n",
    "    display(m)\n",
    "    print(f\"Peta untuk tahun {year}\")\n",
    "\n",
    "print(\"Analisis selesai. Semua peta telah ditampilkan.\")\n"
   ]
  }
 ],
 "metadata": {
  "kernelspec": {
   "display_name": "base",
   "language": "python",
   "name": "python3"
  },
  "language_info": {
   "codemirror_mode": {
    "name": "ipython",
    "version": 3
   },
   "file_extension": ".py",
   "mimetype": "text/x-python",
   "name": "python",
   "nbconvert_exporter": "python",
   "pygments_lexer": "ipython3",
   "version": "3.11.7"
  }
 },
 "nbformat": 4,
 "nbformat_minor": 2
}
